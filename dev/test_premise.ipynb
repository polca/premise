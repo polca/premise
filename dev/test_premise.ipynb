{
 "cells": [
  {
   "cell_type": "code",
   "execution_count": 12,
   "id": "df75ca49-bab1-486b-9a5e-4bf7e4259180",
   "metadata": {},
   "outputs": [],
   "source": [
    "from premise import *\n",
    "import bw2data, bw2io, bw2calc\n",
    "bw2data.projects.set_current(\"ecoinvent-3.11-cutoff\")"
   ]
  },
  {
   "cell_type": "code",
   "execution_count": 2,
   "id": "e3d4c5ba-96fb-4b8b-a30d-734a5d07bafe",
   "metadata": {},
   "outputs": [
    {
     "data": {
      "text/plain": [
       "Databases dictionary with 41 objects, including:\n",
       "\tHP test\n",
       "\tbiochar\n",
       "\tbiosphere3\n",
       "\tcdr 1\n",
       "\tecoinvent-3.11-cutoff\n",
       "\tei_cutoff_3.11_gcam_SSP2-Base_2025 2025-07-24\n",
       "\tei_cutoff_3.11_gcam_SSP2-RCP26_2035 2025-07-24\n",
       "\tei_cutoff_3.11_image_SSP2-M_2050 2025-07-24\n",
       "\tei_cutoff_3.11_image_SSP2-VLHO_2030_BAU 2025-07-27\n",
       "\tei_cutoff_3.11_image_SSP2-VLHO_2040 2025-05-26\n",
       "Use `list(this object)` to get the complete list."
      ]
     },
     "execution_count": 2,
     "metadata": {},
     "output_type": "execute_result"
    }
   ],
   "source": [
    "bw2data.databases"
   ]
  },
  {
   "cell_type": "code",
   "execution_count": 7,
   "id": "62f45be1-c761-44eb-a625-e310fc4e6131",
   "metadata": {},
   "outputs": [],
   "source": [
    "ei_acts = list(set([\n",
    "    (act[\"name\"], act[\"reference product\"])\n",
    "    for act in bw2data.Database(\"ecoinvent-3.11-cutoff\")\n",
    "]))"
   ]
  },
  {
   "cell_type": "code",
   "execution_count": 4,
   "id": "33e32421-51ee-4bc5-a18a-57664a23acab",
   "metadata": {},
   "outputs": [
    {
     "data": {
      "text/plain": [
       "11465"
      ]
     },
     "execution_count": 4,
     "metadata": {},
     "output_type": "execute_result"
    }
   ],
   "source": [
    "len(ei_acts)"
   ]
  },
  {
   "cell_type": "code",
   "execution_count": 6,
   "id": "b4d45417-3b57-47a5-8bf7-47255b10854e",
   "metadata": {},
   "outputs": [],
   "source": [
    "premise_acts = list(set([\n",
    "    (act[\"name\"], act[\"reference product\"])\n",
    "    for act in bw2data.Database(\"ei_cutoff_3.11_image_SSP2-VLHO_2040 2025-05-26\")\n",
    "]))"
   ]
  },
  {
   "cell_type": "code",
   "execution_count": 8,
   "id": "0a44dce7-81e1-4364-93db-372d9dd2e47e",
   "metadata": {},
   "outputs": [],
   "source": [
    "new_acts = [\n",
    "    act for act in premise_acts\n",
    "    if act not in ei_acts\n",
    "]"
   ]
  },
  {
   "cell_type": "code",
   "execution_count": 9,
   "id": "a9003659-3e1f-4b49-b789-f8d225a835d6",
   "metadata": {},
   "outputs": [
    {
     "data": {
      "text/plain": [
       "2181"
      ]
     },
     "execution_count": 9,
     "metadata": {},
     "output_type": "execute_result"
    }
   ],
   "source": [
    "len(new_acts)"
   ]
  },
  {
   "cell_type": "code",
   "execution_count": null,
   "id": "d3112144-903c-4e1a-844e-fc7e9c7b15ca",
   "metadata": {},
   "outputs": [],
   "source": [
    "for new in new_acts:\n",
    "    "
   ]
  },
  {
   "cell_type": "code",
   "execution_count": 11,
   "id": "9b5ad4f2-b9da-43d0-be88-0180fcea595b",
   "metadata": {},
   "outputs": [],
   "source": [
    "import pandas as pd\n",
    "\n",
    "pd.DataFrame(new_acts, columns=[\"name\", \"reference product\"]).to_excel(\"premise_LCIs.xlsx\")"
   ]
  },
  {
   "cell_type": "code",
   "execution_count": 2,
   "id": "3e65a09a-c080-4ff9-92bb-87959deaed11",
   "metadata": {},
   "outputs": [
    {
     "name": "stdout",
     "output_type": "stream",
     "text": [
      "Inventory cache cleared!\n"
     ]
    }
   ],
   "source": [
    "clear_inventory_cache()"
   ]
  },
  {
   "cell_type": "code",
   "execution_count": 14,
   "id": "186769fe-f212-4a6e-b2b5-93dc7bf0fd73",
   "metadata": {
    "scrolled": true,
    "tags": []
   },
   "outputs": [
    {
     "name": "stdout",
     "output_type": "stream",
     "text": [
      "Cannot find the IAM scenario file at /Users/romain/GitHub/premise/premise/data/iam_output_files/remind_SSP3-NPi. Will check online.\n",
      "Cannot find the IAM scenario file at /Users/romain/GitHub/premise/premise/data/iam_output_files/remind-eu_SSP2-NDC. Will check online.\n",
      "Cannot find the IAM scenario file at /Users/romain/GitHub/premise/premise/data/iam_output_files/remind_SSP3-PkBudg1000. Will check online.\n",
      "Cannot find the IAM scenario file at /Users/romain/GitHub/premise/premise/data/iam_output_files/remind-eu_SSP2-NPi. Will check online.\n",
      "Cannot find the IAM scenario file at /Users/romain/GitHub/premise/premise/data/iam_output_files/remind-eu_SSP2-PkBudg650. Will check online.\n",
      "Cannot find the IAM scenario file at /Users/romain/GitHub/premise/premise/data/iam_output_files/remind-eu_SSP2-PkBudg1000. Will check online.\n",
      "Cannot find the IAM scenario file at /Users/romain/GitHub/premise/premise/data/iam_output_files/image_SSP1-L. Will check online.\n",
      "Cannot find the IAM scenario file at /Users/romain/GitHub/premise/premise/data/iam_output_files/image_SSP1-Ma. Will check online.\n",
      "Cannot find the IAM scenario file at /Users/romain/GitHub/premise/premise/data/iam_output_files/image_SSP1-VLLO. Will check online.\n",
      "Cannot find the IAM scenario file at /Users/romain/GitHub/premise/premise/data/iam_output_files/image_SSP2-L. Will check online.\n",
      "Cannot find the IAM scenario file at /Users/romain/GitHub/premise/premise/data/iam_output_files/image_SSP2-M. Will check online.\n",
      "Cannot find the IAM scenario file at /Users/romain/GitHub/premise/premise/data/iam_output_files/image_SSP5-H. Will check online.\n",
      "Cannot find the IAM scenario file at /Users/romain/GitHub/premise/premise/data/iam_output_files/image_SSP3-H. Will check online.\n",
      "Cannot find the IAM scenario file at /Users/romain/GitHub/premise/premise/data/iam_output_files/tiam-ucl_SSP2-Base. Will check online.\n",
      "Cannot find the IAM scenario file at /Users/romain/GitHub/premise/premise/data/iam_output_files/tiam-ucl_SSP2-RCP26. Will check online.\n",
      "Cannot find the IAM scenario file at /Users/romain/GitHub/premise/premise/data/iam_output_files/tiam-ucl_SSP2-RCP45. Will check online.\n",
      "premise v.(2, 3, 0)\n",
      "+------------------------------------------------------------------+\n",
      "| Warning                                                          |\n",
      "+------------------------------------------------------------------+\n",
      "| Because some of the scenarios can yield LCI databases            |\n",
      "| containing net negative emission technologies (NET),             |\n",
      "| it is advised to account for biogenic CO2 flows when calculating |\n",
      "| Global Warming potential indicators.                             |\n",
      "| `premise_gwp` provides characterization factors for such flows.  |\n",
      "| It also provides factors for hydrogen emissions to air.          |\n",
      "|                                                                  |\n",
      "| Within your Brightway project:                                   |\n",
      "| from premise_gwp import add_premise_gwp                          |\n",
      "| add_premise_gwp()                                                |\n",
      "+------------------------------------------------------------------+\n",
      "+--------------------------------+----------------------------------+\n",
      "| Utils functions                | Description                      |\n",
      "+--------------------------------+----------------------------------+\n",
      "| clear_cache()                  | Clears the cache folder. Useful  |\n",
      "|                                | when updating `premise`or        |\n",
      "|                                | encountering issues with         |\n",
      "|                                | inventories.                     |\n",
      "| get_regions_definition(model)  | Retrieves the list of countries  |\n",
      "|                                | for each region of the model.    |\n",
      "| ndb.NewDatabase(...)           | Generates a summary of the most  |\n",
      "| ndb.generate_scenario_report() | important scenarios' variables.  |\n",
      "+--------------------------------+----------------------------------+\n",
      "Keep uncertainty data?\n",
      "NewDatabase(..., keep_source_db_uncertainty=True), keep_imports_uncertainty=True)\n",
      "\n",
      "Hide these messages?\n",
      "NewDatabase(..., quiet=True)\n",
      "- Extracting source database\n",
      "- Extracting inventories\n",
      "- Fetching IAM data\n",
      "Found file: remind_SSP1-NDC\n",
      "Reading remind_SSP1-NDC as CSV file\n",
      "Found file: remind_SSP1-NPi\n",
      "Reading remind_SSP1-NPi as CSV file\n",
      "Found file: remind_SSP1-PkBudg650\n",
      "Reading remind_SSP1-PkBudg650 as CSV file\n",
      "Found file: remind_SSP1-PkBudg1000\n",
      "Reading remind_SSP1-PkBudg1000 as CSV file\n",
      "Found file: remind_SSP2-rollBack\n",
      "Reading remind_SSP2-rollBack as CSV file\n",
      "Found file: remind_SSP2-NDC\n",
      "Reading remind_SSP2-NDC as CSV file\n",
      "Found file: remind_SSP2-NPi\n",
      "Reading remind_SSP2-NPi as CSV file\n",
      "Found file: remind_SSP2-PkBudg650\n",
      "Reading remind_SSP2-PkBudg650 as CSV file\n",
      "Found file: remind_SSP2-PkBudg1000\n",
      "Reading remind_SSP2-PkBudg1000 as CSV file\n",
      "Found file: remind_SSP3-rollBack\n",
      "Reading remind_SSP3-rollBack as CSV file\n",
      "Found file: remind_SSP3-NDC\n",
      "Reading remind_SSP3-NDC as CSV file\n",
      "remind_SSP3-NPi.csv not found locally. Downloading...\n"
     ]
    },
    {
     "name": "stderr",
     "output_type": "stream",
     "text": [
      "remind_SSP3-NPi.csv: 11.5MB [00:18, 619kB/s] \n"
     ]
    },
    {
     "name": "stdout",
     "output_type": "stream",
     "text": [
      "remind_SSP3-NPi.csv downloaded successfully.\n",
      "Reading remind_SSP3-NPi as CSV file\n",
      "remind-eu_SSP2-NDC.csv not found locally. Downloading...\n"
     ]
    },
    {
     "name": "stderr",
     "output_type": "stream",
     "text": [
      "remind-eu_SSP2-NDC.csv: 19.4MB [00:30, 626kB/s] \n"
     ]
    },
    {
     "name": "stdout",
     "output_type": "stream",
     "text": [
      "remind-eu_SSP2-NDC.csv downloaded successfully.\n",
      "Reading remind-eu_SSP2-NDC as CSV file\n",
      "remind_SSP3-PkBudg1000.csv not found locally. Downloading...\n"
     ]
    },
    {
     "name": "stderr",
     "output_type": "stream",
     "text": [
      "remind_SSP3-PkBudg1000.csv: 11.6MB [00:06, 1.82MB/s]\n"
     ]
    },
    {
     "name": "stdout",
     "output_type": "stream",
     "text": [
      "remind_SSP3-PkBudg1000.csv downloaded successfully.\n",
      "Reading remind_SSP3-PkBudg1000 as CSV file\n",
      "remind-eu_SSP2-NPi.csv not found locally. Downloading...\n"
     ]
    },
    {
     "name": "stderr",
     "output_type": "stream",
     "text": [
      "remind-eu_SSP2-NPi.csv: 19.5MB [00:16, 1.16MB/s]\n"
     ]
    },
    {
     "name": "stdout",
     "output_type": "stream",
     "text": [
      "remind-eu_SSP2-NPi.csv downloaded successfully.\n",
      "Reading remind-eu_SSP2-NPi as CSV file\n",
      "remind-eu_SSP2-PkBudg650.csv not found locally. Downloading...\n"
     ]
    },
    {
     "name": "stderr",
     "output_type": "stream",
     "text": [
      "remind-eu_SSP2-PkBudg650.csv: 19.8MB [00:14, 1.38MB/s]\n"
     ]
    },
    {
     "name": "stdout",
     "output_type": "stream",
     "text": [
      "remind-eu_SSP2-PkBudg650.csv downloaded successfully.\n",
      "Reading remind-eu_SSP2-PkBudg650 as CSV file\n",
      "remind-eu_SSP2-PkBudg1000.csv not found locally. Downloading...\n"
     ]
    },
    {
     "name": "stderr",
     "output_type": "stream",
     "text": [
      "remind-eu_SSP2-PkBudg1000.csv: 20.1MB [00:15, 1.32MB/s]\n"
     ]
    },
    {
     "name": "stdout",
     "output_type": "stream",
     "text": [
      "remind-eu_SSP2-PkBudg1000.csv downloaded successfully.\n",
      "Reading remind-eu_SSP2-PkBudg1000 as CSV file\n",
      "image_SSP1-L.csv not found locally. Downloading...\n"
     ]
    },
    {
     "name": "stderr",
     "output_type": "stream",
     "text": [
      "image_SSP1-L.csv: 8.10MB [00:04, 1.71MB/s]\n"
     ]
    },
    {
     "name": "stdout",
     "output_type": "stream",
     "text": [
      "image_SSP1-L.csv downloaded successfully.\n",
      "Reading image_SSP1-L as CSV file\n",
      "image_SSP1-Ma.csv not found locally. Downloading...\n"
     ]
    },
    {
     "name": "stderr",
     "output_type": "stream",
     "text": [
      "image_SSP1-Ma.csv: 8.01MB [02:26, 54.5kB/s]\n"
     ]
    },
    {
     "name": "stdout",
     "output_type": "stream",
     "text": [
      "image_SSP1-Ma.csv downloaded successfully.\n",
      "Reading image_SSP1-Ma as CSV file\n",
      "image_SSP1-VLLO.csv not found locally. Downloading...\n"
     ]
    },
    {
     "name": "stderr",
     "output_type": "stream",
     "text": [
      "image_SSP1-VLLO.csv: 8.19MB [00:09, 890kB/s] \n"
     ]
    },
    {
     "name": "stdout",
     "output_type": "stream",
     "text": [
      "image_SSP1-VLLO.csv downloaded successfully.\n",
      "Reading image_SSP1-VLLO as CSV file\n",
      "image_SSP2-L.csv not found locally. Downloading...\n"
     ]
    },
    {
     "name": "stderr",
     "output_type": "stream",
     "text": [
      "image_SSP2-L.csv: 8.15MB [00:05, 1.54MB/s]\n"
     ]
    },
    {
     "name": "stdout",
     "output_type": "stream",
     "text": [
      "image_SSP2-L.csv downloaded successfully.\n",
      "Reading image_SSP2-L as CSV file\n",
      "image_SSP2-M.csv not found locally. Downloading...\n"
     ]
    },
    {
     "name": "stderr",
     "output_type": "stream",
     "text": [
      "image_SSP2-M.csv: 7.98MB [00:03, 2.58MB/s]\n"
     ]
    },
    {
     "name": "stdout",
     "output_type": "stream",
     "text": [
      "image_SSP2-M.csv downloaded successfully.\n",
      "Reading image_SSP2-M as CSV file\n",
      "Found file: image_SSP2-VLHO\n",
      "Reading image_SSP2-VLHO as CSV file\n",
      "image_SSP5-H.csv not found locally. Downloading...\n"
     ]
    },
    {
     "name": "stderr",
     "output_type": "stream",
     "text": [
      "image_SSP5-H.csv: 8.02MB [00:03, 2.12MB/s]\n"
     ]
    },
    {
     "name": "stdout",
     "output_type": "stream",
     "text": [
      "image_SSP5-H.csv downloaded successfully.\n",
      "Reading image_SSP5-H as CSV file\n",
      "image_SSP3-H.csv not found locally. Downloading...\n"
     ]
    },
    {
     "name": "stderr",
     "output_type": "stream",
     "text": [
      "image_SSP3-H.csv: 7.96MB [00:03, 2.49MB/s]\n"
     ]
    },
    {
     "name": "stdout",
     "output_type": "stream",
     "text": [
      "image_SSP3-H.csv downloaded successfully.\n",
      "Reading image_SSP3-H as CSV file\n",
      "tiam-ucl_SSP2-Base.csv not found locally. Downloading...\n"
     ]
    },
    {
     "name": "stderr",
     "output_type": "stream",
     "text": [
      "tiam-ucl_SSP2-Base.csv: 2.49MB [00:01, 1.37MB/s]\n"
     ]
    },
    {
     "name": "stdout",
     "output_type": "stream",
     "text": [
      "tiam-ucl_SSP2-Base.csv downloaded successfully.\n",
      "Reading tiam-ucl_SSP2-Base as CSV file\n",
      "The following variables are missing from the IAM file: /Users/romain/GitHub/premise/premise/data/iam_output_files\n",
      "+-------------------------------------------------------------------+\n",
      "|                              Variable                             |\n",
      "+-------------------------------------------------------------------+\n",
      "| Final Energy|Transport|Truck|Light|Hydrogen Fuel Cell|Electricity |\n",
      "|     Final Energy|Transport|Car|Hydrogen Fuel Cell|Electricity     |\n",
      "+-------------------------------------------------------------------+\n",
      "Found file: tiam-ucl_SSP2-RCP19\n",
      "Reading tiam-ucl_SSP2-RCP19 as CSV file\n",
      "The following variables are missing from the IAM file: /Users/romain/GitHub/premise/premise/data/iam_output_files\n",
      "+-----------------------------------------------------------------+\n",
      "|                             Variable                            |\n",
      "+-----------------------------------------------------------------+\n",
      "|    Final Energy|Transport|Air|Domestic|Synthetic Jet Kerosene   |\n",
      "| Final Energy|Transport|Air|International|Synthetic Jet Kerosene |\n",
      "+-----------------------------------------------------------------+\n",
      "tiam-ucl_SSP2-RCP26.csv not found locally. Downloading...\n"
     ]
    },
    {
     "name": "stderr",
     "output_type": "stream",
     "text": [
      "tiam-ucl_SSP2-RCP26.csv: 2.49MB [00:01, 2.28MB/s]\n"
     ]
    },
    {
     "name": "stdout",
     "output_type": "stream",
     "text": [
      "tiam-ucl_SSP2-RCP26.csv downloaded successfully.\n",
      "Reading tiam-ucl_SSP2-RCP26 as CSV file\n",
      "The following variables are missing from the IAM file: /Users/romain/GitHub/premise/premise/data/iam_output_files\n",
      "+-------------------------------------------------------------------+\n",
      "|                              Variable                             |\n",
      "+-------------------------------------------------------------------+\n",
      "| Final Energy|Transport|Truck|Light|Hydrogen Fuel Cell|Electricity |\n",
      "|     Final Energy|Transport|Car|Hydrogen Fuel Cell|Electricity     |\n",
      "+-------------------------------------------------------------------+\n",
      "tiam-ucl_SSP2-RCP45.csv not found locally. Downloading...\n"
     ]
    },
    {
     "name": "stderr",
     "output_type": "stream",
     "text": [
      "tiam-ucl_SSP2-RCP45.csv: 2.51MB [00:01, 1.45MB/s]\n"
     ]
    },
    {
     "name": "stdout",
     "output_type": "stream",
     "text": [
      "tiam-ucl_SSP2-RCP45.csv downloaded successfully.\n",
      "Reading tiam-ucl_SSP2-RCP45 as CSV file\n",
      "Done!\n"
     ]
    }
   ],
   "source": [
    "scenarios = [\n",
    "    {\"model\": \"remind\", \"pathway\": \"SSP1-NDC\", \"year\": 2025,},\n",
    "    {\"model\": \"remind\", \"pathway\": \"SSP1-NPi\", \"year\": 2025,},\n",
    "    {\"model\": \"remind\", \"pathway\": \"SSP1-PkBudg650\", \"year\": 2025,},\n",
    "    {\"model\": \"remind\", \"pathway\": \"SSP1-PkBudg1000\", \"year\": 2025,},\n",
    "    {\"model\": \"remind\", \"pathway\": \"SSP2-rollBack\", \"year\": 2025,},\n",
    "    {\"model\": \"remind\", \"pathway\": \"SSP2-NDC\", \"year\": 2025,},\n",
    "    {\"model\": \"remind\", \"pathway\": \"SSP2-NPi\", \"year\": 2025,},\n",
    "    {\"model\": \"remind\", \"pathway\": \"SSP2-PkBudg650\", \"year\": 2025,},\n",
    "    {\"model\": \"remind\", \"pathway\": \"SSP2-PkBudg1000\", \"year\": 2025,},\n",
    "    {\"model\": \"remind\", \"pathway\": \"SSP3-rollBack\", \"year\": 2025,},\n",
    "    {\"model\": \"remind\", \"pathway\": \"SSP3-NDC\", \"year\": 2025,},\n",
    "    {\"model\": \"remind\", \"pathway\": \"SSP3-NPi\", \"year\": 2025,},\n",
    "    {\"model\": \"remind-eu\", \"pathway\": \"SSP2-NDC\", \"year\": 2025,},\n",
    "    {\"model\": \"remind\", \"pathway\": \"SSP3-PkBudg1000\", \"year\": 2025,},\n",
    "    {\"model\": \"remind-eu\", \"pathway\": \"SSP2-NPi\", \"year\": 2025,},\n",
    "    {\"model\": \"remind-eu\", \"pathway\": \"SSP2-PkBudg650\", \"year\": 2050,},\n",
    "    {\"model\": \"remind-eu\", \"pathway\": \"SSP2-PkBudg1000\", \"year\": 2025,},\n",
    "\n",
    "    {\"model\": \"image\", \"pathway\": \"SSP1-L\", \"year\": 2025,},\n",
    "    {\"model\": \"image\", \"pathway\": \"SSP1-Ma\", \"year\": 2025,},\n",
    "    {\"model\": \"image\", \"pathway\": \"SSP1-VLLO\", \"year\": 2025,},\n",
    "    {\"model\": \"image\", \"pathway\": \"SSP2-L\", \"year\": 2025,},\n",
    "    {\"model\": \"image\", \"pathway\": \"SSP2-M\", \"year\": 2025,},\n",
    "    {\"model\": \"image\", \"pathway\": \"SSP2-VLHO\", \"year\": 2025,},\n",
    "    {\"model\": \"image\", \"pathway\": \"SSP5-H\", \"year\": 2025,},\n",
    "    {\"model\": \"image\", \"pathway\": \"SSP3-H\", \"year\": 2025,},\n",
    "\n",
    "    {\"model\": \"tiam-ucl\", \"pathway\": \"SSP2-Base\", \"year\": 2050,},\n",
    "    {\"model\": \"tiam-ucl\", \"pathway\": \"SSP2-RCP19\", \"year\": 2025,},\n",
    "    {\"model\": \"tiam-ucl\", \"pathway\": \"SSP2-RCP26\", \"year\": 2025,},\n",
    "    {\"model\": \"tiam-ucl\", \"pathway\": \"SSP2-RCP45\", \"year\": 2025,},\n",
    "\n",
    "    #{\"model\": \"remind\", \"pathway\": \"SSP2-NPi\", \"year\": 2030,},\n",
    "    #{\"model\": \"remind\", \"pathway\": \"SSP2-NPi\", \"year\": 2035,},\n",
    "    #{\"model\": \"remind\", \"pathway\": \"SSP2-NPi\", \"year\": 2040,},\n",
    "    #{\"model\": \"remind\", \"pathway\": \"SSP2-NPi\", \"year\": 2045,},\n",
    "    #{\"model\": \"remind\", \"pathway\": \"SSP2-NPi\", \"year\": 2050,},\n",
    "    \n",
    "    #{\"model\": \"remind\", \"pathway\": \"SSP2-NDC\", \"year\": 2030,},\n",
    "    #{\"model\": \"remind\", \"pathway\": \"SSP2-NDC\", \"year\": 2035,},\n",
    "    #{\"model\": \"remind\", \"pathway\": \"SSP2-NDC\", \"year\": 2040,},\n",
    "    #{\"model\": \"remind\", \"pathway\": \"SSP2-NDC\", \"year\": 2045,},\n",
    "    #{\"model\": \"remind\", \"pathway\": \"SSP2-NDC\", \"year\": 2050,},\n",
    "\n",
    "    #{\"model\": \"remind\", \"pathway\": \"SSP2-rollBack\", \"year\": 2030,},\n",
    "    #{\"model\": \"remind\", \"pathway\": \"SSP2-rollBack\", \"year\": 2035,},\n",
    "    #{\"model\": \"remind\", \"pathway\": \"SSP2-rollBack\", \"year\": 2040,},\n",
    "    #{\"model\": \"remind\", \"pathway\": \"SSP2-rollBack\", \"year\": 2045,},\n",
    "    #{\"model\": \"remind\", \"pathway\": \"SSP2-rollBack\", \"year\": 2050,},\n",
    "]\n",
    "\n",
    "\n",
    "ndb = NewDatabase(\n",
    "        scenarios = scenarios,\n",
    "        source_db=\"ecoinvent-3.11-cutoff\",\n",
    "        source_version=\"3.11\",\n",
    "        key='tUePmX_S5B8ieZkkM7WUU2CnO8SmShwmAeWK9x2rTFo=',\n",
    "        biosphere_name=\"biosphere3\"\n",
    ")\n"
   ]
  },
  {
   "cell_type": "code",
   "execution_count": 15,
   "id": "d3406e74-8219-4cd0-8334-433836631627",
   "metadata": {},
   "outputs": [
    {
     "name": "stdout",
     "output_type": "stream",
     "text": [
      "Generate scenario report.\n",
      "Report saved under /Users/romain/GitHub/premise/dev/export/scenario_report.\n"
     ]
    }
   ],
   "source": [
    "ndb.generate_scenario_report()"
   ]
  },
  {
   "cell_type": "code",
   "execution_count": 4,
   "id": "0a826318-c7af-48f4-96de-e0408e0f0b03",
   "metadata": {},
   "outputs": [
    {
     "name": "stderr",
     "output_type": "stream",
     "text": [
      "Processing scenarios for all sectors: 100%|█| 3/3 [04:59<00:00, 99.98s"
     ]
    },
    {
     "name": "stdout",
     "output_type": "stream",
     "text": [
      "Done!\n",
      "\n"
     ]
    },
    {
     "name": "stderr",
     "output_type": "stream",
     "text": [
      "\n"
     ]
    }
   ],
   "source": [
    "ndb.update()"
   ]
  },
  {
   "cell_type": "code",
   "execution_count": 5,
   "id": "b159a3af-bed5-4b7b-937c-b29a48ca83c3",
   "metadata": {},
   "outputs": [
    {
     "name": "stdout",
     "output_type": "stream",
     "text": [
      "Running all checks...\n",
      "Minor anomalies found: check the change report.\n",
      "Running all checks...\n",
      "Minor anomalies found: check the change report.\n",
      "Running all checks...\n",
      "Minor anomalies found: check the change report.\n",
      "Building superstructure database...\n",
      "Dropped 20796 duplicate(s).\n",
      "Scenario difference file exported to /Users/romain/GitHub/premise/dev/export/scenario diff files!\n",
      "Running all checks...\n",
      "Minor anomalies found: check the change report.\n"
     ]
    },
    {
     "name": "stderr",
     "output_type": "stream",
     "text": [
      "Writing activities to SQLite3 database:\n",
      "0% [##############################] 100% | ETA: 00:00:00\n",
      "Total time elapsed: 00:00:35\n"
     ]
    },
    {
     "name": "stdout",
     "output_type": "stream",
     "text": [
      "Title: Writing activities to SQLite3 database:\n",
      "  Started: 10/11/2025 15:01:55\n",
      "  Finished: 10/11/2025 15:02:30\n",
      "  Total time elapsed: 00:00:35\n",
      "  CPU %: 76.90\n",
      "  Memory %: 23.07\n",
      "Created database: super_db_11-10-2025\n",
      "Generate scenario report.\n",
      "Report saved under /Users/romain/GitHub/premise/dev/export/scenario_report.\n",
      "Generate change report.\n",
      "Report saved under /Users/romain/GitHub/premise/dev/export/change reports/.\n"
     ]
    }
   ],
   "source": [
    "ndb.write_superstructure_db_to_brightway(preserve_original_column=True)"
   ]
  },
  {
   "cell_type": "code",
   "execution_count": null,
   "id": "b9d4740d-6226-4d2f-af65-bc1d8d498d2b",
   "metadata": {},
   "outputs": [],
   "source": []
  }
 ],
 "metadata": {
  "kernelspec": {
   "display_name": "Python 3 (ipykernel)",
   "language": "python",
   "name": "python3"
  },
  "language_info": {
   "codemirror_mode": {
    "name": "ipython",
    "version": 3
   },
   "file_extension": ".py",
   "mimetype": "text/x-python",
   "name": "python",
   "nbconvert_exporter": "python",
   "pygments_lexer": "ipython3",
   "version": "3.11.12"
  }
 },
 "nbformat": 4,
 "nbformat_minor": 5
}
