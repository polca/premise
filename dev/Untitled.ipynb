{
 "cells": [
  {
   "metadata": {
    "ExecuteTime": {
     "end_time": "2025-05-04T13:06:51.705927Z",
     "start_time": "2025-05-04T13:05:29.944275Z"
    }
   },
   "cell_type": "code",
   "source": [
    "%%time\n",
    "\n",
    "from premise import *\n",
    "import bw2data\n",
    "bw2data.projects.set_current(\"ecoinvent-3.10.1-cutoff\")\n",
    "#bw2data.projects.set_current(\"ecoinvent-3.9.1-cutoff_bw25\")\n",
    "# clear_inventory_cache()\n",
    "scenarios = [\n",
    "    #{\"model\": \"remind\", \"pathway\": \"SSP2-NPi\", \"year\": 2020},\n",
    "    #{\"model\": \"remind\", \"pathway\": \"SSP2-NPi\", \"year\": 2030},\n",
    "    #{\"model\": \"remind\", \"pathway\": \"SSP2-NPi\", \"year\": 2040},\n",
    "    #{\"model\": \"remind\", \"pathway\": \"SSP2-NPi\", \"year\": 2050},\n",
    "    #{\"model\": \"remind\", \"pathway\": \"SSP2-NPi\", \"year\": 2060},\n",
    "    #{\"model\": \"remind\", \"pathway\": \"SSP2-PkBudg1150\", \"year\": 2020},\n",
    "    #{\"model\": \"witch\", \"pathway\": \"SSP2-Base\", \"year\": 2050},\n",
    "    #{\"model\": \"witch\", \"pathway\": \"SSP2-PkBudg1150\", \"year\": 2050},\n",
    "    #{\"model\": \"image\", \"pathway\": \"SSP2-RCP26\", \"year\": 2030},\n",
    "    {\"model\": \"remind\", \"pathway\": \"SSP2-PkBudg1000\", \"year\": 2040},\n",
    "    #{\"model\": \"tiam-ucl\", \"pathway\": \"SSP2-RCP26\", \"year\": 2040},\n",
    "    #{\"model\": \"remind\", \"pathway\": \"SSP2-PkBudg650\", \"year\": 2060},\n",
    "    #{\"model\": \"remind\", \"pathway\": \"SSP2-rollBack\", \"year\": 2060},\n",
    "    #{\"model\": \"remind\", \"pathway\": \"SSP2-NDC\", \"year\": 2060},\n",
    "]\n",
    "\n",
    "ndb = NewDatabase(\n",
    "        scenarios=scenarios,\n",
    "        source_db=\"ecoinvent-3.10.1-cutoff\",\n",
    "        source_version=\"3.10\",\n",
    "        biosphere_name=\"biosphere3\",\n",
    "        key='tUePmX_S5B8ieZkkM7WUU2CnO8SmShwmAeWK9x2rTFo=',\n",
    ")\n",
    "#ndb.write_db_to_brightway(\"test final energy 2\")"
   ],
   "id": "385cbbd43298dc22",
   "outputs": [
    {
     "name": "stdout",
     "output_type": "stream",
     "text": [
      "premise v.(2, 3, 0, 'dev0')\n",
      "+------------------------------------------------------------------+\n",
      "| Warning                                                          |\n",
      "+------------------------------------------------------------------+\n",
      "| Because some of the scenarios can yield LCI databases            |\n",
      "| containing net negative emission technologies (NET),             |\n",
      "| it is advised to account for biogenic CO2 flows when calculating |\n",
      "| Global Warming potential indicators.                             |\n",
      "| `premise_gwp` provides characterization factors for such flows.  |\n",
      "| It also provides factors for hydrogen emissions to air.          |\n",
      "|                                                                  |\n",
      "| Within your bw2 project:                                         |\n",
      "| from premise_gwp import add_premise_gwp                          |\n",
      "| add_premise_gwp()                                                |\n",
      "+------------------------------------------------------------------+\n",
      "+--------------------------------+----------------------------------+\n",
      "| Utils functions                | Description                      |\n",
      "+--------------------------------+----------------------------------+\n",
      "| clear_cache()                  | Clears the cache folder. Useful  |\n",
      "|                                | when updating `premise`or        |\n",
      "|                                | encountering issues with         |\n",
      "|                                | inventories.                     |\n",
      "+--------------------------------+----------------------------------+\n",
      "| get_regions_definition(model)  | Retrieves the list of countries  |\n",
      "|                                | for each region of the model.    |\n",
      "+--------------------------------+----------------------------------+\n",
      "| ndb.NewDatabase(...)           | Generates a summary of the most  |\n",
      "| ndb.generate_scenario_report() | important scenarios' variables.  |\n",
      "+--------------------------------+----------------------------------+\n",
      "Keep uncertainty data?\n",
      "NewDatabase(..., keep_source_db_uncertainty=True), keep_imports_uncertainty=True)\n",
      "\n",
      "Hide these messages?\n",
      "NewDatabase(..., quiet=True)\n",
      "- Extracting source database\n",
      "- Extracting inventories\n",
      "- Fetching IAM data\n",
      "The following variables are missing from the IAM file:\n",
      "+--------------------------------------------+\n",
      "|                  Variable                  |\n",
      "+--------------------------------------------+\n",
      "| ES|Transport|Freight|Rail|Liquids|Hydrogen |\n",
      "+--------------------------------------------+\n",
      "The following variables are missing from the IAM file:\n",
      "+--------------------------------------------+\n",
      "|                  Variable                  |\n",
      "+--------------------------------------------+\n",
      "| ES|Transport|Freight|Rail|Liquids|Hydrogen |\n",
      "+--------------------------------------------+\n",
      "Done!\n",
      "CPU times: user 6.57 s, sys: 909 ms, total: 7.47 s\n",
      "Wall time: 1min 21s\n"
     ]
    }
   ],
   "execution_count": 2
  },
  {
   "metadata": {
    "ExecuteTime": {
     "end_time": "2025-05-04T13:10:34.123441Z",
     "start_time": "2025-05-04T13:06:51.721392Z"
    }
   },
   "cell_type": "code",
   "source": "ndb.update()",
   "id": "6096c35d6eac3d",
   "outputs": [
    {
     "name": "stderr",
     "output_type": "stream",
     "text": [
      "Processing scenarios for all sectors: 100%|█| 1/1 [03:42<00:00, 222.40"
     ]
    },
    {
     "name": "stdout",
     "output_type": "stream",
     "text": [
      "Done!\n",
      "\n"
     ]
    },
    {
     "name": "stderr",
     "output_type": "stream",
     "text": [
      "\n"
     ]
    }
   ],
   "execution_count": 3
  },
  {
   "metadata": {},
   "cell_type": "code",
   "outputs": [],
   "execution_count": null,
   "source": "ndb.generate_scenario_report()",
   "id": "8e299a81cb45172d"
  },
  {
   "metadata": {
    "ExecuteTime": {
     "end_time": "2025-05-04T13:13:21.341622Z",
     "start_time": "2025-05-04T13:10:34.280052Z"
    }
   },
   "cell_type": "code",
   "source": "ndb.write_db_to_brightway(\"test steel 3\")",
   "id": "3245b60293d2e9bc",
   "outputs": [
    {
     "name": "stdout",
     "output_type": "stream",
     "text": [
      "Write new database(s) to Brightway.\n",
      "Running all checks...\n",
      "Minor anomalies found: check the change report.\n",
      "Warning: No valid output stream.\n",
      "Title: Writing activities to SQLite3 database:\n",
      "  Started: 05/04/2025 15:11:12\n",
      "  Finished: 05/04/2025 15:11:40\n",
      "  Total time elapsed: 00:00:27\n",
      "  CPU %: 92.60\n",
      "  Memory %: 10.92\n",
      "Created database: test steel 3\n",
      "Generate scenario report.\n",
      "Report saved under /Users/romain/GitHub/premise/dev/export/scenario_report.\n",
      "Generate change report.\n",
      "Report saved under /Users/romain/GitHub/premise/dev.\n"
     ]
    }
   ],
   "execution_count": 4
  },
  {
   "metadata": {},
   "cell_type": "code",
   "outputs": [],
   "execution_count": null,
   "source": "ndb.scenarios[0][\"iam data\"].petrol_efficiencies.sel(region=\"eu27\", year=2050)",
   "id": "131379dc1736c94b"
  },
  {
   "metadata": {
    "ExecuteTime": {
     "end_time": "2025-05-04T12:17:54.345822Z",
     "start_time": "2025-05-04T12:17:49.688078Z"
    }
   },
   "cell_type": "code",
   "source": [
    "from premise.utils import load_database\n",
    "\n",
    "for scenario in ndb.scenarios:\n",
    "    scenario = load_database(scenario)"
   ],
   "id": "10bb1f032cdd920",
   "outputs": [],
   "execution_count": 3
  },
  {
   "metadata": {
    "ExecuteTime": {
     "end_time": "2025-05-04T12:18:12.999942Z",
     "start_time": "2025-05-04T12:18:12.404163Z"
    }
   },
   "cell_type": "code",
   "source": [
    "for ds in ndb.scenarios[0][\"database\"]:\n",
    "    for e in ds[\"exchanges\"]:\n",
    "        float(e[\"amount\"])"
   ],
   "id": "96673dc487d06324",
   "outputs": [],
   "execution_count": 4
  },
  {
   "metadata": {},
   "cell_type": "code",
   "outputs": [],
   "execution_count": null,
   "source": "ndb.scenarios[0][\"iam data\"].passenger_car_efficiencies.sel(region=\"india\")",
   "id": "7603a8e71d081811"
  },
  {
   "metadata": {},
   "cell_type": "code",
   "outputs": [],
   "execution_count": null,
   "source": [
    "expected_co2 = 0.0\n",
    "\n",
    "energy = sum(\n",
    "    [\n",
    "        exc[\"amount\"]\n",
    "        for exc in ds[\"exchanges\"]\n",
    "        if exc[\"unit\"] == \"megajoule\" and exc[\"type\"] == \"technosphere\"\n",
    "    ]\n",
    ")\n",
    "# add input of coal\n",
    "coal = sum(\n",
    "    [\n",
    "        exc[\"amount\"] * 26.4\n",
    "        for exc in ds[\"exchanges\"]\n",
    "        if \"hard coal\" in exc[\"name\"]\n",
    "        and exc[\"type\"] == \"technosphere\"\n",
    "        and exc[\"unit\"] == \"kilogram\"\n",
    "    ]\n",
    ")\n",
    "\n",
    "expected_co2 += coal * 0.098\n",
    "print(expected_co2)\n",
    "\n",
    "# add input of coal briquettes\n",
    "briquettes = sum(\n",
    "    [\n",
    "        exc[\"amount\"]\n",
    "        for exc in ds[\"exchanges\"]\n",
    "        if \"briquettes\" in exc[\"name\"]\n",
    "        and exc[\"type\"] == \"technosphere\"\n",
    "        and exc[\"unit\"] == \"megajoule\"\n",
    "    ]\n",
    ")\n",
    "\n",
    "expected_co2 += briquettes * 0.098\n",
    "print(expected_co2)\n",
    "\n",
    "# add input of natural gas\n",
    "nat_gas = sum(\n",
    "    [\n",
    "        exc[\"amount\"] * (36 if exc[\"unit\"] == \"cubic meter\" else 47.5)\n",
    "        for exc in ds[\"exchanges\"]\n",
    "        if \"natural gas\" in exc[\"name\"]\n",
    "        and exc[\"type\"] == \"technosphere\"\n",
    "        and exc[\"unit\"] in [\"cubic meter\", \"kilogram\"]\n",
    "    ]\n",
    ")\n",
    "\n",
    "expected_co2 += nat_gas * 0.06\n",
    "print(expected_co2)\n",
    "\n",
    "# add input of liquefied natural gas\n",
    "\n",
    "lpg = sum(\n",
    "    [\n",
    "        exc[\"amount\"] * (36 if exc[\"unit\"] == \"cubic meter\" else 47.5)\n",
    "        for exc in ds[\"exchanges\"]\n",
    "        if \"liquefied petroleum gas\" in exc[\"name\"]\n",
    "        and exc[\"type\"] == \"technosphere\"\n",
    "        and exc[\"unit\"] in [\"cubic meter\", \"kilogram\"]\n",
    "    ]\n",
    ")\n",
    "\n",
    "expected_co2 += lpg * 0.0631\n",
    "print(expected_co2)\n",
    "\n",
    "# add input of diesel\n",
    "diesel = sum(\n",
    "    [\n",
    "        exc[\"amount\"] * 42.6\n",
    "        for exc in ds[\"exchanges\"]\n",
    "        if \"diesel\" in exc[\"name\"]\n",
    "        and exc[\"type\"] == \"technosphere\"\n",
    "        and exc[\"unit\"] == \"kilogram\"\n",
    "    ]\n",
    ")\n",
    "\n",
    "expected_co2 += diesel * 0.0732\n",
    "print(expected_co2)\n",
    "\n",
    "# add input of light fuel oil\n",
    "light_fue_oil = sum(\n",
    "    [\n",
    "        exc[\"amount\"] * 41.8\n",
    "        for exc in ds[\"exchanges\"]\n",
    "        if \"light fuel oil\" in exc[\"name\"]\n",
    "        and exc[\"type\"] == \"technosphere\"\n",
    "        and exc[\"unit\"] == \"kilogram\"\n",
    "    ]\n",
    ")\n",
    "\n",
    "expected_co2 += light_fue_oil * 0.0686\n",
    "print(expected_co2)\n",
    "\n",
    "# add input of heavy fuel oil\n",
    "heavy_fuel_oil = sum(\n",
    "    [\n",
    "        exc[\"amount\"] * 41.8\n",
    "        for exc in ds[\"exchanges\"]\n",
    "        if \"heavy fuel oil\" in exc[\"name\"]\n",
    "        and exc[\"type\"] == \"technosphere\"\n",
    "        and exc[\"unit\"] == \"kilogram\"\n",
    "    ]\n",
    ")\n",
    "\n",
    "expected_co2 += heavy_fuel_oil * 0.0739\n",
    "print(expected_co2)\n",
    "\n",
    "# add input of biomass\n",
    "biomass = sum(\n",
    "    [\n",
    "        exc[\"amount\"] * 18\n",
    "        for exc in ds[\"exchanges\"]\n",
    "        if any(x in exc[\"name\"] for x in [\"biomass\", \"wood\", \"timber\"])\n",
    "        and exc[\"type\"] == \"technosphere\"\n",
    "        and exc[\"unit\"] == \"kilogram\"\n",
    "    ]\n",
    ")\n",
    "\n",
    "expected_co2 += biomass * 0.112\n",
    "print(expected_co2)\n",
    "\n",
    "# add input of methane\n",
    "methane = sum(\n",
    "    [\n",
    "        exc[\"amount\"] * (36 if exc[\"unit\"] == \"cubic meter\" else 47.5)\n",
    "        for exc in ds[\"exchanges\"]\n",
    "        if \"methane\" in exc[\"name\"]\n",
    "        and exc[\"type\"] == \"technosphere\"\n",
    "        and exc[\"unit\"] in [\"kilogram\", \"cubic meter\"]\n",
    "    ]\n",
    ")\n",
    "\n",
    "expected_co2 += methane * 0.06\n",
    "print(expected_co2)\n",
    "\n",
    "# add input of biogas\n",
    "biogas = sum(\n",
    "    [\n",
    "        exc[\"amount\"] * 22.7\n",
    "        for exc in ds[\"exchanges\"]\n",
    "        if \"biogas\" in exc[\"name\"]\n",
    "        and exc[\"type\"] == \"technosphere\"\n",
    "        and exc[\"unit\"] == \"cubic meter\"\n",
    "    ]\n",
    ")\n",
    "\n",
    "expected_co2 += biogas * 0.058\n",
    "print(expected_co2)\n",
    "\n",
    "# add input of methanol\n",
    "methanol = sum(\n",
    "    [\n",
    "        exc[\"amount\"] * 20\n",
    "        for exc in ds[\"exchanges\"]\n",
    "        if \"methanol\" in exc[\"name\"]\n",
    "        and exc[\"type\"] == \"technosphere\"\n",
    "        and exc[\"unit\"] == \"kilogram\"\n",
    "    ]\n",
    ")\n",
    "\n",
    "expected_co2 += methanol * 0.069\n",
    "print(expected_co2)\n",
    "\n",
    "# add input of hydrogen\n",
    "hydrogen = sum(\n",
    "    [\n",
    "        exc[\"amount\"] * 120\n",
    "        for exc in ds[\"exchanges\"]\n",
    "        if \"hydrogen\" in exc[\"name\"]\n",
    "        and exc[\"type\"] == \"technosphere\"\n",
    "        and exc[\"unit\"] == \"kilogram\"\n",
    "    ]\n",
    ")\n",
    "\n",
    "# add input of electricity\n",
    "electricity = sum(\n",
    "    [\n",
    "        exc[\"amount\"] * 3.6\n",
    "        for exc in ds[\"exchanges\"]\n",
    "        if \"electricity\" in exc[\"name\"]\n",
    "        and exc[\"type\"] == \"technosphere\"\n",
    "        and exc[\"unit\"] == \"kilowatt hour\"\n",
    "    ]\n",
    ")\n",
    "\n",
    "energy_input = sum(\n",
    "    [\n",
    "        energy,\n",
    "        coal,\n",
    "        briquettes,\n",
    "        nat_gas,\n",
    "        lpg,\n",
    "        diesel,\n",
    "        light_fue_oil,\n",
    "        heavy_fuel_oil,\n",
    "        biomass,\n",
    "        methane,\n",
    "        biogas,\n",
    "        hydrogen,\n",
    "        methanol,\n",
    "        electricity,\n",
    "    ]\n",
    ")"
   ],
   "id": "6d5bd367269506d3"
  },
  {
   "metadata": {},
   "cell_type": "code",
   "outputs": [],
   "execution_count": null,
   "source": [
    "[\n",
    "        exc\n",
    "        for exc in ds[\"exchanges\"]\n",
    "        if any(x in exc[\"name\"] for x in [\"biomass\", \"wood\", \"timber\"])\n",
    "        and exc[\"type\"] == \"technosphere\"\n",
    "        and exc[\"unit\"] == \"kilogram\"\n",
    "    ]"
   ],
   "id": "7bd28b00f5f5392"
  },
  {
   "metadata": {},
   "cell_type": "code",
   "outputs": [],
   "execution_count": null,
   "source": "ndb.scenarios[0][\"iam data\"].biomass_mix.sel(region=\"canada\", year=2050)",
   "id": "853ca47a3fbaa431"
  },
  {
   "metadata": {},
   "cell_type": "code",
   "outputs": [],
   "execution_count": null,
   "source": [
    "bw2data.projects.set_current(\"ecoinvent-3.9.1-cutoff_bw25\")\n",
    "bw2data.databases"
   ],
   "id": "7d9fb2546c6e962a"
  },
  {
   "metadata": {},
   "cell_type": "code",
   "outputs": [],
   "execution_count": null,
   "source": "ndb.generate_scenario_report()",
   "id": "974a81ed0554eb61"
  },
  {
   "metadata": {},
   "cell_type": "code",
   "outputs": [],
   "execution_count": null,
   "source": "ndb.scenarios[0][\"iam data\"].daccs_energy_use",
   "id": "77294127c8e5d2af"
  },
  {
   "metadata": {},
   "cell_type": "code",
   "outputs": [],
   "execution_count": null,
   "source": [
    "ndb.update([\n",
    "    #\"fuels\",\n",
    "    \"heat\",\n",
    "    \"final energy\"\n",
    "])"
   ],
   "id": "7e919ed98a057ff4"
  },
  {
   "metadata": {},
   "cell_type": "code",
   "outputs": [],
   "execution_count": null,
   "source": "ndb.write_db_to_brightway(\"heat test 1\")",
   "id": "a8288fb700182251"
  },
  {
   "metadata": {},
   "cell_type": "code",
   "outputs": [],
   "execution_count": null,
   "source": "ndb.write_superstructure_db_to_brightway(\"heat test 1\")",
   "id": "1a2f121af17a1940"
  },
  {
   "metadata": {},
   "cell_type": "code",
   "outputs": [],
   "execution_count": null,
   "source": [
    "from premise.utils import load_database\n",
    "\n",
    "for scenario in ndb.scenarios:\n",
    "    scenario = load_database(scenario)\n",
    "\n",
    "\n",
    "for scenario in ndb.scenarios:\n",
    "    for ds in scenario[\"database\"]:\n",
    "        if ds[\"name\"] == \"biodiesel, burned in passenger train\" and ds[\"location\"] == \"LAM\":\n",
    "            for e in ds[\"exchanges\"]:\n",
    "                    print(e[\"name\"], e[\"amount\"])"
   ],
   "id": "202bbe6742448c94"
  },
  {
   "metadata": {},
   "cell_type": "code",
   "outputs": [],
   "execution_count": null,
   "source": "ndb.scenarios[0][\"iam data\"].buildings_heating_mix.sel(region=\"CAZ\")",
   "id": "7eafab26864ad499"
  },
  {
   "metadata": {},
   "cell_type": "code",
   "outputs": [],
   "execution_count": null,
   "source": [
    "ndb.update(\n",
    "    [\n",
    "        #\"electricity\",\n",
    "        #\"dac\",\n",
    "        #\"fuels\",\n",
    "        \"heat\",\n",
    "        #\"final energy\"\n",
    "    ]\n",
    ")"
   ],
   "id": "524ba3344b80c2b6"
  },
  {
   "metadata": {},
   "cell_type": "code",
   "outputs": [],
   "execution_count": null,
   "source": "ndb.generate_scenario_report()",
   "id": "d3dd09b526bf1f82"
  },
  {
   "metadata": {},
   "cell_type": "code",
   "outputs": [],
   "execution_count": null,
   "source": "ndb.write_db_to_brightway(\"test final energy 12\")",
   "id": "88c93471cd553c7d"
  },
  {
   "metadata": {},
   "cell_type": "code",
   "outputs": [],
   "execution_count": null,
   "source": [
    "import copy\n",
    "import json\n",
    "import ujson\n",
    "import pickle"
   ],
   "id": "5071d79546324033"
  },
  {
   "metadata": {},
   "cell_type": "code",
   "outputs": [],
   "execution_count": null,
   "source": [
    "%%time\n",
    "\n",
    "data = pickle.dumps(ndb.database, -1)\n",
    "db = pickle.loads(data)"
   ],
   "id": "5eb53be8a6f23a38"
  },
  {
   "metadata": {},
   "cell_type": "code",
   "outputs": [],
   "execution_count": null,
   "source": [
    "%%time\n",
    "\n",
    "json_data = ujson.dumps(ndb.database)\n",
    "db = ujson.loads(json_data)"
   ],
   "id": "b28016159b90f5d"
  },
  {
   "metadata": {},
   "cell_type": "code",
   "outputs": [],
   "execution_count": null,
   "source": [
    "%%time\n",
    "\n",
    "json_data = json.dumps(ndb.database)\n",
    "db = json.loads(json_data)"
   ],
   "id": "1c450a254f60e4c2"
  },
  {
   "metadata": {},
   "cell_type": "code",
   "outputs": [],
   "execution_count": null,
   "source": [
    "%%time\n",
    "\n",
    "db = copy.deepcopy(ndb.database)"
   ],
   "id": "8a71e64160723b7f"
  },
  {
   "metadata": {},
   "cell_type": "code",
   "outputs": [],
   "execution_count": null,
   "source": "ndb.update()",
   "id": "803ad19683f73306"
  },
  {
   "metadata": {},
   "cell_type": "code",
   "outputs": [],
   "execution_count": null,
   "source": [
    "for ds in ndb.scenarios[0][\"database\"]:\n",
    "    if ds[\"name\"] == \"market for petrol, low-sulfur, 20-year period\" and ds[\"location\"] == \"WEU\":\n",
    "        for e in ds[\"exchanges\"]:\n",
    "            print(e[\"name\"], e[\"amount\"])"
   ],
   "id": "4bf7002bded25fc0"
  },
  {
   "metadata": {},
   "cell_type": "code",
   "outputs": [],
   "execution_count": null,
   "source": "ndb.write_db_to_brightway()",
   "id": "46ffa09344849b36"
  },
  {
   "metadata": {},
   "cell_type": "code",
   "outputs": [],
   "execution_count": null,
   "source": [
    "import pandas as pd\n",
    "fp = \"/Users/romain/GitHub/carculator_utils/carculator_utils/data/emission_factors/car/EF_HBEFA42_exhaust.csv\"\n",
    "df = pd.read_csv(fp)"
   ],
   "id": "b4d6c662caec731"
  },
  {
   "metadata": {},
   "cell_type": "code",
   "outputs": [],
   "execution_count": null,
   "source": "df.loc[df[\"euro_class\"]==6.2]",
   "id": "ec5b169a919cf6cd"
  },
  {
   "metadata": {},
   "cell_type": "code",
   "outputs": [],
   "execution_count": null,
   "source": [
    "import pandas as pd\n",
    "fp = \"/Users/romain/GitHub/premise/premise/data/iam_output_files/fleet_files/image_fleet_trucks.csv\"\n",
    "fp_out = \"/Users/romain/GitHub/premise/premise/data/iam_output_files/fleet_files/image_fleet_trucks_.csv\"\n",
    "df = pd.read_csv(fp, sep=\",\")"
   ],
   "id": "7a3199ee79224d44"
  },
  {
   "metadata": {},
   "cell_type": "code",
   "outputs": [],
   "execution_count": null,
   "source": "df",
   "id": "94ed0323dc079ff4"
  },
  {
   "metadata": {},
   "cell_type": "code",
   "outputs": [],
   "execution_count": null,
   "source": "df.groupby([\"year\", \"region\", \"powertrain\", \"size\"]).sum().to_csv(fp_out)",
   "id": "e871aa6d3cf026b3"
  },
  {
   "metadata": {},
   "cell_type": "code",
   "outputs": [],
   "execution_count": null,
   "source": [
    "from bw2io import ExcelImporter\n",
    "import bw2data\n",
    "\n",
    "bw2data.projects.set_current(\"new4\")\n",
    "fp = \"/Users/romain/GitHub/premise/premise/data/additional_inventories/lci-pass_cars.xlsx\"\n",
    "\n",
    "i = ExcelImporter(fp)"
   ],
   "id": "3df3b2cd643021a0"
  },
  {
   "metadata": {},
   "cell_type": "code",
   "outputs": [],
   "execution_count": null,
   "source": "i.apply_strategies()",
   "id": "3979959ceb49433"
  },
  {
   "metadata": {},
   "cell_type": "code",
   "outputs": [],
   "execution_count": null,
   "source": "bw2data.databases",
   "id": "aef43528a88126f1"
  },
  {
   "metadata": {},
   "cell_type": "code",
   "outputs": [],
   "execution_count": null,
   "source": [
    "i.match_database(fields=[\"name\", \"reference product\", \"location\"])\n",
    "i.match_database(\"ecoinvent 3.7 cutoff\", fields=[\"name\", \"reference product\", \"location\"])\n",
    "i.match_database(\"biosphere3\", fields=[\"name\", \"categories\",])"
   ],
   "id": "e9d990b5c74b357a"
  },
  {
   "metadata": {},
   "cell_type": "code",
   "outputs": [],
   "execution_count": null,
   "source": "i.statistics()",
   "id": "a96f35b910afe5e0"
  },
  {
   "metadata": {},
   "cell_type": "code",
   "outputs": [],
   "execution_count": null,
   "source": "list(i.unlinked)",
   "id": "1a92ad657ba1e7ea"
  },
  {
   "metadata": {},
   "cell_type": "code",
   "outputs": [],
   "execution_count": null,
   "source": "i.write_excel()",
   "id": "bde98d2501c2a12e"
  },
  {
   "metadata": {},
   "cell_type": "code",
   "outputs": [],
   "execution_count": null,
   "source": "ndb.write_db_to_brightway(\"test batt\")",
   "id": "dcbba9f26a414f95"
  },
  {
   "metadata": {},
   "cell_type": "code",
   "outputs": [],
   "execution_count": null,
   "source": "ndb.update()",
   "id": "75f04ed0f06a640c"
  },
  {
   "metadata": {},
   "cell_type": "code",
   "outputs": [],
   "execution_count": null,
   "source": "ndb.write_db_to_brightway(\"test13\")",
   "id": "f28e3831682d9b15"
  },
  {
   "metadata": {},
   "cell_type": "code",
   "outputs": [],
   "execution_count": null,
   "source": [
    "for ds in ndb.database:\n",
    "    if ds[\"reference product\"] == \"biogas\" and \"market for\" not in ds[\"name\"]:\n",
    "        print(ds[\"location\"])\n",
    "        for e in ds[\"exchanges\"]:\n",
    "            print(e[\"name\"], e[\"amount\"])\n",
    "        print()"
   ],
   "id": "722cfa5ff851f04b"
  },
  {
   "metadata": {},
   "cell_type": "code",
   "outputs": [],
   "execution_count": null,
   "source": "ndb.write_db_to_brightway(\"test8\")",
   "id": "e2135b1e0a7b42fa"
  },
  {
   "metadata": {},
   "cell_type": "code",
   "outputs": [],
   "execution_count": null,
   "source": "bw2data.",
   "id": "3c4fe43c06daa42b"
  },
  {
   "metadata": {},
   "cell_type": "code",
   "outputs": [],
   "execution_count": null,
   "source": [
    "FU = [\n",
    "    {a: 1} for a in\n",
    "    bw2data.Database(\"ecoinvent_cutoff_3.9_image_SSP2-Base_2050\")\n",
    "    if a[\"name\"].startswith(\"electricity production\") and a[\"unit\"] == \"kilowatt hour\"\n",
    "]\n",
    "\n",
    "print(len(FU))\n",
    "\n",
    "list_meth = [\n",
    "    ('IPCC 2021', 'climate change', 'GWP 100a, incl. H'),\n",
    "    ('IPCC 2021', 'climate change', 'GWP 100a, incl. H and bio CO2')\n",
    "]\n",
    "import bw2calc\n",
    "bw2data.calculation_setups['multiLCA'] = {'inv': FU, 'ia': list_meth}\n",
    "myMultiLCA = bw2calc.MultiLCA('multiLCA')\n",
    "df_impact_exc = pd.DataFrame(columns = [\", \".join(i) for i in list_meth],\n",
    "     data = myMultiLCA.results,\n",
    "     index=[k[\"name\"] + \", \" + k[\"location\"] for i in FU for k in i]\n",
    ")"
   ],
   "id": "9b32b8eeaae02b34"
  },
  {
   "metadata": {},
   "cell_type": "code",
   "outputs": [],
   "execution_count": null,
   "source": "ndb.update_steel()",
   "id": "dbe55e9532a7053e"
  },
  {
   "metadata": {},
   "cell_type": "code",
   "outputs": [],
   "execution_count": null,
   "source": "ndb.update_biomass()",
   "id": "ec59eff4cfec16cc"
  },
  {
   "metadata": {},
   "cell_type": "code",
   "outputs": [],
   "execution_count": null,
   "source": "ndb.update_electricity()",
   "id": "b99d9a1499b8b910"
  },
  {
   "metadata": {},
   "cell_type": "code",
   "outputs": [],
   "execution_count": null,
   "source": "ndb.write_db_to_simapro()",
   "id": "f1d89e791755eb70"
  },
  {
   "metadata": {},
   "cell_type": "code",
   "outputs": [],
   "execution_count": null,
   "source": [
    "for ds in ndb.scenarios[0][\"database\"]:\n",
    "    if ds[\"name\"].startswith(\"market group for electricity, low\"):\n",
    "        print(ds[\"name\"], ds[\"reference product\"], ds[\"location\"])"
   ],
   "id": "5187b89b36952e9a"
  },
  {
   "metadata": {},
   "cell_type": "code",
   "outputs": [],
   "execution_count": null,
   "source": "ndb.scenarios[1][\"iam data\"].carbon_capture_rate",
   "id": "7179783a75e3af8a"
  },
  {
   "metadata": {},
   "cell_type": "code",
   "outputs": [],
   "execution_count": null,
   "source": [
    "from collections import defaultdict\n",
    "res = defaultdict(float)\n",
    "for ds in ndb.scenarios[0][\"database\"]:\n",
    "    if ds[\"reference product\"]==\"biogas\":\n",
    "        print(ds[\"location\"], ds[\"name\"])\n",
    "        for e in ds[\"exchanges\"]:\n",
    "            print(e[\"name\"], e[\"amount\"], e.get(\"location\"))\n",
    "        print()\n",
    "\n"
   ],
   "id": "b22b24917a54e8c9"
  },
  {
   "metadata": {},
   "cell_type": "code",
   "outputs": [],
   "execution_count": null,
   "source": [
    "from collections import defaultdict\n",
    "res = defaultdict(float)\n",
    "for ds in ndb.scenarios[1][\"database\"]:\n",
    "    if ds[\"name\"]==\"market group for heat, district or industrial, natural gas\":\n",
    "        print(ds[\"location\"], ds[\"name\"])\n",
    "        for e in ds[\"exchanges\"]:\n",
    "            print(e[\"name\"], e[\"amount\"], e.get(\"location\"), e[\"type\"])\n",
    "        print()\n"
   ],
   "id": "c18f1d54d6fc565a"
  },
  {
   "metadata": {},
   "cell_type": "code",
   "outputs": [],
   "execution_count": null,
   "source": [
    "from collections import defaultdict\n",
    "res = defaultdict(float)\n",
    "for ds in ndb.scenarios[0][\"database\"]:\n",
    "    if ds[\"name\"]==\"transport, freight, lorry, plugin diesel hybrid, 26t gross weight, 2020, EURO-VI, regional delivery\" and ds[\"location\"] == \"ME\":\n",
    "        print(ds[\"location\"], ds[\"name\"])\n",
    "        for e in ds[\"exchanges\"]:\n",
    "            print(e[\"name\"], e[\"amount\"], e.get(\"location\"), e[\"type\"])\n",
    "        print()\n"
   ],
   "id": "52000a9fce1790cf"
  },
  {
   "metadata": {},
   "cell_type": "code",
   "outputs": [],
   "execution_count": null,
   "source": [
    "from premise.geomap import Geomap\n",
    "geo = Geomap(\"remind\")\n",
    "geo.ecoinvent_to_iam_location(\"Europe, without Russia and Turkey\")"
   ],
   "id": "563e207741d39963"
  },
  {
   "metadata": {},
   "cell_type": "code",
   "outputs": [],
   "execution_count": null,
   "source": "geo.iam_to_ecoinvent_location(\"EUR\")",
   "id": "b1dc41b3b2c3817"
  },
  {
   "metadata": {},
   "cell_type": "code",
   "outputs": [],
   "execution_count": null,
   "source": "geo.rev_additional_mappings",
   "id": "8b2bfbd846deff44"
  },
  {
   "metadata": {},
   "cell_type": "code",
   "outputs": [],
   "execution_count": null,
   "source": [
    "from collections import defaultdict\n",
    "res = defaultdict(float)\n",
    "for ds in ndb.scenarios[0][\"database\"]:\n",
    "    if ds[\"name\"]==\"pig iron production\" and ds[\"location\"] == \"CHN\":\n",
    "        print(ds[\"location\"], ds[\"name\"])\n",
    "        for e in ds[\"exchanges\"]:\n",
    "            print(e[\"name\"], e[\"amount\"])\n",
    "        print(ds[\"comment\"])\n",
    "        print()\n"
   ],
   "id": "dc8e7d3613e286db"
  },
  {
   "metadata": {},
   "cell_type": "code",
   "outputs": [],
   "execution_count": null,
   "source": [
    "import pandas as pd\n",
    "import matplotlib.pyplot as plt\n",
    "pd.DataFrame.from_dict(res, orient=\"index\").plot(kind=\"bar\", figsize=(20, 5))\n",
    "plt.ylabel(\"kg heavy fuel oil/kWh\")\n",
    "plt.savefig(\"electricity production, oil.png\")"
   ],
   "id": "78e52a3234e7ce6b"
  },
  {
   "metadata": {},
   "cell_type": "code",
   "outputs": [],
   "execution_count": null,
   "source": "ndb.scenarios[0][\"iam data\"].electricity_efficiencies.coords[\"variables\"].values",
   "id": "940cb5cc5a564302"
  },
  {
   "metadata": {},
   "cell_type": "code",
   "outputs": [],
   "execution_count": null,
   "source": "ndb.scenarios[0][\"iam data\"].electricity_efficiencies.sel(variables=\"Biomass IGCC CCS\", year=2050)",
   "id": "859bc9dc005e51e7"
  },
  {
   "metadata": {},
   "cell_type": "code",
   "outputs": [],
   "execution_count": null,
   "source": "ndb.generate_change_report()",
   "id": "b74028d7f90bac06"
  },
  {
   "metadata": {},
   "cell_type": "code",
   "outputs": [],
   "execution_count": null,
   "source": "ndb.scenarios[0][\"iam data\"].gas_markets.sel(region=\"World\")",
   "id": "6d1b4534f5e7851b"
  },
  {
   "metadata": {},
   "cell_type": "code",
   "outputs": [],
   "execution_count": null,
   "source": "ndb.scenarios[0].",
   "id": "9e979343f8e27c5"
  },
  {
   "metadata": {},
   "cell_type": "code",
   "outputs": [],
   "execution_count": null,
   "source": [
    "for ds in ndb.scenarios[0][\"database\"]:\n",
    "    for e in ds[\"exchanges\"]:\n",
    "        if e[\"name\"] == \"market for platinum\" and e[\"product\"] == \"platinum\":\n",
    "            print(ds[\"name\"], ds[\"location\"], e[\"name\"], e[\"location\"])"
   ],
   "id": "2427c5780288903e"
  },
  {
   "metadata": {},
   "cell_type": "code",
   "outputs": [],
   "execution_count": null,
   "source": [
    "import pprint\n",
    "for ds in ndb.scenarios[0][\"database\"]:\n",
    "    if ds[\"name\"].lower() == \"lithium carbonate, precipitated\":\n",
    "        print(ds[\"name\"], ds[\"location\"])"
   ],
   "id": "d97e2d04b4a2deb7"
  },
  {
   "metadata": {},
   "cell_type": "code",
   "outputs": [],
   "execution_count": null,
   "source": [
    "from premise.activity_maps import InventorySet\n",
    "inv = InventorySet(ndb.database, \"3.9\")"
   ],
   "id": "88aadd7d378d2f5"
  },
  {
   "metadata": {},
   "cell_type": "code",
   "outputs": [],
   "execution_count": null,
   "source": "inv.generate_metals_map()",
   "id": "3f87ecaaf9daa48a"
  },
  {
   "metadata": {},
   "cell_type": "code",
   "outputs": [],
   "execution_count": null,
   "source": "inv.generate_powerplant_map()",
   "id": "fda1e633d9c4e9c3"
  },
  {
   "metadata": {},
   "cell_type": "code",
   "outputs": [],
   "execution_count": null,
   "source": "inv.generate_daccs_map()",
   "id": "8a08db342a2d1db7"
  },
  {
   "metadata": {},
   "cell_type": "code",
   "outputs": [],
   "execution_count": null,
   "source": "ndb.write_db_to_brightway(\"test_metals\")",
   "id": "bbcd3da88eb7752e"
  },
  {
   "metadata": {},
   "cell_type": "code",
   "outputs": [],
   "execution_count": null,
   "source": [
    "products = [\n",
    "    'lightweighting, glider',\n",
    "    'auxilliary battery inputs, for road vehicle',\n",
    "    'battery cell, Li-ion, NMC622',\n",
    "    'auxilliary electronics inputs, for fuel cell electric vehicle',\n",
    "    'auxilliary material inputs, for fuel cell electric vehicle',\n",
    "    'fuel cell stack, for fuel cell electric vehicle',\n",
    "    'carbon fiber, weaved',\n",
    "    'tank liner, polyethylene, high density',\n",
    "    'transformer and rectifier unit, for electrolyser',\n",
    "    'fuel tank, for diesel road vehicle',\n",
    "    'fuel tank, for compressed hydrogen gas, 700bar',\n",
    "    'fuel tank, for compressed hydrogen gas, 700bar',\n",
    "    'fuel tank, for compressed hydrogen gas, 700bar',\n",
    "    'fuel tank, for compressed natural gas, 200 bar',\n",
    "    'charger, level 3, plugin, 200 kW, for electric vehicle',\n",
    "    'gearbox, for lorry',\n",
    "    'transmission, for lorry',\n",
    "    'suspension, for lorry',\n",
    "    'power electronics, for lorry',\n",
    "    'auxilliary material inputs, for electric lorry',\n",
    "    'retarder, for lorry',\n",
    "    'cabin, for lorry',\n",
    "    'frame, blanks and saddle, for lorry',\n",
    "    'tires and wheels, for lorry',\n",
    "    'auxilliary material inputs, for hydrid electric lorry',\n",
    "    'exhaust system, for lorry',\n",
    "    'internal combustion engine, for lorry',\n",
    "    'lead acid battery, for lorry',\n",
    "    'charger, level 3, with pantograph, 450 kW, for electric vehicle',\n",
    "    'overhead lines, for electric vehicle',\n",
    "    'battery cell, Li-ion, LTO',\n",
    "    'charging station, 3kW',\n",
    "    'battery cell,  Li-ion, LFP',\n",
    "    'battery cell, Li-ion, NCA',\n",
    "    'assembly operation, for lorry'\n",
    "]\n",
    "\n",
    "print(len(products))\n",
    "\n",
    "acts = [a for a in bw.Database(\"brian\") if a[\"reference product\"] in products]"
   ],
   "id": "b0198df77378d745"
  },
  {
   "metadata": {},
   "cell_type": "code",
   "outputs": [],
   "execution_count": null,
   "source": "len(acts)",
   "id": "72ad43cf12686094"
  },
  {
   "metadata": {},
   "cell_type": "code",
   "outputs": [],
   "execution_count": null,
   "source": "[a[\"reference product\"] for a in acts]",
   "id": "d97bff3c77594198"
  },
  {
   "metadata": {},
   "cell_type": "code",
   "outputs": [],
   "execution_count": null,
   "source": [
    "import bw2data\n",
    "bw2io.BW2Package.export_obj(obj=bw.Database(\"brian\"), filename=\"db_for_brian.bw2package\")"
   ],
   "id": "d063670cbb3c7988"
  },
  {
   "metadata": {},
   "cell_type": "code",
   "outputs": [],
   "execution_count": null,
   "source": [
    "import bw2data\n",
    "bw2io.BW2Package.import_file(\"db_for_brian.bw2package\")"
   ],
   "id": "857deb761a067276"
  },
  {
   "metadata": {},
   "cell_type": "code",
   "outputs": [],
   "execution_count": null,
   "source": "",
   "id": "617326a88730ae26"
  },
  {
   "metadata": {},
   "cell_type": "code",
   "outputs": [],
   "execution_count": null,
   "source": [
    "fp = \"/Users/romain/Library/Application Support/Brightway3/ei39.f1469ad5eb0a071dc60323f6e0fce980/output/lci-brian.xlsx\"\n",
    "import bw2io\n",
    "\n",
    "i = bw2io.ExcelImporter(fp)\n",
    "i.apply_strategies()"
   ],
   "id": "c0651775fa31df56"
  },
  {
   "metadata": {},
   "cell_type": "code",
   "outputs": [],
   "execution_count": null,
   "source": [
    "ei_acts = list(set([(a[\"name\"], a[\"reference product\"]) for a in bw.Database(\"ecoinvent 3.9.1 cutoff\")]))\n",
    "print(len(ei_acts))"
   ],
   "id": "234214afe1ea1d6d"
  },
  {
   "metadata": {},
   "cell_type": "code",
   "outputs": [],
   "execution_count": null,
   "source": [
    "for ds in i.data:\n",
    "    if (ds[\"name\"], ds[\"reference product\"]) in ei_acts:\n",
    "        i.data.remove(ds)"
   ],
   "id": "a697d6bf11cf195a"
  },
  {
   "metadata": {},
   "cell_type": "code",
   "outputs": [],
   "execution_count": null,
   "source": [
    "for ds in i.data:\n",
    "    if (ds[\"name\"], ds[\"reference product\"]) not in ei_acts:\n",
    "        print(ds[\"name\"])"
   ],
   "id": "9d8304a978b93cf6"
  },
  {
   "metadata": {},
   "cell_type": "code",
   "outputs": [],
   "execution_count": null,
   "source": "len(i.data)",
   "id": "34388bf7ba0402a7"
  },
  {
   "metadata": {},
   "cell_type": "code",
   "outputs": [],
   "execution_count": null,
   "source": [
    "for ds in i.data:\n",
    "    print(ds[\"name\"])"
   ],
   "id": "8e9ee02f88bc750c"
  },
  {
   "metadata": {},
   "cell_type": "code",
   "outputs": [],
   "execution_count": null,
   "source": [
    "i.match_database(fields=[\"name\", \"unit\", \"location\"])\n",
    "i.match_database(\"ecoinvent 3.9.1 cutoff\", fields=[\"name\", \"reference product\", \"location\", \"unit\"])\n",
    "i.match_database(\"biosphere3\", fields=[\"name\", \"categories\", \"unit\"])"
   ],
   "id": "ae7112b8a3688f47"
  },
  {
   "metadata": {},
   "cell_type": "code",
   "outputs": [],
   "execution_count": null,
   "source": "i.statistics()",
   "id": "8edd527169559bad"
  },
  {
   "metadata": {},
   "cell_type": "code",
   "outputs": [],
   "execution_count": null,
   "source": "list(i.unlinked)[-1]",
   "id": "b706db52337ea94e"
  },
  {
   "metadata": {},
   "cell_type": "code",
   "outputs": [],
   "execution_count": null,
   "source": "bw.get_activity(('brian', '360c5e612a154ebb8cee2650bcc1bc75_copy1'))",
   "id": "241e9ab09b839b14"
  },
  {
   "metadata": {},
   "cell_type": "code",
   "outputs": [],
   "execution_count": null,
   "source": [
    "for f in bw.Database(\"biosphere3\"):\n",
    "    if f[\"code\"] == \"e030108f-2125-4bcb-a73b-ad72130fcca3\":\n",
    "        print(f)"
   ],
   "id": "c2997d115caabc79"
  },
  {
   "metadata": {},
   "cell_type": "code",
   "outputs": [],
   "execution_count": null,
   "source": "bw.projects.set_current(\"ei39\")",
   "id": "be10dfe1c3b03e9b"
  },
  {
   "metadata": {},
   "cell_type": "code",
   "outputs": [],
   "execution_count": null,
   "source": [
    "l = []\n",
    "\n",
    "for f in bw.Database(\"biosphere3\"):\n",
    "    l.append([f[\"name\"], f[\"categories\"][0], f[\"categories\"][1] if len(f[\"categories\"])>1 else \"unspecified\", f[\"unit\"], f[\"code\"]])"
   ],
   "id": "8641cc9326594557"
  },
  {
   "metadata": {},
   "cell_type": "code",
   "outputs": [],
   "execution_count": null,
   "source": [
    "import csv\n",
    "\n",
    "with open(\"flows_biosphere_39.csv\", \"w\", newline=\"\", ) as f:\n",
    "    writer = csv.writer(f, delimiter=\";\")\n",
    "    writer.writerows(l)"
   ],
   "id": "d14b8b6810407db7"
  },
  {
   "metadata": {},
   "cell_type": "code",
   "outputs": [],
   "execution_count": null,
   "source": "ndb.scenarios[1][\"iam data\"].fuel_markets.sel(region=\"NEU\").variables.values",
   "id": "d1033e87e19f1b6a"
  },
  {
   "metadata": {},
   "cell_type": "code",
   "outputs": [],
   "execution_count": null,
   "source": [
    "import numpy as np\n",
    "for ds in ndb.scenarios[1][\"database\"]:\n",
    "    if ds[\"name\"] == (\"carbon dioxide, captured from atmosphere, with a solvent-based direct air capture system, 1MtCO2, with waste heat, and grid electricity\",\n",
    "                            \"carbon dioxide, captured from atmosphere\"):\n",
    "            print(ds[\"name\"], ds[\"location\"])"
   ],
   "id": "da78d6eb9572402c"
  },
  {
   "metadata": {},
   "cell_type": "code",
   "outputs": [],
   "execution_count": null,
   "source": [
    "for ds in ndb.scenarios[1][\"database\"]:\n",
    "    if \"carbon dioxide, captured\" in ds[\"name\"]:\n",
    "        print(ds[\"name\"], ds[\"location\"])"
   ],
   "id": "e0406450087645df"
  },
  {
   "metadata": {},
   "cell_type": "code",
   "outputs": [],
   "execution_count": null,
   "source": "ndb.scenarios[0][\"iam data\"].fuel_markets.sel(region=\"WEU\", year=2050)",
   "id": "6cb99a49758e8a1b"
  },
  {
   "metadata": {},
   "cell_type": "code",
   "outputs": [],
   "execution_count": null,
   "source": "ndb.scenarios[0][\"iam data\"].fuel_markets.sel(region=\"WEU\")",
   "id": "da26d83899a43d74"
  },
  {
   "metadata": {},
   "cell_type": "code",
   "outputs": [],
   "execution_count": null,
   "source": "ndb.update_electricity()",
   "id": "182004e2537dc1ea"
  },
  {
   "metadata": {},
   "cell_type": "code",
   "outputs": [],
   "execution_count": null,
   "source": "ndb.scenarios[0][\"iam data\"].fuel_markets",
   "id": "37ca939a526c842f"
  },
  {
   "metadata": {},
   "cell_type": "code",
   "outputs": [],
   "execution_count": null,
   "source": "ndb.generate_scenario_report()",
   "id": "79cc76a3a160d93a"
  },
  {
   "metadata": {},
   "cell_type": "code",
   "outputs": [],
   "execution_count": null,
   "source": "ndb.generate_change_report()",
   "id": "27bc35ef5926fb11"
  },
  {
   "metadata": {},
   "cell_type": "code",
   "outputs": [],
   "execution_count": null,
   "source": "ndb.update_all()",
   "id": "cf45423226ed1e8d"
  },
  {
   "metadata": {},
   "cell_type": "code",
   "outputs": [],
   "execution_count": null,
   "source": "ndb.generate_scenario_report()",
   "id": "d060c85ba6db0cf7"
  },
  {
   "metadata": {},
   "cell_type": "code",
   "outputs": [],
   "execution_count": null,
   "source": "ndb.generate_change_report()",
   "id": "aa9e104308187bf1"
  },
  {
   "metadata": {},
   "cell_type": "code",
   "outputs": [],
   "execution_count": null,
   "source": "ndb.scenarios[0][\"iam data\"].gains_data_IAM",
   "id": "5c74db7d325ad48"
  },
  {
   "metadata": {},
   "cell_type": "code",
   "outputs": [],
   "execution_count": null,
   "source": "",
   "id": "48bf048c7b213ec3"
  },
  {
   "metadata": {},
   "cell_type": "code",
   "outputs": [],
   "execution_count": null,
   "source": "ndb.update_all()",
   "id": "5a2fef918d7cff27"
  },
  {
   "metadata": {},
   "cell_type": "code",
   "outputs": [],
   "execution_count": null,
   "source": "ndb.write_db_to_brightway([\"test_dac\", \"test_dac2\"])",
   "id": "d29f28a3bfd5ad23"
  },
  {
   "metadata": {},
   "cell_type": "code",
   "outputs": [],
   "execution_count": null,
   "source": "from premise.geomap import Geomap",
   "id": "d07f14760a891021"
  },
  {
   "metadata": {},
   "cell_type": "code",
   "outputs": [],
   "execution_count": null,
   "source": "Geomap()",
   "id": "a431188c1913b11e"
  },
  {
   "metadata": {},
   "cell_type": "code",
   "outputs": [],
   "execution_count": null,
   "source": "Geomap(model=\"remind\").geo.keys()",
   "id": "5425a624550909c3"
  },
  {
   "metadata": {},
   "cell_type": "code",
   "outputs": [],
   "execution_count": null,
   "source": "ndb.scenarios[0][\"iam data\"].carbon_capture_rate.sel(variables=\"steel\")",
   "id": "702bc0e350d3a479"
  },
  {
   "metadata": {},
   "cell_type": "code",
   "outputs": [],
   "execution_count": null,
   "source": [
    "for ds in ndb.scenarios[0][\"database\"]:\n",
    "    for e in ds[\"exchanges\"]:\n",
    "        if e[\"name\"].startswith(\"CO2 capture, at cement production plant\"):\n",
    "            print(e[\"name\"], e.get(\"location\"), e[\"amount\"])\n",
    "            print(ds[\"name\"])\n",
    "            print(\"--------------------\")"
   ],
   "id": "16892ef2402a5c64"
  },
  {
   "metadata": {},
   "cell_type": "code",
   "outputs": [],
   "execution_count": null,
   "source": "",
   "id": "ac369a7137cc73c"
  }
 ],
 "metadata": {
  "kernelspec": {
   "display_name": "Python 3 (ipykernel)",
   "language": "python",
   "name": "python3"
  },
  "language_info": {
   "codemirror_mode": {
    "name": "ipython",
    "version": 3
   },
   "file_extension": ".py",
   "mimetype": "text/x-python",
   "name": "python",
   "nbconvert_exporter": "python",
   "pygments_lexer": "ipython3",
   "version": "3.11.11"
  }
 },
 "nbformat": 4,
 "nbformat_minor": 5
}
