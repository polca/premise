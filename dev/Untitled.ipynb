{
 "cells": [
  {
   "cell_type": "code",
   "execution_count": 1,
   "id": "385cbbd43298dc22",
   "metadata": {
    "ExecuteTime": {
     "end_time": "2025-05-04T13:06:51.705927Z",
     "start_time": "2025-05-04T13:05:29.944275Z"
    }
   },
   "outputs": [
    {
     "name": "stdout",
     "output_type": "stream",
     "text": [
      "premise v.(2, 3, 0, 'dev0')\n",
      "+------------------------------------------------------------------+\n",
      "| Warning                                                          |\n",
      "+------------------------------------------------------------------+\n",
      "| Because some of the scenarios can yield LCI databases            |\n",
      "| containing net negative emission technologies (NET),             |\n",
      "| it is advised to account for biogenic CO2 flows when calculating |\n",
      "| Global Warming potential indicators.                             |\n",
      "| `premise_gwp` provides characterization factors for such flows.  |\n",
      "| It also provides factors for hydrogen emissions to air.          |\n",
      "|                                                                  |\n",
      "| Within your bw2 project:                                         |\n",
      "| from premise_gwp import add_premise_gwp                          |\n",
      "| add_premise_gwp()                                                |\n",
      "+------------------------------------------------------------------+\n",
      "+--------------------------------+----------------------------------+\n",
      "| Utils functions                | Description                      |\n",
      "+--------------------------------+----------------------------------+\n",
      "| clear_cache()                  | Clears the cache folder. Useful  |\n",
      "|                                | when updating `premise`or        |\n",
      "|                                | encountering issues with         |\n",
      "|                                | inventories.                     |\n",
      "+--------------------------------+----------------------------------+\n",
      "| get_regions_definition(model)  | Retrieves the list of countries  |\n",
      "|                                | for each region of the model.    |\n",
      "+--------------------------------+----------------------------------+\n",
      "| ndb.NewDatabase(...)           | Generates a summary of the most  |\n",
      "| ndb.generate_scenario_report() | important scenarios' variables.  |\n",
      "+--------------------------------+----------------------------------+\n",
      "Keep uncertainty data?\n",
      "NewDatabase(..., keep_source_db_uncertainty=True), keep_imports_uncertainty=True)\n",
      "\n",
      "Hide these messages?\n",
      "NewDatabase(..., quiet=True)\n",
      "- Extracting source database\n",
      "- Extracting inventories\n",
      "- Fetching IAM data\n",
      "Done!\n",
      "CPU times: user 6.24 s, sys: 846 ms, total: 7.08 s\n",
      "Wall time: 8.21 s\n"
     ]
    }
   ],
   "source": [
    "%%time\n",
    "\n",
    "from premise import *\n",
    "import bw2data\n",
    "bw2data.projects.set_current(\"ecoinvent-3.10.1-cutoff\")\n",
    "#bw2data.projects.set_current(\"ecoinvent-3.9.1-cutoff_bw25\")\n",
    "# clear_inventory_cache()\n",
    "scenarios = [\n",
    "    #{\"model\": \"remind\", \"pathway\": \"SSP2-NPi\", \"year\": 2020},\n",
    "    #{\"model\": \"remind\", \"pathway\": \"SSP2-NPi\", \"year\": 2030},\n",
    "    #{\"model\": \"remind\", \"pathway\": \"SSP2-NPi\", \"year\": 2040},\n",
    "    #{\"model\": \"remind\", \"pathway\": \"SSP2-NPi\", \"year\": 2050},\n",
    "    #{\"model\": \"remind\", \"pathway\": \"SSP2-NPi\", \"year\": 2060},\n",
    "    #{\"model\": \"remind\", \"pathway\": \"SSP2-PkBudg1150\", \"year\": 2020},\n",
    "    #{\"model\": \"witch\", \"pathway\": \"SSP2-Base\", \"year\": 2050},\n",
    "    #{\"model\": \"witch\", \"pathway\": \"SSP2-PkBudg1150\", \"year\": 2050},\n",
    "    #{\"model\": \"image\", \"pathway\": \"SSP2-RCP26\", \"year\": 2030},\n",
    "    {\"model\": \"remind\", \"pathway\": \"SSP1-PkBudg1000\", \"year\": 2040},\n",
    "    #{\"model\": \"remind\", \"pathway\": \"SSP2-PkBudg1000\", \"year\": 2040},\n",
    "    #{\"model\": \"remind\", \"pathway\": \"SSP2-PkBudg650\", \"year\": 2060},\n",
    "    #{\"model\": \"remind\", \"pathway\": \"SSP2-rollBack\", \"year\": 2060},\n",
    "    #{\"model\": \"remind\", \"pathway\": \"SSP2-NDC\", \"year\": 2060},\n",
    "    #{\"model\": \"remind\", \"pathway\": \"SSP3-rollBack\", \"year\": 2060},\n",
    "]\n",
    "\n",
    "ndb = NewDatabase(\n",
    "        scenarios=scenarios,\n",
    "        source_db=\"ecoinvent-3.10.1-cutoff\",\n",
    "        source_version=\"3.10\",\n",
    "        biosphere_name=\"biosphere3\",\n",
    "        key='tUePmX_S5B8ieZkkM7WUU2CnO8SmShwmAeWK9x2rTFo=',\n",
    ")\n",
    "#ndb.write_db_to_brightway(\"test final energy 2\")"
   ]
  },
  {
   "cell_type": "code",
   "execution_count": 2,
   "id": "fa55c59e-6d19-439b-8886-4805a1513b72",
   "metadata": {},
   "outputs": [
    {
     "name": "stdout",
     "output_type": "stream",
     "text": [
      "Generate scenario report.\n",
      "Report saved under /Users/romain/GitHub/premise/dev/export/scenario_report.\n"
     ]
    }
   ],
   "source": [
    "ndb.generate_scenario_report()"
   ]
  },
  {
   "cell_type": "code",
   "execution_count": 2,
   "id": "6096c35d6eac3d",
   "metadata": {
    "ExecuteTime": {
     "end_time": "2025-05-04T13:10:34.123441Z",
     "start_time": "2025-05-04T13:06:51.721392Z"
    }
   },
   "outputs": [
    {
     "name": "stderr",
     "output_type": "stream",
     "text": [
      "Processing scenarios for all sectors: 100%|█| 1/1 [03:47<00:00, 227.11"
     ]
    },
    {
     "name": "stdout",
     "output_type": "stream",
     "text": [
      "Done!\n",
      "\n"
     ]
    },
    {
     "name": "stderr",
     "output_type": "stream",
     "text": [
      "\n"
     ]
    }
   ],
   "source": [
    "ndb.update()"
   ]
  },
  {
   "cell_type": "code",
   "execution_count": null,
   "id": "8e299a81cb45172d",
   "metadata": {},
   "outputs": [],
   "source": [
    "ndb.generate_scenario_report()"
   ]
  },
  {
   "cell_type": "code",
   "execution_count": 3,
   "id": "3245b60293d2e9bc",
   "metadata": {
    "ExecuteTime": {
     "end_time": "2025-05-04T13:13:21.341622Z",
     "start_time": "2025-05-04T13:10:34.280052Z"
    }
   },
   "outputs": [
    {
     "name": "stdout",
     "output_type": "stream",
     "text": [
      "Write new database(s) to Brightway.\n",
      "Running all checks...\n",
      "Minor anomalies found: check the change report.\n",
      "Database test steel 4 already exists: it will be overwritten.\n"
     ]
    },
    {
     "ename": "OperationalError",
     "evalue": "database is locked",
     "output_type": "error",
     "traceback": [
      "\u001b[31m---------------------------------------------------------------------------\u001b[39m",
      "\u001b[31mOperationalError\u001b[39m                          Traceback (most recent call last)",
      "\u001b[36mFile \u001b[39m\u001b[32m/opt/homebrew/Caskroom/miniforge/base/envs/premise/lib/python3.11/site-packages/peewee.py:3844\u001b[39m, in \u001b[36mSqliteDatabase.commit\u001b[39m\u001b[34m(self)\u001b[39m\n\u001b[32m   3843\u001b[39m \u001b[38;5;28;01mwith\u001b[39;00m __exception_wrapper__:\n\u001b[32m-> \u001b[39m\u001b[32m3844\u001b[39m     \u001b[38;5;28;01mreturn\u001b[39;00m \u001b[38;5;28;43mself\u001b[39;49m\u001b[43m.\u001b[49m\u001b[43m_state\u001b[49m\u001b[43m.\u001b[49m\u001b[43mconn\u001b[49m\u001b[43m.\u001b[49m\u001b[43mcommit\u001b[49m\u001b[43m(\u001b[49m\u001b[43m)\u001b[49m\n",
      "\u001b[31mOperationalError\u001b[39m: database is locked",
      "\nDuring handling of the above exception, another exception occurred:\n",
      "\u001b[31mOperationalError\u001b[39m                          Traceback (most recent call last)",
      "\u001b[36mFile \u001b[39m\u001b[32m/opt/homebrew/Caskroom/miniforge/base/envs/premise/lib/python3.11/site-packages/bw2data/backends/peewee/database.py:260\u001b[39m, in \u001b[36mSQLiteBackend.write\u001b[39m\u001b[34m(self, data, process)\u001b[39m\n\u001b[32m    259\u001b[39m \u001b[38;5;28;01mtry\u001b[39;00m:\n\u001b[32m--> \u001b[39m\u001b[32m260\u001b[39m     \u001b[38;5;28;43mself\u001b[39;49m\u001b[43m.\u001b[49m\u001b[43m_efficient_write_many_data\u001b[49m\u001b[43m(\u001b[49m\u001b[43mdata\u001b[49m\u001b[43m)\u001b[49m\n\u001b[32m    261\u001b[39m \u001b[38;5;28;01mexcept\u001b[39;00m:\n\u001b[32m    262\u001b[39m     \u001b[38;5;66;03m# Purge all data from database, then reraise\u001b[39;00m\n",
      "\u001b[36mFile \u001b[39m\u001b[32m/opt/homebrew/Caskroom/miniforge/base/envs/premise/lib/python3.11/site-packages/bw2data/backends/peewee/database.py:189\u001b[39m, in \u001b[36mSQLiteBackend._efficient_write_many_data\u001b[39m\u001b[34m(self, data, indices)\u001b[39m\n\u001b[32m    188\u001b[39m \u001b[38;5;28;01mif\u001b[39;00m be_complicated:\n\u001b[32m--> \u001b[39m\u001b[32m189\u001b[39m     \u001b[38;5;28;43mself\u001b[39;49m\u001b[43m.\u001b[49m\u001b[43m_drop_indices\u001b[49m\u001b[43m(\u001b[49m\u001b[43m)\u001b[49m\n\u001b[32m    190\u001b[39m sqlite3_lci_db.db.autocommit = \u001b[38;5;28;01mFalse\u001b[39;00m\n",
      "\u001b[36mFile \u001b[39m\u001b[32m/opt/homebrew/Caskroom/miniforge/base/envs/premise/lib/python3.11/site-packages/bw2data/backends/peewee/database.py:142\u001b[39m, in \u001b[36mSQLiteBackend._drop_indices\u001b[39m\u001b[34m(self)\u001b[39m\n\u001b[32m    141\u001b[39m \u001b[38;5;28;01mdef\u001b[39;00m\u001b[38;5;250m \u001b[39m\u001b[34m_drop_indices\u001b[39m(\u001b[38;5;28mself\u001b[39m):\n\u001b[32m--> \u001b[39m\u001b[32m142\u001b[39m \u001b[43m    \u001b[49m\u001b[38;5;28;43;01mwith\u001b[39;49;00m\u001b[43m \u001b[49m\u001b[43msqlite3_lci_db\u001b[49m\u001b[43m.\u001b[49m\u001b[43mtransaction\u001b[49m\u001b[43m(\u001b[49m\u001b[43m)\u001b[49m\u001b[43m:\u001b[49m\n\u001b[32m    143\u001b[39m \u001b[43m        \u001b[49m\u001b[43msqlite3_lci_db\u001b[49m\u001b[43m.\u001b[49m\u001b[43mexecute_sql\u001b[49m\u001b[43m(\u001b[49m\u001b[33;43m'\u001b[39;49m\u001b[33;43mDROP INDEX IF EXISTS \u001b[39;49m\u001b[33;43m\"\u001b[39;49m\u001b[33;43mactivitydataset_key\u001b[39;49m\u001b[33;43m\"\u001b[39;49m\u001b[33;43m'\u001b[39;49m\u001b[43m)\u001b[49m\n",
      "\u001b[36mFile \u001b[39m\u001b[32m/opt/homebrew/Caskroom/miniforge/base/envs/premise/lib/python3.11/site-packages/peewee.py:4508\u001b[39m, in \u001b[36m_transaction.__exit__\u001b[39m\u001b[34m(self, exc_type, exc_val, exc_tb)\u001b[39m\n\u001b[32m   4507\u001b[39m \u001b[38;5;28;01mtry\u001b[39;00m:\n\u001b[32m-> \u001b[39m\u001b[32m4508\u001b[39m     \u001b[38;5;28;43mself\u001b[39;49m\u001b[43m.\u001b[49m\u001b[43mcommit\u001b[49m\u001b[43m(\u001b[49m\u001b[38;5;28;43;01mFalse\u001b[39;49;00m\u001b[43m)\u001b[49m\n\u001b[32m   4509\u001b[39m \u001b[38;5;28;01mexcept\u001b[39;00m:\n",
      "\u001b[36mFile \u001b[39m\u001b[32m/opt/homebrew/Caskroom/miniforge/base/envs/premise/lib/python3.11/site-packages/peewee.py:4486\u001b[39m, in \u001b[36m_transaction.commit\u001b[39m\u001b[34m(self, begin)\u001b[39m\n\u001b[32m   4485\u001b[39m \u001b[38;5;28;01mdef\u001b[39;00m\u001b[38;5;250m \u001b[39m\u001b[34mcommit\u001b[39m(\u001b[38;5;28mself\u001b[39m, begin=\u001b[38;5;28;01mTrue\u001b[39;00m):\n\u001b[32m-> \u001b[39m\u001b[32m4486\u001b[39m     \u001b[38;5;28;43mself\u001b[39;49m\u001b[43m.\u001b[49m\u001b[43mdb\u001b[49m\u001b[43m.\u001b[49m\u001b[43mcommit\u001b[49m\u001b[43m(\u001b[49m\u001b[43m)\u001b[49m\n\u001b[32m   4487\u001b[39m     \u001b[38;5;28;01mif\u001b[39;00m begin:\n",
      "\u001b[36mFile \u001b[39m\u001b[32m/opt/homebrew/Caskroom/miniforge/base/envs/premise/lib/python3.11/site-packages/peewee.py:3843\u001b[39m, in \u001b[36mSqliteDatabase.commit\u001b[39m\u001b[34m(self)\u001b[39m\n\u001b[32m   3842\u001b[39m \u001b[38;5;28;01mdef\u001b[39;00m\u001b[38;5;250m \u001b[39m\u001b[34mcommit\u001b[39m(\u001b[38;5;28mself\u001b[39m):\n\u001b[32m-> \u001b[39m\u001b[32m3843\u001b[39m \u001b[43m    \u001b[49m\u001b[38;5;28;43;01mwith\u001b[39;49;00m\u001b[43m \u001b[49m\u001b[43m__exception_wrapper__\u001b[49m\u001b[43m:\u001b[49m\n\u001b[32m   3844\u001b[39m \u001b[43m        \u001b[49m\u001b[38;5;28;43;01mreturn\u001b[39;49;00m\u001b[43m \u001b[49m\u001b[38;5;28;43mself\u001b[39;49m\u001b[43m.\u001b[49m\u001b[43m_state\u001b[49m\u001b[43m.\u001b[49m\u001b[43mconn\u001b[49m\u001b[43m.\u001b[49m\u001b[43mcommit\u001b[49m\u001b[43m(\u001b[49m\u001b[43m)\u001b[49m\n",
      "\u001b[36mFile \u001b[39m\u001b[32m/opt/homebrew/Caskroom/miniforge/base/envs/premise/lib/python3.11/site-packages/peewee.py:3088\u001b[39m, in \u001b[36mExceptionWrapper.__exit__\u001b[39m\u001b[34m(self, exc_type, exc_value, traceback)\u001b[39m\n\u001b[32m   3087\u001b[39m exc_args = exc_value.args\n\u001b[32m-> \u001b[39m\u001b[32m3088\u001b[39m \u001b[43mreraise\u001b[49m\u001b[43m(\u001b[49m\u001b[43mnew_type\u001b[49m\u001b[43m,\u001b[49m\u001b[43m \u001b[49m\u001b[43mnew_type\u001b[49m\u001b[43m(\u001b[49m\u001b[43mexc_value\u001b[49m\u001b[43m,\u001b[49m\u001b[43m \u001b[49m\u001b[43m*\u001b[49m\u001b[43mexc_args\u001b[49m\u001b[43m)\u001b[49m\u001b[43m,\u001b[49m\u001b[43m \u001b[49m\u001b[43mtraceback\u001b[49m\u001b[43m)\u001b[49m\n",
      "\u001b[36mFile \u001b[39m\u001b[32m/opt/homebrew/Caskroom/miniforge/base/envs/premise/lib/python3.11/site-packages/peewee.py:196\u001b[39m, in \u001b[36mreraise\u001b[39m\u001b[34m(tp, value, tb)\u001b[39m\n\u001b[32m    195\u001b[39m \u001b[38;5;28;01mif\u001b[39;00m value.__traceback__ \u001b[38;5;129;01mis\u001b[39;00m \u001b[38;5;129;01mnot\u001b[39;00m tb:\n\u001b[32m--> \u001b[39m\u001b[32m196\u001b[39m     \u001b[38;5;28;01mraise\u001b[39;00m value.with_traceback(tb)\n\u001b[32m    197\u001b[39m \u001b[38;5;28;01mraise\u001b[39;00m value\n",
      "\u001b[36mFile \u001b[39m\u001b[32m/opt/homebrew/Caskroom/miniforge/base/envs/premise/lib/python3.11/site-packages/peewee.py:3844\u001b[39m, in \u001b[36mSqliteDatabase.commit\u001b[39m\u001b[34m(self)\u001b[39m\n\u001b[32m   3843\u001b[39m \u001b[38;5;28;01mwith\u001b[39;00m __exception_wrapper__:\n\u001b[32m-> \u001b[39m\u001b[32m3844\u001b[39m     \u001b[38;5;28;01mreturn\u001b[39;00m \u001b[38;5;28;43mself\u001b[39;49m\u001b[43m.\u001b[49m\u001b[43m_state\u001b[49m\u001b[43m.\u001b[49m\u001b[43mconn\u001b[49m\u001b[43m.\u001b[49m\u001b[43mcommit\u001b[49m\u001b[43m(\u001b[49m\u001b[43m)\u001b[49m\n",
      "\u001b[31mOperationalError\u001b[39m: database is locked",
      "\nDuring handling of the above exception, another exception occurred:\n",
      "\u001b[31mOperationalError\u001b[39m                          Traceback (most recent call last)",
      "\u001b[36mFile \u001b[39m\u001b[32m/opt/homebrew/Caskroom/miniforge/base/envs/premise/lib/python3.11/site-packages/peewee.py:3322\u001b[39m, in \u001b[36mDatabase.execute_sql\u001b[39m\u001b[34m(self, sql, params, commit)\u001b[39m\n\u001b[32m   3321\u001b[39m     cursor = \u001b[38;5;28mself\u001b[39m.cursor()\n\u001b[32m-> \u001b[39m\u001b[32m3322\u001b[39m     cursor.execute(sql, params \u001b[38;5;129;01mor\u001b[39;00m ())\n\u001b[32m   3323\u001b[39m \u001b[38;5;28;01mreturn\u001b[39;00m cursor\n",
      "\u001b[31mOperationalError\u001b[39m: database is locked",
      "\nDuring handling of the above exception, another exception occurred:\n",
      "\u001b[31mOperationalError\u001b[39m                          Traceback (most recent call last)",
      "\u001b[36mCell\u001b[39m\u001b[36m \u001b[39m\u001b[32mIn[3]\u001b[39m\u001b[32m, line 1\u001b[39m\n\u001b[32m----> \u001b[39m\u001b[32m1\u001b[39m \u001b[43mndb\u001b[49m\u001b[43m.\u001b[49m\u001b[43mwrite_db_to_brightway\u001b[49m\u001b[43m(\u001b[49m\u001b[33;43m\"\u001b[39;49m\u001b[33;43mtest steel 4\u001b[39;49m\u001b[33;43m\"\u001b[39;49m\u001b[43m)\u001b[49m\n",
      "\u001b[36mFile \u001b[39m\u001b[32m~/GitHub/premise/premise/new_database.py:1156\u001b[39m, in \u001b[36mNewDatabase.write_db_to_brightway\u001b[39m\u001b[34m(self, name)\u001b[39m\n\u001b[32m   1148\u001b[39m         scenario[\u001b[33m\"\u001b[39m\u001b[33mdatabase\u001b[39m\u001b[33m\"\u001b[39m] = pickle.loads(pickle.dumps(\u001b[38;5;28mself\u001b[39m.database, -\u001b[32m1\u001b[39m))\n\u001b[32m   1150\u001b[39m     _prepare_database(\n\u001b[32m   1151\u001b[39m         scenario=scenario,\n\u001b[32m   1152\u001b[39m         db_name=name[s],\n\u001b[32m   1153\u001b[39m         original_database=\u001b[38;5;28mself\u001b[39m.database,\n\u001b[32m   1154\u001b[39m         biosphere_name=\u001b[38;5;28mself\u001b[39m.biosphere_name,\n\u001b[32m   1155\u001b[39m     )\n\u001b[32m-> \u001b[39m\u001b[32m1156\u001b[39m     \u001b[43mwrite_brightway_database\u001b[49m\u001b[43m(\u001b[49m\n\u001b[32m   1157\u001b[39m \u001b[43m        \u001b[49m\u001b[43mscenario\u001b[49m\u001b[43m[\u001b[49m\u001b[33;43m\"\u001b[39;49m\u001b[33;43mdatabase\u001b[39;49m\u001b[33;43m\"\u001b[39;49m\u001b[43m]\u001b[49m\u001b[43m,\u001b[49m\n\u001b[32m   1158\u001b[39m \u001b[43m        \u001b[49m\u001b[43mname\u001b[49m\u001b[43m[\u001b[49m\u001b[43ms\u001b[49m\u001b[43m]\u001b[49m\u001b[43m,\u001b[49m\n\u001b[32m   1159\u001b[39m \u001b[43m    \u001b[49m\u001b[43m)\u001b[49m\n\u001b[32m   1161\u001b[39m     end_of_process(scenario)\n\u001b[32m   1163\u001b[39m delete_all_pickles()\n",
      "\u001b[36mFile \u001b[39m\u001b[32m~/GitHub/premise/premise/brightway2.py:48\u001b[39m, in \u001b[36mwrite_brightway_database\u001b[39m\u001b[34m(data, name)\u001b[39m\n\u001b[32m     46\u001b[39m link_internal(data)\n\u001b[32m     47\u001b[39m check_internal_linking(data)\n\u001b[32m---> \u001b[39m\u001b[32m48\u001b[39m \u001b[43mBW2Importer\u001b[49m\u001b[43m(\u001b[49m\u001b[43mname\u001b[49m\u001b[43m,\u001b[49m\u001b[43m \u001b[49m\u001b[43mdata\u001b[49m\u001b[43m)\u001b[49m\u001b[43m.\u001b[49m\u001b[43mwrite_database\u001b[49m\u001b[43m(\u001b[49m\u001b[43m)\u001b[49m\n",
      "\u001b[36mFile \u001b[39m\u001b[32m~/GitHub/premise/premise/brightway2.py:36\u001b[39m, in \u001b[36mBW2Importer.write_database\u001b[39m\u001b[34m(self)\u001b[39m\n\u001b[32m     34\u001b[39m     \u001b[38;5;28mprint\u001b[39m(\u001b[33mf\u001b[39m\u001b[33m\"\u001b[39m\u001b[33mDatabase \u001b[39m\u001b[38;5;132;01m{\u001b[39;00m\u001b[38;5;28mself\u001b[39m.db_name\u001b[38;5;132;01m}\u001b[39;00m\u001b[33m already exists: it will be overwritten.\u001b[39m\u001b[33m\"\u001b[39m)\n\u001b[32m     35\u001b[39m     \u001b[38;5;28;01mdel\u001b[39;00m databases[\u001b[38;5;28mself\u001b[39m.db_name]\n\u001b[32m---> \u001b[39m\u001b[32m36\u001b[39m \u001b[38;5;28;43msuper\u001b[39;49m\u001b[43m(\u001b[49m\u001b[43m)\u001b[49m\u001b[43m.\u001b[49m\u001b[43mwrite_database\u001b[49m\u001b[43m(\u001b[49m\u001b[43m)\u001b[49m\n",
      "\u001b[36mFile \u001b[39m\u001b[32m/opt/homebrew/Caskroom/miniforge/base/envs/premise/lib/python3.11/site-packages/bw2io/importers/base_lci.py:273\u001b[39m, in \u001b[36mLCIImporter.write_database\u001b[39m\u001b[34m(self, data, delete_existing, backend, activate_parameters, **kwargs)\u001b[39m\n\u001b[32m    270\u001b[39m \u001b[38;5;28mself\u001b[39m.write_database_parameters(activate_parameters, delete_existing)\n\u001b[32m    272\u001b[39m existing.update(data)\n\u001b[32m--> \u001b[39m\u001b[32m273\u001b[39m \u001b[43mdb\u001b[49m\u001b[43m.\u001b[49m\u001b[43mwrite\u001b[49m\u001b[43m(\u001b[49m\u001b[43mexisting\u001b[49m\u001b[43m)\u001b[49m\n\u001b[32m    275\u001b[39m \u001b[38;5;28;01mif\u001b[39;00m activate_parameters:\n\u001b[32m    276\u001b[39m     \u001b[38;5;28mself\u001b[39m._write_activity_parameters(activity_parameters)\n",
      "\u001b[36mFile \u001b[39m\u001b[32m/opt/homebrew/Caskroom/miniforge/base/envs/premise/lib/python3.11/site-packages/bw2data/project.py:358\u001b[39m, in \u001b[36mwritable_project\u001b[39m\u001b[34m(wrapped, instance, args, kwargs)\u001b[39m\n\u001b[32m    356\u001b[39m \u001b[38;5;28;01mif\u001b[39;00m projects.read_only:\n\u001b[32m    357\u001b[39m     \u001b[38;5;28;01mraise\u001b[39;00m ReadOnlyProject(READ_ONLY_PROJECT)\n\u001b[32m--> \u001b[39m\u001b[32m358\u001b[39m \u001b[38;5;28;01mreturn\u001b[39;00m \u001b[43mwrapped\u001b[49m\u001b[43m(\u001b[49m\u001b[43m*\u001b[49m\u001b[43margs\u001b[49m\u001b[43m,\u001b[49m\u001b[43m \u001b[49m\u001b[43m*\u001b[49m\u001b[43m*\u001b[49m\u001b[43mkwargs\u001b[49m\u001b[43m)\u001b[49m\n",
      "\u001b[36mFile \u001b[39m\u001b[32m/opt/homebrew/Caskroom/miniforge/base/envs/premise/lib/python3.11/site-packages/bw2data/backends/peewee/database.py:263\u001b[39m, in \u001b[36mSQLiteBackend.write\u001b[39m\u001b[34m(self, data, process)\u001b[39m\n\u001b[32m    260\u001b[39m         \u001b[38;5;28mself\u001b[39m._efficient_write_many_data(data)\n\u001b[32m    261\u001b[39m     \u001b[38;5;28;01mexcept\u001b[39;00m:\n\u001b[32m    262\u001b[39m         \u001b[38;5;66;03m# Purge all data from database, then reraise\u001b[39;00m\n\u001b[32m--> \u001b[39m\u001b[32m263\u001b[39m         \u001b[38;5;28;43mself\u001b[39;49m\u001b[43m.\u001b[49m\u001b[43mdelete\u001b[49m\u001b[43m(\u001b[49m\u001b[43mwarn\u001b[49m\u001b[43m=\u001b[49m\u001b[38;5;28;43;01mFalse\u001b[39;49;00m\u001b[43m)\u001b[49m\n\u001b[32m    264\u001b[39m         \u001b[38;5;28;01mraise\u001b[39;00m\n\u001b[32m    266\u001b[39m \u001b[38;5;28mself\u001b[39m.make_searchable(reset=\u001b[38;5;28;01mTrue\u001b[39;00m)\n",
      "\u001b[36mFile \u001b[39m\u001b[32m/opt/homebrew/Caskroom/miniforge/base/envs/premise/lib/python3.11/site-packages/bw2data/project.py:358\u001b[39m, in \u001b[36mwritable_project\u001b[39m\u001b[34m(wrapped, instance, args, kwargs)\u001b[39m\n\u001b[32m    356\u001b[39m \u001b[38;5;28;01mif\u001b[39;00m projects.read_only:\n\u001b[32m    357\u001b[39m     \u001b[38;5;28;01mraise\u001b[39;00m ReadOnlyProject(READ_ONLY_PROJECT)\n\u001b[32m--> \u001b[39m\u001b[32m358\u001b[39m \u001b[38;5;28;01mreturn\u001b[39;00m \u001b[43mwrapped\u001b[49m\u001b[43m(\u001b[49m\u001b[43m*\u001b[49m\u001b[43margs\u001b[49m\u001b[43m,\u001b[49m\u001b[43m \u001b[49m\u001b[43m*\u001b[49m\u001b[43m*\u001b[49m\u001b[43mkwargs\u001b[49m\u001b[43m)\u001b[49m\n",
      "\u001b[36mFile \u001b[39m\u001b[32m/opt/homebrew/Caskroom/miniforge/base/envs/premise/lib/python3.11/site-packages/bw2data/backends/peewee/database.py:332\u001b[39m, in \u001b[36mSQLiteBackend.delete\u001b[39m\u001b[34m(self, keep_params, warn)\u001b[39m\n\u001b[32m    328\u001b[39m     warnings.warn(MESSAGE.format(\u001b[38;5;28mself\u001b[39m.name), \u001b[38;5;167;01mUserWarning\u001b[39;00m)\n\u001b[32m    330\u001b[39m vacuum_needed = \u001b[38;5;28mlen\u001b[39m(\u001b[38;5;28mself\u001b[39m) > \u001b[32m500\u001b[39m\n\u001b[32m--> \u001b[39m\u001b[32m332\u001b[39m \u001b[43mActivityDataset\u001b[49m\u001b[43m.\u001b[49m\u001b[43mdelete\u001b[49m\u001b[43m(\u001b[49m\u001b[43m)\u001b[49m\u001b[43m.\u001b[49m\u001b[43mwhere\u001b[49m\u001b[43m(\u001b[49m\u001b[43mActivityDataset\u001b[49m\u001b[43m.\u001b[49m\u001b[43mdatabase\u001b[49m\u001b[43m==\u001b[49m\u001b[43m \u001b[49m\u001b[38;5;28;43mself\u001b[39;49m\u001b[43m.\u001b[49m\u001b[43mname\u001b[49m\u001b[43m)\u001b[49m\u001b[43m.\u001b[49m\u001b[43mexecute\u001b[49m\u001b[43m(\u001b[49m\u001b[43m)\u001b[49m\n\u001b[32m    333\u001b[39m ExchangeDataset.delete().where(ExchangeDataset.output_database== \u001b[38;5;28mself\u001b[39m.name).execute()\n\u001b[32m    334\u001b[39m IndexManager(\u001b[38;5;28mself\u001b[39m.filename).delete_database()\n",
      "\u001b[36mFile \u001b[39m\u001b[32m/opt/homebrew/Caskroom/miniforge/base/envs/premise/lib/python3.11/site-packages/peewee.py:2036\u001b[39m, in \u001b[36mdatabase_required.<locals>.inner\u001b[39m\u001b[34m(self, database, *args, **kwargs)\u001b[39m\n\u001b[32m   2033\u001b[39m \u001b[38;5;28;01mif\u001b[39;00m \u001b[38;5;129;01mnot\u001b[39;00m database:\n\u001b[32m   2034\u001b[39m     \u001b[38;5;28;01mraise\u001b[39;00m InterfaceError(\u001b[33m'\u001b[39m\u001b[33mQuery must be bound to a database in order \u001b[39m\u001b[33m'\u001b[39m\n\u001b[32m   2035\u001b[39m                          \u001b[33m'\u001b[39m\u001b[33mto call \u001b[39m\u001b[33m\"\u001b[39m\u001b[38;5;132;01m%s\u001b[39;00m\u001b[33m\"\u001b[39m\u001b[33m.\u001b[39m\u001b[33m'\u001b[39m % method.\u001b[34m__name__\u001b[39m)\n\u001b[32m-> \u001b[39m\u001b[32m2036\u001b[39m \u001b[38;5;28;01mreturn\u001b[39;00m \u001b[43mmethod\u001b[49m\u001b[43m(\u001b[49m\u001b[38;5;28;43mself\u001b[39;49m\u001b[43m,\u001b[49m\u001b[43m \u001b[49m\u001b[43mdatabase\u001b[49m\u001b[43m,\u001b[49m\u001b[43m \u001b[49m\u001b[43m*\u001b[49m\u001b[43margs\u001b[49m\u001b[43m,\u001b[49m\u001b[43m \u001b[49m\u001b[43m*\u001b[49m\u001b[43m*\u001b[49m\u001b[43mkwargs\u001b[49m\u001b[43m)\u001b[49m\n",
      "\u001b[36mFile \u001b[39m\u001b[32m/opt/homebrew/Caskroom/miniforge/base/envs/premise/lib/python3.11/site-packages/peewee.py:2107\u001b[39m, in \u001b[36mBaseQuery.execute\u001b[39m\u001b[34m(self, database)\u001b[39m\n\u001b[32m   2105\u001b[39m \u001b[38;5;129m@database_required\u001b[39m\n\u001b[32m   2106\u001b[39m \u001b[38;5;28;01mdef\u001b[39;00m\u001b[38;5;250m \u001b[39m\u001b[34mexecute\u001b[39m(\u001b[38;5;28mself\u001b[39m, database):\n\u001b[32m-> \u001b[39m\u001b[32m2107\u001b[39m     \u001b[38;5;28;01mreturn\u001b[39;00m \u001b[38;5;28;43mself\u001b[39;49m\u001b[43m.\u001b[49m\u001b[43m_execute\u001b[49m\u001b[43m(\u001b[49m\u001b[43mdatabase\u001b[49m\u001b[43m)\u001b[49m\n",
      "\u001b[36mFile \u001b[39m\u001b[32m/opt/homebrew/Caskroom/miniforge/base/envs/premise/lib/python3.11/site-packages/peewee.py:2625\u001b[39m, in \u001b[36m_WriteQuery._execute\u001b[39m\u001b[34m(self, database)\u001b[39m\n\u001b[32m   2623\u001b[39m     cursor = \u001b[38;5;28mself\u001b[39m.execute_returning(database)\n\u001b[32m   2624\u001b[39m \u001b[38;5;28;01melse\u001b[39;00m:\n\u001b[32m-> \u001b[39m\u001b[32m2625\u001b[39m     cursor = \u001b[43mdatabase\u001b[49m\u001b[43m.\u001b[49m\u001b[43mexecute\u001b[49m\u001b[43m(\u001b[49m\u001b[38;5;28;43mself\u001b[39;49m\u001b[43m)\u001b[49m\n\u001b[32m   2626\u001b[39m \u001b[38;5;28;01mreturn\u001b[39;00m \u001b[38;5;28mself\u001b[39m.handle_result(database, cursor)\n",
      "\u001b[36mFile \u001b[39m\u001b[32m/opt/homebrew/Caskroom/miniforge/base/envs/premise/lib/python3.11/site-packages/peewee.py:3330\u001b[39m, in \u001b[36mDatabase.execute\u001b[39m\u001b[34m(self, query, commit, **context_options)\u001b[39m\n\u001b[32m   3328\u001b[39m ctx = \u001b[38;5;28mself\u001b[39m.get_sql_context(**context_options)\n\u001b[32m   3329\u001b[39m sql, params = ctx.sql(query).query()\n\u001b[32m-> \u001b[39m\u001b[32m3330\u001b[39m \u001b[38;5;28;01mreturn\u001b[39;00m \u001b[38;5;28;43mself\u001b[39;49m\u001b[43m.\u001b[49m\u001b[43mexecute_sql\u001b[49m\u001b[43m(\u001b[49m\u001b[43msql\u001b[49m\u001b[43m,\u001b[49m\u001b[43m \u001b[49m\u001b[43mparams\u001b[49m\u001b[43m)\u001b[49m\n",
      "\u001b[36mFile \u001b[39m\u001b[32m/opt/homebrew/Caskroom/miniforge/base/envs/premise/lib/python3.11/site-packages/peewee.py:3320\u001b[39m, in \u001b[36mDatabase.execute_sql\u001b[39m\u001b[34m(self, sql, params, commit)\u001b[39m\n\u001b[32m   3318\u001b[39m     __deprecated__(\u001b[33m'\u001b[39m\u001b[33m\"\u001b[39m\u001b[33mcommit\u001b[39m\u001b[33m\"\u001b[39m\u001b[33m has been deprecated and is a no-op.\u001b[39m\u001b[33m'\u001b[39m)\n\u001b[32m   3319\u001b[39m logger.debug((sql, params))\n\u001b[32m-> \u001b[39m\u001b[32m3320\u001b[39m \u001b[43m\u001b[49m\u001b[38;5;28;43;01mwith\u001b[39;49;00m\u001b[43m \u001b[49m\u001b[43m__exception_wrapper__\u001b[49m\u001b[43m:\u001b[49m\n\u001b[32m   3321\u001b[39m \u001b[43m    \u001b[49m\u001b[43mcursor\u001b[49m\u001b[43m \u001b[49m\u001b[43m=\u001b[49m\u001b[43m \u001b[49m\u001b[38;5;28;43mself\u001b[39;49m\u001b[43m.\u001b[49m\u001b[43mcursor\u001b[49m\u001b[43m(\u001b[49m\u001b[43m)\u001b[49m\n\u001b[32m   3322\u001b[39m \u001b[43m    \u001b[49m\u001b[43mcursor\u001b[49m\u001b[43m.\u001b[49m\u001b[43mexecute\u001b[49m\u001b[43m(\u001b[49m\u001b[43msql\u001b[49m\u001b[43m,\u001b[49m\u001b[43m \u001b[49m\u001b[43mparams\u001b[49m\u001b[43m \u001b[49m\u001b[38;5;129;43;01mor\u001b[39;49;00m\u001b[43m \u001b[49m\u001b[43m(\u001b[49m\u001b[43m)\u001b[49m\u001b[43m)\u001b[49m\n",
      "\u001b[36mFile \u001b[39m\u001b[32m/opt/homebrew/Caskroom/miniforge/base/envs/premise/lib/python3.11/site-packages/peewee.py:3088\u001b[39m, in \u001b[36mExceptionWrapper.__exit__\u001b[39m\u001b[34m(self, exc_type, exc_value, traceback)\u001b[39m\n\u001b[32m   3086\u001b[39m new_type = \u001b[38;5;28mself\u001b[39m.exceptions[exc_type.\u001b[34m__name__\u001b[39m]\n\u001b[32m   3087\u001b[39m exc_args = exc_value.args\n\u001b[32m-> \u001b[39m\u001b[32m3088\u001b[39m \u001b[43mreraise\u001b[49m\u001b[43m(\u001b[49m\u001b[43mnew_type\u001b[49m\u001b[43m,\u001b[49m\u001b[43m \u001b[49m\u001b[43mnew_type\u001b[49m\u001b[43m(\u001b[49m\u001b[43mexc_value\u001b[49m\u001b[43m,\u001b[49m\u001b[43m \u001b[49m\u001b[43m*\u001b[49m\u001b[43mexc_args\u001b[49m\u001b[43m)\u001b[49m\u001b[43m,\u001b[49m\u001b[43m \u001b[49m\u001b[43mtraceback\u001b[49m\u001b[43m)\u001b[49m\n",
      "\u001b[36mFile \u001b[39m\u001b[32m/opt/homebrew/Caskroom/miniforge/base/envs/premise/lib/python3.11/site-packages/peewee.py:196\u001b[39m, in \u001b[36mreraise\u001b[39m\u001b[34m(tp, value, tb)\u001b[39m\n\u001b[32m    194\u001b[39m \u001b[38;5;28;01mdef\u001b[39;00m\u001b[38;5;250m \u001b[39m\u001b[34mreraise\u001b[39m(tp, value, tb=\u001b[38;5;28;01mNone\u001b[39;00m):\n\u001b[32m    195\u001b[39m     \u001b[38;5;28;01mif\u001b[39;00m value.__traceback__ \u001b[38;5;129;01mis\u001b[39;00m \u001b[38;5;129;01mnot\u001b[39;00m tb:\n\u001b[32m--> \u001b[39m\u001b[32m196\u001b[39m         \u001b[38;5;28;01mraise\u001b[39;00m value.with_traceback(tb)\n\u001b[32m    197\u001b[39m     \u001b[38;5;28;01mraise\u001b[39;00m value\n",
      "\u001b[36mFile \u001b[39m\u001b[32m/opt/homebrew/Caskroom/miniforge/base/envs/premise/lib/python3.11/site-packages/peewee.py:3322\u001b[39m, in \u001b[36mDatabase.execute_sql\u001b[39m\u001b[34m(self, sql, params, commit)\u001b[39m\n\u001b[32m   3320\u001b[39m \u001b[38;5;28;01mwith\u001b[39;00m __exception_wrapper__:\n\u001b[32m   3321\u001b[39m     cursor = \u001b[38;5;28mself\u001b[39m.cursor()\n\u001b[32m-> \u001b[39m\u001b[32m3322\u001b[39m     cursor.execute(sql, params \u001b[38;5;129;01mor\u001b[39;00m ())\n\u001b[32m   3323\u001b[39m \u001b[38;5;28;01mreturn\u001b[39;00m cursor\n",
      "\u001b[31mOperationalError\u001b[39m: database is locked"
     ]
    }
   ],
   "source": [
    "ndb.write_db_to_brightway(\"test steel 4\")"
   ]
  },
  {
   "cell_type": "code",
   "execution_count": null,
   "id": "131379dc1736c94b",
   "metadata": {},
   "outputs": [],
   "source": [
    "ndb.scenarios[0][\"iam data\"].petrol_efficiencies.sel(region=\"eu27\", year=2050)"
   ]
  },
  {
   "cell_type": "code",
   "execution_count": 3,
   "id": "10bb1f032cdd920",
   "metadata": {
    "ExecuteTime": {
     "end_time": "2025-05-04T12:17:54.345822Z",
     "start_time": "2025-05-04T12:17:49.688078Z"
    }
   },
   "outputs": [],
   "source": [
    "from premise.utils import load_database\n",
    "\n",
    "for scenario in ndb.scenarios:\n",
    "    scenario = load_database(scenario)"
   ]
  },
  {
   "cell_type": "code",
   "execution_count": 4,
   "id": "96673dc487d06324",
   "metadata": {
    "ExecuteTime": {
     "end_time": "2025-05-04T12:18:12.999942Z",
     "start_time": "2025-05-04T12:18:12.404163Z"
    }
   },
   "outputs": [],
   "source": [
    "for ds in ndb.scenarios[0][\"database\"]:\n",
    "    for e in ds[\"exchanges\"]:\n",
    "        float(e[\"amount\"])"
   ]
  },
  {
   "cell_type": "code",
   "execution_count": null,
   "id": "7603a8e71d081811",
   "metadata": {},
   "outputs": [],
   "source": [
    "ndb.scenarios[0][\"iam data\"].passenger_car_efficiencies.sel(region=\"india\")"
   ]
  },
  {
   "cell_type": "code",
   "execution_count": null,
   "id": "6d5bd367269506d3",
   "metadata": {},
   "outputs": [],
   "source": [
    "expected_co2 = 0.0\n",
    "\n",
    "energy = sum(\n",
    "    [\n",
    "        exc[\"amount\"]\n",
    "        for exc in ds[\"exchanges\"]\n",
    "        if exc[\"unit\"] == \"megajoule\" and exc[\"type\"] == \"technosphere\"\n",
    "    ]\n",
    ")\n",
    "# add input of coal\n",
    "coal = sum(\n",
    "    [\n",
    "        exc[\"amount\"] * 26.4\n",
    "        for exc in ds[\"exchanges\"]\n",
    "        if \"hard coal\" in exc[\"name\"]\n",
    "        and exc[\"type\"] == \"technosphere\"\n",
    "        and exc[\"unit\"] == \"kilogram\"\n",
    "    ]\n",
    ")\n",
    "\n",
    "expected_co2 += coal * 0.098\n",
    "print(expected_co2)\n",
    "\n",
    "# add input of coal briquettes\n",
    "briquettes = sum(\n",
    "    [\n",
    "        exc[\"amount\"]\n",
    "        for exc in ds[\"exchanges\"]\n",
    "        if \"briquettes\" in exc[\"name\"]\n",
    "        and exc[\"type\"] == \"technosphere\"\n",
    "        and exc[\"unit\"] == \"megajoule\"\n",
    "    ]\n",
    ")\n",
    "\n",
    "expected_co2 += briquettes * 0.098\n",
    "print(expected_co2)\n",
    "\n",
    "# add input of natural gas\n",
    "nat_gas = sum(\n",
    "    [\n",
    "        exc[\"amount\"] * (36 if exc[\"unit\"] == \"cubic meter\" else 47.5)\n",
    "        for exc in ds[\"exchanges\"]\n",
    "        if \"natural gas\" in exc[\"name\"]\n",
    "        and exc[\"type\"] == \"technosphere\"\n",
    "        and exc[\"unit\"] in [\"cubic meter\", \"kilogram\"]\n",
    "    ]\n",
    ")\n",
    "\n",
    "expected_co2 += nat_gas * 0.06\n",
    "print(expected_co2)\n",
    "\n",
    "# add input of liquefied natural gas\n",
    "\n",
    "lpg = sum(\n",
    "    [\n",
    "        exc[\"amount\"] * (36 if exc[\"unit\"] == \"cubic meter\" else 47.5)\n",
    "        for exc in ds[\"exchanges\"]\n",
    "        if \"liquefied petroleum gas\" in exc[\"name\"]\n",
    "        and exc[\"type\"] == \"technosphere\"\n",
    "        and exc[\"unit\"] in [\"cubic meter\", \"kilogram\"]\n",
    "    ]\n",
    ")\n",
    "\n",
    "expected_co2 += lpg * 0.0631\n",
    "print(expected_co2)\n",
    "\n",
    "# add input of diesel\n",
    "diesel = sum(\n",
    "    [\n",
    "        exc[\"amount\"] * 42.6\n",
    "        for exc in ds[\"exchanges\"]\n",
    "        if \"diesel\" in exc[\"name\"]\n",
    "        and exc[\"type\"] == \"technosphere\"\n",
    "        and exc[\"unit\"] == \"kilogram\"\n",
    "    ]\n",
    ")\n",
    "\n",
    "expected_co2 += diesel * 0.0732\n",
    "print(expected_co2)\n",
    "\n",
    "# add input of light fuel oil\n",
    "light_fue_oil = sum(\n",
    "    [\n",
    "        exc[\"amount\"] * 41.8\n",
    "        for exc in ds[\"exchanges\"]\n",
    "        if \"light fuel oil\" in exc[\"name\"]\n",
    "        and exc[\"type\"] == \"technosphere\"\n",
    "        and exc[\"unit\"] == \"kilogram\"\n",
    "    ]\n",
    ")\n",
    "\n",
    "expected_co2 += light_fue_oil * 0.0686\n",
    "print(expected_co2)\n",
    "\n",
    "# add input of heavy fuel oil\n",
    "heavy_fuel_oil = sum(\n",
    "    [\n",
    "        exc[\"amount\"] * 41.8\n",
    "        for exc in ds[\"exchanges\"]\n",
    "        if \"heavy fuel oil\" in exc[\"name\"]\n",
    "        and exc[\"type\"] == \"technosphere\"\n",
    "        and exc[\"unit\"] == \"kilogram\"\n",
    "    ]\n",
    ")\n",
    "\n",
    "expected_co2 += heavy_fuel_oil * 0.0739\n",
    "print(expected_co2)\n",
    "\n",
    "# add input of biomass\n",
    "biomass = sum(\n",
    "    [\n",
    "        exc[\"amount\"] * 18\n",
    "        for exc in ds[\"exchanges\"]\n",
    "        if any(x in exc[\"name\"] for x in [\"biomass\", \"wood\", \"timber\"])\n",
    "        and exc[\"type\"] == \"technosphere\"\n",
    "        and exc[\"unit\"] == \"kilogram\"\n",
    "    ]\n",
    ")\n",
    "\n",
    "expected_co2 += biomass * 0.112\n",
    "print(expected_co2)\n",
    "\n",
    "# add input of methane\n",
    "methane = sum(\n",
    "    [\n",
    "        exc[\"amount\"] * (36 if exc[\"unit\"] == \"cubic meter\" else 47.5)\n",
    "        for exc in ds[\"exchanges\"]\n",
    "        if \"methane\" in exc[\"name\"]\n",
    "        and exc[\"type\"] == \"technosphere\"\n",
    "        and exc[\"unit\"] in [\"kilogram\", \"cubic meter\"]\n",
    "    ]\n",
    ")\n",
    "\n",
    "expected_co2 += methane * 0.06\n",
    "print(expected_co2)\n",
    "\n",
    "# add input of biogas\n",
    "biogas = sum(\n",
    "    [\n",
    "        exc[\"amount\"] * 22.7\n",
    "        for exc in ds[\"exchanges\"]\n",
    "        if \"biogas\" in exc[\"name\"]\n",
    "        and exc[\"type\"] == \"technosphere\"\n",
    "        and exc[\"unit\"] == \"cubic meter\"\n",
    "    ]\n",
    ")\n",
    "\n",
    "expected_co2 += biogas * 0.058\n",
    "print(expected_co2)\n",
    "\n",
    "# add input of methanol\n",
    "methanol = sum(\n",
    "    [\n",
    "        exc[\"amount\"] * 20\n",
    "        for exc in ds[\"exchanges\"]\n",
    "        if \"methanol\" in exc[\"name\"]\n",
    "        and exc[\"type\"] == \"technosphere\"\n",
    "        and exc[\"unit\"] == \"kilogram\"\n",
    "    ]\n",
    ")\n",
    "\n",
    "expected_co2 += methanol * 0.069\n",
    "print(expected_co2)\n",
    "\n",
    "# add input of hydrogen\n",
    "hydrogen = sum(\n",
    "    [\n",
    "        exc[\"amount\"] * 120\n",
    "        for exc in ds[\"exchanges\"]\n",
    "        if \"hydrogen\" in exc[\"name\"]\n",
    "        and exc[\"type\"] == \"technosphere\"\n",
    "        and exc[\"unit\"] == \"kilogram\"\n",
    "    ]\n",
    ")\n",
    "\n",
    "# add input of electricity\n",
    "electricity = sum(\n",
    "    [\n",
    "        exc[\"amount\"] * 3.6\n",
    "        for exc in ds[\"exchanges\"]\n",
    "        if \"electricity\" in exc[\"name\"]\n",
    "        and exc[\"type\"] == \"technosphere\"\n",
    "        and exc[\"unit\"] == \"kilowatt hour\"\n",
    "    ]\n",
    ")\n",
    "\n",
    "energy_input = sum(\n",
    "    [\n",
    "        energy,\n",
    "        coal,\n",
    "        briquettes,\n",
    "        nat_gas,\n",
    "        lpg,\n",
    "        diesel,\n",
    "        light_fue_oil,\n",
    "        heavy_fuel_oil,\n",
    "        biomass,\n",
    "        methane,\n",
    "        biogas,\n",
    "        hydrogen,\n",
    "        methanol,\n",
    "        electricity,\n",
    "    ]\n",
    ")"
   ]
  },
  {
   "cell_type": "code",
   "execution_count": null,
   "id": "7bd28b00f5f5392",
   "metadata": {},
   "outputs": [],
   "source": [
    "[\n",
    "        exc\n",
    "        for exc in ds[\"exchanges\"]\n",
    "        if any(x in exc[\"name\"] for x in [\"biomass\", \"wood\", \"timber\"])\n",
    "        and exc[\"type\"] == \"technosphere\"\n",
    "        and exc[\"unit\"] == \"kilogram\"\n",
    "    ]"
   ]
  },
  {
   "cell_type": "code",
   "execution_count": null,
   "id": "853ca47a3fbaa431",
   "metadata": {},
   "outputs": [],
   "source": [
    "ndb.scenarios[0][\"iam data\"].biomass_mix.sel(region=\"canada\", year=2050)"
   ]
  },
  {
   "cell_type": "code",
   "execution_count": null,
   "id": "7d9fb2546c6e962a",
   "metadata": {},
   "outputs": [],
   "source": [
    "bw2data.projects.set_current(\"ecoinvent-3.9.1-cutoff_bw25\")\n",
    "bw2data.databases"
   ]
  },
  {
   "cell_type": "code",
   "execution_count": null,
   "id": "974a81ed0554eb61",
   "metadata": {},
   "outputs": [],
   "source": [
    "ndb.generate_scenario_report()"
   ]
  },
  {
   "cell_type": "code",
   "execution_count": null,
   "id": "77294127c8e5d2af",
   "metadata": {},
   "outputs": [],
   "source": [
    "ndb.scenarios[0][\"iam data\"].daccs_energy_use"
   ]
  },
  {
   "cell_type": "code",
   "execution_count": null,
   "id": "7e919ed98a057ff4",
   "metadata": {},
   "outputs": [],
   "source": [
    "ndb.update([\n",
    "    #\"fuels\",\n",
    "    \"heat\",\n",
    "    \"final energy\"\n",
    "])"
   ]
  },
  {
   "cell_type": "code",
   "execution_count": null,
   "id": "a8288fb700182251",
   "metadata": {},
   "outputs": [],
   "source": [
    "ndb.write_db_to_brightway(\"heat test 1\")"
   ]
  },
  {
   "cell_type": "code",
   "execution_count": null,
   "id": "1a2f121af17a1940",
   "metadata": {},
   "outputs": [],
   "source": [
    "ndb.write_superstructure_db_to_brightway(\"heat test 1\")"
   ]
  },
  {
   "cell_type": "code",
   "execution_count": null,
   "id": "202bbe6742448c94",
   "metadata": {},
   "outputs": [],
   "source": [
    "from premise.utils import load_database\n",
    "\n",
    "for scenario in ndb.scenarios:\n",
    "    scenario = load_database(scenario)\n",
    "\n",
    "\n",
    "for scenario in ndb.scenarios:\n",
    "    for ds in scenario[\"database\"]:\n",
    "        if ds[\"name\"] == \"biodiesel, burned in passenger train\" and ds[\"location\"] == \"LAM\":\n",
    "            for e in ds[\"exchanges\"]:\n",
    "                    print(e[\"name\"], e[\"amount\"])"
   ]
  },
  {
   "cell_type": "code",
   "execution_count": null,
   "id": "7eafab26864ad499",
   "metadata": {},
   "outputs": [],
   "source": [
    "ndb.scenarios[0][\"iam data\"].buildings_heating_mix.sel(region=\"CAZ\")"
   ]
  },
  {
   "cell_type": "code",
   "execution_count": null,
   "id": "524ba3344b80c2b6",
   "metadata": {},
   "outputs": [],
   "source": [
    "ndb.update(\n",
    "    [\n",
    "        #\"electricity\",\n",
    "        #\"dac\",\n",
    "        #\"fuels\",\n",
    "        \"heat\",\n",
    "        #\"final energy\"\n",
    "    ]\n",
    ")"
   ]
  },
  {
   "cell_type": "code",
   "execution_count": null,
   "id": "d3dd09b526bf1f82",
   "metadata": {},
   "outputs": [],
   "source": [
    "ndb.generate_scenario_report()"
   ]
  },
  {
   "cell_type": "code",
   "execution_count": null,
   "id": "88c93471cd553c7d",
   "metadata": {},
   "outputs": [],
   "source": [
    "ndb.write_db_to_brightway(\"test final energy 12\")"
   ]
  },
  {
   "cell_type": "code",
   "execution_count": null,
   "id": "5071d79546324033",
   "metadata": {},
   "outputs": [],
   "source": [
    "import copy\n",
    "import json\n",
    "import ujson\n",
    "import pickle"
   ]
  },
  {
   "cell_type": "code",
   "execution_count": null,
   "id": "5eb53be8a6f23a38",
   "metadata": {},
   "outputs": [],
   "source": [
    "%%time\n",
    "\n",
    "data = pickle.dumps(ndb.database, -1)\n",
    "db = pickle.loads(data)"
   ]
  },
  {
   "cell_type": "code",
   "execution_count": null,
   "id": "b28016159b90f5d",
   "metadata": {},
   "outputs": [],
   "source": [
    "%%time\n",
    "\n",
    "json_data = ujson.dumps(ndb.database)\n",
    "db = ujson.loads(json_data)"
   ]
  },
  {
   "cell_type": "code",
   "execution_count": null,
   "id": "1c450a254f60e4c2",
   "metadata": {},
   "outputs": [],
   "source": [
    "%%time\n",
    "\n",
    "json_data = json.dumps(ndb.database)\n",
    "db = json.loads(json_data)"
   ]
  },
  {
   "cell_type": "code",
   "execution_count": null,
   "id": "8a71e64160723b7f",
   "metadata": {},
   "outputs": [],
   "source": [
    "%%time\n",
    "\n",
    "db = copy.deepcopy(ndb.database)"
   ]
  },
  {
   "cell_type": "code",
   "execution_count": null,
   "id": "803ad19683f73306",
   "metadata": {},
   "outputs": [],
   "source": [
    "ndb.update()"
   ]
  },
  {
   "cell_type": "code",
   "execution_count": null,
   "id": "4bf7002bded25fc0",
   "metadata": {},
   "outputs": [],
   "source": [
    "for ds in ndb.scenarios[0][\"database\"]:\n",
    "    if ds[\"name\"] == \"market for petrol, low-sulfur, 20-year period\" and ds[\"location\"] == \"WEU\":\n",
    "        for e in ds[\"exchanges\"]:\n",
    "            print(e[\"name\"], e[\"amount\"])"
   ]
  },
  {
   "cell_type": "code",
   "execution_count": null,
   "id": "46ffa09344849b36",
   "metadata": {},
   "outputs": [],
   "source": [
    "ndb.write_db_to_brightway()"
   ]
  },
  {
   "cell_type": "code",
   "execution_count": null,
   "id": "b4d6c662caec731",
   "metadata": {},
   "outputs": [],
   "source": [
    "import pandas as pd\n",
    "fp = \"/Users/romain/GitHub/carculator_utils/carculator_utils/data/emission_factors/car/EF_HBEFA42_exhaust.csv\"\n",
    "df = pd.read_csv(fp)"
   ]
  },
  {
   "cell_type": "code",
   "execution_count": null,
   "id": "ec5b169a919cf6cd",
   "metadata": {},
   "outputs": [],
   "source": [
    "df.loc[df[\"euro_class\"]==6.2]"
   ]
  },
  {
   "cell_type": "code",
   "execution_count": null,
   "id": "7a3199ee79224d44",
   "metadata": {},
   "outputs": [],
   "source": [
    "import pandas as pd\n",
    "fp = \"/Users/romain/GitHub/premise/premise/data/iam_output_files/fleet_files/image_fleet_trucks.csv\"\n",
    "fp_out = \"/Users/romain/GitHub/premise/premise/data/iam_output_files/fleet_files/image_fleet_trucks_.csv\"\n",
    "df = pd.read_csv(fp, sep=\",\")"
   ]
  },
  {
   "cell_type": "code",
   "execution_count": null,
   "id": "94ed0323dc079ff4",
   "metadata": {},
   "outputs": [],
   "source": [
    "df"
   ]
  },
  {
   "cell_type": "code",
   "execution_count": null,
   "id": "e871aa6d3cf026b3",
   "metadata": {},
   "outputs": [],
   "source": [
    "df.groupby([\"year\", \"region\", \"powertrain\", \"size\"]).sum().to_csv(fp_out)"
   ]
  },
  {
   "cell_type": "code",
   "execution_count": null,
   "id": "3df3b2cd643021a0",
   "metadata": {},
   "outputs": [],
   "source": [
    "from bw2io import ExcelImporter\n",
    "import bw2data\n",
    "\n",
    "bw2data.projects.set_current(\"new4\")\n",
    "fp = \"/Users/romain/GitHub/premise/premise/data/additional_inventories/lci-pass_cars.xlsx\"\n",
    "\n",
    "i = ExcelImporter(fp)"
   ]
  },
  {
   "cell_type": "code",
   "execution_count": null,
   "id": "3979959ceb49433",
   "metadata": {},
   "outputs": [],
   "source": [
    "i.apply_strategies()"
   ]
  },
  {
   "cell_type": "code",
   "execution_count": null,
   "id": "aef43528a88126f1",
   "metadata": {},
   "outputs": [],
   "source": [
    "bw2data.databases"
   ]
  },
  {
   "cell_type": "code",
   "execution_count": null,
   "id": "e9d990b5c74b357a",
   "metadata": {},
   "outputs": [],
   "source": [
    "i.match_database(fields=[\"name\", \"reference product\", \"location\"])\n",
    "i.match_database(\"ecoinvent 3.7 cutoff\", fields=[\"name\", \"reference product\", \"location\"])\n",
    "i.match_database(\"biosphere3\", fields=[\"name\", \"categories\",])"
   ]
  },
  {
   "cell_type": "code",
   "execution_count": null,
   "id": "a96f35b910afe5e0",
   "metadata": {},
   "outputs": [],
   "source": [
    "i.statistics()"
   ]
  },
  {
   "cell_type": "code",
   "execution_count": null,
   "id": "1a92ad657ba1e7ea",
   "metadata": {},
   "outputs": [],
   "source": [
    "list(i.unlinked)"
   ]
  },
  {
   "cell_type": "code",
   "execution_count": null,
   "id": "bde98d2501c2a12e",
   "metadata": {},
   "outputs": [],
   "source": [
    "i.write_excel()"
   ]
  },
  {
   "cell_type": "code",
   "execution_count": null,
   "id": "dcbba9f26a414f95",
   "metadata": {},
   "outputs": [],
   "source": [
    "ndb.write_db_to_brightway(\"test batt\")"
   ]
  },
  {
   "cell_type": "code",
   "execution_count": null,
   "id": "75f04ed0f06a640c",
   "metadata": {},
   "outputs": [],
   "source": [
    "ndb.update()"
   ]
  },
  {
   "cell_type": "code",
   "execution_count": null,
   "id": "f28e3831682d9b15",
   "metadata": {},
   "outputs": [],
   "source": [
    "ndb.write_db_to_brightway(\"test13\")"
   ]
  },
  {
   "cell_type": "code",
   "execution_count": null,
   "id": "722cfa5ff851f04b",
   "metadata": {},
   "outputs": [],
   "source": [
    "for ds in ndb.database:\n",
    "    if ds[\"reference product\"] == \"biogas\" and \"market for\" not in ds[\"name\"]:\n",
    "        print(ds[\"location\"])\n",
    "        for e in ds[\"exchanges\"]:\n",
    "            print(e[\"name\"], e[\"amount\"])\n",
    "        print()"
   ]
  },
  {
   "cell_type": "code",
   "execution_count": null,
   "id": "e2135b1e0a7b42fa",
   "metadata": {},
   "outputs": [],
   "source": [
    "ndb.write_db_to_brightway(\"test8\")"
   ]
  },
  {
   "cell_type": "code",
   "execution_count": null,
   "id": "3c4fe43c06daa42b",
   "metadata": {},
   "outputs": [],
   "source": [
    "bw2data."
   ]
  },
  {
   "cell_type": "code",
   "execution_count": null,
   "id": "9b32b8eeaae02b34",
   "metadata": {},
   "outputs": [],
   "source": [
    "FU = [\n",
    "    {a: 1} for a in\n",
    "    bw2data.Database(\"ecoinvent_cutoff_3.9_image_SSP2-Base_2050\")\n",
    "    if a[\"name\"].startswith(\"electricity production\") and a[\"unit\"] == \"kilowatt hour\"\n",
    "]\n",
    "\n",
    "print(len(FU))\n",
    "\n",
    "list_meth = [\n",
    "    ('IPCC 2021', 'climate change', 'GWP 100a, incl. H'),\n",
    "    ('IPCC 2021', 'climate change', 'GWP 100a, incl. H and bio CO2')\n",
    "]\n",
    "import bw2calc\n",
    "bw2data.calculation_setups['multiLCA'] = {'inv': FU, 'ia': list_meth}\n",
    "myMultiLCA = bw2calc.MultiLCA('multiLCA')\n",
    "df_impact_exc = pd.DataFrame(columns = [\", \".join(i) for i in list_meth],\n",
    "     data = myMultiLCA.results,\n",
    "     index=[k[\"name\"] + \", \" + k[\"location\"] for i in FU for k in i]\n",
    ")"
   ]
  },
  {
   "cell_type": "code",
   "execution_count": null,
   "id": "dbe55e9532a7053e",
   "metadata": {},
   "outputs": [],
   "source": [
    "ndb.update_steel()"
   ]
  },
  {
   "cell_type": "code",
   "execution_count": null,
   "id": "ec59eff4cfec16cc",
   "metadata": {},
   "outputs": [],
   "source": [
    "ndb.update_biomass()"
   ]
  },
  {
   "cell_type": "code",
   "execution_count": null,
   "id": "b99d9a1499b8b910",
   "metadata": {},
   "outputs": [],
   "source": [
    "ndb.update_electricity()"
   ]
  },
  {
   "cell_type": "code",
   "execution_count": null,
   "id": "f1d89e791755eb70",
   "metadata": {},
   "outputs": [],
   "source": [
    "ndb.write_db_to_simapro()"
   ]
  },
  {
   "cell_type": "code",
   "execution_count": null,
   "id": "5187b89b36952e9a",
   "metadata": {},
   "outputs": [],
   "source": [
    "for ds in ndb.scenarios[0][\"database\"]:\n",
    "    if ds[\"name\"].startswith(\"market group for electricity, low\"):\n",
    "        print(ds[\"name\"], ds[\"reference product\"], ds[\"location\"])"
   ]
  },
  {
   "cell_type": "code",
   "execution_count": null,
   "id": "7179783a75e3af8a",
   "metadata": {},
   "outputs": [],
   "source": [
    "ndb.scenarios[1][\"iam data\"].carbon_capture_rate"
   ]
  },
  {
   "cell_type": "code",
   "execution_count": null,
   "id": "b22b24917a54e8c9",
   "metadata": {},
   "outputs": [],
   "source": [
    "from collections import defaultdict\n",
    "res = defaultdict(float)\n",
    "for ds in ndb.scenarios[0][\"database\"]:\n",
    "    if ds[\"reference product\"]==\"biogas\":\n",
    "        print(ds[\"location\"], ds[\"name\"])\n",
    "        for e in ds[\"exchanges\"]:\n",
    "            print(e[\"name\"], e[\"amount\"], e.get(\"location\"))\n",
    "        print()\n",
    "\n"
   ]
  },
  {
   "cell_type": "code",
   "execution_count": null,
   "id": "c18f1d54d6fc565a",
   "metadata": {},
   "outputs": [],
   "source": [
    "from collections import defaultdict\n",
    "res = defaultdict(float)\n",
    "for ds in ndb.scenarios[1][\"database\"]:\n",
    "    if ds[\"name\"]==\"market group for heat, district or industrial, natural gas\":\n",
    "        print(ds[\"location\"], ds[\"name\"])\n",
    "        for e in ds[\"exchanges\"]:\n",
    "            print(e[\"name\"], e[\"amount\"], e.get(\"location\"), e[\"type\"])\n",
    "        print()\n"
   ]
  },
  {
   "cell_type": "code",
   "execution_count": null,
   "id": "52000a9fce1790cf",
   "metadata": {},
   "outputs": [],
   "source": [
    "from collections import defaultdict\n",
    "res = defaultdict(float)\n",
    "for ds in ndb.scenarios[0][\"database\"]:\n",
    "    if ds[\"name\"]==\"transport, freight, lorry, plugin diesel hybrid, 26t gross weight, 2020, EURO-VI, regional delivery\" and ds[\"location\"] == \"ME\":\n",
    "        print(ds[\"location\"], ds[\"name\"])\n",
    "        for e in ds[\"exchanges\"]:\n",
    "            print(e[\"name\"], e[\"amount\"], e.get(\"location\"), e[\"type\"])\n",
    "        print()\n"
   ]
  },
  {
   "cell_type": "code",
   "execution_count": null,
   "id": "563e207741d39963",
   "metadata": {},
   "outputs": [],
   "source": [
    "from premise.geomap import Geomap\n",
    "geo = Geomap(\"remind\")\n",
    "geo.ecoinvent_to_iam_location(\"Europe, without Russia and Turkey\")"
   ]
  },
  {
   "cell_type": "code",
   "execution_count": null,
   "id": "b1dc41b3b2c3817",
   "metadata": {},
   "outputs": [],
   "source": [
    "geo.iam_to_ecoinvent_location(\"EUR\")"
   ]
  },
  {
   "cell_type": "code",
   "execution_count": null,
   "id": "8b2bfbd846deff44",
   "metadata": {},
   "outputs": [],
   "source": [
    "geo.rev_additional_mappings"
   ]
  },
  {
   "cell_type": "code",
   "execution_count": null,
   "id": "dc8e7d3613e286db",
   "metadata": {},
   "outputs": [],
   "source": [
    "from collections import defaultdict\n",
    "res = defaultdict(float)\n",
    "for ds in ndb.scenarios[0][\"database\"]:\n",
    "    if ds[\"name\"]==\"pig iron production\" and ds[\"location\"] == \"CHN\":\n",
    "        print(ds[\"location\"], ds[\"name\"])\n",
    "        for e in ds[\"exchanges\"]:\n",
    "            print(e[\"name\"], e[\"amount\"])\n",
    "        print(ds[\"comment\"])\n",
    "        print()\n"
   ]
  },
  {
   "cell_type": "code",
   "execution_count": null,
   "id": "78e52a3234e7ce6b",
   "metadata": {},
   "outputs": [],
   "source": [
    "import pandas as pd\n",
    "import matplotlib.pyplot as plt\n",
    "pd.DataFrame.from_dict(res, orient=\"index\").plot(kind=\"bar\", figsize=(20, 5))\n",
    "plt.ylabel(\"kg heavy fuel oil/kWh\")\n",
    "plt.savefig(\"electricity production, oil.png\")"
   ]
  },
  {
   "cell_type": "code",
   "execution_count": null,
   "id": "940cb5cc5a564302",
   "metadata": {},
   "outputs": [],
   "source": [
    "ndb.scenarios[0][\"iam data\"].electricity_efficiencies.coords[\"variables\"].values"
   ]
  },
  {
   "cell_type": "code",
   "execution_count": null,
   "id": "859bc9dc005e51e7",
   "metadata": {},
   "outputs": [],
   "source": [
    "ndb.scenarios[0][\"iam data\"].electricity_efficiencies.sel(variables=\"Biomass IGCC CCS\", year=2050)"
   ]
  },
  {
   "cell_type": "code",
   "execution_count": null,
   "id": "b74028d7f90bac06",
   "metadata": {},
   "outputs": [],
   "source": [
    "ndb.generate_change_report()"
   ]
  },
  {
   "cell_type": "code",
   "execution_count": null,
   "id": "6d1b4534f5e7851b",
   "metadata": {},
   "outputs": [],
   "source": [
    "ndb.scenarios[0][\"iam data\"].gas_markets.sel(region=\"World\")"
   ]
  },
  {
   "cell_type": "code",
   "execution_count": null,
   "id": "9e979343f8e27c5",
   "metadata": {},
   "outputs": [],
   "source": [
    "ndb.scenarios[0]."
   ]
  },
  {
   "cell_type": "code",
   "execution_count": null,
   "id": "2427c5780288903e",
   "metadata": {},
   "outputs": [],
   "source": [
    "for ds in ndb.scenarios[0][\"database\"]:\n",
    "    for e in ds[\"exchanges\"]:\n",
    "        if e[\"name\"] == \"market for platinum\" and e[\"product\"] == \"platinum\":\n",
    "            print(ds[\"name\"], ds[\"location\"], e[\"name\"], e[\"location\"])"
   ]
  },
  {
   "cell_type": "code",
   "execution_count": null,
   "id": "d97e2d04b4a2deb7",
   "metadata": {},
   "outputs": [],
   "source": [
    "import pprint\n",
    "for ds in ndb.scenarios[0][\"database\"]:\n",
    "    if ds[\"name\"].lower() == \"lithium carbonate, precipitated\":\n",
    "        print(ds[\"name\"], ds[\"location\"])"
   ]
  },
  {
   "cell_type": "code",
   "execution_count": null,
   "id": "88aadd7d378d2f5",
   "metadata": {},
   "outputs": [],
   "source": [
    "from premise.activity_maps import InventorySet\n",
    "inv = InventorySet(ndb.database, \"3.9\")"
   ]
  },
  {
   "cell_type": "code",
   "execution_count": null,
   "id": "3f87ecaaf9daa48a",
   "metadata": {},
   "outputs": [],
   "source": [
    "inv.generate_metals_map()"
   ]
  },
  {
   "cell_type": "code",
   "execution_count": null,
   "id": "fda1e633d9c4e9c3",
   "metadata": {},
   "outputs": [],
   "source": [
    "inv.generate_powerplant_map()"
   ]
  },
  {
   "cell_type": "code",
   "execution_count": null,
   "id": "8a08db342a2d1db7",
   "metadata": {},
   "outputs": [],
   "source": [
    "inv.generate_daccs_map()"
   ]
  },
  {
   "cell_type": "code",
   "execution_count": null,
   "id": "bbcd3da88eb7752e",
   "metadata": {},
   "outputs": [],
   "source": [
    "ndb.write_db_to_brightway(\"test_metals\")"
   ]
  },
  {
   "cell_type": "code",
   "execution_count": null,
   "id": "b0198df77378d745",
   "metadata": {},
   "outputs": [],
   "source": [
    "products = [\n",
    "    'lightweighting, glider',\n",
    "    'auxilliary battery inputs, for road vehicle',\n",
    "    'battery cell, Li-ion, NMC622',\n",
    "    'auxilliary electronics inputs, for fuel cell electric vehicle',\n",
    "    'auxilliary material inputs, for fuel cell electric vehicle',\n",
    "    'fuel cell stack, for fuel cell electric vehicle',\n",
    "    'carbon fiber, weaved',\n",
    "    'tank liner, polyethylene, high density',\n",
    "    'transformer and rectifier unit, for electrolyser',\n",
    "    'fuel tank, for diesel road vehicle',\n",
    "    'fuel tank, for compressed hydrogen gas, 700bar',\n",
    "    'fuel tank, for compressed hydrogen gas, 700bar',\n",
    "    'fuel tank, for compressed hydrogen gas, 700bar',\n",
    "    'fuel tank, for compressed natural gas, 200 bar',\n",
    "    'charger, level 3, plugin, 200 kW, for electric vehicle',\n",
    "    'gearbox, for lorry',\n",
    "    'transmission, for lorry',\n",
    "    'suspension, for lorry',\n",
    "    'power electronics, for lorry',\n",
    "    'auxilliary material inputs, for electric lorry',\n",
    "    'retarder, for lorry',\n",
    "    'cabin, for lorry',\n",
    "    'frame, blanks and saddle, for lorry',\n",
    "    'tires and wheels, for lorry',\n",
    "    'auxilliary material inputs, for hydrid electric lorry',\n",
    "    'exhaust system, for lorry',\n",
    "    'internal combustion engine, for lorry',\n",
    "    'lead acid battery, for lorry',\n",
    "    'charger, level 3, with pantograph, 450 kW, for electric vehicle',\n",
    "    'overhead lines, for electric vehicle',\n",
    "    'battery cell, Li-ion, LTO',\n",
    "    'charging station, 3kW',\n",
    "    'battery cell,  Li-ion, LFP',\n",
    "    'battery cell, Li-ion, NCA',\n",
    "    'assembly operation, for lorry'\n",
    "]\n",
    "\n",
    "print(len(products))\n",
    "\n",
    "acts = [a for a in bw.Database(\"brian\") if a[\"reference product\"] in products]"
   ]
  },
  {
   "cell_type": "code",
   "execution_count": null,
   "id": "72ad43cf12686094",
   "metadata": {},
   "outputs": [],
   "source": [
    "len(acts)"
   ]
  },
  {
   "cell_type": "code",
   "execution_count": null,
   "id": "d97bff3c77594198",
   "metadata": {},
   "outputs": [],
   "source": [
    "[a[\"reference product\"] for a in acts]"
   ]
  },
  {
   "cell_type": "code",
   "execution_count": null,
   "id": "d063670cbb3c7988",
   "metadata": {},
   "outputs": [],
   "source": [
    "import bw2data\n",
    "bw2io.BW2Package.export_obj(obj=bw.Database(\"brian\"), filename=\"db_for_brian.bw2package\")"
   ]
  },
  {
   "cell_type": "code",
   "execution_count": null,
   "id": "857deb761a067276",
   "metadata": {},
   "outputs": [],
   "source": [
    "import bw2data\n",
    "bw2io.BW2Package.import_file(\"db_for_brian.bw2package\")"
   ]
  },
  {
   "cell_type": "code",
   "execution_count": null,
   "id": "617326a88730ae26",
   "metadata": {},
   "outputs": [],
   "source": []
  },
  {
   "cell_type": "code",
   "execution_count": null,
   "id": "c0651775fa31df56",
   "metadata": {},
   "outputs": [],
   "source": [
    "fp = \"/Users/romain/Library/Application Support/Brightway3/ei39.f1469ad5eb0a071dc60323f6e0fce980/output/lci-brian.xlsx\"\n",
    "import bw2io\n",
    "\n",
    "i = bw2io.ExcelImporter(fp)\n",
    "i.apply_strategies()"
   ]
  },
  {
   "cell_type": "code",
   "execution_count": null,
   "id": "234214afe1ea1d6d",
   "metadata": {},
   "outputs": [],
   "source": [
    "ei_acts = list(set([(a[\"name\"], a[\"reference product\"]) for a in bw.Database(\"ecoinvent 3.9.1 cutoff\")]))\n",
    "print(len(ei_acts))"
   ]
  },
  {
   "cell_type": "code",
   "execution_count": null,
   "id": "a697d6bf11cf195a",
   "metadata": {},
   "outputs": [],
   "source": [
    "for ds in i.data:\n",
    "    if (ds[\"name\"], ds[\"reference product\"]) in ei_acts:\n",
    "        i.data.remove(ds)"
   ]
  },
  {
   "cell_type": "code",
   "execution_count": null,
   "id": "9d8304a978b93cf6",
   "metadata": {},
   "outputs": [],
   "source": [
    "for ds in i.data:\n",
    "    if (ds[\"name\"], ds[\"reference product\"]) not in ei_acts:\n",
    "        print(ds[\"name\"])"
   ]
  },
  {
   "cell_type": "code",
   "execution_count": null,
   "id": "34388bf7ba0402a7",
   "metadata": {},
   "outputs": [],
   "source": [
    "len(i.data)"
   ]
  },
  {
   "cell_type": "code",
   "execution_count": null,
   "id": "8e9ee02f88bc750c",
   "metadata": {},
   "outputs": [],
   "source": [
    "for ds in i.data:\n",
    "    print(ds[\"name\"])"
   ]
  },
  {
   "cell_type": "code",
   "execution_count": null,
   "id": "ae7112b8a3688f47",
   "metadata": {},
   "outputs": [],
   "source": [
    "i.match_database(fields=[\"name\", \"unit\", \"location\"])\n",
    "i.match_database(\"ecoinvent 3.9.1 cutoff\", fields=[\"name\", \"reference product\", \"location\", \"unit\"])\n",
    "i.match_database(\"biosphere3\", fields=[\"name\", \"categories\", \"unit\"])"
   ]
  },
  {
   "cell_type": "code",
   "execution_count": null,
   "id": "8edd527169559bad",
   "metadata": {},
   "outputs": [],
   "source": [
    "i.statistics()"
   ]
  },
  {
   "cell_type": "code",
   "execution_count": null,
   "id": "b706db52337ea94e",
   "metadata": {},
   "outputs": [],
   "source": [
    "list(i.unlinked)[-1]"
   ]
  },
  {
   "cell_type": "code",
   "execution_count": null,
   "id": "241e9ab09b839b14",
   "metadata": {},
   "outputs": [],
   "source": [
    "bw.get_activity(('brian', '360c5e612a154ebb8cee2650bcc1bc75_copy1'))"
   ]
  },
  {
   "cell_type": "code",
   "execution_count": null,
   "id": "c2997d115caabc79",
   "metadata": {},
   "outputs": [],
   "source": [
    "for f in bw.Database(\"biosphere3\"):\n",
    "    if f[\"code\"] == \"e030108f-2125-4bcb-a73b-ad72130fcca3\":\n",
    "        print(f)"
   ]
  },
  {
   "cell_type": "code",
   "execution_count": null,
   "id": "be10dfe1c3b03e9b",
   "metadata": {},
   "outputs": [],
   "source": [
    "bw.projects.set_current(\"ei39\")"
   ]
  },
  {
   "cell_type": "code",
   "execution_count": null,
   "id": "8641cc9326594557",
   "metadata": {},
   "outputs": [],
   "source": [
    "l = []\n",
    "\n",
    "for f in bw.Database(\"biosphere3\"):\n",
    "    l.append([f[\"name\"], f[\"categories\"][0], f[\"categories\"][1] if len(f[\"categories\"])>1 else \"unspecified\", f[\"unit\"], f[\"code\"]])"
   ]
  },
  {
   "cell_type": "code",
   "execution_count": null,
   "id": "d14b8b6810407db7",
   "metadata": {},
   "outputs": [],
   "source": [
    "import csv\n",
    "\n",
    "with open(\"flows_biosphere_39.csv\", \"w\", newline=\"\", ) as f:\n",
    "    writer = csv.writer(f, delimiter=\";\")\n",
    "    writer.writerows(l)"
   ]
  },
  {
   "cell_type": "code",
   "execution_count": null,
   "id": "d1033e87e19f1b6a",
   "metadata": {},
   "outputs": [],
   "source": [
    "ndb.scenarios[1][\"iam data\"].fuel_markets.sel(region=\"NEU\").variables.values"
   ]
  },
  {
   "cell_type": "code",
   "execution_count": null,
   "id": "da78d6eb9572402c",
   "metadata": {},
   "outputs": [],
   "source": [
    "import numpy as np\n",
    "for ds in ndb.scenarios[1][\"database\"]:\n",
    "    if ds[\"name\"] == (\"carbon dioxide, captured from atmosphere, with a solvent-based direct air capture system, 1MtCO2, with waste heat, and grid electricity\",\n",
    "                            \"carbon dioxide, captured from atmosphere\"):\n",
    "            print(ds[\"name\"], ds[\"location\"])"
   ]
  },
  {
   "cell_type": "code",
   "execution_count": null,
   "id": "e0406450087645df",
   "metadata": {},
   "outputs": [],
   "source": [
    "for ds in ndb.scenarios[1][\"database\"]:\n",
    "    if \"carbon dioxide, captured\" in ds[\"name\"]:\n",
    "        print(ds[\"name\"], ds[\"location\"])"
   ]
  },
  {
   "cell_type": "code",
   "execution_count": null,
   "id": "6cb99a49758e8a1b",
   "metadata": {},
   "outputs": [],
   "source": [
    "ndb.scenarios[0][\"iam data\"].fuel_markets.sel(region=\"WEU\", year=2050)"
   ]
  },
  {
   "cell_type": "code",
   "execution_count": null,
   "id": "da26d83899a43d74",
   "metadata": {},
   "outputs": [],
   "source": [
    "ndb.scenarios[0][\"iam data\"].fuel_markets.sel(region=\"WEU\")"
   ]
  },
  {
   "cell_type": "code",
   "execution_count": null,
   "id": "182004e2537dc1ea",
   "metadata": {},
   "outputs": [],
   "source": [
    "ndb.update_electricity()"
   ]
  },
  {
   "cell_type": "code",
   "execution_count": null,
   "id": "37ca939a526c842f",
   "metadata": {},
   "outputs": [],
   "source": [
    "ndb.scenarios[0][\"iam data\"].fuel_markets"
   ]
  },
  {
   "cell_type": "code",
   "execution_count": null,
   "id": "79cc76a3a160d93a",
   "metadata": {},
   "outputs": [],
   "source": [
    "ndb.generate_scenario_report()"
   ]
  },
  {
   "cell_type": "code",
   "execution_count": null,
   "id": "27bc35ef5926fb11",
   "metadata": {},
   "outputs": [],
   "source": [
    "ndb.generate_change_report()"
   ]
  },
  {
   "cell_type": "code",
   "execution_count": null,
   "id": "cf45423226ed1e8d",
   "metadata": {},
   "outputs": [],
   "source": [
    "ndb.update_all()"
   ]
  },
  {
   "cell_type": "code",
   "execution_count": null,
   "id": "d060c85ba6db0cf7",
   "metadata": {},
   "outputs": [],
   "source": [
    "ndb.generate_scenario_report()"
   ]
  },
  {
   "cell_type": "code",
   "execution_count": null,
   "id": "aa9e104308187bf1",
   "metadata": {},
   "outputs": [],
   "source": [
    "ndb.generate_change_report()"
   ]
  },
  {
   "cell_type": "code",
   "execution_count": null,
   "id": "5c74db7d325ad48",
   "metadata": {},
   "outputs": [],
   "source": [
    "ndb.scenarios[0][\"iam data\"].gains_data_IAM"
   ]
  },
  {
   "cell_type": "code",
   "execution_count": null,
   "id": "48bf048c7b213ec3",
   "metadata": {},
   "outputs": [],
   "source": []
  },
  {
   "cell_type": "code",
   "execution_count": null,
   "id": "5a2fef918d7cff27",
   "metadata": {},
   "outputs": [],
   "source": [
    "ndb.update_all()"
   ]
  },
  {
   "cell_type": "code",
   "execution_count": null,
   "id": "d29f28a3bfd5ad23",
   "metadata": {},
   "outputs": [],
   "source": [
    "ndb.write_db_to_brightway([\"test_dac\", \"test_dac2\"])"
   ]
  },
  {
   "cell_type": "code",
   "execution_count": null,
   "id": "d07f14760a891021",
   "metadata": {},
   "outputs": [],
   "source": [
    "from premise.geomap import Geomap"
   ]
  },
  {
   "cell_type": "code",
   "execution_count": null,
   "id": "a431188c1913b11e",
   "metadata": {},
   "outputs": [],
   "source": [
    "Geomap()"
   ]
  },
  {
   "cell_type": "code",
   "execution_count": null,
   "id": "5425a624550909c3",
   "metadata": {},
   "outputs": [],
   "source": [
    "Geomap(model=\"remind\").geo.keys()"
   ]
  },
  {
   "cell_type": "code",
   "execution_count": null,
   "id": "702bc0e350d3a479",
   "metadata": {},
   "outputs": [],
   "source": [
    "ndb.scenarios[0][\"iam data\"].carbon_capture_rate.sel(variables=\"steel\")"
   ]
  },
  {
   "cell_type": "code",
   "execution_count": null,
   "id": "16892ef2402a5c64",
   "metadata": {},
   "outputs": [],
   "source": [
    "for ds in ndb.scenarios[0][\"database\"]:\n",
    "    for e in ds[\"exchanges\"]:\n",
    "        if e[\"name\"].startswith(\"CO2 capture, at cement production plant\"):\n",
    "            print(e[\"name\"], e.get(\"location\"), e[\"amount\"])\n",
    "            print(ds[\"name\"])\n",
    "            print(\"--------------------\")"
   ]
  },
  {
   "cell_type": "code",
   "execution_count": null,
   "id": "ac369a7137cc73c",
   "metadata": {},
   "outputs": [],
   "source": []
  }
 ],
 "metadata": {
  "kernelspec": {
   "display_name": "Python 3 (ipykernel)",
   "language": "python",
   "name": "python3"
  },
  "language_info": {
   "codemirror_mode": {
    "name": "ipython",
    "version": 3
   },
   "file_extension": ".py",
   "mimetype": "text/x-python",
   "name": "python",
   "nbconvert_exporter": "python",
   "pygments_lexer": "ipython3",
   "version": "3.11.12"
  }
 },
 "nbformat": 4,
 "nbformat_minor": 5
}
