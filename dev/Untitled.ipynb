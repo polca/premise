{
 "cells": [
  {
   "cell_type": "code",
   "id": "385cbbd43298dc22",
   "metadata": {
    "ExecuteTime": {
     "end_time": "2025-05-25T17:34:34.642705Z",
     "start_time": "2025-05-25T17:33:52.042889Z"
    }
   },
   "source": [
    "%%time\n",
    "\n",
    "from premise import *\n",
    "import bw2data\n",
    "bw2data.projects.set_current(\"ecoinvent-3.11-cutoff\")\n",
    "#bw2data.projects.set_current(\"ecoinvent-3.9.1-cutoff_bw25\")\n",
    "clear_inventory_cache()\n",
    "scenarios = [\n",
    "    #{\"model\": \"remind\", \"pathway\": \"SSP2-NPi\", \"year\": 2020},\n",
    "    #{\"model\": \"remind\", \"pathway\": \"SSP2-NPi\", \"year\": 2030},\n",
    "    #{\"model\": \"remind\", \"pathway\": \"SSP2-NPi\", \"year\": 2040},\n",
    "    #{\"model\": \"remind\", \"pathway\": \"SSP2-NPi\", \"year\": 2050},\n",
    "    #{\"model\": \"remind\", \"pathway\": \"SSP2-NPi\", \"year\": 2060},\n",
    "    #{\"model\": \"remind\", \"pathway\": \"SSP2-PkBudg1150\", \"year\": 2020},\n",
    "    #{\"model\": \"witch\", \"pathway\": \"SSP2-Base\", \"year\": 2050},\n",
    "    #{\"model\": \"witch\", \"pathway\": \"SSP2-PkBudg1150\", \"year\": 2050},\n",
    "    #{\"model\": \"image\", \"pathway\": \"SSP1-L\", \"year\": 2030},\n",
    "    #{\"model\": \"image\", \"pathway\": \"SSP1-Ma\", \"year\": 2030},\n",
    "    #{\"model\": \"image\", \"pathway\": \"SSP1-VLLO\", \"year\": 2030},\n",
    "    #{\"model\": \"image\", \"pathway\": \"SSP2-L\", \"year\": 2030},\n",
    "    #{\"model\": \"image\", \"pathway\": \"SSP2-M\", \"year\": 2030},\n",
    "    {\"model\": \"image\", \"pathway\": \"SSP2-VLHO\", \"year\": 2040},\n",
    "    #{\"model\": \"image\", \"pathway\": \"SSP3-H\", \"year\": 2030},\n",
    "    #{\"model\": \"image\", \"pathway\": \"SSP5-H\", \"year\": 2030},\n",
    "    #{\"model\": \"remind\", \"pathway\": \"SSP1-PkBudg1000\", \"year\": 2040},\n",
    "    #{\"model\": \"remind\", \"pathway\": \"SSP2-PkBudg1000\", \"year\": 2040},\n",
    "    #{\"model\": \"remind\", \"pathway\": \"SSP2-PkBudg650\", \"year\": 2060},\n",
    "    #{\"model\": \"remind\", \"pathway\": \"SSP2-rollBack\", \"year\": 2060},\n",
    "    #{\"model\": \"remind\", \"pathway\": \"SSP2-NDC\", \"year\": 2060},\n",
    "    #{\"model\": \"remind\", \"pathway\": \"SSP3-rollBack\", \"year\": 2060},\n",
    "]\n",
    "\n",
    "ndb = NewDatabase(\n",
    "        scenarios=scenarios,\n",
    "        source_db=\"ecoinvent-3.11-cutoff\",\n",
    "        source_version=\"3.11\",\n",
    "        biosphere_name=\"biosphere3\",\n",
    "        key='tUePmX_S5B8ieZkkM7WUU2CnO8SmShwmAeWK9x2rTFo=',\n",
    ")\n",
    "#ndb.write_db_to_brightway(\"test final energy 2\")"
   ],
   "outputs": [
    {
     "name": "stdout",
     "output_type": "stream",
     "text": [
      "Inventory cache cleared!\n",
      "premise v.(2, 3, 0, 'dev0')\n",
      "+------------------------------------------------------------------+\n",
      "| Warning                                                          |\n",
      "+------------------------------------------------------------------+\n",
      "| Because some of the scenarios can yield LCI databases            |\n",
      "| containing net negative emission technologies (NET),             |\n",
      "| it is advised to account for biogenic CO2 flows when calculating |\n",
      "| Global Warming potential indicators.                             |\n",
      "| `premise_gwp` provides characterization factors for such flows.  |\n",
      "| It also provides factors for hydrogen emissions to air.          |\n",
      "|                                                                  |\n",
      "| Within your bw2 project:                                         |\n",
      "| from premise_gwp import add_premise_gwp                          |\n",
      "| add_premise_gwp()                                                |\n",
      "+------------------------------------------------------------------+\n",
      "+--------------------------------+----------------------------------+\n",
      "| Utils functions                | Description                      |\n",
      "+--------------------------------+----------------------------------+\n",
      "| clear_cache()                  | Clears the cache folder. Useful  |\n",
      "|                                | when updating `premise`or        |\n",
      "|                                | encountering issues with         |\n",
      "|                                | inventories.                     |\n",
      "+--------------------------------+----------------------------------+\n",
      "| get_regions_definition(model)  | Retrieves the list of countries  |\n",
      "|                                | for each region of the model.    |\n",
      "+--------------------------------+----------------------------------+\n",
      "| ndb.NewDatabase(...)           | Generates a summary of the most  |\n",
      "| ndb.generate_scenario_report() | important scenarios' variables.  |\n",
      "+--------------------------------+----------------------------------+\n",
      "Keep uncertainty data?\n",
      "NewDatabase(..., keep_source_db_uncertainty=True), keep_imports_uncertainty=True)\n",
      "\n",
      "Hide these messages?\n",
      "NewDatabase(..., quiet=True)\n",
      "- Extracting source database\n",
      "- Extracting inventories\n",
      "Cannot find cached inventories. Will create them now for next time...\n",
      "Importing default inventories...\n",
      "\n",
      "Extracted 1 worksheets in 0.09 seconds\n",
      "Migrating to 3.10 first\n",
      "Applying strategy: migrate_datasets\n",
      "Applying strategy: migrate_exchanges\n",
      "Applying strategy: migrate_datasets\n",
      "Applying strategy: migrate_exchanges\n"
     ]
    },
    {
     "name": "stderr",
     "output_type": "stream",
     "text": [
      "/opt/homebrew/Caskroom/miniforge/base/envs/premise/lib/python3.11/site-packages/bw2io/importers/base_lci.py:431: UserWarning: Skipping migration migration_35_311 because it isn't installed.\n",
      "  warnings.warn(\n"
     ]
    },
    {
     "name": "stdout",
     "output_type": "stream",
     "text": [
      "Remove uncertainty data.\n",
      "Extracted 1 worksheets in 0.01 seconds\n",
      "Migrating to 3.10 first\n",
      "Applying strategy: migrate_datasets\n",
      "Applying strategy: migrate_exchanges\n",
      "Applying strategy: migrate_datasets\n",
      "Applying strategy: migrate_exchanges\n",
      "Remove uncertainty data.\n"
     ]
    },
    {
     "name": "stderr",
     "output_type": "stream",
     "text": [
      "/opt/homebrew/Caskroom/miniforge/base/envs/premise/lib/python3.11/site-packages/bw2io/importers/base_lci.py:431: UserWarning: Skipping migration migration_35_311 because it isn't installed.\n",
      "  warnings.warn(\n"
     ]
    },
    {
     "name": "stdout",
     "output_type": "stream",
     "text": [
      "Extracted 1 worksheets in 0.01 seconds\n",
      "Migrating to 3.10 first\n",
      "Applying strategy: migrate_datasets\n",
      "Applying strategy: migrate_exchanges\n",
      "Applying strategy: migrate_datasets\n",
      "Applying strategy: migrate_exchanges\n",
      "Remove uncertainty data.\n"
     ]
    },
    {
     "name": "stderr",
     "output_type": "stream",
     "text": [
      "/opt/homebrew/Caskroom/miniforge/base/envs/premise/lib/python3.11/site-packages/bw2io/importers/base_lci.py:431: UserWarning: Skipping migration migration_35_311 because it isn't installed.\n",
      "  warnings.warn(\n"
     ]
    },
    {
     "name": "stdout",
     "output_type": "stream",
     "text": [
      "Extracted 1 worksheets in 0.02 seconds\n",
      "Migrating to 3.10 first\n",
      "Applying strategy: migrate_datasets\n",
      "Applying strategy: migrate_exchanges\n",
      "Applying strategy: migrate_datasets\n",
      "Applying strategy: migrate_exchanges\n",
      "Remove uncertainty data.\n"
     ]
    },
    {
     "name": "stderr",
     "output_type": "stream",
     "text": [
      "/opt/homebrew/Caskroom/miniforge/base/envs/premise/lib/python3.11/site-packages/bw2io/importers/base_lci.py:431: UserWarning: Skipping migration migration_39_311 because it isn't installed.\n",
      "  warnings.warn(\n"
     ]
    },
    {
     "name": "stdout",
     "output_type": "stream",
     "text": [
      "Extracted 1 worksheets in 0.01 seconds\n",
      "Migrating to 3.10 first\n",
      "Applying strategy: migrate_datasets\n",
      "Applying strategy: migrate_exchanges\n",
      "Applying strategy: migrate_datasets\n",
      "Applying strategy: migrate_exchanges\n",
      "Remove uncertainty data.\n"
     ]
    },
    {
     "name": "stderr",
     "output_type": "stream",
     "text": [
      "/opt/homebrew/Caskroom/miniforge/base/envs/premise/lib/python3.11/site-packages/bw2io/importers/base_lci.py:431: UserWarning: Skipping migration migration_36_311 because it isn't installed.\n",
      "  warnings.warn(\n"
     ]
    },
    {
     "name": "stdout",
     "output_type": "stream",
     "text": [
      "Extracted 4 worksheets in 0.16 seconds\n",
      "Applying strategy: migrate_datasets\n",
      "Applying strategy: migrate_exchanges\n",
      "Remove uncertainty data.\n",
      "Extracted 1 worksheets in 0.01 seconds\n",
      "Migrating to 3.10 first\n",
      "Applying strategy: migrate_datasets\n",
      "Applying strategy: migrate_exchanges\n",
      "Applying strategy: migrate_datasets\n",
      "Applying strategy: migrate_exchanges\n",
      "Remove uncertainty data.\n"
     ]
    },
    {
     "name": "stderr",
     "output_type": "stream",
     "text": [
      "/opt/homebrew/Caskroom/miniforge/base/envs/premise/lib/python3.11/site-packages/bw2io/importers/base_lci.py:431: UserWarning: Skipping migration migration_39_311 because it isn't installed.\n",
      "  warnings.warn(\n"
     ]
    },
    {
     "name": "stdout",
     "output_type": "stream",
     "text": [
      "Extracted 7 worksheets in 0.03 seconds\n",
      "Migrating to 3.10 first\n",
      "Applying strategy: migrate_datasets\n",
      "Applying strategy: migrate_exchanges\n",
      "Applying strategy: migrate_datasets\n",
      "Applying strategy: migrate_exchanges\n",
      "Remove uncertainty data.\n"
     ]
    },
    {
     "name": "stderr",
     "output_type": "stream",
     "text": [
      "/opt/homebrew/Caskroom/miniforge/base/envs/premise/lib/python3.11/site-packages/bw2io/importers/base_lci.py:431: UserWarning: Skipping migration migration_38_311 because it isn't installed.\n",
      "  warnings.warn(\n"
     ]
    },
    {
     "name": "stdout",
     "output_type": "stream",
     "text": [
      "Extracted 1 worksheets in 0.02 seconds\n",
      "Migrating to 3.10 first\n",
      "Applying strategy: migrate_datasets\n",
      "Applying strategy: migrate_exchanges\n",
      "Applying strategy: migrate_datasets\n",
      "Applying strategy: migrate_exchanges\n",
      "Remove uncertainty data.\n"
     ]
    },
    {
     "name": "stderr",
     "output_type": "stream",
     "text": [
      "/opt/homebrew/Caskroom/miniforge/base/envs/premise/lib/python3.11/site-packages/bw2io/importers/base_lci.py:431: UserWarning: Skipping migration migration_38_311 because it isn't installed.\n",
      "  warnings.warn(\n"
     ]
    },
    {
     "name": "stdout",
     "output_type": "stream",
     "text": [
      "Extracted 1 worksheets in 0.01 seconds\n",
      "Migrating to 3.10 first\n",
      "Applying strategy: migrate_datasets\n",
      "Applying strategy: migrate_exchanges\n",
      "Applying strategy: migrate_datasets\n",
      "Applying strategy: migrate_exchanges\n",
      "Remove uncertainty data.\n"
     ]
    },
    {
     "name": "stderr",
     "output_type": "stream",
     "text": [
      "/opt/homebrew/Caskroom/miniforge/base/envs/premise/lib/python3.11/site-packages/bw2io/importers/base_lci.py:431: UserWarning: Skipping migration migration_38_311 because it isn't installed.\n",
      "  warnings.warn(\n"
     ]
    },
    {
     "name": "stdout",
     "output_type": "stream",
     "text": [
      "Extracted 1 worksheets in 0.02 seconds\n",
      "Migrating to 3.10 first\n",
      "Applying strategy: migrate_datasets\n",
      "Applying strategy: migrate_exchanges\n",
      "Applying strategy: migrate_datasets\n",
      "Applying strategy: migrate_exchanges\n"
     ]
    },
    {
     "name": "stderr",
     "output_type": "stream",
     "text": [
      "/opt/homebrew/Caskroom/miniforge/base/envs/premise/lib/python3.11/site-packages/bw2io/importers/base_lci.py:431: UserWarning: Skipping migration migration_38_311 because it isn't installed.\n",
      "  warnings.warn(\n"
     ]
    },
    {
     "name": "stdout",
     "output_type": "stream",
     "text": [
      "Remove uncertainty data.\n",
      "Extracted 1 worksheets in 0.03 seconds\n",
      "Migrating to 3.10 first\n",
      "Applying strategy: migrate_datasets\n",
      "Applying strategy: migrate_exchanges\n",
      "Applying strategy: migrate_datasets\n",
      "Applying strategy: migrate_exchanges\n"
     ]
    },
    {
     "name": "stderr",
     "output_type": "stream",
     "text": [
      "/opt/homebrew/Caskroom/miniforge/base/envs/premise/lib/python3.11/site-packages/bw2io/importers/base_lci.py:431: UserWarning: Skipping migration migration_39_311 because it isn't installed.\n",
      "  warnings.warn(\n"
     ]
    },
    {
     "name": "stdout",
     "output_type": "stream",
     "text": [
      "Remove uncertainty data.\n",
      "Extracted 1 worksheets in 0.02 seconds\n",
      "Migrating to 3.10 first\n",
      "Applying strategy: migrate_datasets\n",
      "Applying strategy: migrate_exchanges\n",
      "Applying strategy: migrate_datasets\n",
      "Applying strategy: migrate_exchanges\n"
     ]
    },
    {
     "name": "stderr",
     "output_type": "stream",
     "text": [
      "/opt/homebrew/Caskroom/miniforge/base/envs/premise/lib/python3.11/site-packages/bw2io/importers/base_lci.py:431: UserWarning: Skipping migration migration_39_311 because it isn't installed.\n",
      "  warnings.warn(\n"
     ]
    },
    {
     "name": "stdout",
     "output_type": "stream",
     "text": [
      "Remove uncertainty data.\n",
      "Extracted 1 worksheets in 0.03 seconds\n",
      "Migrating to 3.10 first\n",
      "Applying strategy: migrate_datasets\n",
      "Applying strategy: migrate_exchanges\n",
      "Applying strategy: migrate_datasets\n",
      "Applying strategy: migrate_exchanges\n"
     ]
    },
    {
     "name": "stderr",
     "output_type": "stream",
     "text": [
      "/opt/homebrew/Caskroom/miniforge/base/envs/premise/lib/python3.11/site-packages/bw2io/importers/base_lci.py:431: UserWarning: Skipping migration migration_39_311 because it isn't installed.\n",
      "  warnings.warn(\n"
     ]
    },
    {
     "name": "stdout",
     "output_type": "stream",
     "text": [
      "Remove uncertainty data.\n",
      "Extracted 1 worksheets in 0.02 seconds\n",
      "Migrating to 3.10 first\n",
      "Applying strategy: migrate_datasets\n",
      "Applying strategy: migrate_exchanges\n",
      "Applying strategy: migrate_datasets\n",
      "Applying strategy: migrate_exchanges\n",
      "Remove uncertainty data.\n"
     ]
    },
    {
     "name": "stderr",
     "output_type": "stream",
     "text": [
      "/opt/homebrew/Caskroom/miniforge/base/envs/premise/lib/python3.11/site-packages/bw2io/importers/base_lci.py:431: UserWarning: Skipping migration migration_39_311 because it isn't installed.\n",
      "  warnings.warn(\n"
     ]
    },
    {
     "name": "stdout",
     "output_type": "stream",
     "text": [
      "Extracted 1 worksheets in 0.03 seconds\n",
      "Migrating to 3.10 first\n",
      "Applying strategy: migrate_datasets\n",
      "Applying strategy: migrate_exchanges\n",
      "Applying strategy: migrate_datasets\n",
      "Applying strategy: migrate_exchanges\n"
     ]
    },
    {
     "name": "stderr",
     "output_type": "stream",
     "text": [
      "/opt/homebrew/Caskroom/miniforge/base/envs/premise/lib/python3.11/site-packages/bw2io/importers/base_lci.py:431: UserWarning: Skipping migration migration_39_311 because it isn't installed.\n",
      "  warnings.warn(\n"
     ]
    },
    {
     "name": "stdout",
     "output_type": "stream",
     "text": [
      "Remove uncertainty data.\n",
      "Extracted 1 worksheets in 0.02 seconds\n",
      "Migrating to 3.10 first\n",
      "Applying strategy: migrate_datasets\n",
      "Applying strategy: migrate_exchanges\n",
      "Applying strategy: migrate_datasets\n",
      "Applying strategy: migrate_exchanges\n",
      "Remove uncertainty data.\n"
     ]
    },
    {
     "name": "stderr",
     "output_type": "stream",
     "text": [
      "/opt/homebrew/Caskroom/miniforge/base/envs/premise/lib/python3.11/site-packages/bw2io/importers/base_lci.py:431: UserWarning: Skipping migration migration_39_311 because it isn't installed.\n",
      "  warnings.warn(\n"
     ]
    },
    {
     "name": "stdout",
     "output_type": "stream",
     "text": [
      "Extracted 2 worksheets in 0.02 seconds\n",
      "Applying strategy: migrate_datasets\n",
      "Applying strategy: migrate_exchanges\n",
      "Remove uncertainty data.\n",
      "Extracted 1 worksheets in 0.01 seconds\n",
      "Migrating to 3.10 first\n",
      "Applying strategy: migrate_datasets\n",
      "Applying strategy: migrate_exchanges\n",
      "Applying strategy: migrate_datasets\n",
      "Applying strategy: migrate_exchanges\n",
      "Remove uncertainty data.\n"
     ]
    },
    {
     "name": "stderr",
     "output_type": "stream",
     "text": [
      "/opt/homebrew/Caskroom/miniforge/base/envs/premise/lib/python3.11/site-packages/bw2io/importers/base_lci.py:431: UserWarning: Skipping migration migration_39_311 because it isn't installed.\n",
      "  warnings.warn(\n"
     ]
    },
    {
     "name": "stdout",
     "output_type": "stream",
     "text": [
      "Extracted 1 worksheets in 0.28 seconds\n",
      "Migrating to 3.10 first\n",
      "Applying strategy: migrate_datasets\n",
      "Applying strategy: migrate_exchanges\n",
      "Applying strategy: migrate_datasets\n",
      "Applying strategy: migrate_exchanges\n"
     ]
    },
    {
     "name": "stderr",
     "output_type": "stream",
     "text": [
      "/opt/homebrew/Caskroom/miniforge/base/envs/premise/lib/python3.11/site-packages/bw2io/importers/base_lci.py:431: UserWarning: Skipping migration migration_37_311 because it isn't installed.\n",
      "  warnings.warn(\n"
     ]
    },
    {
     "name": "stdout",
     "output_type": "stream",
     "text": [
      "Remove uncertainty data.\n",
      "The following datasets to import already exist in the source database. They will not be imported\n",
      "+--------------------------------+--------------------------------+----------+-------------+\n",
      "|              Name              |       Reference product        | Location |     File    |\n",
      "+--------------------------------+--------------------------------+----------+-------------+\n",
      "| fluorspar production, 97% puri |     fluorspar, 97% purity      |   GLO    | lci-PV.xlsx |\n",
      "| metallization paste production | metallization paste, back side |   RER    | lci-PV.xlsx |\n",
      "| metallization paste production | metallization paste, back side |   RER    | lci-PV.xlsx |\n",
      "| metallization paste production | metallization paste, front sid |   RER    | lci-PV.xlsx |\n",
      "| photovoltaic module production | photovoltaic module, building- |   RER    | lci-PV.xlsx |\n",
      "| photovoltaic module production | photovoltaic module, building- |   RER    | lci-PV.xlsx |\n",
      "| photovoltaic mounting system p | photovoltaic mounting system,  |   RER    | lci-PV.xlsx |\n",
      "| photovoltaic mounting system p | photovoltaic mounting system,  |   RER    | lci-PV.xlsx |\n",
      "| photovoltaic mounting system p | photovoltaic mounting system,  |   RER    | lci-PV.xlsx |\n",
      "| photovoltaic panel factory con |   photovoltaic panel factory   |   GLO    | lci-PV.xlsx |\n",
      "|  polyvinylfluoride production  |       polyvinylfluoride        |    US    | lci-PV.xlsx |\n",
      "| polyvinylfluoride production,  | polyvinylfluoride, dispersion  |    US    | lci-PV.xlsx |\n",
      "| polyvinylfluoride, film produc |    polyvinylfluoride, film     |    US    | lci-PV.xlsx |\n",
      "| silicon production, metallurgi |  silicon, metallurgical grade  |    NO    | lci-PV.xlsx |\n",
      "|   vinyl fluoride production    |         vinyl fluoride         |    US    | lci-PV.xlsx |\n",
      "|   wafer factory construction   |         wafer factory          |    DE    | lci-PV.xlsx |\n",
      "+--------------------------------+--------------------------------+----------+-------------+\n",
      "Extracted 1 worksheets in 0.02 seconds\n",
      "Migrating to 3.10 first\n",
      "Applying strategy: migrate_datasets\n",
      "Applying strategy: migrate_exchanges\n",
      "Applying strategy: migrate_datasets\n",
      "Applying strategy: migrate_exchanges\n",
      "Remove uncertainty data.\n"
     ]
    },
    {
     "name": "stderr",
     "output_type": "stream",
     "text": [
      "/opt/homebrew/Caskroom/miniforge/base/envs/premise/lib/python3.11/site-packages/bw2io/importers/base_lci.py:431: UserWarning: Skipping migration migration_38_311 because it isn't installed.\n",
      "  warnings.warn(\n"
     ]
    },
    {
     "name": "stdout",
     "output_type": "stream",
     "text": [
      "Extracted 1 worksheets in 0.05 seconds\n",
      "Migrating to 3.10 first\n",
      "Applying strategy: migrate_datasets\n",
      "Applying strategy: migrate_exchanges\n",
      "Applying strategy: migrate_datasets\n",
      "Applying strategy: migrate_exchanges\n",
      "Remove uncertainty data.\n"
     ]
    },
    {
     "name": "stderr",
     "output_type": "stream",
     "text": [
      "/opt/homebrew/Caskroom/miniforge/base/envs/premise/lib/python3.11/site-packages/bw2io/importers/base_lci.py:431: UserWarning: Skipping migration migration_39_311 because it isn't installed.\n",
      "  warnings.warn(\n"
     ]
    },
    {
     "name": "stdout",
     "output_type": "stream",
     "text": [
      "Extracted 1 worksheets in 0.01 seconds\n",
      "Migrating to 3.10 first\n",
      "Applying strategy: migrate_datasets\n",
      "Applying strategy: migrate_exchanges\n",
      "Applying strategy: migrate_datasets\n",
      "Applying strategy: migrate_exchanges\n",
      "Remove uncertainty data.\n"
     ]
    },
    {
     "name": "stderr",
     "output_type": "stream",
     "text": [
      "/opt/homebrew/Caskroom/miniforge/base/envs/premise/lib/python3.11/site-packages/bw2io/importers/base_lci.py:431: UserWarning: Skipping migration migration_39_311 because it isn't installed.\n",
      "  warnings.warn(\n"
     ]
    },
    {
     "name": "stdout",
     "output_type": "stream",
     "text": [
      "Extracted 1 worksheets in 0.02 seconds\n",
      "Migrating to 3.10 first\n",
      "Applying strategy: migrate_datasets\n",
      "Applying strategy: migrate_exchanges\n",
      "Applying strategy: migrate_datasets\n",
      "Applying strategy: migrate_exchanges\n",
      "Remove uncertainty data.\n"
     ]
    },
    {
     "name": "stderr",
     "output_type": "stream",
     "text": [
      "/opt/homebrew/Caskroom/miniforge/base/envs/premise/lib/python3.11/site-packages/bw2io/importers/base_lci.py:431: UserWarning: Skipping migration migration_39_311 because it isn't installed.\n",
      "  warnings.warn(\n"
     ]
    },
    {
     "name": "stdout",
     "output_type": "stream",
     "text": [
      "Extracted 1 worksheets in 0.02 seconds\n",
      "Migrating to 3.10 first\n",
      "Applying strategy: migrate_datasets\n",
      "Applying strategy: migrate_exchanges\n",
      "Applying strategy: migrate_datasets\n",
      "Applying strategy: migrate_exchanges\n",
      "Remove uncertainty data.\n"
     ]
    },
    {
     "name": "stderr",
     "output_type": "stream",
     "text": [
      "/opt/homebrew/Caskroom/miniforge/base/envs/premise/lib/python3.11/site-packages/bw2io/importers/base_lci.py:431: UserWarning: Skipping migration migration_37_311 because it isn't installed.\n",
      "  warnings.warn(\n"
     ]
    },
    {
     "name": "stdout",
     "output_type": "stream",
     "text": [
      "Extracted 1 worksheets in 0.01 seconds\n",
      "Migrating to 3.10 first\n",
      "Applying strategy: migrate_datasets\n",
      "Applying strategy: migrate_exchanges\n",
      "Applying strategy: migrate_datasets\n",
      "Applying strategy: migrate_exchanges\n",
      "Remove uncertainty data.\n"
     ]
    },
    {
     "name": "stderr",
     "output_type": "stream",
     "text": [
      "/opt/homebrew/Caskroom/miniforge/base/envs/premise/lib/python3.11/site-packages/bw2io/importers/base_lci.py:431: UserWarning: Skipping migration migration_37_311 because it isn't installed.\n",
      "  warnings.warn(\n"
     ]
    },
    {
     "name": "stdout",
     "output_type": "stream",
     "text": [
      "Extracted 1 worksheets in 0.01 seconds\n",
      "Migrating to 3.10 first\n",
      "Applying strategy: migrate_datasets\n",
      "Applying strategy: migrate_exchanges\n",
      "Applying strategy: migrate_datasets\n",
      "Applying strategy: migrate_exchanges\n",
      "Remove uncertainty data.\n",
      "The following datasets to import already exist in the source database. They will not be imported\n",
      "+--------------------------------+--------------------------------+----------+--------------------------------+\n",
      "|              Name              |       Reference product        | Location |              File              |\n",
      "+--------------------------------+--------------------------------+----------+--------------------------------+\n",
      "| hydrogen production, coal gasi | hydrogen, gaseous, low pressur |   RoW    | lci-hydrogen-coal-gasification |\n",
      "+--------------------------------+--------------------------------+----------+--------------------------------+\n"
     ]
    },
    {
     "name": "stderr",
     "output_type": "stream",
     "text": [
      "/opt/homebrew/Caskroom/miniforge/base/envs/premise/lib/python3.11/site-packages/bw2io/importers/base_lci.py:431: UserWarning: Skipping migration migration_37_311 because it isn't installed.\n",
      "  warnings.warn(\n"
     ]
    },
    {
     "name": "stdout",
     "output_type": "stream",
     "text": [
      "Extracted 1 worksheets in 0.01 seconds\n",
      "Migrating to 3.10 first\n",
      "Applying strategy: migrate_datasets\n",
      "Applying strategy: migrate_exchanges\n",
      "Applying strategy: migrate_datasets\n",
      "Applying strategy: migrate_exchanges\n",
      "Remove uncertainty data.\n"
     ]
    },
    {
     "name": "stderr",
     "output_type": "stream",
     "text": [
      "/opt/homebrew/Caskroom/miniforge/base/envs/premise/lib/python3.11/site-packages/bw2io/importers/base_lci.py:431: UserWarning: Skipping migration migration_37_311 because it isn't installed.\n",
      "  warnings.warn(\n"
     ]
    },
    {
     "name": "stdout",
     "output_type": "stream",
     "text": [
      "Extracted 1 worksheets in 0.01 seconds\n",
      "Migrating to 3.10 first\n",
      "Applying strategy: migrate_datasets\n",
      "Applying strategy: migrate_exchanges\n",
      "Applying strategy: migrate_datasets\n",
      "Applying strategy: migrate_exchanges\n",
      "Remove uncertainty data.\n"
     ]
    },
    {
     "name": "stderr",
     "output_type": "stream",
     "text": [
      "/opt/homebrew/Caskroom/miniforge/base/envs/premise/lib/python3.11/site-packages/bw2io/importers/base_lci.py:431: UserWarning: Skipping migration migration_37_311 because it isn't installed.\n",
      "  warnings.warn(\n"
     ]
    },
    {
     "name": "stdout",
     "output_type": "stream",
     "text": [
      "Extracted 1 worksheets in 0.01 seconds\n",
      "Migrating to 3.10 first\n",
      "Applying strategy: migrate_datasets\n",
      "Applying strategy: migrate_exchanges\n",
      "Applying strategy: migrate_datasets\n",
      "Applying strategy: migrate_exchanges\n",
      "Remove uncertainty data.\n"
     ]
    },
    {
     "name": "stderr",
     "output_type": "stream",
     "text": [
      "/opt/homebrew/Caskroom/miniforge/base/envs/premise/lib/python3.11/site-packages/bw2io/importers/base_lci.py:431: UserWarning: Skipping migration migration_37_311 because it isn't installed.\n",
      "  warnings.warn(\n"
     ]
    },
    {
     "name": "stdout",
     "output_type": "stream",
     "text": [
      "Extracted 1 worksheets in 0.02 seconds\n",
      "Migrating to 3.10 first\n",
      "Applying strategy: migrate_datasets\n",
      "Applying strategy: migrate_exchanges\n",
      "Applying strategy: migrate_datasets\n",
      "Applying strategy: migrate_exchanges\n"
     ]
    },
    {
     "name": "stderr",
     "output_type": "stream",
     "text": [
      "/opt/homebrew/Caskroom/miniforge/base/envs/premise/lib/python3.11/site-packages/bw2io/importers/base_lci.py:431: UserWarning: Skipping migration migration_37_311 because it isn't installed.\n",
      "  warnings.warn(\n"
     ]
    },
    {
     "name": "stdout",
     "output_type": "stream",
     "text": [
      "Remove uncertainty data.\n",
      "Extracted 1 worksheets in 0.01 seconds\n",
      "Migrating to 3.10 first\n",
      "Applying strategy: migrate_datasets\n",
      "Applying strategy: migrate_exchanges\n",
      "Applying strategy: migrate_datasets\n",
      "Applying strategy: migrate_exchanges\n"
     ]
    },
    {
     "name": "stderr",
     "output_type": "stream",
     "text": [
      "/opt/homebrew/Caskroom/miniforge/base/envs/premise/lib/python3.11/site-packages/bw2io/importers/base_lci.py:431: UserWarning: Skipping migration migration_37_311 because it isn't installed.\n",
      "  warnings.warn(\n"
     ]
    },
    {
     "name": "stdout",
     "output_type": "stream",
     "text": [
      "Remove uncertainty data.\n",
      "Extracted 1 worksheets in 0.01 seconds\n",
      "Migrating to 3.10 first\n",
      "Applying strategy: migrate_datasets\n",
      "Applying strategy: migrate_exchanges\n",
      "Applying strategy: migrate_datasets\n",
      "Applying strategy: migrate_exchanges\n",
      "Remove uncertainty data.\n",
      "The following datasets to import already exist in the source database. They will not be imported\n",
      "+--------------------------------+--------------------------------+----------+--------------------------------+\n",
      "|              Name              |       Reference product        | Location |              File              |\n",
      "+--------------------------------+--------------------------------+----------+--------------------------------+\n",
      "| hydrogen production, steam met | hydrogen, gaseous, low pressur |   RER    | lci-hydrogen-smr-atr-natgas.xl |\n",
      "+--------------------------------+--------------------------------+----------+--------------------------------+\n"
     ]
    },
    {
     "name": "stderr",
     "output_type": "stream",
     "text": [
      "/opt/homebrew/Caskroom/miniforge/base/envs/premise/lib/python3.11/site-packages/bw2io/importers/base_lci.py:431: UserWarning: Skipping migration migration_37_311 because it isn't installed.\n",
      "  warnings.warn(\n"
     ]
    },
    {
     "name": "stdout",
     "output_type": "stream",
     "text": [
      "Extracted 1 worksheets in 0.01 seconds\n",
      "Migrating to 3.10 first\n",
      "Applying strategy: migrate_datasets\n",
      "Applying strategy: migrate_exchanges\n",
      "Applying strategy: migrate_datasets\n",
      "Applying strategy: migrate_exchanges\n",
      "Remove uncertainty data.\n"
     ]
    },
    {
     "name": "stderr",
     "output_type": "stream",
     "text": [
      "/opt/homebrew/Caskroom/miniforge/base/envs/premise/lib/python3.11/site-packages/bw2io/importers/base_lci.py:431: UserWarning: Skipping migration migration_37_311 because it isn't installed.\n",
      "  warnings.warn(\n"
     ]
    },
    {
     "name": "stdout",
     "output_type": "stream",
     "text": [
      "Extracted 1 worksheets in 0.00 seconds\n",
      "Applying strategy: migrate_datasets\n",
      "Applying strategy: migrate_exchanges\n",
      "Remove uncertainty data.\n",
      "Extracted 1 worksheets in 0.00 seconds\n",
      "Migrating to 3.10 first\n",
      "Applying strategy: migrate_datasets\n",
      "Applying strategy: migrate_exchanges\n",
      "Applying strategy: migrate_datasets\n",
      "Applying strategy: migrate_exchanges\n",
      "Remove uncertainty data.\n"
     ]
    },
    {
     "name": "stderr",
     "output_type": "stream",
     "text": [
      "/opt/homebrew/Caskroom/miniforge/base/envs/premise/lib/python3.11/site-packages/bw2io/importers/base_lci.py:431: UserWarning: Skipping migration migration_39_311 because it isn't installed.\n",
      "  warnings.warn(\n"
     ]
    },
    {
     "name": "stdout",
     "output_type": "stream",
     "text": [
      "Extracted 1 worksheets in 0.02 seconds\n",
      "Migrating to 3.10 first\n",
      "Applying strategy: migrate_datasets\n",
      "Applying strategy: migrate_exchanges\n",
      "Applying strategy: migrate_datasets\n",
      "Applying strategy: migrate_exchanges\n",
      "Remove uncertainty data.\n"
     ]
    },
    {
     "name": "stderr",
     "output_type": "stream",
     "text": [
      "/opt/homebrew/Caskroom/miniforge/base/envs/premise/lib/python3.11/site-packages/bw2io/importers/base_lci.py:431: UserWarning: Skipping migration migration_39_311 because it isn't installed.\n",
      "  warnings.warn(\n"
     ]
    },
    {
     "name": "stdout",
     "output_type": "stream",
     "text": [
      "Extracted 1 worksheets in 0.01 seconds\n",
      "Migrating to 3.10 first\n",
      "Applying strategy: migrate_datasets\n",
      "Applying strategy: migrate_exchanges\n",
      "Applying strategy: migrate_datasets\n",
      "Applying strategy: migrate_exchanges\n",
      "Remove uncertainty data.\n",
      "The following datasets to import already exist in the source database. They will not be imported\n",
      "+--------------------------------+--------------------------------+----------+--------------------------------+\n",
      "|              Name              |       Reference product        | Location |              File              |\n",
      "+--------------------------------+--------------------------------+----------+--------------------------------+\n",
      "| methanol production facility,  | methanol production facility,  |   RER    | lci-synfuels-from-methanol-fro |\n",
      "+--------------------------------+--------------------------------+----------+--------------------------------+\n"
     ]
    },
    {
     "name": "stderr",
     "output_type": "stream",
     "text": [
      "/opt/homebrew/Caskroom/miniforge/base/envs/premise/lib/python3.11/site-packages/bw2io/importers/base_lci.py:431: UserWarning: Skipping migration migration_37_311 because it isn't installed.\n",
      "  warnings.warn(\n"
     ]
    },
    {
     "name": "stdout",
     "output_type": "stream",
     "text": [
      "Extracted 1 worksheets in 0.02 seconds\n",
      "Migrating to 3.10 first\n",
      "Applying strategy: migrate_datasets\n",
      "Applying strategy: migrate_exchanges\n",
      "Applying strategy: migrate_datasets\n",
      "Applying strategy: migrate_exchanges\n",
      "Remove uncertainty data.\n"
     ]
    },
    {
     "name": "stderr",
     "output_type": "stream",
     "text": [
      "/opt/homebrew/Caskroom/miniforge/base/envs/premise/lib/python3.11/site-packages/bw2io/importers/base_lci.py:431: UserWarning: Skipping migration migration_39_311 because it isn't installed.\n",
      "  warnings.warn(\n"
     ]
    },
    {
     "name": "stdout",
     "output_type": "stream",
     "text": [
      "Extracted 1 worksheets in 0.01 seconds\n",
      "Migrating to 3.10 first\n",
      "Applying strategy: migrate_datasets\n",
      "Applying strategy: migrate_exchanges\n",
      "Applying strategy: migrate_datasets\n",
      "Applying strategy: migrate_exchanges\n",
      "Remove uncertainty data.\n"
     ]
    },
    {
     "name": "stderr",
     "output_type": "stream",
     "text": [
      "/opt/homebrew/Caskroom/miniforge/base/envs/premise/lib/python3.11/site-packages/bw2io/importers/base_lci.py:431: UserWarning: Skipping migration migration_37_311 because it isn't installed.\n",
      "  warnings.warn(\n"
     ]
    },
    {
     "name": "stdout",
     "output_type": "stream",
     "text": [
      "Extracted 5 worksheets in 0.13 seconds\n",
      "Migrating to 3.10 first\n",
      "Applying strategy: migrate_datasets\n",
      "Applying strategy: migrate_exchanges\n",
      "Applying strategy: migrate_datasets\n",
      "Applying strategy: migrate_exchanges\n"
     ]
    },
    {
     "name": "stderr",
     "output_type": "stream",
     "text": [
      "/opt/homebrew/Caskroom/miniforge/base/envs/premise/lib/python3.11/site-packages/bw2io/importers/base_lci.py:431: UserWarning: Skipping migration migration_37_311 because it isn't installed.\n",
      "  warnings.warn(\n"
     ]
    },
    {
     "name": "stdout",
     "output_type": "stream",
     "text": [
      "Remove uncertainty data.\n",
      "Extracted 1 worksheets in 0.01 seconds\n",
      "Migrating to 3.10 first\n",
      "Applying strategy: migrate_datasets\n",
      "Applying strategy: migrate_exchanges\n",
      "Applying strategy: migrate_datasets\n",
      "Applying strategy: migrate_exchanges\n",
      "Remove uncertainty data.\n"
     ]
    },
    {
     "name": "stderr",
     "output_type": "stream",
     "text": [
      "/opt/homebrew/Caskroom/miniforge/base/envs/premise/lib/python3.11/site-packages/bw2io/importers/base_lci.py:431: UserWarning: Skipping migration migration_37_311 because it isn't installed.\n",
      "  warnings.warn(\n"
     ]
    },
    {
     "name": "stdout",
     "output_type": "stream",
     "text": [
      "Extracted 1 worksheets in 0.01 seconds\n",
      "Migrating to 3.10 first\n",
      "Applying strategy: migrate_datasets\n",
      "Applying strategy: migrate_exchanges\n",
      "Applying strategy: migrate_datasets\n",
      "Applying strategy: migrate_exchanges\n",
      "Remove uncertainty data.\n"
     ]
    },
    {
     "name": "stderr",
     "output_type": "stream",
     "text": [
      "/opt/homebrew/Caskroom/miniforge/base/envs/premise/lib/python3.11/site-packages/bw2io/importers/base_lci.py:431: UserWarning: Skipping migration migration_37_311 because it isn't installed.\n",
      "  warnings.warn(\n"
     ]
    },
    {
     "name": "stdout",
     "output_type": "stream",
     "text": [
      "Extracted 1 worksheets in 0.55 seconds\n",
      "Migrating to 3.10 first\n",
      "Applying strategy: migrate_datasets\n",
      "Applying strategy: migrate_exchanges\n",
      "Applying strategy: migrate_datasets\n",
      "Applying strategy: migrate_exchanges\n",
      "Remove uncertainty data.\n"
     ]
    },
    {
     "name": "stderr",
     "output_type": "stream",
     "text": [
      "/opt/homebrew/Caskroom/miniforge/base/envs/premise/lib/python3.11/site-packages/bw2io/importers/base_lci.py:431: UserWarning: Skipping migration migration_37_311 because it isn't installed.\n",
      "  warnings.warn(\n"
     ]
    },
    {
     "name": "stdout",
     "output_type": "stream",
     "text": [
      "Extracted 1 worksheets in 0.01 seconds\n",
      "Migrating to 3.10 first\n",
      "Applying strategy: migrate_datasets\n",
      "Applying strategy: migrate_exchanges\n",
      "Applying strategy: migrate_datasets\n",
      "Applying strategy: migrate_exchanges\n",
      "Remove uncertainty data.\n"
     ]
    },
    {
     "name": "stderr",
     "output_type": "stream",
     "text": [
      "/opt/homebrew/Caskroom/miniforge/base/envs/premise/lib/python3.11/site-packages/bw2io/importers/base_lci.py:431: UserWarning: Skipping migration migration_37_311 because it isn't installed.\n",
      "  warnings.warn(\n"
     ]
    },
    {
     "name": "stdout",
     "output_type": "stream",
     "text": [
      "Extracted 1 worksheets in 0.01 seconds\n",
      "Migrating to 3.10 first\n",
      "Applying strategy: migrate_datasets\n",
      "Applying strategy: migrate_exchanges\n",
      "Applying strategy: migrate_datasets\n",
      "Applying strategy: migrate_exchanges\n",
      "Remove uncertainty data.\n"
     ]
    },
    {
     "name": "stderr",
     "output_type": "stream",
     "text": [
      "/opt/homebrew/Caskroom/miniforge/base/envs/premise/lib/python3.11/site-packages/bw2io/importers/base_lci.py:431: UserWarning: Skipping migration migration_37_311 because it isn't installed.\n",
      "  warnings.warn(\n"
     ]
    },
    {
     "name": "stdout",
     "output_type": "stream",
     "text": [
      "Extracted 1 worksheets in 0.01 seconds\n",
      "Migrating to 3.10 first\n",
      "Applying strategy: migrate_datasets\n",
      "Applying strategy: migrate_exchanges\n",
      "Applying strategy: migrate_datasets\n",
      "Applying strategy: migrate_exchanges\n",
      "Remove uncertainty data.\n"
     ]
    },
    {
     "name": "stderr",
     "output_type": "stream",
     "text": [
      "/opt/homebrew/Caskroom/miniforge/base/envs/premise/lib/python3.11/site-packages/bw2io/importers/base_lci.py:431: UserWarning: Skipping migration migration_37_311 because it isn't installed.\n",
      "  warnings.warn(\n"
     ]
    },
    {
     "name": "stdout",
     "output_type": "stream",
     "text": [
      "Extracted 1 worksheets in 0.03 seconds\n",
      "Migrating to 3.10 first\n",
      "Applying strategy: migrate_datasets\n",
      "Applying strategy: migrate_exchanges\n",
      "Applying strategy: migrate_datasets\n",
      "Applying strategy: migrate_exchanges\n"
     ]
    },
    {
     "name": "stderr",
     "output_type": "stream",
     "text": [
      "/opt/homebrew/Caskroom/miniforge/base/envs/premise/lib/python3.11/site-packages/bw2io/importers/base_lci.py:431: UserWarning: Skipping migration migration_36_311 because it isn't installed.\n",
      "  warnings.warn(\n"
     ]
    },
    {
     "name": "stdout",
     "output_type": "stream",
     "text": [
      "Remove uncertainty data.\n",
      "Extracted 1 worksheets in 0.01 seconds\n",
      "Migrating to 3.10 first\n",
      "Applying strategy: migrate_datasets\n",
      "Applying strategy: migrate_exchanges\n",
      "Applying strategy: migrate_datasets\n",
      "Applying strategy: migrate_exchanges\n",
      "Remove uncertainty data.\n"
     ]
    },
    {
     "name": "stderr",
     "output_type": "stream",
     "text": [
      "/opt/homebrew/Caskroom/miniforge/base/envs/premise/lib/python3.11/site-packages/bw2io/importers/base_lci.py:431: UserWarning: Skipping migration migration_38_311 because it isn't installed.\n",
      "  warnings.warn(\n"
     ]
    },
    {
     "name": "stdout",
     "output_type": "stream",
     "text": [
      "Extracted 1 worksheets in 0.07 seconds\n",
      "Migrating to 3.10 first\n",
      "Applying strategy: migrate_datasets\n",
      "Applying strategy: migrate_exchanges\n",
      "Applying strategy: migrate_datasets\n",
      "Applying strategy: migrate_exchanges\n"
     ]
    },
    {
     "name": "stderr",
     "output_type": "stream",
     "text": [
      "/opt/homebrew/Caskroom/miniforge/base/envs/premise/lib/python3.11/site-packages/bw2io/importers/base_lci.py:431: UserWarning: Skipping migration migration_38_311 because it isn't installed.\n",
      "  warnings.warn(\n"
     ]
    },
    {
     "name": "stdout",
     "output_type": "stream",
     "text": [
      "Remove uncertainty data.\n",
      "Extracted 1 worksheets in 0.01 seconds\n",
      "Migrating to 3.10 first\n",
      "Applying strategy: migrate_datasets\n",
      "Applying strategy: migrate_exchanges\n",
      "Applying strategy: migrate_datasets\n",
      "Applying strategy: migrate_exchanges\n",
      "Remove uncertainty data.\n"
     ]
    },
    {
     "name": "stderr",
     "output_type": "stream",
     "text": [
      "/opt/homebrew/Caskroom/miniforge/base/envs/premise/lib/python3.11/site-packages/bw2io/importers/base_lci.py:431: UserWarning: Skipping migration migration_38_311 because it isn't installed.\n",
      "  warnings.warn(\n"
     ]
    },
    {
     "name": "stdout",
     "output_type": "stream",
     "text": [
      "Extracted 1 worksheets in 0.01 seconds\n",
      "Migrating to 3.10 first\n",
      "Applying strategy: migrate_datasets\n",
      "Applying strategy: migrate_exchanges\n",
      "Applying strategy: migrate_datasets\n",
      "Applying strategy: migrate_exchanges\n",
      "Remove uncertainty data.\n"
     ]
    },
    {
     "name": "stderr",
     "output_type": "stream",
     "text": [
      "/opt/homebrew/Caskroom/miniforge/base/envs/premise/lib/python3.11/site-packages/bw2io/importers/base_lci.py:431: UserWarning: Skipping migration migration_38_311 because it isn't installed.\n",
      "  warnings.warn(\n"
     ]
    },
    {
     "name": "stdout",
     "output_type": "stream",
     "text": [
      "Extracted 1 worksheets in 0.02 seconds\n",
      "Applying strategy: migrate_datasets\n",
      "Applying strategy: migrate_exchanges\n",
      "Remove uncertainty data.\n",
      "Extracted 1 worksheets in 0.01 seconds\n",
      "Migrating to 3.10 first\n",
      "Applying strategy: migrate_datasets\n",
      "Applying strategy: migrate_exchanges\n",
      "Applying strategy: migrate_datasets\n",
      "Applying strategy: migrate_exchanges\n",
      "Remove uncertainty data.\n"
     ]
    },
    {
     "name": "stderr",
     "output_type": "stream",
     "text": [
      "/opt/homebrew/Caskroom/miniforge/base/envs/premise/lib/python3.11/site-packages/bw2io/importers/base_lci.py:431: UserWarning: Skipping migration migration_39_311 because it isn't installed.\n",
      "  warnings.warn(\n"
     ]
    },
    {
     "name": "stdout",
     "output_type": "stream",
     "text": [
      "Extracted 1 worksheets in 0.02 seconds\n",
      "Migrating to 3.10 first\n",
      "Applying strategy: migrate_datasets\n",
      "Applying strategy: migrate_exchanges\n",
      "Applying strategy: migrate_datasets\n",
      "Applying strategy: migrate_exchanges\n",
      "Remove uncertainty data.\n"
     ]
    },
    {
     "name": "stderr",
     "output_type": "stream",
     "text": [
      "/opt/homebrew/Caskroom/miniforge/base/envs/premise/lib/python3.11/site-packages/bw2io/importers/base_lci.py:431: UserWarning: Skipping migration migration_39_311 because it isn't installed.\n",
      "  warnings.warn(\n"
     ]
    },
    {
     "name": "stdout",
     "output_type": "stream",
     "text": [
      "Extracted 1 worksheets in 0.01 seconds\n",
      "Applying strategy: migrate_datasets\n",
      "Applying strategy: migrate_exchanges\n",
      "Remove uncertainty data.\n",
      "Extracted 1 worksheets in 0.01 seconds\n",
      "Applying strategy: migrate_datasets\n",
      "Applying strategy: migrate_exchanges\n",
      "Remove uncertainty data.\n",
      "Extracted 1 worksheets in 0.04 seconds\n",
      "Migrating to 3.10 first\n",
      "Applying strategy: migrate_datasets\n",
      "Applying strategy: migrate_exchanges\n",
      "Applying strategy: migrate_datasets\n",
      "Applying strategy: migrate_exchanges\n"
     ]
    },
    {
     "name": "stderr",
     "output_type": "stream",
     "text": [
      "/opt/homebrew/Caskroom/miniforge/base/envs/premise/lib/python3.11/site-packages/bw2io/importers/base_lci.py:431: UserWarning: Skipping migration migration_39_311 because it isn't installed.\n",
      "  warnings.warn(\n"
     ]
    },
    {
     "name": "stdout",
     "output_type": "stream",
     "text": [
      "Remove uncertainty data.\n",
      "Extracted 1 worksheets in 0.01 seconds\n",
      "Migrating to 3.10 first\n",
      "Applying strategy: migrate_datasets\n",
      "Applying strategy: migrate_exchanges\n",
      "Applying strategy: migrate_datasets\n",
      "Applying strategy: migrate_exchanges\n"
     ]
    },
    {
     "name": "stderr",
     "output_type": "stream",
     "text": [
      "/opt/homebrew/Caskroom/miniforge/base/envs/premise/lib/python3.11/site-packages/bw2io/importers/base_lci.py:431: UserWarning: Skipping migration migration_39_311 because it isn't installed.\n",
      "  warnings.warn(\n"
     ]
    },
    {
     "name": "stdout",
     "output_type": "stream",
     "text": [
      "Remove uncertainty data.\n",
      "Extracted 19 worksheets in 0.28 seconds\n",
      "Migrating to 3.10 first\n",
      "Applying strategy: migrate_datasets\n",
      "Applying strategy: migrate_exchanges\n",
      "Applying strategy: migrate_datasets\n",
      "Applying strategy: migrate_exchanges\n",
      "Remove uncertainty data.\n"
     ]
    },
    {
     "name": "stderr",
     "output_type": "stream",
     "text": [
      "/opt/homebrew/Caskroom/miniforge/base/envs/premise/lib/python3.11/site-packages/bw2io/importers/base_lci.py:431: UserWarning: Skipping migration migration_37_311 because it isn't installed.\n",
      "  warnings.warn(\n"
     ]
    },
    {
     "name": "stdout",
     "output_type": "stream",
     "text": [
      "Extracted 1 worksheets in 0.19 seconds\n",
      "Migrating to 3.10 first\n",
      "Applying strategy: migrate_datasets\n",
      "Applying strategy: migrate_exchanges\n",
      "Applying strategy: migrate_datasets\n",
      "Applying strategy: migrate_exchanges\n"
     ]
    },
    {
     "name": "stderr",
     "output_type": "stream",
     "text": [
      "/opt/homebrew/Caskroom/miniforge/base/envs/premise/lib/python3.11/site-packages/bw2io/importers/base_lci.py:431: UserWarning: Skipping migration migration_37_311 because it isn't installed.\n",
      "  warnings.warn(\n"
     ]
    },
    {
     "name": "stdout",
     "output_type": "stream",
     "text": [
      "Remove uncertainty data.\n",
      "Extracted 1 worksheets in 0.70 seconds\n",
      "Migrating to 3.10 first\n",
      "Applying strategy: migrate_datasets\n",
      "Applying strategy: migrate_exchanges\n",
      "Applying strategy: migrate_datasets\n",
      "Applying strategy: migrate_exchanges\n"
     ]
    },
    {
     "name": "stderr",
     "output_type": "stream",
     "text": [
      "/opt/homebrew/Caskroom/miniforge/base/envs/premise/lib/python3.11/site-packages/bw2io/importers/base_lci.py:431: UserWarning: Skipping migration migration_37_311 because it isn't installed.\n",
      "  warnings.warn(\n"
     ]
    },
    {
     "name": "stdout",
     "output_type": "stream",
     "text": [
      "Remove uncertainty data.\n",
      "Extracted 1 worksheets in 0.72 seconds\n",
      "Migrating to 3.10 first\n",
      "Applying strategy: migrate_datasets\n",
      "Applying strategy: migrate_exchanges\n",
      "Applying strategy: migrate_datasets\n",
      "Applying strategy: migrate_exchanges\n"
     ]
    },
    {
     "name": "stderr",
     "output_type": "stream",
     "text": [
      "/opt/homebrew/Caskroom/miniforge/base/envs/premise/lib/python3.11/site-packages/bw2io/importers/base_lci.py:431: UserWarning: Skipping migration migration_37_311 because it isn't installed.\n",
      "  warnings.warn(\n"
     ]
    },
    {
     "name": "stdout",
     "output_type": "stream",
     "text": [
      "Remove uncertainty data.\n",
      "Extracted 1 worksheets in 0.03 seconds\n",
      "Migrating to 3.10 first\n",
      "Applying strategy: migrate_datasets\n",
      "Applying strategy: migrate_exchanges\n",
      "Applying strategy: migrate_datasets\n",
      "Applying strategy: migrate_exchanges\n"
     ]
    },
    {
     "name": "stderr",
     "output_type": "stream",
     "text": [
      "/opt/homebrew/Caskroom/miniforge/base/envs/premise/lib/python3.11/site-packages/bw2io/importers/base_lci.py:431: UserWarning: Skipping migration migration_39_311 because it isn't installed.\n",
      "  warnings.warn(\n"
     ]
    },
    {
     "name": "stdout",
     "output_type": "stream",
     "text": [
      "Remove uncertainty data.\n",
      "Extracted 1 worksheets in 0.02 seconds\n",
      "Applying strategy: migrate_datasets\n",
      "Applying strategy: migrate_exchanges\n",
      "Could not find a biosphere flow for ('Methane, bromo-, Halon 1001', 'air', 'unspecified', 'kilogram') or ('Methane, bromo-, Halon 1001', 'air', 'unspecified', 'kilogram') in lci-PV-GaAs.xlsx. Exchange deleted.\n",
      "Could not find a biosphere flow for ('Methane, bromo-, Halon 1001', 'air', 'unspecified', 'kilogram') in lci-PV-GaAs.xlsx. You need to fix this.\n",
      "Remove uncertainty data.\n",
      "Extracted 1 worksheets in 0.02 seconds\n",
      "Applying strategy: migrate_datasets\n",
      "Applying strategy: migrate_exchanges\n",
      "Remove uncertainty data.\n",
      "Extracted 1 worksheets in 0.01 seconds\n",
      "Applying strategy: migrate_datasets\n",
      "Applying strategy: migrate_exchanges\n",
      "Remove uncertainty data.\n",
      "Extracted 1 worksheets in 0.01 seconds\n",
      "Applying strategy: migrate_datasets\n",
      "Applying strategy: migrate_exchanges\n",
      "Remove uncertainty data.\n",
      "Extracted 1 worksheets in 0.00 seconds\n",
      "Applying strategy: migrate_datasets\n",
      "Applying strategy: migrate_exchanges\n",
      "Remove uncertainty data.\n",
      "Extracted 1 worksheets in 0.11 seconds\n",
      "Applying strategy: migrate_datasets\n",
      "Applying strategy: migrate_exchanges\n",
      "Remove uncertainty data.\n",
      "Extracted 3 worksheets in 0.01 seconds\n",
      "Migrating to 3.10 first\n",
      "Applying strategy: migrate_datasets\n",
      "Applying strategy: migrate_exchanges\n",
      "Applying strategy: migrate_datasets\n",
      "Applying strategy: migrate_exchanges\n",
      "Remove uncertainty data.\n"
     ]
    },
    {
     "name": "stderr",
     "output_type": "stream",
     "text": [
      "/opt/homebrew/Caskroom/miniforge/base/envs/premise/lib/python3.11/site-packages/bw2io/importers/base_lci.py:431: UserWarning: Skipping migration migration_38_311 because it isn't installed.\n",
      "  warnings.warn(\n"
     ]
    },
    {
     "name": "stdout",
     "output_type": "stream",
     "text": [
      "Extracted 1 worksheets in 0.01 seconds\n",
      "Applying strategy: migrate_datasets\n",
      "Applying strategy: migrate_exchanges\n",
      "Remove uncertainty data.\n",
      "Extracted 1 worksheets in 0.01 seconds\n",
      "Applying strategy: migrate_datasets\n",
      "Applying strategy: migrate_exchanges\n",
      "Remove uncertainty data.\n",
      "Data cached. It is advised to restart your workflow at this point.\n",
      "This allows premise to use the cached data instead, which results in\n",
      "a faster workflow.\n",
      "- Fetching IAM data\n",
      "World region is empty for, filling it with the sum of all regions.\n",
      "World region is empty for, filling it with the sum of all regions.\n",
      "Done!\n",
      "CPU times: user 39.6 s, sys: 1.87 s, total: 41.5 s\n",
      "Wall time: 42.6 s\n"
     ]
    }
   ],
   "execution_count": 1
  },
  {
   "metadata": {
    "ExecuteTime": {
     "end_time": "2025-05-25T15:14:35.666468Z",
     "start_time": "2025-05-25T15:14:34.401795Z"
    }
   },
   "cell_type": "code",
   "source": [
    "list_acts = []\n",
    "for act in bw2data.Database(\"biosphere3\"):\n",
    "    list_acts.append(\n",
    "        [\n",
    "            act[\"name\"],\n",
    "            act[\"categories\"][0],\n",
    "            act[\"categories\"][1] if len(act[\"categories\"]) > 1 else \"unspecified\",\n",
    "            act[\"unit\"],\n",
    "            act[\"code\"],\n",
    "        ]\n",
    "    )"
   ],
   "id": "ee344f5957dbc93",
   "outputs": [],
   "execution_count": 2
  },
  {
   "metadata": {
    "ExecuteTime": {
     "end_time": "2025-05-25T15:16:10.228516Z",
     "start_time": "2025-05-25T15:16:10.172898Z"
    }
   },
   "cell_type": "code",
   "source": [
    "import pandas as pd\n",
    "pd.DataFrame(list_acts, columns=[\"name\", \"categories1\", \"categories2\", \"unit\", \"code\"]).to_csv(\"flows_biosphere_311.csv\", index=False)"
   ],
   "id": "9a7e79efab2e80c9",
   "outputs": [],
   "execution_count": 6
  },
  {
   "metadata": {
    "ExecuteTime": {
     "end_time": "2025-05-25T13:10:38.274579Z",
     "start_time": "2025-05-25T13:10:38.251814Z"
    }
   },
   "cell_type": "code",
   "source": [
    "ndb.scenarios[0][\"iam data\"].production_volumes.sel(\n",
    "    variables=\"direct air capture (solvent) with storage\",\n",
    "    year=2040\n",
    ")"
   ],
   "id": "16ecc66fc22c8cc5",
   "outputs": [
    {
     "data": {
      "text/plain": [
       "<xarray.DataArray 'value' (region: 27)> Size: 216B\n",
       "array([0., 0., 0., 0., 0., 0., 0., 0., 0., 0., 0., 0., 0., 0., 0., 0., 0.,\n",
       "       0., 0., 0., 0., 0., 0., 0., 0., 0., 0.])\n",
       "Coordinates:\n",
       "  * region     (region) object 216B 'BRA' 'CAN' 'CEU' ... 'WAF' 'WEU' 'World'\n",
       "    year       int64 8B 2040\n",
       "    variables  <U41 164B 'direct air capture (solvent) with storage'\n",
       "Attributes:\n",
       "    unit:     {'Carbon Capture': 'Mt CO2/yr', 'Carbon Capture|Direct Air Capt..."
      ],
      "text/html": [
       "<div><svg style=\"position: absolute; width: 0; height: 0; overflow: hidden\">\n",
       "<defs>\n",
       "<symbol id=\"icon-database\" viewBox=\"0 0 32 32\">\n",
       "<path d=\"M16 0c-8.837 0-16 2.239-16 5v4c0 2.761 7.163 5 16 5s16-2.239 16-5v-4c0-2.761-7.163-5-16-5z\"></path>\n",
       "<path d=\"M16 17c-8.837 0-16-2.239-16-5v6c0 2.761 7.163 5 16 5s16-2.239 16-5v-6c0 2.761-7.163 5-16 5z\"></path>\n",
       "<path d=\"M16 26c-8.837 0-16-2.239-16-5v6c0 2.761 7.163 5 16 5s16-2.239 16-5v-6c0 2.761-7.163 5-16 5z\"></path>\n",
       "</symbol>\n",
       "<symbol id=\"icon-file-text2\" viewBox=\"0 0 32 32\">\n",
       "<path d=\"M28.681 7.159c-0.694-0.947-1.662-2.053-2.724-3.116s-2.169-2.030-3.116-2.724c-1.612-1.182-2.393-1.319-2.841-1.319h-15.5c-1.378 0-2.5 1.121-2.5 2.5v27c0 1.378 1.122 2.5 2.5 2.5h23c1.378 0 2.5-1.122 2.5-2.5v-19.5c0-0.448-0.137-1.23-1.319-2.841zM24.543 5.457c0.959 0.959 1.712 1.825 2.268 2.543h-4.811v-4.811c0.718 0.556 1.584 1.309 2.543 2.268zM28 29.5c0 0.271-0.229 0.5-0.5 0.5h-23c-0.271 0-0.5-0.229-0.5-0.5v-27c0-0.271 0.229-0.5 0.5-0.5 0 0 15.499-0 15.5 0v7c0 0.552 0.448 1 1 1h7v19.5z\"></path>\n",
       "<path d=\"M23 26h-14c-0.552 0-1-0.448-1-1s0.448-1 1-1h14c0.552 0 1 0.448 1 1s-0.448 1-1 1z\"></path>\n",
       "<path d=\"M23 22h-14c-0.552 0-1-0.448-1-1s0.448-1 1-1h14c0.552 0 1 0.448 1 1s-0.448 1-1 1z\"></path>\n",
       "<path d=\"M23 18h-14c-0.552 0-1-0.448-1-1s0.448-1 1-1h14c0.552 0 1 0.448 1 1s-0.448 1-1 1z\"></path>\n",
       "</symbol>\n",
       "</defs>\n",
       "</svg>\n",
       "<style>/* CSS stylesheet for displaying xarray objects in jupyterlab.\n",
       " *\n",
       " */\n",
       "\n",
       ":root {\n",
       "  --xr-font-color0: var(--jp-content-font-color0, rgba(0, 0, 0, 1));\n",
       "  --xr-font-color2: var(--jp-content-font-color2, rgba(0, 0, 0, 0.54));\n",
       "  --xr-font-color3: var(--jp-content-font-color3, rgba(0, 0, 0, 0.38));\n",
       "  --xr-border-color: var(--jp-border-color2, #e0e0e0);\n",
       "  --xr-disabled-color: var(--jp-layout-color3, #bdbdbd);\n",
       "  --xr-background-color: var(--jp-layout-color0, white);\n",
       "  --xr-background-color-row-even: var(--jp-layout-color1, white);\n",
       "  --xr-background-color-row-odd: var(--jp-layout-color2, #eeeeee);\n",
       "}\n",
       "\n",
       "html[theme=dark],\n",
       "body[data-theme=dark],\n",
       "body.vscode-dark {\n",
       "  --xr-font-color0: rgba(255, 255, 255, 1);\n",
       "  --xr-font-color2: rgba(255, 255, 255, 0.54);\n",
       "  --xr-font-color3: rgba(255, 255, 255, 0.38);\n",
       "  --xr-border-color: #1F1F1F;\n",
       "  --xr-disabled-color: #515151;\n",
       "  --xr-background-color: #111111;\n",
       "  --xr-background-color-row-even: #111111;\n",
       "  --xr-background-color-row-odd: #313131;\n",
       "}\n",
       "\n",
       ".xr-wrap {\n",
       "  display: block !important;\n",
       "  min-width: 300px;\n",
       "  max-width: 700px;\n",
       "}\n",
       "\n",
       ".xr-text-repr-fallback {\n",
       "  /* fallback to plain text repr when CSS is not injected (untrusted notebook) */\n",
       "  display: none;\n",
       "}\n",
       "\n",
       ".xr-header {\n",
       "  padding-top: 6px;\n",
       "  padding-bottom: 6px;\n",
       "  margin-bottom: 4px;\n",
       "  border-bottom: solid 1px var(--xr-border-color);\n",
       "}\n",
       "\n",
       ".xr-header > div,\n",
       ".xr-header > ul {\n",
       "  display: inline;\n",
       "  margin-top: 0;\n",
       "  margin-bottom: 0;\n",
       "}\n",
       "\n",
       ".xr-obj-type,\n",
       ".xr-array-name {\n",
       "  margin-left: 2px;\n",
       "  margin-right: 10px;\n",
       "}\n",
       "\n",
       ".xr-obj-type {\n",
       "  color: var(--xr-font-color2);\n",
       "}\n",
       "\n",
       ".xr-sections {\n",
       "  padding-left: 0 !important;\n",
       "  display: grid;\n",
       "  grid-template-columns: 150px auto auto 1fr 20px 20px;\n",
       "}\n",
       "\n",
       ".xr-section-item {\n",
       "  display: contents;\n",
       "}\n",
       "\n",
       ".xr-section-item input {\n",
       "  display: none;\n",
       "}\n",
       "\n",
       ".xr-section-item input + label {\n",
       "  color: var(--xr-disabled-color);\n",
       "}\n",
       "\n",
       ".xr-section-item input:enabled + label {\n",
       "  cursor: pointer;\n",
       "  color: var(--xr-font-color2);\n",
       "}\n",
       "\n",
       ".xr-section-item input:enabled + label:hover {\n",
       "  color: var(--xr-font-color0);\n",
       "}\n",
       "\n",
       ".xr-section-summary {\n",
       "  grid-column: 1;\n",
       "  color: var(--xr-font-color2);\n",
       "  font-weight: 500;\n",
       "}\n",
       "\n",
       ".xr-section-summary > span {\n",
       "  display: inline-block;\n",
       "  padding-left: 0.5em;\n",
       "}\n",
       "\n",
       ".xr-section-summary-in:disabled + label {\n",
       "  color: var(--xr-font-color2);\n",
       "}\n",
       "\n",
       ".xr-section-summary-in + label:before {\n",
       "  display: inline-block;\n",
       "  content: '►';\n",
       "  font-size: 11px;\n",
       "  width: 15px;\n",
       "  text-align: center;\n",
       "}\n",
       "\n",
       ".xr-section-summary-in:disabled + label:before {\n",
       "  color: var(--xr-disabled-color);\n",
       "}\n",
       "\n",
       ".xr-section-summary-in:checked + label:before {\n",
       "  content: '▼';\n",
       "}\n",
       "\n",
       ".xr-section-summary-in:checked + label > span {\n",
       "  display: none;\n",
       "}\n",
       "\n",
       ".xr-section-summary,\n",
       ".xr-section-inline-details {\n",
       "  padding-top: 4px;\n",
       "  padding-bottom: 4px;\n",
       "}\n",
       "\n",
       ".xr-section-inline-details {\n",
       "  grid-column: 2 / -1;\n",
       "}\n",
       "\n",
       ".xr-section-details {\n",
       "  display: none;\n",
       "  grid-column: 1 / -1;\n",
       "  margin-bottom: 5px;\n",
       "}\n",
       "\n",
       ".xr-section-summary-in:checked ~ .xr-section-details {\n",
       "  display: contents;\n",
       "}\n",
       "\n",
       ".xr-array-wrap {\n",
       "  grid-column: 1 / -1;\n",
       "  display: grid;\n",
       "  grid-template-columns: 20px auto;\n",
       "}\n",
       "\n",
       ".xr-array-wrap > label {\n",
       "  grid-column: 1;\n",
       "  vertical-align: top;\n",
       "}\n",
       "\n",
       ".xr-preview {\n",
       "  color: var(--xr-font-color3);\n",
       "}\n",
       "\n",
       ".xr-array-preview,\n",
       ".xr-array-data {\n",
       "  padding: 0 5px !important;\n",
       "  grid-column: 2;\n",
       "}\n",
       "\n",
       ".xr-array-data,\n",
       ".xr-array-in:checked ~ .xr-array-preview {\n",
       "  display: none;\n",
       "}\n",
       "\n",
       ".xr-array-in:checked ~ .xr-array-data,\n",
       ".xr-array-preview {\n",
       "  display: inline-block;\n",
       "}\n",
       "\n",
       ".xr-dim-list {\n",
       "  display: inline-block !important;\n",
       "  list-style: none;\n",
       "  padding: 0 !important;\n",
       "  margin: 0;\n",
       "}\n",
       "\n",
       ".xr-dim-list li {\n",
       "  display: inline-block;\n",
       "  padding: 0;\n",
       "  margin: 0;\n",
       "}\n",
       "\n",
       ".xr-dim-list:before {\n",
       "  content: '(';\n",
       "}\n",
       "\n",
       ".xr-dim-list:after {\n",
       "  content: ')';\n",
       "}\n",
       "\n",
       ".xr-dim-list li:not(:last-child):after {\n",
       "  content: ',';\n",
       "  padding-right: 5px;\n",
       "}\n",
       "\n",
       ".xr-has-index {\n",
       "  font-weight: bold;\n",
       "}\n",
       "\n",
       ".xr-var-list,\n",
       ".xr-var-item {\n",
       "  display: contents;\n",
       "}\n",
       "\n",
       ".xr-var-item > div,\n",
       ".xr-var-item label,\n",
       ".xr-var-item > .xr-var-name span {\n",
       "  background-color: var(--xr-background-color-row-even);\n",
       "  margin-bottom: 0;\n",
       "}\n",
       "\n",
       ".xr-var-item > .xr-var-name:hover span {\n",
       "  padding-right: 5px;\n",
       "}\n",
       "\n",
       ".xr-var-list > li:nth-child(odd) > div,\n",
       ".xr-var-list > li:nth-child(odd) > label,\n",
       ".xr-var-list > li:nth-child(odd) > .xr-var-name span {\n",
       "  background-color: var(--xr-background-color-row-odd);\n",
       "}\n",
       "\n",
       ".xr-var-name {\n",
       "  grid-column: 1;\n",
       "}\n",
       "\n",
       ".xr-var-dims {\n",
       "  grid-column: 2;\n",
       "}\n",
       "\n",
       ".xr-var-dtype {\n",
       "  grid-column: 3;\n",
       "  text-align: right;\n",
       "  color: var(--xr-font-color2);\n",
       "}\n",
       "\n",
       ".xr-var-preview {\n",
       "  grid-column: 4;\n",
       "}\n",
       "\n",
       ".xr-index-preview {\n",
       "  grid-column: 2 / 5;\n",
       "  color: var(--xr-font-color2);\n",
       "}\n",
       "\n",
       ".xr-var-name,\n",
       ".xr-var-dims,\n",
       ".xr-var-dtype,\n",
       ".xr-preview,\n",
       ".xr-attrs dt {\n",
       "  white-space: nowrap;\n",
       "  overflow: hidden;\n",
       "  text-overflow: ellipsis;\n",
       "  padding-right: 10px;\n",
       "}\n",
       "\n",
       ".xr-var-name:hover,\n",
       ".xr-var-dims:hover,\n",
       ".xr-var-dtype:hover,\n",
       ".xr-attrs dt:hover {\n",
       "  overflow: visible;\n",
       "  width: auto;\n",
       "  z-index: 1;\n",
       "}\n",
       "\n",
       ".xr-var-attrs,\n",
       ".xr-var-data,\n",
       ".xr-index-data {\n",
       "  display: none;\n",
       "  background-color: var(--xr-background-color) !important;\n",
       "  padding-bottom: 5px !important;\n",
       "}\n",
       "\n",
       ".xr-var-attrs-in:checked ~ .xr-var-attrs,\n",
       ".xr-var-data-in:checked ~ .xr-var-data,\n",
       ".xr-index-data-in:checked ~ .xr-index-data {\n",
       "  display: block;\n",
       "}\n",
       "\n",
       ".xr-var-data > table {\n",
       "  float: right;\n",
       "}\n",
       "\n",
       ".xr-var-name span,\n",
       ".xr-var-data,\n",
       ".xr-index-name div,\n",
       ".xr-index-data,\n",
       ".xr-attrs {\n",
       "  padding-left: 25px !important;\n",
       "}\n",
       "\n",
       ".xr-attrs,\n",
       ".xr-var-attrs,\n",
       ".xr-var-data,\n",
       ".xr-index-data {\n",
       "  grid-column: 1 / -1;\n",
       "}\n",
       "\n",
       "dl.xr-attrs {\n",
       "  padding: 0;\n",
       "  margin: 0;\n",
       "  display: grid;\n",
       "  grid-template-columns: 125px auto;\n",
       "}\n",
       "\n",
       ".xr-attrs dt,\n",
       ".xr-attrs dd {\n",
       "  padding: 0;\n",
       "  margin: 0;\n",
       "  float: left;\n",
       "  padding-right: 10px;\n",
       "  width: auto;\n",
       "}\n",
       "\n",
       ".xr-attrs dt {\n",
       "  font-weight: normal;\n",
       "  grid-column: 1;\n",
       "}\n",
       "\n",
       ".xr-attrs dt:hover span {\n",
       "  display: inline-block;\n",
       "  background: var(--xr-background-color);\n",
       "  padding-right: 10px;\n",
       "}\n",
       "\n",
       ".xr-attrs dd {\n",
       "  grid-column: 2;\n",
       "  white-space: pre-wrap;\n",
       "  word-break: break-all;\n",
       "}\n",
       "\n",
       ".xr-icon-database,\n",
       ".xr-icon-file-text2,\n",
       ".xr-no-icon {\n",
       "  display: inline-block;\n",
       "  vertical-align: middle;\n",
       "  width: 1em;\n",
       "  height: 1.5em !important;\n",
       "  stroke-width: 0;\n",
       "  stroke: currentColor;\n",
       "  fill: currentColor;\n",
       "}\n",
       "</style><pre class='xr-text-repr-fallback'>&lt;xarray.DataArray &#x27;value&#x27; (region: 27)&gt; Size: 216B\n",
       "array([0., 0., 0., 0., 0., 0., 0., 0., 0., 0., 0., 0., 0., 0., 0., 0., 0.,\n",
       "       0., 0., 0., 0., 0., 0., 0., 0., 0., 0.])\n",
       "Coordinates:\n",
       "  * region     (region) object 216B &#x27;BRA&#x27; &#x27;CAN&#x27; &#x27;CEU&#x27; ... &#x27;WAF&#x27; &#x27;WEU&#x27; &#x27;World&#x27;\n",
       "    year       int64 8B 2040\n",
       "    variables  &lt;U41 164B &#x27;direct air capture (solvent) with storage&#x27;\n",
       "Attributes:\n",
       "    unit:     {&#x27;Carbon Capture&#x27;: &#x27;Mt CO2/yr&#x27;, &#x27;Carbon Capture|Direct Air Capt...</pre><div class='xr-wrap' style='display:none'><div class='xr-header'><div class='xr-obj-type'>xarray.DataArray</div><div class='xr-array-name'>'value'</div><ul class='xr-dim-list'><li><span class='xr-has-index'>region</span>: 27</li></ul></div><ul class='xr-sections'><li class='xr-section-item'><div class='xr-array-wrap'><input id='section-54f9e962-24f6-420f-949e-a41e1cdf65a9' class='xr-array-in' type='checkbox' checked><label for='section-54f9e962-24f6-420f-949e-a41e1cdf65a9' title='Show/hide data repr'><svg class='icon xr-icon-database'><use xlink:href='#icon-database'></use></svg></label><div class='xr-array-preview xr-preview'><span>0.0 0.0 0.0 0.0 0.0 0.0 0.0 0.0 ... 0.0 0.0 0.0 0.0 0.0 0.0 0.0 0.0</span></div><div class='xr-array-data'><pre>array([0., 0., 0., 0., 0., 0., 0., 0., 0., 0., 0., 0., 0., 0., 0., 0., 0.,\n",
       "       0., 0., 0., 0., 0., 0., 0., 0., 0., 0.])</pre></div></div></li><li class='xr-section-item'><input id='section-ccf1503a-f705-4a9a-9512-fbac0018761c' class='xr-section-summary-in' type='checkbox'  checked><label for='section-ccf1503a-f705-4a9a-9512-fbac0018761c' class='xr-section-summary' >Coordinates: <span>(3)</span></label><div class='xr-section-inline-details'></div><div class='xr-section-details'><ul class='xr-var-list'><li class='xr-var-item'><div class='xr-var-name'><span class='xr-has-index'>region</span></div><div class='xr-var-dims'>(region)</div><div class='xr-var-dtype'>object</div><div class='xr-var-preview xr-preview'>&#x27;BRA&#x27; &#x27;CAN&#x27; &#x27;CEU&#x27; ... &#x27;WEU&#x27; &#x27;World&#x27;</div><input id='attrs-55b8f86d-5f30-428a-8b4c-5892567818ce' class='xr-var-attrs-in' type='checkbox' disabled><label for='attrs-55b8f86d-5f30-428a-8b4c-5892567818ce' title='Show/Hide attributes'><svg class='icon xr-icon-file-text2'><use xlink:href='#icon-file-text2'></use></svg></label><input id='data-5978fa5d-6a2b-42b9-95e6-57b9748d9b35' class='xr-var-data-in' type='checkbox'><label for='data-5978fa5d-6a2b-42b9-95e6-57b9748d9b35' title='Show/Hide data repr'><svg class='icon xr-icon-database'><use xlink:href='#icon-database'></use></svg></label><div class='xr-var-attrs'><dl class='xr-attrs'></dl></div><div class='xr-var-data'><pre>array([&#x27;BRA&#x27;, &#x27;CAN&#x27;, &#x27;CEU&#x27;, &#x27;CHN&#x27;, &#x27;EAF&#x27;, &#x27;INDIA&#x27;, &#x27;INDO&#x27;, &#x27;JAP&#x27;, &#x27;KOR&#x27;, &#x27;ME&#x27;,\n",
       "       &#x27;MEX&#x27;, &#x27;NAF&#x27;, &#x27;OCE&#x27;, &#x27;RCAM&#x27;, &#x27;RSAF&#x27;, &#x27;RSAM&#x27;, &#x27;RSAS&#x27;, &#x27;RUS&#x27;, &#x27;SAF&#x27;,\n",
       "       &#x27;SEAS&#x27;, &#x27;STAN&#x27;, &#x27;TUR&#x27;, &#x27;UKR&#x27;, &#x27;USA&#x27;, &#x27;WAF&#x27;, &#x27;WEU&#x27;, &#x27;World&#x27;],\n",
       "      dtype=object)</pre></div></li><li class='xr-var-item'><div class='xr-var-name'><span>year</span></div><div class='xr-var-dims'>()</div><div class='xr-var-dtype'>int64</div><div class='xr-var-preview xr-preview'>2040</div><input id='attrs-25b7ee4c-7e1c-450f-8984-3f43c3fac128' class='xr-var-attrs-in' type='checkbox' disabled><label for='attrs-25b7ee4c-7e1c-450f-8984-3f43c3fac128' title='Show/Hide attributes'><svg class='icon xr-icon-file-text2'><use xlink:href='#icon-file-text2'></use></svg></label><input id='data-d8f7247c-9fb7-41e5-9b78-59655d5279ce' class='xr-var-data-in' type='checkbox'><label for='data-d8f7247c-9fb7-41e5-9b78-59655d5279ce' title='Show/Hide data repr'><svg class='icon xr-icon-database'><use xlink:href='#icon-database'></use></svg></label><div class='xr-var-attrs'><dl class='xr-attrs'></dl></div><div class='xr-var-data'><pre>array(2040)</pre></div></li><li class='xr-var-item'><div class='xr-var-name'><span>variables</span></div><div class='xr-var-dims'>()</div><div class='xr-var-dtype'>&lt;U41</div><div class='xr-var-preview xr-preview'>&#x27;direct air capture (solvent) wi...</div><input id='attrs-7ae940f8-e7eb-449d-8bf4-a491d2566d31' class='xr-var-attrs-in' type='checkbox' disabled><label for='attrs-7ae940f8-e7eb-449d-8bf4-a491d2566d31' title='Show/Hide attributes'><svg class='icon xr-icon-file-text2'><use xlink:href='#icon-file-text2'></use></svg></label><input id='data-7ada8425-b4d2-4fb3-8853-cad58620b190' class='xr-var-data-in' type='checkbox'><label for='data-7ada8425-b4d2-4fb3-8853-cad58620b190' title='Show/Hide data repr'><svg class='icon xr-icon-database'><use xlink:href='#icon-database'></use></svg></label><div class='xr-var-attrs'><dl class='xr-attrs'></dl></div><div class='xr-var-data'><pre>array(&#x27;direct air capture (solvent) with storage&#x27;, dtype=&#x27;&lt;U41&#x27;)</pre></div></li></ul></div></li><li class='xr-section-item'><input id='section-a8f5cf93-82d8-4b8f-8977-6812f94760b6' class='xr-section-summary-in' type='checkbox'  ><label for='section-a8f5cf93-82d8-4b8f-8977-6812f94760b6' class='xr-section-summary' >Indexes: <span>(1)</span></label><div class='xr-section-inline-details'></div><div class='xr-section-details'><ul class='xr-var-list'><li class='xr-var-item'><div class='xr-index-name'><div>region</div></div><div class='xr-index-preview'>PandasIndex</div><div></div><input id='index-f5d2ff7b-a6f1-4a03-91a4-781bad15e806' class='xr-index-data-in' type='checkbox'/><label for='index-f5d2ff7b-a6f1-4a03-91a4-781bad15e806' title='Show/Hide index repr'><svg class='icon xr-icon-database'><use xlink:href='#icon-database'></use></svg></label><div class='xr-index-data'><pre>PandasIndex(Index([&#x27;BRA&#x27;, &#x27;CAN&#x27;, &#x27;CEU&#x27;, &#x27;CHN&#x27;, &#x27;EAF&#x27;, &#x27;INDIA&#x27;, &#x27;INDO&#x27;, &#x27;JAP&#x27;, &#x27;KOR&#x27;, &#x27;ME&#x27;,\n",
       "       &#x27;MEX&#x27;, &#x27;NAF&#x27;, &#x27;OCE&#x27;, &#x27;RCAM&#x27;, &#x27;RSAF&#x27;, &#x27;RSAM&#x27;, &#x27;RSAS&#x27;, &#x27;RUS&#x27;, &#x27;SAF&#x27;,\n",
       "       &#x27;SEAS&#x27;, &#x27;STAN&#x27;, &#x27;TUR&#x27;, &#x27;UKR&#x27;, &#x27;USA&#x27;, &#x27;WAF&#x27;, &#x27;WEU&#x27;, &#x27;World&#x27;],\n",
       "      dtype=&#x27;object&#x27;, name=&#x27;region&#x27;))</pre></div></li></ul></div></li><li class='xr-section-item'><input id='section-a15f44e6-b4b9-462d-b21d-39da6bef7a84' class='xr-section-summary-in' type='checkbox'  checked><label for='section-a15f44e6-b4b9-462d-b21d-39da6bef7a84' class='xr-section-summary' >Attributes: <span>(1)</span></label><div class='xr-section-inline-details'></div><div class='xr-section-details'><dl class='xr-attrs'><dt><span>unit :</span></dt><dd>{&#x27;Carbon Capture&#x27;: &#x27;Mt CO2/yr&#x27;, &#x27;Carbon Capture|Direct Air Capture&#x27;: &#x27;Mt CO2/yr&#x27;, &#x27;Carbon Capture|Energy&#x27;: &#x27;Mt CO2/yr&#x27;, &#x27;Carbon Capture|Energy|Biomass&#x27;: &#x27;Mt CO2/yr&#x27;, &#x27;Carbon Capture|Energy|Demand&#x27;: &#x27;Mt CO2/yr&#x27;, &#x27;Carbon Capture|Energy|Demand|Biomass&#x27;: &#x27;Mt CO2/yr&#x27;, &#x27;Carbon Capture|Energy|Demand|Fossil&#x27;: &#x27;Mt CO2/yr&#x27;, &#x27;Carbon Capture|Energy|Demand|Industry&#x27;: &#x27;Mt CO2/yr&#x27;, &#x27;Carbon Capture|Energy|Demand|Industry|Biomass&#x27;: &#x27;Mt CO2/yr&#x27;, &#x27;Carbon Capture|Energy|Demand|Industry|Fossil&#x27;: &#x27;Mt CO2/yr&#x27;, &#x27;Carbon Capture|Energy|Fossil&#x27;: &#x27;Mt CO2/yr&#x27;, &#x27;Carbon Capture|Energy|Supply&#x27;: &#x27;Mt CO2/yr&#x27;, &#x27;Carbon Capture|Energy|Supply|Biomass&#x27;: &#x27;Mt CO2/yr&#x27;, &#x27;Carbon Capture|Energy|Supply|Electricity&#x27;: &#x27;Mt CO2/yr&#x27;, &#x27;Carbon Capture|Energy|Supply|Electricity|Biomass&#x27;: &#x27;Mt CO2/yr&#x27;, &#x27;Carbon Capture|Energy|Supply|Electricity|Coal&#x27;: &#x27;Mt CO2/yr&#x27;, &#x27;Carbon Capture|Energy|Supply|Electricity|Fossil&#x27;: &#x27;Mt CO2/yr&#x27;, &#x27;Carbon Capture|Energy|Supply|Electricity|Gas&#x27;: &#x27;Mt CO2/yr&#x27;, &#x27;Carbon Capture|Energy|Supply|Electricity|Oil&#x27;: &#x27;Mt CO2/yr&#x27;, &#x27;Carbon Capture|Energy|Supply|Fossil&#x27;: &#x27;Mt CO2/yr&#x27;, &#x27;Carbon Capture|Energy|Supply|Hydrogen&#x27;: &#x27;Mt CO2/yr&#x27;, &#x27;Carbon Capture|Energy|Supply|Hydrogen|Biomass&#x27;: &#x27;Mt CO2/yr&#x27;, &#x27;Carbon Capture|Energy|Supply|Hydrogen|Fossil&#x27;: &#x27;Mt CO2/yr&#x27;, &#x27;Carbon Capture|Energy|Supply|Liquids&#x27;: &#x27;Mt CO2/yr&#x27;, &#x27;Carbon Capture|Energy|Supply|Liquids|Biomass&#x27;: &#x27;Mt CO2/yr&#x27;, &#x27;Carbon Capture|Energy|Supply|Other|Biomass&#x27;: &#x27;Mt CO2/yr&#x27;, &#x27;Carbon Capture|Geological Storage&#x27;: &#x27;Mt CO2/yr&#x27;, &#x27;Carbon Capture|Geological Storage|Biomass&#x27;: &#x27;Mt CO2/yr&#x27;, &#x27;Carbon Capture|Geological Storage|Direct Air Capture&#x27;: &#x27;Mt CO2/yr&#x27;, &#x27;Carbon Capture|Geological Storage|Direct Air Capture|Cumulative&#x27;: &#x27;Mt CO2/yr&#x27;, &#x27;Carbon Capture|Geological Storage|Electricity&#x27;: &#x27;Mt CO2/yr&#x27;, &#x27;Carbon Capture|Geological Storage|Fossil&#x27;: &#x27;Mt CO2/yr&#x27;, &#x27;Carbon Capture|Industrial Processes&#x27;: &#x27;Mt CO2/yr&#x27;, &#x27;Carbon Capture|Industrial Processes|Chemicals&#x27;: &#x27;Mt CO2/yr&#x27;, &#x27;Carbon Capture|Industrial Processes|Iron and Steel&#x27;: &#x27;Mt CO2/yr&#x27;, &#x27;Carbon Capture|Industrial Processes|Non-Metallic Minerals&#x27;: &#x27;Mt CO2/yr&#x27;, &#x27;Efficiency|Electricity|Biomass|w/ CCS|1&#x27;: &#x27;-&#x27;, &#x27;Efficiency|Electricity|Biomass|w/ CCS|2&#x27;: &#x27;-&#x27;, &#x27;Efficiency|Electricity|Biomass|w/o CCS|1&#x27;: &#x27;-&#x27;, &#x27;Efficiency|Electricity|Biomass|w/o CCS|2&#x27;: &#x27;-&#x27;, &#x27;Efficiency|Electricity|Biomass|w/o CCS|3&#x27;: &#x27;-&#x27;, &#x27;Efficiency|Electricity|Coal|w/ CCS|1&#x27;: &#x27;-&#x27;, &#x27;Efficiency|Electricity|Coal|w/ CCS|2&#x27;: &#x27;-&#x27;, &#x27;Efficiency|Electricity|Coal|w/o CCS|1&#x27;: &#x27;-&#x27;, &#x27;Efficiency|Electricity|Coal|w/o CCS|2&#x27;: &#x27;-&#x27;, &#x27;Efficiency|Electricity|Coal|w/o CCS|3&#x27;: &#x27;-&#x27;, &#x27;Efficiency|Electricity|Gas|w/ CCS|1&#x27;: &#x27;-&#x27;, &#x27;Efficiency|Electricity|Gas|w/ CCS|2&#x27;: &#x27;-&#x27;, &#x27;Efficiency|Electricity|Gas|w/o CCS|1&#x27;: &#x27;-&#x27;, &#x27;Efficiency|Electricity|Gas|w/o CCS|2&#x27;: &#x27;-&#x27;, &#x27;Efficiency|Electricity|Gas|w/o CCS|3&#x27;: &#x27;-&#x27;, &#x27;Efficiency|Electricity|Nuclear&#x27;: &#x27;-&#x27;, &#x27;Efficiency|Electricity|Oil|w/ CCS|1&#x27;: &#x27;-&#x27;, &#x27;Efficiency|Electricity|Oil|w/ CCS|2&#x27;: &#x27;-&#x27;, &#x27;Efficiency|Electricity|Oil|w/o CCS|1&#x27;: &#x27;-&#x27;, &#x27;Efficiency|Electricity|Oil|w/o CCS|2&#x27;: &#x27;-&#x27;, &#x27;Efficiency|Electricity|Oil|w/o CCS|3&#x27;: &#x27;-&#x27;, &#x27;Efficiency|Liquids|Biomass|Biodiesel|Oilcrops|w/ CCS&#x27;: &#x27;-&#x27;, &#x27;Efficiency|Liquids|Biomass|Biodiesel|Oilcrops|w/o CCS&#x27;: &#x27;-&#x27;, &#x27;Efficiency|Liquids|Biomass|Ethanol|Grassy|w/ CCS&#x27;: &#x27;-&#x27;, &#x27;Efficiency|Liquids|Biomass|Ethanol|Grassy|w/o CCS&#x27;: &#x27;-&#x27;, &#x27;Efficiency|Liquids|Biomass|Ethanol|Maize|w/ CCS&#x27;: &#x27;-&#x27;, &#x27;Efficiency|Liquids|Biomass|Ethanol|Maize|w/o CCS&#x27;: &#x27;-&#x27;, &#x27;Efficiency|Liquids|Biomass|Ethanol|Sugar|w/ CCS&#x27;: &#x27;-&#x27;, &#x27;Efficiency|Liquids|Biomass|Ethanol|Sugar|w/o CCS&#x27;: &#x27;-&#x27;, &#x27;Efficiency|Liquids|Biomass|Ethanol|Woody|w/ CCS&#x27;: &#x27;-&#x27;, &#x27;Efficiency|Liquids|Biomass|Ethanol|Woody|w/o CCS&#x27;: &#x27;-&#x27;, &#x27;Efficiency|Liquids|Biomass|FT Diesel|Woody|w/ CCS&#x27;: &#x27;-&#x27;, &#x27;Efficiency|Liquids|Biomass|FT Diesel|Woody|w/o CCS&#x27;: &#x27;-&#x27;, &#x27;Efficiency|Liquids|Biomass|Methanol|Grassy|w/ CCS&#x27;: &#x27;-&#x27;, &#x27;Efficiency|Liquids|Biomass|Methanol|Grassy|w/o CCS&#x27;: &#x27;-&#x27;, &#x27;Efficiency|Liquids|Biomass|Methanol|Woody|w/ CCS&#x27;: &#x27;-&#x27;, &#x27;Efficiency|Liquids|Biomass|Methanol|Woody|w/o CCS&#x27;: &#x27;-&#x27;, &#x27;Efficiency|Transportation|Freight|Heavy Truck|Fuel Cell Vehicle|Biofuels&#x27;: &#x27;MJ/Tkm&#x27;, &#x27;Efficiency|Transportation|Freight|Heavy Truck|Fuel Cell Vehicle|Gasoline&#x27;: &#x27;MJ/Tkm&#x27;, &#x27;Efficiency|Transportation|Freight|Heavy Truck|Fuel Cell Vehicle|Hydrogen&#x27;: &#x27;MJ/Tkm&#x27;, &#x27;Efficiency|Transportation|Freight|Heavy Truck|Hybrid engine|Biofuel&#x27;: &#x27;MJ/Tkm&#x27;, &#x27;Efficiency|Transportation|Freight|Heavy Truck|Hybrid engine|Diesel&#x27;: &#x27;MJ/Tkm&#x27;, &#x27;Efficiency|Transportation|Freight|Heavy Truck|Hybrid engine|Gasoline&#x27;: &#x27;MJ/Tkm&#x27;, &#x27;Efficiency|Transportation|Freight|Heavy Truck|Hybrid engine|Hydrogen&#x27;: &#x27;MJ/Tkm&#x27;, &#x27;Efficiency|Transportation|Freight|Heavy Truck|Hybrid engine|LNG&#x27;: &#x27;MJ/Tkm&#x27;, &#x27;Efficiency|Transportation|Freight|Heavy Truck|Internal Combustion Engine|Biofuel&#x27;: &#x27;MJ/Tkm&#x27;, &#x27;Efficiency|Transportation|Freight|Heavy Truck|Internal Combustion Engine|Diesel&#x27;: &#x27;MJ/Tkm&#x27;, &#x27;Efficiency|Transportation|Freight|Heavy Truck|Internal Combustion Engine|Gasoline&#x27;: &#x27;MJ/Tkm&#x27;, &#x27;Efficiency|Transportation|Freight|Heavy Truck|Internal Combustion Engine|Hydrogen&#x27;: &#x27;MJ/Tkm&#x27;, &#x27;Efficiency|Transportation|Freight|Heavy Truck|Plug-in electric vehicle 10km|Biofuel&#x27;: &#x27;MJ/Tkm&#x27;, &#x27;Efficiency|Transportation|Freight|Heavy Truck|Plug-in electric vehicle 10km|Electricity&#x27;: &#x27;MJ/Tkm&#x27;, &#x27;Efficiency|Transportation|Freight|Heavy Truck|Plug-in electric vehicle 10km|Oil&#x27;: &#x27;MJ/Tkm&#x27;, &#x27;Efficiency|Transportation|Freight|Heavy Truck|Plug-in electric vehicle 30km|Biofuel&#x27;: &#x27;MJ/Tkm&#x27;, &#x27;Efficiency|Transportation|Freight|Heavy Truck|Plug-in electric vehicle 30km|Electricity&#x27;: &#x27;MJ/Tkm&#x27;, &#x27;Efficiency|Transportation|Freight|Heavy Truck|Plug-in electric vehicle 30km|Oil&#x27;: &#x27;MJ/Tkm&#x27;, &#x27;Efficiency|Transportation|Freight|Heavy Truck|Plug-in electric vehicle 60km|Biofuel&#x27;: &#x27;MJ/Tkm&#x27;, &#x27;Efficiency|Transportation|Freight|Heavy Truck|Plug-in electric vehicle 60km|Electricity&#x27;: &#x27;MJ/Tkm&#x27;, &#x27;Efficiency|Transportation|Freight|Heavy Truck|Plug-in electric vehicle 60km|Oil&#x27;: &#x27;MJ/Tkm&#x27;, &#x27;Efficiency|Transportation|Freight|Medium Truck|Fuel Cell Vehicle|Biofuels&#x27;: &#x27;MJ/Tkm&#x27;, &#x27;Efficiency|Transportation|Freight|Medium Truck|Fuel Cell Vehicle|Gasoline&#x27;: &#x27;MJ/Tkm&#x27;, &#x27;Efficiency|Transportation|Freight|Medium Truck|Fuel Cell Vehicle|Hydrogen&#x27;: &#x27;MJ/Tkm&#x27;, &#x27;Efficiency|Transportation|Freight|Medium Truck|Hybrid engine|Biofuel&#x27;: &#x27;MJ/Tkm&#x27;, &#x27;Efficiency|Transportation|Freight|Medium Truck|Hybrid engine|Diesel&#x27;: &#x27;MJ/Tkm&#x27;, &#x27;Efficiency|Transportation|Freight|Medium Truck|Hybrid engine|Gasoline&#x27;: &#x27;MJ/Tkm&#x27;, &#x27;Efficiency|Transportation|Freight|Medium Truck|Hybrid engine|Hydrogen&#x27;: &#x27;MJ/Tkm&#x27;, &#x27;Efficiency|Transportation|Freight|Medium Truck|Hybrid engine|LNG&#x27;: &#x27;MJ/Tkm&#x27;, &#x27;Efficiency|Transportation|Freight|Medium Truck|Internal Combustion Engine Efficient|Gasoline&#x27;: &#x27;MJ/Tkm&#x27;, &#x27;Efficiency|Transportation|Freight|Medium Truck|Internal Combustion Engine|Biofuel&#x27;: &#x27;MJ/Tkm&#x27;, &#x27;Efficiency|Transportation|Freight|Medium Truck|Internal Combustion Engine|Diesel&#x27;: &#x27;MJ/Tkm&#x27;, &#x27;Efficiency|Transportation|Freight|Medium Truck|Internal Combustion Engine|Gasoline&#x27;: &#x27;MJ/Tkm&#x27;, &#x27;Efficiency|Transportation|Freight|Medium Truck|Internal Combustion Engine|Hydrogen&#x27;: &#x27;MJ/Tkm&#x27;, &#x27;Efficiency|Transportation|Freight|Medium Truck|Plug-in electric vehicle 10km|Biofuel&#x27;: &#x27;MJ/Tkm&#x27;, &#x27;Efficiency|Transportation|Freight|Medium Truck|Plug-in electric vehicle 10km|Electricity&#x27;: &#x27;MJ/Tkm&#x27;, &#x27;Efficiency|Transportation|Freight|Medium Truck|Plug-in electric vehicle 10km|Oil&#x27;: &#x27;MJ/Tkm&#x27;, &#x27;Efficiency|Transportation|Freight|Medium Truck|Plug-in electric vehicle 30km|Biofuel&#x27;: &#x27;MJ/Tkm&#x27;, &#x27;Efficiency|Transportation|Freight|Medium Truck|Plug-in electric vehicle 30km|Electricity&#x27;: &#x27;MJ/Tkm&#x27;, &#x27;Efficiency|Transportation|Freight|Medium Truck|Plug-in electric vehicle 30km|Oil&#x27;: &#x27;MJ/Tkm&#x27;, &#x27;Efficiency|Transportation|Freight|Medium Truck|Plug-in electric vehicle 60km|Biofuel&#x27;: &#x27;MJ/Tkm&#x27;, &#x27;Efficiency|Transportation|Freight|Medium Truck|Plug-in electric vehicle 60km|Electricity&#x27;: &#x27;MJ/Tkm&#x27;, &#x27;Efficiency|Transportation|Freight|Medium Truck|Plug-in electric vehicle 60km|Oil&#x27;: &#x27;MJ/Tkm&#x27;, &#x27;Emission Factor|CO2|Energy|Supply|Biomass|Marginal|Grassy&#x27;: &#x27;kg CO2/GJ-prim&#x27;, &#x27;Emission Factor|CO2|Energy|Supply|Biomass|Marginal|Maize&#x27;: &#x27;kg CO2/GJ-prim&#x27;, &#x27;Emission Factor|CO2|Energy|Supply|Biomass|Marginal|Oilcrops&#x27;: &#x27;kg CO2/GJ-prim&#x27;, &#x27;Emission Factor|CO2|Energy|Supply|Biomass|Marginal|Sugar&#x27;: &#x27;kg CO2/GJ-prim&#x27;, &#x27;Emission Factor|CO2|Energy|Supply|Biomass|Marginal|Woody&#x27;: &#x27;kg CO2/GJ-prim&#x27;, &#x27;Emissions|CO2&#x27;: &#x27;Mt CO2/yr&#x27;, &#x27;Energy Service|Transportation|Freight|Air|Electricity&#x27;: &#x27;billion tkm/yr&#x27;, &#x27;Energy Service|Transportation|Freight|Air|Gas&#x27;: &#x27;billion tkm/yr&#x27;, &#x27;Energy Service|Transportation|Freight|Air|Hydrogen&#x27;: &#x27;billion tkm/yr&#x27;, &#x27;Energy Service|Transportation|Freight|Air|Liquids|Biomass&#x27;: &#x27;billion tkm/yr&#x27;, &#x27;Energy Service|Transportation|Freight|Air|Liquids|Fossil&#x27;: &#x27;billion tkm/yr&#x27;, &#x27;Energy Service|Transportation|Freight|Heavy Truck|Fuel Cell Vehicle|Biofuels&#x27;: &#x27;billion tkm/yr&#x27;, &#x27;Energy Service|Transportation|Freight|Heavy Truck|Fuel Cell Vehicle|Gasoline&#x27;: &#x27;billion tkm/yr&#x27;, &#x27;Energy Service|Transportation|Freight|Heavy Truck|Fuel Cell Vehicle|Hydrogen&#x27;: &#x27;billion tkm/yr&#x27;, &#x27;Energy Service|Transportation|Freight|Heavy Truck|Hybrid engine|Biofuel&#x27;: &#x27;billion tkm/yr&#x27;, &#x27;Energy Service|Transportation|Freight|Heavy Truck|Hybrid engine|Diesel&#x27;: &#x27;billion tkm/yr&#x27;, &#x27;Energy Service|Transportation|Freight|Heavy Truck|Hybrid engine|Gasoline&#x27;: &#x27;billion tkm/yr&#x27;, &#x27;Energy Service|Transportation|Freight|Heavy Truck|Hybrid engine|Hydrogen&#x27;: &#x27;billion tkm/yr&#x27;, &#x27;Energy Service|Transportation|Freight|Heavy Truck|Hybrid engine|LNG&#x27;: &#x27;billion tkm/yr&#x27;, &#x27;Energy Service|Transportation|Freight|Heavy Truck|Internal Combustion Engine Efficient|Gasoline&#x27;: &#x27;billion tkm/yr&#x27;, &#x27;Energy Service|Transportation|Freight|Heavy Truck|Internal Combustion Engine|Biofuel&#x27;: &#x27;billion tkm/yr&#x27;, &#x27;Energy Service|Transportation|Freight|Heavy Truck|Internal Combustion Engine|Diesel&#x27;: &#x27;billion tkm/yr&#x27;, &#x27;Energy Service|Transportation|Freight|Heavy Truck|Internal Combustion Engine|Gasoline&#x27;: &#x27;billion tkm/yr&#x27;, &#x27;Energy Service|Transportation|Freight|Heavy Truck|Internal Combustion Engine|Hydrogen&#x27;: &#x27;billion tkm/yr&#x27;, &#x27;Energy Service|Transportation|Freight|Heavy Truck|Plug-in electric vehicle 10km|Biofuel&#x27;: &#x27;billion tkm/yr&#x27;, &#x27;Energy Service|Transportation|Freight|Heavy Truck|Plug-in electric vehicle 10km|Oil&#x27;: &#x27;billion tkm/yr&#x27;, &#x27;Energy Service|Transportation|Freight|Heavy Truck|Plug-in electric vehicle 30km|Biofuel&#x27;: &#x27;billion tkm/yr&#x27;, &#x27;Energy Service|Transportation|Freight|Heavy Truck|Plug-in electric vehicle 30km|Oil&#x27;: &#x27;billion tkm/yr&#x27;, &#x27;Energy Service|Transportation|Freight|Heavy Truck|Plug-in electric vehicle 60km|Biofuel&#x27;: &#x27;billion tkm/yr&#x27;, &#x27;Energy Service|Transportation|Freight|Heavy Truck|Plug-in electric vehicle 60km|Oil&#x27;: &#x27;billion tkm/yr&#x27;, &#x27;Energy Service|Transportation|Freight|International Shipping|Electricity&#x27;: &#x27;billion tkm/yr&#x27;, &#x27;Energy Service|Transportation|Freight|International Shipping|Gas&#x27;: &#x27;billion tkm/yr&#x27;, &#x27;Energy Service|Transportation|Freight|International Shipping|Hydrogen&#x27;: &#x27;billion tkm/yr&#x27;, &#x27;Energy Service|Transportation|Freight|International Shipping|Liquids|Biomass&#x27;: &#x27;billion tkm/yr&#x27;, &#x27;Energy Service|Transportation|Freight|International Shipping|Liquids|Fossil&#x27;: &#x27;billion tkm/yr&#x27;, &#x27;Energy Service|Transportation|Freight|Medium Truck|Fuel Cell Vehicle|Biofuels&#x27;: &#x27;billion tkm/yr&#x27;, &#x27;Energy Service|Transportation|Freight|Medium Truck|Fuel Cell Vehicle|Gasoline&#x27;: &#x27;billion tkm/yr&#x27;, &#x27;Energy Service|Transportation|Freight|Medium Truck|Fuel Cell Vehicle|Hydrogen&#x27;: &#x27;billion tkm/yr&#x27;, &#x27;Energy Service|Transportation|Freight|Medium Truck|Hybrid engine|Biofuel&#x27;: &#x27;billion tkm/yr&#x27;, &#x27;Energy Service|Transportation|Freight|Medium Truck|Hybrid engine|Diesel&#x27;: &#x27;billion tkm/yr&#x27;, &#x27;Energy Service|Transportation|Freight|Medium Truck|Hybrid engine|Gasoline&#x27;: &#x27;billion tkm/yr&#x27;, &#x27;Energy Service|Transportation|Freight|Medium Truck|Hybrid engine|Hydrogen&#x27;: &#x27;billion tkm/yr&#x27;, &#x27;Energy Service|Transportation|Freight|Medium Truck|Hybrid engine|LNG&#x27;: &#x27;billion tkm/yr&#x27;, &#x27;Energy Service|Transportation|Freight|Medium Truck|Internal Combustion Engine Efficient|Gasoline&#x27;: &#x27;billion tkm/yr&#x27;, &#x27;Energy Service|Transportation|Freight|Medium Truck|Internal Combustion Engine|Biofuel&#x27;: &#x27;billion tkm/yr&#x27;, &#x27;Energy Service|Transportation|Freight|Medium Truck|Internal Combustion Engine|Diesel&#x27;: &#x27;billion tkm/yr&#x27;, &#x27;Energy Service|Transportation|Freight|Medium Truck|Internal Combustion Engine|Gasoline&#x27;: &#x27;billion tkm/yr&#x27;, &#x27;Energy Service|Transportation|Freight|Medium Truck|Internal Combustion Engine|Hydrogen&#x27;: &#x27;billion tkm/yr&#x27;, &#x27;Energy Service|Transportation|Freight|Medium Truck|Plug-in electric vehicle 10km|Biofuel&#x27;: &#x27;billion tkm/yr&#x27;, &#x27;Energy Service|Transportation|Freight|Medium Truck|Plug-in electric vehicle 10km|Oil&#x27;: &#x27;billion tkm/yr&#x27;, &#x27;Energy Service|Transportation|Freight|Medium Truck|Plug-in electric vehicle 30km|Biofuel&#x27;: &#x27;billion tkm/yr&#x27;, &#x27;Energy Service|Transportation|Freight|Medium Truck|Plug-in electric vehicle 30km|Oil&#x27;: &#x27;billion tkm/yr&#x27;, &#x27;Energy Service|Transportation|Freight|Medium Truck|Plug-in electric vehicle 60km|Biofuel&#x27;: &#x27;billion tkm/yr&#x27;, &#x27;Energy Service|Transportation|Freight|Medium Truck|Plug-in electric vehicle 60km|Oil&#x27;: &#x27;billion tkm/yr&#x27;, &#x27;Energy Service|Transportation|Freight|National Shipping|Electricity&#x27;: &#x27;billion tkm/yr&#x27;, &#x27;Energy Service|Transportation|Freight|National Shipping|Gas&#x27;: &#x27;billion tkm/yr&#x27;, &#x27;Energy Service|Transportation|Freight|National Shipping|Hydrogen&#x27;: &#x27;billion tkm/yr&#x27;, &#x27;Energy Service|Transportation|Freight|National Shipping|Liquids|Biomass&#x27;: &#x27;billion tkm/yr&#x27;, &#x27;Energy Service|Transportation|Freight|National Shipping|Liquids|Fossil&#x27;: &#x27;billion tkm/yr&#x27;, &#x27;Energy Service|Transportation|Freight|Train|Electricity&#x27;: &#x27;billion tkm/yr&#x27;, &#x27;Energy Service|Transportation|Freight|Train|Gas&#x27;: &#x27;billion tkm/yr&#x27;, &#x27;Energy Service|Transportation|Freight|Train|Hydrogen&#x27;: &#x27;billion tkm/yr&#x27;, &#x27;Energy Service|Transportation|Freight|Train|Liquids|Biomass&#x27;: &#x27;billion tkm/yr&#x27;, &#x27;Energy Service|Transportation|Freight|Train|Liquids|Fossil&#x27;: &#x27;billion tkm/yr&#x27;, &#x27;Energy Service|Transportation|Passenger&#x27;: &#x27;billion pkm/yr&#x27;, &#x27;Energy Service|Transportation|Passenger|Aviation&#x27;: &#x27;billion pkm/yr&#x27;, &#x27;Energy Service|Transportation|Passenger|Bus|Electricity&#x27;: &#x27;billion tkm/yr&#x27;, &#x27;Energy Service|Transportation|Passenger|Bus|Gases&#x27;: &#x27;billion tkm/yr&#x27;, &#x27;Energy Service|Transportation|Passenger|Bus|Hydrogen&#x27;: &#x27;billion tkm/yr&#x27;, &#x27;Energy Service|Transportation|Passenger|Bus|Liquids|Biomass&#x27;: &#x27;billion tkm/yr&#x27;, &#x27;Energy Service|Transportation|Passenger|Bus|Liquids|Fossil&#x27;: &#x27;billion tkm/yr&#x27;, &#x27;Energy Service|Transportation|Passenger|Cycling&#x27;: &#x27;billion pkm/yr&#x27;, &#x27;Energy Service|Transportation|Passenger|Domestic Aviation&#x27;: &#x27;billion pkm/yr&#x27;, &#x27;Energy Service|Transportation|Passenger|Domestic Aviation|Electricity&#x27;: &#x27;billion tkm/yr&#x27;, &#x27;Energy Service|Transportation|Passenger|Domestic Aviation|Gases&#x27;: &#x27;billion tkm/yr&#x27;, &#x27;Energy Service|Transportation|Passenger|Domestic Aviation|Hydrogen&#x27;: &#x27;billion tkm/yr&#x27;, &#x27;Energy Service|Transportation|Passenger|Domestic Aviation|Liquids|Biomass&#x27;: &#x27;billion tkm/yr&#x27;, &#x27;Energy Service|Transportation|Passenger|Domestic Aviation|Liquids|Fossil&#x27;: &#x27;billion tkm/yr&#x27;, &#x27;Energy Service|Transportation|Passenger|International Aviation|Electricity&#x27;: &#x27;billion tkm/yr&#x27;, &#x27;Energy Service|Transportation|Passenger|International Aviation|Gases&#x27;: &#x27;billion tkm/yr&#x27;, &#x27;Energy Service|Transportation|Passenger|International Aviation|Hydrogen&#x27;: &#x27;billion tkm/yr&#x27;, &#x27;Energy Service|Transportation|Passenger|International Aviation|Liquids|Biomass&#x27;: &#x27;billion tkm/yr&#x27;, &#x27;Energy Service|Transportation|Passenger|International Aviation|Liquids|Fossil&#x27;: &#x27;billion tkm/yr&#x27;, &#x27;Energy Service|Transportation|Passenger|Light Duty Vehicle|Electricity&#x27;: &#x27;billion tkm/yr&#x27;, &#x27;Energy Service|Transportation|Passenger|Light Duty Vehicle|Gases&#x27;: &#x27;billion tkm/yr&#x27;, &#x27;Energy Service|Transportation|Passenger|Light Duty Vehicle|Hydrogen&#x27;: &#x27;billion tkm/yr&#x27;, &#x27;Energy Service|Transportation|Passenger|Light Duty Vehicle|Liquids|Biomass&#x27;: &#x27;billion tkm/yr&#x27;, &#x27;Energy Service|Transportation|Passenger|Light Duty Vehicle|Liquids|Fossil&#x27;: &#x27;billion tkm/yr&#x27;, &#x27;Energy Service|Transportation|Passenger|Rail (high speed)|Electricity&#x27;: &#x27;billion tkm/yr&#x27;, &#x27;Energy Service|Transportation|Passenger|Rail (high speed)|Gases&#x27;: &#x27;billion tkm/yr&#x27;, &#x27;Energy Service|Transportation|Passenger|Rail (high speed)|Hydrogen&#x27;: &#x27;billion tkm/yr&#x27;, &#x27;Energy Service|Transportation|Passenger|Rail (high speed)|Liquids|Biomass&#x27;: &#x27;billion tkm/yr&#x27;, &#x27;Energy Service|Transportation|Passenger|Rail (high speed)|Liquids|Fossil&#x27;: &#x27;billion tkm/yr&#x27;, &#x27;Energy Service|Transportation|Passenger|Rail (low speed)|Electricity&#x27;: &#x27;billion tkm/yr&#x27;, &#x27;Energy Service|Transportation|Passenger|Rail (low speed)|Gases&#x27;: &#x27;billion tkm/yr&#x27;, &#x27;Energy Service|Transportation|Passenger|Rail (low speed)|Hydrogen&#x27;: &#x27;billion tkm/yr&#x27;, &#x27;Energy Service|Transportation|Passenger|Rail (low speed)|Liquids|Biomass&#x27;: &#x27;billion tkm/yr&#x27;, &#x27;Energy Service|Transportation|Passenger|Rail (low speed)|Liquids|Fossil&#x27;: &#x27;billion tkm/yr&#x27;, &#x27;Energy Service|Transportation|Passenger|Railways&#x27;: &#x27;billion pkm/yr&#x27;, &#x27;Energy Service|Transportation|Passenger|Road&#x27;: &#x27;billion pkm/yr&#x27;, &#x27;Energy Service|Transportation|Passenger|Road|Bus&#x27;: &#x27;billion pkm/yr&#x27;, &#x27;Energy Service|Transportation|Passenger|Road|Light-Duty Vehicle&#x27;: &#x27;billion pkm/yr&#x27;, &#x27;Energy Service|Transportation|Passenger|Walking&#x27;: &#x27;billion pkm/yr&#x27;, &#x27;Final Energy|Carbon Management&#x27;: &#x27;EJ/yr&#x27;, &#x27;Final Energy|Carbon Management|Direct Air Capture&#x27;: &#x27;EJ/yr&#x27;, &#x27;Final Energy|Carbon Management|Direct Air Capture|Gases&#x27;: &#x27;EJ/yr&#x27;, &#x27;Final Energy|Commercial|Appliances&#x27;: &#x27;EJ/yr&#x27;, &#x27;Final Energy|Commercial|Appliances|Electricity&#x27;: &#x27;EJ/yr&#x27;, &#x27;Final Energy|Commercial|Cooking&#x27;: &#x27;EJ/yr&#x27;, &#x27;Final Energy|Commercial|Cooking|Electricity&#x27;: &#x27;EJ/yr&#x27;, &#x27;Final Energy|Commercial|Cooking|Gases&#x27;: &#x27;EJ/yr&#x27;, &#x27;Final Energy|Commercial|Cooking|Gases|Fossil&#x27;: &#x27;EJ/yr&#x27;, &#x27;Final Energy|Commercial|Cooking|Liquids&#x27;: &#x27;EJ/yr&#x27;, &#x27;Final Energy|Commercial|Cooking|Liquids|Fossil&#x27;: &#x27;EJ/yr&#x27;, &#x27;Final Energy|Commercial|Cooking|Solids&#x27;: &#x27;EJ/yr&#x27;, &#x27;Final Energy|Commercial|Cooking|Solids|Biomass|Modern&#x27;: &#x27;EJ/yr&#x27;, &#x27;Final Energy|Commercial|Cooking|Solids|Biomass|Traditional&#x27;: &#x27;EJ/yr&#x27;, &#x27;Final Energy|Commercial|Cooking|Solids|Fossil&#x27;: &#x27;EJ/yr&#x27;, &#x27;Final Energy|Commercial|Cooling&#x27;: &#x27;EJ/yr&#x27;, &#x27;Final Energy|Commercial|Cooling|Electricity&#x27;: &#x27;EJ/yr&#x27;, &#x27;Final Energy|Commercial|Lighting&#x27;: &#x27;EJ/yr&#x27;, &#x27;Final Energy|Commercial|Lighting|Electricity&#x27;: &#x27;EJ/yr&#x27;, &#x27;Final Energy|Commercial|Space Heating&#x27;: &#x27;EJ/yr&#x27;, &#x27;Final Energy|Commercial|Space Heating|Electricity&#x27;: &#x27;EJ/yr&#x27;, &#x27;Final Energy|Commercial|Space Heating|Gases&#x27;: &#x27;EJ/yr&#x27;, &#x27;Final Energy|Commercial|Space Heating|Gases|Fossil&#x27;: &#x27;EJ/yr&#x27;, &#x27;Final Energy|Commercial|Space Heating|Heat&#x27;: &#x27;EJ/yr&#x27;, &#x27;Final Energy|Commercial|Space Heating|Hydrogen&#x27;: &#x27;EJ/yr&#x27;, &#x27;Final Energy|Commercial|Space Heating|Liquids&#x27;: &#x27;EJ/yr&#x27;, &#x27;Final Energy|Commercial|Space Heating|Liquids|Fossil&#x27;: &#x27;EJ/yr&#x27;, &#x27;Final Energy|Commercial|Space Heating|Solids|Biomass|Modern&#x27;: &#x27;EJ/yr&#x27;, &#x27;Final Energy|Commercial|Space Heating|Solids|Biomass|Traditional&#x27;: &#x27;EJ/yr&#x27;, &#x27;Final Energy|Commercial|Space Heating|Solids|Fossil&#x27;: &#x27;EJ/yr&#x27;, &#x27;Final Energy|Commercial|Water Heating|Electricity&#x27;: &#x27;EJ/yr&#x27;, &#x27;Final Energy|Commercial|Water Heating|Gases&#x27;: &#x27;EJ/yr&#x27;, &#x27;Final Energy|Commercial|Water Heating|Gases|Fossil&#x27;: &#x27;EJ/yr&#x27;, &#x27;Final Energy|Commercial|Water Heating|Heat&#x27;: &#x27;EJ/yr&#x27;, &#x27;Final Energy|Commercial|Water Heating|Hydrogen&#x27;: &#x27;EJ/yr&#x27;, &#x27;Final Energy|Commercial|Water Heating|Liquids&#x27;: &#x27;EJ/yr&#x27;, &#x27;Final Energy|Commercial|Water Heating|Liquids|Fossil&#x27;: &#x27;EJ/yr&#x27;, &#x27;Final Energy|Commercial|Water Heating|Solids&#x27;: &#x27;EJ/yr&#x27;, &#x27;Final Energy|Commercial|Water Heating|Solids|Biomass|Modern&#x27;: &#x27;EJ/yr&#x27;, &#x27;Final Energy|Commercial|Water Heating|Solids|Biomass|Traditional&#x27;: &#x27;EJ/yr&#x27;, &#x27;Final Energy|Commercial|Water Heating|Solids|Fossil&#x27;: &#x27;EJ/yr&#x27;, &#x27;Final Energy|Industry|Cement|Dry feed rotary kiln|Coal&#x27;: &#x27;EJ/yr&#x27;, &#x27;Final Energy|Industry|Cement|Dry feed rotary kiln|Electricity&#x27;: &#x27;EJ/yr&#x27;, &#x27;Final Energy|Industry|Cement|Dry feed rotary kiln|Hydrogen&#x27;: &#x27;EJ/yr&#x27;, &#x27;Final Energy|Industry|Cement|Dry feed rotary kiln|Modern Biomass&#x27;: &#x27;EJ/yr&#x27;, &#x27;Final Energy|Industry|Cement|Dry feed rotary kiln|Natural Gas&#x27;: &#x27;EJ/yr&#x27;, &#x27;Final Energy|Industry|Cement|Dry feed rotary kiln|Oil&#x27;: &#x27;EJ/yr&#x27;, &#x27;Final Energy|Industry|Cement|Dry feed rotary kiln|Secondary Heat&#x27;: &#x27;EJ/yr&#x27;, &#x27;Final Energy|Industry|Cement|Dry feed rotary kiln|Traditional Biomass&#x27;: &#x27;EJ/yr&#x27;, &#x27;Final Energy|Industry|Cement|Efficient dry feed rotary kiln + MEA CCS|Coal&#x27;: &#x27;EJ/yr&#x27;, &#x27;Final Energy|Industry|Cement|Efficient dry feed rotary kiln + MEA CCS|Electricity&#x27;: &#x27;EJ/yr&#x27;, &#x27;Final Energy|Industry|Cement|Efficient dry feed rotary kiln + MEA CCS|Hydrogen&#x27;: &#x27;EJ/yr&#x27;, &#x27;Final Energy|Industry|Cement|Efficient dry feed rotary kiln + MEA CCS|Modern Biomass&#x27;: &#x27;EJ/yr&#x27;, &#x27;Final Energy|Industry|Cement|Efficient dry feed rotary kiln + MEA CCS|Natural Gas&#x27;: &#x27;EJ/yr&#x27;, &#x27;Final Energy|Industry|Cement|Efficient dry feed rotary kiln + MEA CCS|Oil&#x27;: &#x27;EJ/yr&#x27;, &#x27;Final Energy|Industry|Cement|Efficient dry feed rotary kiln + MEA CCS|Secondary Heat&#x27;: &#x27;EJ/yr&#x27;, &#x27;Final Energy|Industry|Cement|Efficient dry feed rotary kiln + MEA CCS|Traditional Biomass&#x27;: &#x27;EJ/yr&#x27;, &#x27;Final Energy|Industry|Cement|Efficient dry feed rotary kiln + On-site CCS|Coal&#x27;: &#x27;EJ/yr&#x27;, &#x27;Final Energy|Industry|Cement|Efficient dry feed rotary kiln + On-site CCS|Electricity&#x27;: &#x27;EJ/yr&#x27;, &#x27;Final Energy|Industry|Cement|Efficient dry feed rotary kiln + On-site CCS|Hydrogen&#x27;: &#x27;EJ/yr&#x27;, &#x27;Final Energy|Industry|Cement|Efficient dry feed rotary kiln + On-site CCS|Modern Biomass&#x27;: &#x27;EJ/yr&#x27;, &#x27;Final Energy|Industry|Cement|Efficient dry feed rotary kiln + On-site CCS|Natural Gas&#x27;: &#x27;EJ/yr&#x27;, &#x27;Final Energy|Industry|Cement|Efficient dry feed rotary kiln + On-site CCS|Oil&#x27;: &#x27;EJ/yr&#x27;, &#x27;Final Energy|Industry|Cement|Efficient dry feed rotary kiln + On-site CCS|Secondary Heat&#x27;: &#x27;EJ/yr&#x27;, &#x27;Final Energy|Industry|Cement|Efficient dry feed rotary kiln + On-site CCS|Traditional Biomass&#x27;: &#x27;EJ/yr&#x27;, &#x27;Final Energy|Industry|Cement|Efficient dry feed rotary kiln + Oxy-combustion CCS|Coal&#x27;: &#x27;EJ/yr&#x27;, &#x27;Final Energy|Industry|Cement|Efficient dry feed rotary kiln + Oxy-combustion CCS|Electricity&#x27;: &#x27;EJ/yr&#x27;, &#x27;Final Energy|Industry|Cement|Efficient dry feed rotary kiln + Oxy-combustion CCS|Hydrogen&#x27;: &#x27;EJ/yr&#x27;, &#x27;Final Energy|Industry|Cement|Efficient dry feed rotary kiln + Oxy-combustion CCS|Modern Biomass&#x27;: &#x27;EJ/yr&#x27;, &#x27;Final Energy|Industry|Cement|Efficient dry feed rotary kiln + Oxy-combustion CCS|Natural Gas&#x27;: &#x27;EJ/yr&#x27;, &#x27;Final Energy|Industry|Cement|Efficient dry feed rotary kiln + Oxy-combustion CCS|Oil&#x27;: &#x27;EJ/yr&#x27;, &#x27;Final Energy|Industry|Cement|Efficient dry feed rotary kiln + Oxy-combustion CCS|Secondary Heat&#x27;: &#x27;EJ/yr&#x27;, &#x27;Final Energy|Industry|Cement|Efficient dry feed rotary kiln + Oxy-combustion CCS|Traditional Biomass&#x27;: &#x27;EJ/yr&#x27;, &#x27;Final Energy|Industry|Cement|Efficient dry feed rotary kiln|Coal&#x27;: &#x27;EJ/yr&#x27;, &#x27;Final Energy|Industry|Cement|Efficient dry feed rotary kiln|Electricity&#x27;: &#x27;EJ/yr&#x27;, &#x27;Final Energy|Industry|Cement|Efficient dry feed rotary kiln|Hydrogen&#x27;: &#x27;EJ/yr&#x27;, &#x27;Final Energy|Industry|Cement|Efficient dry feed rotary kiln|Modern Biomass&#x27;: &#x27;EJ/yr&#x27;, &#x27;Final Energy|Industry|Cement|Efficient dry feed rotary kiln|Natural Gas&#x27;: &#x27;EJ/yr&#x27;, &#x27;Final Energy|Industry|Cement|Efficient dry feed rotary kiln|Oil&#x27;: &#x27;EJ/yr&#x27;, &#x27;Final Energy|Industry|Cement|Efficient dry feed rotary kiln|Secondary Heat&#x27;: &#x27;EJ/yr&#x27;, &#x27;Final Energy|Industry|Cement|Efficient dry feed rotary kiln|Traditional Biomass&#x27;: &#x27;EJ/yr&#x27;, &#x27;Final Energy|Industry|Chemicals&#x27;: &#x27;EJ/yr&#x27;, &#x27;Final Energy|Industry|Chemicals|Ammonia|Electricity&#x27;: &#x27;EJ/yr&#x27;, &#x27;Final Energy|Industry|Chemicals|Ammonia|Gases&#x27;: &#x27;EJ/yr&#x27;, &#x27;Final Energy|Industry|Chemicals|Ammonia|Gases|Fossil&#x27;: &#x27;EJ/yr&#x27;, &#x27;Final Energy|Industry|Chemicals|Ammonia|Liquids&#x27;: &#x27;EJ/yr&#x27;, &#x27;Final Energy|Industry|Chemicals|Ammonia|Liquids|Biomass&#x27;: &#x27;EJ/yr&#x27;, &#x27;Final Energy|Industry|Chemicals|Ammonia|Liquids|Fossil&#x27;: &#x27;EJ/yr&#x27;, &#x27;Final Energy|Industry|Chemicals|Ammonia|Other&#x27;: &#x27;EJ/yr&#x27;, &#x27;Final Energy|Industry|Chemicals|Ammonia|Solids&#x27;: &#x27;EJ/yr&#x27;, &#x27;Final Energy|Industry|Chemicals|Ammonia|Solids|Biomass&#x27;: &#x27;EJ/yr&#x27;, &#x27;Final Energy|Industry|Chemicals|Ammonia|Solids|Fossil&#x27;: &#x27;EJ/yr&#x27;, &#x27;Final Energy|Industry|Chemicals|Electricity&#x27;: &#x27;EJ/yr&#x27;, &#x27;Final Energy|Industry|Chemicals|Gases&#x27;: &#x27;EJ/yr&#x27;, &#x27;Final Energy|Industry|Chemicals|Gases|Fossil&#x27;: &#x27;EJ/yr&#x27;, &#x27;Final Energy|Industry|Chemicals|Heat&#x27;: &#x27;EJ/yr&#x27;, &#x27;Final Energy|Industry|Chemicals|Heavy Refinery Products|Electricity&#x27;: &#x27;EJ/yr&#x27;, &#x27;Final Energy|Industry|Chemicals|Heavy Refinery Products|Gases&#x27;: &#x27;EJ/yr&#x27;, &#x27;Final Energy|Industry|Chemicals|Heavy Refinery Products|Gases|Fossil&#x27;: &#x27;EJ/yr&#x27;, &#x27;Final Energy|Industry|Chemicals|Heavy Refinery Products|Liquids&#x27;: &#x27;EJ/yr&#x27;, &#x27;Final Energy|Industry|Chemicals|Heavy Refinery Products|Liquids|Biomass&#x27;: &#x27;EJ/yr&#x27;, &#x27;Final Energy|Industry|Chemicals|Heavy Refinery Products|Liquids|Fossil&#x27;: &#x27;EJ/yr&#x27;, &#x27;Final Energy|Industry|Chemicals|Heavy Refinery Products|Solids&#x27;: &#x27;EJ/yr&#x27;, &#x27;Final Energy|Industry|Chemicals|Heavy Refinery Products|Solids|Biomass&#x27;: &#x27;EJ/yr&#x27;, &#x27;Final Energy|Industry|Chemicals|Heavy Refinery Products|Solids|Fossil&#x27;: &#x27;EJ/yr&#x27;, &#x27;Final Energy|Industry|Chemicals|High-Value Chemicals|Electricity&#x27;: &#x27;EJ/yr&#x27;, &#x27;Final Energy|Industry|Chemicals|High-Value Chemicals|Gases&#x27;: &#x27;EJ/yr&#x27;, &#x27;Final Energy|Industry|Chemicals|High-Value Chemicals|Gases|Fossil&#x27;: &#x27;EJ/yr&#x27;, &#x27;Final Energy|Industry|Chemicals|High-Value Chemicals|Liquids&#x27;: &#x27;EJ/yr&#x27;, &#x27;Final Energy|Industry|Chemicals|High-Value Chemicals|Liquids|Biomass&#x27;: &#x27;EJ/yr&#x27;, &#x27;Final Energy|Industry|Chemicals|High-Value Chemicals|Liquids|Fossil&#x27;: &#x27;EJ/yr&#x27;, &#x27;Final Energy|Industry|Chemicals|High-Value Chemicals|Solids&#x27;: &#x27;EJ/yr&#x27;, &#x27;Final Energy|Industry|Chemicals|High-Value Chemicals|Solids|Biomass&#x27;: &#x27;EJ/yr&#x27;, &#x27;Final Energy|Industry|Chemicals|High-Value Chemicals|Solids|Fossil&#x27;: &#x27;EJ/yr&#x27;, &#x27;Final Energy|Industry|Chemicals|Hydrogen&#x27;: &#x27;EJ/yr&#x27;, &#x27;Final Energy|Industry|Chemicals|Liquids&#x27;: &#x27;EJ/yr&#x27;, &#x27;Final Energy|Industry|Chemicals|Liquids|Biomass&#x27;: &#x27;EJ/yr&#x27;, &#x27;Final Energy|Industry|Chemicals|Liquids|Fossil&#x27;: &#x27;EJ/yr&#x27;, &#x27;Final Energy|Industry|Chemicals|Methanol|Electricity&#x27;: &#x27;EJ/yr&#x27;, &#x27;Final Energy|Industry|Chemicals|Methanol|Gases&#x27;: &#x27;EJ/yr&#x27;, &#x27;Final Energy|Industry|Chemicals|Methanol|Gases|Fossil&#x27;: &#x27;EJ/yr&#x27;, &#x27;Final Energy|Industry|Chemicals|Methanol|Liquids&#x27;: &#x27;EJ/yr&#x27;, &#x27;Final Energy|Industry|Chemicals|Methanol|Liquids|Biomass&#x27;: &#x27;EJ/yr&#x27;, &#x27;Final Energy|Industry|Chemicals|Methanol|Liquids|Fossil&#x27;: &#x27;EJ/yr&#x27;, &#x27;Final Energy|Industry|Chemicals|Methanol|Solids&#x27;: &#x27;EJ/yr&#x27;, &#x27;Final Energy|Industry|Chemicals|Methanol|Solids|Biomass&#x27;: &#x27;EJ/yr&#x27;, &#x27;Final Energy|Industry|Chemicals|Methanol|Solids|Fossil&#x27;: &#x27;EJ/yr&#x27;, &#x27;Final Energy|Industry|Chemicals|Solids&#x27;: &#x27;EJ/yr&#x27;, &#x27;Final Energy|Industry|Chemicals|Solids|Biomass&#x27;: &#x27;EJ/yr&#x27;, &#x27;Final Energy|Industry|Chemicals|Solids|Fossil&#x27;: &#x27;EJ/yr&#x27;, &#x27;Final Energy|Industry|Fertilizer production&#x27;: &#x27;EJ/yr&#x27;, &#x27;Final Energy|Industry|Fertilizer production|Electricity&#x27;: &#x27;EJ/yr&#x27;, &#x27;Final Energy|Industry|Fertilizer production|Gases&#x27;: &#x27;EJ/yr&#x27;, &#x27;Final Energy|Industry|Fertilizer production|Gases|Fossil&#x27;: &#x27;EJ/yr&#x27;, &#x27;Final Energy|Industry|Fertilizer production|Heat&#x27;: &#x27;EJ/yr&#x27;, &#x27;Final Energy|Industry|Fertilizer production|Hydrogen&#x27;: &#x27;EJ/yr&#x27;, &#x27;Final Energy|Industry|Fertilizer production|Liquids&#x27;: &#x27;EJ/yr&#x27;, &#x27;Final Energy|Industry|Fertilizer production|Liquids|Fossil&#x27;: &#x27;EJ/yr&#x27;, &#x27;Final Energy|Industry|Fertilizer production|Solids&#x27;: &#x27;EJ/yr&#x27;, &#x27;Final Energy|Industry|Fertilizer production|Solids|Biomass&#x27;: &#x27;EJ/yr&#x27;, &#x27;Final Energy|Industry|Fertilizer production|Solids|Fossil&#x27;: &#x27;EJ/yr&#x27;, &#x27;Final Energy|Industry|Food Processing&#x27;: &#x27;EJ/yr&#x27;, &#x27;Final Energy|Industry|Food Processing|Electricity&#x27;: &#x27;EJ/yr&#x27;, &#x27;Final Energy|Industry|Food Processing|Gases&#x27;: &#x27;EJ/yr&#x27;, &#x27;Final Energy|Industry|Food Processing|Gases|Fossil&#x27;: &#x27;EJ/yr&#x27;, &#x27;Final Energy|Industry|Food Processing|Heat&#x27;: &#x27;EJ/yr&#x27;, &#x27;Final Energy|Industry|Food Processing|Hydrogen&#x27;: &#x27;EJ/yr&#x27;, &#x27;Final Energy|Industry|Food Processing|Liquids&#x27;: &#x27;EJ/yr&#x27;, &#x27;Final Energy|Industry|Food Processing|Liquids|Fossil&#x27;: &#x27;EJ/yr&#x27;, &#x27;Final Energy|Industry|Food Processing|Solids&#x27;: &#x27;EJ/yr&#x27;, &#x27;Final Energy|Industry|Food Processing|Solids|Biomass&#x27;: &#x27;EJ/yr&#x27;, &#x27;Final Energy|Industry|Food Processing|Solids|Fossil&#x27;: &#x27;EJ/yr&#x27;, &#x27;Final Energy|Industry|Iron and Steel&#x27;: &#x27;EJ/yr&#x27;, &#x27;Final Energy|Industry|Iron and Steel|BF/ BOF Standard + CCS|Coal&#x27;: &#x27;PJ/yr&#x27;, &#x27;Final Energy|Industry|Iron and Steel|BF/ BOF Standard + CCS|Electricity&#x27;: &#x27;PJ/yr&#x27;, &#x27;Final Energy|Industry|Iron and Steel|BF/ BOF Standard + CCS|Hydrogen&#x27;: &#x27;PJ/yr&#x27;, &#x27;Final Energy|Industry|Iron and Steel|BF/ BOF Standard + CCS|Modern Biomass&#x27;: &#x27;PJ/yr&#x27;, &#x27;Final Energy|Industry|Iron and Steel|BF/ BOF Standard + CCS|Natural Gas&#x27;: &#x27;PJ/yr&#x27;, &#x27;Final Energy|Industry|Iron and Steel|BF/ BOF Standard + CCS|Oil&#x27;: &#x27;PJ/yr&#x27;, &#x27;Final Energy|Industry|Iron and Steel|BF/ BOF Standard + CCS|Secondary Heat&#x27;: &#x27;PJ/yr&#x27;, &#x27;Final Energy|Industry|Iron and Steel|BF/ BOF Standard + CCS|Traditional Biomass&#x27;: &#x27;PJ/yr&#x27;, &#x27;Final Energy|Industry|Iron and Steel|BF/BOF Modernized|Coal&#x27;: &#x27;PJ/yr&#x27;, &#x27;Final Energy|Industry|Iron and Steel|BF/BOF Modernized|Electricity&#x27;: &#x27;PJ/yr&#x27;, &#x27;Final Energy|Industry|Iron and Steel|BF/BOF Modernized|Hydrogen&#x27;: &#x27;PJ/yr&#x27;, &#x27;Final Energy|Industry|Iron and Steel|BF/BOF Modernized|Modern Biomass&#x27;: &#x27;PJ/yr&#x27;, &#x27;Final Energy|Industry|Iron and Steel|BF/BOF Modernized|Natural Gas&#x27;: &#x27;PJ/yr&#x27;, &#x27;Final Energy|Industry|Iron and Steel|BF/BOF Modernized|Oil&#x27;: &#x27;PJ/yr&#x27;, &#x27;Final Energy|Industry|Iron and Steel|BF/BOF Modernized|Secondary Heat&#x27;: &#x27;PJ/yr&#x27;, &#x27;Final Energy|Industry|Iron and Steel|BF/BOF Modernized|Traditional Biomass&#x27;: &#x27;PJ/yr&#x27;, &#x27;Final Energy|Industry|Iron and Steel|BF/BOF Standard|Coal&#x27;: &#x27;PJ/yr&#x27;, &#x27;Final Energy|Industry|Iron and Steel|BF/BOF Standard|Electricity&#x27;: &#x27;PJ/yr&#x27;, &#x27;Final Energy|Industry|Iron and Steel|BF/BOF Standard|Hydrogen&#x27;: &#x27;PJ/yr&#x27;, &#x27;Final Energy|Industry|Iron and Steel|BF/BOF Standard|Modern Biomass&#x27;: &#x27;PJ/yr&#x27;, &#x27;Final Energy|Industry|Iron and Steel|BF/BOF Standard|Natural Gas&#x27;: &#x27;PJ/yr&#x27;, &#x27;Final Energy|Industry|Iron and Steel|BF/BOF Standard|Oil&#x27;: &#x27;PJ/yr&#x27;, &#x27;Final Energy|Industry|Iron and Steel|BF/BOF Standard|Secondary Heat&#x27;: &#x27;PJ/yr&#x27;, &#x27;Final Energy|Industry|Iron and Steel|BF/BOF Standard|Traditional Biomass&#x27;: &#x27;PJ/yr&#x27;, &#x27;Final Energy|Industry|Iron and Steel|Cokes production&#x27;: &#x27;EJ/yr&#x27;, &#x27;Final Energy|Industry|Iron and Steel|DRI EAF + CCS|Coal&#x27;: &#x27;PJ/yr&#x27;, &#x27;Final Energy|Industry|Iron and Steel|DRI EAF + CCS|Electricity&#x27;: &#x27;PJ/yr&#x27;, &#x27;Final Energy|Industry|Iron and Steel|DRI EAF + CCS|Hydrogen&#x27;: &#x27;PJ/yr&#x27;, &#x27;Final Energy|Industry|Iron and Steel|DRI EAF + CCS|Modern Biomass&#x27;: &#x27;PJ/yr&#x27;, &#x27;Final Energy|Industry|Iron and Steel|DRI EAF + CCS|Natural Gas&#x27;: &#x27;PJ/yr&#x27;, &#x27;Final Energy|Industry|Iron and Steel|DRI EAF + CCS|Oil&#x27;: &#x27;PJ/yr&#x27;, &#x27;Final Energy|Industry|Iron and Steel|DRI EAF + CCS|Secondary Heat&#x27;: &#x27;PJ/yr&#x27;, &#x27;Final Energy|Industry|Iron and Steel|DRI EAF + CCS|Traditional Biomass&#x27;: &#x27;PJ/yr&#x27;, &#x27;Final Energy|Industry|Iron and Steel|DRI EAF|Coal&#x27;: &#x27;PJ/yr&#x27;, &#x27;Final Energy|Industry|Iron and Steel|DRI EAF|Electricity&#x27;: &#x27;PJ/yr&#x27;, &#x27;Final Energy|Industry|Iron and Steel|DRI EAF|Hydrogen&#x27;: &#x27;PJ/yr&#x27;, &#x27;Final Energy|Industry|Iron and Steel|DRI EAF|Modern Biomass&#x27;: &#x27;PJ/yr&#x27;, &#x27;Final Energy|Industry|Iron and Steel|DRI EAF|Natural Gas&#x27;: &#x27;PJ/yr&#x27;, &#x27;Final Energy|Industry|Iron and Steel|DRI EAF|Oil&#x27;: &#x27;PJ/yr&#x27;, &#x27;Final Energy|Industry|Iron and Steel|DRI EAF|Secondary Heat&#x27;: &#x27;PJ/yr&#x27;, &#x27;Final Energy|Industry|Iron and Steel|DRI EAF|Traditional Biomass&#x27;: &#x27;PJ/yr&#x27;, &#x27;Final Energy|Industry|Iron and Steel|EAF scrap|Coal&#x27;: &#x27;PJ/yr&#x27;, &#x27;Final Energy|Industry|Iron and Steel|EAF scrap|Electricity&#x27;: &#x27;PJ/yr&#x27;, &#x27;Final Energy|Industry|Iron and Steel|EAF scrap|Hydrogen&#x27;: &#x27;PJ/yr&#x27;, &#x27;Final Energy|Industry|Iron and Steel|EAF scrap|Modern Biomass&#x27;: &#x27;PJ/yr&#x27;, &#x27;Final Energy|Industry|Iron and Steel|EAF scrap|Natural Gas&#x27;: &#x27;PJ/yr&#x27;, &#x27;Final Energy|Industry|Iron and Steel|EAF scrap|Oil&#x27;: &#x27;PJ/yr&#x27;, &#x27;Final Energy|Industry|Iron and Steel|EAF scrap|Secondary Heat&#x27;: &#x27;PJ/yr&#x27;, &#x27;Final Energy|Industry|Iron and Steel|EAF scrap|Traditional Biomass&#x27;: &#x27;PJ/yr&#x27;, &#x27;Final Energy|Industry|Iron and Steel|Electricity&#x27;: &#x27;EJ/yr&#x27;, &#x27;Final Energy|Industry|Iron and Steel|Electrowinning/EAF|Coal&#x27;: &#x27;PJ/yr&#x27;, &#x27;Final Energy|Industry|Iron and Steel|Electrowinning/EAF|Electricity&#x27;: &#x27;PJ/yr&#x27;, &#x27;Final Energy|Industry|Iron and Steel|Electrowinning/EAF|Hydrogen&#x27;: &#x27;PJ/yr&#x27;, &#x27;Final Energy|Industry|Iron and Steel|Electrowinning/EAF|Modern Biomass&#x27;: &#x27;PJ/yr&#x27;, &#x27;Final Energy|Industry|Iron and Steel|Electrowinning/EAF|Natural Gas&#x27;: &#x27;PJ/yr&#x27;, &#x27;Final Energy|Industry|Iron and Steel|Electrowinning/EAF|Oil&#x27;: &#x27;PJ/yr&#x27;, &#x27;Final Energy|Industry|Iron and Steel|Electrowinning/EAF|Secondary Heat&#x27;: &#x27;PJ/yr&#x27;, &#x27;Final Energy|Industry|Iron and Steel|Electrowinning/EAF|Traditional Biomass&#x27;: &#x27;PJ/yr&#x27;, &#x27;Final Energy|Industry|Iron and Steel|Gases&#x27;: &#x27;EJ/yr&#x27;, &#x27;Final Energy|Industry|Iron and Steel|Gases|Fossil&#x27;: &#x27;EJ/yr&#x27;, &#x27;Final Energy|Industry|Iron and Steel|H-DRI/EAF|Coal&#x27;: &#x27;PJ/yr&#x27;, &#x27;Final Energy|Industry|Iron and Steel|H-DRI/EAF|Electricity&#x27;: &#x27;PJ/yr&#x27;, &#x27;Final Energy|Industry|Iron and Steel|H-DRI/EAF|Hydrogen&#x27;: &#x27;PJ/yr&#x27;, &#x27;Final Energy|Industry|Iron and Steel|H-DRI/EAF|Modern Biomass&#x27;: &#x27;PJ/yr&#x27;, &#x27;Final Energy|Industry|Iron and Steel|H-DRI/EAF|Natural Gas&#x27;: &#x27;PJ/yr&#x27;, &#x27;Final Energy|Industry|Iron and Steel|H-DRI/EAF|Oil&#x27;: &#x27;PJ/yr&#x27;, &#x27;Final Energy|Industry|Iron and Steel|H-DRI/EAF|Secondary Heat&#x27;: &#x27;PJ/yr&#x27;, &#x27;Final Energy|Industry|Iron and Steel|H-DRI/EAF|Traditional Biomass&#x27;: &#x27;PJ/yr&#x27;, &#x27;Final Energy|Industry|Iron and Steel|Heat&#x27;: &#x27;EJ/yr&#x27;, &#x27;Final Energy|Industry|Iron and Steel|Hydrogen&#x27;: &#x27;EJ/yr&#x27;, &#x27;Final Energy|Industry|Iron and Steel|Liquids&#x27;: &#x27;EJ/yr&#x27;, &#x27;Final Energy|Industry|Iron and Steel|Liquids|Fossil&#x27;: &#x27;EJ/yr&#x27;, &#x27;Final Energy|Industry|Iron and Steel|SR/BOF + CCS|Coal&#x27;: &#x27;PJ/yr&#x27;, &#x27;Final Energy|Industry|Iron and Steel|SR/BOF + CCS|Electricity&#x27;: &#x27;PJ/yr&#x27;, &#x27;Final Energy|Industry|Iron and Steel|SR/BOF + CCS|Hydrogen&#x27;: &#x27;PJ/yr&#x27;, &#x27;Final Energy|Industry|Iron and Steel|SR/BOF + CCS|Modern Biomass&#x27;: &#x27;PJ/yr&#x27;, &#x27;Final Energy|Industry|Iron and Steel|SR/BOF + CCS|Natural Gas&#x27;: &#x27;PJ/yr&#x27;, &#x27;Final Energy|Industry|Iron and Steel|SR/BOF + CCS|Oil&#x27;: &#x27;PJ/yr&#x27;, &#x27;Final Energy|Industry|Iron and Steel|SR/BOF + CCS|Secondary Heat&#x27;: &#x27;PJ/yr&#x27;, &#x27;Final Energy|Industry|Iron and Steel|SR/BOF + CCS|Traditional Biomass&#x27;: &#x27;PJ/yr&#x27;, &#x27;Final Energy|Industry|Iron and Steel|SR/BOF|Coal&#x27;: &#x27;PJ/yr&#x27;, &#x27;Final Energy|Industry|Iron and Steel|SR/BOF|Electricity&#x27;: &#x27;PJ/yr&#x27;, &#x27;Final Energy|Industry|Iron and Steel|SR/BOF|Hydrogen&#x27;: &#x27;PJ/yr&#x27;, &#x27;Final Energy|Industry|Iron and Steel|SR/BOF|Modern Biomass&#x27;: &#x27;PJ/yr&#x27;, &#x27;Final Energy|Industry|Iron and Steel|SR/BOF|Natural Gas&#x27;: &#x27;PJ/yr&#x27;, &#x27;Final Energy|Industry|Iron and Steel|SR/BOF|Oil&#x27;: &#x27;PJ/yr&#x27;, &#x27;Final Energy|Industry|Iron and Steel|SR/BOF|Secondary Heat&#x27;: &#x27;PJ/yr&#x27;, &#x27;Final Energy|Industry|Iron and Steel|SR/BOF|Traditional Biomass&#x27;: &#x27;PJ/yr&#x27;, &#x27;Final Energy|Industry|Iron and Steel|Solids&#x27;: &#x27;EJ/yr&#x27;, &#x27;Final Energy|Industry|Iron and Steel|Solids|Biomass&#x27;: &#x27;EJ/yr&#x27;, &#x27;Final Energy|Industry|Iron and Steel|Solids|Fossil&#x27;: &#x27;EJ/yr&#x27;, &#x27;Final Energy|Industry|Iron and Steel|TGR BF/BOF BAT + CCS|Coal&#x27;: &#x27;PJ/yr&#x27;, &#x27;Final Energy|Industry|Iron and Steel|TGR BF/BOF BAT + CCS|Electricity&#x27;: &#x27;PJ/yr&#x27;, &#x27;Final Energy|Industry|Iron and Steel|TGR BF/BOF BAT + CCS|Hydrogen&#x27;: &#x27;PJ/yr&#x27;, &#x27;Final Energy|Industry|Iron and Steel|TGR BF/BOF BAT + CCS|Modern Biomass&#x27;: &#x27;PJ/yr&#x27;, &#x27;Final Energy|Industry|Iron and Steel|TGR BF/BOF BAT + CCS|Natural Gas&#x27;: &#x27;PJ/yr&#x27;, &#x27;Final Energy|Industry|Iron and Steel|TGR BF/BOF BAT + CCS|Oil&#x27;: &#x27;PJ/yr&#x27;, &#x27;Final Energy|Industry|Iron and Steel|TGR BF/BOF BAT + CCS|Secondary Heat&#x27;: &#x27;PJ/yr&#x27;, &#x27;Final Energy|Industry|Iron and Steel|TGR BF/BOF BAT + CCS|Traditional Biomass&#x27;: &#x27;PJ/yr&#x27;, &#x27;Final Energy|Industry|Iron and Steel|TGR BF/BOF BAT|Coal&#x27;: &#x27;PJ/yr&#x27;, &#x27;Final Energy|Industry|Iron and Steel|TGR BF/BOF BAT|Electricity&#x27;: &#x27;PJ/yr&#x27;, &#x27;Final Energy|Industry|Iron and Steel|TGR BF/BOF BAT|Hydrogen&#x27;: &#x27;PJ/yr&#x27;, &#x27;Final Energy|Industry|Iron and Steel|TGR BF/BOF BAT|Modern Biomass&#x27;: &#x27;PJ/yr&#x27;, &#x27;Final Energy|Industry|Iron and Steel|TGR BF/BOF BAT|Natural Gas&#x27;: &#x27;PJ/yr&#x27;, &#x27;Final Energy|Industry|Iron and Steel|TGR BF/BOF BAT|Oil&#x27;: &#x27;PJ/yr&#x27;, &#x27;Final Energy|Industry|Iron and Steel|TGR BF/BOF BAT|Secondary Heat&#x27;: &#x27;PJ/yr&#x27;, &#x27;Final Energy|Industry|Iron and Steel|TGR BF/BOF BAT|Traditional Biomass&#x27;: &#x27;PJ/yr&#x27;, &#x27;Final Energy|Industry|Iron and Steel|TGR BF/BOF|Coal&#x27;: &#x27;PJ/yr&#x27;, &#x27;Final Energy|Industry|Iron and Steel|TGR BF/BOF|Electricity&#x27;: &#x27;PJ/yr&#x27;, &#x27;Final Energy|Industry|Iron and Steel|TGR BF/BOF|Hydrogen&#x27;: &#x27;PJ/yr&#x27;, &#x27;Final Energy|Industry|Iron and Steel|TGR BF/BOF|Modern Biomass&#x27;: &#x27;PJ/yr&#x27;, &#x27;Final Energy|Industry|Iron and Steel|TGR BF/BOF|Natural Gas&#x27;: &#x27;PJ/yr&#x27;, &#x27;Final Energy|Industry|Iron and Steel|TGR BF/BOF|Oil&#x27;: &#x27;PJ/yr&#x27;, &#x27;Final Energy|Industry|Iron and Steel|TGR BF/BOF|Secondary Heat&#x27;: &#x27;PJ/yr&#x27;, &#x27;Final Energy|Industry|Iron and Steel|TGR BF/BOF|Traditional Biomass&#x27;: &#x27;PJ/yr&#x27;, &#x27;Final Energy|Industry|Non-Metallic Minerals&#x27;: &#x27;EJ/yr&#x27;, &#x27;Final Energy|Industry|Non-Metallic Minerals|Electricity&#x27;: &#x27;EJ/yr&#x27;, &#x27;Final Energy|Industry|Non-Metallic Minerals|Gases&#x27;: &#x27;EJ/yr&#x27;, &#x27;Final Energy|Industry|Non-Metallic Minerals|Gases|Fossil&#x27;: &#x27;EJ/yr&#x27;, &#x27;Final Energy|Industry|Non-Metallic Minerals|Heat&#x27;: &#x27;EJ/yr&#x27;, &#x27;Final Energy|Industry|Non-Metallic Minerals|Hydrogen&#x27;: &#x27;EJ/yr&#x27;, &#x27;Final Energy|Industry|Non-Metallic Minerals|Liquids&#x27;: &#x27;EJ/yr&#x27;, &#x27;Final Energy|Industry|Non-Metallic Minerals|Liquids|Fossil&#x27;: &#x27;EJ/yr&#x27;, &#x27;Final Energy|Industry|Non-Metallic Minerals|Solids&#x27;: &#x27;EJ/yr&#x27;, &#x27;Final Energy|Industry|Non-Metallic Minerals|Solids|Biomass&#x27;: &#x27;EJ/yr&#x27;, &#x27;Final Energy|Industry|Non-Metallic Minerals|Solids|Fossil&#x27;: &#x27;EJ/yr&#x27;, &#x27;Final Energy|Industry|Other Sector&#x27;: &#x27;EJ/yr&#x27;, &#x27;Final Energy|Industry|Other Sector|Electricity&#x27;: &#x27;EJ/yr&#x27;, &#x27;Final Energy|Industry|Other Sector|Gases&#x27;: &#x27;EJ/yr&#x27;, &#x27;Final Energy|Industry|Other Sector|Gases|Fossil&#x27;: &#x27;EJ/yr&#x27;, &#x27;Final Energy|Industry|Other Sector|Heat&#x27;: &#x27;EJ/yr&#x27;, &#x27;Final Energy|Industry|Other Sector|Hydrogen&#x27;: &#x27;EJ/yr&#x27;, &#x27;Final Energy|Industry|Other Sector|Liquids&#x27;: &#x27;EJ/yr&#x27;, &#x27;Final Energy|Industry|Other Sector|Liquids|Fossil&#x27;: &#x27;EJ/yr&#x27;, &#x27;Final Energy|Industry|Other Sector|Solids&#x27;: &#x27;EJ/yr&#x27;, &#x27;Final Energy|Industry|Other Sector|Solids|Biomass&#x27;: &#x27;EJ/yr&#x27;, &#x27;Final Energy|Industry|Other Sector|Solids|Fossil&#x27;: &#x27;EJ/yr&#x27;, &#x27;Final Energy|Industry|Pulp and Paper&#x27;: &#x27;EJ/yr&#x27;, &#x27;Final Energy|Industry|Pulp and Paper|Electricity&#x27;: &#x27;EJ/yr&#x27;, &#x27;Final Energy|Industry|Pulp and Paper|Gases&#x27;: &#x27;EJ/yr&#x27;, &#x27;Final Energy|Industry|Pulp and Paper|Gases|Fossil&#x27;: &#x27;EJ/yr&#x27;, &#x27;Final Energy|Industry|Pulp and Paper|Heat&#x27;: &#x27;EJ/yr&#x27;, &#x27;Final Energy|Industry|Pulp and Paper|Hydrogen&#x27;: &#x27;EJ/yr&#x27;, &#x27;Final Energy|Industry|Pulp and Paper|Liquids&#x27;: &#x27;EJ/yr&#x27;, &#x27;Final Energy|Industry|Pulp and Paper|Liquids|Fossil&#x27;: &#x27;EJ/yr&#x27;, &#x27;Final Energy|Industry|Pulp and Paper|Solids&#x27;: &#x27;EJ/yr&#x27;, &#x27;Final Energy|Industry|Pulp and Paper|Solids|Biomass&#x27;: &#x27;EJ/yr&#x27;, &#x27;Final Energy|Industry|Pulp and Paper|Solids|Fossil&#x27;: &#x27;EJ/yr&#x27;, &#x27;Final Energy|Residential|Cleaning Appliances|Electricity&#x27;: &#x27;EJ/yr&#x27;, &#x27;Final Energy|Residential|Cleaning Appliances|Electricity|R1&#x27;: &#x27;EJ/yr&#x27;, &#x27;Final Energy|Residential|Cleaning Appliances|Electricity|R2&#x27;: &#x27;EJ/yr&#x27;, &#x27;Final Energy|Residential|Cleaning Appliances|Electricity|R3&#x27;: &#x27;EJ/yr&#x27;, &#x27;Final Energy|Residential|Cleaning Appliances|Electricity|R4&#x27;: &#x27;EJ/yr&#x27;, &#x27;Final Energy|Residential|Cleaning Appliances|Electricity|R5&#x27;: &#x27;EJ/yr&#x27;, &#x27;Final Energy|Residential|Cleaning Appliances|Electricity|U1&#x27;: &#x27;EJ/yr&#x27;, &#x27;Final Energy|Residential|Cleaning Appliances|Electricity|U2&#x27;: &#x27;EJ/yr&#x27;, &#x27;Final Energy|Residential|Cleaning Appliances|Electricity|U3&#x27;: &#x27;EJ/yr&#x27;, &#x27;Final Energy|Residential|Cleaning Appliances|Electricity|U4&#x27;: &#x27;EJ/yr&#x27;, &#x27;Final Energy|Residential|Cleaning Appliances|Electricity|U5&#x27;: &#x27;EJ/yr&#x27;, &#x27;Final Energy|Residential|Cooking&#x27;: &#x27;EJ/yr&#x27;, &#x27;Final Energy|Residential|Cooking|Coal&#x27;: &#x27;EJ/yr&#x27;, &#x27;Final Energy|Residential|Cooking|Coal|R1&#x27;: &#x27;EJ/yr&#x27;, &#x27;Final Energy|Residential|Cooking|Coal|R2&#x27;: &#x27;EJ/yr&#x27;, &#x27;Final Energy|Residential|Cooking|Coal|R3&#x27;: &#x27;EJ/yr&#x27;, &#x27;Final Energy|Residential|Cooking|Coal|R4&#x27;: &#x27;EJ/yr&#x27;, &#x27;Final Energy|Residential|Cooking|Coal|R5&#x27;: &#x27;EJ/yr&#x27;, &#x27;Final Energy|Residential|Cooking|Coal|U1&#x27;: &#x27;EJ/yr&#x27;, &#x27;Final Energy|Residential|Cooking|Coal|U2&#x27;: &#x27;EJ/yr&#x27;, &#x27;Final Energy|Residential|Cooking|Coal|U3&#x27;: &#x27;EJ/yr&#x27;, &#x27;Final Energy|Residential|Cooking|Coal|U4&#x27;: &#x27;EJ/yr&#x27;, &#x27;Final Energy|Residential|Cooking|Coal|U5&#x27;: &#x27;EJ/yr&#x27;, &#x27;Final Energy|Residential|Cooking|Electricity&#x27;: &#x27;EJ/yr&#x27;, &#x27;Final Energy|Residential|Cooking|Electricity|R1&#x27;: &#x27;EJ/yr&#x27;, &#x27;Final Energy|Residential|Cooking|Electricity|R2&#x27;: &#x27;EJ/yr&#x27;, &#x27;Final Energy|Residential|Cooking|Electricity|R3&#x27;: &#x27;EJ/yr&#x27;, &#x27;Final Energy|Residential|Cooking|Electricity|R4&#x27;: &#x27;EJ/yr&#x27;, &#x27;Final Energy|Residential|Cooking|Electricity|R5&#x27;: &#x27;EJ/yr&#x27;, &#x27;Final Energy|Residential|Cooking|Electricity|U1&#x27;: &#x27;EJ/yr&#x27;, &#x27;Final Energy|Residential|Cooking|Electricity|U2&#x27;: &#x27;EJ/yr&#x27;, &#x27;Final Energy|Residential|Cooking|Electricity|U3&#x27;: &#x27;EJ/yr&#x27;, &#x27;Final Energy|Residential|Cooking|Electricity|U4&#x27;: &#x27;EJ/yr&#x27;, &#x27;Final Energy|Residential|Cooking|Electricity|U5&#x27;: &#x27;EJ/yr&#x27;, &#x27;Final Energy|Residential|Cooking|Liquid (fossil)&#x27;: &#x27;EJ/yr&#x27;, &#x27;Final Energy|Residential|Cooking|Liquid (fossil)|R1&#x27;: &#x27;EJ/yr&#x27;, &#x27;Final Energy|Residential|Cooking|Liquid (fossil)|R2&#x27;: &#x27;EJ/yr&#x27;, &#x27;Final Energy|Residential|Cooking|Liquid (fossil)|R3&#x27;: &#x27;EJ/yr&#x27;, &#x27;Final Energy|Residential|Cooking|Liquid (fossil)|R4&#x27;: &#x27;EJ/yr&#x27;, &#x27;Final Energy|Residential|Cooking|Liquid (fossil)|R5&#x27;: &#x27;EJ/yr&#x27;, &#x27;Final Energy|Residential|Cooking|Liquid (fossil)|U1&#x27;: &#x27;EJ/yr&#x27;, &#x27;Final Energy|Residential|Cooking|Liquid (fossil)|U2&#x27;: &#x27;EJ/yr&#x27;, &#x27;Final Energy|Residential|Cooking|Liquid (fossil)|U3&#x27;: &#x27;EJ/yr&#x27;, &#x27;Final Energy|Residential|Cooking|Liquid (fossil)|U4&#x27;: &#x27;EJ/yr&#x27;, &#x27;Final Energy|Residential|Cooking|Liquid (fossil)|U5&#x27;: &#x27;EJ/yr&#x27;, &#x27;Final Energy|Residential|Cooking|Modern Biomass&#x27;: &#x27;EJ/yr&#x27;, &#x27;Final Energy|Residential|Cooking|Modern Biomass|R1&#x27;: &#x27;EJ/yr&#x27;, &#x27;Final Energy|Residential|Cooking|Modern Biomass|R2&#x27;: &#x27;EJ/yr&#x27;, &#x27;Final Energy|Residential|Cooking|Modern Biomass|R3&#x27;: &#x27;EJ/yr&#x27;, &#x27;Final Energy|Residential|Cooking|Modern Biomass|R4&#x27;: &#x27;EJ/yr&#x27;, &#x27;Final Energy|Residential|Cooking|Modern Biomass|R5&#x27;: &#x27;EJ/yr&#x27;, &#x27;Final Energy|Residential|Cooking|Modern Biomass|U1&#x27;: &#x27;EJ/yr&#x27;, &#x27;Final Energy|Residential|Cooking|Modern Biomass|U2&#x27;: &#x27;EJ/yr&#x27;, &#x27;Final Energy|Residential|Cooking|Modern Biomass|U3&#x27;: &#x27;EJ/yr&#x27;, &#x27;Final Energy|Residential|Cooking|Modern Biomass|U4&#x27;: &#x27;EJ/yr&#x27;, &#x27;Final Energy|Residential|Cooking|Modern Biomass|U5&#x27;: &#x27;EJ/yr&#x27;, &#x27;Final Energy|Residential|Cooking|Natural Gas&#x27;: &#x27;EJ/yr&#x27;, &#x27;Final Energy|Residential|Cooking|Natural Gas|R1&#x27;: &#x27;EJ/yr&#x27;, &#x27;Final Energy|Residential|Cooking|Natural Gas|R2&#x27;: &#x27;EJ/yr&#x27;, &#x27;Final Energy|Residential|Cooking|Natural Gas|R3&#x27;: &#x27;EJ/yr&#x27;, &#x27;Final Energy|Residential|Cooking|Natural Gas|R4&#x27;: &#x27;EJ/yr&#x27;, &#x27;Final Energy|Residential|Cooking|Natural Gas|R5&#x27;: &#x27;EJ/yr&#x27;, &#x27;Final Energy|Residential|Cooking|Natural Gas|U1&#x27;: &#x27;EJ/yr&#x27;, &#x27;Final Energy|Residential|Cooking|Natural Gas|U2&#x27;: &#x27;EJ/yr&#x27;, &#x27;Final Energy|Residential|Cooking|Natural Gas|U3&#x27;: &#x27;EJ/yr&#x27;, &#x27;Final Energy|Residential|Cooking|Natural Gas|U4&#x27;: &#x27;EJ/yr&#x27;, &#x27;Final Energy|Residential|Cooking|Natural Gas|U5&#x27;: &#x27;EJ/yr&#x27;, &#x27;Final Energy|Residential|Cooking|Traditional Biomass&#x27;: &#x27;EJ/yr&#x27;, &#x27;Final Energy|Residential|Cooking|Traditional Biomass|R1&#x27;: &#x27;EJ/yr&#x27;, &#x27;Final Energy|Residential|Cooking|Traditional Biomass|R2&#x27;: &#x27;EJ/yr&#x27;, &#x27;Final Energy|Residential|Cooking|Traditional Biomass|R3&#x27;: &#x27;EJ/yr&#x27;, &#x27;Final Energy|Residential|Cooking|Traditional Biomass|R4&#x27;: &#x27;EJ/yr&#x27;, &#x27;Final Energy|Residential|Cooking|Traditional Biomass|R5&#x27;: &#x27;EJ/yr&#x27;, &#x27;Final Energy|Residential|Cooking|Traditional Biomass|U1&#x27;: &#x27;EJ/yr&#x27;, &#x27;Final Energy|Residential|Cooking|Traditional Biomass|U2&#x27;: &#x27;EJ/yr&#x27;, &#x27;Final Energy|Residential|Cooking|Traditional Biomass|U3&#x27;: &#x27;EJ/yr&#x27;, &#x27;Final Energy|Residential|Cooking|Traditional Biomass|U4&#x27;: &#x27;EJ/yr&#x27;, &#x27;Final Energy|Residential|Cooking|Traditional Biomass|U5&#x27;: &#x27;EJ/yr&#x27;, &#x27;Final Energy|Residential|Cooling Appliance|Electricity&#x27;: &#x27;EJ/yr&#x27;, &#x27;Final Energy|Residential|Cooling Appliance|Electricity|R1&#x27;: &#x27;EJ/yr&#x27;, &#x27;Final Energy|Residential|Cooling Appliance|Electricity|R2&#x27;: &#x27;EJ/yr&#x27;, &#x27;Final Energy|Residential|Cooling Appliance|Electricity|R3&#x27;: &#x27;EJ/yr&#x27;, &#x27;Final Energy|Residential|Cooling Appliance|Electricity|R4&#x27;: &#x27;EJ/yr&#x27;, &#x27;Final Energy|Residential|Cooling Appliance|Electricity|R5&#x27;: &#x27;EJ/yr&#x27;, &#x27;Final Energy|Residential|Cooling Appliance|Electricity|U1&#x27;: &#x27;EJ/yr&#x27;, &#x27;Final Energy|Residential|Cooling Appliance|Electricity|U2&#x27;: &#x27;EJ/yr&#x27;, &#x27;Final Energy|Residential|Cooling Appliance|Electricity|U3&#x27;: &#x27;EJ/yr&#x27;, &#x27;Final Energy|Residential|Cooling Appliance|Electricity|U4&#x27;: &#x27;EJ/yr&#x27;, &#x27;Final Energy|Residential|Cooling Appliance|Electricity|U5&#x27;: &#x27;EJ/yr&#x27;, &#x27;Final Energy|Residential|Refrigeration|Electricity&#x27;: &#x27;EJ/yr&#x27;, &#x27;Final Energy|Residential|Refrigeration|Electricity|R1&#x27;: &#x27;EJ/yr&#x27;, &#x27;Final Energy|Residential|Refrigeration|Electricity|R2&#x27;: &#x27;EJ/yr&#x27;, &#x27;Final Energy|Residential|Refrigeration|Electricity|R3&#x27;: &#x27;EJ/yr&#x27;, &#x27;Final Energy|Residential|Refrigeration|Electricity|R4&#x27;: &#x27;EJ/yr&#x27;, &#x27;Final Energy|Residential|Refrigeration|Electricity|R5&#x27;: &#x27;EJ/yr&#x27;, &#x27;Final Energy|Residential|Refrigeration|Electricity|U1&#x27;: &#x27;EJ/yr&#x27;, &#x27;Final Energy|Residential|Refrigeration|Electricity|U2&#x27;: &#x27;EJ/yr&#x27;, &#x27;Final Energy|Residential|Refrigeration|Electricity|U3&#x27;: &#x27;EJ/yr&#x27;, &#x27;Final Energy|Residential|Refrigeration|Electricity|U4&#x27;: &#x27;EJ/yr&#x27;, &#x27;Final Energy|Residential|Refrigeration|Electricity|U5&#x27;: &#x27;EJ/yr&#x27;, &#x27;Final Energy|Residential|Small Appliances|Electricity&#x27;: &#x27;EJ/yr&#x27;, &#x27;Final Energy|Residential|Small Appliances|Electricity|R1&#x27;: &#x27;EJ/yr&#x27;, &#x27;Final Energy|Residential|Small Appliances|Electricity|R2&#x27;: &#x27;EJ/yr&#x27;, &#x27;Final Energy|Residential|Small Appliances|Electricity|R3&#x27;: &#x27;EJ/yr&#x27;, &#x27;Final Energy|Residential|Small Appliances|Electricity|R4&#x27;: &#x27;EJ/yr&#x27;, &#x27;Final Energy|Residential|Small Appliances|Electricity|R5&#x27;: &#x27;EJ/yr&#x27;, &#x27;Final Energy|Residential|Small Appliances|Electricity|U1&#x27;: &#x27;EJ/yr&#x27;, &#x27;Final Energy|Residential|Small Appliances|Electricity|U2&#x27;: &#x27;EJ/yr&#x27;, &#x27;Final Energy|Residential|Small Appliances|Electricity|U3&#x27;: &#x27;EJ/yr&#x27;, &#x27;Final Energy|Residential|Small Appliances|Electricity|U4&#x27;: &#x27;EJ/yr&#x27;, &#x27;Final Energy|Residential|Small Appliances|Electricity|U5&#x27;: &#x27;EJ/yr&#x27;, &#x27;Final Energy|Residential|Space Heating&#x27;: &#x27;EJ/yr&#x27;, &#x27;Final Energy|Residential|Space Heating|Coal&#x27;: &#x27;EJ/yr&#x27;, &#x27;Final Energy|Residential|Space Heating|Coal|R1&#x27;: &#x27;EJ/yr&#x27;, &#x27;Final Energy|Residential|Space Heating|Coal|R2&#x27;: &#x27;EJ/yr&#x27;, &#x27;Final Energy|Residential|Space Heating|Coal|R3&#x27;: &#x27;EJ/yr&#x27;, &#x27;Final Energy|Residential|Space Heating|Coal|R4&#x27;: &#x27;EJ/yr&#x27;, &#x27;Final Energy|Residential|Space Heating|Coal|R5&#x27;: &#x27;EJ/yr&#x27;, &#x27;Final Energy|Residential|Space Heating|Coal|U1&#x27;: &#x27;EJ/yr&#x27;, &#x27;Final Energy|Residential|Space Heating|Coal|U2&#x27;: &#x27;EJ/yr&#x27;, &#x27;Final Energy|Residential|Space Heating|Coal|U3&#x27;: &#x27;EJ/yr&#x27;, &#x27;Final Energy|Residential|Space Heating|Coal|U4&#x27;: &#x27;EJ/yr&#x27;, &#x27;Final Energy|Residential|Space Heating|Coal|U5&#x27;: &#x27;EJ/yr&#x27;, &#x27;Final Energy|Residential|Space Heating|Electricity&#x27;: &#x27;EJ/yr&#x27;, &#x27;Final Energy|Residential|Space Heating|Electricity|R1&#x27;: &#x27;EJ/yr&#x27;, &#x27;Final Energy|Residential|Space Heating|Electricity|R2&#x27;: &#x27;EJ/yr&#x27;, &#x27;Final Energy|Residential|Space Heating|Electricity|R3&#x27;: &#x27;EJ/yr&#x27;, &#x27;Final Energy|Residential|Space Heating|Electricity|R4&#x27;: &#x27;EJ/yr&#x27;, &#x27;Final Energy|Residential|Space Heating|Electricity|R5&#x27;: &#x27;EJ/yr&#x27;, &#x27;Final Energy|Residential|Space Heating|Electricity|U1&#x27;: &#x27;EJ/yr&#x27;, &#x27;Final Energy|Residential|Space Heating|Electricity|U2&#x27;: &#x27;EJ/yr&#x27;, &#x27;Final Energy|Residential|Space Heating|Electricity|U3&#x27;: &#x27;EJ/yr&#x27;, &#x27;Final Energy|Residential|Space Heating|Electricity|U4&#x27;: &#x27;EJ/yr&#x27;, &#x27;Final Energy|Residential|Space Heating|Electricity|U5&#x27;: &#x27;EJ/yr&#x27;, &#x27;Final Energy|Residential|Space Heating|Heat&#x27;: &#x27;EJ/yr&#x27;, &#x27;Final Energy|Residential|Space Heating|Heat|R1&#x27;: &#x27;EJ/yr&#x27;, &#x27;Final Energy|Residential|Space Heating|Heat|R2&#x27;: &#x27;EJ/yr&#x27;, &#x27;Final Energy|Residential|Space Heating|Heat|R3&#x27;: &#x27;EJ/yr&#x27;, &#x27;Final Energy|Residential|Space Heating|Heat|R4&#x27;: &#x27;EJ/yr&#x27;, &#x27;Final Energy|Residential|Space Heating|Heat|R5&#x27;: &#x27;EJ/yr&#x27;, &#x27;Final Energy|Residential|Space Heating|Heat|U1&#x27;: &#x27;EJ/yr&#x27;, &#x27;Final Energy|Residential|Space Heating|Heat|U2&#x27;: &#x27;EJ/yr&#x27;, &#x27;Final Energy|Residential|Space Heating|Heat|U3&#x27;: &#x27;EJ/yr&#x27;, &#x27;Final Energy|Residential|Space Heating|Heat|U4&#x27;: &#x27;EJ/yr&#x27;, &#x27;Final Energy|Residential|Space Heating|Heat|U5&#x27;: &#x27;EJ/yr&#x27;, &#x27;Final Energy|Residential|Space Heating|Hydrogen&#x27;: &#x27;EJ/yr&#x27;, &#x27;Final Energy|Residential|Space Heating|Hydrogen|R1&#x27;: &#x27;EJ/yr&#x27;, &#x27;Final Energy|Residential|Space Heating|Hydrogen|R2&#x27;: &#x27;EJ/yr&#x27;, &#x27;Final Energy|Residential|Space Heating|Hydrogen|R3&#x27;: &#x27;EJ/yr&#x27;, &#x27;Final Energy|Residential|Space Heating|Hydrogen|R4&#x27;: &#x27;EJ/yr&#x27;, &#x27;Final Energy|Residential|Space Heating|Hydrogen|R5&#x27;: &#x27;EJ/yr&#x27;, &#x27;Final Energy|Residential|Space Heating|Hydrogen|U1&#x27;: &#x27;EJ/yr&#x27;, &#x27;Final Energy|Residential|Space Heating|Hydrogen|U2&#x27;: &#x27;EJ/yr&#x27;, &#x27;Final Energy|Residential|Space Heating|Hydrogen|U3&#x27;: &#x27;EJ/yr&#x27;, &#x27;Final Energy|Residential|Space Heating|Hydrogen|U4&#x27;: &#x27;EJ/yr&#x27;, &#x27;Final Energy|Residential|Space Heating|Hydrogen|U5&#x27;: &#x27;EJ/yr&#x27;, &#x27;Final Energy|Residential|Space Heating|Liquid (fossil)&#x27;: &#x27;EJ/yr&#x27;, &#x27;Final Energy|Residential|Space Heating|Liquid (fossil)|R1&#x27;: &#x27;EJ/yr&#x27;, &#x27;Final Energy|Residential|Space Heating|Liquid (fossil)|R2&#x27;: &#x27;EJ/yr&#x27;, &#x27;Final Energy|Residential|Space Heating|Liquid (fossil)|R3&#x27;: &#x27;EJ/yr&#x27;, &#x27;Final Energy|Residential|Space Heating|Liquid (fossil)|R4&#x27;: &#x27;EJ/yr&#x27;, &#x27;Final Energy|Residential|Space Heating|Liquid (fossil)|R5&#x27;: &#x27;EJ/yr&#x27;, &#x27;Final Energy|Residential|Space Heating|Liquid (fossil)|U1&#x27;: &#x27;EJ/yr&#x27;, &#x27;Final Energy|Residential|Space Heating|Liquid (fossil)|U2&#x27;: &#x27;EJ/yr&#x27;, &#x27;Final Energy|Residential|Space Heating|Liquid (fossil)|U3&#x27;: &#x27;EJ/yr&#x27;, &#x27;Final Energy|Residential|Space Heating|Liquid (fossil)|U4&#x27;: &#x27;EJ/yr&#x27;, &#x27;Final Energy|Residential|Space Heating|Liquid (fossil)|U5&#x27;: &#x27;EJ/yr&#x27;, &#x27;Final Energy|Residential|Space Heating|Modern Biomass&#x27;: &#x27;EJ/yr&#x27;, &#x27;Final Energy|Residential|Space Heating|Modern Biomass|R1&#x27;: &#x27;EJ/yr&#x27;, &#x27;Final Energy|Residential|Space Heating|Modern Biomass|R2&#x27;: &#x27;EJ/yr&#x27;, &#x27;Final Energy|Residential|Space Heating|Modern Biomass|R3&#x27;: &#x27;EJ/yr&#x27;, &#x27;Final Energy|Residential|Space Heating|Modern Biomass|R4&#x27;: &#x27;EJ/yr&#x27;, &#x27;Final Energy|Residential|Space Heating|Modern Biomass|R5&#x27;: &#x27;EJ/yr&#x27;, &#x27;Final Energy|Residential|Space Heating|Modern Biomass|U1&#x27;: &#x27;EJ/yr&#x27;, &#x27;Final Energy|Residential|Space Heating|Modern Biomass|U2&#x27;: &#x27;EJ/yr&#x27;, &#x27;Final Energy|Residential|Space Heating|Modern Biomass|U3&#x27;: &#x27;EJ/yr&#x27;, &#x27;Final Energy|Residential|Space Heating|Modern Biomass|U4&#x27;: &#x27;EJ/yr&#x27;, &#x27;Final Energy|Residential|Space Heating|Modern Biomass|U5&#x27;: &#x27;EJ/yr&#x27;, &#x27;Final Energy|Residential|Space Heating|Natural Gas&#x27;: &#x27;EJ/yr&#x27;, &#x27;Final Energy|Residential|Space Heating|Natural Gas|R1&#x27;: &#x27;EJ/yr&#x27;, &#x27;Final Energy|Residential|Space Heating|Natural Gas|R2&#x27;: &#x27;EJ/yr&#x27;, &#x27;Final Energy|Residential|Space Heating|Natural Gas|R3&#x27;: &#x27;EJ/yr&#x27;, &#x27;Final Energy|Residential|Space Heating|Natural Gas|R4&#x27;: &#x27;EJ/yr&#x27;, &#x27;Final Energy|Residential|Space Heating|Natural Gas|R5&#x27;: &#x27;EJ/yr&#x27;, &#x27;Final Energy|Residential|Space Heating|Natural Gas|U1&#x27;: &#x27;EJ/yr&#x27;, &#x27;Final Energy|Residential|Space Heating|Natural Gas|U2&#x27;: &#x27;EJ/yr&#x27;, &#x27;Final Energy|Residential|Space Heating|Natural Gas|U3&#x27;: &#x27;EJ/yr&#x27;, &#x27;Final Energy|Residential|Space Heating|Natural Gas|U4&#x27;: &#x27;EJ/yr&#x27;, &#x27;Final Energy|Residential|Space Heating|Natural Gas|U5&#x27;: &#x27;EJ/yr&#x27;, &#x27;Final Energy|Residential|Space Heating|Traditional Biomass&#x27;: &#x27;EJ/yr&#x27;, &#x27;Final Energy|Residential|Space Heating|Traditional Biomass|R1&#x27;: &#x27;EJ/yr&#x27;, &#x27;Final Energy|Residential|Space Heating|Traditional Biomass|R2&#x27;: &#x27;EJ/yr&#x27;, &#x27;Final Energy|Residential|Space Heating|Traditional Biomass|R3&#x27;: &#x27;EJ/yr&#x27;, &#x27;Final Energy|Residential|Space Heating|Traditional Biomass|R4&#x27;: &#x27;EJ/yr&#x27;, &#x27;Final Energy|Residential|Space Heating|Traditional Biomass|R5&#x27;: &#x27;EJ/yr&#x27;, &#x27;Final Energy|Residential|Space Heating|Traditional Biomass|U1&#x27;: &#x27;EJ/yr&#x27;, &#x27;Final Energy|Residential|Space Heating|Traditional Biomass|U2&#x27;: &#x27;EJ/yr&#x27;, &#x27;Final Energy|Residential|Space Heating|Traditional Biomass|U3&#x27;: &#x27;EJ/yr&#x27;, &#x27;Final Energy|Residential|Space Heating|Traditional Biomass|U4&#x27;: &#x27;EJ/yr&#x27;, &#x27;Final Energy|Residential|Space Heating|Traditional Biomass|U5&#x27;: &#x27;EJ/yr&#x27;, &#x27;Final Energy|Residential|Water Heating&#x27;: &#x27;EJ/yr&#x27;, &#x27;Final Energy|Residential|Water Heating|Coal&#x27;: &#x27;EJ/yr&#x27;, &#x27;Final Energy|Residential|Water Heating|Coal|R1&#x27;: &#x27;EJ/yr&#x27;, &#x27;Final Energy|Residential|Water Heating|Coal|R2&#x27;: &#x27;EJ/yr&#x27;, &#x27;Final Energy|Residential|Water Heating|Coal|R3&#x27;: &#x27;EJ/yr&#x27;, &#x27;Final Energy|Residential|Water Heating|Coal|R4&#x27;: &#x27;EJ/yr&#x27;, &#x27;Final Energy|Residential|Water Heating|Coal|R5&#x27;: &#x27;EJ/yr&#x27;, &#x27;Final Energy|Residential|Water Heating|Coal|U1&#x27;: &#x27;EJ/yr&#x27;, &#x27;Final Energy|Residential|Water Heating|Coal|U2&#x27;: &#x27;EJ/yr&#x27;, &#x27;Final Energy|Residential|Water Heating|Coal|U3&#x27;: &#x27;EJ/yr&#x27;, &#x27;Final Energy|Residential|Water Heating|Coal|U4&#x27;: &#x27;EJ/yr&#x27;, &#x27;Final Energy|Residential|Water Heating|Coal|U5&#x27;: &#x27;EJ/yr&#x27;, &#x27;Final Energy|Residential|Water Heating|Electricity&#x27;: &#x27;EJ/yr&#x27;, &#x27;Final Energy|Residential|Water Heating|Electricity|R1&#x27;: &#x27;EJ/yr&#x27;, &#x27;Final Energy|Residential|Water Heating|Electricity|R2&#x27;: &#x27;EJ/yr&#x27;, &#x27;Final Energy|Residential|Water Heating|Electricity|R3&#x27;: &#x27;EJ/yr&#x27;, &#x27;Final Energy|Residential|Water Heating|Electricity|R4&#x27;: &#x27;EJ/yr&#x27;, &#x27;Final Energy|Residential|Water Heating|Electricity|R5&#x27;: &#x27;EJ/yr&#x27;, &#x27;Final Energy|Residential|Water Heating|Electricity|U1&#x27;: &#x27;EJ/yr&#x27;, &#x27;Final Energy|Residential|Water Heating|Electricity|U2&#x27;: &#x27;EJ/yr&#x27;, &#x27;Final Energy|Residential|Water Heating|Electricity|U3&#x27;: &#x27;EJ/yr&#x27;, &#x27;Final Energy|Residential|Water Heating|Electricity|U4&#x27;: &#x27;EJ/yr&#x27;, &#x27;Final Energy|Residential|Water Heating|Electricity|U5&#x27;: &#x27;EJ/yr&#x27;, &#x27;Final Energy|Residential|Water Heating|Heat&#x27;: &#x27;EJ/yr&#x27;, &#x27;Final Energy|Residential|Water Heating|Heat|R1&#x27;: &#x27;EJ/yr&#x27;, &#x27;Final Energy|Residential|Water Heating|Heat|R2&#x27;: &#x27;EJ/yr&#x27;, &#x27;Final Energy|Residential|Water Heating|Heat|R3&#x27;: &#x27;EJ/yr&#x27;, &#x27;Final Energy|Residential|Water Heating|Heat|R4&#x27;: &#x27;EJ/yr&#x27;, &#x27;Final Energy|Residential|Water Heating|Heat|R5&#x27;: &#x27;EJ/yr&#x27;, &#x27;Final Energy|Residential|Water Heating|Heat|U1&#x27;: &#x27;EJ/yr&#x27;, &#x27;Final Energy|Residential|Water Heating|Heat|U2&#x27;: &#x27;EJ/yr&#x27;, &#x27;Final Energy|Residential|Water Heating|Heat|U3&#x27;: &#x27;EJ/yr&#x27;, &#x27;Final Energy|Residential|Water Heating|Heat|U4&#x27;: &#x27;EJ/yr&#x27;, &#x27;Final Energy|Residential|Water Heating|Heat|U5&#x27;: &#x27;EJ/yr&#x27;, &#x27;Final Energy|Residential|Water Heating|Hydrogen&#x27;: &#x27;EJ/yr&#x27;, &#x27;Final Energy|Residential|Water Heating|Hydrogen|R1&#x27;: &#x27;EJ/yr&#x27;, &#x27;Final Energy|Residential|Water Heating|Hydrogen|R2&#x27;: &#x27;EJ/yr&#x27;, &#x27;Final Energy|Residential|Water Heating|Hydrogen|R3&#x27;: &#x27;EJ/yr&#x27;, &#x27;Final Energy|Residential|Water Heating|Hydrogen|R4&#x27;: &#x27;EJ/yr&#x27;, &#x27;Final Energy|Residential|Water Heating|Hydrogen|R5&#x27;: &#x27;EJ/yr&#x27;, &#x27;Final Energy|Residential|Water Heating|Hydrogen|U1&#x27;: &#x27;EJ/yr&#x27;, &#x27;Final Energy|Residential|Water Heating|Hydrogen|U2&#x27;: &#x27;EJ/yr&#x27;, &#x27;Final Energy|Residential|Water Heating|Hydrogen|U3&#x27;: &#x27;EJ/yr&#x27;, &#x27;Final Energy|Residential|Water Heating|Hydrogen|U4&#x27;: &#x27;EJ/yr&#x27;, &#x27;Final Energy|Residential|Water Heating|Hydrogen|U5&#x27;: &#x27;EJ/yr&#x27;, &#x27;Final Energy|Residential|Water Heating|Liquid (fossil)&#x27;: &#x27;EJ/yr&#x27;, &#x27;Final Energy|Residential|Water Heating|Liquid (fossil)|R1&#x27;: &#x27;EJ/yr&#x27;, &#x27;Final Energy|Residential|Water Heating|Liquid (fossil)|R2&#x27;: &#x27;EJ/yr&#x27;, &#x27;Final Energy|Residential|Water Heating|Liquid (fossil)|R3&#x27;: &#x27;EJ/yr&#x27;, &#x27;Final Energy|Residential|Water Heating|Liquid (fossil)|R4&#x27;: &#x27;EJ/yr&#x27;, &#x27;Final Energy|Residential|Water Heating|Liquid (fossil)|R5&#x27;: &#x27;EJ/yr&#x27;, &#x27;Final Energy|Residential|Water Heating|Liquid (fossil)|U1&#x27;: &#x27;EJ/yr&#x27;, &#x27;Final Energy|Residential|Water Heating|Liquid (fossil)|U2&#x27;: &#x27;EJ/yr&#x27;, &#x27;Final Energy|Residential|Water Heating|Liquid (fossil)|U3&#x27;: &#x27;EJ/yr&#x27;, &#x27;Final Energy|Residential|Water Heating|Liquid (fossil)|U4&#x27;: &#x27;EJ/yr&#x27;, &#x27;Final Energy|Residential|Water Heating|Liquid (fossil)|U5&#x27;: &#x27;EJ/yr&#x27;, &#x27;Final Energy|Residential|Water Heating|Modern Biomass&#x27;: &#x27;EJ/yr&#x27;, &#x27;Final Energy|Residential|Water Heating|Modern Biomass|R1&#x27;: &#x27;EJ/yr&#x27;, &#x27;Final Energy|Residential|Water Heating|Modern Biomass|R2&#x27;: &#x27;EJ/yr&#x27;, &#x27;Final Energy|Residential|Water Heating|Modern Biomass|R3&#x27;: &#x27;EJ/yr&#x27;, &#x27;Final Energy|Residential|Water Heating|Modern Biomass|R4&#x27;: &#x27;EJ/yr&#x27;, &#x27;Final Energy|Residential|Water Heating|Modern Biomass|R5&#x27;: &#x27;EJ/yr&#x27;, &#x27;Final Energy|Residential|Water Heating|Modern Biomass|U1&#x27;: &#x27;EJ/yr&#x27;, &#x27;Final Energy|Residential|Water Heating|Modern Biomass|U2&#x27;: &#x27;EJ/yr&#x27;, &#x27;Final Energy|Residential|Water Heating|Modern Biomass|U3&#x27;: &#x27;EJ/yr&#x27;, &#x27;Final Energy|Residential|Water Heating|Modern Biomass|U4&#x27;: &#x27;EJ/yr&#x27;, &#x27;Final Energy|Residential|Water Heating|Modern Biomass|U5&#x27;: &#x27;EJ/yr&#x27;, &#x27;Final Energy|Residential|Water Heating|Natural Gas&#x27;: &#x27;EJ/yr&#x27;, &#x27;Final Energy|Residential|Water Heating|Natural Gas|R1&#x27;: &#x27;EJ/yr&#x27;, &#x27;Final Energy|Residential|Water Heating|Natural Gas|R2&#x27;: &#x27;EJ/yr&#x27;, &#x27;Final Energy|Residential|Water Heating|Natural Gas|R3&#x27;: &#x27;EJ/yr&#x27;, &#x27;Final Energy|Residential|Water Heating|Natural Gas|R4&#x27;: &#x27;EJ/yr&#x27;, &#x27;Final Energy|Residential|Water Heating|Natural Gas|R5&#x27;: &#x27;EJ/yr&#x27;, &#x27;Final Energy|Residential|Water Heating|Natural Gas|U1&#x27;: &#x27;EJ/yr&#x27;, &#x27;Final Energy|Residential|Water Heating|Natural Gas|U2&#x27;: &#x27;EJ/yr&#x27;, &#x27;Final Energy|Residential|Water Heating|Natural Gas|U3&#x27;: &#x27;EJ/yr&#x27;, &#x27;Final Energy|Residential|Water Heating|Natural Gas|U4&#x27;: &#x27;EJ/yr&#x27;, &#x27;Final Energy|Residential|Water Heating|Natural Gas|U5&#x27;: &#x27;EJ/yr&#x27;, &#x27;Final Energy|Residential|Water Heating|Traditional Biomass&#x27;: &#x27;EJ/yr&#x27;, &#x27;Final Energy|Residential|Water Heating|Traditional Biomass|R1&#x27;: &#x27;EJ/yr&#x27;, &#x27;Final Energy|Residential|Water Heating|Traditional Biomass|R2&#x27;: &#x27;EJ/yr&#x27;, &#x27;Final Energy|Residential|Water Heating|Traditional Biomass|R3&#x27;: &#x27;EJ/yr&#x27;, &#x27;Final Energy|Residential|Water Heating|Traditional Biomass|R4&#x27;: &#x27;EJ/yr&#x27;, &#x27;Final Energy|Residential|Water Heating|Traditional Biomass|R5&#x27;: &#x27;EJ/yr&#x27;, &#x27;Final Energy|Residential|Water Heating|Traditional Biomass|U1&#x27;: &#x27;EJ/yr&#x27;, &#x27;Final Energy|Residential|Water Heating|Traditional Biomass|U2&#x27;: &#x27;EJ/yr&#x27;, &#x27;Final Energy|Residential|Water Heating|Traditional Biomass|U3&#x27;: &#x27;EJ/yr&#x27;, &#x27;Final Energy|Residential|Water Heating|Traditional Biomass|U4&#x27;: &#x27;EJ/yr&#x27;, &#x27;Final Energy|Residential|Water Heating|Traditional Biomass|U5&#x27;: &#x27;EJ/yr&#x27;, &#x27;Final Energy|Transportation|Freight&#x27;: &#x27;EJ/yr&#x27;, &#x27;Final Energy|Transportation|Freight|Air&#x27;: &#x27;EJ/yr&#x27;, &#x27;Final Energy|Transportation|Freight|Air|Electricity&#x27;: &#x27;EJ/yr&#x27;, &#x27;Final Energy|Transportation|Freight|Air|Gas&#x27;: &#x27;EJ/yr&#x27;, &#x27;Final Energy|Transportation|Freight|Air|Hydrogen&#x27;: &#x27;EJ/yr&#x27;, &#x27;Final Energy|Transportation|Freight|Air|Liquids&#x27;: &#x27;EJ/yr&#x27;, &#x27;Final Energy|Transportation|Freight|Air|Liquids|Biomass&#x27;: &#x27;EJ/yr&#x27;, &#x27;Final Energy|Transportation|Freight|Air|Liquids|Fossil&#x27;: &#x27;EJ/yr&#x27;, &#x27;Final Energy|Transportation|Freight|Heavy Truck&#x27;: &#x27;EJ/yr&#x27;, &#x27;Final Energy|Transportation|Freight|Heavy Truck|Electricity&#x27;: &#x27;EJ/yr&#x27;, &#x27;Final Energy|Transportation|Freight|Heavy Truck|Gas&#x27;: &#x27;EJ/yr&#x27;, &#x27;Final Energy|Transportation|Freight|Heavy Truck|Hydrogen&#x27;: &#x27;EJ/yr&#x27;, &#x27;Final Energy|Transportation|Freight|Heavy Truck|Liquids&#x27;: &#x27;EJ/yr&#x27;, &#x27;Final Energy|Transportation|Freight|Heavy Truck|Liquids|Biomass&#x27;: &#x27;EJ/yr&#x27;, &#x27;Final Energy|Transportation|Freight|Heavy Truck|Liquids|Fossil&#x27;: &#x27;EJ/yr&#x27;, &#x27;Final Energy|Transportation|Freight|International Shipping&#x27;: &#x27;EJ/yr&#x27;, &#x27;Final Energy|Transportation|Freight|International Shipping|Electricity&#x27;: &#x27;EJ/yr&#x27;, &#x27;Final Energy|Transportation|Freight|International Shipping|Gas&#x27;: &#x27;EJ/yr&#x27;, &#x27;Final Energy|Transportation|Freight|International Shipping|Hydrogen&#x27;: &#x27;EJ/yr&#x27;, &#x27;Final Energy|Transportation|Freight|International Shipping|Liquids&#x27;: &#x27;EJ/yr&#x27;, &#x27;Final Energy|Transportation|Freight|International Shipping|Liquids|Biomass&#x27;: &#x27;EJ/yr&#x27;, &#x27;Final Energy|Transportation|Freight|International Shipping|Liquids|Fossil&#x27;: &#x27;EJ/yr&#x27;, &#x27;Final Energy|Transportation|Freight|Medium Truck&#x27;: &#x27;EJ/yr&#x27;, &#x27;Final Energy|Transportation|Freight|Medium Truck|Electricity&#x27;: &#x27;EJ/yr&#x27;, &#x27;Final Energy|Transportation|Freight|Medium Truck|Gas&#x27;: &#x27;EJ/yr&#x27;, &#x27;Final Energy|Transportation|Freight|Medium Truck|Hydrogen&#x27;: &#x27;EJ/yr&#x27;, &#x27;Final Energy|Transportation|Freight|Medium Truck|Liquids&#x27;: &#x27;EJ/yr&#x27;, &#x27;Final Energy|Transportation|Freight|Medium Truck|Liquids|Biomass&#x27;: &#x27;EJ/yr&#x27;, &#x27;Final Energy|Transportation|Freight|Medium Truck|Liquids|Fossil&#x27;: &#x27;EJ/yr&#x27;, &#x27;Final Energy|Transportation|Freight|National Shipping&#x27;: &#x27;EJ/yr&#x27;, &#x27;Final Energy|Transportation|Freight|National Shipping|Electricity&#x27;: &#x27;EJ/yr&#x27;, &#x27;Final Energy|Transportation|Freight|National Shipping|Gas&#x27;: &#x27;EJ/yr&#x27;, &#x27;Final Energy|Transportation|Freight|National Shipping|Hydrogen&#x27;: &#x27;EJ/yr&#x27;, &#x27;Final Energy|Transportation|Freight|National Shipping|Liquids&#x27;: &#x27;EJ/yr&#x27;, &#x27;Final Energy|Transportation|Freight|National Shipping|Liquids|Biomass&#x27;: &#x27;EJ/yr&#x27;, &#x27;Final Energy|Transportation|Freight|National Shipping|Liquids|Fossil&#x27;: &#x27;EJ/yr&#x27;, &#x27;Final Energy|Transportation|Freight|Train&#x27;: &#x27;EJ/yr&#x27;, &#x27;Final Energy|Transportation|Freight|Train|Electricity&#x27;: &#x27;EJ/yr&#x27;, &#x27;Final Energy|Transportation|Freight|Train|Gas&#x27;: &#x27;EJ/yr&#x27;, &#x27;Final Energy|Transportation|Freight|Train|Hydrogen&#x27;: &#x27;EJ/yr&#x27;, &#x27;Final Energy|Transportation|Freight|Train|Liquids&#x27;: &#x27;EJ/yr&#x27;, &#x27;Final Energy|Transportation|Freight|Train|Liquids|Biomass&#x27;: &#x27;EJ/yr&#x27;, &#x27;Final Energy|Transportation|Freight|Train|Liquids|Fossil&#x27;: &#x27;EJ/yr&#x27;, &#x27;Final Energy|Transportation|Passenger&#x27;: &#x27;EJ/yr&#x27;, &#x27;Final Energy|Transportation|Passenger|Bus&#x27;: &#x27;EJ/yr&#x27;, &#x27;Final Energy|Transportation|Passenger|Bus|Electricity&#x27;: &#x27;EJ/yr&#x27;, &#x27;Final Energy|Transportation|Passenger|Bus|Gases&#x27;: &#x27;EJ/yr&#x27;, &#x27;Final Energy|Transportation|Passenger|Bus|Hydrogen&#x27;: &#x27;EJ/yr&#x27;, &#x27;Final Energy|Transportation|Passenger|Bus|Liquids&#x27;: &#x27;EJ/yr&#x27;, &#x27;Final Energy|Transportation|Passenger|Bus|Liquids|Biomass&#x27;: &#x27;EJ/yr&#x27;, &#x27;Final Energy|Transportation|Passenger|Bus|Liquids|Fossil&#x27;: &#x27;EJ/yr&#x27;, &#x27;Final Energy|Transportation|Passenger|Domestic Aviation&#x27;: &#x27;EJ/yr&#x27;, &#x27;Final Energy|Transportation|Passenger|Domestic Aviation|Electricity&#x27;: &#x27;EJ/yr&#x27;, &#x27;Final Energy|Transportation|Passenger|Domestic Aviation|Gases&#x27;: &#x27;EJ/yr&#x27;, &#x27;Final Energy|Transportation|Passenger|Domestic Aviation|Hydrogen&#x27;: &#x27;EJ/yr&#x27;, &#x27;Final Energy|Transportation|Passenger|Domestic Aviation|Liquids&#x27;: &#x27;EJ/yr&#x27;, &#x27;Final Energy|Transportation|Passenger|Domestic Aviation|Liquids|Biomass&#x27;: &#x27;EJ/yr&#x27;, &#x27;Final Energy|Transportation|Passenger|Domestic Aviation|Liquids|Fossil&#x27;: &#x27;EJ/yr&#x27;, &#x27;Final Energy|Transportation|Passenger|International Aviation&#x27;: &#x27;EJ/yr&#x27;, &#x27;Final Energy|Transportation|Passenger|International Aviation|Electricity&#x27;: &#x27;EJ/yr&#x27;, &#x27;Final Energy|Transportation|Passenger|International Aviation|Gases&#x27;: &#x27;EJ/yr&#x27;, &#x27;Final Energy|Transportation|Passenger|International Aviation|Hydrogen&#x27;: &#x27;EJ/yr&#x27;, &#x27;Final Energy|Transportation|Passenger|International Aviation|Liquids&#x27;: &#x27;EJ/yr&#x27;, &#x27;Final Energy|Transportation|Passenger|International Aviation|Liquids|Biomass&#x27;: &#x27;EJ/yr&#x27;, &#x27;Final Energy|Transportation|Passenger|International Aviation|Liquids|Fossil&#x27;: &#x27;EJ/yr&#x27;, &#x27;Final Energy|Transportation|Passenger|Light Duty Vehicle&#x27;: &#x27;EJ/yr&#x27;, &#x27;Final Energy|Transportation|Passenger|Light Duty Vehicle|Electricity&#x27;: &#x27;EJ/yr&#x27;, &#x27;Final Energy|Transportation|Passenger|Light Duty Vehicle|Gases&#x27;: &#x27;EJ/yr&#x27;, &#x27;Final Energy|Transportation|Passenger|Light Duty Vehicle|Hydrogen&#x27;: &#x27;EJ/yr&#x27;, &#x27;Final Energy|Transportation|Passenger|Light Duty Vehicle|Liquids&#x27;: &#x27;EJ/yr&#x27;, &#x27;Final Energy|Transportation|Passenger|Light Duty Vehicle|Liquids|Biomass&#x27;: &#x27;EJ/yr&#x27;, &#x27;Final Energy|Transportation|Passenger|Light Duty Vehicle|Liquids|Fossil&#x27;: &#x27;EJ/yr&#x27;, &#x27;Final Energy|Transportation|Passenger|Rail (high speed)&#x27;: &#x27;EJ/yr&#x27;, &#x27;Final Energy|Transportation|Passenger|Rail (high speed)|Electricity&#x27;: &#x27;EJ/yr&#x27;, &#x27;Final Energy|Transportation|Passenger|Rail (high speed)|Gases&#x27;: &#x27;EJ/yr&#x27;, &#x27;Final Energy|Transportation|Passenger|Rail (high speed)|Hydrogen&#x27;: &#x27;EJ/yr&#x27;, &#x27;Final Energy|Transportation|Passenger|Rail (high speed)|Liquids&#x27;: &#x27;EJ/yr&#x27;, &#x27;Final Energy|Transportation|Passenger|Rail (high speed)|Liquids|Biomass&#x27;: &#x27;EJ/yr&#x27;, &#x27;Final Energy|Transportation|Passenger|Rail (high speed)|Liquids|Fossil&#x27;: &#x27;EJ/yr&#x27;, &#x27;Final Energy|Transportation|Passenger|Rail (low speed)&#x27;: &#x27;EJ/yr&#x27;, &#x27;Final Energy|Transportation|Passenger|Rail (low speed)|Electricity&#x27;: &#x27;EJ/yr&#x27;, &#x27;Final Energy|Transportation|Passenger|Rail (low speed)|Gases&#x27;: &#x27;EJ/yr&#x27;, &#x27;Final Energy|Transportation|Passenger|Rail (low speed)|Hydrogen&#x27;: &#x27;EJ/yr&#x27;, &#x27;Final Energy|Transportation|Passenger|Rail (low speed)|Liquids&#x27;: &#x27;EJ/yr&#x27;, &#x27;Final Energy|Transportation|Passenger|Rail (low speed)|Liquids|Biomass&#x27;: &#x27;EJ/yr&#x27;, &#x27;Final Energy|Transportation|Passenger|Rail (low speed)|Liquids|Fossil&#x27;: &#x27;EJ/yr&#x27;, &#x27;GDP|PPP&#x27;: &#x27;billion USD_2010/yr&#x27;, &#x27;Land Use|Marginal|Biomass|Grassy&#x27;: &#x27;Ha/GJ-Prim&#x27;, &#x27;Land Use|Marginal|Biomass|Maize&#x27;: &#x27;Ha/GJ-Prim&#x27;, &#x27;Land Use|Marginal|Biomass|OilCrop&#x27;: &#x27;Ha/GJ-Prim&#x27;, &#x27;Land Use|Marginal|Biomass|Sugar&#x27;: &#x27;Ha/GJ-Prim&#x27;, &#x27;Land Use|Marginal|Biomass|Woody&#x27;: &#x27;Ha/GJ-Prim&#x27;, &#x27;Population&#x27;: &#x27;million&#x27;, &#x27;Primary Energy|Biomass|Energy Crops&#x27;: &#x27;EJ/yr&#x27;, &#x27;Primary Energy|Biomass|Modern&#x27;: &#x27;EJ/yr&#x27;, &#x27;Primary Energy|Biomass|Residues&#x27;: &#x27;EJ/yr&#x27;, &#x27;Primary Energy|Biomass|Traditional&#x27;: &#x27;EJ/yr&#x27;, &#x27;Production|Chemicals|Ammonia&#x27;: &#x27;Mt/yr&#x27;, &#x27;Production|Chemicals|High-Value Chemicals&#x27;: &#x27;Mt/yr&#x27;, &#x27;Production|Chemicals|Methanol&#x27;: &#x27;Mt/yr&#x27;, &#x27;Production|Industry|Cement|Dry feed rotary kiln&#x27;: &#x27;Mtonne/yr&#x27;, &#x27;Production|Industry|Cement|Efficient dry feed rotary kiln&#x27;: &#x27;Mtonne/yr&#x27;, &#x27;Production|Industry|Cement|Efficient dry feed rotary kiln + MEA CCS&#x27;: &#x27;Mtonne/yr&#x27;, &#x27;Production|Industry|Cement|Efficient dry feed rotary kiln + On-site CCS&#x27;: &#x27;Mtonne/yr&#x27;, &#x27;Production|Industry|Cement|Efficient dry feed rotary kiln + Oxy-combustion CCS&#x27;: &#x27;Mtonne/yr&#x27;, &#x27;Production|Industry|Iron and Steel|BF/ BOF Standard + CCS&#x27;: &#x27;Mtonne/yr&#x27;, &#x27;Production|Industry|Iron and Steel|BF/BOF Modernized&#x27;: &#x27;Mtonne/yr&#x27;, &#x27;Production|Industry|Iron and Steel|BF/BOF Standard&#x27;: &#x27;Mtonne/yr&#x27;, &#x27;Production|Industry|Iron and Steel|Crude Steel&#x27;: &#x27;Mtonne/yr&#x27;, &#x27;Production|Industry|Iron and Steel|DRI EAF&#x27;: &#x27;Mtonne/yr&#x27;, &#x27;Production|Industry|Iron and Steel|DRI EAF + CCS&#x27;: &#x27;Mtonne/yr&#x27;, &#x27;Production|Industry|Iron and Steel|EAF scrap&#x27;: &#x27;Mtonne/yr&#x27;, &#x27;Production|Industry|Iron and Steel|Electrowinning/EAF&#x27;: &#x27;Mtonne/yr&#x27;, &#x27;Production|Industry|Iron and Steel|H-DRI/EAF&#x27;: &#x27;Mtonne/yr&#x27;, &#x27;Production|Industry|Iron and Steel|SR/BOF&#x27;: &#x27;Mtonne/yr&#x27;, &#x27;Production|Industry|Iron and Steel|SR/BOF + CCS&#x27;: &#x27;Mtonne/yr&#x27;, &#x27;Production|Industry|Iron and Steel|Scrap Steel&#x27;: &#x27;Mtonne/yr&#x27;, &#x27;Production|Industry|Iron and Steel|TGR BF/BOF&#x27;: &#x27;Mtonne/yr&#x27;, &#x27;Production|Industry|Iron and Steel|TGR BF/BOF BAT&#x27;: &#x27;Mtonne/yr&#x27;, &#x27;Production|Industry|Iron and Steel|TGR BF/BOF BAT + CCS&#x27;: &#x27;Mtonne/yr&#x27;, &#x27;Production|Pulp and Paper [Volume]&#x27;: &#x27;Mt/yr&#x27;, &#x27;Production|Pulp and Paper|Paper&#x27;: &#x27;Mt/yr&#x27;, &#x27;Production|Pulp and Paper|Pulp&#x27;: &#x27;Mt/yr&#x27;, &#x27;Secondary Energy|Consumption|Liquids|Biomass|Biodiesel|Oilcrops|w/CCS&#x27;: &#x27;EJ/yr&#x27;, &#x27;Secondary Energy|Consumption|Liquids|Biomass|Biodiesel|Oilcrops|w/oCCS&#x27;: &#x27;EJ/yr&#x27;, &#x27;Secondary Energy|Consumption|Liquids|Biomass|Ethanol|Grassy|w/CCS&#x27;: &#x27;EJ/yr&#x27;, &#x27;Secondary Energy|Consumption|Liquids|Biomass|Ethanol|Grassy|w/oCCS&#x27;: &#x27;EJ/yr&#x27;, &#x27;Secondary Energy|Consumption|Liquids|Biomass|Ethanol|Maize|w/CCS&#x27;: &#x27;EJ/yr&#x27;, &#x27;Secondary Energy|Consumption|Liquids|Biomass|Ethanol|Maize|w/oCCS&#x27;: &#x27;EJ/yr&#x27;, &#x27;Secondary Energy|Consumption|Liquids|Biomass|Ethanol|Sugar|w/CCS&#x27;: &#x27;EJ/yr&#x27;, &#x27;Secondary Energy|Consumption|Liquids|Biomass|Ethanol|Sugar|w/oCCS&#x27;: &#x27;EJ/yr&#x27;, &#x27;Secondary Energy|Consumption|Liquids|Biomass|Ethanol|Woody|w/CCS&#x27;: &#x27;EJ/yr&#x27;, &#x27;Secondary Energy|Consumption|Liquids|Biomass|Ethanol|Woody|w/oCCS&#x27;: &#x27;EJ/yr&#x27;, &#x27;Secondary Energy|Consumption|Liquids|Biomass|FT Diesel|Grassy|w/CCS&#x27;: &#x27;EJ/yr&#x27;, &#x27;Secondary Energy|Consumption|Liquids|Biomass|FT Diesel|Grassy|w/oCCS&#x27;: &#x27;EJ/yr&#x27;, &#x27;Secondary Energy|Consumption|Liquids|Biomass|FT Diesel|Woody|w/CCS&#x27;: &#x27;EJ/yr&#x27;, &#x27;Secondary Energy|Consumption|Liquids|Biomass|FT Diesel|Woody|w/oCCS&#x27;: &#x27;EJ/yr&#x27;, &#x27;Secondary Energy|Consumption|Liquids|Biomass|Methanol|Grassy|w/CCS&#x27;: &#x27;EJ/yr&#x27;, &#x27;Secondary Energy|Consumption|Liquids|Biomass|Methanol|Grassy|w/oCCS&#x27;: &#x27;EJ/yr&#x27;, &#x27;Secondary Energy|Consumption|Liquids|Biomass|Methanol|Woody|w/CCS&#x27;: &#x27;EJ/yr&#x27;, &#x27;Secondary Energy|Consumption|Liquids|Biomass|Methanol|Woody|w/oCCS&#x27;: &#x27;EJ/yr&#x27;, &#x27;Secondary Energy|Consumption|Liquids|Fossil&#x27;: &#x27;EJ/yr&#x27;, &#x27;Secondary Energy|Consumption|Liquids|Fossil|Diesel&#x27;: &#x27;EJ/yr&#x27;, &#x27;Secondary Energy|Consumption|Liquids|Fossil|Gasoline&#x27;: &#x27;EJ/yr&#x27;, &#x27;Secondary Energy|Electricity|Biomass&#x27;: &#x27;EJ/yr&#x27;, &#x27;Secondary Energy|Electricity|Biomass|w/ CCS|1&#x27;: &#x27;EJ/yr&#x27;, &#x27;Secondary Energy|Electricity|Biomass|w/ CCS|2&#x27;: &#x27;EJ/yr&#x27;, &#x27;Secondary Energy|Electricity|Biomass|w/o CCS|1&#x27;: &#x27;EJ/yr&#x27;, &#x27;Secondary Energy|Electricity|Biomass|w/o CCS|2&#x27;: &#x27;EJ/yr&#x27;, &#x27;Secondary Energy|Electricity|Biomass|w/o CCS|3&#x27;: &#x27;EJ/yr&#x27;, &#x27;Secondary Energy|Electricity|Coal&#x27;: &#x27;EJ/yr&#x27;, &#x27;Secondary Energy|Electricity|Coal|w/ CCS|1&#x27;: &#x27;EJ/yr&#x27;, &#x27;Secondary Energy|Electricity|Coal|w/o CCS|1&#x27;: &#x27;EJ/yr&#x27;, &#x27;Secondary Energy|Electricity|Coal|w/o CCS|2&#x27;: &#x27;EJ/yr&#x27;, &#x27;Secondary Energy|Electricity|Coal|w/o CCS|3&#x27;: &#x27;EJ/yr&#x27;, &#x27;Secondary Energy|Electricity|Gas&#x27;: &#x27;EJ/yr&#x27;, &#x27;Secondary Energy|Electricity|Gas|w/ CCS|1&#x27;: &#x27;EJ/yr&#x27;, &#x27;Secondary Energy|Electricity|Gas|w/ CCS|2&#x27;: &#x27;EJ/yr&#x27;, &#x27;Secondary Energy|Electricity|Gas|w/o CCS|1&#x27;: &#x27;EJ/yr&#x27;, &#x27;Secondary Energy|Electricity|Gas|w/o CCS|2&#x27;: &#x27;EJ/yr&#x27;, &#x27;Secondary Energy|Electricity|Gas|w/o CCS|3&#x27;: &#x27;EJ/yr&#x27;, &#x27;Secondary Energy|Electricity|Geothermal&#x27;: &#x27;EJ/yr&#x27;, &#x27;Secondary Energy|Electricity|Hydro&#x27;: &#x27;EJ/yr&#x27;, &#x27;Secondary Energy|Electricity|Hydrogen&#x27;: &#x27;EJ/yr&#x27;, &#x27;Secondary Energy|Electricity|Nuclear&#x27;: &#x27;EJ/yr&#x27;, &#x27;Secondary Energy|Electricity|Oil&#x27;: &#x27;EJ/yr&#x27;, &#x27;Secondary Energy|Electricity|Oil|w/ CCS|1&#x27;: &#x27;EJ/yr&#x27;, &#x27;Secondary Energy|Electricity|Oil|w/ CCS|2&#x27;: &#x27;EJ/yr&#x27;, &#x27;Secondary Energy|Electricity|Oil|w/o CCS|1&#x27;: &#x27;EJ/yr&#x27;, &#x27;Secondary Energy|Electricity|Oil|w/o CCS|2&#x27;: &#x27;EJ/yr&#x27;, &#x27;Secondary Energy|Electricity|Oil|w/o CCS|3&#x27;: &#x27;EJ/yr&#x27;, &#x27;Secondary Energy|Electricity|Other&#x27;: &#x27;EJ/yr&#x27;, &#x27;Secondary Energy|Electricity|Solar|CSP&#x27;: &#x27;EJ/yr&#x27;, &#x27;Secondary Energy|Electricity|Solar|PV|1&#x27;: &#x27;EJ/yr&#x27;, &#x27;Secondary Energy|Electricity|Solar|PV|2&#x27;: &#x27;EJ/yr&#x27;, &#x27;Secondary Energy|Electricity|Storage&#x27;: &#x27;EJ/yr&#x27;, &#x27;Secondary Energy|Electricity|Wave&#x27;: &#x27;EJ/yr&#x27;, &#x27;Secondary Energy|Electricity|Wind|1&#x27;: &#x27;EJ/yr&#x27;, &#x27;Secondary Energy|Electricity|Wind|2&#x27;: &#x27;EJ/yr&#x27;, &#x27;Secondary Energy|Heat&#x27;: &#x27;EJ/yr&#x27;, &#x27;Secondary Energy|Heat|Biomass&#x27;: &#x27;EJ/yr&#x27;, &#x27;Secondary Energy|Heat|Coal&#x27;: &#x27;EJ/yr&#x27;, &#x27;Secondary Energy|Heat|Gas&#x27;: &#x27;EJ/yr&#x27;, &#x27;Secondary Energy|Heat|Oil&#x27;: &#x27;EJ/yr&#x27;, &#x27;Secondary Energy|Hydrogen|Biomass&#x27;: &#x27;EJ/yr&#x27;, &#x27;Secondary Energy|Hydrogen|Biomass|w/ CCS&#x27;: &#x27;EJ/yr&#x27;, &#x27;Secondary Energy|Hydrogen|Biomass|w/o CCS&#x27;: &#x27;EJ/yr&#x27;, &#x27;Secondary Energy|Hydrogen|Coal&#x27;: &#x27;EJ/yr&#x27;, &#x27;Secondary Energy|Hydrogen|Coal|w/ CCS&#x27;: &#x27;EJ/yr&#x27;, &#x27;Secondary Energy|Hydrogen|Coal|w/o CCS&#x27;: &#x27;EJ/yr&#x27;, &#x27;Secondary Energy|Hydrogen|Electricity&#x27;: &#x27;EJ/yr&#x27;, &#x27;Secondary Energy|Hydrogen|Electricity|Base-load electrolysis&#x27;: &#x27;EJ/yr&#x27;, &#x27;Secondary Energy|Hydrogen|Electricity|Curtailments electrolysis&#x27;: &#x27;EJ/yr&#x27;, &#x27;Secondary Energy|Hydrogen|Electricity|PEM Electrolyzer w/ CSP&#x27;: &#x27;EJ/yr&#x27;, &#x27;Secondary Energy|Hydrogen|Electricity|PEM Electrolyzer w/ Geothermal&#x27;: &#x27;EJ/yr&#x27;, &#x27;Secondary Energy|Hydrogen|Electricity|PEM Electrolyzer w/ Offnshore Wind&#x27;: &#x27;EJ/yr&#x27;, &#x27;Secondary Energy|Hydrogen|Electricity|PEM Electrolyzer w/ Onshore Wind&#x27;: &#x27;EJ/yr&#x27;, &#x27;Secondary Energy|Hydrogen|Electricity|PEM Electrolyzer w/ PV&#x27;: &#x27;EJ/yr&#x27;, &#x27;Secondary Energy|Hydrogen|Gas&#x27;: &#x27;EJ/yr&#x27;, &#x27;Secondary Energy|Hydrogen|Gas|w/ CCS&#x27;: &#x27;EJ/yr&#x27;, &#x27;Secondary Energy|Hydrogen|Gas|w/o CCS&#x27;: &#x27;EJ/yr&#x27;, &#x27;Secondary Energy|Hydrogen|Gas|w/o CCS|Small-scale SMR&#x27;: &#x27;EJ/yr&#x27;, &#x27;Secondary Energy|Hydrogen|Oil&#x27;: &#x27;EJ/yr&#x27;, &#x27;Secondary Energy|Hydrogen|Oil w/CCS&#x27;: &#x27;EJ/yr&#x27;, &#x27;Secondary Energy|Hydrogen|Oil w/o CCS&#x27;: &#x27;EJ/yr&#x27;, &#x27;Temperature|Global Mean&#x27;: &#x27;oC&#x27;}</dd></dl></div></li></ul></div></div>"
      ]
     },
     "execution_count": 4,
     "metadata": {},
     "output_type": "execute_result"
    }
   ],
   "execution_count": 4
  },
  {
   "metadata": {
    "ExecuteTime": {
     "end_time": "2025-05-25T13:00:09.077949Z",
     "start_time": "2025-05-25T12:59:50.522166Z"
    }
   },
   "cell_type": "code",
   "source": "ndb.update(\"cdr\")",
   "id": "83ad6ce2218ee354",
   "outputs": [
    {
     "name": "stderr",
     "output_type": "stream",
     "text": [
      "Processing scenarios for sector 'cdr':   0%|    | 0/1 [00:00<?, ?it/s]"
     ]
    },
    {
     "name": "stdout",
     "output_type": "stream",
     "text": [
      "<xarray.DataArray 'value' (year: 15)> Size: 120B\n",
      "array([  0.        ,   0.        ,   0.        ,   0.        ,\n",
      "         0.        ,   0.        ,   0.        ,   0.        ,\n",
      "         0.        ,   0.        ,   0.99414548,  67.59016279,\n",
      "       140.8639873 , 158.9377883 , 157.8846897 ])\n",
      "Coordinates:\n",
      "    region   <U3 12B 'BRA'\n",
      "  * year     (year) int64 120B 2005 2010 2015 2020 2025 ... 2070 2080 2090 2100\n",
      "0.0\n",
      "nan\n",
      "Incorrect market share for market for carbon dioxide removal in BRA\n",
      "<xarray.DataArray 'value' (year: 15)> Size: 120B\n",
      "array([  0.        ,   0.        ,   0.        ,   0.        ,\n",
      "         0.        ,   0.        ,   0.        ,   0.        ,\n",
      "         0.        ,   0.        ,  10.15551893, 136.6095493 ,\n",
      "       249.523513  , 268.8846166 , 270.1170221 ])\n",
      "Coordinates:\n",
      "    region   <U3 12B 'CAN'\n",
      "  * year     (year) int64 120B 2005 2010 2015 2020 2025 ... 2070 2080 2090 2100\n",
      "0.0\n",
      "nan\n",
      "Incorrect market share for market for carbon dioxide removal in CAN\n",
      "<xarray.DataArray 'value' (year: 15)> Size: 120B\n",
      "array([ 0.        ,  0.        ,  0.        ,  0.        ,  0.        ,\n",
      "        0.        ,  0.        ,  0.        ,  0.        ,  0.        ,\n",
      "        0.52018012, 24.18783106, 49.64901166, 56.24072627, 56.67156075])\n",
      "Coordinates:\n",
      "    region   <U3 12B 'CEU'\n",
      "  * year     (year) int64 120B 2005 2010 2015 2020 2025 ... 2070 2080 2090 2100\n",
      "0.0\n",
      "nan\n",
      "Incorrect market share for market for carbon dioxide removal in CEU\n",
      "<xarray.DataArray 'value' (year: 15)> Size: 120B\n",
      "array([  0.        ,   0.        ,   0.        ,   0.        ,\n",
      "         0.        ,   0.        ,   0.        ,   0.        ,\n",
      "         0.        ,   0.        ,   2.50934427, 133.0315111 ,\n",
      "       271.5352228 , 302.5139993 , 299.6158302 ])\n",
      "Coordinates:\n",
      "    region   <U3 12B 'CHN'\n",
      "  * year     (year) int64 120B 2005 2010 2015 2020 2025 ... 2070 2080 2090 2100\n",
      "0.0\n",
      "nan\n",
      "Incorrect market share for market for carbon dioxide removal in CHN\n",
      "<xarray.DataArray 'value' (year: 15)> Size: 120B\n",
      "array([ 0.        ,  0.        ,  0.        ,  0.        ,  0.        ,\n",
      "        0.        ,  0.        ,  0.        ,  0.        ,  0.        ,\n",
      "        0.17587255, 29.85339922, 64.66591793, 73.0584773 , 53.26871109])\n",
      "Coordinates:\n",
      "    region   <U3 12B 'EAF'\n",
      "  * year     (year) int64 120B 2005 2010 2015 2020 2025 ... 2070 2080 2090 2100\n",
      "0.0\n",
      "nan\n",
      "Incorrect market share for market for carbon dioxide removal in EAF\n",
      "<xarray.DataArray 'value' (year: 15)> Size: 120B\n",
      "array([  0.        ,   0.        ,   0.        ,   0.        ,\n",
      "         0.        ,   0.        ,   0.        ,   0.        ,\n",
      "         0.        ,   0.        ,   1.57998062, 110.0922873 ,\n",
      "       228.7600674 , 255.9802284 , 251.8264602 ])\n",
      "Coordinates:\n",
      "    region   <U5 20B 'INDIA'\n",
      "  * year     (year) int64 120B 2005 2010 2015 2020 2025 ... 2070 2080 2090 2100\n",
      "0.0\n",
      "nan\n",
      "Incorrect market share for market for carbon dioxide removal in INDIA\n",
      "<xarray.DataArray 'value' (year: 15)> Size: 120B\n",
      "array([ 0.        ,  0.        ,  0.        ,  0.        ,  0.        ,\n",
      "        0.        ,  0.        ,  0.        ,  0.        ,  0.        ,\n",
      "        0.35668447, 24.06871428, 45.96885232, 42.16542033, 19.72088016])\n",
      "Coordinates:\n",
      "    region   <U4 16B 'INDO'\n",
      "  * year     (year) int64 120B 2005 2010 2015 2020 2025 ... 2070 2080 2090 2100\n",
      "0.0\n",
      "nan\n",
      "Incorrect market share for market for carbon dioxide removal in INDO\n",
      "<xarray.DataArray 'value' (year: 15)> Size: 120B\n",
      "array([ 0.        ,  0.        ,  0.        ,  0.        ,  0.        ,\n",
      "        0.        ,  0.        ,  0.        ,  0.        ,  0.        ,\n",
      "        0.10557943,  9.90615638, 20.18920627, 21.06007484, 18.37033282])\n",
      "Coordinates:\n",
      "    region   <U3 12B 'JAP'\n",
      "  * year     (year) int64 120B 2005 2010 2015 2020 2025 ... 2070 2080 2090 2100\n",
      "0.0\n",
      "nan\n",
      "Incorrect market share for market for carbon dioxide removal in JAP\n",
      "<xarray.DataArray 'value' (year: 15)> Size: 120B\n",
      "array([0.        , 0.        , 0.        , 0.        , 0.        ,\n",
      "       0.        , 0.        , 0.        , 0.        , 0.        ,\n",
      "       0.03056081, 1.64845891, 3.01251871, 2.6612101 , 1.37360227])\n",
      "Coordinates:\n",
      "    region   <U3 12B 'KOR'\n",
      "  * year     (year) int64 120B 2005 2010 2015 2020 2025 ... 2070 2080 2090 2100\n",
      "0.0\n",
      "nan\n",
      "Incorrect market share for market for carbon dioxide removal in KOR\n",
      "<xarray.DataArray 'value' (year: 15)> Size: 120B\n",
      "array([  0.        ,   0.        ,   0.        ,   0.        ,\n",
      "         0.        ,   0.        ,   0.        ,   0.        ,\n",
      "         0.        ,   0.        ,   3.22874612, 137.2449845 ,\n",
      "       283.0275297 , 327.4784064 , 341.7923898 ])\n",
      "Coordinates:\n",
      "    region   <U2 8B 'ME'\n",
      "  * year     (year) int64 120B 2005 2010 2015 2020 2025 ... 2070 2080 2090 2100\n",
      "0.0\n",
      "nan\n",
      "Incorrect market share for market for carbon dioxide removal in ME\n",
      "<xarray.DataArray 'value' (year: 15)> Size: 120B\n",
      "array([ 0.        ,  0.        ,  0.        ,  0.        ,  0.        ,\n",
      "        0.        ,  0.        ,  0.        ,  0.        ,  0.        ,\n",
      "        0.6107002 , 26.08556533, 52.57380289, 58.36827308, 57.91195358])\n",
      "Coordinates:\n",
      "    region   <U3 12B 'MEX'\n",
      "  * year     (year) int64 120B 2005 2010 2015 2020 2025 ... 2070 2080 2090 2100\n",
      "0.0\n",
      "nan\n",
      "Incorrect market share for market for carbon dioxide removal in MEX\n",
      "<xarray.DataArray 'value' (year: 15)> Size: 120B\n",
      "array([  0.        ,   0.        ,   0.        ,   0.        ,\n",
      "         0.        ,   0.        ,   0.        ,   0.        ,\n",
      "         0.        ,   0.        ,   1.96996987,  97.35065762,\n",
      "       201.2533186 , 230.5194934 , 235.7976486 ])\n",
      "Coordinates:\n",
      "    region   <U3 12B 'NAF'\n",
      "  * year     (year) int64 120B 2005 2010 2015 2020 2025 ... 2070 2080 2090 2100\n",
      "0.0\n",
      "nan\n",
      "Incorrect market share for market for carbon dioxide removal in NAF\n",
      "<xarray.DataArray 'value' (year: 15)> Size: 120B\n",
      "array([  0.        ,   0.        ,   0.        ,   0.        ,\n",
      "         0.        ,   0.        ,   0.        ,   0.        ,\n",
      "         0.        ,   0.        ,   6.77837583, 197.780362  ,\n",
      "       392.7443748 , 441.2264948 , 449.7456427 ])\n",
      "Coordinates:\n",
      "    region   <U3 12B 'OCE'\n",
      "  * year     (year) int64 120B 2005 2010 2015 2020 2025 ... 2070 2080 2090 2100\n",
      "0.0\n",
      "nan\n",
      "Incorrect market share for market for carbon dioxide removal in OCE\n",
      "<xarray.DataArray 'value' (year: 15)> Size: 120B\n",
      "array([ 0.        ,  0.        ,  0.        ,  0.        ,  0.        ,\n",
      "        0.        ,  0.        ,  0.        ,  0.        ,  0.        ,\n",
      "        0.40383126, 24.3972006 , 50.83591429, 57.81908334, 58.05722811])\n",
      "Coordinates:\n",
      "    region   <U4 16B 'RCAM'\n",
      "  * year     (year) int64 120B 2005 2010 2015 2020 2025 ... 2070 2080 2090 2100\n",
      "0.0\n",
      "nan\n",
      "Incorrect market share for market for carbon dioxide removal in RCAM\n",
      "<xarray.DataArray 'value' (year: 15)> Size: 120B\n",
      "array([  0.        ,   0.        ,   0.        ,   0.        ,\n",
      "         0.        ,   0.        ,   0.        ,   0.        ,\n",
      "         0.        ,   0.        ,   1.44124019,  73.41418168,\n",
      "       150.8706163 , 170.1485478 , 170.4311061 ])\n",
      "Coordinates:\n",
      "    region   <U4 16B 'RSAF'\n",
      "  * year     (year) int64 120B 2005 2010 2015 2020 2025 ... 2070 2080 2090 2100\n",
      "0.0\n",
      "nan\n",
      "Incorrect market share for market for carbon dioxide removal in RSAF\n",
      "<xarray.DataArray 'value' (year: 15)> Size: 120B\n",
      "array([  0.        ,   0.        ,   0.        ,   0.        ,\n",
      "         0.        ,   0.        ,   0.        ,   0.        ,\n",
      "         0.        ,   0.        ,   1.52438079,  82.3657997 ,\n",
      "       169.0690865 , 189.130043  , 186.9606575 ])\n",
      "Coordinates:\n",
      "    region   <U4 16B 'RSAM'\n",
      "  * year     (year) int64 120B 2005 2010 2015 2020 2025 ... 2070 2080 2090 2100\n",
      "0.0\n",
      "nan\n",
      "Incorrect market share for market for carbon dioxide removal in RSAM\n",
      "<xarray.DataArray 'value' (year: 15)> Size: 120B\n",
      "array([  0.        ,   0.        ,   0.        ,   0.        ,\n",
      "         0.        ,   0.        ,   0.        ,   0.        ,\n",
      "         0.        ,   0.        ,   0.70019252,  51.55300194,\n",
      "       108.8731587 , 123.9845504 , 122.9914439 ])\n",
      "Coordinates:\n",
      "    region   <U4 16B 'RSAS'\n",
      "  * year     (year) int64 120B 2005 2010 2015 2020 2025 ... 2070 2080 2090 2100\n",
      "0.0\n",
      "nan\n",
      "Incorrect market share for market for carbon dioxide removal in RSAS\n",
      "<xarray.DataArray 'value' (year: 15)> Size: 120B\n",
      "array([  0.        ,   0.        ,   0.        ,   0.        ,\n",
      "         0.        ,   0.        ,   0.        ,   0.        ,\n",
      "         0.        ,   0.        ,   2.95201057, 216.2038299 ,\n",
      "       462.1558339 , 541.3026462 , 559.486419  ])\n",
      "Coordinates:\n",
      "    region   <U3 12B 'RUS'\n",
      "  * year     (year) int64 120B 2005 2010 2015 2020 2025 ... 2070 2080 2090 2100\n",
      "0.0\n",
      "nan\n",
      "Incorrect market share for market for carbon dioxide removal in RUS\n",
      "<xarray.DataArray 'value' (year: 15)> Size: 120B\n",
      "array([ 0.        ,  0.        ,  0.        ,  0.        ,  0.        ,\n",
      "        0.        ,  0.        ,  0.        ,  0.        ,  0.        ,\n",
      "        0.45965335, 18.6036729 , 37.73495028, 42.57557448, 43.13389554])\n",
      "Coordinates:\n",
      "    region   <U3 12B 'SAF'\n",
      "  * year     (year) int64 120B 2005 2010 2015 2020 2025 ... 2070 2080 2090 2100\n",
      "0.0\n",
      "nan\n",
      "Incorrect market share for market for carbon dioxide removal in SAF\n",
      "<xarray.DataArray 'value' (year: 15)> Size: 120B\n",
      "array([ 0.        ,  0.        ,  0.        ,  0.        ,  0.        ,\n",
      "        0.        ,  0.        ,  0.        ,  0.        ,  0.        ,\n",
      "        0.34242323, 23.17815569, 46.68788643, 37.90475366, 12.33122366])\n",
      "Coordinates:\n",
      "    region   <U4 16B 'SEAS'\n",
      "  * year     (year) int64 120B 2005 2010 2015 2020 2025 ... 2070 2080 2090 2100\n",
      "0.0\n",
      "nan\n",
      "Incorrect market share for market for carbon dioxide removal in SEAS\n",
      "<xarray.DataArray 'value' (year: 15)> Size: 120B\n",
      "array([  0.        ,   0.        ,   0.        ,   0.        ,\n",
      "         0.        ,   0.        ,   0.        ,   0.        ,\n",
      "         0.        ,   0.        ,   0.39007502,  42.20923627,\n",
      "        90.73672941, 104.7717333 , 105.7838469 ])\n",
      "Coordinates:\n",
      "    region   <U4 16B 'STAN'\n",
      "  * year     (year) int64 120B 2005 2010 2015 2020 2025 ... 2070 2080 2090 2100\n",
      "0.0\n",
      "nan\n",
      "Incorrect market share for market for carbon dioxide removal in STAN\n",
      "<xarray.DataArray 'value' (year: 15)> Size: 120B\n",
      "array([ 0.        ,  0.        ,  0.        ,  0.        ,  0.        ,\n",
      "        0.        ,  0.        ,  0.        ,  0.        ,  0.        ,\n",
      "        0.09171525,  7.31148377, 15.13753242, 16.58197275, 15.25109665])\n",
      "Coordinates:\n",
      "    region   <U3 12B 'TUR'\n",
      "  * year     (year) int64 120B 2005 2010 2015 2020 2025 ... 2070 2080 2090 2100\n",
      "0.0\n",
      "nan\n",
      "Incorrect market share for market for carbon dioxide removal in TUR\n",
      "<xarray.DataArray 'value' (year: 15)> Size: 120B\n",
      "array([  0.        ,   0.        ,   0.        ,   0.        ,\n",
      "         0.        ,   0.        ,   0.        ,   0.        ,\n",
      "         0.        ,   0.        ,   0.35054096,  52.33275549,\n",
      "       115.7615384 , 136.7103147 , 139.8099326 ])\n",
      "Coordinates:\n",
      "    region   <U3 12B 'UKR'\n",
      "  * year     (year) int64 120B 2005 2010 2015 2020 2025 ... 2070 2080 2090 2100\n",
      "0.0\n",
      "nan\n",
      "Incorrect market share for market for carbon dioxide removal in UKR\n",
      "<xarray.DataArray 'value' (year: 15)> Size: 120B\n",
      "array([  0.        ,   0.        ,   0.        ,   0.        ,\n",
      "         0.        ,   0.        ,   0.        ,   0.        ,\n",
      "         0.        ,   0.        ,   6.64423115, 138.8360585 ,\n",
      "       264.2572771 , 287.847658  , 287.9225935 ])\n",
      "Coordinates:\n",
      "    region   <U3 12B 'USA'\n",
      "  * year     (year) int64 120B 2005 2010 2015 2020 2025 ... 2070 2080 2090 2100\n",
      "0.0\n",
      "nan\n",
      "Incorrect market share for market for carbon dioxide removal in USA\n",
      "<xarray.DataArray 'value' (year: 15)> Size: 120B\n",
      "array([  0.        ,   0.        ,   0.        ,   0.        ,\n",
      "         0.        ,   0.        ,   0.        ,   0.        ,\n",
      "         0.        ,   0.        ,   2.15354471, 114.8466319 ,\n",
      "       234.74022   , 260.1523002 , 252.8336769 ])\n",
      "Coordinates:\n",
      "    region   <U3 12B 'WAF'\n",
      "  * year     (year) int64 120B 2005 2010 2015 2020 2025 ... 2070 2080 2090 2100\n",
      "0.0\n",
      "nan\n",
      "Incorrect market share for market for carbon dioxide removal in WAF\n",
      "<xarray.DataArray 'value' (year: 15)> Size: 120B\n",
      "array([  0.        ,   0.        ,   0.        ,   0.        ,\n",
      "         0.        ,   0.        ,   0.        ,   0.        ,\n",
      "         0.        ,   0.        ,   1.90208587,  61.55284557,\n",
      "       119.6765949 , 126.6019642 , 117.0164272 ])\n",
      "Coordinates:\n",
      "    region   <U3 12B 'WEU'\n",
      "  * year     (year) int64 120B 2005 2010 2015 2020 2025 ... 2070 2080 2090 2100\n",
      "0.0\n",
      "nan\n",
      "Incorrect market share for market for carbon dioxide removal in WEU\n"
     ]
    },
    {
     "name": "stderr",
     "output_type": "stream",
     "text": [
      "Processing scenarios for sector 'cdr': 100%|█| 1/1 [00:18<00:00, 18.55"
     ]
    },
    {
     "name": "stdout",
     "output_type": "stream",
     "text": [
      "Done!\n",
      "\n"
     ]
    },
    {
     "name": "stderr",
     "output_type": "stream",
     "text": [
      "\n"
     ]
    }
   ],
   "execution_count": 2
  },
  {
   "metadata": {
    "ExecuteTime": {
     "end_time": "2025-05-25T12:58:05.429373Z",
     "start_time": "2025-05-25T12:53:40.659868Z"
    }
   },
   "cell_type": "code",
   "source": "ndb.write_db_to_brightway(\"test image 2\")",
   "id": "29f829e4415cb6a7",
   "outputs": [
    {
     "name": "stdout",
     "output_type": "stream",
     "text": [
      "Write new database(s) to Brightway.\n",
      "Running all checks...\n",
      "Minor anomalies found: check the change report.\n",
      "Warning: No valid output stream.\n",
      "Title: Writing activities to SQLite3 database:\n",
      "  Started: 05/25/2025 14:54:42\n",
      "  Finished: 05/25/2025 14:55:16\n",
      "  Total time elapsed: 00:00:34\n",
      "  CPU %: 90.20\n",
      "  Memory %: 2.51\n",
      "Created database: test image 2\n",
      "Generate scenario report.\n",
      "Report saved under /Users/romain/GitHub/premise/dev/export/scenario_report.\n",
      "Generate change report.\n",
      "Report saved under /Users/romain/GitHub/premise/dev.\n"
     ]
    }
   ],
   "execution_count": 3
  },
  {
   "metadata": {
    "ExecuteTime": {
     "end_time": "2025-05-24T17:44:47.785857Z",
     "start_time": "2025-05-24T17:44:47.772568Z"
    }
   },
   "cell_type": "code",
   "source": [
    "ndb.scenarios[5][\"iam data\"].production_volumes.sel(\n",
    "    variables=\"direct air capture (solvent) with storage\"\n",
    ")"
   ],
   "id": "dc9f118440a4cb6f",
   "outputs": [
    {
     "data": {
      "text/plain": [
       "<xarray.DataArray 'value' (region: 27, year: 15)> Size: 3kB\n",
       "array([[0.00000000e+00, 0.00000000e+00, 0.00000000e+00, 0.00000000e+00,\n",
       "        0.00000000e+00, 0.00000000e+00, 0.00000000e+00, 0.00000000e+00,\n",
       "        0.00000000e+00, 0.00000000e+00, 9.94145482e-01, 6.75901628e+01,\n",
       "        1.40863987e+02, 1.58937788e+02, 1.57884690e+02],\n",
       "       [0.00000000e+00, 0.00000000e+00, 0.00000000e+00, 0.00000000e+00,\n",
       "        0.00000000e+00, 0.00000000e+00, 0.00000000e+00, 0.00000000e+00,\n",
       "        0.00000000e+00, 0.00000000e+00, 1.01555189e+01, 1.36609549e+02,\n",
       "        2.49523513e+02, 2.68884617e+02, 2.70117022e+02],\n",
       "       [0.00000000e+00, 0.00000000e+00, 0.00000000e+00, 0.00000000e+00,\n",
       "        0.00000000e+00, 0.00000000e+00, 0.00000000e+00, 0.00000000e+00,\n",
       "        0.00000000e+00, 0.00000000e+00, 5.20180120e-01, 2.41878311e+01,\n",
       "        4.96490117e+01, 5.62407263e+01, 5.66715607e+01],\n",
       "       [0.00000000e+00, 0.00000000e+00, 0.00000000e+00, 0.00000000e+00,\n",
       "        0.00000000e+00, 0.00000000e+00, 0.00000000e+00, 0.00000000e+00,\n",
       "        0.00000000e+00, 0.00000000e+00, 2.50934427e+00, 1.33031511e+02,\n",
       "        2.71535223e+02, 3.02513999e+02, 2.99615830e+02],\n",
       "       [0.00000000e+00, 0.00000000e+00, 0.00000000e+00, 0.00000000e+00,\n",
       "        0.00000000e+00, 0.00000000e+00, 0.00000000e+00, 0.00000000e+00,\n",
       "        0.00000000e+00, 0.00000000e+00, 1.75872550e-01, 2.98533992e+01,\n",
       "        6.46659179e+01, 7.30584773e+01, 5.32687111e+01],\n",
       "...\n",
       "       [0.00000000e+00, 0.00000000e+00, 0.00000000e+00, 0.00000000e+00,\n",
       "        0.00000000e+00, 0.00000000e+00, 0.00000000e+00, 0.00000000e+00,\n",
       "        0.00000000e+00, 0.00000000e+00, 3.50540965e-01, 5.23327555e+01,\n",
       "        1.15761538e+02, 1.36710315e+02, 1.39809933e+02],\n",
       "       [0.00000000e+00, 0.00000000e+00, 0.00000000e+00, 0.00000000e+00,\n",
       "        0.00000000e+00, 0.00000000e+00, 0.00000000e+00, 0.00000000e+00,\n",
       "        0.00000000e+00, 0.00000000e+00, 6.64423115e+00, 1.38836059e+02,\n",
       "        2.64257277e+02, 2.87847658e+02, 2.87922594e+02],\n",
       "       [0.00000000e+00, 0.00000000e+00, 0.00000000e+00, 0.00000000e+00,\n",
       "        0.00000000e+00, 0.00000000e+00, 0.00000000e+00, 0.00000000e+00,\n",
       "        0.00000000e+00, 0.00000000e+00, 2.15354471e+00, 1.14846632e+02,\n",
       "        2.34740220e+02, 2.60152300e+02, 2.52833677e+02],\n",
       "       [0.00000000e+00, 0.00000000e+00, 0.00000000e+00, 0.00000000e+00,\n",
       "        0.00000000e+00, 0.00000000e+00, 0.00000000e+00, 0.00000000e+00,\n",
       "        0.00000000e+00, 0.00000000e+00, 1.90208587e+00, 6.15528456e+01,\n",
       "        1.19676595e+02, 1.26601964e+02, 1.17016427e+02],\n",
       "       [0.00000000e+00, 0.00000000e+00, 0.00000000e+00, 0.00000000e+00,\n",
       "        0.00000000e+00, 0.00000000e+00, 0.00000000e+00, 0.00000000e+00,\n",
       "        0.00000000e+00, 0.00000000e+00, 4.83715848e+01, 1.90225450e+03,\n",
       "        3.87030621e+03, 4.33462695e+03, 4.28610615e+03]])\n",
       "Coordinates:\n",
       "  * region     (region) object 216B 'BRA' 'CAN' 'CEU' ... 'WAF' 'WEU' 'World'\n",
       "  * year       (year) int64 120B 2005 2010 2015 2020 ... 2070 2080 2090 2100\n",
       "    variables  <U41 164B 'direct air capture (solvent) with storage'\n",
       "Attributes:\n",
       "    unit:     {'Carbon Capture': 'Mt CO2/yr', 'Carbon Capture|Direct Air Capt..."
      ],
      "text/html": [
       "<div><svg style=\"position: absolute; width: 0; height: 0; overflow: hidden\">\n",
       "<defs>\n",
       "<symbol id=\"icon-database\" viewBox=\"0 0 32 32\">\n",
       "<path d=\"M16 0c-8.837 0-16 2.239-16 5v4c0 2.761 7.163 5 16 5s16-2.239 16-5v-4c0-2.761-7.163-5-16-5z\"></path>\n",
       "<path d=\"M16 17c-8.837 0-16-2.239-16-5v6c0 2.761 7.163 5 16 5s16-2.239 16-5v-6c0 2.761-7.163 5-16 5z\"></path>\n",
       "<path d=\"M16 26c-8.837 0-16-2.239-16-5v6c0 2.761 7.163 5 16 5s16-2.239 16-5v-6c0 2.761-7.163 5-16 5z\"></path>\n",
       "</symbol>\n",
       "<symbol id=\"icon-file-text2\" viewBox=\"0 0 32 32\">\n",
       "<path d=\"M28.681 7.159c-0.694-0.947-1.662-2.053-2.724-3.116s-2.169-2.030-3.116-2.724c-1.612-1.182-2.393-1.319-2.841-1.319h-15.5c-1.378 0-2.5 1.121-2.5 2.5v27c0 1.378 1.122 2.5 2.5 2.5h23c1.378 0 2.5-1.122 2.5-2.5v-19.5c0-0.448-0.137-1.23-1.319-2.841zM24.543 5.457c0.959 0.959 1.712 1.825 2.268 2.543h-4.811v-4.811c0.718 0.556 1.584 1.309 2.543 2.268zM28 29.5c0 0.271-0.229 0.5-0.5 0.5h-23c-0.271 0-0.5-0.229-0.5-0.5v-27c0-0.271 0.229-0.5 0.5-0.5 0 0 15.499-0 15.5 0v7c0 0.552 0.448 1 1 1h7v19.5z\"></path>\n",
       "<path d=\"M23 26h-14c-0.552 0-1-0.448-1-1s0.448-1 1-1h14c0.552 0 1 0.448 1 1s-0.448 1-1 1z\"></path>\n",
       "<path d=\"M23 22h-14c-0.552 0-1-0.448-1-1s0.448-1 1-1h14c0.552 0 1 0.448 1 1s-0.448 1-1 1z\"></path>\n",
       "<path d=\"M23 18h-14c-0.552 0-1-0.448-1-1s0.448-1 1-1h14c0.552 0 1 0.448 1 1s-0.448 1-1 1z\"></path>\n",
       "</symbol>\n",
       "</defs>\n",
       "</svg>\n",
       "<style>/* CSS stylesheet for displaying xarray objects in jupyterlab.\n",
       " *\n",
       " */\n",
       "\n",
       ":root {\n",
       "  --xr-font-color0: var(--jp-content-font-color0, rgba(0, 0, 0, 1));\n",
       "  --xr-font-color2: var(--jp-content-font-color2, rgba(0, 0, 0, 0.54));\n",
       "  --xr-font-color3: var(--jp-content-font-color3, rgba(0, 0, 0, 0.38));\n",
       "  --xr-border-color: var(--jp-border-color2, #e0e0e0);\n",
       "  --xr-disabled-color: var(--jp-layout-color3, #bdbdbd);\n",
       "  --xr-background-color: var(--jp-layout-color0, white);\n",
       "  --xr-background-color-row-even: var(--jp-layout-color1, white);\n",
       "  --xr-background-color-row-odd: var(--jp-layout-color2, #eeeeee);\n",
       "}\n",
       "\n",
       "html[theme=dark],\n",
       "body[data-theme=dark],\n",
       "body.vscode-dark {\n",
       "  --xr-font-color0: rgba(255, 255, 255, 1);\n",
       "  --xr-font-color2: rgba(255, 255, 255, 0.54);\n",
       "  --xr-font-color3: rgba(255, 255, 255, 0.38);\n",
       "  --xr-border-color: #1F1F1F;\n",
       "  --xr-disabled-color: #515151;\n",
       "  --xr-background-color: #111111;\n",
       "  --xr-background-color-row-even: #111111;\n",
       "  --xr-background-color-row-odd: #313131;\n",
       "}\n",
       "\n",
       ".xr-wrap {\n",
       "  display: block !important;\n",
       "  min-width: 300px;\n",
       "  max-width: 700px;\n",
       "}\n",
       "\n",
       ".xr-text-repr-fallback {\n",
       "  /* fallback to plain text repr when CSS is not injected (untrusted notebook) */\n",
       "  display: none;\n",
       "}\n",
       "\n",
       ".xr-header {\n",
       "  padding-top: 6px;\n",
       "  padding-bottom: 6px;\n",
       "  margin-bottom: 4px;\n",
       "  border-bottom: solid 1px var(--xr-border-color);\n",
       "}\n",
       "\n",
       ".xr-header > div,\n",
       ".xr-header > ul {\n",
       "  display: inline;\n",
       "  margin-top: 0;\n",
       "  margin-bottom: 0;\n",
       "}\n",
       "\n",
       ".xr-obj-type,\n",
       ".xr-array-name {\n",
       "  margin-left: 2px;\n",
       "  margin-right: 10px;\n",
       "}\n",
       "\n",
       ".xr-obj-type {\n",
       "  color: var(--xr-font-color2);\n",
       "}\n",
       "\n",
       ".xr-sections {\n",
       "  padding-left: 0 !important;\n",
       "  display: grid;\n",
       "  grid-template-columns: 150px auto auto 1fr 20px 20px;\n",
       "}\n",
       "\n",
       ".xr-section-item {\n",
       "  display: contents;\n",
       "}\n",
       "\n",
       ".xr-section-item input {\n",
       "  display: none;\n",
       "}\n",
       "\n",
       ".xr-section-item input + label {\n",
       "  color: var(--xr-disabled-color);\n",
       "}\n",
       "\n",
       ".xr-section-item input:enabled + label {\n",
       "  cursor: pointer;\n",
       "  color: var(--xr-font-color2);\n",
       "}\n",
       "\n",
       ".xr-section-item input:enabled + label:hover {\n",
       "  color: var(--xr-font-color0);\n",
       "}\n",
       "\n",
       ".xr-section-summary {\n",
       "  grid-column: 1;\n",
       "  color: var(--xr-font-color2);\n",
       "  font-weight: 500;\n",
       "}\n",
       "\n",
       ".xr-section-summary > span {\n",
       "  display: inline-block;\n",
       "  padding-left: 0.5em;\n",
       "}\n",
       "\n",
       ".xr-section-summary-in:disabled + label {\n",
       "  color: var(--xr-font-color2);\n",
       "}\n",
       "\n",
       ".xr-section-summary-in + label:before {\n",
       "  display: inline-block;\n",
       "  content: '►';\n",
       "  font-size: 11px;\n",
       "  width: 15px;\n",
       "  text-align: center;\n",
       "}\n",
       "\n",
       ".xr-section-summary-in:disabled + label:before {\n",
       "  color: var(--xr-disabled-color);\n",
       "}\n",
       "\n",
       ".xr-section-summary-in:checked + label:before {\n",
       "  content: '▼';\n",
       "}\n",
       "\n",
       ".xr-section-summary-in:checked + label > span {\n",
       "  display: none;\n",
       "}\n",
       "\n",
       ".xr-section-summary,\n",
       ".xr-section-inline-details {\n",
       "  padding-top: 4px;\n",
       "  padding-bottom: 4px;\n",
       "}\n",
       "\n",
       ".xr-section-inline-details {\n",
       "  grid-column: 2 / -1;\n",
       "}\n",
       "\n",
       ".xr-section-details {\n",
       "  display: none;\n",
       "  grid-column: 1 / -1;\n",
       "  margin-bottom: 5px;\n",
       "}\n",
       "\n",
       ".xr-section-summary-in:checked ~ .xr-section-details {\n",
       "  display: contents;\n",
       "}\n",
       "\n",
       ".xr-array-wrap {\n",
       "  grid-column: 1 / -1;\n",
       "  display: grid;\n",
       "  grid-template-columns: 20px auto;\n",
       "}\n",
       "\n",
       ".xr-array-wrap > label {\n",
       "  grid-column: 1;\n",
       "  vertical-align: top;\n",
       "}\n",
       "\n",
       ".xr-preview {\n",
       "  color: var(--xr-font-color3);\n",
       "}\n",
       "\n",
       ".xr-array-preview,\n",
       ".xr-array-data {\n",
       "  padding: 0 5px !important;\n",
       "  grid-column: 2;\n",
       "}\n",
       "\n",
       ".xr-array-data,\n",
       ".xr-array-in:checked ~ .xr-array-preview {\n",
       "  display: none;\n",
       "}\n",
       "\n",
       ".xr-array-in:checked ~ .xr-array-data,\n",
       ".xr-array-preview {\n",
       "  display: inline-block;\n",
       "}\n",
       "\n",
       ".xr-dim-list {\n",
       "  display: inline-block !important;\n",
       "  list-style: none;\n",
       "  padding: 0 !important;\n",
       "  margin: 0;\n",
       "}\n",
       "\n",
       ".xr-dim-list li {\n",
       "  display: inline-block;\n",
       "  padding: 0;\n",
       "  margin: 0;\n",
       "}\n",
       "\n",
       ".xr-dim-list:before {\n",
       "  content: '(';\n",
       "}\n",
       "\n",
       ".xr-dim-list:after {\n",
       "  content: ')';\n",
       "}\n",
       "\n",
       ".xr-dim-list li:not(:last-child):after {\n",
       "  content: ',';\n",
       "  padding-right: 5px;\n",
       "}\n",
       "\n",
       ".xr-has-index {\n",
       "  font-weight: bold;\n",
       "}\n",
       "\n",
       ".xr-var-list,\n",
       ".xr-var-item {\n",
       "  display: contents;\n",
       "}\n",
       "\n",
       ".xr-var-item > div,\n",
       ".xr-var-item label,\n",
       ".xr-var-item > .xr-var-name span {\n",
       "  background-color: var(--xr-background-color-row-even);\n",
       "  margin-bottom: 0;\n",
       "}\n",
       "\n",
       ".xr-var-item > .xr-var-name:hover span {\n",
       "  padding-right: 5px;\n",
       "}\n",
       "\n",
       ".xr-var-list > li:nth-child(odd) > div,\n",
       ".xr-var-list > li:nth-child(odd) > label,\n",
       ".xr-var-list > li:nth-child(odd) > .xr-var-name span {\n",
       "  background-color: var(--xr-background-color-row-odd);\n",
       "}\n",
       "\n",
       ".xr-var-name {\n",
       "  grid-column: 1;\n",
       "}\n",
       "\n",
       ".xr-var-dims {\n",
       "  grid-column: 2;\n",
       "}\n",
       "\n",
       ".xr-var-dtype {\n",
       "  grid-column: 3;\n",
       "  text-align: right;\n",
       "  color: var(--xr-font-color2);\n",
       "}\n",
       "\n",
       ".xr-var-preview {\n",
       "  grid-column: 4;\n",
       "}\n",
       "\n",
       ".xr-index-preview {\n",
       "  grid-column: 2 / 5;\n",
       "  color: var(--xr-font-color2);\n",
       "}\n",
       "\n",
       ".xr-var-name,\n",
       ".xr-var-dims,\n",
       ".xr-var-dtype,\n",
       ".xr-preview,\n",
       ".xr-attrs dt {\n",
       "  white-space: nowrap;\n",
       "  overflow: hidden;\n",
       "  text-overflow: ellipsis;\n",
       "  padding-right: 10px;\n",
       "}\n",
       "\n",
       ".xr-var-name:hover,\n",
       ".xr-var-dims:hover,\n",
       ".xr-var-dtype:hover,\n",
       ".xr-attrs dt:hover {\n",
       "  overflow: visible;\n",
       "  width: auto;\n",
       "  z-index: 1;\n",
       "}\n",
       "\n",
       ".xr-var-attrs,\n",
       ".xr-var-data,\n",
       ".xr-index-data {\n",
       "  display: none;\n",
       "  background-color: var(--xr-background-color) !important;\n",
       "  padding-bottom: 5px !important;\n",
       "}\n",
       "\n",
       ".xr-var-attrs-in:checked ~ .xr-var-attrs,\n",
       ".xr-var-data-in:checked ~ .xr-var-data,\n",
       ".xr-index-data-in:checked ~ .xr-index-data {\n",
       "  display: block;\n",
       "}\n",
       "\n",
       ".xr-var-data > table {\n",
       "  float: right;\n",
       "}\n",
       "\n",
       ".xr-var-name span,\n",
       ".xr-var-data,\n",
       ".xr-index-name div,\n",
       ".xr-index-data,\n",
       ".xr-attrs {\n",
       "  padding-left: 25px !important;\n",
       "}\n",
       "\n",
       ".xr-attrs,\n",
       ".xr-var-attrs,\n",
       ".xr-var-data,\n",
       ".xr-index-data {\n",
       "  grid-column: 1 / -1;\n",
       "}\n",
       "\n",
       "dl.xr-attrs {\n",
       "  padding: 0;\n",
       "  margin: 0;\n",
       "  display: grid;\n",
       "  grid-template-columns: 125px auto;\n",
       "}\n",
       "\n",
       ".xr-attrs dt,\n",
       ".xr-attrs dd {\n",
       "  padding: 0;\n",
       "  margin: 0;\n",
       "  float: left;\n",
       "  padding-right: 10px;\n",
       "  width: auto;\n",
       "}\n",
       "\n",
       ".xr-attrs dt {\n",
       "  font-weight: normal;\n",
       "  grid-column: 1;\n",
       "}\n",
       "\n",
       ".xr-attrs dt:hover span {\n",
       "  display: inline-block;\n",
       "  background: var(--xr-background-color);\n",
       "  padding-right: 10px;\n",
       "}\n",
       "\n",
       ".xr-attrs dd {\n",
       "  grid-column: 2;\n",
       "  white-space: pre-wrap;\n",
       "  word-break: break-all;\n",
       "}\n",
       "\n",
       ".xr-icon-database,\n",
       ".xr-icon-file-text2,\n",
       ".xr-no-icon {\n",
       "  display: inline-block;\n",
       "  vertical-align: middle;\n",
       "  width: 1em;\n",
       "  height: 1.5em !important;\n",
       "  stroke-width: 0;\n",
       "  stroke: currentColor;\n",
       "  fill: currentColor;\n",
       "}\n",
       "</style><pre class='xr-text-repr-fallback'>&lt;xarray.DataArray &#x27;value&#x27; (region: 27, year: 15)&gt; Size: 3kB\n",
       "array([[0.00000000e+00, 0.00000000e+00, 0.00000000e+00, 0.00000000e+00,\n",
       "        0.00000000e+00, 0.00000000e+00, 0.00000000e+00, 0.00000000e+00,\n",
       "        0.00000000e+00, 0.00000000e+00, 9.94145482e-01, 6.75901628e+01,\n",
       "        1.40863987e+02, 1.58937788e+02, 1.57884690e+02],\n",
       "       [0.00000000e+00, 0.00000000e+00, 0.00000000e+00, 0.00000000e+00,\n",
       "        0.00000000e+00, 0.00000000e+00, 0.00000000e+00, 0.00000000e+00,\n",
       "        0.00000000e+00, 0.00000000e+00, 1.01555189e+01, 1.36609549e+02,\n",
       "        2.49523513e+02, 2.68884617e+02, 2.70117022e+02],\n",
       "       [0.00000000e+00, 0.00000000e+00, 0.00000000e+00, 0.00000000e+00,\n",
       "        0.00000000e+00, 0.00000000e+00, 0.00000000e+00, 0.00000000e+00,\n",
       "        0.00000000e+00, 0.00000000e+00, 5.20180120e-01, 2.41878311e+01,\n",
       "        4.96490117e+01, 5.62407263e+01, 5.66715607e+01],\n",
       "       [0.00000000e+00, 0.00000000e+00, 0.00000000e+00, 0.00000000e+00,\n",
       "        0.00000000e+00, 0.00000000e+00, 0.00000000e+00, 0.00000000e+00,\n",
       "        0.00000000e+00, 0.00000000e+00, 2.50934427e+00, 1.33031511e+02,\n",
       "        2.71535223e+02, 3.02513999e+02, 2.99615830e+02],\n",
       "       [0.00000000e+00, 0.00000000e+00, 0.00000000e+00, 0.00000000e+00,\n",
       "        0.00000000e+00, 0.00000000e+00, 0.00000000e+00, 0.00000000e+00,\n",
       "        0.00000000e+00, 0.00000000e+00, 1.75872550e-01, 2.98533992e+01,\n",
       "        6.46659179e+01, 7.30584773e+01, 5.32687111e+01],\n",
       "...\n",
       "       [0.00000000e+00, 0.00000000e+00, 0.00000000e+00, 0.00000000e+00,\n",
       "        0.00000000e+00, 0.00000000e+00, 0.00000000e+00, 0.00000000e+00,\n",
       "        0.00000000e+00, 0.00000000e+00, 3.50540965e-01, 5.23327555e+01,\n",
       "        1.15761538e+02, 1.36710315e+02, 1.39809933e+02],\n",
       "       [0.00000000e+00, 0.00000000e+00, 0.00000000e+00, 0.00000000e+00,\n",
       "        0.00000000e+00, 0.00000000e+00, 0.00000000e+00, 0.00000000e+00,\n",
       "        0.00000000e+00, 0.00000000e+00, 6.64423115e+00, 1.38836059e+02,\n",
       "        2.64257277e+02, 2.87847658e+02, 2.87922594e+02],\n",
       "       [0.00000000e+00, 0.00000000e+00, 0.00000000e+00, 0.00000000e+00,\n",
       "        0.00000000e+00, 0.00000000e+00, 0.00000000e+00, 0.00000000e+00,\n",
       "        0.00000000e+00, 0.00000000e+00, 2.15354471e+00, 1.14846632e+02,\n",
       "        2.34740220e+02, 2.60152300e+02, 2.52833677e+02],\n",
       "       [0.00000000e+00, 0.00000000e+00, 0.00000000e+00, 0.00000000e+00,\n",
       "        0.00000000e+00, 0.00000000e+00, 0.00000000e+00, 0.00000000e+00,\n",
       "        0.00000000e+00, 0.00000000e+00, 1.90208587e+00, 6.15528456e+01,\n",
       "        1.19676595e+02, 1.26601964e+02, 1.17016427e+02],\n",
       "       [0.00000000e+00, 0.00000000e+00, 0.00000000e+00, 0.00000000e+00,\n",
       "        0.00000000e+00, 0.00000000e+00, 0.00000000e+00, 0.00000000e+00,\n",
       "        0.00000000e+00, 0.00000000e+00, 4.83715848e+01, 1.90225450e+03,\n",
       "        3.87030621e+03, 4.33462695e+03, 4.28610615e+03]])\n",
       "Coordinates:\n",
       "  * region     (region) object 216B &#x27;BRA&#x27; &#x27;CAN&#x27; &#x27;CEU&#x27; ... &#x27;WAF&#x27; &#x27;WEU&#x27; &#x27;World&#x27;\n",
       "  * year       (year) int64 120B 2005 2010 2015 2020 ... 2070 2080 2090 2100\n",
       "    variables  &lt;U41 164B &#x27;direct air capture (solvent) with storage&#x27;\n",
       "Attributes:\n",
       "    unit:     {&#x27;Carbon Capture&#x27;: &#x27;Mt CO2/yr&#x27;, &#x27;Carbon Capture|Direct Air Capt...</pre><div class='xr-wrap' style='display:none'><div class='xr-header'><div class='xr-obj-type'>xarray.DataArray</div><div class='xr-array-name'>'value'</div><ul class='xr-dim-list'><li><span class='xr-has-index'>region</span>: 27</li><li><span class='xr-has-index'>year</span>: 15</li></ul></div><ul class='xr-sections'><li class='xr-section-item'><div class='xr-array-wrap'><input id='section-b8459043-c1f5-4d2b-9e66-904fd6f8ed28' class='xr-array-in' type='checkbox' checked><label for='section-b8459043-c1f5-4d2b-9e66-904fd6f8ed28' title='Show/hide data repr'><svg class='icon xr-icon-database'><use xlink:href='#icon-database'></use></svg></label><div class='xr-array-preview xr-preview'><span>0.0 0.0 0.0 0.0 0.0 ... 48.37 1.902e+03 3.87e+03 4.335e+03 4.286e+03</span></div><div class='xr-array-data'><pre>array([[0.00000000e+00, 0.00000000e+00, 0.00000000e+00, 0.00000000e+00,\n",
       "        0.00000000e+00, 0.00000000e+00, 0.00000000e+00, 0.00000000e+00,\n",
       "        0.00000000e+00, 0.00000000e+00, 9.94145482e-01, 6.75901628e+01,\n",
       "        1.40863987e+02, 1.58937788e+02, 1.57884690e+02],\n",
       "       [0.00000000e+00, 0.00000000e+00, 0.00000000e+00, 0.00000000e+00,\n",
       "        0.00000000e+00, 0.00000000e+00, 0.00000000e+00, 0.00000000e+00,\n",
       "        0.00000000e+00, 0.00000000e+00, 1.01555189e+01, 1.36609549e+02,\n",
       "        2.49523513e+02, 2.68884617e+02, 2.70117022e+02],\n",
       "       [0.00000000e+00, 0.00000000e+00, 0.00000000e+00, 0.00000000e+00,\n",
       "        0.00000000e+00, 0.00000000e+00, 0.00000000e+00, 0.00000000e+00,\n",
       "        0.00000000e+00, 0.00000000e+00, 5.20180120e-01, 2.41878311e+01,\n",
       "        4.96490117e+01, 5.62407263e+01, 5.66715607e+01],\n",
       "       [0.00000000e+00, 0.00000000e+00, 0.00000000e+00, 0.00000000e+00,\n",
       "        0.00000000e+00, 0.00000000e+00, 0.00000000e+00, 0.00000000e+00,\n",
       "        0.00000000e+00, 0.00000000e+00, 2.50934427e+00, 1.33031511e+02,\n",
       "        2.71535223e+02, 3.02513999e+02, 2.99615830e+02],\n",
       "       [0.00000000e+00, 0.00000000e+00, 0.00000000e+00, 0.00000000e+00,\n",
       "        0.00000000e+00, 0.00000000e+00, 0.00000000e+00, 0.00000000e+00,\n",
       "        0.00000000e+00, 0.00000000e+00, 1.75872550e-01, 2.98533992e+01,\n",
       "        6.46659179e+01, 7.30584773e+01, 5.32687111e+01],\n",
       "...\n",
       "       [0.00000000e+00, 0.00000000e+00, 0.00000000e+00, 0.00000000e+00,\n",
       "        0.00000000e+00, 0.00000000e+00, 0.00000000e+00, 0.00000000e+00,\n",
       "        0.00000000e+00, 0.00000000e+00, 3.50540965e-01, 5.23327555e+01,\n",
       "        1.15761538e+02, 1.36710315e+02, 1.39809933e+02],\n",
       "       [0.00000000e+00, 0.00000000e+00, 0.00000000e+00, 0.00000000e+00,\n",
       "        0.00000000e+00, 0.00000000e+00, 0.00000000e+00, 0.00000000e+00,\n",
       "        0.00000000e+00, 0.00000000e+00, 6.64423115e+00, 1.38836059e+02,\n",
       "        2.64257277e+02, 2.87847658e+02, 2.87922594e+02],\n",
       "       [0.00000000e+00, 0.00000000e+00, 0.00000000e+00, 0.00000000e+00,\n",
       "        0.00000000e+00, 0.00000000e+00, 0.00000000e+00, 0.00000000e+00,\n",
       "        0.00000000e+00, 0.00000000e+00, 2.15354471e+00, 1.14846632e+02,\n",
       "        2.34740220e+02, 2.60152300e+02, 2.52833677e+02],\n",
       "       [0.00000000e+00, 0.00000000e+00, 0.00000000e+00, 0.00000000e+00,\n",
       "        0.00000000e+00, 0.00000000e+00, 0.00000000e+00, 0.00000000e+00,\n",
       "        0.00000000e+00, 0.00000000e+00, 1.90208587e+00, 6.15528456e+01,\n",
       "        1.19676595e+02, 1.26601964e+02, 1.17016427e+02],\n",
       "       [0.00000000e+00, 0.00000000e+00, 0.00000000e+00, 0.00000000e+00,\n",
       "        0.00000000e+00, 0.00000000e+00, 0.00000000e+00, 0.00000000e+00,\n",
       "        0.00000000e+00, 0.00000000e+00, 4.83715848e+01, 1.90225450e+03,\n",
       "        3.87030621e+03, 4.33462695e+03, 4.28610615e+03]])</pre></div></div></li><li class='xr-section-item'><input id='section-c91c8972-f613-4d17-ac6f-7af70e1b58f7' class='xr-section-summary-in' type='checkbox'  checked><label for='section-c91c8972-f613-4d17-ac6f-7af70e1b58f7' class='xr-section-summary' >Coordinates: <span>(3)</span></label><div class='xr-section-inline-details'></div><div class='xr-section-details'><ul class='xr-var-list'><li class='xr-var-item'><div class='xr-var-name'><span class='xr-has-index'>region</span></div><div class='xr-var-dims'>(region)</div><div class='xr-var-dtype'>object</div><div class='xr-var-preview xr-preview'>&#x27;BRA&#x27; &#x27;CAN&#x27; &#x27;CEU&#x27; ... &#x27;WEU&#x27; &#x27;World&#x27;</div><input id='attrs-59ae5b61-26aa-4fba-9c6c-3945d07644e4' class='xr-var-attrs-in' type='checkbox' disabled><label for='attrs-59ae5b61-26aa-4fba-9c6c-3945d07644e4' title='Show/Hide attributes'><svg class='icon xr-icon-file-text2'><use xlink:href='#icon-file-text2'></use></svg></label><input id='data-6a16d9ad-302c-4d03-ac48-29cfdc7f41e6' class='xr-var-data-in' type='checkbox'><label for='data-6a16d9ad-302c-4d03-ac48-29cfdc7f41e6' title='Show/Hide data repr'><svg class='icon xr-icon-database'><use xlink:href='#icon-database'></use></svg></label><div class='xr-var-attrs'><dl class='xr-attrs'></dl></div><div class='xr-var-data'><pre>array([&#x27;BRA&#x27;, &#x27;CAN&#x27;, &#x27;CEU&#x27;, &#x27;CHN&#x27;, &#x27;EAF&#x27;, &#x27;INDIA&#x27;, &#x27;INDO&#x27;, &#x27;JAP&#x27;, &#x27;KOR&#x27;, &#x27;ME&#x27;,\n",
       "       &#x27;MEX&#x27;, &#x27;NAF&#x27;, &#x27;OCE&#x27;, &#x27;RCAM&#x27;, &#x27;RSAF&#x27;, &#x27;RSAM&#x27;, &#x27;RSAS&#x27;, &#x27;RUS&#x27;, &#x27;SAF&#x27;,\n",
       "       &#x27;SEAS&#x27;, &#x27;STAN&#x27;, &#x27;TUR&#x27;, &#x27;UKR&#x27;, &#x27;USA&#x27;, &#x27;WAF&#x27;, &#x27;WEU&#x27;, &#x27;World&#x27;],\n",
       "      dtype=object)</pre></div></li><li class='xr-var-item'><div class='xr-var-name'><span class='xr-has-index'>year</span></div><div class='xr-var-dims'>(year)</div><div class='xr-var-dtype'>int64</div><div class='xr-var-preview xr-preview'>2005 2010 2015 ... 2080 2090 2100</div><input id='attrs-94b9f3f5-694e-477e-bb92-3c12032f917d' class='xr-var-attrs-in' type='checkbox' disabled><label for='attrs-94b9f3f5-694e-477e-bb92-3c12032f917d' title='Show/Hide attributes'><svg class='icon xr-icon-file-text2'><use xlink:href='#icon-file-text2'></use></svg></label><input id='data-dd1683c8-8e79-4772-912c-67bf2fa6a2ff' class='xr-var-data-in' type='checkbox'><label for='data-dd1683c8-8e79-4772-912c-67bf2fa6a2ff' title='Show/Hide data repr'><svg class='icon xr-icon-database'><use xlink:href='#icon-database'></use></svg></label><div class='xr-var-attrs'><dl class='xr-attrs'></dl></div><div class='xr-var-data'><pre>array([2005, 2010, 2015, 2020, 2025, 2030, 2035, 2040, 2045, 2050, 2060, 2070,\n",
       "       2080, 2090, 2100])</pre></div></li><li class='xr-var-item'><div class='xr-var-name'><span>variables</span></div><div class='xr-var-dims'>()</div><div class='xr-var-dtype'>&lt;U41</div><div class='xr-var-preview xr-preview'>&#x27;direct air capture (solvent) wi...</div><input id='attrs-b5b41519-01f3-42be-9419-cb88fc068a94' class='xr-var-attrs-in' type='checkbox' disabled><label for='attrs-b5b41519-01f3-42be-9419-cb88fc068a94' title='Show/Hide attributes'><svg class='icon xr-icon-file-text2'><use xlink:href='#icon-file-text2'></use></svg></label><input id='data-9806e7d7-65fe-41e3-822f-d8d8efbaea10' class='xr-var-data-in' type='checkbox'><label for='data-9806e7d7-65fe-41e3-822f-d8d8efbaea10' title='Show/Hide data repr'><svg class='icon xr-icon-database'><use xlink:href='#icon-database'></use></svg></label><div class='xr-var-attrs'><dl class='xr-attrs'></dl></div><div class='xr-var-data'><pre>array(&#x27;direct air capture (solvent) with storage&#x27;, dtype=&#x27;&lt;U41&#x27;)</pre></div></li></ul></div></li><li class='xr-section-item'><input id='section-9fd6e615-8144-43a1-8370-e204ff6be671' class='xr-section-summary-in' type='checkbox'  ><label for='section-9fd6e615-8144-43a1-8370-e204ff6be671' class='xr-section-summary' >Indexes: <span>(2)</span></label><div class='xr-section-inline-details'></div><div class='xr-section-details'><ul class='xr-var-list'><li class='xr-var-item'><div class='xr-index-name'><div>region</div></div><div class='xr-index-preview'>PandasIndex</div><div></div><input id='index-f0823dc4-f948-4327-9b64-8cbb595f3287' class='xr-index-data-in' type='checkbox'/><label for='index-f0823dc4-f948-4327-9b64-8cbb595f3287' title='Show/Hide index repr'><svg class='icon xr-icon-database'><use xlink:href='#icon-database'></use></svg></label><div class='xr-index-data'><pre>PandasIndex(Index([&#x27;BRA&#x27;, &#x27;CAN&#x27;, &#x27;CEU&#x27;, &#x27;CHN&#x27;, &#x27;EAF&#x27;, &#x27;INDIA&#x27;, &#x27;INDO&#x27;, &#x27;JAP&#x27;, &#x27;KOR&#x27;, &#x27;ME&#x27;,\n",
       "       &#x27;MEX&#x27;, &#x27;NAF&#x27;, &#x27;OCE&#x27;, &#x27;RCAM&#x27;, &#x27;RSAF&#x27;, &#x27;RSAM&#x27;, &#x27;RSAS&#x27;, &#x27;RUS&#x27;, &#x27;SAF&#x27;,\n",
       "       &#x27;SEAS&#x27;, &#x27;STAN&#x27;, &#x27;TUR&#x27;, &#x27;UKR&#x27;, &#x27;USA&#x27;, &#x27;WAF&#x27;, &#x27;WEU&#x27;, &#x27;World&#x27;],\n",
       "      dtype=&#x27;object&#x27;, name=&#x27;region&#x27;))</pre></div></li><li class='xr-var-item'><div class='xr-index-name'><div>year</div></div><div class='xr-index-preview'>PandasIndex</div><div></div><input id='index-dc03a92d-1173-4df9-926f-9ec37283d6a2' class='xr-index-data-in' type='checkbox'/><label for='index-dc03a92d-1173-4df9-926f-9ec37283d6a2' title='Show/Hide index repr'><svg class='icon xr-icon-database'><use xlink:href='#icon-database'></use></svg></label><div class='xr-index-data'><pre>PandasIndex(Index([2005, 2010, 2015, 2020, 2025, 2030, 2035, 2040, 2045, 2050, 2060, 2070,\n",
       "       2080, 2090, 2100],\n",
       "      dtype=&#x27;int64&#x27;, name=&#x27;year&#x27;))</pre></div></li></ul></div></li><li class='xr-section-item'><input id='section-c9a94d96-8d22-4e90-8370-276acd7b5fae' class='xr-section-summary-in' type='checkbox'  checked><label for='section-c9a94d96-8d22-4e90-8370-276acd7b5fae' class='xr-section-summary' >Attributes: <span>(1)</span></label><div class='xr-section-inline-details'></div><div class='xr-section-details'><dl class='xr-attrs'><dt><span>unit :</span></dt><dd>{&#x27;Carbon Capture&#x27;: &#x27;Mt CO2/yr&#x27;, &#x27;Carbon Capture|Direct Air Capture&#x27;: &#x27;Mt CO2/yr&#x27;, &#x27;Carbon Capture|Energy&#x27;: &#x27;Mt CO2/yr&#x27;, &#x27;Carbon Capture|Energy|Biomass&#x27;: &#x27;Mt CO2/yr&#x27;, &#x27;Carbon Capture|Energy|Demand&#x27;: &#x27;Mt CO2/yr&#x27;, &#x27;Carbon Capture|Energy|Demand|Biomass&#x27;: &#x27;Mt CO2/yr&#x27;, &#x27;Carbon Capture|Energy|Demand|Fossil&#x27;: &#x27;Mt CO2/yr&#x27;, &#x27;Carbon Capture|Energy|Demand|Industry&#x27;: &#x27;Mt CO2/yr&#x27;, &#x27;Carbon Capture|Energy|Demand|Industry|Biomass&#x27;: &#x27;Mt CO2/yr&#x27;, &#x27;Carbon Capture|Energy|Demand|Industry|Fossil&#x27;: &#x27;Mt CO2/yr&#x27;, &#x27;Carbon Capture|Energy|Fossil&#x27;: &#x27;Mt CO2/yr&#x27;, &#x27;Carbon Capture|Energy|Supply&#x27;: &#x27;Mt CO2/yr&#x27;, &#x27;Carbon Capture|Energy|Supply|Biomass&#x27;: &#x27;Mt CO2/yr&#x27;, &#x27;Carbon Capture|Energy|Supply|Electricity&#x27;: &#x27;Mt CO2/yr&#x27;, &#x27;Carbon Capture|Energy|Supply|Electricity|Biomass&#x27;: &#x27;Mt CO2/yr&#x27;, &#x27;Carbon Capture|Energy|Supply|Electricity|Coal&#x27;: &#x27;Mt CO2/yr&#x27;, &#x27;Carbon Capture|Energy|Supply|Electricity|Fossil&#x27;: &#x27;Mt CO2/yr&#x27;, &#x27;Carbon Capture|Energy|Supply|Electricity|Gas&#x27;: &#x27;Mt CO2/yr&#x27;, &#x27;Carbon Capture|Energy|Supply|Electricity|Oil&#x27;: &#x27;Mt CO2/yr&#x27;, &#x27;Carbon Capture|Energy|Supply|Fossil&#x27;: &#x27;Mt CO2/yr&#x27;, &#x27;Carbon Capture|Energy|Supply|Hydrogen&#x27;: &#x27;Mt CO2/yr&#x27;, &#x27;Carbon Capture|Energy|Supply|Hydrogen|Biomass&#x27;: &#x27;Mt CO2/yr&#x27;, &#x27;Carbon Capture|Energy|Supply|Hydrogen|Fossil&#x27;: &#x27;Mt CO2/yr&#x27;, &#x27;Carbon Capture|Energy|Supply|Liquids&#x27;: &#x27;Mt CO2/yr&#x27;, &#x27;Carbon Capture|Energy|Supply|Liquids|Biomass&#x27;: &#x27;Mt CO2/yr&#x27;, &#x27;Carbon Capture|Energy|Supply|Other|Biomass&#x27;: &#x27;Mt CO2/yr&#x27;, &#x27;Carbon Capture|Geological Storage&#x27;: &#x27;Mt CO2/yr&#x27;, &#x27;Carbon Capture|Geological Storage|Biomass&#x27;: &#x27;Mt CO2/yr&#x27;, &#x27;Carbon Capture|Geological Storage|Direct Air Capture&#x27;: &#x27;Mt CO2/yr&#x27;, &#x27;Carbon Capture|Geological Storage|Direct Air Capture|Cumulative&#x27;: &#x27;Mt CO2/yr&#x27;, &#x27;Carbon Capture|Geological Storage|Electricity&#x27;: &#x27;Mt CO2/yr&#x27;, &#x27;Carbon Capture|Geological Storage|Fossil&#x27;: &#x27;Mt CO2/yr&#x27;, &#x27;Carbon Capture|Industrial Processes&#x27;: &#x27;Mt CO2/yr&#x27;, &#x27;Carbon Capture|Industrial Processes|Chemicals&#x27;: &#x27;Mt CO2/yr&#x27;, &#x27;Carbon Capture|Industrial Processes|Iron and Steel&#x27;: &#x27;Mt CO2/yr&#x27;, &#x27;Carbon Capture|Industrial Processes|Non-Metallic Minerals&#x27;: &#x27;Mt CO2/yr&#x27;, &#x27;Efficiency|Electricity|Biomass|w/ CCS|1&#x27;: &#x27;-&#x27;, &#x27;Efficiency|Electricity|Biomass|w/ CCS|2&#x27;: &#x27;-&#x27;, &#x27;Efficiency|Electricity|Biomass|w/o CCS|1&#x27;: &#x27;-&#x27;, &#x27;Efficiency|Electricity|Biomass|w/o CCS|2&#x27;: &#x27;-&#x27;, &#x27;Efficiency|Electricity|Biomass|w/o CCS|3&#x27;: &#x27;-&#x27;, &#x27;Efficiency|Electricity|Coal|w/ CCS|1&#x27;: &#x27;-&#x27;, &#x27;Efficiency|Electricity|Coal|w/ CCS|2&#x27;: &#x27;-&#x27;, &#x27;Efficiency|Electricity|Coal|w/o CCS|1&#x27;: &#x27;-&#x27;, &#x27;Efficiency|Electricity|Coal|w/o CCS|2&#x27;: &#x27;-&#x27;, &#x27;Efficiency|Electricity|Coal|w/o CCS|3&#x27;: &#x27;-&#x27;, &#x27;Efficiency|Electricity|Gas|w/ CCS|1&#x27;: &#x27;-&#x27;, &#x27;Efficiency|Electricity|Gas|w/ CCS|2&#x27;: &#x27;-&#x27;, &#x27;Efficiency|Electricity|Gas|w/o CCS|1&#x27;: &#x27;-&#x27;, &#x27;Efficiency|Electricity|Gas|w/o CCS|2&#x27;: &#x27;-&#x27;, &#x27;Efficiency|Electricity|Gas|w/o CCS|3&#x27;: &#x27;-&#x27;, &#x27;Efficiency|Electricity|Nuclear&#x27;: &#x27;-&#x27;, &#x27;Efficiency|Electricity|Oil|w/ CCS|1&#x27;: &#x27;-&#x27;, &#x27;Efficiency|Electricity|Oil|w/ CCS|2&#x27;: &#x27;-&#x27;, &#x27;Efficiency|Electricity|Oil|w/o CCS|1&#x27;: &#x27;-&#x27;, &#x27;Efficiency|Electricity|Oil|w/o CCS|2&#x27;: &#x27;-&#x27;, &#x27;Efficiency|Electricity|Oil|w/o CCS|3&#x27;: &#x27;-&#x27;, &#x27;Efficiency|Liquids|Biomass|Biodiesel|Oilcrops|w/ CCS&#x27;: &#x27;-&#x27;, &#x27;Efficiency|Liquids|Biomass|Biodiesel|Oilcrops|w/o CCS&#x27;: &#x27;-&#x27;, &#x27;Efficiency|Liquids|Biomass|Ethanol|Grassy|w/ CCS&#x27;: &#x27;-&#x27;, &#x27;Efficiency|Liquids|Biomass|Ethanol|Grassy|w/o CCS&#x27;: &#x27;-&#x27;, &#x27;Efficiency|Liquids|Biomass|Ethanol|Maize|w/ CCS&#x27;: &#x27;-&#x27;, &#x27;Efficiency|Liquids|Biomass|Ethanol|Maize|w/o CCS&#x27;: &#x27;-&#x27;, &#x27;Efficiency|Liquids|Biomass|Ethanol|Sugar|w/ CCS&#x27;: &#x27;-&#x27;, &#x27;Efficiency|Liquids|Biomass|Ethanol|Sugar|w/o CCS&#x27;: &#x27;-&#x27;, &#x27;Efficiency|Liquids|Biomass|Ethanol|Woody|w/ CCS&#x27;: &#x27;-&#x27;, &#x27;Efficiency|Liquids|Biomass|Ethanol|Woody|w/o CCS&#x27;: &#x27;-&#x27;, &#x27;Efficiency|Liquids|Biomass|FT Diesel|Woody|w/ CCS&#x27;: &#x27;-&#x27;, &#x27;Efficiency|Liquids|Biomass|FT Diesel|Woody|w/o CCS&#x27;: &#x27;-&#x27;, &#x27;Efficiency|Liquids|Biomass|Methanol|Grassy|w/ CCS&#x27;: &#x27;-&#x27;, &#x27;Efficiency|Liquids|Biomass|Methanol|Grassy|w/o CCS&#x27;: &#x27;-&#x27;, &#x27;Efficiency|Liquids|Biomass|Methanol|Woody|w/ CCS&#x27;: &#x27;-&#x27;, &#x27;Efficiency|Liquids|Biomass|Methanol|Woody|w/o CCS&#x27;: &#x27;-&#x27;, &#x27;Efficiency|Transportation|Freight|Heavy Truck|Fuel Cell Vehicle|Biofuels&#x27;: &#x27;MJ/Tkm&#x27;, &#x27;Efficiency|Transportation|Freight|Heavy Truck|Fuel Cell Vehicle|Gasoline&#x27;: &#x27;MJ/Tkm&#x27;, &#x27;Efficiency|Transportation|Freight|Heavy Truck|Fuel Cell Vehicle|Hydrogen&#x27;: &#x27;MJ/Tkm&#x27;, &#x27;Efficiency|Transportation|Freight|Heavy Truck|Hybrid engine|Biofuel&#x27;: &#x27;MJ/Tkm&#x27;, &#x27;Efficiency|Transportation|Freight|Heavy Truck|Hybrid engine|Diesel&#x27;: &#x27;MJ/Tkm&#x27;, &#x27;Efficiency|Transportation|Freight|Heavy Truck|Hybrid engine|Gasoline&#x27;: &#x27;MJ/Tkm&#x27;, &#x27;Efficiency|Transportation|Freight|Heavy Truck|Hybrid engine|Hydrogen&#x27;: &#x27;MJ/Tkm&#x27;, &#x27;Efficiency|Transportation|Freight|Heavy Truck|Hybrid engine|LNG&#x27;: &#x27;MJ/Tkm&#x27;, &#x27;Efficiency|Transportation|Freight|Heavy Truck|Internal Combustion Engine|Biofuel&#x27;: &#x27;MJ/Tkm&#x27;, &#x27;Efficiency|Transportation|Freight|Heavy Truck|Internal Combustion Engine|Diesel&#x27;: &#x27;MJ/Tkm&#x27;, &#x27;Efficiency|Transportation|Freight|Heavy Truck|Internal Combustion Engine|Gasoline&#x27;: &#x27;MJ/Tkm&#x27;, &#x27;Efficiency|Transportation|Freight|Heavy Truck|Internal Combustion Engine|Hydrogen&#x27;: &#x27;MJ/Tkm&#x27;, &#x27;Efficiency|Transportation|Freight|Heavy Truck|Plug-in electric vehicle 10km|Biofuel&#x27;: &#x27;MJ/Tkm&#x27;, &#x27;Efficiency|Transportation|Freight|Heavy Truck|Plug-in electric vehicle 10km|Electricity&#x27;: &#x27;MJ/Tkm&#x27;, &#x27;Efficiency|Transportation|Freight|Heavy Truck|Plug-in electric vehicle 10km|Oil&#x27;: &#x27;MJ/Tkm&#x27;, &#x27;Efficiency|Transportation|Freight|Heavy Truck|Plug-in electric vehicle 30km|Biofuel&#x27;: &#x27;MJ/Tkm&#x27;, &#x27;Efficiency|Transportation|Freight|Heavy Truck|Plug-in electric vehicle 30km|Electricity&#x27;: &#x27;MJ/Tkm&#x27;, &#x27;Efficiency|Transportation|Freight|Heavy Truck|Plug-in electric vehicle 30km|Oil&#x27;: &#x27;MJ/Tkm&#x27;, &#x27;Efficiency|Transportation|Freight|Heavy Truck|Plug-in electric vehicle 60km|Biofuel&#x27;: &#x27;MJ/Tkm&#x27;, &#x27;Efficiency|Transportation|Freight|Heavy Truck|Plug-in electric vehicle 60km|Electricity&#x27;: &#x27;MJ/Tkm&#x27;, &#x27;Efficiency|Transportation|Freight|Heavy Truck|Plug-in electric vehicle 60km|Oil&#x27;: &#x27;MJ/Tkm&#x27;, &#x27;Efficiency|Transportation|Freight|Medium Truck|Fuel Cell Vehicle|Biofuels&#x27;: &#x27;MJ/Tkm&#x27;, &#x27;Efficiency|Transportation|Freight|Medium Truck|Fuel Cell Vehicle|Gasoline&#x27;: &#x27;MJ/Tkm&#x27;, &#x27;Efficiency|Transportation|Freight|Medium Truck|Fuel Cell Vehicle|Hydrogen&#x27;: &#x27;MJ/Tkm&#x27;, &#x27;Efficiency|Transportation|Freight|Medium Truck|Hybrid engine|Biofuel&#x27;: &#x27;MJ/Tkm&#x27;, &#x27;Efficiency|Transportation|Freight|Medium Truck|Hybrid engine|Diesel&#x27;: &#x27;MJ/Tkm&#x27;, &#x27;Efficiency|Transportation|Freight|Medium Truck|Hybrid engine|Gasoline&#x27;: &#x27;MJ/Tkm&#x27;, &#x27;Efficiency|Transportation|Freight|Medium Truck|Hybrid engine|Hydrogen&#x27;: &#x27;MJ/Tkm&#x27;, &#x27;Efficiency|Transportation|Freight|Medium Truck|Hybrid engine|LNG&#x27;: &#x27;MJ/Tkm&#x27;, &#x27;Efficiency|Transportation|Freight|Medium Truck|Internal Combustion Engine Efficient|Gasoline&#x27;: &#x27;MJ/Tkm&#x27;, &#x27;Efficiency|Transportation|Freight|Medium Truck|Internal Combustion Engine|Biofuel&#x27;: &#x27;MJ/Tkm&#x27;, &#x27;Efficiency|Transportation|Freight|Medium Truck|Internal Combustion Engine|Diesel&#x27;: &#x27;MJ/Tkm&#x27;, &#x27;Efficiency|Transportation|Freight|Medium Truck|Internal Combustion Engine|Gasoline&#x27;: &#x27;MJ/Tkm&#x27;, &#x27;Efficiency|Transportation|Freight|Medium Truck|Internal Combustion Engine|Hydrogen&#x27;: &#x27;MJ/Tkm&#x27;, &#x27;Efficiency|Transportation|Freight|Medium Truck|Plug-in electric vehicle 10km|Biofuel&#x27;: &#x27;MJ/Tkm&#x27;, &#x27;Efficiency|Transportation|Freight|Medium Truck|Plug-in electric vehicle 10km|Electricity&#x27;: &#x27;MJ/Tkm&#x27;, &#x27;Efficiency|Transportation|Freight|Medium Truck|Plug-in electric vehicle 10km|Oil&#x27;: &#x27;MJ/Tkm&#x27;, &#x27;Efficiency|Transportation|Freight|Medium Truck|Plug-in electric vehicle 30km|Biofuel&#x27;: &#x27;MJ/Tkm&#x27;, &#x27;Efficiency|Transportation|Freight|Medium Truck|Plug-in electric vehicle 30km|Electricity&#x27;: &#x27;MJ/Tkm&#x27;, &#x27;Efficiency|Transportation|Freight|Medium Truck|Plug-in electric vehicle 30km|Oil&#x27;: &#x27;MJ/Tkm&#x27;, &#x27;Efficiency|Transportation|Freight|Medium Truck|Plug-in electric vehicle 60km|Biofuel&#x27;: &#x27;MJ/Tkm&#x27;, &#x27;Efficiency|Transportation|Freight|Medium Truck|Plug-in electric vehicle 60km|Electricity&#x27;: &#x27;MJ/Tkm&#x27;, &#x27;Efficiency|Transportation|Freight|Medium Truck|Plug-in electric vehicle 60km|Oil&#x27;: &#x27;MJ/Tkm&#x27;, &#x27;Emission Factor|CO2|Energy|Supply|Biomass|Marginal|Grassy&#x27;: &#x27;kg CO2/GJ-prim&#x27;, &#x27;Emission Factor|CO2|Energy|Supply|Biomass|Marginal|Maize&#x27;: &#x27;kg CO2/GJ-prim&#x27;, &#x27;Emission Factor|CO2|Energy|Supply|Biomass|Marginal|Oilcrops&#x27;: &#x27;kg CO2/GJ-prim&#x27;, &#x27;Emission Factor|CO2|Energy|Supply|Biomass|Marginal|Sugar&#x27;: &#x27;kg CO2/GJ-prim&#x27;, &#x27;Emission Factor|CO2|Energy|Supply|Biomass|Marginal|Woody&#x27;: &#x27;kg CO2/GJ-prim&#x27;, &#x27;Emissions|CO2&#x27;: &#x27;Mt CO2/yr&#x27;, &#x27;Energy Service|Transportation|Freight|Heavy Truck|Fuel Cell Vehicle|Biofuels&#x27;: &#x27;billion tkm/yr&#x27;, &#x27;Energy Service|Transportation|Freight|Heavy Truck|Fuel Cell Vehicle|Gasoline&#x27;: &#x27;billion tkm/yr&#x27;, &#x27;Energy Service|Transportation|Freight|Heavy Truck|Fuel Cell Vehicle|Hydrogen&#x27;: &#x27;billion tkm/yr&#x27;, &#x27;Energy Service|Transportation|Freight|Heavy Truck|Hybrid engine|Biofuel&#x27;: &#x27;billion tkm/yr&#x27;, &#x27;Energy Service|Transportation|Freight|Heavy Truck|Hybrid engine|Diesel&#x27;: &#x27;billion tkm/yr&#x27;, &#x27;Energy Service|Transportation|Freight|Heavy Truck|Hybrid engine|Gasoline&#x27;: &#x27;billion tkm/yr&#x27;, &#x27;Energy Service|Transportation|Freight|Heavy Truck|Hybrid engine|Hydrogen&#x27;: &#x27;billion tkm/yr&#x27;, &#x27;Energy Service|Transportation|Freight|Heavy Truck|Hybrid engine|LNG&#x27;: &#x27;billion tkm/yr&#x27;, &#x27;Energy Service|Transportation|Freight|Heavy Truck|Internal Combustion Engine Efficient|Gasoline&#x27;: &#x27;billion tkm/yr&#x27;, &#x27;Energy Service|Transportation|Freight|Heavy Truck|Internal Combustion Engine|Biofuel&#x27;: &#x27;billion tkm/yr&#x27;, &#x27;Energy Service|Transportation|Freight|Heavy Truck|Internal Combustion Engine|Diesel&#x27;: &#x27;billion tkm/yr&#x27;, &#x27;Energy Service|Transportation|Freight|Heavy Truck|Internal Combustion Engine|Gasoline&#x27;: &#x27;billion tkm/yr&#x27;, &#x27;Energy Service|Transportation|Freight|Heavy Truck|Internal Combustion Engine|Hydrogen&#x27;: &#x27;billion tkm/yr&#x27;, &#x27;Energy Service|Transportation|Freight|Heavy Truck|Plug-in electric vehicle 10km|Biofuel&#x27;: &#x27;billion tkm/yr&#x27;, &#x27;Energy Service|Transportation|Freight|Heavy Truck|Plug-in electric vehicle 10km|Oil&#x27;: &#x27;billion tkm/yr&#x27;, &#x27;Energy Service|Transportation|Freight|Heavy Truck|Plug-in electric vehicle 30km|Biofuel&#x27;: &#x27;billion tkm/yr&#x27;, &#x27;Energy Service|Transportation|Freight|Heavy Truck|Plug-in electric vehicle 30km|Oil&#x27;: &#x27;billion tkm/yr&#x27;, &#x27;Energy Service|Transportation|Freight|Heavy Truck|Plug-in electric vehicle 60km|Biofuel&#x27;: &#x27;billion tkm/yr&#x27;, &#x27;Energy Service|Transportation|Freight|Heavy Truck|Plug-in electric vehicle 60km|Oil&#x27;: &#x27;billion tkm/yr&#x27;, &#x27;Energy Service|Transportation|Freight|Medium Truck|Fuel Cell Vehicle|Biofuels&#x27;: &#x27;billion tkm/yr&#x27;, &#x27;Energy Service|Transportation|Freight|Medium Truck|Fuel Cell Vehicle|Gasoline&#x27;: &#x27;billion tkm/yr&#x27;, &#x27;Energy Service|Transportation|Freight|Medium Truck|Fuel Cell Vehicle|Hydrogen&#x27;: &#x27;billion tkm/yr&#x27;, &#x27;Energy Service|Transportation|Freight|Medium Truck|Hybrid engine|Biofuel&#x27;: &#x27;billion tkm/yr&#x27;, &#x27;Energy Service|Transportation|Freight|Medium Truck|Hybrid engine|Diesel&#x27;: &#x27;billion tkm/yr&#x27;, &#x27;Energy Service|Transportation|Freight|Medium Truck|Hybrid engine|Gasoline&#x27;: &#x27;billion tkm/yr&#x27;, &#x27;Energy Service|Transportation|Freight|Medium Truck|Hybrid engine|Hydrogen&#x27;: &#x27;billion tkm/yr&#x27;, &#x27;Energy Service|Transportation|Freight|Medium Truck|Hybrid engine|LNG&#x27;: &#x27;billion tkm/yr&#x27;, &#x27;Energy Service|Transportation|Freight|Medium Truck|Internal Combustion Engine Efficient|Gasoline&#x27;: &#x27;billion tkm/yr&#x27;, &#x27;Energy Service|Transportation|Freight|Medium Truck|Internal Combustion Engine|Biofuel&#x27;: &#x27;billion tkm/yr&#x27;, &#x27;Energy Service|Transportation|Freight|Medium Truck|Internal Combustion Engine|Diesel&#x27;: &#x27;billion tkm/yr&#x27;, &#x27;Energy Service|Transportation|Freight|Medium Truck|Internal Combustion Engine|Gasoline&#x27;: &#x27;billion tkm/yr&#x27;, &#x27;Energy Service|Transportation|Freight|Medium Truck|Internal Combustion Engine|Hydrogen&#x27;: &#x27;billion tkm/yr&#x27;, &#x27;Energy Service|Transportation|Freight|Medium Truck|Plug-in electric vehicle 10km|Biofuel&#x27;: &#x27;billion tkm/yr&#x27;, &#x27;Energy Service|Transportation|Freight|Medium Truck|Plug-in electric vehicle 10km|Oil&#x27;: &#x27;billion tkm/yr&#x27;, &#x27;Energy Service|Transportation|Freight|Medium Truck|Plug-in electric vehicle 30km|Biofuel&#x27;: &#x27;billion tkm/yr&#x27;, &#x27;Energy Service|Transportation|Freight|Medium Truck|Plug-in electric vehicle 30km|Oil&#x27;: &#x27;billion tkm/yr&#x27;, &#x27;Energy Service|Transportation|Freight|Medium Truck|Plug-in electric vehicle 60km|Biofuel&#x27;: &#x27;billion tkm/yr&#x27;, &#x27;Energy Service|Transportation|Freight|Medium Truck|Plug-in electric vehicle 60km|Oil&#x27;: &#x27;billion tkm/yr&#x27;, &#x27;Energy Service|Transportation|Passenger&#x27;: &#x27;billion pkm/yr&#x27;, &#x27;Energy Service|Transportation|Passenger|Aviation&#x27;: &#x27;billion pkm/yr&#x27;, &#x27;Energy Service|Transportation|Passenger|Cycling&#x27;: &#x27;billion pkm/yr&#x27;, &#x27;Energy Service|Transportation|Passenger|Domestic Aviation&#x27;: &#x27;billion pkm/yr&#x27;, &#x27;Energy Service|Transportation|Passenger|Railways&#x27;: &#x27;billion pkm/yr&#x27;, &#x27;Energy Service|Transportation|Passenger|Road&#x27;: &#x27;billion pkm/yr&#x27;, &#x27;Energy Service|Transportation|Passenger|Road|Bus&#x27;: &#x27;billion pkm/yr&#x27;, &#x27;Energy Service|Transportation|Passenger|Road|Light-Duty Vehicle&#x27;: &#x27;billion pkm/yr&#x27;, &#x27;Energy Service|Transportation|Passenger|Walking&#x27;: &#x27;billion pkm/yr&#x27;, &#x27;Final Energy|Carbon Management&#x27;: &#x27;EJ/yr&#x27;, &#x27;Final Energy|Carbon Management|Direct Air Capture&#x27;: &#x27;EJ/yr&#x27;, &#x27;Final Energy|Carbon Management|Direct Air Capture|Gases&#x27;: &#x27;EJ/yr&#x27;, &#x27;Final Energy|Commercial|Appliances&#x27;: &#x27;EJ/yr&#x27;, &#x27;Final Energy|Commercial|Appliances|Electricity&#x27;: &#x27;EJ/yr&#x27;, &#x27;Final Energy|Commercial|Cooking&#x27;: &#x27;EJ/yr&#x27;, &#x27;Final Energy|Commercial|Cooking|Electricity&#x27;: &#x27;EJ/yr&#x27;, &#x27;Final Energy|Commercial|Cooking|Gases&#x27;: &#x27;EJ/yr&#x27;, &#x27;Final Energy|Commercial|Cooking|Gases|Fossil&#x27;: &#x27;EJ/yr&#x27;, &#x27;Final Energy|Commercial|Cooking|Liquids&#x27;: &#x27;EJ/yr&#x27;, &#x27;Final Energy|Commercial|Cooking|Liquids|Fossil&#x27;: &#x27;EJ/yr&#x27;, &#x27;Final Energy|Commercial|Cooking|Solids&#x27;: &#x27;EJ/yr&#x27;, &#x27;Final Energy|Commercial|Cooking|Solids|Biomass|Modern&#x27;: &#x27;EJ/yr&#x27;, &#x27;Final Energy|Commercial|Cooking|Solids|Biomass|Traditional&#x27;: &#x27;EJ/yr&#x27;, &#x27;Final Energy|Commercial|Cooking|Solids|Fossil&#x27;: &#x27;EJ/yr&#x27;, &#x27;Final Energy|Commercial|Cooling&#x27;: &#x27;EJ/yr&#x27;, &#x27;Final Energy|Commercial|Cooling|Electricity&#x27;: &#x27;EJ/yr&#x27;, &#x27;Final Energy|Commercial|Lighting&#x27;: &#x27;EJ/yr&#x27;, &#x27;Final Energy|Commercial|Lighting|Electricity&#x27;: &#x27;EJ/yr&#x27;, &#x27;Final Energy|Commercial|Space Heating&#x27;: &#x27;EJ/yr&#x27;, &#x27;Final Energy|Commercial|Space Heating|Electricity&#x27;: &#x27;EJ/yr&#x27;, &#x27;Final Energy|Commercial|Space Heating|Gases&#x27;: &#x27;EJ/yr&#x27;, &#x27;Final Energy|Commercial|Space Heating|Gases|Fossil&#x27;: &#x27;EJ/yr&#x27;, &#x27;Final Energy|Commercial|Space Heating|Heat&#x27;: &#x27;EJ/yr&#x27;, &#x27;Final Energy|Commercial|Space Heating|Hydrogen&#x27;: &#x27;EJ/yr&#x27;, &#x27;Final Energy|Commercial|Space Heating|Liquids&#x27;: &#x27;EJ/yr&#x27;, &#x27;Final Energy|Commercial|Space Heating|Liquids|Fossil&#x27;: &#x27;EJ/yr&#x27;, &#x27;Final Energy|Commercial|Space Heating|Solids|Biomass|Modern&#x27;: &#x27;EJ/yr&#x27;, &#x27;Final Energy|Commercial|Space Heating|Solids|Biomass|Traditional&#x27;: &#x27;EJ/yr&#x27;, &#x27;Final Energy|Commercial|Space Heating|Solids|Fossil&#x27;: &#x27;EJ/yr&#x27;, &#x27;Final Energy|Commercial|Water Heating|Electricity&#x27;: &#x27;EJ/yr&#x27;, &#x27;Final Energy|Commercial|Water Heating|Gases&#x27;: &#x27;EJ/yr&#x27;, &#x27;Final Energy|Commercial|Water Heating|Gases|Fossil&#x27;: &#x27;EJ/yr&#x27;, &#x27;Final Energy|Commercial|Water Heating|Heat&#x27;: &#x27;EJ/yr&#x27;, &#x27;Final Energy|Commercial|Water Heating|Hydrogen&#x27;: &#x27;EJ/yr&#x27;, &#x27;Final Energy|Commercial|Water Heating|Liquids&#x27;: &#x27;EJ/yr&#x27;, &#x27;Final Energy|Commercial|Water Heating|Liquids|Fossil&#x27;: &#x27;EJ/yr&#x27;, &#x27;Final Energy|Commercial|Water Heating|Solids&#x27;: &#x27;EJ/yr&#x27;, &#x27;Final Energy|Commercial|Water Heating|Solids|Biomass|Modern&#x27;: &#x27;EJ/yr&#x27;, &#x27;Final Energy|Commercial|Water Heating|Solids|Biomass|Traditional&#x27;: &#x27;EJ/yr&#x27;, &#x27;Final Energy|Commercial|Water Heating|Solids|Fossil&#x27;: &#x27;EJ/yr&#x27;, &#x27;Final Energy|Industry|Cement|Dry feed rotary kiln|Coal&#x27;: &#x27;EJ/yr&#x27;, &#x27;Final Energy|Industry|Cement|Dry feed rotary kiln|Electricity&#x27;: &#x27;EJ/yr&#x27;, &#x27;Final Energy|Industry|Cement|Dry feed rotary kiln|Hydrogen&#x27;: &#x27;EJ/yr&#x27;, &#x27;Final Energy|Industry|Cement|Dry feed rotary kiln|Modern Biomass&#x27;: &#x27;EJ/yr&#x27;, &#x27;Final Energy|Industry|Cement|Dry feed rotary kiln|Natural Gas&#x27;: &#x27;EJ/yr&#x27;, &#x27;Final Energy|Industry|Cement|Dry feed rotary kiln|Oil&#x27;: &#x27;EJ/yr&#x27;, &#x27;Final Energy|Industry|Cement|Dry feed rotary kiln|Secondary Heat&#x27;: &#x27;EJ/yr&#x27;, &#x27;Final Energy|Industry|Cement|Dry feed rotary kiln|Traditional Biomass&#x27;: &#x27;EJ/yr&#x27;, &#x27;Final Energy|Industry|Cement|Efficient dry feed rotary kiln + MEA CCS|Coal&#x27;: &#x27;EJ/yr&#x27;, &#x27;Final Energy|Industry|Cement|Efficient dry feed rotary kiln + MEA CCS|Electricity&#x27;: &#x27;EJ/yr&#x27;, &#x27;Final Energy|Industry|Cement|Efficient dry feed rotary kiln + MEA CCS|Hydrogen&#x27;: &#x27;EJ/yr&#x27;, &#x27;Final Energy|Industry|Cement|Efficient dry feed rotary kiln + MEA CCS|Modern Biomass&#x27;: &#x27;EJ/yr&#x27;, &#x27;Final Energy|Industry|Cement|Efficient dry feed rotary kiln + MEA CCS|Natural Gas&#x27;: &#x27;EJ/yr&#x27;, &#x27;Final Energy|Industry|Cement|Efficient dry feed rotary kiln + MEA CCS|Oil&#x27;: &#x27;EJ/yr&#x27;, &#x27;Final Energy|Industry|Cement|Efficient dry feed rotary kiln + MEA CCS|Secondary Heat&#x27;: &#x27;EJ/yr&#x27;, &#x27;Final Energy|Industry|Cement|Efficient dry feed rotary kiln + MEA CCS|Traditional Biomass&#x27;: &#x27;EJ/yr&#x27;, &#x27;Final Energy|Industry|Cement|Efficient dry feed rotary kiln + On-site CCS|Coal&#x27;: &#x27;EJ/yr&#x27;, &#x27;Final Energy|Industry|Cement|Efficient dry feed rotary kiln + On-site CCS|Electricity&#x27;: &#x27;EJ/yr&#x27;, &#x27;Final Energy|Industry|Cement|Efficient dry feed rotary kiln + On-site CCS|Hydrogen&#x27;: &#x27;EJ/yr&#x27;, &#x27;Final Energy|Industry|Cement|Efficient dry feed rotary kiln + On-site CCS|Modern Biomass&#x27;: &#x27;EJ/yr&#x27;, &#x27;Final Energy|Industry|Cement|Efficient dry feed rotary kiln + On-site CCS|Natural Gas&#x27;: &#x27;EJ/yr&#x27;, &#x27;Final Energy|Industry|Cement|Efficient dry feed rotary kiln + On-site CCS|Oil&#x27;: &#x27;EJ/yr&#x27;, &#x27;Final Energy|Industry|Cement|Efficient dry feed rotary kiln + On-site CCS|Secondary Heat&#x27;: &#x27;EJ/yr&#x27;, &#x27;Final Energy|Industry|Cement|Efficient dry feed rotary kiln + On-site CCS|Traditional Biomass&#x27;: &#x27;EJ/yr&#x27;, &#x27;Final Energy|Industry|Cement|Efficient dry feed rotary kiln + Oxy-combustion CCS|Coal&#x27;: &#x27;EJ/yr&#x27;, &#x27;Final Energy|Industry|Cement|Efficient dry feed rotary kiln + Oxy-combustion CCS|Electricity&#x27;: &#x27;EJ/yr&#x27;, &#x27;Final Energy|Industry|Cement|Efficient dry feed rotary kiln + Oxy-combustion CCS|Hydrogen&#x27;: &#x27;EJ/yr&#x27;, &#x27;Final Energy|Industry|Cement|Efficient dry feed rotary kiln + Oxy-combustion CCS|Modern Biomass&#x27;: &#x27;EJ/yr&#x27;, &#x27;Final Energy|Industry|Cement|Efficient dry feed rotary kiln + Oxy-combustion CCS|Natural Gas&#x27;: &#x27;EJ/yr&#x27;, &#x27;Final Energy|Industry|Cement|Efficient dry feed rotary kiln + Oxy-combustion CCS|Oil&#x27;: &#x27;EJ/yr&#x27;, &#x27;Final Energy|Industry|Cement|Efficient dry feed rotary kiln + Oxy-combustion CCS|Secondary Heat&#x27;: &#x27;EJ/yr&#x27;, &#x27;Final Energy|Industry|Cement|Efficient dry feed rotary kiln + Oxy-combustion CCS|Traditional Biomass&#x27;: &#x27;EJ/yr&#x27;, &#x27;Final Energy|Industry|Cement|Efficient dry feed rotary kiln|Coal&#x27;: &#x27;EJ/yr&#x27;, &#x27;Final Energy|Industry|Cement|Efficient dry feed rotary kiln|Electricity&#x27;: &#x27;EJ/yr&#x27;, &#x27;Final Energy|Industry|Cement|Efficient dry feed rotary kiln|Hydrogen&#x27;: &#x27;EJ/yr&#x27;, &#x27;Final Energy|Industry|Cement|Efficient dry feed rotary kiln|Modern Biomass&#x27;: &#x27;EJ/yr&#x27;, &#x27;Final Energy|Industry|Cement|Efficient dry feed rotary kiln|Natural Gas&#x27;: &#x27;EJ/yr&#x27;, &#x27;Final Energy|Industry|Cement|Efficient dry feed rotary kiln|Oil&#x27;: &#x27;EJ/yr&#x27;, &#x27;Final Energy|Industry|Cement|Efficient dry feed rotary kiln|Secondary Heat&#x27;: &#x27;EJ/yr&#x27;, &#x27;Final Energy|Industry|Cement|Efficient dry feed rotary kiln|Traditional Biomass&#x27;: &#x27;EJ/yr&#x27;, &#x27;Final Energy|Industry|Chemicals&#x27;: &#x27;EJ/yr&#x27;, &#x27;Final Energy|Industry|Chemicals|Ammonia|Electricity&#x27;: &#x27;EJ/yr&#x27;, &#x27;Final Energy|Industry|Chemicals|Ammonia|Gases&#x27;: &#x27;EJ/yr&#x27;, &#x27;Final Energy|Industry|Chemicals|Ammonia|Gases|Fossil&#x27;: &#x27;EJ/yr&#x27;, &#x27;Final Energy|Industry|Chemicals|Ammonia|Liquids&#x27;: &#x27;EJ/yr&#x27;, &#x27;Final Energy|Industry|Chemicals|Ammonia|Liquids|Biomass&#x27;: &#x27;EJ/yr&#x27;, &#x27;Final Energy|Industry|Chemicals|Ammonia|Liquids|Fossil&#x27;: &#x27;EJ/yr&#x27;, &#x27;Final Energy|Industry|Chemicals|Ammonia|Other&#x27;: &#x27;EJ/yr&#x27;, &#x27;Final Energy|Industry|Chemicals|Ammonia|Solids&#x27;: &#x27;EJ/yr&#x27;, &#x27;Final Energy|Industry|Chemicals|Ammonia|Solids|Biomass&#x27;: &#x27;EJ/yr&#x27;, &#x27;Final Energy|Industry|Chemicals|Ammonia|Solids|Fossil&#x27;: &#x27;EJ/yr&#x27;, &#x27;Final Energy|Industry|Chemicals|Electricity&#x27;: &#x27;EJ/yr&#x27;, &#x27;Final Energy|Industry|Chemicals|Gases&#x27;: &#x27;EJ/yr&#x27;, &#x27;Final Energy|Industry|Chemicals|Gases|Fossil&#x27;: &#x27;EJ/yr&#x27;, &#x27;Final Energy|Industry|Chemicals|Heat&#x27;: &#x27;EJ/yr&#x27;, &#x27;Final Energy|Industry|Chemicals|Heavy Refinery Products|Electricity&#x27;: &#x27;EJ/yr&#x27;, &#x27;Final Energy|Industry|Chemicals|Heavy Refinery Products|Gases&#x27;: &#x27;EJ/yr&#x27;, &#x27;Final Energy|Industry|Chemicals|Heavy Refinery Products|Gases|Fossil&#x27;: &#x27;EJ/yr&#x27;, &#x27;Final Energy|Industry|Chemicals|Heavy Refinery Products|Liquids&#x27;: &#x27;EJ/yr&#x27;, &#x27;Final Energy|Industry|Chemicals|Heavy Refinery Products|Liquids|Biomass&#x27;: &#x27;EJ/yr&#x27;, &#x27;Final Energy|Industry|Chemicals|Heavy Refinery Products|Liquids|Fossil&#x27;: &#x27;EJ/yr&#x27;, &#x27;Final Energy|Industry|Chemicals|Heavy Refinery Products|Solids&#x27;: &#x27;EJ/yr&#x27;, &#x27;Final Energy|Industry|Chemicals|Heavy Refinery Products|Solids|Biomass&#x27;: &#x27;EJ/yr&#x27;, &#x27;Final Energy|Industry|Chemicals|Heavy Refinery Products|Solids|Fossil&#x27;: &#x27;EJ/yr&#x27;, &#x27;Final Energy|Industry|Chemicals|High-Value Chemicals|Electricity&#x27;: &#x27;EJ/yr&#x27;, &#x27;Final Energy|Industry|Chemicals|High-Value Chemicals|Gases&#x27;: &#x27;EJ/yr&#x27;, &#x27;Final Energy|Industry|Chemicals|High-Value Chemicals|Gases|Fossil&#x27;: &#x27;EJ/yr&#x27;, &#x27;Final Energy|Industry|Chemicals|High-Value Chemicals|Liquids&#x27;: &#x27;EJ/yr&#x27;, &#x27;Final Energy|Industry|Chemicals|High-Value Chemicals|Liquids|Biomass&#x27;: &#x27;EJ/yr&#x27;, &#x27;Final Energy|Industry|Chemicals|High-Value Chemicals|Liquids|Fossil&#x27;: &#x27;EJ/yr&#x27;, &#x27;Final Energy|Industry|Chemicals|High-Value Chemicals|Solids&#x27;: &#x27;EJ/yr&#x27;, &#x27;Final Energy|Industry|Chemicals|High-Value Chemicals|Solids|Biomass&#x27;: &#x27;EJ/yr&#x27;, &#x27;Final Energy|Industry|Chemicals|High-Value Chemicals|Solids|Fossil&#x27;: &#x27;EJ/yr&#x27;, &#x27;Final Energy|Industry|Chemicals|Hydrogen&#x27;: &#x27;EJ/yr&#x27;, &#x27;Final Energy|Industry|Chemicals|Liquids&#x27;: &#x27;EJ/yr&#x27;, &#x27;Final Energy|Industry|Chemicals|Liquids|Biomass&#x27;: &#x27;EJ/yr&#x27;, &#x27;Final Energy|Industry|Chemicals|Liquids|Fossil&#x27;: &#x27;EJ/yr&#x27;, &#x27;Final Energy|Industry|Chemicals|Methanol|Electricity&#x27;: &#x27;EJ/yr&#x27;, &#x27;Final Energy|Industry|Chemicals|Methanol|Gases&#x27;: &#x27;EJ/yr&#x27;, &#x27;Final Energy|Industry|Chemicals|Methanol|Gases|Fossil&#x27;: &#x27;EJ/yr&#x27;, &#x27;Final Energy|Industry|Chemicals|Methanol|Liquids&#x27;: &#x27;EJ/yr&#x27;, &#x27;Final Energy|Industry|Chemicals|Methanol|Liquids|Biomass&#x27;: &#x27;EJ/yr&#x27;, &#x27;Final Energy|Industry|Chemicals|Methanol|Liquids|Fossil&#x27;: &#x27;EJ/yr&#x27;, &#x27;Final Energy|Industry|Chemicals|Methanol|Solids&#x27;: &#x27;EJ/yr&#x27;, &#x27;Final Energy|Industry|Chemicals|Methanol|Solids|Biomass&#x27;: &#x27;EJ/yr&#x27;, &#x27;Final Energy|Industry|Chemicals|Methanol|Solids|Fossil&#x27;: &#x27;EJ/yr&#x27;, &#x27;Final Energy|Industry|Chemicals|Solids&#x27;: &#x27;EJ/yr&#x27;, &#x27;Final Energy|Industry|Chemicals|Solids|Biomass&#x27;: &#x27;EJ/yr&#x27;, &#x27;Final Energy|Industry|Chemicals|Solids|Fossil&#x27;: &#x27;EJ/yr&#x27;, &#x27;Final Energy|Industry|Fertilizer production&#x27;: &#x27;EJ/yr&#x27;, &#x27;Final Energy|Industry|Fertilizer production|Electricity&#x27;: &#x27;EJ/yr&#x27;, &#x27;Final Energy|Industry|Fertilizer production|Gases&#x27;: &#x27;EJ/yr&#x27;, &#x27;Final Energy|Industry|Fertilizer production|Gases|Fossil&#x27;: &#x27;EJ/yr&#x27;, &#x27;Final Energy|Industry|Fertilizer production|Heat&#x27;: &#x27;EJ/yr&#x27;, &#x27;Final Energy|Industry|Fertilizer production|Hydrogen&#x27;: &#x27;EJ/yr&#x27;, &#x27;Final Energy|Industry|Fertilizer production|Liquids&#x27;: &#x27;EJ/yr&#x27;, &#x27;Final Energy|Industry|Fertilizer production|Liquids|Fossil&#x27;: &#x27;EJ/yr&#x27;, &#x27;Final Energy|Industry|Fertilizer production|Solids&#x27;: &#x27;EJ/yr&#x27;, &#x27;Final Energy|Industry|Fertilizer production|Solids|Biomass&#x27;: &#x27;EJ/yr&#x27;, &#x27;Final Energy|Industry|Fertilizer production|Solids|Fossil&#x27;: &#x27;EJ/yr&#x27;, &#x27;Final Energy|Industry|Food Processing&#x27;: &#x27;EJ/yr&#x27;, &#x27;Final Energy|Industry|Food Processing|Electricity&#x27;: &#x27;EJ/yr&#x27;, &#x27;Final Energy|Industry|Food Processing|Gases&#x27;: &#x27;EJ/yr&#x27;, &#x27;Final Energy|Industry|Food Processing|Gases|Fossil&#x27;: &#x27;EJ/yr&#x27;, &#x27;Final Energy|Industry|Food Processing|Heat&#x27;: &#x27;EJ/yr&#x27;, &#x27;Final Energy|Industry|Food Processing|Hydrogen&#x27;: &#x27;EJ/yr&#x27;, &#x27;Final Energy|Industry|Food Processing|Liquids&#x27;: &#x27;EJ/yr&#x27;, &#x27;Final Energy|Industry|Food Processing|Liquids|Fossil&#x27;: &#x27;EJ/yr&#x27;, &#x27;Final Energy|Industry|Food Processing|Solids&#x27;: &#x27;EJ/yr&#x27;, &#x27;Final Energy|Industry|Food Processing|Solids|Biomass&#x27;: &#x27;EJ/yr&#x27;, &#x27;Final Energy|Industry|Food Processing|Solids|Fossil&#x27;: &#x27;EJ/yr&#x27;, &#x27;Final Energy|Industry|Iron and Steel&#x27;: &#x27;EJ/yr&#x27;, &#x27;Final Energy|Industry|Iron and Steel|BF/ BOF Standard + CCS|Coal&#x27;: &#x27;PJ/yr&#x27;, &#x27;Final Energy|Industry|Iron and Steel|BF/ BOF Standard + CCS|Electricity&#x27;: &#x27;PJ/yr&#x27;, &#x27;Final Energy|Industry|Iron and Steel|BF/ BOF Standard + CCS|Hydrogen&#x27;: &#x27;PJ/yr&#x27;, &#x27;Final Energy|Industry|Iron and Steel|BF/ BOF Standard + CCS|Modern Biomass&#x27;: &#x27;PJ/yr&#x27;, &#x27;Final Energy|Industry|Iron and Steel|BF/ BOF Standard + CCS|Natural Gas&#x27;: &#x27;PJ/yr&#x27;, &#x27;Final Energy|Industry|Iron and Steel|BF/ BOF Standard + CCS|Oil&#x27;: &#x27;PJ/yr&#x27;, &#x27;Final Energy|Industry|Iron and Steel|BF/ BOF Standard + CCS|Secondary Heat&#x27;: &#x27;PJ/yr&#x27;, &#x27;Final Energy|Industry|Iron and Steel|BF/ BOF Standard + CCS|Traditional Biomass&#x27;: &#x27;PJ/yr&#x27;, &#x27;Final Energy|Industry|Iron and Steel|BF/BOF Modernized|Coal&#x27;: &#x27;PJ/yr&#x27;, &#x27;Final Energy|Industry|Iron and Steel|BF/BOF Modernized|Electricity&#x27;: &#x27;PJ/yr&#x27;, &#x27;Final Energy|Industry|Iron and Steel|BF/BOF Modernized|Hydrogen&#x27;: &#x27;PJ/yr&#x27;, &#x27;Final Energy|Industry|Iron and Steel|BF/BOF Modernized|Modern Biomass&#x27;: &#x27;PJ/yr&#x27;, &#x27;Final Energy|Industry|Iron and Steel|BF/BOF Modernized|Natural Gas&#x27;: &#x27;PJ/yr&#x27;, &#x27;Final Energy|Industry|Iron and Steel|BF/BOF Modernized|Oil&#x27;: &#x27;PJ/yr&#x27;, &#x27;Final Energy|Industry|Iron and Steel|BF/BOF Modernized|Secondary Heat&#x27;: &#x27;PJ/yr&#x27;, &#x27;Final Energy|Industry|Iron and Steel|BF/BOF Modernized|Traditional Biomass&#x27;: &#x27;PJ/yr&#x27;, &#x27;Final Energy|Industry|Iron and Steel|BF/BOF Standard|Coal&#x27;: &#x27;PJ/yr&#x27;, &#x27;Final Energy|Industry|Iron and Steel|BF/BOF Standard|Electricity&#x27;: &#x27;PJ/yr&#x27;, &#x27;Final Energy|Industry|Iron and Steel|BF/BOF Standard|Hydrogen&#x27;: &#x27;PJ/yr&#x27;, &#x27;Final Energy|Industry|Iron and Steel|BF/BOF Standard|Modern Biomass&#x27;: &#x27;PJ/yr&#x27;, &#x27;Final Energy|Industry|Iron and Steel|BF/BOF Standard|Natural Gas&#x27;: &#x27;PJ/yr&#x27;, &#x27;Final Energy|Industry|Iron and Steel|BF/BOF Standard|Oil&#x27;: &#x27;PJ/yr&#x27;, &#x27;Final Energy|Industry|Iron and Steel|BF/BOF Standard|Secondary Heat&#x27;: &#x27;PJ/yr&#x27;, &#x27;Final Energy|Industry|Iron and Steel|BF/BOF Standard|Traditional Biomass&#x27;: &#x27;PJ/yr&#x27;, &#x27;Final Energy|Industry|Iron and Steel|Cokes production&#x27;: &#x27;EJ/yr&#x27;, &#x27;Final Energy|Industry|Iron and Steel|DRI EAF + CCS|Coal&#x27;: &#x27;PJ/yr&#x27;, &#x27;Final Energy|Industry|Iron and Steel|DRI EAF + CCS|Electricity&#x27;: &#x27;PJ/yr&#x27;, &#x27;Final Energy|Industry|Iron and Steel|DRI EAF + CCS|Hydrogen&#x27;: &#x27;PJ/yr&#x27;, &#x27;Final Energy|Industry|Iron and Steel|DRI EAF + CCS|Modern Biomass&#x27;: &#x27;PJ/yr&#x27;, &#x27;Final Energy|Industry|Iron and Steel|DRI EAF + CCS|Natural Gas&#x27;: &#x27;PJ/yr&#x27;, &#x27;Final Energy|Industry|Iron and Steel|DRI EAF + CCS|Oil&#x27;: &#x27;PJ/yr&#x27;, &#x27;Final Energy|Industry|Iron and Steel|DRI EAF + CCS|Secondary Heat&#x27;: &#x27;PJ/yr&#x27;, &#x27;Final Energy|Industry|Iron and Steel|DRI EAF + CCS|Traditional Biomass&#x27;: &#x27;PJ/yr&#x27;, &#x27;Final Energy|Industry|Iron and Steel|DRI EAF|Coal&#x27;: &#x27;PJ/yr&#x27;, &#x27;Final Energy|Industry|Iron and Steel|DRI EAF|Electricity&#x27;: &#x27;PJ/yr&#x27;, &#x27;Final Energy|Industry|Iron and Steel|DRI EAF|Hydrogen&#x27;: &#x27;PJ/yr&#x27;, &#x27;Final Energy|Industry|Iron and Steel|DRI EAF|Modern Biomass&#x27;: &#x27;PJ/yr&#x27;, &#x27;Final Energy|Industry|Iron and Steel|DRI EAF|Natural Gas&#x27;: &#x27;PJ/yr&#x27;, &#x27;Final Energy|Industry|Iron and Steel|DRI EAF|Oil&#x27;: &#x27;PJ/yr&#x27;, &#x27;Final Energy|Industry|Iron and Steel|DRI EAF|Secondary Heat&#x27;: &#x27;PJ/yr&#x27;, &#x27;Final Energy|Industry|Iron and Steel|DRI EAF|Traditional Biomass&#x27;: &#x27;PJ/yr&#x27;, &#x27;Final Energy|Industry|Iron and Steel|EAF scrap|Coal&#x27;: &#x27;PJ/yr&#x27;, &#x27;Final Energy|Industry|Iron and Steel|EAF scrap|Electricity&#x27;: &#x27;PJ/yr&#x27;, &#x27;Final Energy|Industry|Iron and Steel|EAF scrap|Hydrogen&#x27;: &#x27;PJ/yr&#x27;, &#x27;Final Energy|Industry|Iron and Steel|EAF scrap|Modern Biomass&#x27;: &#x27;PJ/yr&#x27;, &#x27;Final Energy|Industry|Iron and Steel|EAF scrap|Natural Gas&#x27;: &#x27;PJ/yr&#x27;, &#x27;Final Energy|Industry|Iron and Steel|EAF scrap|Oil&#x27;: &#x27;PJ/yr&#x27;, &#x27;Final Energy|Industry|Iron and Steel|EAF scrap|Secondary Heat&#x27;: &#x27;PJ/yr&#x27;, &#x27;Final Energy|Industry|Iron and Steel|EAF scrap|Traditional Biomass&#x27;: &#x27;PJ/yr&#x27;, &#x27;Final Energy|Industry|Iron and Steel|Electricity&#x27;: &#x27;EJ/yr&#x27;, &#x27;Final Energy|Industry|Iron and Steel|Electrowinning/EAF|Coal&#x27;: &#x27;PJ/yr&#x27;, &#x27;Final Energy|Industry|Iron and Steel|Electrowinning/EAF|Electricity&#x27;: &#x27;PJ/yr&#x27;, &#x27;Final Energy|Industry|Iron and Steel|Electrowinning/EAF|Hydrogen&#x27;: &#x27;PJ/yr&#x27;, &#x27;Final Energy|Industry|Iron and Steel|Electrowinning/EAF|Modern Biomass&#x27;: &#x27;PJ/yr&#x27;, &#x27;Final Energy|Industry|Iron and Steel|Electrowinning/EAF|Natural Gas&#x27;: &#x27;PJ/yr&#x27;, &#x27;Final Energy|Industry|Iron and Steel|Electrowinning/EAF|Oil&#x27;: &#x27;PJ/yr&#x27;, &#x27;Final Energy|Industry|Iron and Steel|Electrowinning/EAF|Secondary Heat&#x27;: &#x27;PJ/yr&#x27;, &#x27;Final Energy|Industry|Iron and Steel|Electrowinning/EAF|Traditional Biomass&#x27;: &#x27;PJ/yr&#x27;, &#x27;Final Energy|Industry|Iron and Steel|Gases&#x27;: &#x27;EJ/yr&#x27;, &#x27;Final Energy|Industry|Iron and Steel|Gases|Fossil&#x27;: &#x27;EJ/yr&#x27;, &#x27;Final Energy|Industry|Iron and Steel|H-DRI/EAF|Coal&#x27;: &#x27;PJ/yr&#x27;, &#x27;Final Energy|Industry|Iron and Steel|H-DRI/EAF|Electricity&#x27;: &#x27;PJ/yr&#x27;, &#x27;Final Energy|Industry|Iron and Steel|H-DRI/EAF|Hydrogen&#x27;: &#x27;PJ/yr&#x27;, &#x27;Final Energy|Industry|Iron and Steel|H-DRI/EAF|Modern Biomass&#x27;: &#x27;PJ/yr&#x27;, &#x27;Final Energy|Industry|Iron and Steel|H-DRI/EAF|Natural Gas&#x27;: &#x27;PJ/yr&#x27;, &#x27;Final Energy|Industry|Iron and Steel|H-DRI/EAF|Oil&#x27;: &#x27;PJ/yr&#x27;, &#x27;Final Energy|Industry|Iron and Steel|H-DRI/EAF|Secondary Heat&#x27;: &#x27;PJ/yr&#x27;, &#x27;Final Energy|Industry|Iron and Steel|H-DRI/EAF|Traditional Biomass&#x27;: &#x27;PJ/yr&#x27;, &#x27;Final Energy|Industry|Iron and Steel|Heat&#x27;: &#x27;EJ/yr&#x27;, &#x27;Final Energy|Industry|Iron and Steel|Hydrogen&#x27;: &#x27;EJ/yr&#x27;, &#x27;Final Energy|Industry|Iron and Steel|Liquids&#x27;: &#x27;EJ/yr&#x27;, &#x27;Final Energy|Industry|Iron and Steel|Liquids|Fossil&#x27;: &#x27;EJ/yr&#x27;, &#x27;Final Energy|Industry|Iron and Steel|SR/BOF + CCS|Coal&#x27;: &#x27;PJ/yr&#x27;, &#x27;Final Energy|Industry|Iron and Steel|SR/BOF + CCS|Electricity&#x27;: &#x27;PJ/yr&#x27;, &#x27;Final Energy|Industry|Iron and Steel|SR/BOF + CCS|Hydrogen&#x27;: &#x27;PJ/yr&#x27;, &#x27;Final Energy|Industry|Iron and Steel|SR/BOF + CCS|Modern Biomass&#x27;: &#x27;PJ/yr&#x27;, &#x27;Final Energy|Industry|Iron and Steel|SR/BOF + CCS|Natural Gas&#x27;: &#x27;PJ/yr&#x27;, &#x27;Final Energy|Industry|Iron and Steel|SR/BOF + CCS|Oil&#x27;: &#x27;PJ/yr&#x27;, &#x27;Final Energy|Industry|Iron and Steel|SR/BOF + CCS|Secondary Heat&#x27;: &#x27;PJ/yr&#x27;, &#x27;Final Energy|Industry|Iron and Steel|SR/BOF + CCS|Traditional Biomass&#x27;: &#x27;PJ/yr&#x27;, &#x27;Final Energy|Industry|Iron and Steel|SR/BOF|Coal&#x27;: &#x27;PJ/yr&#x27;, &#x27;Final Energy|Industry|Iron and Steel|SR/BOF|Electricity&#x27;: &#x27;PJ/yr&#x27;, &#x27;Final Energy|Industry|Iron and Steel|SR/BOF|Hydrogen&#x27;: &#x27;PJ/yr&#x27;, &#x27;Final Energy|Industry|Iron and Steel|SR/BOF|Modern Biomass&#x27;: &#x27;PJ/yr&#x27;, &#x27;Final Energy|Industry|Iron and Steel|SR/BOF|Natural Gas&#x27;: &#x27;PJ/yr&#x27;, &#x27;Final Energy|Industry|Iron and Steel|SR/BOF|Oil&#x27;: &#x27;PJ/yr&#x27;, &#x27;Final Energy|Industry|Iron and Steel|SR/BOF|Secondary Heat&#x27;: &#x27;PJ/yr&#x27;, &#x27;Final Energy|Industry|Iron and Steel|SR/BOF|Traditional Biomass&#x27;: &#x27;PJ/yr&#x27;, &#x27;Final Energy|Industry|Iron and Steel|Solids&#x27;: &#x27;EJ/yr&#x27;, &#x27;Final Energy|Industry|Iron and Steel|Solids|Biomass&#x27;: &#x27;EJ/yr&#x27;, &#x27;Final Energy|Industry|Iron and Steel|Solids|Fossil&#x27;: &#x27;EJ/yr&#x27;, &#x27;Final Energy|Industry|Iron and Steel|TGR BF/BOF BAT + CCS|Coal&#x27;: &#x27;PJ/yr&#x27;, &#x27;Final Energy|Industry|Iron and Steel|TGR BF/BOF BAT + CCS|Electricity&#x27;: &#x27;PJ/yr&#x27;, &#x27;Final Energy|Industry|Iron and Steel|TGR BF/BOF BAT + CCS|Hydrogen&#x27;: &#x27;PJ/yr&#x27;, &#x27;Final Energy|Industry|Iron and Steel|TGR BF/BOF BAT + CCS|Modern Biomass&#x27;: &#x27;PJ/yr&#x27;, &#x27;Final Energy|Industry|Iron and Steel|TGR BF/BOF BAT + CCS|Natural Gas&#x27;: &#x27;PJ/yr&#x27;, &#x27;Final Energy|Industry|Iron and Steel|TGR BF/BOF BAT + CCS|Oil&#x27;: &#x27;PJ/yr&#x27;, &#x27;Final Energy|Industry|Iron and Steel|TGR BF/BOF BAT + CCS|Secondary Heat&#x27;: &#x27;PJ/yr&#x27;, &#x27;Final Energy|Industry|Iron and Steel|TGR BF/BOF BAT + CCS|Traditional Biomass&#x27;: &#x27;PJ/yr&#x27;, &#x27;Final Energy|Industry|Iron and Steel|TGR BF/BOF BAT|Coal&#x27;: &#x27;PJ/yr&#x27;, &#x27;Final Energy|Industry|Iron and Steel|TGR BF/BOF BAT|Electricity&#x27;: &#x27;PJ/yr&#x27;, &#x27;Final Energy|Industry|Iron and Steel|TGR BF/BOF BAT|Hydrogen&#x27;: &#x27;PJ/yr&#x27;, &#x27;Final Energy|Industry|Iron and Steel|TGR BF/BOF BAT|Modern Biomass&#x27;: &#x27;PJ/yr&#x27;, &#x27;Final Energy|Industry|Iron and Steel|TGR BF/BOF BAT|Natural Gas&#x27;: &#x27;PJ/yr&#x27;, &#x27;Final Energy|Industry|Iron and Steel|TGR BF/BOF BAT|Oil&#x27;: &#x27;PJ/yr&#x27;, &#x27;Final Energy|Industry|Iron and Steel|TGR BF/BOF BAT|Secondary Heat&#x27;: &#x27;PJ/yr&#x27;, &#x27;Final Energy|Industry|Iron and Steel|TGR BF/BOF BAT|Traditional Biomass&#x27;: &#x27;PJ/yr&#x27;, &#x27;Final Energy|Industry|Iron and Steel|TGR BF/BOF|Coal&#x27;: &#x27;PJ/yr&#x27;, &#x27;Final Energy|Industry|Iron and Steel|TGR BF/BOF|Electricity&#x27;: &#x27;PJ/yr&#x27;, &#x27;Final Energy|Industry|Iron and Steel|TGR BF/BOF|Hydrogen&#x27;: &#x27;PJ/yr&#x27;, &#x27;Final Energy|Industry|Iron and Steel|TGR BF/BOF|Modern Biomass&#x27;: &#x27;PJ/yr&#x27;, &#x27;Final Energy|Industry|Iron and Steel|TGR BF/BOF|Natural Gas&#x27;: &#x27;PJ/yr&#x27;, &#x27;Final Energy|Industry|Iron and Steel|TGR BF/BOF|Oil&#x27;: &#x27;PJ/yr&#x27;, &#x27;Final Energy|Industry|Iron and Steel|TGR BF/BOF|Secondary Heat&#x27;: &#x27;PJ/yr&#x27;, &#x27;Final Energy|Industry|Iron and Steel|TGR BF/BOF|Traditional Biomass&#x27;: &#x27;PJ/yr&#x27;, &#x27;Final Energy|Industry|Non-Metallic Minerals&#x27;: &#x27;EJ/yr&#x27;, &#x27;Final Energy|Industry|Non-Metallic Minerals|Electricity&#x27;: &#x27;EJ/yr&#x27;, &#x27;Final Energy|Industry|Non-Metallic Minerals|Gases&#x27;: &#x27;EJ/yr&#x27;, &#x27;Final Energy|Industry|Non-Metallic Minerals|Gases|Fossil&#x27;: &#x27;EJ/yr&#x27;, &#x27;Final Energy|Industry|Non-Metallic Minerals|Heat&#x27;: &#x27;EJ/yr&#x27;, &#x27;Final Energy|Industry|Non-Metallic Minerals|Hydrogen&#x27;: &#x27;EJ/yr&#x27;, &#x27;Final Energy|Industry|Non-Metallic Minerals|Liquids&#x27;: &#x27;EJ/yr&#x27;, &#x27;Final Energy|Industry|Non-Metallic Minerals|Liquids|Fossil&#x27;: &#x27;EJ/yr&#x27;, &#x27;Final Energy|Industry|Non-Metallic Minerals|Solids&#x27;: &#x27;EJ/yr&#x27;, &#x27;Final Energy|Industry|Non-Metallic Minerals|Solids|Biomass&#x27;: &#x27;EJ/yr&#x27;, &#x27;Final Energy|Industry|Non-Metallic Minerals|Solids|Fossil&#x27;: &#x27;EJ/yr&#x27;, &#x27;Final Energy|Industry|Other Sector&#x27;: &#x27;EJ/yr&#x27;, &#x27;Final Energy|Industry|Other Sector|Electricity&#x27;: &#x27;EJ/yr&#x27;, &#x27;Final Energy|Industry|Other Sector|Gases&#x27;: &#x27;EJ/yr&#x27;, &#x27;Final Energy|Industry|Other Sector|Gases|Fossil&#x27;: &#x27;EJ/yr&#x27;, &#x27;Final Energy|Industry|Other Sector|Heat&#x27;: &#x27;EJ/yr&#x27;, &#x27;Final Energy|Industry|Other Sector|Hydrogen&#x27;: &#x27;EJ/yr&#x27;, &#x27;Final Energy|Industry|Other Sector|Liquids&#x27;: &#x27;EJ/yr&#x27;, &#x27;Final Energy|Industry|Other Sector|Liquids|Fossil&#x27;: &#x27;EJ/yr&#x27;, &#x27;Final Energy|Industry|Other Sector|Solids&#x27;: &#x27;EJ/yr&#x27;, &#x27;Final Energy|Industry|Other Sector|Solids|Biomass&#x27;: &#x27;EJ/yr&#x27;, &#x27;Final Energy|Industry|Other Sector|Solids|Fossil&#x27;: &#x27;EJ/yr&#x27;, &#x27;Final Energy|Industry|Pulp and Paper&#x27;: &#x27;EJ/yr&#x27;, &#x27;Final Energy|Industry|Pulp and Paper|Electricity&#x27;: &#x27;EJ/yr&#x27;, &#x27;Final Energy|Industry|Pulp and Paper|Gases&#x27;: &#x27;EJ/yr&#x27;, &#x27;Final Energy|Industry|Pulp and Paper|Gases|Fossil&#x27;: &#x27;EJ/yr&#x27;, &#x27;Final Energy|Industry|Pulp and Paper|Heat&#x27;: &#x27;EJ/yr&#x27;, &#x27;Final Energy|Industry|Pulp and Paper|Hydrogen&#x27;: &#x27;EJ/yr&#x27;, &#x27;Final Energy|Industry|Pulp and Paper|Liquids&#x27;: &#x27;EJ/yr&#x27;, &#x27;Final Energy|Industry|Pulp and Paper|Liquids|Fossil&#x27;: &#x27;EJ/yr&#x27;, &#x27;Final Energy|Industry|Pulp and Paper|Solids&#x27;: &#x27;EJ/yr&#x27;, &#x27;Final Energy|Industry|Pulp and Paper|Solids|Biomass&#x27;: &#x27;EJ/yr&#x27;, &#x27;Final Energy|Industry|Pulp and Paper|Solids|Fossil&#x27;: &#x27;EJ/yr&#x27;, &#x27;Final Energy|Residential|Cleaning Appliances|Electricity&#x27;: &#x27;EJ/yr&#x27;, &#x27;Final Energy|Residential|Cleaning Appliances|Electricity|R1&#x27;: &#x27;EJ/yr&#x27;, &#x27;Final Energy|Residential|Cleaning Appliances|Electricity|R2&#x27;: &#x27;EJ/yr&#x27;, &#x27;Final Energy|Residential|Cleaning Appliances|Electricity|R3&#x27;: &#x27;EJ/yr&#x27;, &#x27;Final Energy|Residential|Cleaning Appliances|Electricity|R4&#x27;: &#x27;EJ/yr&#x27;, &#x27;Final Energy|Residential|Cleaning Appliances|Electricity|R5&#x27;: &#x27;EJ/yr&#x27;, &#x27;Final Energy|Residential|Cleaning Appliances|Electricity|U1&#x27;: &#x27;EJ/yr&#x27;, &#x27;Final Energy|Residential|Cleaning Appliances|Electricity|U2&#x27;: &#x27;EJ/yr&#x27;, &#x27;Final Energy|Residential|Cleaning Appliances|Electricity|U3&#x27;: &#x27;EJ/yr&#x27;, &#x27;Final Energy|Residential|Cleaning Appliances|Electricity|U4&#x27;: &#x27;EJ/yr&#x27;, &#x27;Final Energy|Residential|Cleaning Appliances|Electricity|U5&#x27;: &#x27;EJ/yr&#x27;, &#x27;Final Energy|Residential|Cooking&#x27;: &#x27;EJ/yr&#x27;, &#x27;Final Energy|Residential|Cooking|Coal&#x27;: &#x27;EJ/yr&#x27;, &#x27;Final Energy|Residential|Cooking|Coal|R1&#x27;: &#x27;EJ/yr&#x27;, &#x27;Final Energy|Residential|Cooking|Coal|R2&#x27;: &#x27;EJ/yr&#x27;, &#x27;Final Energy|Residential|Cooking|Coal|R3&#x27;: &#x27;EJ/yr&#x27;, &#x27;Final Energy|Residential|Cooking|Coal|R4&#x27;: &#x27;EJ/yr&#x27;, &#x27;Final Energy|Residential|Cooking|Coal|R5&#x27;: &#x27;EJ/yr&#x27;, &#x27;Final Energy|Residential|Cooking|Coal|U1&#x27;: &#x27;EJ/yr&#x27;, &#x27;Final Energy|Residential|Cooking|Coal|U2&#x27;: &#x27;EJ/yr&#x27;, &#x27;Final Energy|Residential|Cooking|Coal|U3&#x27;: &#x27;EJ/yr&#x27;, &#x27;Final Energy|Residential|Cooking|Coal|U4&#x27;: &#x27;EJ/yr&#x27;, &#x27;Final Energy|Residential|Cooking|Coal|U5&#x27;: &#x27;EJ/yr&#x27;, &#x27;Final Energy|Residential|Cooking|Electricity&#x27;: &#x27;EJ/yr&#x27;, &#x27;Final Energy|Residential|Cooking|Electricity|R1&#x27;: &#x27;EJ/yr&#x27;, &#x27;Final Energy|Residential|Cooking|Electricity|R2&#x27;: &#x27;EJ/yr&#x27;, &#x27;Final Energy|Residential|Cooking|Electricity|R3&#x27;: &#x27;EJ/yr&#x27;, &#x27;Final Energy|Residential|Cooking|Electricity|R4&#x27;: &#x27;EJ/yr&#x27;, &#x27;Final Energy|Residential|Cooking|Electricity|R5&#x27;: &#x27;EJ/yr&#x27;, &#x27;Final Energy|Residential|Cooking|Electricity|U1&#x27;: &#x27;EJ/yr&#x27;, &#x27;Final Energy|Residential|Cooking|Electricity|U2&#x27;: &#x27;EJ/yr&#x27;, &#x27;Final Energy|Residential|Cooking|Electricity|U3&#x27;: &#x27;EJ/yr&#x27;, &#x27;Final Energy|Residential|Cooking|Electricity|U4&#x27;: &#x27;EJ/yr&#x27;, &#x27;Final Energy|Residential|Cooking|Electricity|U5&#x27;: &#x27;EJ/yr&#x27;, &#x27;Final Energy|Residential|Cooking|Liquid (fossil)&#x27;: &#x27;EJ/yr&#x27;, &#x27;Final Energy|Residential|Cooking|Liquid (fossil)|R1&#x27;: &#x27;EJ/yr&#x27;, &#x27;Final Energy|Residential|Cooking|Liquid (fossil)|R2&#x27;: &#x27;EJ/yr&#x27;, &#x27;Final Energy|Residential|Cooking|Liquid (fossil)|R3&#x27;: &#x27;EJ/yr&#x27;, &#x27;Final Energy|Residential|Cooking|Liquid (fossil)|R4&#x27;: &#x27;EJ/yr&#x27;, &#x27;Final Energy|Residential|Cooking|Liquid (fossil)|R5&#x27;: &#x27;EJ/yr&#x27;, &#x27;Final Energy|Residential|Cooking|Liquid (fossil)|U1&#x27;: &#x27;EJ/yr&#x27;, &#x27;Final Energy|Residential|Cooking|Liquid (fossil)|U2&#x27;: &#x27;EJ/yr&#x27;, &#x27;Final Energy|Residential|Cooking|Liquid (fossil)|U3&#x27;: &#x27;EJ/yr&#x27;, &#x27;Final Energy|Residential|Cooking|Liquid (fossil)|U4&#x27;: &#x27;EJ/yr&#x27;, &#x27;Final Energy|Residential|Cooking|Liquid (fossil)|U5&#x27;: &#x27;EJ/yr&#x27;, &#x27;Final Energy|Residential|Cooking|Modern Biomass&#x27;: &#x27;EJ/yr&#x27;, &#x27;Final Energy|Residential|Cooking|Modern Biomass|R1&#x27;: &#x27;EJ/yr&#x27;, &#x27;Final Energy|Residential|Cooking|Modern Biomass|R2&#x27;: &#x27;EJ/yr&#x27;, &#x27;Final Energy|Residential|Cooking|Modern Biomass|R3&#x27;: &#x27;EJ/yr&#x27;, &#x27;Final Energy|Residential|Cooking|Modern Biomass|R4&#x27;: &#x27;EJ/yr&#x27;, &#x27;Final Energy|Residential|Cooking|Modern Biomass|R5&#x27;: &#x27;EJ/yr&#x27;, &#x27;Final Energy|Residential|Cooking|Modern Biomass|U1&#x27;: &#x27;EJ/yr&#x27;, &#x27;Final Energy|Residential|Cooking|Modern Biomass|U2&#x27;: &#x27;EJ/yr&#x27;, &#x27;Final Energy|Residential|Cooking|Modern Biomass|U3&#x27;: &#x27;EJ/yr&#x27;, &#x27;Final Energy|Residential|Cooking|Modern Biomass|U4&#x27;: &#x27;EJ/yr&#x27;, &#x27;Final Energy|Residential|Cooking|Modern Biomass|U5&#x27;: &#x27;EJ/yr&#x27;, &#x27;Final Energy|Residential|Cooking|Natural Gas&#x27;: &#x27;EJ/yr&#x27;, &#x27;Final Energy|Residential|Cooking|Natural Gas|R1&#x27;: &#x27;EJ/yr&#x27;, &#x27;Final Energy|Residential|Cooking|Natural Gas|R2&#x27;: &#x27;EJ/yr&#x27;, &#x27;Final Energy|Residential|Cooking|Natural Gas|R3&#x27;: &#x27;EJ/yr&#x27;, &#x27;Final Energy|Residential|Cooking|Natural Gas|R4&#x27;: &#x27;EJ/yr&#x27;, &#x27;Final Energy|Residential|Cooking|Natural Gas|R5&#x27;: &#x27;EJ/yr&#x27;, &#x27;Final Energy|Residential|Cooking|Natural Gas|U1&#x27;: &#x27;EJ/yr&#x27;, &#x27;Final Energy|Residential|Cooking|Natural Gas|U2&#x27;: &#x27;EJ/yr&#x27;, &#x27;Final Energy|Residential|Cooking|Natural Gas|U3&#x27;: &#x27;EJ/yr&#x27;, &#x27;Final Energy|Residential|Cooking|Natural Gas|U4&#x27;: &#x27;EJ/yr&#x27;, &#x27;Final Energy|Residential|Cooking|Natural Gas|U5&#x27;: &#x27;EJ/yr&#x27;, &#x27;Final Energy|Residential|Cooking|Traditional Biomass&#x27;: &#x27;EJ/yr&#x27;, &#x27;Final Energy|Residential|Cooking|Traditional Biomass|R1&#x27;: &#x27;EJ/yr&#x27;, &#x27;Final Energy|Residential|Cooking|Traditional Biomass|R2&#x27;: &#x27;EJ/yr&#x27;, &#x27;Final Energy|Residential|Cooking|Traditional Biomass|R3&#x27;: &#x27;EJ/yr&#x27;, &#x27;Final Energy|Residential|Cooking|Traditional Biomass|R4&#x27;: &#x27;EJ/yr&#x27;, &#x27;Final Energy|Residential|Cooking|Traditional Biomass|R5&#x27;: &#x27;EJ/yr&#x27;, &#x27;Final Energy|Residential|Cooking|Traditional Biomass|U1&#x27;: &#x27;EJ/yr&#x27;, &#x27;Final Energy|Residential|Cooking|Traditional Biomass|U2&#x27;: &#x27;EJ/yr&#x27;, &#x27;Final Energy|Residential|Cooking|Traditional Biomass|U3&#x27;: &#x27;EJ/yr&#x27;, &#x27;Final Energy|Residential|Cooking|Traditional Biomass|U4&#x27;: &#x27;EJ/yr&#x27;, &#x27;Final Energy|Residential|Cooking|Traditional Biomass|U5&#x27;: &#x27;EJ/yr&#x27;, &#x27;Final Energy|Residential|Cooling Appliance|Electricity&#x27;: &#x27;EJ/yr&#x27;, &#x27;Final Energy|Residential|Cooling Appliance|Electricity|R1&#x27;: &#x27;EJ/yr&#x27;, &#x27;Final Energy|Residential|Cooling Appliance|Electricity|R2&#x27;: &#x27;EJ/yr&#x27;, &#x27;Final Energy|Residential|Cooling Appliance|Electricity|R3&#x27;: &#x27;EJ/yr&#x27;, &#x27;Final Energy|Residential|Cooling Appliance|Electricity|R4&#x27;: &#x27;EJ/yr&#x27;, &#x27;Final Energy|Residential|Cooling Appliance|Electricity|R5&#x27;: &#x27;EJ/yr&#x27;, &#x27;Final Energy|Residential|Cooling Appliance|Electricity|U1&#x27;: &#x27;EJ/yr&#x27;, &#x27;Final Energy|Residential|Cooling Appliance|Electricity|U2&#x27;: &#x27;EJ/yr&#x27;, &#x27;Final Energy|Residential|Cooling Appliance|Electricity|U3&#x27;: &#x27;EJ/yr&#x27;, &#x27;Final Energy|Residential|Cooling Appliance|Electricity|U4&#x27;: &#x27;EJ/yr&#x27;, &#x27;Final Energy|Residential|Cooling Appliance|Electricity|U5&#x27;: &#x27;EJ/yr&#x27;, &#x27;Final Energy|Residential|Refrigeration|Electricity&#x27;: &#x27;EJ/yr&#x27;, &#x27;Final Energy|Residential|Refrigeration|Electricity|R1&#x27;: &#x27;EJ/yr&#x27;, &#x27;Final Energy|Residential|Refrigeration|Electricity|R2&#x27;: &#x27;EJ/yr&#x27;, &#x27;Final Energy|Residential|Refrigeration|Electricity|R3&#x27;: &#x27;EJ/yr&#x27;, &#x27;Final Energy|Residential|Refrigeration|Electricity|R4&#x27;: &#x27;EJ/yr&#x27;, &#x27;Final Energy|Residential|Refrigeration|Electricity|R5&#x27;: &#x27;EJ/yr&#x27;, &#x27;Final Energy|Residential|Refrigeration|Electricity|U1&#x27;: &#x27;EJ/yr&#x27;, &#x27;Final Energy|Residential|Refrigeration|Electricity|U2&#x27;: &#x27;EJ/yr&#x27;, &#x27;Final Energy|Residential|Refrigeration|Electricity|U3&#x27;: &#x27;EJ/yr&#x27;, &#x27;Final Energy|Residential|Refrigeration|Electricity|U4&#x27;: &#x27;EJ/yr&#x27;, &#x27;Final Energy|Residential|Refrigeration|Electricity|U5&#x27;: &#x27;EJ/yr&#x27;, &#x27;Final Energy|Residential|Small Appliances|Electricity&#x27;: &#x27;EJ/yr&#x27;, &#x27;Final Energy|Residential|Small Appliances|Electricity|R1&#x27;: &#x27;EJ/yr&#x27;, &#x27;Final Energy|Residential|Small Appliances|Electricity|R2&#x27;: &#x27;EJ/yr&#x27;, &#x27;Final Energy|Residential|Small Appliances|Electricity|R3&#x27;: &#x27;EJ/yr&#x27;, &#x27;Final Energy|Residential|Small Appliances|Electricity|R4&#x27;: &#x27;EJ/yr&#x27;, &#x27;Final Energy|Residential|Small Appliances|Electricity|R5&#x27;: &#x27;EJ/yr&#x27;, &#x27;Final Energy|Residential|Small Appliances|Electricity|U1&#x27;: &#x27;EJ/yr&#x27;, &#x27;Final Energy|Residential|Small Appliances|Electricity|U2&#x27;: &#x27;EJ/yr&#x27;, &#x27;Final Energy|Residential|Small Appliances|Electricity|U3&#x27;: &#x27;EJ/yr&#x27;, &#x27;Final Energy|Residential|Small Appliances|Electricity|U4&#x27;: &#x27;EJ/yr&#x27;, &#x27;Final Energy|Residential|Small Appliances|Electricity|U5&#x27;: &#x27;EJ/yr&#x27;, &#x27;Final Energy|Residential|Space Heating&#x27;: &#x27;EJ/yr&#x27;, &#x27;Final Energy|Residential|Space Heating|Coal&#x27;: &#x27;EJ/yr&#x27;, &#x27;Final Energy|Residential|Space Heating|Coal|R1&#x27;: &#x27;EJ/yr&#x27;, &#x27;Final Energy|Residential|Space Heating|Coal|R2&#x27;: &#x27;EJ/yr&#x27;, &#x27;Final Energy|Residential|Space Heating|Coal|R3&#x27;: &#x27;EJ/yr&#x27;, &#x27;Final Energy|Residential|Space Heating|Coal|R4&#x27;: &#x27;EJ/yr&#x27;, &#x27;Final Energy|Residential|Space Heating|Coal|R5&#x27;: &#x27;EJ/yr&#x27;, &#x27;Final Energy|Residential|Space Heating|Coal|U1&#x27;: &#x27;EJ/yr&#x27;, &#x27;Final Energy|Residential|Space Heating|Coal|U2&#x27;: &#x27;EJ/yr&#x27;, &#x27;Final Energy|Residential|Space Heating|Coal|U3&#x27;: &#x27;EJ/yr&#x27;, &#x27;Final Energy|Residential|Space Heating|Coal|U4&#x27;: &#x27;EJ/yr&#x27;, &#x27;Final Energy|Residential|Space Heating|Coal|U5&#x27;: &#x27;EJ/yr&#x27;, &#x27;Final Energy|Residential|Space Heating|Electricity&#x27;: &#x27;EJ/yr&#x27;, &#x27;Final Energy|Residential|Space Heating|Electricity|R1&#x27;: &#x27;EJ/yr&#x27;, &#x27;Final Energy|Residential|Space Heating|Electricity|R2&#x27;: &#x27;EJ/yr&#x27;, &#x27;Final Energy|Residential|Space Heating|Electricity|R3&#x27;: &#x27;EJ/yr&#x27;, &#x27;Final Energy|Residential|Space Heating|Electricity|R4&#x27;: &#x27;EJ/yr&#x27;, &#x27;Final Energy|Residential|Space Heating|Electricity|R5&#x27;: &#x27;EJ/yr&#x27;, &#x27;Final Energy|Residential|Space Heating|Electricity|U1&#x27;: &#x27;EJ/yr&#x27;, &#x27;Final Energy|Residential|Space Heating|Electricity|U2&#x27;: &#x27;EJ/yr&#x27;, &#x27;Final Energy|Residential|Space Heating|Electricity|U3&#x27;: &#x27;EJ/yr&#x27;, &#x27;Final Energy|Residential|Space Heating|Electricity|U4&#x27;: &#x27;EJ/yr&#x27;, &#x27;Final Energy|Residential|Space Heating|Electricity|U5&#x27;: &#x27;EJ/yr&#x27;, &#x27;Final Energy|Residential|Space Heating|Heat&#x27;: &#x27;EJ/yr&#x27;, &#x27;Final Energy|Residential|Space Heating|Heat|R1&#x27;: &#x27;EJ/yr&#x27;, &#x27;Final Energy|Residential|Space Heating|Heat|R2&#x27;: &#x27;EJ/yr&#x27;, &#x27;Final Energy|Residential|Space Heating|Heat|R3&#x27;: &#x27;EJ/yr&#x27;, &#x27;Final Energy|Residential|Space Heating|Heat|R4&#x27;: &#x27;EJ/yr&#x27;, &#x27;Final Energy|Residential|Space Heating|Heat|R5&#x27;: &#x27;EJ/yr&#x27;, &#x27;Final Energy|Residential|Space Heating|Heat|U1&#x27;: &#x27;EJ/yr&#x27;, &#x27;Final Energy|Residential|Space Heating|Heat|U2&#x27;: &#x27;EJ/yr&#x27;, &#x27;Final Energy|Residential|Space Heating|Heat|U3&#x27;: &#x27;EJ/yr&#x27;, &#x27;Final Energy|Residential|Space Heating|Heat|U4&#x27;: &#x27;EJ/yr&#x27;, &#x27;Final Energy|Residential|Space Heating|Heat|U5&#x27;: &#x27;EJ/yr&#x27;, &#x27;Final Energy|Residential|Space Heating|Hydrogen&#x27;: &#x27;EJ/yr&#x27;, &#x27;Final Energy|Residential|Space Heating|Hydrogen|R1&#x27;: &#x27;EJ/yr&#x27;, &#x27;Final Energy|Residential|Space Heating|Hydrogen|R2&#x27;: &#x27;EJ/yr&#x27;, &#x27;Final Energy|Residential|Space Heating|Hydrogen|R3&#x27;: &#x27;EJ/yr&#x27;, &#x27;Final Energy|Residential|Space Heating|Hydrogen|R4&#x27;: &#x27;EJ/yr&#x27;, &#x27;Final Energy|Residential|Space Heating|Hydrogen|R5&#x27;: &#x27;EJ/yr&#x27;, &#x27;Final Energy|Residential|Space Heating|Hydrogen|U1&#x27;: &#x27;EJ/yr&#x27;, &#x27;Final Energy|Residential|Space Heating|Hydrogen|U2&#x27;: &#x27;EJ/yr&#x27;, &#x27;Final Energy|Residential|Space Heating|Hydrogen|U3&#x27;: &#x27;EJ/yr&#x27;, &#x27;Final Energy|Residential|Space Heating|Hydrogen|U4&#x27;: &#x27;EJ/yr&#x27;, &#x27;Final Energy|Residential|Space Heating|Hydrogen|U5&#x27;: &#x27;EJ/yr&#x27;, &#x27;Final Energy|Residential|Space Heating|Liquid (fossil)&#x27;: &#x27;EJ/yr&#x27;, &#x27;Final Energy|Residential|Space Heating|Liquid (fossil)|R1&#x27;: &#x27;EJ/yr&#x27;, &#x27;Final Energy|Residential|Space Heating|Liquid (fossil)|R2&#x27;: &#x27;EJ/yr&#x27;, &#x27;Final Energy|Residential|Space Heating|Liquid (fossil)|R3&#x27;: &#x27;EJ/yr&#x27;, &#x27;Final Energy|Residential|Space Heating|Liquid (fossil)|R4&#x27;: &#x27;EJ/yr&#x27;, &#x27;Final Energy|Residential|Space Heating|Liquid (fossil)|R5&#x27;: &#x27;EJ/yr&#x27;, &#x27;Final Energy|Residential|Space Heating|Liquid (fossil)|U1&#x27;: &#x27;EJ/yr&#x27;, &#x27;Final Energy|Residential|Space Heating|Liquid (fossil)|U2&#x27;: &#x27;EJ/yr&#x27;, &#x27;Final Energy|Residential|Space Heating|Liquid (fossil)|U3&#x27;: &#x27;EJ/yr&#x27;, &#x27;Final Energy|Residential|Space Heating|Liquid (fossil)|U4&#x27;: &#x27;EJ/yr&#x27;, &#x27;Final Energy|Residential|Space Heating|Liquid (fossil)|U5&#x27;: &#x27;EJ/yr&#x27;, &#x27;Final Energy|Residential|Space Heating|Modern Biomass&#x27;: &#x27;EJ/yr&#x27;, &#x27;Final Energy|Residential|Space Heating|Modern Biomass|R1&#x27;: &#x27;EJ/yr&#x27;, &#x27;Final Energy|Residential|Space Heating|Modern Biomass|R2&#x27;: &#x27;EJ/yr&#x27;, &#x27;Final Energy|Residential|Space Heating|Modern Biomass|R3&#x27;: &#x27;EJ/yr&#x27;, &#x27;Final Energy|Residential|Space Heating|Modern Biomass|R4&#x27;: &#x27;EJ/yr&#x27;, &#x27;Final Energy|Residential|Space Heating|Modern Biomass|R5&#x27;: &#x27;EJ/yr&#x27;, &#x27;Final Energy|Residential|Space Heating|Modern Biomass|U1&#x27;: &#x27;EJ/yr&#x27;, &#x27;Final Energy|Residential|Space Heating|Modern Biomass|U2&#x27;: &#x27;EJ/yr&#x27;, &#x27;Final Energy|Residential|Space Heating|Modern Biomass|U3&#x27;: &#x27;EJ/yr&#x27;, &#x27;Final Energy|Residential|Space Heating|Modern Biomass|U4&#x27;: &#x27;EJ/yr&#x27;, &#x27;Final Energy|Residential|Space Heating|Modern Biomass|U5&#x27;: &#x27;EJ/yr&#x27;, &#x27;Final Energy|Residential|Space Heating|Natural Gas&#x27;: &#x27;EJ/yr&#x27;, &#x27;Final Energy|Residential|Space Heating|Natural Gas|R1&#x27;: &#x27;EJ/yr&#x27;, &#x27;Final Energy|Residential|Space Heating|Natural Gas|R2&#x27;: &#x27;EJ/yr&#x27;, &#x27;Final Energy|Residential|Space Heating|Natural Gas|R3&#x27;: &#x27;EJ/yr&#x27;, &#x27;Final Energy|Residential|Space Heating|Natural Gas|R4&#x27;: &#x27;EJ/yr&#x27;, &#x27;Final Energy|Residential|Space Heating|Natural Gas|R5&#x27;: &#x27;EJ/yr&#x27;, &#x27;Final Energy|Residential|Space Heating|Natural Gas|U1&#x27;: &#x27;EJ/yr&#x27;, &#x27;Final Energy|Residential|Space Heating|Natural Gas|U2&#x27;: &#x27;EJ/yr&#x27;, &#x27;Final Energy|Residential|Space Heating|Natural Gas|U3&#x27;: &#x27;EJ/yr&#x27;, &#x27;Final Energy|Residential|Space Heating|Natural Gas|U4&#x27;: &#x27;EJ/yr&#x27;, &#x27;Final Energy|Residential|Space Heating|Natural Gas|U5&#x27;: &#x27;EJ/yr&#x27;, &#x27;Final Energy|Residential|Space Heating|Traditional Biomass&#x27;: &#x27;EJ/yr&#x27;, &#x27;Final Energy|Residential|Space Heating|Traditional Biomass|R1&#x27;: &#x27;EJ/yr&#x27;, &#x27;Final Energy|Residential|Space Heating|Traditional Biomass|R2&#x27;: &#x27;EJ/yr&#x27;, &#x27;Final Energy|Residential|Space Heating|Traditional Biomass|R3&#x27;: &#x27;EJ/yr&#x27;, &#x27;Final Energy|Residential|Space Heating|Traditional Biomass|R4&#x27;: &#x27;EJ/yr&#x27;, &#x27;Final Energy|Residential|Space Heating|Traditional Biomass|R5&#x27;: &#x27;EJ/yr&#x27;, &#x27;Final Energy|Residential|Space Heating|Traditional Biomass|U1&#x27;: &#x27;EJ/yr&#x27;, &#x27;Final Energy|Residential|Space Heating|Traditional Biomass|U2&#x27;: &#x27;EJ/yr&#x27;, &#x27;Final Energy|Residential|Space Heating|Traditional Biomass|U3&#x27;: &#x27;EJ/yr&#x27;, &#x27;Final Energy|Residential|Space Heating|Traditional Biomass|U4&#x27;: &#x27;EJ/yr&#x27;, &#x27;Final Energy|Residential|Space Heating|Traditional Biomass|U5&#x27;: &#x27;EJ/yr&#x27;, &#x27;Final Energy|Residential|Water Heating&#x27;: &#x27;EJ/yr&#x27;, &#x27;Final Energy|Residential|Water Heating|Coal&#x27;: &#x27;EJ/yr&#x27;, &#x27;Final Energy|Residential|Water Heating|Coal|R1&#x27;: &#x27;EJ/yr&#x27;, &#x27;Final Energy|Residential|Water Heating|Coal|R2&#x27;: &#x27;EJ/yr&#x27;, &#x27;Final Energy|Residential|Water Heating|Coal|R3&#x27;: &#x27;EJ/yr&#x27;, &#x27;Final Energy|Residential|Water Heating|Coal|R4&#x27;: &#x27;EJ/yr&#x27;, &#x27;Final Energy|Residential|Water Heating|Coal|R5&#x27;: &#x27;EJ/yr&#x27;, &#x27;Final Energy|Residential|Water Heating|Coal|U1&#x27;: &#x27;EJ/yr&#x27;, &#x27;Final Energy|Residential|Water Heating|Coal|U2&#x27;: &#x27;EJ/yr&#x27;, &#x27;Final Energy|Residential|Water Heating|Coal|U3&#x27;: &#x27;EJ/yr&#x27;, &#x27;Final Energy|Residential|Water Heating|Coal|U4&#x27;: &#x27;EJ/yr&#x27;, &#x27;Final Energy|Residential|Water Heating|Coal|U5&#x27;: &#x27;EJ/yr&#x27;, &#x27;Final Energy|Residential|Water Heating|Electricity&#x27;: &#x27;EJ/yr&#x27;, &#x27;Final Energy|Residential|Water Heating|Electricity|R1&#x27;: &#x27;EJ/yr&#x27;, &#x27;Final Energy|Residential|Water Heating|Electricity|R2&#x27;: &#x27;EJ/yr&#x27;, &#x27;Final Energy|Residential|Water Heating|Electricity|R3&#x27;: &#x27;EJ/yr&#x27;, &#x27;Final Energy|Residential|Water Heating|Electricity|R4&#x27;: &#x27;EJ/yr&#x27;, &#x27;Final Energy|Residential|Water Heating|Electricity|R5&#x27;: &#x27;EJ/yr&#x27;, &#x27;Final Energy|Residential|Water Heating|Electricity|U1&#x27;: &#x27;EJ/yr&#x27;, &#x27;Final Energy|Residential|Water Heating|Electricity|U2&#x27;: &#x27;EJ/yr&#x27;, &#x27;Final Energy|Residential|Water Heating|Electricity|U3&#x27;: &#x27;EJ/yr&#x27;, &#x27;Final Energy|Residential|Water Heating|Electricity|U4&#x27;: &#x27;EJ/yr&#x27;, &#x27;Final Energy|Residential|Water Heating|Electricity|U5&#x27;: &#x27;EJ/yr&#x27;, &#x27;Final Energy|Residential|Water Heating|Heat&#x27;: &#x27;EJ/yr&#x27;, &#x27;Final Energy|Residential|Water Heating|Heat|R1&#x27;: &#x27;EJ/yr&#x27;, &#x27;Final Energy|Residential|Water Heating|Heat|R2&#x27;: &#x27;EJ/yr&#x27;, &#x27;Final Energy|Residential|Water Heating|Heat|R3&#x27;: &#x27;EJ/yr&#x27;, &#x27;Final Energy|Residential|Water Heating|Heat|R4&#x27;: &#x27;EJ/yr&#x27;, &#x27;Final Energy|Residential|Water Heating|Heat|R5&#x27;: &#x27;EJ/yr&#x27;, &#x27;Final Energy|Residential|Water Heating|Heat|U1&#x27;: &#x27;EJ/yr&#x27;, &#x27;Final Energy|Residential|Water Heating|Heat|U2&#x27;: &#x27;EJ/yr&#x27;, &#x27;Final Energy|Residential|Water Heating|Heat|U3&#x27;: &#x27;EJ/yr&#x27;, &#x27;Final Energy|Residential|Water Heating|Heat|U4&#x27;: &#x27;EJ/yr&#x27;, &#x27;Final Energy|Residential|Water Heating|Heat|U5&#x27;: &#x27;EJ/yr&#x27;, &#x27;Final Energy|Residential|Water Heating|Hydrogen&#x27;: &#x27;EJ/yr&#x27;, &#x27;Final Energy|Residential|Water Heating|Hydrogen|R1&#x27;: &#x27;EJ/yr&#x27;, &#x27;Final Energy|Residential|Water Heating|Hydrogen|R2&#x27;: &#x27;EJ/yr&#x27;, &#x27;Final Energy|Residential|Water Heating|Hydrogen|R3&#x27;: &#x27;EJ/yr&#x27;, &#x27;Final Energy|Residential|Water Heating|Hydrogen|R4&#x27;: &#x27;EJ/yr&#x27;, &#x27;Final Energy|Residential|Water Heating|Hydrogen|R5&#x27;: &#x27;EJ/yr&#x27;, &#x27;Final Energy|Residential|Water Heating|Hydrogen|U1&#x27;: &#x27;EJ/yr&#x27;, &#x27;Final Energy|Residential|Water Heating|Hydrogen|U2&#x27;: &#x27;EJ/yr&#x27;, &#x27;Final Energy|Residential|Water Heating|Hydrogen|U3&#x27;: &#x27;EJ/yr&#x27;, &#x27;Final Energy|Residential|Water Heating|Hydrogen|U4&#x27;: &#x27;EJ/yr&#x27;, &#x27;Final Energy|Residential|Water Heating|Hydrogen|U5&#x27;: &#x27;EJ/yr&#x27;, &#x27;Final Energy|Residential|Water Heating|Liquid (fossil)&#x27;: &#x27;EJ/yr&#x27;, &#x27;Final Energy|Residential|Water Heating|Liquid (fossil)|R1&#x27;: &#x27;EJ/yr&#x27;, &#x27;Final Energy|Residential|Water Heating|Liquid (fossil)|R2&#x27;: &#x27;EJ/yr&#x27;, &#x27;Final Energy|Residential|Water Heating|Liquid (fossil)|R3&#x27;: &#x27;EJ/yr&#x27;, &#x27;Final Energy|Residential|Water Heating|Liquid (fossil)|R4&#x27;: &#x27;EJ/yr&#x27;, &#x27;Final Energy|Residential|Water Heating|Liquid (fossil)|R5&#x27;: &#x27;EJ/yr&#x27;, &#x27;Final Energy|Residential|Water Heating|Liquid (fossil)|U1&#x27;: &#x27;EJ/yr&#x27;, &#x27;Final Energy|Residential|Water Heating|Liquid (fossil)|U2&#x27;: &#x27;EJ/yr&#x27;, &#x27;Final Energy|Residential|Water Heating|Liquid (fossil)|U3&#x27;: &#x27;EJ/yr&#x27;, &#x27;Final Energy|Residential|Water Heating|Liquid (fossil)|U4&#x27;: &#x27;EJ/yr&#x27;, &#x27;Final Energy|Residential|Water Heating|Liquid (fossil)|U5&#x27;: &#x27;EJ/yr&#x27;, &#x27;Final Energy|Residential|Water Heating|Modern Biomass&#x27;: &#x27;EJ/yr&#x27;, &#x27;Final Energy|Residential|Water Heating|Modern Biomass|R1&#x27;: &#x27;EJ/yr&#x27;, &#x27;Final Energy|Residential|Water Heating|Modern Biomass|R2&#x27;: &#x27;EJ/yr&#x27;, &#x27;Final Energy|Residential|Water Heating|Modern Biomass|R3&#x27;: &#x27;EJ/yr&#x27;, &#x27;Final Energy|Residential|Water Heating|Modern Biomass|R4&#x27;: &#x27;EJ/yr&#x27;, &#x27;Final Energy|Residential|Water Heating|Modern Biomass|R5&#x27;: &#x27;EJ/yr&#x27;, &#x27;Final Energy|Residential|Water Heating|Modern Biomass|U1&#x27;: &#x27;EJ/yr&#x27;, &#x27;Final Energy|Residential|Water Heating|Modern Biomass|U2&#x27;: &#x27;EJ/yr&#x27;, &#x27;Final Energy|Residential|Water Heating|Modern Biomass|U3&#x27;: &#x27;EJ/yr&#x27;, &#x27;Final Energy|Residential|Water Heating|Modern Biomass|U4&#x27;: &#x27;EJ/yr&#x27;, &#x27;Final Energy|Residential|Water Heating|Modern Biomass|U5&#x27;: &#x27;EJ/yr&#x27;, &#x27;Final Energy|Residential|Water Heating|Natural Gas&#x27;: &#x27;EJ/yr&#x27;, &#x27;Final Energy|Residential|Water Heating|Natural Gas|R1&#x27;: &#x27;EJ/yr&#x27;, &#x27;Final Energy|Residential|Water Heating|Natural Gas|R2&#x27;: &#x27;EJ/yr&#x27;, &#x27;Final Energy|Residential|Water Heating|Natural Gas|R3&#x27;: &#x27;EJ/yr&#x27;, &#x27;Final Energy|Residential|Water Heating|Natural Gas|R4&#x27;: &#x27;EJ/yr&#x27;, &#x27;Final Energy|Residential|Water Heating|Natural Gas|R5&#x27;: &#x27;EJ/yr&#x27;, &#x27;Final Energy|Residential|Water Heating|Natural Gas|U1&#x27;: &#x27;EJ/yr&#x27;, &#x27;Final Energy|Residential|Water Heating|Natural Gas|U2&#x27;: &#x27;EJ/yr&#x27;, &#x27;Final Energy|Residential|Water Heating|Natural Gas|U3&#x27;: &#x27;EJ/yr&#x27;, &#x27;Final Energy|Residential|Water Heating|Natural Gas|U4&#x27;: &#x27;EJ/yr&#x27;, &#x27;Final Energy|Residential|Water Heating|Natural Gas|U5&#x27;: &#x27;EJ/yr&#x27;, &#x27;Final Energy|Residential|Water Heating|Traditional Biomass&#x27;: &#x27;EJ/yr&#x27;, &#x27;Final Energy|Residential|Water Heating|Traditional Biomass|R1&#x27;: &#x27;EJ/yr&#x27;, &#x27;Final Energy|Residential|Water Heating|Traditional Biomass|R2&#x27;: &#x27;EJ/yr&#x27;, &#x27;Final Energy|Residential|Water Heating|Traditional Biomass|R3&#x27;: &#x27;EJ/yr&#x27;, &#x27;Final Energy|Residential|Water Heating|Traditional Biomass|R4&#x27;: &#x27;EJ/yr&#x27;, &#x27;Final Energy|Residential|Water Heating|Traditional Biomass|R5&#x27;: &#x27;EJ/yr&#x27;, &#x27;Final Energy|Residential|Water Heating|Traditional Biomass|U1&#x27;: &#x27;EJ/yr&#x27;, &#x27;Final Energy|Residential|Water Heating|Traditional Biomass|U2&#x27;: &#x27;EJ/yr&#x27;, &#x27;Final Energy|Residential|Water Heating|Traditional Biomass|U3&#x27;: &#x27;EJ/yr&#x27;, &#x27;Final Energy|Residential|Water Heating|Traditional Biomass|U4&#x27;: &#x27;EJ/yr&#x27;, &#x27;Final Energy|Residential|Water Heating|Traditional Biomass|U5&#x27;: &#x27;EJ/yr&#x27;, &#x27;Final Energy|Transportation|Freight&#x27;: &#x27;EJ/yr&#x27;, &#x27;Final Energy|Transportation|Freight|Air&#x27;: &#x27;EJ/yr&#x27;, &#x27;Final Energy|Transportation|Freight|Air|Electricity&#x27;: &#x27;EJ/yr&#x27;, &#x27;Final Energy|Transportation|Freight|Air|Gas&#x27;: &#x27;EJ/yr&#x27;, &#x27;Final Energy|Transportation|Freight|Air|Hydrogen&#x27;: &#x27;EJ/yr&#x27;, &#x27;Final Energy|Transportation|Freight|Air|Liquids&#x27;: &#x27;EJ/yr&#x27;, &#x27;Final Energy|Transportation|Freight|Air|Liquids|Biomass&#x27;: &#x27;EJ/yr&#x27;, &#x27;Final Energy|Transportation|Freight|Air|Liquids|Fossil&#x27;: &#x27;EJ/yr&#x27;, &#x27;Final Energy|Transportation|Freight|Heavy Truck&#x27;: &#x27;EJ/yr&#x27;, &#x27;Final Energy|Transportation|Freight|Heavy Truck|Electricity&#x27;: &#x27;EJ/yr&#x27;, &#x27;Final Energy|Transportation|Freight|Heavy Truck|Gas&#x27;: &#x27;EJ/yr&#x27;, &#x27;Final Energy|Transportation|Freight|Heavy Truck|Hydrogen&#x27;: &#x27;EJ/yr&#x27;, &#x27;Final Energy|Transportation|Freight|Heavy Truck|Liquids&#x27;: &#x27;EJ/yr&#x27;, &#x27;Final Energy|Transportation|Freight|Heavy Truck|Liquids|Biomass&#x27;: &#x27;EJ/yr&#x27;, &#x27;Final Energy|Transportation|Freight|Heavy Truck|Liquids|Fossil&#x27;: &#x27;EJ/yr&#x27;, &#x27;Final Energy|Transportation|Freight|International Shipping&#x27;: &#x27;EJ/yr&#x27;, &#x27;Final Energy|Transportation|Freight|International Shipping|Electricity&#x27;: &#x27;EJ/yr&#x27;, &#x27;Final Energy|Transportation|Freight|International Shipping|Gas&#x27;: &#x27;EJ/yr&#x27;, &#x27;Final Energy|Transportation|Freight|International Shipping|Hydrogen&#x27;: &#x27;EJ/yr&#x27;, &#x27;Final Energy|Transportation|Freight|International Shipping|Liquids&#x27;: &#x27;EJ/yr&#x27;, &#x27;Final Energy|Transportation|Freight|International Shipping|Liquids|Biomass&#x27;: &#x27;EJ/yr&#x27;, &#x27;Final Energy|Transportation|Freight|International Shipping|Liquids|Fossil&#x27;: &#x27;EJ/yr&#x27;, &#x27;Final Energy|Transportation|Freight|Medium Truck&#x27;: &#x27;EJ/yr&#x27;, &#x27;Final Energy|Transportation|Freight|Medium Truck|Electricity&#x27;: &#x27;EJ/yr&#x27;, &#x27;Final Energy|Transportation|Freight|Medium Truck|Gas&#x27;: &#x27;EJ/yr&#x27;, &#x27;Final Energy|Transportation|Freight|Medium Truck|Hydrogen&#x27;: &#x27;EJ/yr&#x27;, &#x27;Final Energy|Transportation|Freight|Medium Truck|Liquids&#x27;: &#x27;EJ/yr&#x27;, &#x27;Final Energy|Transportation|Freight|Medium Truck|Liquids|Biomass&#x27;: &#x27;EJ/yr&#x27;, &#x27;Final Energy|Transportation|Freight|Medium Truck|Liquids|Fossil&#x27;: &#x27;EJ/yr&#x27;, &#x27;Final Energy|Transportation|Freight|National Shipping&#x27;: &#x27;EJ/yr&#x27;, &#x27;Final Energy|Transportation|Freight|National Shipping|Electricity&#x27;: &#x27;EJ/yr&#x27;, &#x27;Final Energy|Transportation|Freight|National Shipping|Gas&#x27;: &#x27;EJ/yr&#x27;, &#x27;Final Energy|Transportation|Freight|National Shipping|Hydrogen&#x27;: &#x27;EJ/yr&#x27;, &#x27;Final Energy|Transportation|Freight|National Shipping|Liquids&#x27;: &#x27;EJ/yr&#x27;, &#x27;Final Energy|Transportation|Freight|National Shipping|Liquids|Biomass&#x27;: &#x27;EJ/yr&#x27;, &#x27;Final Energy|Transportation|Freight|National Shipping|Liquids|Fossil&#x27;: &#x27;EJ/yr&#x27;, &#x27;Final Energy|Transportation|Freight|Train&#x27;: &#x27;EJ/yr&#x27;, &#x27;Final Energy|Transportation|Freight|Train|Electricity&#x27;: &#x27;EJ/yr&#x27;, &#x27;Final Energy|Transportation|Freight|Train|Gas&#x27;: &#x27;EJ/yr&#x27;, &#x27;Final Energy|Transportation|Freight|Train|Hydrogen&#x27;: &#x27;EJ/yr&#x27;, &#x27;Final Energy|Transportation|Freight|Train|Liquids&#x27;: &#x27;EJ/yr&#x27;, &#x27;Final Energy|Transportation|Freight|Train|Liquids|Biomass&#x27;: &#x27;EJ/yr&#x27;, &#x27;Final Energy|Transportation|Freight|Train|Liquids|Fossil&#x27;: &#x27;EJ/yr&#x27;, &#x27;Final Energy|Transportation|Passenger&#x27;: &#x27;EJ/yr&#x27;, &#x27;Final Energy|Transportation|Passenger|Bus&#x27;: &#x27;EJ/yr&#x27;, &#x27;Final Energy|Transportation|Passenger|Bus|Electricity&#x27;: &#x27;EJ/yr&#x27;, &#x27;Final Energy|Transportation|Passenger|Bus|Gases&#x27;: &#x27;EJ/yr&#x27;, &#x27;Final Energy|Transportation|Passenger|Bus|Hydrogen&#x27;: &#x27;EJ/yr&#x27;, &#x27;Final Energy|Transportation|Passenger|Bus|Liquids&#x27;: &#x27;EJ/yr&#x27;, &#x27;Final Energy|Transportation|Passenger|Bus|Liquids|Biomass&#x27;: &#x27;EJ/yr&#x27;, &#x27;Final Energy|Transportation|Passenger|Bus|Liquids|Fossil&#x27;: &#x27;EJ/yr&#x27;, &#x27;Final Energy|Transportation|Passenger|Domestic Aviation&#x27;: &#x27;EJ/yr&#x27;, &#x27;Final Energy|Transportation|Passenger|Domestic Aviation|Electricity&#x27;: &#x27;EJ/yr&#x27;, &#x27;Final Energy|Transportation|Passenger|Domestic Aviation|Gases&#x27;: &#x27;EJ/yr&#x27;, &#x27;Final Energy|Transportation|Passenger|Domestic Aviation|Hydrogen&#x27;: &#x27;EJ/yr&#x27;, &#x27;Final Energy|Transportation|Passenger|Domestic Aviation|Liquids&#x27;: &#x27;EJ/yr&#x27;, &#x27;Final Energy|Transportation|Passenger|Domestic Aviation|Liquids|Biomass&#x27;: &#x27;EJ/yr&#x27;, &#x27;Final Energy|Transportation|Passenger|Domestic Aviation|Liquids|Fossil&#x27;: &#x27;EJ/yr&#x27;, &#x27;Final Energy|Transportation|Passenger|International Aviation&#x27;: &#x27;EJ/yr&#x27;, &#x27;Final Energy|Transportation|Passenger|International Aviation|Electricity&#x27;: &#x27;EJ/yr&#x27;, &#x27;Final Energy|Transportation|Passenger|International Aviation|Gases&#x27;: &#x27;EJ/yr&#x27;, &#x27;Final Energy|Transportation|Passenger|International Aviation|Hydrogen&#x27;: &#x27;EJ/yr&#x27;, &#x27;Final Energy|Transportation|Passenger|International Aviation|Liquids&#x27;: &#x27;EJ/yr&#x27;, &#x27;Final Energy|Transportation|Passenger|International Aviation|Liquids|Biomass&#x27;: &#x27;EJ/yr&#x27;, &#x27;Final Energy|Transportation|Passenger|International Aviation|Liquids|Fossil&#x27;: &#x27;EJ/yr&#x27;, &#x27;Final Energy|Transportation|Passenger|Light Duty Vehicle&#x27;: &#x27;EJ/yr&#x27;, &#x27;Final Energy|Transportation|Passenger|Light Duty Vehicle|Electricity&#x27;: &#x27;EJ/yr&#x27;, &#x27;Final Energy|Transportation|Passenger|Light Duty Vehicle|Gases&#x27;: &#x27;EJ/yr&#x27;, &#x27;Final Energy|Transportation|Passenger|Light Duty Vehicle|Hydrogen&#x27;: &#x27;EJ/yr&#x27;, &#x27;Final Energy|Transportation|Passenger|Light Duty Vehicle|Liquids&#x27;: &#x27;EJ/yr&#x27;, &#x27;Final Energy|Transportation|Passenger|Light Duty Vehicle|Liquids|Biomass&#x27;: &#x27;EJ/yr&#x27;, &#x27;Final Energy|Transportation|Passenger|Light Duty Vehicle|Liquids|Fossil&#x27;: &#x27;EJ/yr&#x27;, &#x27;Final Energy|Transportation|Passenger|Rail (high speed)&#x27;: &#x27;EJ/yr&#x27;, &#x27;Final Energy|Transportation|Passenger|Rail (high speed)|Electricity&#x27;: &#x27;EJ/yr&#x27;, &#x27;Final Energy|Transportation|Passenger|Rail (high speed)|Gases&#x27;: &#x27;EJ/yr&#x27;, &#x27;Final Energy|Transportation|Passenger|Rail (high speed)|Hydrogen&#x27;: &#x27;EJ/yr&#x27;, &#x27;Final Energy|Transportation|Passenger|Rail (high speed)|Liquids&#x27;: &#x27;EJ/yr&#x27;, &#x27;Final Energy|Transportation|Passenger|Rail (high speed)|Liquids|Biomass&#x27;: &#x27;EJ/yr&#x27;, &#x27;Final Energy|Transportation|Passenger|Rail (high speed)|Liquids|Fossil&#x27;: &#x27;EJ/yr&#x27;, &#x27;Final Energy|Transportation|Passenger|Rail (low speed)&#x27;: &#x27;EJ/yr&#x27;, &#x27;Final Energy|Transportation|Passenger|Rail (low speed)|Electricity&#x27;: &#x27;EJ/yr&#x27;, &#x27;Final Energy|Transportation|Passenger|Rail (low speed)|Gases&#x27;: &#x27;EJ/yr&#x27;, &#x27;Final Energy|Transportation|Passenger|Rail (low speed)|Hydrogen&#x27;: &#x27;EJ/yr&#x27;, &#x27;Final Energy|Transportation|Passenger|Rail (low speed)|Liquids&#x27;: &#x27;EJ/yr&#x27;, &#x27;Final Energy|Transportation|Passenger|Rail (low speed)|Liquids|Biomass&#x27;: &#x27;EJ/yr&#x27;, &#x27;Final Energy|Transportation|Passenger|Rail (low speed)|Liquids|Fossil&#x27;: &#x27;EJ/yr&#x27;, &#x27;GDP|PPP&#x27;: &#x27;billion USD_2010/yr&#x27;, &#x27;Land Use|Marginal|Biomass|Grassy&#x27;: &#x27;Ha/GJ-Prim&#x27;, &#x27;Land Use|Marginal|Biomass|Maize&#x27;: &#x27;Ha/GJ-Prim&#x27;, &#x27;Land Use|Marginal|Biomass|OilCrop&#x27;: &#x27;Ha/GJ-Prim&#x27;, &#x27;Land Use|Marginal|Biomass|Sugar&#x27;: &#x27;Ha/GJ-Prim&#x27;, &#x27;Land Use|Marginal|Biomass|Woody&#x27;: &#x27;Ha/GJ-Prim&#x27;, &#x27;Population&#x27;: &#x27;million&#x27;, &#x27;Primary Energy|Biomass|Energy Crops&#x27;: &#x27;EJ/yr&#x27;, &#x27;Primary Energy|Biomass|Modern&#x27;: &#x27;EJ/yr&#x27;, &#x27;Primary Energy|Biomass|Residues&#x27;: &#x27;EJ/yr&#x27;, &#x27;Primary Energy|Biomass|Traditional&#x27;: &#x27;EJ/yr&#x27;, &#x27;Production|Chemicals|Ammonia&#x27;: &#x27;Mt/yr&#x27;, &#x27;Production|Chemicals|High-Value Chemicals&#x27;: &#x27;Mt/yr&#x27;, &#x27;Production|Chemicals|Methanol&#x27;: &#x27;Mt/yr&#x27;, &#x27;Production|Industry|Cement|Dry feed rotary kiln&#x27;: &#x27;Mtonne/yr&#x27;, &#x27;Production|Industry|Cement|Efficient dry feed rotary kiln&#x27;: &#x27;Mtonne/yr&#x27;, &#x27;Production|Industry|Cement|Efficient dry feed rotary kiln + MEA CCS&#x27;: &#x27;Mtonne/yr&#x27;, &#x27;Production|Industry|Cement|Efficient dry feed rotary kiln + On-site CCS&#x27;: &#x27;Mtonne/yr&#x27;, &#x27;Production|Industry|Cement|Efficient dry feed rotary kiln + Oxy-combustion CCS&#x27;: &#x27;Mtonne/yr&#x27;, &#x27;Production|Industry|Iron and Steel|BF/ BOF Standard + CCS&#x27;: &#x27;Mtonne/yr&#x27;, &#x27;Production|Industry|Iron and Steel|BF/BOF Modernized&#x27;: &#x27;Mtonne/yr&#x27;, &#x27;Production|Industry|Iron and Steel|BF/BOF Standard&#x27;: &#x27;Mtonne/yr&#x27;, &#x27;Production|Industry|Iron and Steel|Crude Steel&#x27;: &#x27;Mtonne/yr&#x27;, &#x27;Production|Industry|Iron and Steel|DRI EAF&#x27;: &#x27;Mtonne/yr&#x27;, &#x27;Production|Industry|Iron and Steel|DRI EAF + CCS&#x27;: &#x27;Mtonne/yr&#x27;, &#x27;Production|Industry|Iron and Steel|EAF scrap&#x27;: &#x27;Mtonne/yr&#x27;, &#x27;Production|Industry|Iron and Steel|Electrowinning/EAF&#x27;: &#x27;Mtonne/yr&#x27;, &#x27;Production|Industry|Iron and Steel|H-DRI/EAF&#x27;: &#x27;Mtonne/yr&#x27;, &#x27;Production|Industry|Iron and Steel|SR/BOF&#x27;: &#x27;Mtonne/yr&#x27;, &#x27;Production|Industry|Iron and Steel|SR/BOF + CCS&#x27;: &#x27;Mtonne/yr&#x27;, &#x27;Production|Industry|Iron and Steel|Scrap Steel&#x27;: &#x27;Mtonne/yr&#x27;, &#x27;Production|Industry|Iron and Steel|TGR BF/BOF&#x27;: &#x27;Mtonne/yr&#x27;, &#x27;Production|Industry|Iron and Steel|TGR BF/BOF BAT&#x27;: &#x27;Mtonne/yr&#x27;, &#x27;Production|Industry|Iron and Steel|TGR BF/BOF BAT + CCS&#x27;: &#x27;Mtonne/yr&#x27;, &#x27;Production|Pulp and Paper [Volume]&#x27;: &#x27;Mt/yr&#x27;, &#x27;Production|Pulp and Paper|Paper&#x27;: &#x27;Mt/yr&#x27;, &#x27;Production|Pulp and Paper|Pulp&#x27;: &#x27;Mt/yr&#x27;, &#x27;Secondary Energy|Consumption|Liquids|Biomass|Biodiesel|Oilcrops|w/CCS&#x27;: &#x27;EJ/yr&#x27;, &#x27;Secondary Energy|Consumption|Liquids|Biomass|Biodiesel|Oilcrops|w/oCCS&#x27;: &#x27;EJ/yr&#x27;, &#x27;Secondary Energy|Consumption|Liquids|Biomass|Ethanol|Grassy|w/CCS&#x27;: &#x27;EJ/yr&#x27;, &#x27;Secondary Energy|Consumption|Liquids|Biomass|Ethanol|Grassy|w/oCCS&#x27;: &#x27;EJ/yr&#x27;, &#x27;Secondary Energy|Consumption|Liquids|Biomass|Ethanol|Maize|w/CCS&#x27;: &#x27;EJ/yr&#x27;, &#x27;Secondary Energy|Consumption|Liquids|Biomass|Ethanol|Maize|w/oCCS&#x27;: &#x27;EJ/yr&#x27;, &#x27;Secondary Energy|Consumption|Liquids|Biomass|Ethanol|Sugar|w/CCS&#x27;: &#x27;EJ/yr&#x27;, &#x27;Secondary Energy|Consumption|Liquids|Biomass|Ethanol|Sugar|w/oCCS&#x27;: &#x27;EJ/yr&#x27;, &#x27;Secondary Energy|Consumption|Liquids|Biomass|Ethanol|Woody|w/CCS&#x27;: &#x27;EJ/yr&#x27;, &#x27;Secondary Energy|Consumption|Liquids|Biomass|Ethanol|Woody|w/oCCS&#x27;: &#x27;EJ/yr&#x27;, &#x27;Secondary Energy|Consumption|Liquids|Biomass|FT Diesel|Grassy|w/CCS&#x27;: &#x27;EJ/yr&#x27;, &#x27;Secondary Energy|Consumption|Liquids|Biomass|FT Diesel|Grassy|w/oCCS&#x27;: &#x27;EJ/yr&#x27;, &#x27;Secondary Energy|Consumption|Liquids|Biomass|FT Diesel|Woody|w/CCS&#x27;: &#x27;EJ/yr&#x27;, &#x27;Secondary Energy|Consumption|Liquids|Biomass|FT Diesel|Woody|w/oCCS&#x27;: &#x27;EJ/yr&#x27;, &#x27;Secondary Energy|Consumption|Liquids|Biomass|Methanol|Grassy|w/CCS&#x27;: &#x27;EJ/yr&#x27;, &#x27;Secondary Energy|Consumption|Liquids|Biomass|Methanol|Grassy|w/oCCS&#x27;: &#x27;EJ/yr&#x27;, &#x27;Secondary Energy|Consumption|Liquids|Biomass|Methanol|Woody|w/CCS&#x27;: &#x27;EJ/yr&#x27;, &#x27;Secondary Energy|Consumption|Liquids|Biomass|Methanol|Woody|w/oCCS&#x27;: &#x27;EJ/yr&#x27;, &#x27;Secondary Energy|Consumption|Liquids|Fossil&#x27;: &#x27;EJ/yr&#x27;, &#x27;Secondary Energy|Consumption|Liquids|Fossil|Diesel&#x27;: &#x27;EJ/yr&#x27;, &#x27;Secondary Energy|Consumption|Liquids|Fossil|Gasoline&#x27;: &#x27;EJ/yr&#x27;, &#x27;Secondary Energy|Electricity|Biomass&#x27;: &#x27;EJ/yr&#x27;, &#x27;Secondary Energy|Electricity|Biomass|w/ CCS|1&#x27;: &#x27;EJ/yr&#x27;, &#x27;Secondary Energy|Electricity|Biomass|w/ CCS|2&#x27;: &#x27;EJ/yr&#x27;, &#x27;Secondary Energy|Electricity|Biomass|w/o CCS|1&#x27;: &#x27;EJ/yr&#x27;, &#x27;Secondary Energy|Electricity|Biomass|w/o CCS|2&#x27;: &#x27;EJ/yr&#x27;, &#x27;Secondary Energy|Electricity|Biomass|w/o CCS|3&#x27;: &#x27;EJ/yr&#x27;, &#x27;Secondary Energy|Electricity|Coal&#x27;: &#x27;EJ/yr&#x27;, &#x27;Secondary Energy|Electricity|Coal|w/ CCS|1&#x27;: &#x27;EJ/yr&#x27;, &#x27;Secondary Energy|Electricity|Coal|w/o CCS|1&#x27;: &#x27;EJ/yr&#x27;, &#x27;Secondary Energy|Electricity|Coal|w/o CCS|2&#x27;: &#x27;EJ/yr&#x27;, &#x27;Secondary Energy|Electricity|Coal|w/o CCS|3&#x27;: &#x27;EJ/yr&#x27;, &#x27;Secondary Energy|Electricity|Gas&#x27;: &#x27;EJ/yr&#x27;, &#x27;Secondary Energy|Electricity|Gas|w/ CCS|1&#x27;: &#x27;EJ/yr&#x27;, &#x27;Secondary Energy|Electricity|Gas|w/ CCS|2&#x27;: &#x27;EJ/yr&#x27;, &#x27;Secondary Energy|Electricity|Gas|w/o CCS|1&#x27;: &#x27;EJ/yr&#x27;, &#x27;Secondary Energy|Electricity|Gas|w/o CCS|2&#x27;: &#x27;EJ/yr&#x27;, &#x27;Secondary Energy|Electricity|Gas|w/o CCS|3&#x27;: &#x27;EJ/yr&#x27;, &#x27;Secondary Energy|Electricity|Geothermal&#x27;: &#x27;EJ/yr&#x27;, &#x27;Secondary Energy|Electricity|Hydro&#x27;: &#x27;EJ/yr&#x27;, &#x27;Secondary Energy|Electricity|Hydrogen&#x27;: &#x27;EJ/yr&#x27;, &#x27;Secondary Energy|Electricity|Nuclear&#x27;: &#x27;EJ/yr&#x27;, &#x27;Secondary Energy|Electricity|Oil&#x27;: &#x27;EJ/yr&#x27;, &#x27;Secondary Energy|Electricity|Oil|w/ CCS|1&#x27;: &#x27;EJ/yr&#x27;, &#x27;Secondary Energy|Electricity|Oil|w/ CCS|2&#x27;: &#x27;EJ/yr&#x27;, &#x27;Secondary Energy|Electricity|Oil|w/o CCS|1&#x27;: &#x27;EJ/yr&#x27;, &#x27;Secondary Energy|Electricity|Oil|w/o CCS|2&#x27;: &#x27;EJ/yr&#x27;, &#x27;Secondary Energy|Electricity|Oil|w/o CCS|3&#x27;: &#x27;EJ/yr&#x27;, &#x27;Secondary Energy|Electricity|Other&#x27;: &#x27;EJ/yr&#x27;, &#x27;Secondary Energy|Electricity|Solar|CSP&#x27;: &#x27;EJ/yr&#x27;, &#x27;Secondary Energy|Electricity|Solar|PV|1&#x27;: &#x27;EJ/yr&#x27;, &#x27;Secondary Energy|Electricity|Solar|PV|2&#x27;: &#x27;EJ/yr&#x27;, &#x27;Secondary Energy|Electricity|Storage&#x27;: &#x27;EJ/yr&#x27;, &#x27;Secondary Energy|Electricity|Wave&#x27;: &#x27;EJ/yr&#x27;, &#x27;Secondary Energy|Electricity|Wind|1&#x27;: &#x27;EJ/yr&#x27;, &#x27;Secondary Energy|Electricity|Wind|2&#x27;: &#x27;EJ/yr&#x27;, &#x27;Secondary Energy|Heat&#x27;: &#x27;EJ/yr&#x27;, &#x27;Secondary Energy|Heat|Biomass&#x27;: &#x27;EJ/yr&#x27;, &#x27;Secondary Energy|Heat|Coal&#x27;: &#x27;EJ/yr&#x27;, &#x27;Secondary Energy|Heat|Gas&#x27;: &#x27;EJ/yr&#x27;, &#x27;Secondary Energy|Heat|Oil&#x27;: &#x27;EJ/yr&#x27;, &#x27;Secondary Energy|Hydrogen|Biomass&#x27;: &#x27;EJ/yr&#x27;, &#x27;Secondary Energy|Hydrogen|Biomass|w/ CCS&#x27;: &#x27;EJ/yr&#x27;, &#x27;Secondary Energy|Hydrogen|Biomass|w/o CCS&#x27;: &#x27;EJ/yr&#x27;, &#x27;Secondary Energy|Hydrogen|Coal&#x27;: &#x27;EJ/yr&#x27;, &#x27;Secondary Energy|Hydrogen|Coal|w/ CCS&#x27;: &#x27;EJ/yr&#x27;, &#x27;Secondary Energy|Hydrogen|Coal|w/o CCS&#x27;: &#x27;EJ/yr&#x27;, &#x27;Secondary Energy|Hydrogen|Electricity&#x27;: &#x27;EJ/yr&#x27;, &#x27;Secondary Energy|Hydrogen|Electricity|Base-load electrolysis&#x27;: &#x27;EJ/yr&#x27;, &#x27;Secondary Energy|Hydrogen|Electricity|Curtailments electrolysis&#x27;: &#x27;EJ/yr&#x27;, &#x27;Secondary Energy|Hydrogen|Electricity|PEM Electrolyzer w/ CSP&#x27;: &#x27;EJ/yr&#x27;, &#x27;Secondary Energy|Hydrogen|Electricity|PEM Electrolyzer w/ Geothermal&#x27;: &#x27;EJ/yr&#x27;, &#x27;Secondary Energy|Hydrogen|Electricity|PEM Electrolyzer w/ Offnshore Wind&#x27;: &#x27;EJ/yr&#x27;, &#x27;Secondary Energy|Hydrogen|Electricity|PEM Electrolyzer w/ Onshore Wind&#x27;: &#x27;EJ/yr&#x27;, &#x27;Secondary Energy|Hydrogen|Electricity|PEM Electrolyzer w/ PV&#x27;: &#x27;EJ/yr&#x27;, &#x27;Secondary Energy|Hydrogen|Gas&#x27;: &#x27;EJ/yr&#x27;, &#x27;Secondary Energy|Hydrogen|Gas|w/ CCS&#x27;: &#x27;EJ/yr&#x27;, &#x27;Secondary Energy|Hydrogen|Gas|w/o CCS&#x27;: &#x27;EJ/yr&#x27;, &#x27;Secondary Energy|Hydrogen|Gas|w/o CCS|Small-scale SMR&#x27;: &#x27;EJ/yr&#x27;, &#x27;Secondary Energy|Hydrogen|Oil&#x27;: &#x27;EJ/yr&#x27;, &#x27;Secondary Energy|Hydrogen|Oil w/CCS&#x27;: &#x27;EJ/yr&#x27;, &#x27;Secondary Energy|Hydrogen|Oil w/o CCS&#x27;: &#x27;EJ/yr&#x27;, &#x27;Temperature|Global Mean&#x27;: &#x27;oC&#x27;}</dd></dl></div></li></ul></div></div>"
      ]
     },
     "execution_count": 10,
     "metadata": {},
     "output_type": "execute_result"
    }
   ],
   "execution_count": 10
  },
  {
   "cell_type": "code",
   "execution_count": 2,
   "id": "6096c35d6eac3d",
   "metadata": {
    "ExecuteTime": {
     "end_time": "2025-05-04T13:10:34.123441Z",
     "start_time": "2025-05-04T13:06:51.721392Z"
    }
   },
   "outputs": [
    {
     "name": "stderr",
     "output_type": "stream",
     "text": [
      "Processing scenarios for all sectors: 100%|█| 1/1 [03:47<00:00, 227.11"
     ]
    },
    {
     "name": "stdout",
     "output_type": "stream",
     "text": [
      "Done!\n",
      "\n"
     ]
    },
    {
     "name": "stderr",
     "output_type": "stream",
     "text": [
      "\n"
     ]
    }
   ],
   "source": [
    "ndb.update()"
   ]
  },
  {
   "cell_type": "code",
   "execution_count": null,
   "id": "8e299a81cb45172d",
   "metadata": {},
   "outputs": [],
   "source": [
    "ndb.generate_scenario_report()"
   ]
  },
  {
   "cell_type": "code",
   "execution_count": 3,
   "id": "3245b60293d2e9bc",
   "metadata": {
    "ExecuteTime": {
     "end_time": "2025-05-04T13:13:21.341622Z",
     "start_time": "2025-05-04T13:10:34.280052Z"
    }
   },
   "outputs": [
    {
     "name": "stdout",
     "output_type": "stream",
     "text": [
      "Write new database(s) to Brightway.\n",
      "Running all checks...\n",
      "Minor anomalies found: check the change report.\n",
      "Database test steel 4 already exists: it will be overwritten.\n"
     ]
    },
    {
     "ename": "OperationalError",
     "evalue": "database is locked",
     "output_type": "error",
     "traceback": [
      "\u001B[31m---------------------------------------------------------------------------\u001B[39m",
      "\u001B[31mOperationalError\u001B[39m                          Traceback (most recent call last)",
      "\u001B[36mFile \u001B[39m\u001B[32m/opt/homebrew/Caskroom/miniforge/base/envs/premise/lib/python3.11/site-packages/peewee.py:3844\u001B[39m, in \u001B[36mSqliteDatabase.commit\u001B[39m\u001B[34m(self)\u001B[39m\n\u001B[32m   3843\u001B[39m \u001B[38;5;28;01mwith\u001B[39;00m __exception_wrapper__:\n\u001B[32m-> \u001B[39m\u001B[32m3844\u001B[39m     \u001B[38;5;28;01mreturn\u001B[39;00m \u001B[38;5;28;43mself\u001B[39;49m\u001B[43m.\u001B[49m\u001B[43m_state\u001B[49m\u001B[43m.\u001B[49m\u001B[43mconn\u001B[49m\u001B[43m.\u001B[49m\u001B[43mcommit\u001B[49m\u001B[43m(\u001B[49m\u001B[43m)\u001B[49m\n",
      "\u001B[31mOperationalError\u001B[39m: database is locked",
      "\nDuring handling of the above exception, another exception occurred:\n",
      "\u001B[31mOperationalError\u001B[39m                          Traceback (most recent call last)",
      "\u001B[36mFile \u001B[39m\u001B[32m/opt/homebrew/Caskroom/miniforge/base/envs/premise/lib/python3.11/site-packages/bw2data/backends/peewee/database.py:260\u001B[39m, in \u001B[36mSQLiteBackend.write\u001B[39m\u001B[34m(self, data, process)\u001B[39m\n\u001B[32m    259\u001B[39m \u001B[38;5;28;01mtry\u001B[39;00m:\n\u001B[32m--> \u001B[39m\u001B[32m260\u001B[39m     \u001B[38;5;28;43mself\u001B[39;49m\u001B[43m.\u001B[49m\u001B[43m_efficient_write_many_data\u001B[49m\u001B[43m(\u001B[49m\u001B[43mdata\u001B[49m\u001B[43m)\u001B[49m\n\u001B[32m    261\u001B[39m \u001B[38;5;28;01mexcept\u001B[39;00m:\n\u001B[32m    262\u001B[39m     \u001B[38;5;66;03m# Purge all data from database, then reraise\u001B[39;00m\n",
      "\u001B[36mFile \u001B[39m\u001B[32m/opt/homebrew/Caskroom/miniforge/base/envs/premise/lib/python3.11/site-packages/bw2data/backends/peewee/database.py:189\u001B[39m, in \u001B[36mSQLiteBackend._efficient_write_many_data\u001B[39m\u001B[34m(self, data, indices)\u001B[39m\n\u001B[32m    188\u001B[39m \u001B[38;5;28;01mif\u001B[39;00m be_complicated:\n\u001B[32m--> \u001B[39m\u001B[32m189\u001B[39m     \u001B[38;5;28;43mself\u001B[39;49m\u001B[43m.\u001B[49m\u001B[43m_drop_indices\u001B[49m\u001B[43m(\u001B[49m\u001B[43m)\u001B[49m\n\u001B[32m    190\u001B[39m sqlite3_lci_db.db.autocommit = \u001B[38;5;28;01mFalse\u001B[39;00m\n",
      "\u001B[36mFile \u001B[39m\u001B[32m/opt/homebrew/Caskroom/miniforge/base/envs/premise/lib/python3.11/site-packages/bw2data/backends/peewee/database.py:142\u001B[39m, in \u001B[36mSQLiteBackend._drop_indices\u001B[39m\u001B[34m(self)\u001B[39m\n\u001B[32m    141\u001B[39m \u001B[38;5;28;01mdef\u001B[39;00m\u001B[38;5;250m \u001B[39m\u001B[34m_drop_indices\u001B[39m(\u001B[38;5;28mself\u001B[39m):\n\u001B[32m--> \u001B[39m\u001B[32m142\u001B[39m \u001B[43m    \u001B[49m\u001B[38;5;28;43;01mwith\u001B[39;49;00m\u001B[43m \u001B[49m\u001B[43msqlite3_lci_db\u001B[49m\u001B[43m.\u001B[49m\u001B[43mtransaction\u001B[49m\u001B[43m(\u001B[49m\u001B[43m)\u001B[49m\u001B[43m:\u001B[49m\n\u001B[32m    143\u001B[39m \u001B[43m        \u001B[49m\u001B[43msqlite3_lci_db\u001B[49m\u001B[43m.\u001B[49m\u001B[43mexecute_sql\u001B[49m\u001B[43m(\u001B[49m\u001B[33;43m'\u001B[39;49m\u001B[33;43mDROP INDEX IF EXISTS \u001B[39;49m\u001B[33;43m\"\u001B[39;49m\u001B[33;43mactivitydataset_key\u001B[39;49m\u001B[33;43m\"\u001B[39;49m\u001B[33;43m'\u001B[39;49m\u001B[43m)\u001B[49m\n",
      "\u001B[36mFile \u001B[39m\u001B[32m/opt/homebrew/Caskroom/miniforge/base/envs/premise/lib/python3.11/site-packages/peewee.py:4508\u001B[39m, in \u001B[36m_transaction.__exit__\u001B[39m\u001B[34m(self, exc_type, exc_val, exc_tb)\u001B[39m\n\u001B[32m   4507\u001B[39m \u001B[38;5;28;01mtry\u001B[39;00m:\n\u001B[32m-> \u001B[39m\u001B[32m4508\u001B[39m     \u001B[38;5;28;43mself\u001B[39;49m\u001B[43m.\u001B[49m\u001B[43mcommit\u001B[49m\u001B[43m(\u001B[49m\u001B[38;5;28;43;01mFalse\u001B[39;49;00m\u001B[43m)\u001B[49m\n\u001B[32m   4509\u001B[39m \u001B[38;5;28;01mexcept\u001B[39;00m:\n",
      "\u001B[36mFile \u001B[39m\u001B[32m/opt/homebrew/Caskroom/miniforge/base/envs/premise/lib/python3.11/site-packages/peewee.py:4486\u001B[39m, in \u001B[36m_transaction.commit\u001B[39m\u001B[34m(self, begin)\u001B[39m\n\u001B[32m   4485\u001B[39m \u001B[38;5;28;01mdef\u001B[39;00m\u001B[38;5;250m \u001B[39m\u001B[34mcommit\u001B[39m(\u001B[38;5;28mself\u001B[39m, begin=\u001B[38;5;28;01mTrue\u001B[39;00m):\n\u001B[32m-> \u001B[39m\u001B[32m4486\u001B[39m     \u001B[38;5;28;43mself\u001B[39;49m\u001B[43m.\u001B[49m\u001B[43mdb\u001B[49m\u001B[43m.\u001B[49m\u001B[43mcommit\u001B[49m\u001B[43m(\u001B[49m\u001B[43m)\u001B[49m\n\u001B[32m   4487\u001B[39m     \u001B[38;5;28;01mif\u001B[39;00m begin:\n",
      "\u001B[36mFile \u001B[39m\u001B[32m/opt/homebrew/Caskroom/miniforge/base/envs/premise/lib/python3.11/site-packages/peewee.py:3843\u001B[39m, in \u001B[36mSqliteDatabase.commit\u001B[39m\u001B[34m(self)\u001B[39m\n\u001B[32m   3842\u001B[39m \u001B[38;5;28;01mdef\u001B[39;00m\u001B[38;5;250m \u001B[39m\u001B[34mcommit\u001B[39m(\u001B[38;5;28mself\u001B[39m):\n\u001B[32m-> \u001B[39m\u001B[32m3843\u001B[39m \u001B[43m    \u001B[49m\u001B[38;5;28;43;01mwith\u001B[39;49;00m\u001B[43m \u001B[49m\u001B[43m__exception_wrapper__\u001B[49m\u001B[43m:\u001B[49m\n\u001B[32m   3844\u001B[39m \u001B[43m        \u001B[49m\u001B[38;5;28;43;01mreturn\u001B[39;49;00m\u001B[43m \u001B[49m\u001B[38;5;28;43mself\u001B[39;49m\u001B[43m.\u001B[49m\u001B[43m_state\u001B[49m\u001B[43m.\u001B[49m\u001B[43mconn\u001B[49m\u001B[43m.\u001B[49m\u001B[43mcommit\u001B[49m\u001B[43m(\u001B[49m\u001B[43m)\u001B[49m\n",
      "\u001B[36mFile \u001B[39m\u001B[32m/opt/homebrew/Caskroom/miniforge/base/envs/premise/lib/python3.11/site-packages/peewee.py:3088\u001B[39m, in \u001B[36mExceptionWrapper.__exit__\u001B[39m\u001B[34m(self, exc_type, exc_value, traceback)\u001B[39m\n\u001B[32m   3087\u001B[39m exc_args = exc_value.args\n\u001B[32m-> \u001B[39m\u001B[32m3088\u001B[39m \u001B[43mreraise\u001B[49m\u001B[43m(\u001B[49m\u001B[43mnew_type\u001B[49m\u001B[43m,\u001B[49m\u001B[43m \u001B[49m\u001B[43mnew_type\u001B[49m\u001B[43m(\u001B[49m\u001B[43mexc_value\u001B[49m\u001B[43m,\u001B[49m\u001B[43m \u001B[49m\u001B[43m*\u001B[49m\u001B[43mexc_args\u001B[49m\u001B[43m)\u001B[49m\u001B[43m,\u001B[49m\u001B[43m \u001B[49m\u001B[43mtraceback\u001B[49m\u001B[43m)\u001B[49m\n",
      "\u001B[36mFile \u001B[39m\u001B[32m/opt/homebrew/Caskroom/miniforge/base/envs/premise/lib/python3.11/site-packages/peewee.py:196\u001B[39m, in \u001B[36mreraise\u001B[39m\u001B[34m(tp, value, tb)\u001B[39m\n\u001B[32m    195\u001B[39m \u001B[38;5;28;01mif\u001B[39;00m value.__traceback__ \u001B[38;5;129;01mis\u001B[39;00m \u001B[38;5;129;01mnot\u001B[39;00m tb:\n\u001B[32m--> \u001B[39m\u001B[32m196\u001B[39m     \u001B[38;5;28;01mraise\u001B[39;00m value.with_traceback(tb)\n\u001B[32m    197\u001B[39m \u001B[38;5;28;01mraise\u001B[39;00m value\n",
      "\u001B[36mFile \u001B[39m\u001B[32m/opt/homebrew/Caskroom/miniforge/base/envs/premise/lib/python3.11/site-packages/peewee.py:3844\u001B[39m, in \u001B[36mSqliteDatabase.commit\u001B[39m\u001B[34m(self)\u001B[39m\n\u001B[32m   3843\u001B[39m \u001B[38;5;28;01mwith\u001B[39;00m __exception_wrapper__:\n\u001B[32m-> \u001B[39m\u001B[32m3844\u001B[39m     \u001B[38;5;28;01mreturn\u001B[39;00m \u001B[38;5;28;43mself\u001B[39;49m\u001B[43m.\u001B[49m\u001B[43m_state\u001B[49m\u001B[43m.\u001B[49m\u001B[43mconn\u001B[49m\u001B[43m.\u001B[49m\u001B[43mcommit\u001B[49m\u001B[43m(\u001B[49m\u001B[43m)\u001B[49m\n",
      "\u001B[31mOperationalError\u001B[39m: database is locked",
      "\nDuring handling of the above exception, another exception occurred:\n",
      "\u001B[31mOperationalError\u001B[39m                          Traceback (most recent call last)",
      "\u001B[36mFile \u001B[39m\u001B[32m/opt/homebrew/Caskroom/miniforge/base/envs/premise/lib/python3.11/site-packages/peewee.py:3322\u001B[39m, in \u001B[36mDatabase.execute_sql\u001B[39m\u001B[34m(self, sql, params, commit)\u001B[39m\n\u001B[32m   3321\u001B[39m     cursor = \u001B[38;5;28mself\u001B[39m.cursor()\n\u001B[32m-> \u001B[39m\u001B[32m3322\u001B[39m     cursor.execute(sql, params \u001B[38;5;129;01mor\u001B[39;00m ())\n\u001B[32m   3323\u001B[39m \u001B[38;5;28;01mreturn\u001B[39;00m cursor\n",
      "\u001B[31mOperationalError\u001B[39m: database is locked",
      "\nDuring handling of the above exception, another exception occurred:\n",
      "\u001B[31mOperationalError\u001B[39m                          Traceback (most recent call last)",
      "\u001B[36mCell\u001B[39m\u001B[36m \u001B[39m\u001B[32mIn[3]\u001B[39m\u001B[32m, line 1\u001B[39m\n\u001B[32m----> \u001B[39m\u001B[32m1\u001B[39m \u001B[43mndb\u001B[49m\u001B[43m.\u001B[49m\u001B[43mwrite_db_to_brightway\u001B[49m\u001B[43m(\u001B[49m\u001B[33;43m\"\u001B[39;49m\u001B[33;43mtest steel 4\u001B[39;49m\u001B[33;43m\"\u001B[39;49m\u001B[43m)\u001B[49m\n",
      "\u001B[36mFile \u001B[39m\u001B[32m~/GitHub/premise/premise/new_database.py:1156\u001B[39m, in \u001B[36mNewDatabase.write_db_to_brightway\u001B[39m\u001B[34m(self, name)\u001B[39m\n\u001B[32m   1148\u001B[39m         scenario[\u001B[33m\"\u001B[39m\u001B[33mdatabase\u001B[39m\u001B[33m\"\u001B[39m] = pickle.loads(pickle.dumps(\u001B[38;5;28mself\u001B[39m.database, -\u001B[32m1\u001B[39m))\n\u001B[32m   1150\u001B[39m     _prepare_database(\n\u001B[32m   1151\u001B[39m         scenario=scenario,\n\u001B[32m   1152\u001B[39m         db_name=name[s],\n\u001B[32m   1153\u001B[39m         original_database=\u001B[38;5;28mself\u001B[39m.database,\n\u001B[32m   1154\u001B[39m         biosphere_name=\u001B[38;5;28mself\u001B[39m.biosphere_name,\n\u001B[32m   1155\u001B[39m     )\n\u001B[32m-> \u001B[39m\u001B[32m1156\u001B[39m     \u001B[43mwrite_brightway_database\u001B[49m\u001B[43m(\u001B[49m\n\u001B[32m   1157\u001B[39m \u001B[43m        \u001B[49m\u001B[43mscenario\u001B[49m\u001B[43m[\u001B[49m\u001B[33;43m\"\u001B[39;49m\u001B[33;43mdatabase\u001B[39;49m\u001B[33;43m\"\u001B[39;49m\u001B[43m]\u001B[49m\u001B[43m,\u001B[49m\n\u001B[32m   1158\u001B[39m \u001B[43m        \u001B[49m\u001B[43mname\u001B[49m\u001B[43m[\u001B[49m\u001B[43ms\u001B[49m\u001B[43m]\u001B[49m\u001B[43m,\u001B[49m\n\u001B[32m   1159\u001B[39m \u001B[43m    \u001B[49m\u001B[43m)\u001B[49m\n\u001B[32m   1161\u001B[39m     end_of_process(scenario)\n\u001B[32m   1163\u001B[39m delete_all_pickles()\n",
      "\u001B[36mFile \u001B[39m\u001B[32m~/GitHub/premise/premise/brightway2.py:48\u001B[39m, in \u001B[36mwrite_brightway_database\u001B[39m\u001B[34m(data, name)\u001B[39m\n\u001B[32m     46\u001B[39m link_internal(data)\n\u001B[32m     47\u001B[39m check_internal_linking(data)\n\u001B[32m---> \u001B[39m\u001B[32m48\u001B[39m \u001B[43mBW2Importer\u001B[49m\u001B[43m(\u001B[49m\u001B[43mname\u001B[49m\u001B[43m,\u001B[49m\u001B[43m \u001B[49m\u001B[43mdata\u001B[49m\u001B[43m)\u001B[49m\u001B[43m.\u001B[49m\u001B[43mwrite_database\u001B[49m\u001B[43m(\u001B[49m\u001B[43m)\u001B[49m\n",
      "\u001B[36mFile \u001B[39m\u001B[32m~/GitHub/premise/premise/brightway2.py:36\u001B[39m, in \u001B[36mBW2Importer.write_database\u001B[39m\u001B[34m(self)\u001B[39m\n\u001B[32m     34\u001B[39m     \u001B[38;5;28mprint\u001B[39m(\u001B[33mf\u001B[39m\u001B[33m\"\u001B[39m\u001B[33mDatabase \u001B[39m\u001B[38;5;132;01m{\u001B[39;00m\u001B[38;5;28mself\u001B[39m.db_name\u001B[38;5;132;01m}\u001B[39;00m\u001B[33m already exists: it will be overwritten.\u001B[39m\u001B[33m\"\u001B[39m)\n\u001B[32m     35\u001B[39m     \u001B[38;5;28;01mdel\u001B[39;00m databases[\u001B[38;5;28mself\u001B[39m.db_name]\n\u001B[32m---> \u001B[39m\u001B[32m36\u001B[39m \u001B[38;5;28;43msuper\u001B[39;49m\u001B[43m(\u001B[49m\u001B[43m)\u001B[49m\u001B[43m.\u001B[49m\u001B[43mwrite_database\u001B[49m\u001B[43m(\u001B[49m\u001B[43m)\u001B[49m\n",
      "\u001B[36mFile \u001B[39m\u001B[32m/opt/homebrew/Caskroom/miniforge/base/envs/premise/lib/python3.11/site-packages/bw2io/importers/base_lci.py:273\u001B[39m, in \u001B[36mLCIImporter.write_database\u001B[39m\u001B[34m(self, data, delete_existing, backend, activate_parameters, **kwargs)\u001B[39m\n\u001B[32m    270\u001B[39m \u001B[38;5;28mself\u001B[39m.write_database_parameters(activate_parameters, delete_existing)\n\u001B[32m    272\u001B[39m existing.update(data)\n\u001B[32m--> \u001B[39m\u001B[32m273\u001B[39m \u001B[43mdb\u001B[49m\u001B[43m.\u001B[49m\u001B[43mwrite\u001B[49m\u001B[43m(\u001B[49m\u001B[43mexisting\u001B[49m\u001B[43m)\u001B[49m\n\u001B[32m    275\u001B[39m \u001B[38;5;28;01mif\u001B[39;00m activate_parameters:\n\u001B[32m    276\u001B[39m     \u001B[38;5;28mself\u001B[39m._write_activity_parameters(activity_parameters)\n",
      "\u001B[36mFile \u001B[39m\u001B[32m/opt/homebrew/Caskroom/miniforge/base/envs/premise/lib/python3.11/site-packages/bw2data/project.py:358\u001B[39m, in \u001B[36mwritable_project\u001B[39m\u001B[34m(wrapped, instance, args, kwargs)\u001B[39m\n\u001B[32m    356\u001B[39m \u001B[38;5;28;01mif\u001B[39;00m projects.read_only:\n\u001B[32m    357\u001B[39m     \u001B[38;5;28;01mraise\u001B[39;00m ReadOnlyProject(READ_ONLY_PROJECT)\n\u001B[32m--> \u001B[39m\u001B[32m358\u001B[39m \u001B[38;5;28;01mreturn\u001B[39;00m \u001B[43mwrapped\u001B[49m\u001B[43m(\u001B[49m\u001B[43m*\u001B[49m\u001B[43margs\u001B[49m\u001B[43m,\u001B[49m\u001B[43m \u001B[49m\u001B[43m*\u001B[49m\u001B[43m*\u001B[49m\u001B[43mkwargs\u001B[49m\u001B[43m)\u001B[49m\n",
      "\u001B[36mFile \u001B[39m\u001B[32m/opt/homebrew/Caskroom/miniforge/base/envs/premise/lib/python3.11/site-packages/bw2data/backends/peewee/database.py:263\u001B[39m, in \u001B[36mSQLiteBackend.write\u001B[39m\u001B[34m(self, data, process)\u001B[39m\n\u001B[32m    260\u001B[39m         \u001B[38;5;28mself\u001B[39m._efficient_write_many_data(data)\n\u001B[32m    261\u001B[39m     \u001B[38;5;28;01mexcept\u001B[39;00m:\n\u001B[32m    262\u001B[39m         \u001B[38;5;66;03m# Purge all data from database, then reraise\u001B[39;00m\n\u001B[32m--> \u001B[39m\u001B[32m263\u001B[39m         \u001B[38;5;28;43mself\u001B[39;49m\u001B[43m.\u001B[49m\u001B[43mdelete\u001B[49m\u001B[43m(\u001B[49m\u001B[43mwarn\u001B[49m\u001B[43m=\u001B[49m\u001B[38;5;28;43;01mFalse\u001B[39;49;00m\u001B[43m)\u001B[49m\n\u001B[32m    264\u001B[39m         \u001B[38;5;28;01mraise\u001B[39;00m\n\u001B[32m    266\u001B[39m \u001B[38;5;28mself\u001B[39m.make_searchable(reset=\u001B[38;5;28;01mTrue\u001B[39;00m)\n",
      "\u001B[36mFile \u001B[39m\u001B[32m/opt/homebrew/Caskroom/miniforge/base/envs/premise/lib/python3.11/site-packages/bw2data/project.py:358\u001B[39m, in \u001B[36mwritable_project\u001B[39m\u001B[34m(wrapped, instance, args, kwargs)\u001B[39m\n\u001B[32m    356\u001B[39m \u001B[38;5;28;01mif\u001B[39;00m projects.read_only:\n\u001B[32m    357\u001B[39m     \u001B[38;5;28;01mraise\u001B[39;00m ReadOnlyProject(READ_ONLY_PROJECT)\n\u001B[32m--> \u001B[39m\u001B[32m358\u001B[39m \u001B[38;5;28;01mreturn\u001B[39;00m \u001B[43mwrapped\u001B[49m\u001B[43m(\u001B[49m\u001B[43m*\u001B[49m\u001B[43margs\u001B[49m\u001B[43m,\u001B[49m\u001B[43m \u001B[49m\u001B[43m*\u001B[49m\u001B[43m*\u001B[49m\u001B[43mkwargs\u001B[49m\u001B[43m)\u001B[49m\n",
      "\u001B[36mFile \u001B[39m\u001B[32m/opt/homebrew/Caskroom/miniforge/base/envs/premise/lib/python3.11/site-packages/bw2data/backends/peewee/database.py:332\u001B[39m, in \u001B[36mSQLiteBackend.delete\u001B[39m\u001B[34m(self, keep_params, warn)\u001B[39m\n\u001B[32m    328\u001B[39m     warnings.warn(MESSAGE.format(\u001B[38;5;28mself\u001B[39m.name), \u001B[38;5;167;01mUserWarning\u001B[39;00m)\n\u001B[32m    330\u001B[39m vacuum_needed = \u001B[38;5;28mlen\u001B[39m(\u001B[38;5;28mself\u001B[39m) > \u001B[32m500\u001B[39m\n\u001B[32m--> \u001B[39m\u001B[32m332\u001B[39m \u001B[43mActivityDataset\u001B[49m\u001B[43m.\u001B[49m\u001B[43mdelete\u001B[49m\u001B[43m(\u001B[49m\u001B[43m)\u001B[49m\u001B[43m.\u001B[49m\u001B[43mwhere\u001B[49m\u001B[43m(\u001B[49m\u001B[43mActivityDataset\u001B[49m\u001B[43m.\u001B[49m\u001B[43mdatabase\u001B[49m\u001B[43m==\u001B[49m\u001B[43m \u001B[49m\u001B[38;5;28;43mself\u001B[39;49m\u001B[43m.\u001B[49m\u001B[43mname\u001B[49m\u001B[43m)\u001B[49m\u001B[43m.\u001B[49m\u001B[43mexecute\u001B[49m\u001B[43m(\u001B[49m\u001B[43m)\u001B[49m\n\u001B[32m    333\u001B[39m ExchangeDataset.delete().where(ExchangeDataset.output_database== \u001B[38;5;28mself\u001B[39m.name).execute()\n\u001B[32m    334\u001B[39m IndexManager(\u001B[38;5;28mself\u001B[39m.filename).delete_database()\n",
      "\u001B[36mFile \u001B[39m\u001B[32m/opt/homebrew/Caskroom/miniforge/base/envs/premise/lib/python3.11/site-packages/peewee.py:2036\u001B[39m, in \u001B[36mdatabase_required.<locals>.inner\u001B[39m\u001B[34m(self, database, *args, **kwargs)\u001B[39m\n\u001B[32m   2033\u001B[39m \u001B[38;5;28;01mif\u001B[39;00m \u001B[38;5;129;01mnot\u001B[39;00m database:\n\u001B[32m   2034\u001B[39m     \u001B[38;5;28;01mraise\u001B[39;00m InterfaceError(\u001B[33m'\u001B[39m\u001B[33mQuery must be bound to a database in order \u001B[39m\u001B[33m'\u001B[39m\n\u001B[32m   2035\u001B[39m                          \u001B[33m'\u001B[39m\u001B[33mto call \u001B[39m\u001B[33m\"\u001B[39m\u001B[38;5;132;01m%s\u001B[39;00m\u001B[33m\"\u001B[39m\u001B[33m.\u001B[39m\u001B[33m'\u001B[39m % method.\u001B[34m__name__\u001B[39m)\n\u001B[32m-> \u001B[39m\u001B[32m2036\u001B[39m \u001B[38;5;28;01mreturn\u001B[39;00m \u001B[43mmethod\u001B[49m\u001B[43m(\u001B[49m\u001B[38;5;28;43mself\u001B[39;49m\u001B[43m,\u001B[49m\u001B[43m \u001B[49m\u001B[43mdatabase\u001B[49m\u001B[43m,\u001B[49m\u001B[43m \u001B[49m\u001B[43m*\u001B[49m\u001B[43margs\u001B[49m\u001B[43m,\u001B[49m\u001B[43m \u001B[49m\u001B[43m*\u001B[49m\u001B[43m*\u001B[49m\u001B[43mkwargs\u001B[49m\u001B[43m)\u001B[49m\n",
      "\u001B[36mFile \u001B[39m\u001B[32m/opt/homebrew/Caskroom/miniforge/base/envs/premise/lib/python3.11/site-packages/peewee.py:2107\u001B[39m, in \u001B[36mBaseQuery.execute\u001B[39m\u001B[34m(self, database)\u001B[39m\n\u001B[32m   2105\u001B[39m \u001B[38;5;129m@database_required\u001B[39m\n\u001B[32m   2106\u001B[39m \u001B[38;5;28;01mdef\u001B[39;00m\u001B[38;5;250m \u001B[39m\u001B[34mexecute\u001B[39m(\u001B[38;5;28mself\u001B[39m, database):\n\u001B[32m-> \u001B[39m\u001B[32m2107\u001B[39m     \u001B[38;5;28;01mreturn\u001B[39;00m \u001B[38;5;28;43mself\u001B[39;49m\u001B[43m.\u001B[49m\u001B[43m_execute\u001B[49m\u001B[43m(\u001B[49m\u001B[43mdatabase\u001B[49m\u001B[43m)\u001B[49m\n",
      "\u001B[36mFile \u001B[39m\u001B[32m/opt/homebrew/Caskroom/miniforge/base/envs/premise/lib/python3.11/site-packages/peewee.py:2625\u001B[39m, in \u001B[36m_WriteQuery._execute\u001B[39m\u001B[34m(self, database)\u001B[39m\n\u001B[32m   2623\u001B[39m     cursor = \u001B[38;5;28mself\u001B[39m.execute_returning(database)\n\u001B[32m   2624\u001B[39m \u001B[38;5;28;01melse\u001B[39;00m:\n\u001B[32m-> \u001B[39m\u001B[32m2625\u001B[39m     cursor = \u001B[43mdatabase\u001B[49m\u001B[43m.\u001B[49m\u001B[43mexecute\u001B[49m\u001B[43m(\u001B[49m\u001B[38;5;28;43mself\u001B[39;49m\u001B[43m)\u001B[49m\n\u001B[32m   2626\u001B[39m \u001B[38;5;28;01mreturn\u001B[39;00m \u001B[38;5;28mself\u001B[39m.handle_result(database, cursor)\n",
      "\u001B[36mFile \u001B[39m\u001B[32m/opt/homebrew/Caskroom/miniforge/base/envs/premise/lib/python3.11/site-packages/peewee.py:3330\u001B[39m, in \u001B[36mDatabase.execute\u001B[39m\u001B[34m(self, query, commit, **context_options)\u001B[39m\n\u001B[32m   3328\u001B[39m ctx = \u001B[38;5;28mself\u001B[39m.get_sql_context(**context_options)\n\u001B[32m   3329\u001B[39m sql, params = ctx.sql(query).query()\n\u001B[32m-> \u001B[39m\u001B[32m3330\u001B[39m \u001B[38;5;28;01mreturn\u001B[39;00m \u001B[38;5;28;43mself\u001B[39;49m\u001B[43m.\u001B[49m\u001B[43mexecute_sql\u001B[49m\u001B[43m(\u001B[49m\u001B[43msql\u001B[49m\u001B[43m,\u001B[49m\u001B[43m \u001B[49m\u001B[43mparams\u001B[49m\u001B[43m)\u001B[49m\n",
      "\u001B[36mFile \u001B[39m\u001B[32m/opt/homebrew/Caskroom/miniforge/base/envs/premise/lib/python3.11/site-packages/peewee.py:3320\u001B[39m, in \u001B[36mDatabase.execute_sql\u001B[39m\u001B[34m(self, sql, params, commit)\u001B[39m\n\u001B[32m   3318\u001B[39m     __deprecated__(\u001B[33m'\u001B[39m\u001B[33m\"\u001B[39m\u001B[33mcommit\u001B[39m\u001B[33m\"\u001B[39m\u001B[33m has been deprecated and is a no-op.\u001B[39m\u001B[33m'\u001B[39m)\n\u001B[32m   3319\u001B[39m logger.debug((sql, params))\n\u001B[32m-> \u001B[39m\u001B[32m3320\u001B[39m \u001B[43m\u001B[49m\u001B[38;5;28;43;01mwith\u001B[39;49;00m\u001B[43m \u001B[49m\u001B[43m__exception_wrapper__\u001B[49m\u001B[43m:\u001B[49m\n\u001B[32m   3321\u001B[39m \u001B[43m    \u001B[49m\u001B[43mcursor\u001B[49m\u001B[43m \u001B[49m\u001B[43m=\u001B[49m\u001B[43m \u001B[49m\u001B[38;5;28;43mself\u001B[39;49m\u001B[43m.\u001B[49m\u001B[43mcursor\u001B[49m\u001B[43m(\u001B[49m\u001B[43m)\u001B[49m\n\u001B[32m   3322\u001B[39m \u001B[43m    \u001B[49m\u001B[43mcursor\u001B[49m\u001B[43m.\u001B[49m\u001B[43mexecute\u001B[49m\u001B[43m(\u001B[49m\u001B[43msql\u001B[49m\u001B[43m,\u001B[49m\u001B[43m \u001B[49m\u001B[43mparams\u001B[49m\u001B[43m \u001B[49m\u001B[38;5;129;43;01mor\u001B[39;49;00m\u001B[43m \u001B[49m\u001B[43m(\u001B[49m\u001B[43m)\u001B[49m\u001B[43m)\u001B[49m\n",
      "\u001B[36mFile \u001B[39m\u001B[32m/opt/homebrew/Caskroom/miniforge/base/envs/premise/lib/python3.11/site-packages/peewee.py:3088\u001B[39m, in \u001B[36mExceptionWrapper.__exit__\u001B[39m\u001B[34m(self, exc_type, exc_value, traceback)\u001B[39m\n\u001B[32m   3086\u001B[39m new_type = \u001B[38;5;28mself\u001B[39m.exceptions[exc_type.\u001B[34m__name__\u001B[39m]\n\u001B[32m   3087\u001B[39m exc_args = exc_value.args\n\u001B[32m-> \u001B[39m\u001B[32m3088\u001B[39m \u001B[43mreraise\u001B[49m\u001B[43m(\u001B[49m\u001B[43mnew_type\u001B[49m\u001B[43m,\u001B[49m\u001B[43m \u001B[49m\u001B[43mnew_type\u001B[49m\u001B[43m(\u001B[49m\u001B[43mexc_value\u001B[49m\u001B[43m,\u001B[49m\u001B[43m \u001B[49m\u001B[43m*\u001B[49m\u001B[43mexc_args\u001B[49m\u001B[43m)\u001B[49m\u001B[43m,\u001B[49m\u001B[43m \u001B[49m\u001B[43mtraceback\u001B[49m\u001B[43m)\u001B[49m\n",
      "\u001B[36mFile \u001B[39m\u001B[32m/opt/homebrew/Caskroom/miniforge/base/envs/premise/lib/python3.11/site-packages/peewee.py:196\u001B[39m, in \u001B[36mreraise\u001B[39m\u001B[34m(tp, value, tb)\u001B[39m\n\u001B[32m    194\u001B[39m \u001B[38;5;28;01mdef\u001B[39;00m\u001B[38;5;250m \u001B[39m\u001B[34mreraise\u001B[39m(tp, value, tb=\u001B[38;5;28;01mNone\u001B[39;00m):\n\u001B[32m    195\u001B[39m     \u001B[38;5;28;01mif\u001B[39;00m value.__traceback__ \u001B[38;5;129;01mis\u001B[39;00m \u001B[38;5;129;01mnot\u001B[39;00m tb:\n\u001B[32m--> \u001B[39m\u001B[32m196\u001B[39m         \u001B[38;5;28;01mraise\u001B[39;00m value.with_traceback(tb)\n\u001B[32m    197\u001B[39m     \u001B[38;5;28;01mraise\u001B[39;00m value\n",
      "\u001B[36mFile \u001B[39m\u001B[32m/opt/homebrew/Caskroom/miniforge/base/envs/premise/lib/python3.11/site-packages/peewee.py:3322\u001B[39m, in \u001B[36mDatabase.execute_sql\u001B[39m\u001B[34m(self, sql, params, commit)\u001B[39m\n\u001B[32m   3320\u001B[39m \u001B[38;5;28;01mwith\u001B[39;00m __exception_wrapper__:\n\u001B[32m   3321\u001B[39m     cursor = \u001B[38;5;28mself\u001B[39m.cursor()\n\u001B[32m-> \u001B[39m\u001B[32m3322\u001B[39m     cursor.execute(sql, params \u001B[38;5;129;01mor\u001B[39;00m ())\n\u001B[32m   3323\u001B[39m \u001B[38;5;28;01mreturn\u001B[39;00m cursor\n",
      "\u001B[31mOperationalError\u001B[39m: database is locked"
     ]
    }
   ],
   "source": [
    "ndb.write_db_to_brightway(\"test steel 4\")"
   ]
  },
  {
   "cell_type": "code",
   "execution_count": null,
   "id": "131379dc1736c94b",
   "metadata": {},
   "outputs": [],
   "source": [
    "ndb.scenarios[0][\"iam data\"].petrol_efficiencies.sel(region=\"eu27\", year=2050)"
   ]
  },
  {
   "cell_type": "code",
   "execution_count": 3,
   "id": "10bb1f032cdd920",
   "metadata": {
    "ExecuteTime": {
     "end_time": "2025-05-04T12:17:54.345822Z",
     "start_time": "2025-05-04T12:17:49.688078Z"
    }
   },
   "outputs": [],
   "source": [
    "from premise.utils import load_database\n",
    "\n",
    "for scenario in ndb.scenarios:\n",
    "    scenario = load_database(scenario)"
   ]
  },
  {
   "cell_type": "code",
   "execution_count": 4,
   "id": "96673dc487d06324",
   "metadata": {
    "ExecuteTime": {
     "end_time": "2025-05-04T12:18:12.999942Z",
     "start_time": "2025-05-04T12:18:12.404163Z"
    }
   },
   "outputs": [],
   "source": [
    "for ds in ndb.scenarios[0][\"database\"]:\n",
    "    for e in ds[\"exchanges\"]:\n",
    "        float(e[\"amount\"])"
   ]
  },
  {
   "cell_type": "code",
   "execution_count": null,
   "id": "7603a8e71d081811",
   "metadata": {},
   "outputs": [],
   "source": [
    "ndb.scenarios[0][\"iam data\"].passenger_car_efficiencies.sel(region=\"india\")"
   ]
  },
  {
   "cell_type": "code",
   "execution_count": null,
   "id": "6d5bd367269506d3",
   "metadata": {},
   "outputs": [],
   "source": [
    "expected_co2 = 0.0\n",
    "\n",
    "energy = sum(\n",
    "    [\n",
    "        exc[\"amount\"]\n",
    "        for exc in ds[\"exchanges\"]\n",
    "        if exc[\"unit\"] == \"megajoule\" and exc[\"type\"] == \"technosphere\"\n",
    "    ]\n",
    ")\n",
    "# add input of coal\n",
    "coal = sum(\n",
    "    [\n",
    "        exc[\"amount\"] * 26.4\n",
    "        for exc in ds[\"exchanges\"]\n",
    "        if \"hard coal\" in exc[\"name\"]\n",
    "        and exc[\"type\"] == \"technosphere\"\n",
    "        and exc[\"unit\"] == \"kilogram\"\n",
    "    ]\n",
    ")\n",
    "\n",
    "expected_co2 += coal * 0.098\n",
    "print(expected_co2)\n",
    "\n",
    "# add input of coal briquettes\n",
    "briquettes = sum(\n",
    "    [\n",
    "        exc[\"amount\"]\n",
    "        for exc in ds[\"exchanges\"]\n",
    "        if \"briquettes\" in exc[\"name\"]\n",
    "        and exc[\"type\"] == \"technosphere\"\n",
    "        and exc[\"unit\"] == \"megajoule\"\n",
    "    ]\n",
    ")\n",
    "\n",
    "expected_co2 += briquettes * 0.098\n",
    "print(expected_co2)\n",
    "\n",
    "# add input of natural gas\n",
    "nat_gas = sum(\n",
    "    [\n",
    "        exc[\"amount\"] * (36 if exc[\"unit\"] == \"cubic meter\" else 47.5)\n",
    "        for exc in ds[\"exchanges\"]\n",
    "        if \"natural gas\" in exc[\"name\"]\n",
    "        and exc[\"type\"] == \"technosphere\"\n",
    "        and exc[\"unit\"] in [\"cubic meter\", \"kilogram\"]\n",
    "    ]\n",
    ")\n",
    "\n",
    "expected_co2 += nat_gas * 0.06\n",
    "print(expected_co2)\n",
    "\n",
    "# add input of liquefied natural gas\n",
    "\n",
    "lpg = sum(\n",
    "    [\n",
    "        exc[\"amount\"] * (36 if exc[\"unit\"] == \"cubic meter\" else 47.5)\n",
    "        for exc in ds[\"exchanges\"]\n",
    "        if \"liquefied petroleum gas\" in exc[\"name\"]\n",
    "        and exc[\"type\"] == \"technosphere\"\n",
    "        and exc[\"unit\"] in [\"cubic meter\", \"kilogram\"]\n",
    "    ]\n",
    ")\n",
    "\n",
    "expected_co2 += lpg * 0.0631\n",
    "print(expected_co2)\n",
    "\n",
    "# add input of diesel\n",
    "diesel = sum(\n",
    "    [\n",
    "        exc[\"amount\"] * 42.6\n",
    "        for exc in ds[\"exchanges\"]\n",
    "        if \"diesel\" in exc[\"name\"]\n",
    "        and exc[\"type\"] == \"technosphere\"\n",
    "        and exc[\"unit\"] == \"kilogram\"\n",
    "    ]\n",
    ")\n",
    "\n",
    "expected_co2 += diesel * 0.0732\n",
    "print(expected_co2)\n",
    "\n",
    "# add input of light fuel oil\n",
    "light_fue_oil = sum(\n",
    "    [\n",
    "        exc[\"amount\"] * 41.8\n",
    "        for exc in ds[\"exchanges\"]\n",
    "        if \"light fuel oil\" in exc[\"name\"]\n",
    "        and exc[\"type\"] == \"technosphere\"\n",
    "        and exc[\"unit\"] == \"kilogram\"\n",
    "    ]\n",
    ")\n",
    "\n",
    "expected_co2 += light_fue_oil * 0.0686\n",
    "print(expected_co2)\n",
    "\n",
    "# add input of heavy fuel oil\n",
    "heavy_fuel_oil = sum(\n",
    "    [\n",
    "        exc[\"amount\"] * 41.8\n",
    "        for exc in ds[\"exchanges\"]\n",
    "        if \"heavy fuel oil\" in exc[\"name\"]\n",
    "        and exc[\"type\"] == \"technosphere\"\n",
    "        and exc[\"unit\"] == \"kilogram\"\n",
    "    ]\n",
    ")\n",
    "\n",
    "expected_co2 += heavy_fuel_oil * 0.0739\n",
    "print(expected_co2)\n",
    "\n",
    "# add input of biomass\n",
    "biomass = sum(\n",
    "    [\n",
    "        exc[\"amount\"] * 18\n",
    "        for exc in ds[\"exchanges\"]\n",
    "        if any(x in exc[\"name\"] for x in [\"biomass\", \"wood\", \"timber\"])\n",
    "        and exc[\"type\"] == \"technosphere\"\n",
    "        and exc[\"unit\"] == \"kilogram\"\n",
    "    ]\n",
    ")\n",
    "\n",
    "expected_co2 += biomass * 0.112\n",
    "print(expected_co2)\n",
    "\n",
    "# add input of methane\n",
    "methane = sum(\n",
    "    [\n",
    "        exc[\"amount\"] * (36 if exc[\"unit\"] == \"cubic meter\" else 47.5)\n",
    "        for exc in ds[\"exchanges\"]\n",
    "        if \"methane\" in exc[\"name\"]\n",
    "        and exc[\"type\"] == \"technosphere\"\n",
    "        and exc[\"unit\"] in [\"kilogram\", \"cubic meter\"]\n",
    "    ]\n",
    ")\n",
    "\n",
    "expected_co2 += methane * 0.06\n",
    "print(expected_co2)\n",
    "\n",
    "# add input of biogas\n",
    "biogas = sum(\n",
    "    [\n",
    "        exc[\"amount\"] * 22.7\n",
    "        for exc in ds[\"exchanges\"]\n",
    "        if \"biogas\" in exc[\"name\"]\n",
    "        and exc[\"type\"] == \"technosphere\"\n",
    "        and exc[\"unit\"] == \"cubic meter\"\n",
    "    ]\n",
    ")\n",
    "\n",
    "expected_co2 += biogas * 0.058\n",
    "print(expected_co2)\n",
    "\n",
    "# add input of methanol\n",
    "methanol = sum(\n",
    "    [\n",
    "        exc[\"amount\"] * 20\n",
    "        for exc in ds[\"exchanges\"]\n",
    "        if \"methanol\" in exc[\"name\"]\n",
    "        and exc[\"type\"] == \"technosphere\"\n",
    "        and exc[\"unit\"] == \"kilogram\"\n",
    "    ]\n",
    ")\n",
    "\n",
    "expected_co2 += methanol * 0.069\n",
    "print(expected_co2)\n",
    "\n",
    "# add input of hydrogen\n",
    "hydrogen = sum(\n",
    "    [\n",
    "        exc[\"amount\"] * 120\n",
    "        for exc in ds[\"exchanges\"]\n",
    "        if \"hydrogen\" in exc[\"name\"]\n",
    "        and exc[\"type\"] == \"technosphere\"\n",
    "        and exc[\"unit\"] == \"kilogram\"\n",
    "    ]\n",
    ")\n",
    "\n",
    "# add input of electricity\n",
    "electricity = sum(\n",
    "    [\n",
    "        exc[\"amount\"] * 3.6\n",
    "        for exc in ds[\"exchanges\"]\n",
    "        if \"electricity\" in exc[\"name\"]\n",
    "        and exc[\"type\"] == \"technosphere\"\n",
    "        and exc[\"unit\"] == \"kilowatt hour\"\n",
    "    ]\n",
    ")\n",
    "\n",
    "energy_input = sum(\n",
    "    [\n",
    "        energy,\n",
    "        coal,\n",
    "        briquettes,\n",
    "        nat_gas,\n",
    "        lpg,\n",
    "        diesel,\n",
    "        light_fue_oil,\n",
    "        heavy_fuel_oil,\n",
    "        biomass,\n",
    "        methane,\n",
    "        biogas,\n",
    "        hydrogen,\n",
    "        methanol,\n",
    "        electricity,\n",
    "    ]\n",
    ")"
   ]
  },
  {
   "cell_type": "code",
   "execution_count": null,
   "id": "7bd28b00f5f5392",
   "metadata": {},
   "outputs": [],
   "source": [
    "[\n",
    "        exc\n",
    "        for exc in ds[\"exchanges\"]\n",
    "        if any(x in exc[\"name\"] for x in [\"biomass\", \"wood\", \"timber\"])\n",
    "        and exc[\"type\"] == \"technosphere\"\n",
    "        and exc[\"unit\"] == \"kilogram\"\n",
    "    ]"
   ]
  },
  {
   "cell_type": "code",
   "execution_count": null,
   "id": "853ca47a3fbaa431",
   "metadata": {},
   "outputs": [],
   "source": [
    "ndb.scenarios[0][\"iam data\"].biomass_mix.sel(region=\"canada\", year=2050)"
   ]
  },
  {
   "cell_type": "code",
   "execution_count": null,
   "id": "7d9fb2546c6e962a",
   "metadata": {},
   "outputs": [],
   "source": [
    "bw2data.projects.set_current(\"ecoinvent-3.9.1-cutoff_bw25\")\n",
    "bw2data.databases"
   ]
  },
  {
   "cell_type": "code",
   "execution_count": null,
   "id": "974a81ed0554eb61",
   "metadata": {},
   "outputs": [],
   "source": [
    "ndb.generate_scenario_report()"
   ]
  },
  {
   "cell_type": "code",
   "execution_count": null,
   "id": "77294127c8e5d2af",
   "metadata": {},
   "outputs": [],
   "source": [
    "ndb.scenarios[0][\"iam data\"].daccs_energy_use"
   ]
  },
  {
   "cell_type": "code",
   "execution_count": null,
   "id": "7e919ed98a057ff4",
   "metadata": {},
   "outputs": [],
   "source": [
    "ndb.update([\n",
    "    #\"fuels\",\n",
    "    \"heat\",\n",
    "    \"final energy\"\n",
    "])"
   ]
  },
  {
   "cell_type": "code",
   "execution_count": null,
   "id": "a8288fb700182251",
   "metadata": {},
   "outputs": [],
   "source": [
    "ndb.write_db_to_brightway(\"heat test 1\")"
   ]
  },
  {
   "cell_type": "code",
   "execution_count": null,
   "id": "1a2f121af17a1940",
   "metadata": {},
   "outputs": [],
   "source": [
    "ndb.write_superstructure_db_to_brightway(\"heat test 1\")"
   ]
  },
  {
   "cell_type": "code",
   "execution_count": null,
   "id": "202bbe6742448c94",
   "metadata": {},
   "outputs": [],
   "source": [
    "from premise.utils import load_database\n",
    "\n",
    "for scenario in ndb.scenarios:\n",
    "    scenario = load_database(scenario)\n",
    "\n",
    "\n",
    "for scenario in ndb.scenarios:\n",
    "    for ds in scenario[\"database\"]:\n",
    "        if ds[\"name\"] == \"biodiesel, burned in passenger train\" and ds[\"location\"] == \"LAM\":\n",
    "            for e in ds[\"exchanges\"]:\n",
    "                    print(e[\"name\"], e[\"amount\"])"
   ]
  },
  {
   "cell_type": "code",
   "execution_count": null,
   "id": "7eafab26864ad499",
   "metadata": {},
   "outputs": [],
   "source": [
    "ndb.scenarios[0][\"iam data\"].buildings_heating_mix.sel(region=\"CAZ\")"
   ]
  },
  {
   "cell_type": "code",
   "execution_count": null,
   "id": "524ba3344b80c2b6",
   "metadata": {},
   "outputs": [],
   "source": [
    "ndb.update(\n",
    "    [\n",
    "        #\"electricity\",\n",
    "        #\"dac\",\n",
    "        #\"fuels\",\n",
    "        \"heat\",\n",
    "        #\"final energy\"\n",
    "    ]\n",
    ")"
   ]
  },
  {
   "cell_type": "code",
   "execution_count": null,
   "id": "d3dd09b526bf1f82",
   "metadata": {},
   "outputs": [],
   "source": [
    "ndb.generate_scenario_report()"
   ]
  },
  {
   "cell_type": "code",
   "execution_count": null,
   "id": "88c93471cd553c7d",
   "metadata": {},
   "outputs": [],
   "source": [
    "ndb.write_db_to_brightway(\"test final energy 12\")"
   ]
  },
  {
   "cell_type": "code",
   "execution_count": null,
   "id": "5071d79546324033",
   "metadata": {},
   "outputs": [],
   "source": [
    "import copy\n",
    "import json\n",
    "import ujson\n",
    "import pickle"
   ]
  },
  {
   "cell_type": "code",
   "execution_count": null,
   "id": "5eb53be8a6f23a38",
   "metadata": {},
   "outputs": [],
   "source": [
    "%%time\n",
    "\n",
    "data = pickle.dumps(ndb.database, -1)\n",
    "db = pickle.loads(data)"
   ]
  },
  {
   "cell_type": "code",
   "execution_count": null,
   "id": "b28016159b90f5d",
   "metadata": {},
   "outputs": [],
   "source": [
    "%%time\n",
    "\n",
    "json_data = ujson.dumps(ndb.database)\n",
    "db = ujson.loads(json_data)"
   ]
  },
  {
   "cell_type": "code",
   "execution_count": null,
   "id": "1c450a254f60e4c2",
   "metadata": {},
   "outputs": [],
   "source": [
    "%%time\n",
    "\n",
    "json_data = json.dumps(ndb.database)\n",
    "db = json.loads(json_data)"
   ]
  },
  {
   "cell_type": "code",
   "execution_count": null,
   "id": "8a71e64160723b7f",
   "metadata": {},
   "outputs": [],
   "source": [
    "%%time\n",
    "\n",
    "db = copy.deepcopy(ndb.database)"
   ]
  },
  {
   "cell_type": "code",
   "execution_count": null,
   "id": "803ad19683f73306",
   "metadata": {},
   "outputs": [],
   "source": [
    "ndb.update()"
   ]
  },
  {
   "cell_type": "code",
   "execution_count": null,
   "id": "4bf7002bded25fc0",
   "metadata": {},
   "outputs": [],
   "source": [
    "for ds in ndb.scenarios[0][\"database\"]:\n",
    "    if ds[\"name\"] == \"market for petrol, low-sulfur, 20-year period\" and ds[\"location\"] == \"WEU\":\n",
    "        for e in ds[\"exchanges\"]:\n",
    "            print(e[\"name\"], e[\"amount\"])"
   ]
  },
  {
   "cell_type": "code",
   "execution_count": null,
   "id": "46ffa09344849b36",
   "metadata": {},
   "outputs": [],
   "source": [
    "ndb.write_db_to_brightway()"
   ]
  },
  {
   "cell_type": "code",
   "execution_count": null,
   "id": "b4d6c662caec731",
   "metadata": {},
   "outputs": [],
   "source": [
    "import pandas as pd\n",
    "fp = \"/Users/romain/GitHub/carculator_utils/carculator_utils/data/emission_factors/car/EF_HBEFA42_exhaust.csv\"\n",
    "df = pd.read_csv(fp)"
   ]
  },
  {
   "cell_type": "code",
   "execution_count": null,
   "id": "ec5b169a919cf6cd",
   "metadata": {},
   "outputs": [],
   "source": [
    "df.loc[df[\"euro_class\"]==6.2]"
   ]
  },
  {
   "cell_type": "code",
   "execution_count": null,
   "id": "7a3199ee79224d44",
   "metadata": {},
   "outputs": [],
   "source": [
    "import pandas as pd\n",
    "fp = \"/Users/romain/GitHub/premise/premise/data/iam_output_files/fleet_files/image_fleet_trucks.csv\"\n",
    "fp_out = \"/Users/romain/GitHub/premise/premise/data/iam_output_files/fleet_files/image_fleet_trucks_.csv\"\n",
    "df = pd.read_csv(fp, sep=\",\")"
   ]
  },
  {
   "cell_type": "code",
   "execution_count": null,
   "id": "94ed0323dc079ff4",
   "metadata": {},
   "outputs": [],
   "source": [
    "df"
   ]
  },
  {
   "cell_type": "code",
   "execution_count": null,
   "id": "e871aa6d3cf026b3",
   "metadata": {},
   "outputs": [],
   "source": [
    "df.groupby([\"year\", \"region\", \"powertrain\", \"size\"]).sum().to_csv(fp_out)"
   ]
  },
  {
   "cell_type": "code",
   "execution_count": null,
   "id": "3df3b2cd643021a0",
   "metadata": {},
   "outputs": [],
   "source": [
    "from bw2io import ExcelImporter\n",
    "import bw2data\n",
    "\n",
    "bw2data.projects.set_current(\"new4\")\n",
    "fp = \"/Users/romain/GitHub/premise/premise/data/additional_inventories/lci-pass_cars.xlsx\"\n",
    "\n",
    "i = ExcelImporter(fp)"
   ]
  },
  {
   "cell_type": "code",
   "execution_count": null,
   "id": "3979959ceb49433",
   "metadata": {},
   "outputs": [],
   "source": [
    "i.apply_strategies()"
   ]
  },
  {
   "cell_type": "code",
   "execution_count": null,
   "id": "aef43528a88126f1",
   "metadata": {},
   "outputs": [],
   "source": [
    "bw2data.databases"
   ]
  },
  {
   "cell_type": "code",
   "execution_count": null,
   "id": "e9d990b5c74b357a",
   "metadata": {},
   "outputs": [],
   "source": [
    "i.match_database(fields=[\"name\", \"reference product\", \"location\"])\n",
    "i.match_database(\"ecoinvent 3.7 cutoff\", fields=[\"name\", \"reference product\", \"location\"])\n",
    "i.match_database(\"biosphere3\", fields=[\"name\", \"categories\",])"
   ]
  },
  {
   "cell_type": "code",
   "execution_count": null,
   "id": "a96f35b910afe5e0",
   "metadata": {},
   "outputs": [],
   "source": [
    "i.statistics()"
   ]
  },
  {
   "cell_type": "code",
   "execution_count": null,
   "id": "1a92ad657ba1e7ea",
   "metadata": {},
   "outputs": [],
   "source": [
    "list(i.unlinked)"
   ]
  },
  {
   "cell_type": "code",
   "execution_count": null,
   "id": "bde98d2501c2a12e",
   "metadata": {},
   "outputs": [],
   "source": [
    "i.write_excel()"
   ]
  },
  {
   "cell_type": "code",
   "execution_count": null,
   "id": "dcbba9f26a414f95",
   "metadata": {},
   "outputs": [],
   "source": [
    "ndb.write_db_to_brightway(\"test batt\")"
   ]
  },
  {
   "cell_type": "code",
   "execution_count": null,
   "id": "75f04ed0f06a640c",
   "metadata": {},
   "outputs": [],
   "source": [
    "ndb.update()"
   ]
  },
  {
   "cell_type": "code",
   "execution_count": null,
   "id": "f28e3831682d9b15",
   "metadata": {},
   "outputs": [],
   "source": [
    "ndb.write_db_to_brightway(\"test13\")"
   ]
  },
  {
   "cell_type": "code",
   "execution_count": null,
   "id": "722cfa5ff851f04b",
   "metadata": {},
   "outputs": [],
   "source": [
    "for ds in ndb.database:\n",
    "    if ds[\"reference product\"] == \"biogas\" and \"market for\" not in ds[\"name\"]:\n",
    "        print(ds[\"location\"])\n",
    "        for e in ds[\"exchanges\"]:\n",
    "            print(e[\"name\"], e[\"amount\"])\n",
    "        print()"
   ]
  },
  {
   "cell_type": "code",
   "execution_count": null,
   "id": "e2135b1e0a7b42fa",
   "metadata": {},
   "outputs": [],
   "source": [
    "ndb.write_db_to_brightway(\"test8\")"
   ]
  },
  {
   "cell_type": "code",
   "execution_count": null,
   "id": "3c4fe43c06daa42b",
   "metadata": {},
   "outputs": [],
   "source": [
    "bw2data."
   ]
  },
  {
   "cell_type": "code",
   "execution_count": null,
   "id": "9b32b8eeaae02b34",
   "metadata": {},
   "outputs": [],
   "source": [
    "FU = [\n",
    "    {a: 1} for a in\n",
    "    bw2data.Database(\"ecoinvent_cutoff_3.9_image_SSP2-Base_2050\")\n",
    "    if a[\"name\"].startswith(\"electricity production\") and a[\"unit\"] == \"kilowatt hour\"\n",
    "]\n",
    "\n",
    "print(len(FU))\n",
    "\n",
    "list_meth = [\n",
    "    ('IPCC 2021', 'climate change', 'GWP 100a, incl. H'),\n",
    "    ('IPCC 2021', 'climate change', 'GWP 100a, incl. H and bio CO2')\n",
    "]\n",
    "import bw2calc\n",
    "bw2data.calculation_setups['multiLCA'] = {'inv': FU, 'ia': list_meth}\n",
    "myMultiLCA = bw2calc.MultiLCA('multiLCA')\n",
    "df_impact_exc = pd.DataFrame(columns = [\", \".join(i) for i in list_meth],\n",
    "     data = myMultiLCA.results,\n",
    "     index=[k[\"name\"] + \", \" + k[\"location\"] for i in FU for k in i]\n",
    ")"
   ]
  },
  {
   "cell_type": "code",
   "execution_count": null,
   "id": "dbe55e9532a7053e",
   "metadata": {},
   "outputs": [],
   "source": [
    "ndb.update_steel()"
   ]
  },
  {
   "cell_type": "code",
   "execution_count": null,
   "id": "ec59eff4cfec16cc",
   "metadata": {},
   "outputs": [],
   "source": [
    "ndb.update_biomass()"
   ]
  },
  {
   "cell_type": "code",
   "execution_count": null,
   "id": "b99d9a1499b8b910",
   "metadata": {},
   "outputs": [],
   "source": [
    "ndb.update_electricity()"
   ]
  },
  {
   "cell_type": "code",
   "execution_count": null,
   "id": "f1d89e791755eb70",
   "metadata": {},
   "outputs": [],
   "source": [
    "ndb.write_db_to_simapro()"
   ]
  },
  {
   "cell_type": "code",
   "execution_count": null,
   "id": "5187b89b36952e9a",
   "metadata": {},
   "outputs": [],
   "source": [
    "for ds in ndb.scenarios[0][\"database\"]:\n",
    "    if ds[\"name\"].startswith(\"market group for electricity, low\"):\n",
    "        print(ds[\"name\"], ds[\"reference product\"], ds[\"location\"])"
   ]
  },
  {
   "cell_type": "code",
   "execution_count": null,
   "id": "7179783a75e3af8a",
   "metadata": {},
   "outputs": [],
   "source": [
    "ndb.scenarios[1][\"iam data\"].carbon_capture_rate"
   ]
  },
  {
   "cell_type": "code",
   "execution_count": null,
   "id": "b22b24917a54e8c9",
   "metadata": {},
   "outputs": [],
   "source": [
    "from collections import defaultdict\n",
    "res = defaultdict(float)\n",
    "for ds in ndb.scenarios[0][\"database\"]:\n",
    "    if ds[\"reference product\"]==\"biogas\":\n",
    "        print(ds[\"location\"], ds[\"name\"])\n",
    "        for e in ds[\"exchanges\"]:\n",
    "            print(e[\"name\"], e[\"amount\"], e.get(\"location\"))\n",
    "        print()\n",
    "\n"
   ]
  },
  {
   "cell_type": "code",
   "execution_count": null,
   "id": "c18f1d54d6fc565a",
   "metadata": {},
   "outputs": [],
   "source": [
    "from collections import defaultdict\n",
    "res = defaultdict(float)\n",
    "for ds in ndb.scenarios[1][\"database\"]:\n",
    "    if ds[\"name\"]==\"market group for heat, district or industrial, natural gas\":\n",
    "        print(ds[\"location\"], ds[\"name\"])\n",
    "        for e in ds[\"exchanges\"]:\n",
    "            print(e[\"name\"], e[\"amount\"], e.get(\"location\"), e[\"type\"])\n",
    "        print()\n"
   ]
  },
  {
   "cell_type": "code",
   "execution_count": null,
   "id": "52000a9fce1790cf",
   "metadata": {},
   "outputs": [],
   "source": [
    "from collections import defaultdict\n",
    "res = defaultdict(float)\n",
    "for ds in ndb.scenarios[0][\"database\"]:\n",
    "    if ds[\"name\"]==\"transport, freight, lorry, plugin diesel hybrid, 26t gross weight, 2020, EURO-VI, regional delivery\" and ds[\"location\"] == \"ME\":\n",
    "        print(ds[\"location\"], ds[\"name\"])\n",
    "        for e in ds[\"exchanges\"]:\n",
    "            print(e[\"name\"], e[\"amount\"], e.get(\"location\"), e[\"type\"])\n",
    "        print()\n"
   ]
  },
  {
   "cell_type": "code",
   "execution_count": null,
   "id": "563e207741d39963",
   "metadata": {},
   "outputs": [],
   "source": [
    "from premise.geomap import Geomap\n",
    "geo = Geomap(\"remind\")\n",
    "geo.ecoinvent_to_iam_location(\"Europe, without Russia and Turkey\")"
   ]
  },
  {
   "cell_type": "code",
   "execution_count": null,
   "id": "b1dc41b3b2c3817",
   "metadata": {},
   "outputs": [],
   "source": [
    "geo.iam_to_ecoinvent_location(\"EUR\")"
   ]
  },
  {
   "cell_type": "code",
   "execution_count": null,
   "id": "8b2bfbd846deff44",
   "metadata": {},
   "outputs": [],
   "source": [
    "geo.rev_additional_mappings"
   ]
  },
  {
   "cell_type": "code",
   "execution_count": null,
   "id": "dc8e7d3613e286db",
   "metadata": {},
   "outputs": [],
   "source": [
    "from collections import defaultdict\n",
    "res = defaultdict(float)\n",
    "for ds in ndb.scenarios[0][\"database\"]:\n",
    "    if ds[\"name\"]==\"pig iron production\" and ds[\"location\"] == \"CHN\":\n",
    "        print(ds[\"location\"], ds[\"name\"])\n",
    "        for e in ds[\"exchanges\"]:\n",
    "            print(e[\"name\"], e[\"amount\"])\n",
    "        print(ds[\"comment\"])\n",
    "        print()\n"
   ]
  },
  {
   "cell_type": "code",
   "execution_count": null,
   "id": "78e52a3234e7ce6b",
   "metadata": {},
   "outputs": [],
   "source": [
    "import pandas as pd\n",
    "import matplotlib.pyplot as plt\n",
    "pd.DataFrame.from_dict(res, orient=\"index\").plot(kind=\"bar\", figsize=(20, 5))\n",
    "plt.ylabel(\"kg heavy fuel oil/kWh\")\n",
    "plt.savefig(\"electricity production, oil.png\")"
   ]
  },
  {
   "cell_type": "code",
   "execution_count": null,
   "id": "940cb5cc5a564302",
   "metadata": {},
   "outputs": [],
   "source": [
    "ndb.scenarios[0][\"iam data\"].electricity_efficiencies.coords[\"variables\"].values"
   ]
  },
  {
   "cell_type": "code",
   "execution_count": null,
   "id": "859bc9dc005e51e7",
   "metadata": {},
   "outputs": [],
   "source": [
    "ndb.scenarios[0][\"iam data\"].electricity_efficiencies.sel(variables=\"Biomass IGCC CCS\", year=2050)"
   ]
  },
  {
   "cell_type": "code",
   "execution_count": null,
   "id": "b74028d7f90bac06",
   "metadata": {},
   "outputs": [],
   "source": [
    "ndb.generate_change_report()"
   ]
  },
  {
   "cell_type": "code",
   "execution_count": null,
   "id": "6d1b4534f5e7851b",
   "metadata": {},
   "outputs": [],
   "source": [
    "ndb.scenarios[0][\"iam data\"].gas_markets.sel(region=\"World\")"
   ]
  },
  {
   "cell_type": "code",
   "execution_count": null,
   "id": "9e979343f8e27c5",
   "metadata": {},
   "outputs": [],
   "source": [
    "ndb.scenarios[0]."
   ]
  },
  {
   "cell_type": "code",
   "execution_count": null,
   "id": "2427c5780288903e",
   "metadata": {},
   "outputs": [],
   "source": [
    "for ds in ndb.scenarios[0][\"database\"]:\n",
    "    for e in ds[\"exchanges\"]:\n",
    "        if e[\"name\"] == \"market for platinum\" and e[\"product\"] == \"platinum\":\n",
    "            print(ds[\"name\"], ds[\"location\"], e[\"name\"], e[\"location\"])"
   ]
  },
  {
   "cell_type": "code",
   "execution_count": null,
   "id": "d97e2d04b4a2deb7",
   "metadata": {},
   "outputs": [],
   "source": [
    "import pprint\n",
    "for ds in ndb.scenarios[0][\"database\"]:\n",
    "    if ds[\"name\"].lower() == \"lithium carbonate, precipitated\":\n",
    "        print(ds[\"name\"], ds[\"location\"])"
   ]
  },
  {
   "cell_type": "code",
   "execution_count": null,
   "id": "88aadd7d378d2f5",
   "metadata": {},
   "outputs": [],
   "source": [
    "from premise.activity_maps import InventorySet\n",
    "inv = InventorySet(ndb.database, \"3.9\")"
   ]
  },
  {
   "cell_type": "code",
   "execution_count": null,
   "id": "3f87ecaaf9daa48a",
   "metadata": {},
   "outputs": [],
   "source": [
    "inv.generate_metals_map()"
   ]
  },
  {
   "cell_type": "code",
   "execution_count": null,
   "id": "fda1e633d9c4e9c3",
   "metadata": {},
   "outputs": [],
   "source": [
    "inv.generate_powerplant_map()"
   ]
  },
  {
   "cell_type": "code",
   "execution_count": null,
   "id": "8a08db342a2d1db7",
   "metadata": {},
   "outputs": [],
   "source": [
    "inv.generate_daccs_map()"
   ]
  },
  {
   "cell_type": "code",
   "execution_count": null,
   "id": "bbcd3da88eb7752e",
   "metadata": {},
   "outputs": [],
   "source": [
    "ndb.write_db_to_brightway(\"test_metals\")"
   ]
  },
  {
   "cell_type": "code",
   "execution_count": null,
   "id": "b0198df77378d745",
   "metadata": {},
   "outputs": [],
   "source": [
    "products = [\n",
    "    'lightweighting, glider',\n",
    "    'auxilliary battery inputs, for road vehicle',\n",
    "    'battery cell, Li-ion, NMC622',\n",
    "    'auxilliary electronics inputs, for fuel cell electric vehicle',\n",
    "    'auxilliary material inputs, for fuel cell electric vehicle',\n",
    "    'fuel cell stack, for fuel cell electric vehicle',\n",
    "    'carbon fiber, weaved',\n",
    "    'tank liner, polyethylene, high density',\n",
    "    'transformer and rectifier unit, for electrolyser',\n",
    "    'fuel tank, for diesel road vehicle',\n",
    "    'fuel tank, for compressed hydrogen gas, 700bar',\n",
    "    'fuel tank, for compressed hydrogen gas, 700bar',\n",
    "    'fuel tank, for compressed hydrogen gas, 700bar',\n",
    "    'fuel tank, for compressed natural gas, 200 bar',\n",
    "    'charger, level 3, plugin, 200 kW, for electric vehicle',\n",
    "    'gearbox, for lorry',\n",
    "    'transmission, for lorry',\n",
    "    'suspension, for lorry',\n",
    "    'power electronics, for lorry',\n",
    "    'auxilliary material inputs, for electric lorry',\n",
    "    'retarder, for lorry',\n",
    "    'cabin, for lorry',\n",
    "    'frame, blanks and saddle, for lorry',\n",
    "    'tires and wheels, for lorry',\n",
    "    'auxilliary material inputs, for hydrid electric lorry',\n",
    "    'exhaust system, for lorry',\n",
    "    'internal combustion engine, for lorry',\n",
    "    'lead acid battery, for lorry',\n",
    "    'charger, level 3, with pantograph, 450 kW, for electric vehicle',\n",
    "    'overhead lines, for electric vehicle',\n",
    "    'battery cell, Li-ion, LTO',\n",
    "    'charging station, 3kW',\n",
    "    'battery cell,  Li-ion, LFP',\n",
    "    'battery cell, Li-ion, NCA',\n",
    "    'assembly operation, for lorry'\n",
    "]\n",
    "\n",
    "print(len(products))\n",
    "\n",
    "acts = [a for a in bw.Database(\"brian\") if a[\"reference product\"] in products]"
   ]
  },
  {
   "cell_type": "code",
   "execution_count": null,
   "id": "72ad43cf12686094",
   "metadata": {},
   "outputs": [],
   "source": [
    "len(acts)"
   ]
  },
  {
   "cell_type": "code",
   "execution_count": null,
   "id": "d97bff3c77594198",
   "metadata": {},
   "outputs": [],
   "source": [
    "[a[\"reference product\"] for a in acts]"
   ]
  },
  {
   "cell_type": "code",
   "execution_count": null,
   "id": "d063670cbb3c7988",
   "metadata": {},
   "outputs": [],
   "source": [
    "import bw2data\n",
    "bw2io.BW2Package.export_obj(obj=bw.Database(\"brian\"), filename=\"db_for_brian.bw2package\")"
   ]
  },
  {
   "cell_type": "code",
   "execution_count": null,
   "id": "857deb761a067276",
   "metadata": {},
   "outputs": [],
   "source": [
    "import bw2data\n",
    "bw2io.BW2Package.import_file(\"db_for_brian.bw2package\")"
   ]
  },
  {
   "cell_type": "code",
   "execution_count": null,
   "id": "617326a88730ae26",
   "metadata": {},
   "outputs": [],
   "source": []
  },
  {
   "cell_type": "code",
   "execution_count": null,
   "id": "c0651775fa31df56",
   "metadata": {},
   "outputs": [],
   "source": [
    "fp = \"/Users/romain/Library/Application Support/Brightway3/ei39.f1469ad5eb0a071dc60323f6e0fce980/output/lci-brian.xlsx\"\n",
    "import bw2io\n",
    "\n",
    "i = bw2io.ExcelImporter(fp)\n",
    "i.apply_strategies()"
   ]
  },
  {
   "cell_type": "code",
   "execution_count": null,
   "id": "234214afe1ea1d6d",
   "metadata": {},
   "outputs": [],
   "source": [
    "ei_acts = list(set([(a[\"name\"], a[\"reference product\"]) for a in bw.Database(\"ecoinvent 3.9.1 cutoff\")]))\n",
    "print(len(ei_acts))"
   ]
  },
  {
   "cell_type": "code",
   "execution_count": null,
   "id": "a697d6bf11cf195a",
   "metadata": {},
   "outputs": [],
   "source": [
    "for ds in i.data:\n",
    "    if (ds[\"name\"], ds[\"reference product\"]) in ei_acts:\n",
    "        i.data.remove(ds)"
   ]
  },
  {
   "cell_type": "code",
   "execution_count": null,
   "id": "9d8304a978b93cf6",
   "metadata": {},
   "outputs": [],
   "source": [
    "for ds in i.data:\n",
    "    if (ds[\"name\"], ds[\"reference product\"]) not in ei_acts:\n",
    "        print(ds[\"name\"])"
   ]
  },
  {
   "cell_type": "code",
   "execution_count": null,
   "id": "34388bf7ba0402a7",
   "metadata": {},
   "outputs": [],
   "source": [
    "len(i.data)"
   ]
  },
  {
   "cell_type": "code",
   "execution_count": null,
   "id": "8e9ee02f88bc750c",
   "metadata": {},
   "outputs": [],
   "source": [
    "for ds in i.data:\n",
    "    print(ds[\"name\"])"
   ]
  },
  {
   "cell_type": "code",
   "execution_count": null,
   "id": "ae7112b8a3688f47",
   "metadata": {},
   "outputs": [],
   "source": [
    "i.match_database(fields=[\"name\", \"unit\", \"location\"])\n",
    "i.match_database(\"ecoinvent 3.9.1 cutoff\", fields=[\"name\", \"reference product\", \"location\", \"unit\"])\n",
    "i.match_database(\"biosphere3\", fields=[\"name\", \"categories\", \"unit\"])"
   ]
  },
  {
   "cell_type": "code",
   "execution_count": null,
   "id": "8edd527169559bad",
   "metadata": {},
   "outputs": [],
   "source": [
    "i.statistics()"
   ]
  },
  {
   "cell_type": "code",
   "execution_count": null,
   "id": "b706db52337ea94e",
   "metadata": {},
   "outputs": [],
   "source": [
    "list(i.unlinked)[-1]"
   ]
  },
  {
   "cell_type": "code",
   "execution_count": null,
   "id": "241e9ab09b839b14",
   "metadata": {},
   "outputs": [],
   "source": [
    "bw.get_activity(('brian', '360c5e612a154ebb8cee2650bcc1bc75_copy1'))"
   ]
  },
  {
   "cell_type": "code",
   "execution_count": null,
   "id": "c2997d115caabc79",
   "metadata": {},
   "outputs": [],
   "source": [
    "for f in bw.Database(\"biosphere3\"):\n",
    "    if f[\"code\"] == \"e030108f-2125-4bcb-a73b-ad72130fcca3\":\n",
    "        print(f)"
   ]
  },
  {
   "cell_type": "code",
   "execution_count": null,
   "id": "be10dfe1c3b03e9b",
   "metadata": {},
   "outputs": [],
   "source": [
    "bw.projects.set_current(\"ei39\")"
   ]
  },
  {
   "cell_type": "code",
   "execution_count": null,
   "id": "8641cc9326594557",
   "metadata": {},
   "outputs": [],
   "source": [
    "l = []\n",
    "\n",
    "for f in bw.Database(\"biosphere3\"):\n",
    "    l.append([f[\"name\"], f[\"categories\"][0], f[\"categories\"][1] if len(f[\"categories\"])>1 else \"unspecified\", f[\"unit\"], f[\"code\"]])"
   ]
  },
  {
   "cell_type": "code",
   "execution_count": null,
   "id": "d14b8b6810407db7",
   "metadata": {},
   "outputs": [],
   "source": [
    "import csv\n",
    "\n",
    "with open(\"flows_biosphere_39.csv\", \"w\", newline=\"\", ) as f:\n",
    "    writer = csv.writer(f, delimiter=\";\")\n",
    "    writer.writerows(l)"
   ]
  },
  {
   "cell_type": "code",
   "execution_count": null,
   "id": "d1033e87e19f1b6a",
   "metadata": {},
   "outputs": [],
   "source": [
    "ndb.scenarios[1][\"iam data\"].fuel_markets.sel(region=\"NEU\").variables.values"
   ]
  },
  {
   "cell_type": "code",
   "execution_count": null,
   "id": "da78d6eb9572402c",
   "metadata": {},
   "outputs": [],
   "source": [
    "import numpy as np\n",
    "for ds in ndb.scenarios[1][\"database\"]:\n",
    "    if ds[\"name\"] == (\"carbon dioxide, captured from atmosphere, with a solvent-based direct air capture system, 1MtCO2, with waste heat, and grid electricity\",\n",
    "                            \"carbon dioxide, captured from atmosphere\"):\n",
    "            print(ds[\"name\"], ds[\"location\"])"
   ]
  },
  {
   "cell_type": "code",
   "execution_count": null,
   "id": "e0406450087645df",
   "metadata": {},
   "outputs": [],
   "source": [
    "for ds in ndb.scenarios[1][\"database\"]:\n",
    "    if \"carbon dioxide, captured\" in ds[\"name\"]:\n",
    "        print(ds[\"name\"], ds[\"location\"])"
   ]
  },
  {
   "cell_type": "code",
   "execution_count": null,
   "id": "6cb99a49758e8a1b",
   "metadata": {},
   "outputs": [],
   "source": [
    "ndb.scenarios[0][\"iam data\"].fuel_markets.sel(region=\"WEU\", year=2050)"
   ]
  },
  {
   "cell_type": "code",
   "execution_count": null,
   "id": "da26d83899a43d74",
   "metadata": {},
   "outputs": [],
   "source": [
    "ndb.scenarios[0][\"iam data\"].fuel_markets.sel(region=\"WEU\")"
   ]
  },
  {
   "cell_type": "code",
   "execution_count": null,
   "id": "182004e2537dc1ea",
   "metadata": {},
   "outputs": [],
   "source": [
    "ndb.update_electricity()"
   ]
  },
  {
   "cell_type": "code",
   "execution_count": null,
   "id": "37ca939a526c842f",
   "metadata": {},
   "outputs": [],
   "source": [
    "ndb.scenarios[0][\"iam data\"].fuel_markets"
   ]
  },
  {
   "cell_type": "code",
   "execution_count": null,
   "id": "79cc76a3a160d93a",
   "metadata": {},
   "outputs": [],
   "source": [
    "ndb.generate_scenario_report()"
   ]
  },
  {
   "cell_type": "code",
   "execution_count": null,
   "id": "27bc35ef5926fb11",
   "metadata": {},
   "outputs": [],
   "source": [
    "ndb.generate_change_report()"
   ]
  },
  {
   "cell_type": "code",
   "execution_count": null,
   "id": "cf45423226ed1e8d",
   "metadata": {},
   "outputs": [],
   "source": [
    "ndb.update_all()"
   ]
  },
  {
   "cell_type": "code",
   "execution_count": null,
   "id": "d060c85ba6db0cf7",
   "metadata": {},
   "outputs": [],
   "source": [
    "ndb.generate_scenario_report()"
   ]
  },
  {
   "cell_type": "code",
   "execution_count": null,
   "id": "aa9e104308187bf1",
   "metadata": {},
   "outputs": [],
   "source": [
    "ndb.generate_change_report()"
   ]
  },
  {
   "cell_type": "code",
   "execution_count": null,
   "id": "5c74db7d325ad48",
   "metadata": {},
   "outputs": [],
   "source": [
    "ndb.scenarios[0][\"iam data\"].gains_data_IAM"
   ]
  },
  {
   "cell_type": "code",
   "execution_count": null,
   "id": "48bf048c7b213ec3",
   "metadata": {},
   "outputs": [],
   "source": []
  },
  {
   "cell_type": "code",
   "execution_count": null,
   "id": "5a2fef918d7cff27",
   "metadata": {},
   "outputs": [],
   "source": [
    "ndb.update_all()"
   ]
  },
  {
   "cell_type": "code",
   "execution_count": null,
   "id": "d29f28a3bfd5ad23",
   "metadata": {},
   "outputs": [],
   "source": [
    "ndb.write_db_to_brightway([\"test_dac\", \"test_dac2\"])"
   ]
  },
  {
   "cell_type": "code",
   "execution_count": null,
   "id": "d07f14760a891021",
   "metadata": {},
   "outputs": [],
   "source": [
    "from premise.geomap import Geomap"
   ]
  },
  {
   "cell_type": "code",
   "execution_count": null,
   "id": "a431188c1913b11e",
   "metadata": {},
   "outputs": [],
   "source": [
    "Geomap()"
   ]
  },
  {
   "cell_type": "code",
   "execution_count": null,
   "id": "5425a624550909c3",
   "metadata": {},
   "outputs": [],
   "source": [
    "Geomap(model=\"remind\").geo.keys()"
   ]
  },
  {
   "cell_type": "code",
   "execution_count": null,
   "id": "702bc0e350d3a479",
   "metadata": {},
   "outputs": [],
   "source": [
    "ndb.scenarios[0][\"iam data\"].carbon_capture_rate.sel(variables=\"steel\")"
   ]
  },
  {
   "cell_type": "code",
   "execution_count": null,
   "id": "16892ef2402a5c64",
   "metadata": {},
   "outputs": [],
   "source": [
    "for ds in ndb.scenarios[0][\"database\"]:\n",
    "    for e in ds[\"exchanges\"]:\n",
    "        if e[\"name\"].startswith(\"CO2 capture, at cement production plant\"):\n",
    "            print(e[\"name\"], e.get(\"location\"), e[\"amount\"])\n",
    "            print(ds[\"name\"])\n",
    "            print(\"--------------------\")"
   ]
  },
  {
   "cell_type": "code",
   "execution_count": null,
   "id": "ac369a7137cc73c",
   "metadata": {},
   "outputs": [],
   "source": []
  }
 ],
 "metadata": {
  "kernelspec": {
   "display_name": "Python 3 (ipykernel)",
   "language": "python",
   "name": "python3"
  },
  "language_info": {
   "codemirror_mode": {
    "name": "ipython",
    "version": 3
   },
   "file_extension": ".py",
   "mimetype": "text/x-python",
   "name": "python",
   "nbconvert_exporter": "python",
   "pygments_lexer": "ipython3",
   "version": "3.11.12"
  }
 },
 "nbformat": 4,
 "nbformat_minor": 5
}
