{
 "cells": [
  {
   "metadata": {
    "ExecuteTime": {
     "end_time": "2025-05-01T08:16:26.001952Z",
     "start_time": "2025-05-01T08:16:19.721095Z"
    }
   },
   "cell_type": "code",
   "source": [
    "%%time\n",
    "\n",
    "from premise import *\n",
    "import bw2data\n",
    "bw2data.projects.set_current(\"ecoinvent-3.10-cutoff\")\n",
    "#bw2data.projects.set_current(\"ecoinvent-3.9.1-cutoff_bw25\")\n",
    "# clear_inventory_cache()\n",
    "scenarios = [\n",
    "    #{\"model\": \"remind\", \"pathway\": \"SSP2-NPi\", \"year\": 2020},\n",
    "    #{\"model\": \"remind\", \"pathway\": \"SSP2-NPi\", \"year\": 2030},\n",
    "    #{\"model\": \"remind\", \"pathway\": \"SSP2-NPi\", \"year\": 2040},\n",
    "    #{\"model\": \"remind\", \"pathway\": \"SSP2-NPi\", \"year\": 2050},\n",
    "    #{\"model\": \"remind\", \"pathway\": \"SSP2-NPi\", \"year\": 2060},\n",
    "    #{\"model\": \"remind\", \"pathway\": \"SSP2-PkBudg1150\", \"year\": 2020},\n",
    "    #{\"model\": \"witch\", \"pathway\": \"SSP2-Base\", \"year\": 2050},\n",
    "    #{\"model\": \"witch\", \"pathway\": \"SSP2-PkBudg1150\", \"year\": 2050},\n",
    "    #{\"model\": \"image\", \"pathway\": \"SSP2-RCP26\", \"year\": 2030},\n",
    "    {\"model\": \"remind\", \"pathway\": \"SSP2-PkBudg1150\", \"year\": 2040},\n",
    "    #{\"model\": \"tiam-ucl\", \"pathway\": \"SSP2-RCP26\", \"year\": 2040},\n",
    "\n",
    "    #{\"model\": \"remind\", \"pathway\": \"SSP2-PkBudg1150\", \"year\": 2060},\n",
    "]\n",
    "\n",
    "ndb = NewDatabase(\n",
    "        scenarios=scenarios,\n",
    "        source_db=\"ecoinvent-3.10.1-cutoff\",\n",
    "        source_version=\"3.10\",\n",
    "        biosphere_name=\"biosphere3\",\n",
    "        key='tUePmX_S5B8ieZkkM7WUU2CnO8SmShwmAeWK9x2rTFo=',\n",
    ")\n",
    "#ndb.write_db_to_brightway(\"test final energy 2\")"
   ],
   "id": "401b7493bc9dc350",
   "outputs": [
    {
     "name": "stdout",
     "output_type": "stream",
     "text": [
      "Loading variables from /Users/romain/Github/premise/dev/variables.yaml\n",
      "USER_DATA_BASE_DIR: test\n",
      "premise v.(2, 3, 0, 'dev0')\n",
      "+------------------------------------------------------------------+\n",
      "| Warning                                                          |\n",
      "+------------------------------------------------------------------+\n",
      "| Because some of the scenarios can yield LCI databases            |\n",
      "| containing net negative emission technologies (NET),             |\n",
      "| it is advised to account for biogenic CO2 flows when calculating |\n",
      "| Global Warming potential indicators.                             |\n",
      "| `premise_gwp` provides characterization factors for such flows.  |\n",
      "| It also provides factors for hydrogen emissions to air.          |\n",
      "|                                                                  |\n",
      "| Within your bw2 project:                                         |\n",
      "| from premise_gwp import add_premise_gwp                          |\n",
      "| add_premise_gwp()                                                |\n",
      "+------------------------------------------------------------------+\n",
      "+--------------------------------+----------------------------------+\n",
      "| Utils functions                | Description                      |\n",
      "+--------------------------------+----------------------------------+\n",
      "| clear_cache()                  | Clears the cache folder. Useful  |\n",
      "|                                | when updating `premise`or        |\n",
      "|                                | encountering issues with         |\n",
      "|                                | inventories.                     |\n",
      "+--------------------------------+----------------------------------+\n",
      "| get_regions_definition(model)  | Retrieves the list of countries  |\n",
      "|                                | for each region of the model.    |\n",
      "+--------------------------------+----------------------------------+\n",
      "| ndb.NewDatabase(...)           | Generates a summary of the most  |\n",
      "| ndb.generate_scenario_report() | important scenarios' variables.  |\n",
      "+--------------------------------+----------------------------------+\n",
      "Keep uncertainty data?\n",
      "NewDatabase(..., keep_source_db_uncertainty=True), keep_imports_uncertainty=True)\n",
      "\n",
      "Hide these messages?\n",
      "NewDatabase(..., quiet=True)\n",
      "- Extracting source database\n",
      "- Extracting inventories\n",
      "- Fetching IAM data\n",
      "The following variables are missing from the IAM file:\n",
      "+----------------------------------+\n",
      "|             Variable             |\n",
      "+----------------------------------+\n",
      "| Production|Industry|Cement w CCS |\n",
      "+----------------------------------+\n",
      "The following variables are missing from the IAM file:\n",
      "+-----------------------------------------+\n",
      "|                 Variable                |\n",
      "+-----------------------------------------+\n",
      "| Production|Industry|Steel|Primary w CCS |\n",
      "+-----------------------------------------+\n",
      "The following variables are missing from the IAM file:\n",
      "+----------------------------------------------------------------------+\n",
      "|                               Variable                               |\n",
      "+----------------------------------------------------------------------+\n",
      "| FE|Transport|Bunkers|Freight|International Shipping|Liquids|Hydrogen |\n",
      "+----------------------------------------------------------------------+\n",
      "The following variables are missing from the IAM file:\n",
      "+-----------------------------------------------------------------------------------+\n",
      "|                                      Variable                                     |\n",
      "+-----------------------------------------------------------------------------------+\n",
      "|         FE|Transport|Pass|Road|LDV|Four Wheelers|Large|Large Car|Hydrogen         |\n",
      "|    FE|Transport|Pass|Road|LDV|Four Wheelers|Small|Subcompact Car|Liquids|Fossil   |\n",
      "|            FE|Transport|Freight|Road|Heavy|Truck(26t)|Liquids|Hydrogen            |\n",
      "|              FE|Transport|Freight|Road|Heavy|Truck(40t)|Gases|Fossil              |\n",
      "|      FE|Transport|Pass|Road|LDV|Four Wheelers|Medium|Midsize Car|Electricity      |\n",
      "|              FE|Transport|Freight|Road|Heavy|Truck(26t)|Gases|Fossil              |\n",
      "|             FE|Transport|Pass|Road|LDV|Two Wheelers|Moped|Electricity             |\n",
      "|    FE|Transport|Pass|Road|LDV|Two Wheelers|Motorcycle(50-250cc)|Liquids|Biomass   |\n",
      "|             FE|Transport|Freight|Road|Heavy|Truck(40t)|Liquids|Biomass            |\n",
      "|           FE|Transport|Freight|Road|Light|Truck(0-3_5t)|Liquids|Biomass           |\n",
      "|          FE|Transport|Bunkers|Pass|International Aviation|Liquids|Biomass         |\n",
      "|       FE|Transport|Pass|Road|LDV|Four Wheelers|Large|Large Car|Gases|Biomass      |\n",
      "|      FE|Transport|Pass|Road|LDV|Two Wheelers|Motorcycle(50-250cc)|Electricity     |\n",
      "|                FE|Transport|Freight|Road|Light|Truck(7_5t)|Hydrogen               |\n",
      "|             FE|Transport|Freight|Road|Heavy|Truck(26t)|Gases|Hydrogen             |\n",
      "|                Final Energy|Industry|Pulp and Paper|Liquids|Fossil                |\n",
      "|     FE|Transport|Pass|Road|LDV|Four Wheelers|Medium|Compact Car|Liquids|Fossil    |\n",
      "|              FE|Transport|Freight|Road|Heavy|Truck(18t)|Gases|Biomass             |\n",
      "|                Final Energy|Industry|Food Processing|Solids|Biomass               |\n",
      "|       FE|Transport|Pass|Road|LDV|Four Wheelers|Small|Mini Car|Liquids|Fossil      |\n",
      "|                     FE|Non-energy Use|Industry|Gases|+|Fossil                     |\n",
      "|     FE|Transport|Pass|Road|LDV|Four Wheelers|Large|Large Car|Liquids|Hydrogen     |\n",
      "|      FE|Transport|Pass|Road|LDV|Four Wheelers|Large|Large Car|Liquids|Biomass     |\n",
      "|            FE|Transport|Freight|Road|Light|Truck(7_5t)|Liquids|Hydrogen           |\n",
      "|        FE|Transport|Bunkers|Freight|International Shipping|Liquids|Hydrogen       |\n",
      "|        FE|Transport|Pass|Road|LDV|Four Wheelers|Small|Mini Car|Electricity        |\n",
      "|      FE|Transport|Pass|Road|LDV|Four Wheelers|Medium|Compact Car|Gases|Fossil     |\n",
      "|             FE|Transport|Freight|Road|Heavy|Truck(26t)|Liquids|Fossil             |\n",
      "|               FE|Transport|Freight|Road|Light|Truck(0-3_5t)|Hydrogen              |\n",
      "|               FE|Transport|Freight|Domestic Shipping|Liquids|Fossil               |\n",
      "|        FE|Transport|Bunkers|Freight|International Shipping|Liquids|Biomass        |\n",
      "|   FE|Transport|Pass|Road|LDV|Four Wheelers|Large|Large Car and SUV|Gases|Biomass  |\n",
      "|             Final Energy|Industry|Fertilizer production|Liquids|Fossil            |\n",
      "|            FE|Transport|Pass|Road|LDV|Two Wheelers|Moped|Liquids|Fossil           |\n",
      "|    FE|Transport|Pass|Road|LDV|Two Wheelers|Motorcycle(>250cc)|Liquids|Hydrogen    |\n",
      "|            FE|Transport|Freight|Road|Heavy|Truck(40t)|Liquids|Hydrogen            |\n",
      "|      FE|Transport|Pass|Road|LDV|Four Wheelers|Large|Large Car|Liquids|Fossil      |\n",
      "|              Final Energy|Industry|Chemicals|Methanol|Liquids|Fossil              |\n",
      "|                      FE|CDR|OAE, traditional calciner|+|Gases                     |\n",
      "|    FE|Transport|Pass|Road|LDV|Four Wheelers|Small|Subcompact Car|Gases|Biomass    |\n",
      "|     FE|Transport|Pass|Road|LDV|Two Wheelers|Motorcycle(>250cc)|Liquids|Biomass    |\n",
      "|             FE|Transport|Freight|Road|Heavy|Truck(40t)|Gases|Hydrogen             |\n",
      "|                FE|Transport|Freight|Road|Heavy|Truck(26t)|Hydrogen                |\n",
      "|   FE|Transport|Pass|Road|LDV|Two Wheelers|Motorcycle(50-250cc)|Liquids|Hydrogen   |\n",
      "|         FE|Transport|Pass|Road|LDV|Four Wheelers|Large|Van|Liquids|Biomass        |\n",
      "|        FE|Transport|Pass|Road|LDV|Four Wheelers|Medium|Compact Car|Hydrogen       |\n",
      "|              FE|Transport|Freight|Road|Heavy|Truck(40t)|Gases|Biomass             |\n",
      "|                    FE|Non-energy Use|Industry|Liquids|+|Biomass                   |\n",
      "|               FE|Transport|Freight|Domestic Shipping|Liquids|Biomass              |\n",
      "|                      FE|CDR|OAE, electric calciner|+|Hydrogen                     |\n",
      "|    FE|Transport|Pass|Road|LDV|Four Wheelers|Medium|Compact Car|Liquids|Biomass    |\n",
      "|           FE|Transport|Pass|Road|LDV|Two Wheelers|Moped|Liquids|Biomass           |\n",
      "|     FE|Transport|Pass|Road|LDV|Four Wheelers|Large|Large Car and SUV|Hydrogen     |\n",
      "|             FE|Transport|Freight|Road|Heavy|Truck(40t)|Liquids|Fossil             |\n",
      "|            FE|Transport|Freight|Road|Light|Truck(0-3_5t)|Gases|Biomass            |\n",
      "|                    FE|Non-energy Use|Industry|Liquids|+|Fossil                    |\n",
      "|  FE|Transport|Pass|Road|LDV|Four Wheelers|Large|Large Car and SUV|Liquids|Fossil  |\n",
      "|      FE|Transport|Pass|Road|LDV|Four Wheelers|Small|Mini Car|Liquids|Hydrogen     |\n",
      "|                    FE|Non-energy Use|Industry|Gases|+|Hydrogen                    |\n",
      "|             FE|Transport|Freight|Road|Light|Truck(0-3_5t)|Electricity             |\n",
      "|               FE|Transport|Freight|Road|Heavy|Truck(26t)|Electricity              |\n",
      "|          FE|Transport|Bunkers|Pass|International Aviation|Liquids|Fossil          |\n",
      "|                FE|Transport|Freight|Road|Heavy|Truck(40t)|Hydrogen                |\n",
      "|             FE|Transport|Freight|Road|Heavy|Truck(18t)|Gases|Hydrogen             |\n",
      "|             FE|Transport|Freight|Road|Light|Truck(7_5t)|Gases|Hydrogen            |\n",
      "|        FE|Transport|Pass|Road|LDV|Four Wheelers|Large|Large Car|Electricity       |\n",
      "|     FE|Transport|Pass|Road|LDV|Four Wheelers|Medium|Midsize Car|Liquids|Fossil    |\n",
      "|          FE|Transport|Pass|Road|LDV|Four Wheelers|Large|Van|Gases|Fossil          |\n",
      "|   FE|Transport|Pass|Road|LDV|Four Wheelers|Large|Large Car and SUV|Gases|Fossil   |\n",
      "|    FE|Transport|Pass|Road|LDV|Four Wheelers|Small|Subcompact Car|Gases|Hydrogen   |\n",
      "|               Final Energy|Industry|Chemicals|Ammonia|Liquids|Fossil              |\n",
      "|              FE|Transport|Freight|Road|Heavy|Truck(18t)|Gases|Fossil              |\n",
      "|           FE|Transport|Pass|Road|LDV|Four Wheelers|Large|Van|Electricity          |\n",
      "|             FE|Transport|Freight|Road|Light|Truck(7_5t)|Liquids|Fossil            |\n",
      "|          FE|Transport|Pass|Road|LDV|Four Wheelers|Large|Van|Gases|Biomass         |\n",
      "|      FE|Transport|Pass|Road|LDV|Four Wheelers|Large|Large Car|Gases|Hydrogen      |\n",
      "|             FE|Transport|Freight|Road|Light|Truck(0-3_5t)|Gases|Fossil            |\n",
      "|      FE|Transport|Pass|Road|LDV|Four Wheelers|Medium|Compact Car|Electricity      |\n",
      "|            FE|Transport|Freight|Road|Light|Truck(7_5t)|Liquids|Biomass            |\n",
      "|         FE|Transport|Pass|Road|LDV|Four Wheelers|Large|Van|Gases|Hydrogen         |\n",
      "|                    FE|Transport|Pass|Domestic Aviation|Hydrogen                   |\n",
      "|                    FE|CDR|OAE, electric calciner|+|Electricity                    |\n",
      "|           FE|Transport|Freight|Road|Light|Truck(0-3_5t)|Liquids|Hydrogen          |\n",
      "|       FE|Transport|Pass|Road|LDV|Four Wheelers|Small|Mini Car|Gases|Biomass       |\n",
      "|             FE|Transport|Freight|Road|Heavy|Truck(18t)|Liquids|Biomass            |\n",
      "|   FE|Transport|Pass|Road|LDV|Four Wheelers|Small|Subcompact Car|Liquids|Hydrogen  |\n",
      "|                      FE|Transport|Pass|Road|Bus|Gases|Biomass                     |\n",
      "|                    FE|Non-energy Use|Industry|Solids|+|Biomass                    |\n",
      "|     FE|Transport|Pass|Road|LDV|Two Wheelers|Motorcycle(>250cc)|Liquids|Fossil     |\n",
      "|                       FE|CDR|OAE, electric calciner|+|Diesel                      |\n",
      "|              Final Energy|Industry|Chemicals|Methanol|Solids|Biomass              |\n",
      "|    FE|Transport|Pass|Road|LDV|Four Wheelers|Medium|Midsize Car|Liquids|Biomass    |\n",
      "|             Final Energy|Industry|Fertilizer production|Solids|Biomass            |\n",
      "|   FE|Transport|Pass|Road|LDV|Four Wheelers|Small|Subcompact Car|Liquids|Biomass   |\n",
      "|      FE|Transport|Pass|Road|LDV|Four Wheelers|Medium|Midsize Car|Gases|Fossil     |\n",
      "|        FE|Transport|Pass|Road|LDV|Four Wheelers|Medium|Midsize Car|Hydrogen       |\n",
      "|             FE|Transport|Freight|Road|Heavy|Truck(26t)|Liquids|Biomass            |\n",
      "|         FE|Transport|Bunkers|Freight|International Shipping|Liquids|Fossil        |\n",
      "|     FE|Transport|Pass|Road|LDV|Four Wheelers|Medium|Compact Car|Gases|Biomass     |\n",
      "|                   FE|Non-energy Use|Industry|Liquids|+|Hydrogen                   |\n",
      "|               FE|Transport|Freight|Road|Heavy|Truck(18t)|Electricity              |\n",
      "|                      FE|Transport|Pass|Road|Bus|Gases|Fossil                      |\n",
      "|                     FE|Non-energy Use|Industry|Solids|+|Fossil                    |\n",
      "|                 FE|Transport|Pass|Domestic Aviation|Liquids|Fossil                |\n",
      "|           FE|Transport|Pass|Road|LDV|Two Wheelers|Moped|Liquids|Hydrogen          |\n",
      "|                     FE|CDR|OAE, traditional calciner|+|Diesel                     |\n",
      "|             FE|Transport|Freight|Road|Light|Truck(7_5t)|Gases|Biomass             |\n",
      "|                Final Energy|Industry|Food Processing|Liquids|Fossil               |\n",
      "|               FE|Transport|Freight|Road|Heavy|Truck(40t)|Electricity              |\n",
      "|       FE|Transport|Pass|Road|LDV|Four Wheelers|Small|Mini Car|Gases|Hydrogen      |\n",
      "|     FE|Transport|Pass|Road|LDV|Four Wheelers|Medium|Midsize Car|Gases|Hydrogen    |\n",
      "|             FE|Transport|Freight|Road|Heavy|Truck(18t)|Liquids|Fossil             |\n",
      "|     FE|Transport|Pass|Road|LDV|Four Wheelers|Medium|Compact Car|Gases|Hydrogen    |\n",
      "|                FE|Transport|Pass|Domestic Aviation|Liquids|Biomass                |\n",
      "|       Final Energy|Industry|Chemicals|Heavy Refinery Products|Liquids|Fossil      |\n",
      "|     FE|Transport|Pass|Road|LDV|Four Wheelers|Medium|Midsize Car|Gases|Biomass     |\n",
      "|        Final Energy|Industry|Chemicals|High-Value Chemicals|Solids|Biomass        |\n",
      "|            FE|Transport|Freight|Road|Light|Truck(0-3_5t)|Gases|Hydrogen           |\n",
      "|       FE|Transport|Pass|Road|LDV|Two Wheelers|Motorcycle(>250cc)|Electricity      |\n",
      "|              FE|Transport|Freight|Road|Heavy|Truck(26t)|Gases|Biomass             |\n",
      "|        FE|Transport|Pass|Road|LDV|Four Wheelers|Large|Van|Liquids|Hydrogen        |\n",
      "|                FE|Transport|Pass|Domestic Aviation|Liquids|Hydrogen               |\n",
      "|        Final Energy|Industry|Chemicals|High-Value Chemicals|Liquids|Fossil        |\n",
      "|    FE|Transport|Pass|Road|LDV|Four Wheelers|Medium|Midsize Car|Liquids|Hydrogen   |\n",
      "| FE|Transport|Pass|Road|LDV|Four Wheelers|Large|Large Car and SUV|Liquids|Hydrogen |\n",
      "|       Final Energy|Industry|Chemicals|Heavy Refinery Products|Solids|Biomass      |\n",
      "|              FE|Transport|Freight|Road|Light|Truck(7_5t)|Gases|Fossil             |\n",
      "|     FE|Transport|Pass|Road|LDV|Four Wheelers|Small|Subcompact Car|Electricity     |\n",
      "|       FE|Transport|Pass|Road|LDV|Four Wheelers|Large|Large Car|Gases|Fossil       |\n",
      "|                   FE|CDR|OAE, traditional calciner|+|Electricity                  |\n",
      "|                    FE|CDR|OAE, traditional calciner|+|Hydrogen                    |\n",
      "|                FE|Transport|Freight|Road|Heavy|Truck(18t)|Hydrogen                |\n",
      "|              FE|Transport|Freight|Domestic Shipping|Liquids|Hydrogen              |\n",
      "|        FE|Transport|Pass|Road|LDV|Four Wheelers|Small|Mini Car|Gases|Fossil       |\n",
      "|         FE|Transport|Bunkers|Pass|International Aviation|Liquids|Hydrogen         |\n",
      "|       FE|Transport|Pass|Road|LDV|Four Wheelers|Small|Subcompact Car|Hydrogen      |\n",
      "|            FE|Transport|Pass|Road|LDV|Four Wheelers|Large|Van|Hydrogen            |\n",
      "|                     FE|Non-energy Use|Industry|Gases|+|Biomass                    |\n",
      "|  FE|Transport|Pass|Road|LDV|Four Wheelers|Large|Large Car and SUV|Liquids|Biomass |\n",
      "|              FE|Transport|Freight|Road|Light|Truck(7_5t)|Electricity              |\n",
      "|    FE|Transport|Pass|Road|LDV|Two Wheelers|Motorcycle(50-250cc)|Liquids|Fossil    |\n",
      "|               Final Energy|Industry|Chemicals|Ammonia|Solids|Biomass              |\n",
      "|    FE|Transport|Pass|Road|LDV|Four Wheelers|Large|Large Car and SUV|Electricity   |\n",
      "|                Final Energy|Industry|Pulp and Paper|Solids|Biomass                |\n",
      "|            FE|Transport|Freight|Road|Heavy|Truck(18t)|Liquids|Hydrogen            |\n",
      "|      FE|Transport|Pass|Road|LDV|Four Wheelers|Small|Mini Car|Liquids|Biomass      |\n",
      "|            FE|Transport|Freight|Road|Light|Truck(0-3_5t)|Liquids|Fossil           |\n",
      "|         FE|Transport|Pass|Road|LDV|Four Wheelers|Large|Van|Liquids|Fossil         |\n",
      "|  FE|Transport|Pass|Road|LDV|Four Wheelers|Large|Large Car and SUV|Gases|Hydrogen  |\n",
      "|     FE|Transport|Pass|Road|LDV|Four Wheelers|Small|Subcompact Car|Gases|Fossil    |\n",
      "|                     FE|Transport|Pass|Road|Bus|Gases|Hydrogen                     |\n",
      "|          FE|Transport|Pass|Road|LDV|Four Wheelers|Small|Mini Car|Hydrogen         |\n",
      "|    FE|Transport|Pass|Road|LDV|Four Wheelers|Medium|Compact Car|Liquids|Hydrogen   |\n",
      "+-----------------------------------------------------------------------------------+\n",
      "The following variables are missing from the IAM file:\n",
      "+----------------------------------------------------------------------+\n",
      "|                               Variable                               |\n",
      "+----------------------------------------------------------------------+\n",
      "|               Production|Industry|Steel|Primary w CCS                |\n",
      "| FE|Transport|Bunkers|Freight|International Shipping|Liquids|Hydrogen |\n",
      "|                   Production|Industry|Cement w CCS                   |\n",
      "+----------------------------------------------------------------------+\n",
      "Done!\n",
      "CPU times: user 5.28 s, sys: 429 ms, total: 5.7 s\n",
      "Wall time: 6.27 s\n"
     ]
    }
   ],
   "execution_count": 1
  },
  {
   "metadata": {
    "ExecuteTime": {
     "end_time": "2025-05-01T08:17:00.471197Z",
     "start_time": "2025-05-01T08:16:26.043917Z"
    }
   },
   "cell_type": "code",
   "source": "ndb.update()",
   "id": "4df7bdd0060d8e61",
   "outputs": [
    {
     "name": "stderr",
     "output_type": "stream",
     "text": [
      "Processing scenarios for all sectors:   0%|     | 0/1 [00:00<?, ?it/s]"
     ]
    },
    {
     "name": "stdout",
     "output_type": "stream",
     "text": [
      "Warning: No activities found for Gas ST -- revise mapping.\n"
     ]
    },
    {
     "name": "stderr",
     "output_type": "stream",
     "text": [
      "Processing scenarios for all sectors:   0%|     | 0/1 [00:32<?, ?it/s]\n"
     ]
    },
    {
     "ename": "KeyError",
     "evalue": "\"not all values found in index 'variables'\"",
     "output_type": "error",
     "traceback": [
      "\u001B[0;31m---------------------------------------------------------------------------\u001B[0m",
      "\u001B[0;31mKeyError\u001B[0m                                  Traceback (most recent call last)",
      "Cell \u001B[0;32mIn[2], line 1\u001B[0m\n\u001B[0;32m----> 1\u001B[0m \u001B[43mndb\u001B[49m\u001B[38;5;241;43m.\u001B[39;49m\u001B[43mupdate\u001B[49m\u001B[43m(\u001B[49m\u001B[43m)\u001B[49m\n",
      "File \u001B[0;32m~/Github/premise/premise/new_database.py:1013\u001B[0m, in \u001B[0;36mNewDatabase.update\u001B[0;34m(self, sectors)\u001B[0m\n\u001B[1;32m   1011\u001B[0m update_func \u001B[38;5;241m=\u001B[39m sector_update_methods[sector][\u001B[38;5;124m\"\u001B[39m\u001B[38;5;124mfunc\u001B[39m\u001B[38;5;124m\"\u001B[39m]\n\u001B[1;32m   1012\u001B[0m fixed_args \u001B[38;5;241m=\u001B[39m sector_update_methods[sector][\u001B[38;5;124m\"\u001B[39m\u001B[38;5;124margs\u001B[39m\u001B[38;5;124m\"\u001B[39m]\n\u001B[0;32m-> 1013\u001B[0m scenario \u001B[38;5;241m=\u001B[39m \u001B[43mupdate_func\u001B[49m\u001B[43m(\u001B[49m\u001B[43mscenario\u001B[49m\u001B[43m,\u001B[49m\u001B[43m \u001B[49m\u001B[38;5;241;43m*\u001B[39;49m\u001B[43mfixed_args\u001B[49m\u001B[43m)\u001B[49m\n\u001B[1;32m   1015\u001B[0m \u001B[38;5;28;01mif\u001B[39;00m \u001B[38;5;124m\"\u001B[39m\u001B[38;5;124mapplied functions\u001B[39m\u001B[38;5;124m\"\u001B[39m \u001B[38;5;129;01mnot\u001B[39;00m \u001B[38;5;129;01min\u001B[39;00m scenario:\n\u001B[1;32m   1016\u001B[0m     scenario[\u001B[38;5;124m\"\u001B[39m\u001B[38;5;124mapplied functions\u001B[39m\u001B[38;5;124m\"\u001B[39m] \u001B[38;5;241m=\u001B[39m []\n",
      "File \u001B[0;32m~/Github/premise/premise/steel.py:35\u001B[0m, in \u001B[0;36m_update_steel\u001B[0;34m(scenario, version, system_model)\u001B[0m\n\u001B[1;32m     21\u001B[0m     \u001B[38;5;28;01mreturn\u001B[39;00m scenario\n\u001B[1;32m     23\u001B[0m steel \u001B[38;5;241m=\u001B[39m Steel(\n\u001B[1;32m     24\u001B[0m     database\u001B[38;5;241m=\u001B[39mscenario[\u001B[38;5;124m\"\u001B[39m\u001B[38;5;124mdatabase\u001B[39m\u001B[38;5;124m\"\u001B[39m],\n\u001B[1;32m     25\u001B[0m     model\u001B[38;5;241m=\u001B[39mscenario[\u001B[38;5;124m\"\u001B[39m\u001B[38;5;124mmodel\u001B[39m\u001B[38;5;124m\"\u001B[39m],\n\u001B[0;32m   (...)\u001B[0m\n\u001B[1;32m     32\u001B[0m     index\u001B[38;5;241m=\u001B[39mscenario\u001B[38;5;241m.\u001B[39mget(\u001B[38;5;124m\"\u001B[39m\u001B[38;5;124mindex\u001B[39m\u001B[38;5;124m\"\u001B[39m),\n\u001B[1;32m     33\u001B[0m )\n\u001B[0;32m---> 35\u001B[0m \u001B[43msteel\u001B[49m\u001B[38;5;241;43m.\u001B[39;49m\u001B[43mgenerate_activities\u001B[49m\u001B[43m(\u001B[49m\u001B[43m)\u001B[49m\n\u001B[1;32m     36\u001B[0m steel\u001B[38;5;241m.\u001B[39mrelink_datasets()\n\u001B[1;32m     37\u001B[0m scenario[\u001B[38;5;124m\"\u001B[39m\u001B[38;5;124mdatabase\u001B[39m\u001B[38;5;124m\"\u001B[39m] \u001B[38;5;241m=\u001B[39m steel\u001B[38;5;241m.\u001B[39mdatabase\n",
      "File \u001B[0;32m~/Github/premise/premise/steel.py:100\u001B[0m, in \u001B[0;36mSteel.generate_activities\u001B[0;34m(self)\u001B[0m\n\u001B[1;32m     98\u001B[0m \u001B[38;5;28mself\u001B[39m\u001B[38;5;241m.\u001B[39mcreate_pig_iron_production_activities()\n\u001B[1;32m     99\u001B[0m \u001B[38;5;28mself\u001B[39m\u001B[38;5;241m.\u001B[39mcreate_pig_iron_markets()\n\u001B[0;32m--> 100\u001B[0m \u001B[38;5;28;43mself\u001B[39;49m\u001B[38;5;241;43m.\u001B[39;49m\u001B[43mcreate_steel_markets\u001B[49m\u001B[43m(\u001B[49m\u001B[43m)\u001B[49m\n\u001B[1;32m    101\u001B[0m \u001B[38;5;28mself\u001B[39m\u001B[38;5;241m.\u001B[39mcreate_steel_production_activities()\n",
      "File \u001B[0;32m~/Github/premise/premise/steel.py:132\u001B[0m, in \u001B[0;36mSteel.create_steel_markets\u001B[0;34m(self)\u001B[0m\n\u001B[1;32m    128\u001B[0m \u001B[38;5;28;01mif\u001B[39;00m loc \u001B[38;5;241m!=\u001B[39m \u001B[38;5;124m\"\u001B[39m\u001B[38;5;124mWorld\u001B[39m\u001B[38;5;124m\"\u001B[39m:\n\u001B[1;32m    129\u001B[0m     \u001B[38;5;66;03m# check that the production volumes are positive\u001B[39;00m\n\u001B[1;32m    130\u001B[0m     \u001B[38;5;66;03m# otherwise we skip the region\u001B[39;00m\n\u001B[1;32m    131\u001B[0m     \u001B[38;5;28;01mif\u001B[39;00m \u001B[38;5;28mself\u001B[39m\u001B[38;5;241m.\u001B[39myear \u001B[38;5;129;01min\u001B[39;00m \u001B[38;5;28mself\u001B[39m\u001B[38;5;241m.\u001B[39miam_data\u001B[38;5;241m.\u001B[39mproduction_volumes\u001B[38;5;241m.\u001B[39myear\u001B[38;5;241m.\u001B[39mvalues:\n\u001B[0;32m--> 132\u001B[0m         prod_vol \u001B[38;5;241m=\u001B[39m \u001B[38;5;28;43mself\u001B[39;49m\u001B[38;5;241;43m.\u001B[39;49m\u001B[43miam_data\u001B[49m\u001B[38;5;241;43m.\u001B[39;49m\u001B[43mproduction_volumes\u001B[49m\u001B[38;5;241;43m.\u001B[39;49m\u001B[43msel\u001B[49m\u001B[43m(\u001B[49m\n\u001B[1;32m    133\u001B[0m \u001B[43m            \u001B[49m\u001B[43mregion\u001B[49m\u001B[38;5;241;43m=\u001B[39;49m\u001B[43mloc\u001B[49m\u001B[43m,\u001B[49m\n\u001B[1;32m    134\u001B[0m \u001B[43m            \u001B[49m\u001B[43mvariables\u001B[49m\u001B[38;5;241;43m=\u001B[39;49m\u001B[43m[\u001B[49m\u001B[38;5;124;43m\"\u001B[39;49m\u001B[38;5;124;43msteel - primary\u001B[39;49m\u001B[38;5;124;43m\"\u001B[39;49m\u001B[43m,\u001B[49m\u001B[43m \u001B[49m\u001B[38;5;124;43m\"\u001B[39;49m\u001B[38;5;124;43msteel - secondary\u001B[39;49m\u001B[38;5;124;43m\"\u001B[39;49m\u001B[43m]\u001B[49m\u001B[43m,\u001B[49m\n\u001B[1;32m    135\u001B[0m \u001B[43m            \u001B[49m\u001B[43myear\u001B[49m\u001B[38;5;241;43m=\u001B[39;49m\u001B[38;5;28;43mself\u001B[39;49m\u001B[38;5;241;43m.\u001B[39;49m\u001B[43myear\u001B[49m\u001B[43m,\u001B[49m\n\u001B[1;32m    136\u001B[0m \u001B[43m        \u001B[49m\u001B[43m)\u001B[49m\u001B[38;5;241m.\u001B[39msum(dim\u001B[38;5;241m=\u001B[39m\u001B[38;5;124m\"\u001B[39m\u001B[38;5;124mvariables\u001B[39m\u001B[38;5;124m\"\u001B[39m)\n\u001B[1;32m    138\u001B[0m     \u001B[38;5;28;01melse\u001B[39;00m:\n\u001B[1;32m    139\u001B[0m         prod_vol \u001B[38;5;241m=\u001B[39m (\n\u001B[1;32m    140\u001B[0m             \u001B[38;5;28mself\u001B[39m\u001B[38;5;241m.\u001B[39miam_data\u001B[38;5;241m.\u001B[39mproduction_volumes\u001B[38;5;241m.\u001B[39msel(\n\u001B[1;32m    141\u001B[0m                 region\u001B[38;5;241m=\u001B[39mloc,\n\u001B[0;32m   (...)\u001B[0m\n\u001B[1;32m    145\u001B[0m             \u001B[38;5;241m.\u001B[39msum(dim\u001B[38;5;241m=\u001B[39m\u001B[38;5;124m\"\u001B[39m\u001B[38;5;124mvariables\u001B[39m\u001B[38;5;124m\"\u001B[39m)\n\u001B[1;32m    146\u001B[0m         )\n",
      "File \u001B[0;32m~/anaconda3/envs/premise/lib/python3.10/site-packages/xarray/core/dataarray.py:1615\u001B[0m, in \u001B[0;36mDataArray.sel\u001B[0;34m(self, indexers, method, tolerance, drop, **indexers_kwargs)\u001B[0m\n\u001B[1;32m   1499\u001B[0m \u001B[38;5;28;01mdef\u001B[39;00m \u001B[38;5;21msel\u001B[39m(\n\u001B[1;32m   1500\u001B[0m     \u001B[38;5;28mself\u001B[39m,\n\u001B[1;32m   1501\u001B[0m     indexers: Mapping[Any, Any] \u001B[38;5;241m|\u001B[39m \u001B[38;5;28;01mNone\u001B[39;00m \u001B[38;5;241m=\u001B[39m \u001B[38;5;28;01mNone\u001B[39;00m,\n\u001B[0;32m   (...)\u001B[0m\n\u001B[1;32m   1505\u001B[0m     \u001B[38;5;241m*\u001B[39m\u001B[38;5;241m*\u001B[39mindexers_kwargs: Any,\n\u001B[1;32m   1506\u001B[0m ) \u001B[38;5;241m-\u001B[39m\u001B[38;5;241m>\u001B[39m Self:\n\u001B[1;32m   1507\u001B[0m \u001B[38;5;250m    \u001B[39m\u001B[38;5;124;03m\"\"\"Return a new DataArray whose data is given by selecting index\u001B[39;00m\n\u001B[1;32m   1508\u001B[0m \u001B[38;5;124;03m    labels along the specified dimension(s).\u001B[39;00m\n\u001B[1;32m   1509\u001B[0m \n\u001B[0;32m   (...)\u001B[0m\n\u001B[1;32m   1613\u001B[0m \u001B[38;5;124;03m    Dimensions without coordinates: points\u001B[39;00m\n\u001B[1;32m   1614\u001B[0m \u001B[38;5;124;03m    \"\"\"\u001B[39;00m\n\u001B[0;32m-> 1615\u001B[0m     ds \u001B[38;5;241m=\u001B[39m \u001B[38;5;28;43mself\u001B[39;49m\u001B[38;5;241;43m.\u001B[39;49m\u001B[43m_to_temp_dataset\u001B[49m\u001B[43m(\u001B[49m\u001B[43m)\u001B[49m\u001B[38;5;241;43m.\u001B[39;49m\u001B[43msel\u001B[49m\u001B[43m(\u001B[49m\n\u001B[1;32m   1616\u001B[0m \u001B[43m        \u001B[49m\u001B[43mindexers\u001B[49m\u001B[38;5;241;43m=\u001B[39;49m\u001B[43mindexers\u001B[49m\u001B[43m,\u001B[49m\n\u001B[1;32m   1617\u001B[0m \u001B[43m        \u001B[49m\u001B[43mdrop\u001B[49m\u001B[38;5;241;43m=\u001B[39;49m\u001B[43mdrop\u001B[49m\u001B[43m,\u001B[49m\n\u001B[1;32m   1618\u001B[0m \u001B[43m        \u001B[49m\u001B[43mmethod\u001B[49m\u001B[38;5;241;43m=\u001B[39;49m\u001B[43mmethod\u001B[49m\u001B[43m,\u001B[49m\n\u001B[1;32m   1619\u001B[0m \u001B[43m        \u001B[49m\u001B[43mtolerance\u001B[49m\u001B[38;5;241;43m=\u001B[39;49m\u001B[43mtolerance\u001B[49m\u001B[43m,\u001B[49m\n\u001B[1;32m   1620\u001B[0m \u001B[43m        \u001B[49m\u001B[38;5;241;43m*\u001B[39;49m\u001B[38;5;241;43m*\u001B[39;49m\u001B[43mindexers_kwargs\u001B[49m\u001B[43m,\u001B[49m\n\u001B[1;32m   1621\u001B[0m \u001B[43m    \u001B[49m\u001B[43m)\u001B[49m\n\u001B[1;32m   1622\u001B[0m     \u001B[38;5;28;01mreturn\u001B[39;00m \u001B[38;5;28mself\u001B[39m\u001B[38;5;241m.\u001B[39m_from_temp_dataset(ds)\n",
      "File \u001B[0;32m~/anaconda3/envs/premise/lib/python3.10/site-packages/xarray/core/dataset.py:3098\u001B[0m, in \u001B[0;36mDataset.sel\u001B[0;34m(self, indexers, method, tolerance, drop, **indexers_kwargs)\u001B[0m\n\u001B[1;32m   3030\u001B[0m \u001B[38;5;250m\u001B[39m\u001B[38;5;124;03m\"\"\"Returns a new dataset with each array indexed by tick labels\u001B[39;00m\n\u001B[1;32m   3031\u001B[0m \u001B[38;5;124;03malong the specified dimension(s).\u001B[39;00m\n\u001B[1;32m   3032\u001B[0m \n\u001B[0;32m   (...)\u001B[0m\n\u001B[1;32m   3095\u001B[0m \n\u001B[1;32m   3096\u001B[0m \u001B[38;5;124;03m\"\"\"\u001B[39;00m\n\u001B[1;32m   3097\u001B[0m indexers \u001B[38;5;241m=\u001B[39m either_dict_or_kwargs(indexers, indexers_kwargs, \u001B[38;5;124m\"\u001B[39m\u001B[38;5;124msel\u001B[39m\u001B[38;5;124m\"\u001B[39m)\n\u001B[0;32m-> 3098\u001B[0m query_results \u001B[38;5;241m=\u001B[39m \u001B[43mmap_index_queries\u001B[49m\u001B[43m(\u001B[49m\n\u001B[1;32m   3099\u001B[0m \u001B[43m    \u001B[49m\u001B[38;5;28;43mself\u001B[39;49m\u001B[43m,\u001B[49m\u001B[43m \u001B[49m\u001B[43mindexers\u001B[49m\u001B[38;5;241;43m=\u001B[39;49m\u001B[43mindexers\u001B[49m\u001B[43m,\u001B[49m\u001B[43m \u001B[49m\u001B[43mmethod\u001B[49m\u001B[38;5;241;43m=\u001B[39;49m\u001B[43mmethod\u001B[49m\u001B[43m,\u001B[49m\u001B[43m \u001B[49m\u001B[43mtolerance\u001B[49m\u001B[38;5;241;43m=\u001B[39;49m\u001B[43mtolerance\u001B[49m\n\u001B[1;32m   3100\u001B[0m \u001B[43m\u001B[49m\u001B[43m)\u001B[49m\n\u001B[1;32m   3102\u001B[0m \u001B[38;5;28;01mif\u001B[39;00m drop:\n\u001B[1;32m   3103\u001B[0m     no_scalar_variables \u001B[38;5;241m=\u001B[39m {}\n",
      "File \u001B[0;32m~/anaconda3/envs/premise/lib/python3.10/site-packages/xarray/core/indexing.py:193\u001B[0m, in \u001B[0;36mmap_index_queries\u001B[0;34m(obj, indexers, method, tolerance, **indexers_kwargs)\u001B[0m\n\u001B[1;32m    191\u001B[0m         results\u001B[38;5;241m.\u001B[39mappend(IndexSelResult(labels))\n\u001B[1;32m    192\u001B[0m     \u001B[38;5;28;01melse\u001B[39;00m:\n\u001B[0;32m--> 193\u001B[0m         results\u001B[38;5;241m.\u001B[39mappend(\u001B[43mindex\u001B[49m\u001B[38;5;241;43m.\u001B[39;49m\u001B[43msel\u001B[49m\u001B[43m(\u001B[49m\u001B[43mlabels\u001B[49m\u001B[43m,\u001B[49m\u001B[43m \u001B[49m\u001B[38;5;241;43m*\u001B[39;49m\u001B[38;5;241;43m*\u001B[39;49m\u001B[43moptions\u001B[49m\u001B[43m)\u001B[49m)\n\u001B[1;32m    195\u001B[0m merged \u001B[38;5;241m=\u001B[39m merge_sel_results(results)\n\u001B[1;32m    197\u001B[0m \u001B[38;5;66;03m# drop dimension coordinates found in dimension indexers\u001B[39;00m\n\u001B[1;32m    198\u001B[0m \u001B[38;5;66;03m# (also drop multi-index if any)\u001B[39;00m\n\u001B[1;32m    199\u001B[0m \u001B[38;5;66;03m# (.sel() already ensures alignment)\u001B[39;00m\n",
      "File \u001B[0;32m~/anaconda3/envs/premise/lib/python3.10/site-packages/xarray/core/indexes.py:784\u001B[0m, in \u001B[0;36mPandasIndex.sel\u001B[0;34m(self, labels, method, tolerance)\u001B[0m\n\u001B[1;32m    782\u001B[0m     indexer \u001B[38;5;241m=\u001B[39m get_indexer_nd(\u001B[38;5;28mself\u001B[39m\u001B[38;5;241m.\u001B[39mindex, label_array, method, tolerance)\n\u001B[1;32m    783\u001B[0m     \u001B[38;5;28;01mif\u001B[39;00m np\u001B[38;5;241m.\u001B[39many(indexer \u001B[38;5;241m<\u001B[39m \u001B[38;5;241m0\u001B[39m):\n\u001B[0;32m--> 784\u001B[0m         \u001B[38;5;28;01mraise\u001B[39;00m \u001B[38;5;167;01mKeyError\u001B[39;00m(\u001B[38;5;124mf\u001B[39m\u001B[38;5;124m\"\u001B[39m\u001B[38;5;124mnot all values found in index \u001B[39m\u001B[38;5;132;01m{\u001B[39;00mcoord_name\u001B[38;5;132;01m!r}\u001B[39;00m\u001B[38;5;124m\"\u001B[39m)\n\u001B[1;32m    786\u001B[0m \u001B[38;5;66;03m# attach dimension names and/or coordinates to positional indexer\u001B[39;00m\n\u001B[1;32m    787\u001B[0m \u001B[38;5;28;01mif\u001B[39;00m \u001B[38;5;28misinstance\u001B[39m(label, Variable):\n",
      "\u001B[0;31mKeyError\u001B[0m: \"not all values found in index 'variables'\""
     ]
    }
   ],
   "execution_count": 2
  },
  {
   "metadata": {
    "ExecuteTime": {
     "end_time": "2025-05-01T08:17:00.477197Z",
     "start_time": "2025-05-01T08:09:27.313533Z"
    }
   },
   "cell_type": "code",
   "source": "ndb.write_db_to_brightway(\"test mining 3\")",
   "id": "3b73c52038cbae6e",
   "outputs": [
    {
     "name": "stdout",
     "output_type": "stream",
     "text": [
      "Write new database(s) to Brightway.\n",
      "Running all checks...\n",
      "Minor anomalies found: check the change report.\n",
      "Warning: No valid output stream.\n",
      "Title: Writing activities to SQLite3 database:\n",
      "  Started: 05/01/2025 10:10:32\n",
      "  Finished: 05/01/2025 10:10:56\n",
      "  Total time elapsed: 00:00:24\n",
      "  CPU %: 93.40\n",
      "  Memory %: 11.30\n",
      "Created database: test mining 2\n",
      "Generate scenario report.\n",
      "Report saved under /Users/romain/Github/premise/dev/export/scenario_report.\n",
      "Generate change report.\n",
      "Report saved under /Users/romain/Github/premise/dev.\n"
     ]
    }
   ],
   "execution_count": 3
  },
  {
   "metadata": {
    "ExecuteTime": {
     "end_time": "2025-04-09T07:44:19.571693Z",
     "start_time": "2025-04-09T07:34:20.260027Z"
    }
   },
   "cell_type": "code",
   "source": "ndb.write_db_to_brightway(\"witch test 3\")",
   "id": "7e1c1e730d374291",
   "outputs": [
    {
     "name": "stdout",
     "output_type": "stream",
     "text": [
      "Write new database(s) to Brightway.\n",
      "Running all checks...\n",
      "Minor anomalies found: check the change report.\n",
      "Warning: No valid output stream.\n",
      "Title: Writing activities to SQLite3 database:\n",
      "  Started: 04/09/2025 09:37:43\n",
      "  Finished: 04/09/2025 09:38:12\n",
      "  Total time elapsed: 00:00:29\n",
      "  CPU %: 89.40\n",
      "  Memory %: 16.14\n",
      "Created database: witch test 3\n",
      "Generate scenario report.\n",
      "Report saved under /Users/romain/GitHub/premise/dev/export/scenario_report.\n",
      "Generate change report.\n",
      "Report saved under /Users/romain/GitHub/premise/dev.\n"
     ]
    }
   ],
   "execution_count": 3
  },
  {
   "metadata": {
    "ExecuteTime": {
     "end_time": "2025-04-09T07:52:36.110376Z",
     "start_time": "2025-04-09T07:52:36.044502Z"
    }
   },
   "cell_type": "code",
   "source": "ndb.scenarios[0][\"iam data\"].petrol_efficiencies.sel(region=\"eu27\", year=2050)",
   "id": "6c50e2b2a5fe62d0",
   "outputs": [
    {
     "ename": "AttributeError",
     "evalue": "'IAMDataCollection' object has no attribute 'petrol_efficiencies'",
     "output_type": "error",
     "traceback": [
      "\u001B[0;31m---------------------------------------------------------------------------\u001B[0m",
      "\u001B[0;31mAttributeError\u001B[0m                            Traceback (most recent call last)",
      "Cell \u001B[0;32mIn[6], line 1\u001B[0m\n\u001B[0;32m----> 1\u001B[0m ndb\u001B[38;5;241m.\u001B[39mscenarios[\u001B[38;5;241m0\u001B[39m][\u001B[38;5;124m\"\u001B[39m\u001B[38;5;124miam data\u001B[39m\u001B[38;5;124m\"\u001B[39m]\u001B[38;5;241m.\u001B[39mpetrol_efficiencies\u001B[38;5;241m.\u001B[39msel(region\u001B[38;5;241m=\u001B[39m\u001B[38;5;124m\"\u001B[39m\u001B[38;5;124meu27\u001B[39m\u001B[38;5;124m\"\u001B[39m, year\u001B[38;5;241m=\u001B[39m\u001B[38;5;241m2050\u001B[39m)\n",
      "\u001B[0;31mAttributeError\u001B[0m: 'IAMDataCollection' object has no attribute 'petrol_efficiencies'"
     ]
    }
   ],
   "execution_count": 6
  },
  {
   "metadata": {},
   "cell_type": "code",
   "outputs": [],
   "execution_count": null,
   "source": [
    "from premise.utils import load_database\n",
    "\n",
    "for scenario in ndb.scenarios:\n",
    "    scenario = load_database(scenario)"
   ],
   "id": "1461747f13237266"
  },
  {
   "metadata": {},
   "cell_type": "code",
   "outputs": [],
   "execution_count": null,
   "source": [
    "for ds in ndb.scenarios[0][\"database\"]:\n",
    "    if ds[\"name\"] == \"heat, residential, by combustion of methanol using boiler, distributed by truck, produced with biomass\" and ds[\"location\"] == \"brazil\":\n",
    "        for e in ds[\"exchanges\"]:\n",
    "            print(e[\"name\"], e[\"amount\"])\n",
    "        print()\n",
    "        break"
   ],
   "id": "abb7edb84da2ed10"
  },
  {
   "metadata": {},
   "cell_type": "code",
   "outputs": [],
   "execution_count": null,
   "source": "ndb.scenarios[0][\"iam data\"].passenger_car_efficiencies.sel(region=\"india\")",
   "id": "489d4403f84d2e24"
  },
  {
   "metadata": {},
   "cell_type": "code",
   "outputs": [],
   "execution_count": null,
   "source": [
    "expected_co2 = 0.0\n",
    "\n",
    "energy = sum(\n",
    "    [\n",
    "        exc[\"amount\"]\n",
    "        for exc in ds[\"exchanges\"]\n",
    "        if exc[\"unit\"] == \"megajoule\" and exc[\"type\"] == \"technosphere\"\n",
    "    ]\n",
    ")\n",
    "# add input of coal\n",
    "coal = sum(\n",
    "    [\n",
    "        exc[\"amount\"] * 26.4\n",
    "        for exc in ds[\"exchanges\"]\n",
    "        if \"hard coal\" in exc[\"name\"]\n",
    "        and exc[\"type\"] == \"technosphere\"\n",
    "        and exc[\"unit\"] == \"kilogram\"\n",
    "    ]\n",
    ")\n",
    "\n",
    "expected_co2 += coal * 0.098\n",
    "print(expected_co2)\n",
    "\n",
    "# add input of coal briquettes\n",
    "briquettes = sum(\n",
    "    [\n",
    "        exc[\"amount\"]\n",
    "        for exc in ds[\"exchanges\"]\n",
    "        if \"briquettes\" in exc[\"name\"]\n",
    "        and exc[\"type\"] == \"technosphere\"\n",
    "        and exc[\"unit\"] == \"megajoule\"\n",
    "    ]\n",
    ")\n",
    "\n",
    "expected_co2 += briquettes * 0.098\n",
    "print(expected_co2)\n",
    "\n",
    "# add input of natural gas\n",
    "nat_gas = sum(\n",
    "    [\n",
    "        exc[\"amount\"] * (36 if exc[\"unit\"] == \"cubic meter\" else 47.5)\n",
    "        for exc in ds[\"exchanges\"]\n",
    "        if \"natural gas\" in exc[\"name\"]\n",
    "        and exc[\"type\"] == \"technosphere\"\n",
    "        and exc[\"unit\"] in [\"cubic meter\", \"kilogram\"]\n",
    "    ]\n",
    ")\n",
    "\n",
    "expected_co2 += nat_gas * 0.06\n",
    "print(expected_co2)\n",
    "\n",
    "# add input of liquefied natural gas\n",
    "\n",
    "lpg = sum(\n",
    "    [\n",
    "        exc[\"amount\"] * (36 if exc[\"unit\"] == \"cubic meter\" else 47.5)\n",
    "        for exc in ds[\"exchanges\"]\n",
    "        if \"liquefied petroleum gas\" in exc[\"name\"]\n",
    "        and exc[\"type\"] == \"technosphere\"\n",
    "        and exc[\"unit\"] in [\"cubic meter\", \"kilogram\"]\n",
    "    ]\n",
    ")\n",
    "\n",
    "expected_co2 += lpg * 0.0631\n",
    "print(expected_co2)\n",
    "\n",
    "# add input of diesel\n",
    "diesel = sum(\n",
    "    [\n",
    "        exc[\"amount\"] * 42.6\n",
    "        for exc in ds[\"exchanges\"]\n",
    "        if \"diesel\" in exc[\"name\"]\n",
    "        and exc[\"type\"] == \"technosphere\"\n",
    "        and exc[\"unit\"] == \"kilogram\"\n",
    "    ]\n",
    ")\n",
    "\n",
    "expected_co2 += diesel * 0.0732\n",
    "print(expected_co2)\n",
    "\n",
    "# add input of light fuel oil\n",
    "light_fue_oil = sum(\n",
    "    [\n",
    "        exc[\"amount\"] * 41.8\n",
    "        for exc in ds[\"exchanges\"]\n",
    "        if \"light fuel oil\" in exc[\"name\"]\n",
    "        and exc[\"type\"] == \"technosphere\"\n",
    "        and exc[\"unit\"] == \"kilogram\"\n",
    "    ]\n",
    ")\n",
    "\n",
    "expected_co2 += light_fue_oil * 0.0686\n",
    "print(expected_co2)\n",
    "\n",
    "# add input of heavy fuel oil\n",
    "heavy_fuel_oil = sum(\n",
    "    [\n",
    "        exc[\"amount\"] * 41.8\n",
    "        for exc in ds[\"exchanges\"]\n",
    "        if \"heavy fuel oil\" in exc[\"name\"]\n",
    "        and exc[\"type\"] == \"technosphere\"\n",
    "        and exc[\"unit\"] == \"kilogram\"\n",
    "    ]\n",
    ")\n",
    "\n",
    "expected_co2 += heavy_fuel_oil * 0.0739\n",
    "print(expected_co2)\n",
    "\n",
    "# add input of biomass\n",
    "biomass = sum(\n",
    "    [\n",
    "        exc[\"amount\"] * 18\n",
    "        for exc in ds[\"exchanges\"]\n",
    "        if any(x in exc[\"name\"] for x in [\"biomass\", \"wood\", \"timber\"])\n",
    "        and exc[\"type\"] == \"technosphere\"\n",
    "        and exc[\"unit\"] == \"kilogram\"\n",
    "    ]\n",
    ")\n",
    "\n",
    "expected_co2 += biomass * 0.112\n",
    "print(expected_co2)\n",
    "\n",
    "# add input of methane\n",
    "methane = sum(\n",
    "    [\n",
    "        exc[\"amount\"] * (36 if exc[\"unit\"] == \"cubic meter\" else 47.5)\n",
    "        for exc in ds[\"exchanges\"]\n",
    "        if \"methane\" in exc[\"name\"]\n",
    "        and exc[\"type\"] == \"technosphere\"\n",
    "        and exc[\"unit\"] in [\"kilogram\", \"cubic meter\"]\n",
    "    ]\n",
    ")\n",
    "\n",
    "expected_co2 += methane * 0.06\n",
    "print(expected_co2)\n",
    "\n",
    "# add input of biogas\n",
    "biogas = sum(\n",
    "    [\n",
    "        exc[\"amount\"] * 22.7\n",
    "        for exc in ds[\"exchanges\"]\n",
    "        if \"biogas\" in exc[\"name\"]\n",
    "        and exc[\"type\"] == \"technosphere\"\n",
    "        and exc[\"unit\"] == \"cubic meter\"\n",
    "    ]\n",
    ")\n",
    "\n",
    "expected_co2 += biogas * 0.058\n",
    "print(expected_co2)\n",
    "\n",
    "# add input of methanol\n",
    "methanol = sum(\n",
    "    [\n",
    "        exc[\"amount\"] * 20\n",
    "        for exc in ds[\"exchanges\"]\n",
    "        if \"methanol\" in exc[\"name\"]\n",
    "        and exc[\"type\"] == \"technosphere\"\n",
    "        and exc[\"unit\"] == \"kilogram\"\n",
    "    ]\n",
    ")\n",
    "\n",
    "expected_co2 += methanol * 0.069\n",
    "print(expected_co2)\n",
    "\n",
    "# add input of hydrogen\n",
    "hydrogen = sum(\n",
    "    [\n",
    "        exc[\"amount\"] * 120\n",
    "        for exc in ds[\"exchanges\"]\n",
    "        if \"hydrogen\" in exc[\"name\"]\n",
    "        and exc[\"type\"] == \"technosphere\"\n",
    "        and exc[\"unit\"] == \"kilogram\"\n",
    "    ]\n",
    ")\n",
    "\n",
    "# add input of electricity\n",
    "electricity = sum(\n",
    "    [\n",
    "        exc[\"amount\"] * 3.6\n",
    "        for exc in ds[\"exchanges\"]\n",
    "        if \"electricity\" in exc[\"name\"]\n",
    "        and exc[\"type\"] == \"technosphere\"\n",
    "        and exc[\"unit\"] == \"kilowatt hour\"\n",
    "    ]\n",
    ")\n",
    "\n",
    "energy_input = sum(\n",
    "    [\n",
    "        energy,\n",
    "        coal,\n",
    "        briquettes,\n",
    "        nat_gas,\n",
    "        lpg,\n",
    "        diesel,\n",
    "        light_fue_oil,\n",
    "        heavy_fuel_oil,\n",
    "        biomass,\n",
    "        methane,\n",
    "        biogas,\n",
    "        hydrogen,\n",
    "        methanol,\n",
    "        electricity,\n",
    "    ]\n",
    ")"
   ],
   "id": "a15ca81672e68398"
  },
  {
   "metadata": {},
   "cell_type": "code",
   "outputs": [],
   "execution_count": null,
   "source": [
    "[\n",
    "        exc\n",
    "        for exc in ds[\"exchanges\"]\n",
    "        if any(x in exc[\"name\"] for x in [\"biomass\", \"wood\", \"timber\"])\n",
    "        and exc[\"type\"] == \"technosphere\"\n",
    "        and exc[\"unit\"] == \"kilogram\"\n",
    "    ]"
   ],
   "id": "a0ade6753eb9070"
  },
  {
   "metadata": {},
   "cell_type": "code",
   "outputs": [],
   "execution_count": null,
   "source": "ndb.scenarios[0][\"iam data\"].biomass_mix.sel(region=\"canada\", year=2050)",
   "id": "18dfbf23be773950"
  },
  {
   "metadata": {},
   "cell_type": "code",
   "outputs": [],
   "execution_count": null,
   "source": [
    "bw2data.projects.set_current(\"ecoinvent-3.9.1-cutoff_bw25\")\n",
    "bw2data.databases"
   ],
   "id": "7e6880dae59c3326"
  },
  {
   "metadata": {},
   "cell_type": "code",
   "outputs": [],
   "execution_count": null,
   "source": "ndb.generate_scenario_report()",
   "id": "61a69a9d5e12bb2"
  },
  {
   "metadata": {},
   "cell_type": "code",
   "outputs": [],
   "execution_count": null,
   "source": "ndb.scenarios[0][\"iam data\"].daccs_energy_use",
   "id": "5bffc389b701951c"
  },
  {
   "metadata": {},
   "cell_type": "code",
   "outputs": [],
   "execution_count": null,
   "source": [
    "ndb.update([\n",
    "    #\"fuels\",\n",
    "    \"heat\",\n",
    "    \"final energy\"\n",
    "])"
   ],
   "id": "a5848185dd9a5f5a"
  },
  {
   "metadata": {},
   "cell_type": "code",
   "outputs": [],
   "execution_count": null,
   "source": "ndb.write_db_to_brightway(\"heat test 1\")",
   "id": "e42aa29a01751b1b"
  },
  {
   "metadata": {},
   "cell_type": "code",
   "outputs": [],
   "execution_count": null,
   "source": "ndb.write_superstructure_db_to_brightway(\"heat test 1\")",
   "id": "b91f9207d8694b6d"
  },
  {
   "metadata": {},
   "cell_type": "code",
   "outputs": [],
   "execution_count": null,
   "source": [
    "from premise.utils import load_database\n",
    "\n",
    "for scenario in ndb.scenarios:\n",
    "    scenario = load_database(scenario)\n",
    "\n",
    "\n",
    "for scenario in ndb.scenarios:\n",
    "    for ds in scenario[\"database\"]:\n",
    "        if ds[\"name\"] == \"biodiesel, burned in passenger train\" and ds[\"location\"] == \"LAM\":\n",
    "            for e in ds[\"exchanges\"]:\n",
    "                    print(e[\"name\"], e[\"amount\"])"
   ],
   "id": "c6b29840bc338523"
  },
  {
   "metadata": {},
   "cell_type": "code",
   "outputs": [],
   "execution_count": null,
   "source": "ndb.scenarios[0][\"iam data\"].buildings_heating_mix.sel(region=\"CAZ\")",
   "id": "8e97eb399810b26f"
  },
  {
   "metadata": {},
   "cell_type": "code",
   "outputs": [],
   "execution_count": null,
   "source": [
    "ndb.update(\n",
    "    [\n",
    "        #\"electricity\",\n",
    "        #\"dac\",\n",
    "        #\"fuels\",\n",
    "        \"heat\",\n",
    "        #\"final energy\"\n",
    "    ]\n",
    ")"
   ],
   "id": "7caed14aa1bfdf7e"
  },
  {
   "metadata": {},
   "cell_type": "code",
   "outputs": [],
   "execution_count": null,
   "source": "ndb.generate_scenario_report()",
   "id": "7f68b63effdb792c"
  },
  {
   "metadata": {},
   "cell_type": "code",
   "outputs": [],
   "execution_count": null,
   "source": "ndb.write_db_to_brightway(\"test final energy 12\")",
   "id": "bac05c4be4357545"
  },
  {
   "metadata": {},
   "cell_type": "code",
   "outputs": [],
   "execution_count": null,
   "source": [
    "import copy\n",
    "import json\n",
    "import ujson\n",
    "import pickle"
   ],
   "id": "398bedc922b6813a"
  },
  {
   "metadata": {},
   "cell_type": "code",
   "outputs": [],
   "execution_count": null,
   "source": [
    "%%time\n",
    "\n",
    "data = pickle.dumps(ndb.database, -1)\n",
    "db = pickle.loads(data)"
   ],
   "id": "965a63a9c9764bcd"
  },
  {
   "metadata": {},
   "cell_type": "code",
   "outputs": [],
   "execution_count": null,
   "source": [
    "%%time\n",
    "\n",
    "json_data = ujson.dumps(ndb.database)\n",
    "db = ujson.loads(json_data)"
   ],
   "id": "2928e877eb0e3b13"
  },
  {
   "metadata": {},
   "cell_type": "code",
   "outputs": [],
   "execution_count": null,
   "source": [
    "%%time\n",
    "\n",
    "json_data = json.dumps(ndb.database)\n",
    "db = json.loads(json_data)"
   ],
   "id": "57d137418599e504"
  },
  {
   "metadata": {},
   "cell_type": "code",
   "outputs": [],
   "execution_count": null,
   "source": [
    "%%time\n",
    "\n",
    "db = copy.deepcopy(ndb.database)"
   ],
   "id": "29720eb8b65e0ce2"
  },
  {
   "metadata": {},
   "cell_type": "code",
   "outputs": [],
   "execution_count": null,
   "source": "ndb.update()",
   "id": "d65606f2ec93765d"
  },
  {
   "metadata": {},
   "cell_type": "code",
   "outputs": [],
   "execution_count": null,
   "source": [
    "for ds in ndb.scenarios[0][\"database\"]:\n",
    "    if ds[\"name\"] == \"market for petrol, low-sulfur, 20-year period\" and ds[\"location\"] == \"WEU\":\n",
    "        for e in ds[\"exchanges\"]:\n",
    "            print(e[\"name\"], e[\"amount\"])"
   ],
   "id": "ad25e6b3fb509dc5"
  },
  {
   "metadata": {},
   "cell_type": "code",
   "outputs": [],
   "execution_count": null,
   "source": "ndb.write_db_to_brightway()",
   "id": "76a5c781cba810a8"
  },
  {
   "metadata": {},
   "cell_type": "code",
   "outputs": [],
   "execution_count": null,
   "source": [
    "import pandas as pd\n",
    "fp = \"/Users/romain/GitHub/carculator_utils/carculator_utils/data/emission_factors/car/EF_HBEFA42_exhaust.csv\"\n",
    "df = pd.read_csv(fp)"
   ],
   "id": "5e81193f9f06d4e3"
  },
  {
   "metadata": {},
   "cell_type": "code",
   "outputs": [],
   "execution_count": null,
   "source": "df.loc[df[\"euro_class\"]==6.2]",
   "id": "553a7f29a2cd5c02"
  },
  {
   "metadata": {},
   "cell_type": "code",
   "outputs": [],
   "execution_count": null,
   "source": [
    "import pandas as pd\n",
    "fp = \"/Users/romain/GitHub/premise/premise/data/iam_output_files/fleet_files/image_fleet_trucks.csv\"\n",
    "fp_out = \"/Users/romain/GitHub/premise/premise/data/iam_output_files/fleet_files/image_fleet_trucks_.csv\"\n",
    "df = pd.read_csv(fp, sep=\",\")"
   ],
   "id": "3e5a371098ff2725"
  },
  {
   "metadata": {},
   "cell_type": "code",
   "outputs": [],
   "execution_count": null,
   "source": "df",
   "id": "160c2f5081c5d2d4"
  },
  {
   "metadata": {},
   "cell_type": "code",
   "outputs": [],
   "execution_count": null,
   "source": "df.groupby([\"year\", \"region\", \"powertrain\", \"size\"]).sum().to_csv(fp_out)",
   "id": "3b9a341ceffaa3c4"
  },
  {
   "metadata": {},
   "cell_type": "code",
   "outputs": [],
   "execution_count": null,
   "source": [
    "from bw2io import ExcelImporter\n",
    "import bw2data\n",
    "\n",
    "bw2data.projects.set_current(\"new4\")\n",
    "fp = \"/Users/romain/GitHub/premise/premise/data/additional_inventories/lci-pass_cars.xlsx\"\n",
    "\n",
    "i = ExcelImporter(fp)"
   ],
   "id": "61a671b7d525d91a"
  },
  {
   "metadata": {},
   "cell_type": "code",
   "outputs": [],
   "execution_count": null,
   "source": "i.apply_strategies()",
   "id": "9beb7955bc3d957"
  },
  {
   "metadata": {},
   "cell_type": "code",
   "outputs": [],
   "execution_count": null,
   "source": "bw2data.databases",
   "id": "46f6606b36041071"
  },
  {
   "metadata": {},
   "cell_type": "code",
   "outputs": [],
   "execution_count": null,
   "source": [
    "i.match_database(fields=[\"name\", \"reference product\", \"location\"])\n",
    "i.match_database(\"ecoinvent 3.7 cutoff\", fields=[\"name\", \"reference product\", \"location\"])\n",
    "i.match_database(\"biosphere3\", fields=[\"name\", \"categories\",])"
   ],
   "id": "998441490f435ca1"
  },
  {
   "metadata": {},
   "cell_type": "code",
   "outputs": [],
   "execution_count": null,
   "source": "i.statistics()",
   "id": "9ffc46e57a7a8126"
  },
  {
   "metadata": {},
   "cell_type": "code",
   "outputs": [],
   "execution_count": null,
   "source": "list(i.unlinked)",
   "id": "93a4c28c0dde6f4a"
  },
  {
   "metadata": {},
   "cell_type": "code",
   "outputs": [],
   "execution_count": null,
   "source": "i.write_excel()",
   "id": "4ac81d28a09974a7"
  },
  {
   "metadata": {},
   "cell_type": "code",
   "outputs": [],
   "execution_count": null,
   "source": "ndb.write_db_to_brightway(\"test batt\")",
   "id": "671c305747a0bfd3"
  },
  {
   "metadata": {},
   "cell_type": "code",
   "outputs": [],
   "execution_count": null,
   "source": "ndb.update()",
   "id": "58806656997fc147"
  },
  {
   "metadata": {},
   "cell_type": "code",
   "outputs": [],
   "execution_count": null,
   "source": "ndb.write_db_to_brightway(\"test13\")",
   "id": "7db8904e6587b0e4"
  },
  {
   "metadata": {},
   "cell_type": "code",
   "outputs": [],
   "execution_count": null,
   "source": [
    "for ds in ndb.database:\n",
    "    if ds[\"reference product\"] == \"biogas\" and \"market for\" not in ds[\"name\"]:\n",
    "        print(ds[\"location\"])\n",
    "        for e in ds[\"exchanges\"]:\n",
    "            print(e[\"name\"], e[\"amount\"])\n",
    "        print()"
   ],
   "id": "13c6690f221af177"
  },
  {
   "metadata": {},
   "cell_type": "code",
   "outputs": [],
   "execution_count": null,
   "source": "ndb.write_db_to_brightway(\"test8\")",
   "id": "f2a00b863e889a2f"
  },
  {
   "metadata": {},
   "cell_type": "code",
   "outputs": [],
   "execution_count": null,
   "source": "bw2data.",
   "id": "e57bbd2b4f7273af"
  },
  {
   "metadata": {},
   "cell_type": "code",
   "outputs": [],
   "execution_count": null,
   "source": [
    "FU = [\n",
    "    {a: 1} for a in\n",
    "    bw2data.Database(\"ecoinvent_cutoff_3.9_image_SSP2-Base_2050\")\n",
    "    if a[\"name\"].startswith(\"electricity production\") and a[\"unit\"] == \"kilowatt hour\"\n",
    "]\n",
    "\n",
    "print(len(FU))\n",
    "\n",
    "list_meth = [\n",
    "    ('IPCC 2021', 'climate change', 'GWP 100a, incl. H'),\n",
    "    ('IPCC 2021', 'climate change', 'GWP 100a, incl. H and bio CO2')\n",
    "]\n",
    "import bw2calc\n",
    "bw2data.calculation_setups['multiLCA'] = {'inv': FU, 'ia': list_meth}\n",
    "myMultiLCA = bw2calc.MultiLCA('multiLCA')\n",
    "df_impact_exc = pd.DataFrame(columns = [\", \".join(i) for i in list_meth],\n",
    "     data = myMultiLCA.results,\n",
    "     index=[k[\"name\"] + \", \" + k[\"location\"] for i in FU for k in i]\n",
    ")"
   ],
   "id": "1dc344c2e8c8af47"
  },
  {
   "metadata": {},
   "cell_type": "code",
   "outputs": [],
   "execution_count": null,
   "source": "ndb.update_steel()",
   "id": "fddad7e3b3ce3df0"
  },
  {
   "metadata": {},
   "cell_type": "code",
   "outputs": [],
   "execution_count": null,
   "source": "ndb.update_biomass()",
   "id": "3d4787d6fd6eed0f"
  },
  {
   "metadata": {},
   "cell_type": "code",
   "outputs": [],
   "execution_count": null,
   "source": "ndb.update_electricity()",
   "id": "befda89aaafa2382"
  },
  {
   "metadata": {},
   "cell_type": "code",
   "outputs": [],
   "execution_count": null,
   "source": "ndb.write_db_to_simapro()",
   "id": "3042801535eb2edd"
  },
  {
   "metadata": {},
   "cell_type": "code",
   "outputs": [],
   "execution_count": null,
   "source": [
    "for ds in ndb.scenarios[0][\"database\"]:\n",
    "    if ds[\"name\"].startswith(\"market group for electricity, low\"):\n",
    "        print(ds[\"name\"], ds[\"reference product\"], ds[\"location\"])"
   ],
   "id": "df6a73e7cbb9ffa0"
  },
  {
   "metadata": {},
   "cell_type": "code",
   "outputs": [],
   "execution_count": null,
   "source": "ndb.scenarios[1][\"iam data\"].carbon_capture_rate",
   "id": "1f83c7e86330f01d"
  },
  {
   "metadata": {},
   "cell_type": "code",
   "outputs": [],
   "execution_count": null,
   "source": [
    "from collections import defaultdict\n",
    "res = defaultdict(float)\n",
    "for ds in ndb.scenarios[0][\"database\"]:\n",
    "    if ds[\"reference product\"]==\"biogas\":\n",
    "        print(ds[\"location\"], ds[\"name\"])\n",
    "        for e in ds[\"exchanges\"]:\n",
    "            print(e[\"name\"], e[\"amount\"], e.get(\"location\"))\n",
    "        print()\n",
    "\n"
   ],
   "id": "196733a35a2d69f3"
  },
  {
   "metadata": {},
   "cell_type": "code",
   "outputs": [],
   "execution_count": null,
   "source": [
    "from collections import defaultdict\n",
    "res = defaultdict(float)\n",
    "for ds in ndb.scenarios[1][\"database\"]:\n",
    "    if ds[\"name\"]==\"market group for heat, district or industrial, natural gas\":\n",
    "        print(ds[\"location\"], ds[\"name\"])\n",
    "        for e in ds[\"exchanges\"]:\n",
    "            print(e[\"name\"], e[\"amount\"], e.get(\"location\"), e[\"type\"])\n",
    "        print()\n"
   ],
   "id": "11481d3ada198833"
  },
  {
   "metadata": {},
   "cell_type": "code",
   "outputs": [],
   "execution_count": null,
   "source": [
    "from collections import defaultdict\n",
    "res = defaultdict(float)\n",
    "for ds in ndb.scenarios[0][\"database\"]:\n",
    "    if ds[\"name\"]==\"transport, freight, lorry, plugin diesel hybrid, 26t gross weight, 2020, EURO-VI, regional delivery\" and ds[\"location\"] == \"ME\":\n",
    "        print(ds[\"location\"], ds[\"name\"])\n",
    "        for e in ds[\"exchanges\"]:\n",
    "            print(e[\"name\"], e[\"amount\"], e.get(\"location\"), e[\"type\"])\n",
    "        print()\n"
   ],
   "id": "25589d4ace41a00a"
  },
  {
   "metadata": {},
   "cell_type": "code",
   "outputs": [],
   "execution_count": null,
   "source": [
    "from premise.geomap import Geomap\n",
    "geo = Geomap(\"remind\")\n",
    "geo.ecoinvent_to_iam_location(\"Europe, without Russia and Turkey\")"
   ],
   "id": "10bfdd08837e1191"
  },
  {
   "metadata": {},
   "cell_type": "code",
   "outputs": [],
   "execution_count": null,
   "source": "geo.iam_to_ecoinvent_location(\"EUR\")",
   "id": "3b0e4b8b0904090d"
  },
  {
   "metadata": {},
   "cell_type": "code",
   "outputs": [],
   "execution_count": null,
   "source": "geo.rev_additional_mappings",
   "id": "c45644d449e49f48"
  },
  {
   "metadata": {},
   "cell_type": "code",
   "outputs": [],
   "execution_count": null,
   "source": [
    "from collections import defaultdict\n",
    "res = defaultdict(float)\n",
    "for ds in ndb.scenarios[0][\"database\"]:\n",
    "    if ds[\"name\"]==\"pig iron production\" and ds[\"location\"] == \"CHN\":\n",
    "        print(ds[\"location\"], ds[\"name\"])\n",
    "        for e in ds[\"exchanges\"]:\n",
    "            print(e[\"name\"], e[\"amount\"])\n",
    "        print(ds[\"comment\"])\n",
    "        print()\n"
   ],
   "id": "8556e2982ba2b13b"
  },
  {
   "metadata": {},
   "cell_type": "code",
   "outputs": [],
   "execution_count": null,
   "source": [
    "import pandas as pd\n",
    "import matplotlib.pyplot as plt\n",
    "pd.DataFrame.from_dict(res, orient=\"index\").plot(kind=\"bar\", figsize=(20, 5))\n",
    "plt.ylabel(\"kg heavy fuel oil/kWh\")\n",
    "plt.savefig(\"electricity production, oil.png\")"
   ],
   "id": "8f8ce523f532db76"
  },
  {
   "metadata": {},
   "cell_type": "code",
   "outputs": [],
   "execution_count": null,
   "source": "ndb.scenarios[0][\"iam data\"].electricity_efficiencies.coords[\"variables\"].values",
   "id": "aa6f95a63a594df3"
  },
  {
   "metadata": {},
   "cell_type": "code",
   "outputs": [],
   "execution_count": null,
   "source": "ndb.scenarios[0][\"iam data\"].electricity_efficiencies.sel(variables=\"Biomass IGCC CCS\", year=2050)",
   "id": "8c8a1fec9589751f"
  },
  {
   "metadata": {},
   "cell_type": "code",
   "outputs": [],
   "execution_count": null,
   "source": "ndb.generate_change_report()",
   "id": "965434f4ed4c0c8b"
  },
  {
   "metadata": {},
   "cell_type": "code",
   "outputs": [],
   "execution_count": null,
   "source": "ndb.scenarios[0][\"iam data\"].gas_markets.sel(region=\"World\")",
   "id": "bd3545b05dd6a461"
  },
  {
   "metadata": {},
   "cell_type": "code",
   "outputs": [],
   "execution_count": null,
   "source": "ndb.scenarios[0].",
   "id": "57242751b841c527"
  },
  {
   "metadata": {},
   "cell_type": "code",
   "outputs": [],
   "execution_count": null,
   "source": [
    "for ds in ndb.scenarios[0][\"database\"]:\n",
    "    for e in ds[\"exchanges\"]:\n",
    "        if e[\"name\"] == \"market for platinum\" and e[\"product\"] == \"platinum\":\n",
    "            print(ds[\"name\"], ds[\"location\"], e[\"name\"], e[\"location\"])"
   ],
   "id": "3c11a56fae6edb1e"
  },
  {
   "metadata": {},
   "cell_type": "code",
   "outputs": [],
   "execution_count": null,
   "source": [
    "import pprint\n",
    "for ds in ndb.scenarios[0][\"database\"]:\n",
    "    if ds[\"name\"].lower() == \"lithium carbonate, precipitated\":\n",
    "        print(ds[\"name\"], ds[\"location\"])"
   ],
   "id": "fcd627206940b21d"
  },
  {
   "metadata": {},
   "cell_type": "code",
   "outputs": [],
   "execution_count": null,
   "source": [
    "from premise.activity_maps import InventorySet\n",
    "inv = InventorySet(ndb.database, \"3.9\")"
   ],
   "id": "d7306de6c3f7d666"
  },
  {
   "metadata": {},
   "cell_type": "code",
   "outputs": [],
   "execution_count": null,
   "source": "inv.generate_metals_map()",
   "id": "50350461511f76bd"
  },
  {
   "metadata": {},
   "cell_type": "code",
   "outputs": [],
   "execution_count": null,
   "source": "inv.generate_powerplant_map()",
   "id": "2ec8df24fcb542f1"
  },
  {
   "metadata": {},
   "cell_type": "code",
   "outputs": [],
   "execution_count": null,
   "source": "inv.generate_daccs_map()",
   "id": "116a0069bb4d87d0"
  },
  {
   "metadata": {},
   "cell_type": "code",
   "outputs": [],
   "execution_count": null,
   "source": "ndb.write_db_to_brightway(\"test_metals\")",
   "id": "5b76ad182f3baeba"
  },
  {
   "metadata": {},
   "cell_type": "code",
   "outputs": [],
   "execution_count": null,
   "source": [
    "products = [\n",
    "    'lightweighting, glider',\n",
    "    'auxilliary battery inputs, for road vehicle',\n",
    "    'battery cell, Li-ion, NMC622',\n",
    "    'auxilliary electronics inputs, for fuel cell electric vehicle',\n",
    "    'auxilliary material inputs, for fuel cell electric vehicle',\n",
    "    'fuel cell stack, for fuel cell electric vehicle',\n",
    "    'carbon fiber, weaved',\n",
    "    'tank liner, polyethylene, high density',\n",
    "    'transformer and rectifier unit, for electrolyser',\n",
    "    'fuel tank, for diesel road vehicle',\n",
    "    'fuel tank, for compressed hydrogen gas, 700bar',\n",
    "    'fuel tank, for compressed hydrogen gas, 700bar',\n",
    "    'fuel tank, for compressed hydrogen gas, 700bar',\n",
    "    'fuel tank, for compressed natural gas, 200 bar',\n",
    "    'charger, level 3, plugin, 200 kW, for electric vehicle',\n",
    "    'gearbox, for lorry',\n",
    "    'transmission, for lorry',\n",
    "    'suspension, for lorry',\n",
    "    'power electronics, for lorry',\n",
    "    'auxilliary material inputs, for electric lorry',\n",
    "    'retarder, for lorry',\n",
    "    'cabin, for lorry',\n",
    "    'frame, blanks and saddle, for lorry',\n",
    "    'tires and wheels, for lorry',\n",
    "    'auxilliary material inputs, for hydrid electric lorry',\n",
    "    'exhaust system, for lorry',\n",
    "    'internal combustion engine, for lorry',\n",
    "    'lead acid battery, for lorry',\n",
    "    'charger, level 3, with pantograph, 450 kW, for electric vehicle',\n",
    "    'overhead lines, for electric vehicle',\n",
    "    'battery cell, Li-ion, LTO',\n",
    "    'charging station, 3kW',\n",
    "    'battery cell,  Li-ion, LFP',\n",
    "    'battery cell, Li-ion, NCA',\n",
    "    'assembly operation, for lorry'\n",
    "]\n",
    "\n",
    "print(len(products))\n",
    "\n",
    "acts = [a for a in bw.Database(\"brian\") if a[\"reference product\"] in products]"
   ],
   "id": "b45ac5225053b343"
  },
  {
   "metadata": {},
   "cell_type": "code",
   "outputs": [],
   "execution_count": null,
   "source": "len(acts)",
   "id": "72550b1fed0d35f0"
  },
  {
   "metadata": {},
   "cell_type": "code",
   "outputs": [],
   "execution_count": null,
   "source": "[a[\"reference product\"] for a in acts]",
   "id": "9c3774c79a448faa"
  },
  {
   "metadata": {},
   "cell_type": "code",
   "outputs": [],
   "execution_count": null,
   "source": [
    "import bw2data\n",
    "bw2io.BW2Package.export_obj(obj=bw.Database(\"brian\"), filename=\"db_for_brian.bw2package\")"
   ],
   "id": "92643f7e6927245d"
  },
  {
   "metadata": {},
   "cell_type": "code",
   "outputs": [],
   "execution_count": null,
   "source": [
    "import bw2data\n",
    "bw2io.BW2Package.import_file(\"db_for_brian.bw2package\")"
   ],
   "id": "9c356f2368eb5b2f"
  },
  {
   "metadata": {},
   "cell_type": "code",
   "outputs": [],
   "execution_count": null,
   "source": "",
   "id": "de440f0db2b13ec4"
  },
  {
   "metadata": {},
   "cell_type": "code",
   "outputs": [],
   "execution_count": null,
   "source": [
    "fp = \"/Users/romain/Library/Application Support/Brightway3/ei39.f1469ad5eb0a071dc60323f6e0fce980/output/lci-brian.xlsx\"\n",
    "import bw2io\n",
    "\n",
    "i = bw2io.ExcelImporter(fp)\n",
    "i.apply_strategies()"
   ],
   "id": "a1c8fa6cb4f2dd8"
  },
  {
   "metadata": {},
   "cell_type": "code",
   "outputs": [],
   "execution_count": null,
   "source": [
    "ei_acts = list(set([(a[\"name\"], a[\"reference product\"]) for a in bw.Database(\"ecoinvent 3.9.1 cutoff\")]))\n",
    "print(len(ei_acts))"
   ],
   "id": "cd94ca83dbc3b727"
  },
  {
   "metadata": {},
   "cell_type": "code",
   "outputs": [],
   "execution_count": null,
   "source": [
    "for ds in i.data:\n",
    "    if (ds[\"name\"], ds[\"reference product\"]) in ei_acts:\n",
    "        i.data.remove(ds)"
   ],
   "id": "92206a853e60d19b"
  },
  {
   "metadata": {},
   "cell_type": "code",
   "outputs": [],
   "execution_count": null,
   "source": [
    "for ds in i.data:\n",
    "    if (ds[\"name\"], ds[\"reference product\"]) not in ei_acts:\n",
    "        print(ds[\"name\"])"
   ],
   "id": "6fe20db999c31460"
  },
  {
   "metadata": {},
   "cell_type": "code",
   "outputs": [],
   "execution_count": null,
   "source": "len(i.data)",
   "id": "4c208c1745d4e045"
  },
  {
   "metadata": {},
   "cell_type": "code",
   "outputs": [],
   "execution_count": null,
   "source": [
    "for ds in i.data:\n",
    "    print(ds[\"name\"])"
   ],
   "id": "d8a7689d7ea9f548"
  },
  {
   "metadata": {},
   "cell_type": "code",
   "outputs": [],
   "execution_count": null,
   "source": [
    "i.match_database(fields=[\"name\", \"unit\", \"location\"])\n",
    "i.match_database(\"ecoinvent 3.9.1 cutoff\", fields=[\"name\", \"reference product\", \"location\", \"unit\"])\n",
    "i.match_database(\"biosphere3\", fields=[\"name\", \"categories\", \"unit\"])"
   ],
   "id": "835d05ffcee22155"
  },
  {
   "metadata": {},
   "cell_type": "code",
   "outputs": [],
   "execution_count": null,
   "source": "i.statistics()",
   "id": "ce2d1a7299bd6782"
  },
  {
   "metadata": {},
   "cell_type": "code",
   "outputs": [],
   "execution_count": null,
   "source": "list(i.unlinked)[-1]",
   "id": "44505a17c9058074"
  },
  {
   "metadata": {},
   "cell_type": "code",
   "outputs": [],
   "execution_count": null,
   "source": "bw.get_activity(('brian', '360c5e612a154ebb8cee2650bcc1bc75_copy1'))",
   "id": "dcb64973be80c3c"
  },
  {
   "metadata": {},
   "cell_type": "code",
   "outputs": [],
   "execution_count": null,
   "source": [
    "for f in bw.Database(\"biosphere3\"):\n",
    "    if f[\"code\"] == \"e030108f-2125-4bcb-a73b-ad72130fcca3\":\n",
    "        print(f)"
   ],
   "id": "cf8f1b66b781babb"
  },
  {
   "metadata": {},
   "cell_type": "code",
   "outputs": [],
   "execution_count": null,
   "source": "bw.projects.set_current(\"ei39\")",
   "id": "32a8ddbc29d21b73"
  },
  {
   "metadata": {},
   "cell_type": "code",
   "outputs": [],
   "execution_count": null,
   "source": [
    "l = []\n",
    "\n",
    "for f in bw.Database(\"biosphere3\"):\n",
    "    l.append([f[\"name\"], f[\"categories\"][0], f[\"categories\"][1] if len(f[\"categories\"])>1 else \"unspecified\", f[\"unit\"], f[\"code\"]])"
   ],
   "id": "821a5e9586fd98ec"
  },
  {
   "metadata": {},
   "cell_type": "code",
   "outputs": [],
   "execution_count": null,
   "source": [
    "import csv\n",
    "\n",
    "with open(\"flows_biosphere_39.csv\", \"w\", newline=\"\", ) as f:\n",
    "    writer = csv.writer(f, delimiter=\";\")\n",
    "    writer.writerows(l)"
   ],
   "id": "6a2b812bfe7ed3ef"
  },
  {
   "metadata": {},
   "cell_type": "code",
   "outputs": [],
   "execution_count": null,
   "source": "ndb.scenarios[1][\"iam data\"].fuel_markets.sel(region=\"NEU\").variables.values",
   "id": "62f0ebb66127ad0"
  },
  {
   "metadata": {},
   "cell_type": "code",
   "outputs": [],
   "execution_count": null,
   "source": [
    "import numpy as np\n",
    "for ds in ndb.scenarios[1][\"database\"]:\n",
    "    if ds[\"name\"] == (\"carbon dioxide, captured from atmosphere, with a solvent-based direct air capture system, 1MtCO2, with waste heat, and grid electricity\",\n",
    "                            \"carbon dioxide, captured from atmosphere\"):\n",
    "            print(ds[\"name\"], ds[\"location\"])"
   ],
   "id": "8b670e0fa0fda81f"
  },
  {
   "metadata": {},
   "cell_type": "code",
   "outputs": [],
   "execution_count": null,
   "source": [
    "for ds in ndb.scenarios[1][\"database\"]:\n",
    "    if \"carbon dioxide, captured\" in ds[\"name\"]:\n",
    "        print(ds[\"name\"], ds[\"location\"])"
   ],
   "id": "48db9dd51197d500"
  },
  {
   "metadata": {},
   "cell_type": "code",
   "outputs": [],
   "execution_count": null,
   "source": "ndb.scenarios[0][\"iam data\"].fuel_markets.sel(region=\"WEU\", year=2050)",
   "id": "fbe44335831df1"
  },
  {
   "metadata": {},
   "cell_type": "code",
   "outputs": [],
   "execution_count": null,
   "source": "ndb.scenarios[0][\"iam data\"].fuel_markets.sel(region=\"WEU\")",
   "id": "f20df6c9c884d6bd"
  },
  {
   "metadata": {},
   "cell_type": "code",
   "outputs": [],
   "execution_count": null,
   "source": "ndb.update_electricity()",
   "id": "af8fd5290167c25c"
  },
  {
   "metadata": {},
   "cell_type": "code",
   "outputs": [],
   "execution_count": null,
   "source": "ndb.scenarios[0][\"iam data\"].fuel_markets",
   "id": "c73afb6cb07d765e"
  },
  {
   "metadata": {},
   "cell_type": "code",
   "outputs": [],
   "execution_count": null,
   "source": "ndb.generate_scenario_report()",
   "id": "92bdc92f238e12fa"
  },
  {
   "metadata": {},
   "cell_type": "code",
   "outputs": [],
   "execution_count": null,
   "source": "ndb.generate_change_report()",
   "id": "65caa34ff603bc11"
  },
  {
   "metadata": {},
   "cell_type": "code",
   "outputs": [],
   "execution_count": null,
   "source": "ndb.update_all()",
   "id": "ecdb14752a986bf5"
  },
  {
   "metadata": {},
   "cell_type": "code",
   "outputs": [],
   "execution_count": null,
   "source": "ndb.generate_scenario_report()",
   "id": "a32b6ceb2068aa88"
  },
  {
   "metadata": {},
   "cell_type": "code",
   "outputs": [],
   "execution_count": null,
   "source": "ndb.generate_change_report()",
   "id": "bd553b607c0eec02"
  },
  {
   "metadata": {},
   "cell_type": "code",
   "outputs": [],
   "execution_count": null,
   "source": "ndb.scenarios[0][\"iam data\"].gains_data_IAM",
   "id": "fe334ea259279f21"
  },
  {
   "metadata": {},
   "cell_type": "code",
   "outputs": [],
   "execution_count": null,
   "source": "",
   "id": "5a73163962ead122"
  },
  {
   "metadata": {},
   "cell_type": "code",
   "outputs": [],
   "execution_count": null,
   "source": "ndb.update_all()",
   "id": "d213dbe1eb7dc272"
  },
  {
   "metadata": {},
   "cell_type": "code",
   "outputs": [],
   "execution_count": null,
   "source": "ndb.write_db_to_brightway([\"test_dac\", \"test_dac2\"])",
   "id": "fb9125119e460f9"
  },
  {
   "metadata": {},
   "cell_type": "code",
   "outputs": [],
   "execution_count": null,
   "source": "from premise.geomap import Geomap",
   "id": "e3f9b9d44a305ad8"
  },
  {
   "metadata": {},
   "cell_type": "code",
   "outputs": [],
   "execution_count": null,
   "source": "Geomap()",
   "id": "d2d9db61092ecf24"
  },
  {
   "metadata": {},
   "cell_type": "code",
   "outputs": [],
   "execution_count": null,
   "source": "Geomap(model=\"remind\").geo.keys()",
   "id": "a7c84abee72f964b"
  },
  {
   "metadata": {},
   "cell_type": "code",
   "outputs": [],
   "execution_count": null,
   "source": "ndb.scenarios[0][\"iam data\"].carbon_capture_rate.sel(variables=\"steel\")",
   "id": "ee6489cf5bf6d7b4"
  },
  {
   "metadata": {},
   "cell_type": "code",
   "outputs": [],
   "execution_count": null,
   "source": [
    "for ds in ndb.scenarios[0][\"database\"]:\n",
    "    for e in ds[\"exchanges\"]:\n",
    "        if e[\"name\"].startswith(\"CO2 capture, at cement production plant\"):\n",
    "            print(e[\"name\"], e.get(\"location\"), e[\"amount\"])\n",
    "            print(ds[\"name\"])\n",
    "            print(\"--------------------\")"
   ],
   "id": "60e3a7ea3c1a023a"
  },
  {
   "metadata": {},
   "cell_type": "code",
   "outputs": [],
   "execution_count": null,
   "source": "",
   "id": "bbaf04d22ed3a879"
  }
 ],
 "metadata": {
  "kernelspec": {
   "display_name": "Python 3 (ipykernel)",
   "language": "python",
   "name": "python3"
  },
  "language_info": {
   "codemirror_mode": {
    "name": "ipython",
    "version": 3
   },
   "file_extension": ".py",
   "mimetype": "text/x-python",
   "name": "python",
   "nbconvert_exporter": "python",
   "pygments_lexer": "ipython3",
   "version": "3.11.11"
  }
 },
 "nbformat": 4,
 "nbformat_minor": 5
}
