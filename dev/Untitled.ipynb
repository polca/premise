{
 "cells": [
  {
   "metadata": {
    "ExecuteTime": {
     "end_time": "2025-05-02T13:30:48.504402Z",
     "start_time": "2025-05-02T13:30:37.552258Z"
    }
   },
   "cell_type": "code",
   "source": [
    "%%time\n",
    "\n",
    "from premise import *\n",
    "import bw2data\n",
    "bw2data.projects.set_current(\"ecoinvent-3.10-cutoff\")\n",
    "#bw2data.projects.set_current(\"ecoinvent-3.9.1-cutoff_bw25\")\n",
    "#clear_inventory_cache()\n",
    "scenarios = [\n",
    "    {\"model\": \"remind\", \"pathway\": \"SSP1-PkBudg1000\", \"year\": 2040},\n",
    "    {\"model\": \"remind\", \"pathway\": \"SSP2-PkBudg1000\", \"year\": 2040},\n",
    "    {\"model\": \"remind\", \"pathway\": \"SSP3-PkBudg1000\", \"year\": 2040},\n",
    "    {\"model\": \"remind-eu\", \"pathway\": \"SSP2-PkBudg650\", \"year\": 2040},\n",
    "    {\"model\": \"remind-eu\", \"pathway\": \"SSP2-NPi\", \"year\": 2040},\n",
    "\n",
    "    #{\"model\": \"remind\", \"pathway\": \"SSP2-PkBudg1150\", \"year\": 2060},\n",
    "]\n",
    "\n",
    "ndb = NewDatabase(\n",
    "        scenarios=scenarios,\n",
    "        source_db=\"ecoinvent-3.10.1-cutoff\",\n",
    "        source_version=\"3.10\",\n",
    "        biosphere_name=\"biosphere3\",\n",
    "        key='tUePmX_S5B8ieZkkM7WUU2CnO8SmShwmAeWK9x2rTFo=',\n",
    ")\n",
    "#ndb.write_db_to_brightway(\"test final energy 2\")"
   ],
   "id": "401b7493bc9dc350",
   "outputs": [
    {
     "name": "stdout",
     "output_type": "stream",
     "text": [
      "Loading variables from /Users/romain/Github/premise/dev/variables.yaml\n",
      "USER_DATA_BASE_DIR: test\n",
      "premise v.(2, 3, 0, 'dev0')\n",
      "+------------------------------------------------------------------+\n",
      "| Warning                                                          |\n",
      "+------------------------------------------------------------------+\n",
      "| Because some of the scenarios can yield LCI databases            |\n",
      "| containing net negative emission technologies (NET),             |\n",
      "| it is advised to account for biogenic CO2 flows when calculating |\n",
      "| Global Warming potential indicators.                             |\n",
      "| `premise_gwp` provides characterization factors for such flows.  |\n",
      "| It also provides factors for hydrogen emissions to air.          |\n",
      "|                                                                  |\n",
      "| Within your bw2 project:                                         |\n",
      "| from premise_gwp import add_premise_gwp                          |\n",
      "| add_premise_gwp()                                                |\n",
      "+------------------------------------------------------------------+\n",
      "+--------------------------------+----------------------------------+\n",
      "| Utils functions                | Description                      |\n",
      "+--------------------------------+----------------------------------+\n",
      "| clear_cache()                  | Clears the cache folder. Useful  |\n",
      "|                                | when updating `premise`or        |\n",
      "|                                | encountering issues with         |\n",
      "|                                | inventories.                     |\n",
      "+--------------------------------+----------------------------------+\n",
      "| get_regions_definition(model)  | Retrieves the list of countries  |\n",
      "|                                | for each region of the model.    |\n",
      "+--------------------------------+----------------------------------+\n",
      "| ndb.NewDatabase(...)           | Generates a summary of the most  |\n",
      "| ndb.generate_scenario_report() | important scenarios' variables.  |\n",
      "+--------------------------------+----------------------------------+\n",
      "Keep uncertainty data?\n",
      "NewDatabase(..., keep_source_db_uncertainty=True), keep_imports_uncertainty=True)\n",
      "\n",
      "Hide these messages?\n",
      "NewDatabase(..., quiet=True)\n",
      "- Extracting source database\n",
      "- Extracting inventories\n",
      "- Fetching IAM data\n",
      "The following variables are missing from the IAM file:\n",
      "+--------------------------------------------+\n",
      "|                  Variable                  |\n",
      "+--------------------------------------------+\n",
      "| ES|Transport|Freight|Rail|Liquids|Hydrogen |\n",
      "+--------------------------------------------+\n",
      "The following variables are missing from the IAM file:\n",
      "+--------------------------------------------+\n",
      "|                  Variable                  |\n",
      "+--------------------------------------------+\n",
      "| ES|Transport|Freight|Rail|Liquids|Hydrogen |\n",
      "+--------------------------------------------+\n",
      "The following variables are missing from the IAM file:\n",
      "+--------------------------------------------+\n",
      "|                  Variable                  |\n",
      "+--------------------------------------------+\n",
      "| ES|Transport|Freight|Rail|Liquids|Hydrogen |\n",
      "+--------------------------------------------+\n",
      "The following variables are missing from the IAM file:\n",
      "+--------------------------------------------+\n",
      "|                  Variable                  |\n",
      "+--------------------------------------------+\n",
      "| ES|Transport|Freight|Rail|Liquids|Hydrogen |\n",
      "+--------------------------------------------+\n",
      "The following variables are missing from the IAM file:\n",
      "+--------------------------------------------+\n",
      "|                  Variable                  |\n",
      "+--------------------------------------------+\n",
      "| ES|Transport|Freight|Rail|Liquids|Hydrogen |\n",
      "+--------------------------------------------+\n",
      "The following variables are missing from the IAM file:\n",
      "+--------------------------------------------+\n",
      "|                  Variable                  |\n",
      "+--------------------------------------------+\n",
      "| ES|Transport|Freight|Rail|Liquids|Hydrogen |\n",
      "+--------------------------------------------+\n",
      "The following variables are missing from the IAM file:\n",
      "+--------------------------------------------+\n",
      "|                  Variable                  |\n",
      "+--------------------------------------------+\n",
      "| ES|Transport|Freight|Rail|Liquids|Hydrogen |\n",
      "+--------------------------------------------+\n",
      "The following variables are missing from the IAM file:\n",
      "+--------------------------------------------+\n",
      "|                  Variable                  |\n",
      "+--------------------------------------------+\n",
      "| ES|Transport|Freight|Rail|Liquids|Hydrogen |\n",
      "+--------------------------------------------+\n",
      "The following variables are missing from the IAM file:\n",
      "+--------------------------------------------+\n",
      "|                  Variable                  |\n",
      "+--------------------------------------------+\n",
      "| ES|Transport|Freight|Rail|Liquids|Hydrogen |\n",
      "+--------------------------------------------+\n",
      "The following variables are missing from the IAM file:\n",
      "+--------------------------------------------+\n",
      "|                  Variable                  |\n",
      "+--------------------------------------------+\n",
      "| ES|Transport|Freight|Rail|Liquids|Hydrogen |\n",
      "+--------------------------------------------+\n",
      "Done!\n",
      "CPU times: user 10.9 s, sys: 1.28 s, total: 12.2 s\n",
      "Wall time: 10.9 s\n"
     ]
    }
   ],
   "execution_count": 1
  },
  {
   "metadata": {
    "ExecuteTime": {
     "end_time": "2025-05-02T13:38:42.257257Z",
     "start_time": "2025-05-02T13:30:52.802823Z"
    }
   },
   "cell_type": "code",
   "source": "ndb.update()",
   "id": "4df7bdd0060d8e61",
   "outputs": [
    {
     "name": "stderr",
     "output_type": "stream",
     "text": [
      "Processing scenarios for all sectors:   0%|     | 0/5 [00:00<?, ?it/s]"
     ]
    },
    {
     "name": "stdout",
     "output_type": "stream",
     "text": [
      "Warning: No activities found for Gas ST -- revise mapping.\n",
      "air separation, cryogenic oxygen, liquid ['CAZ', 'CHA', 'EUR', 'IND', 'JPN', 'LAM', 'MEA', 'NEU', 'OAS', 'REF', 'SSA', 'USA', 'World'] {}\n",
      "WARNING: No dataset found for ('air separation, cryogenic', 'oxygen, liquid').\n",
      "Warning: No activities found for CON_LOSSHF -- revise mapping.\n",
      "Warning: No activities found for PP_ENGGAS -- revise mapping.\n",
      "Warning: No activities found for PP_MOD_CCSBIOG -- revise mapping.\n",
      "Warning: No activities found for PP_MOD_CCSHC1 -- revise mapping.\n",
      "Warning: No activities found for TRA_OT_AIRGSL -- revise mapping.\n"
     ]
    },
    {
     "name": "stderr",
     "output_type": "stream",
     "text": [
      "Processing scenarios for all sectors:  20%|▏| 1/5 [02:23<09:35, 143.91"
     ]
    },
    {
     "name": "stdout",
     "output_type": "stream",
     "text": [
      "Warning: No activities found for Gas ST -- revise mapping.\n",
      "air separation, cryogenic oxygen, liquid ['CAZ', 'CHA', 'EUR', 'IND', 'JPN', 'LAM', 'MEA', 'NEU', 'OAS', 'REF', 'SSA', 'USA', 'World'] {}\n",
      "WARNING: No dataset found for ('air separation, cryogenic', 'oxygen, liquid').\n",
      "Warning: No activities found for CON_LOSSHF -- revise mapping.\n",
      "Warning: No activities found for PP_ENGGAS -- revise mapping.\n",
      "Warning: No activities found for PP_MOD_CCSBIOG -- revise mapping.\n",
      "Warning: No activities found for PP_MOD_CCSHC1 -- revise mapping.\n",
      "Warning: No activities found for TRA_OT_AIRGSL -- revise mapping.\n"
     ]
    },
    {
     "name": "stderr",
     "output_type": "stream",
     "text": [
      "Processing scenarios for all sectors:  40%|▍| 2/5 [04:58<07:30, 150.24"
     ]
    },
    {
     "name": "stdout",
     "output_type": "stream",
     "text": [
      "Warning: No activities found for Gas ST -- revise mapping.\n",
      "air separation, cryogenic oxygen, liquid ['CAZ', 'CHA', 'EUR', 'IND', 'JPN', 'LAM', 'MEA', 'NEU', 'OAS', 'REF', 'SSA', 'USA', 'World'] {}\n",
      "WARNING: No dataset found for ('air separation, cryogenic', 'oxygen, liquid').\n",
      "Warning: No activities found for CON_LOSSHF -- revise mapping.\n",
      "Warning: No activities found for PP_ENGGAS -- revise mapping.\n",
      "Warning: No activities found for PP_MOD_CCSBIOG -- revise mapping.\n",
      "Warning: No activities found for PP_MOD_CCSHC1 -- revise mapping.\n",
      "Warning: No activities found for TRA_OT_AIRGSL -- revise mapping.\n"
     ]
    },
    {
     "name": "stderr",
     "output_type": "stream",
     "text": [
      "Processing scenarios for all sectors:  60%|▌| 3/5 [07:49<05:12, 156.38\n"
     ]
    },
    {
     "ename": "KeyError",
     "evalue": "\"Can't find location: EU27.\"",
     "output_type": "error",
     "traceback": [
      "\u001B[31m---------------------------------------------------------------------------\u001B[39m",
      "\u001B[31mKeyError\u001B[39m                                  Traceback (most recent call last)",
      "\u001B[36mCell\u001B[39m\u001B[36m \u001B[39m\u001B[32mIn[2]\u001B[39m\u001B[32m, line 1\u001B[39m\n\u001B[32m----> \u001B[39m\u001B[32m1\u001B[39m \u001B[43mndb\u001B[49m\u001B[43m.\u001B[49m\u001B[43mupdate\u001B[49m\u001B[43m(\u001B[49m\u001B[43m)\u001B[49m\n",
      "\u001B[36mFile \u001B[39m\u001B[32m~/Github/premise/premise/new_database.py:1013\u001B[39m, in \u001B[36mNewDatabase.update\u001B[39m\u001B[34m(self, sectors)\u001B[39m\n\u001B[32m   1011\u001B[39m update_func = sector_update_methods[sector][\u001B[33m\"\u001B[39m\u001B[33mfunc\u001B[39m\u001B[33m\"\u001B[39m]\n\u001B[32m   1012\u001B[39m fixed_args = sector_update_methods[sector][\u001B[33m\"\u001B[39m\u001B[33margs\u001B[39m\u001B[33m\"\u001B[39m]\n\u001B[32m-> \u001B[39m\u001B[32m1013\u001B[39m scenario = \u001B[43mupdate_func\u001B[49m\u001B[43m(\u001B[49m\u001B[43mscenario\u001B[49m\u001B[43m,\u001B[49m\u001B[43m \u001B[49m\u001B[43m*\u001B[49m\u001B[43mfixed_args\u001B[49m\u001B[43m)\u001B[49m\n\u001B[32m   1015\u001B[39m \u001B[38;5;28;01mif\u001B[39;00m \u001B[33m\"\u001B[39m\u001B[33mapplied functions\u001B[39m\u001B[33m\"\u001B[39m \u001B[38;5;129;01mnot\u001B[39;00m \u001B[38;5;129;01min\u001B[39;00m scenario:\n\u001B[32m   1016\u001B[39m     scenario[\u001B[33m\"\u001B[39m\u001B[33mapplied functions\u001B[39m\u001B[33m\"\u001B[39m] = []\n",
      "\u001B[36mFile \u001B[39m\u001B[32m~/Github/premise/premise/biomass.py:51\u001B[39m, in \u001B[36m_update_biomass\u001B[39m\u001B[34m(scenario, version, system_model)\u001B[39m\n\u001B[32m     38\u001B[39m biomass = Biomass(\n\u001B[32m     39\u001B[39m     database=scenario[\u001B[33m\"\u001B[39m\u001B[33mdatabase\u001B[39m\u001B[33m\"\u001B[39m],\n\u001B[32m     40\u001B[39m     iam_data=scenario[\u001B[33m\"\u001B[39m\u001B[33miam data\u001B[39m\u001B[33m\"\u001B[39m],\n\u001B[32m   (...)\u001B[39m\u001B[32m     47\u001B[39m     index=scenario.get(\u001B[33m\"\u001B[39m\u001B[33mindex\u001B[39m\u001B[33m\"\u001B[39m),\n\u001B[32m     48\u001B[39m )\n\u001B[32m     50\u001B[39m \u001B[38;5;28;01mif\u001B[39;00m scenario[\u001B[33m\"\u001B[39m\u001B[33miam data\u001B[39m\u001B[33m\"\u001B[39m].biomass_mix \u001B[38;5;129;01mis\u001B[39;00m \u001B[38;5;129;01mnot\u001B[39;00m \u001B[38;5;28;01mNone\u001B[39;00m:\n\u001B[32m---> \u001B[39m\u001B[32m51\u001B[39m     \u001B[43mbiomass\u001B[49m\u001B[43m.\u001B[49m\u001B[43mcreate_biomass_markets\u001B[49m\u001B[43m(\u001B[49m\u001B[43m)\u001B[49m\n\u001B[32m     53\u001B[39m biomass.relink_datasets()\n\u001B[32m     55\u001B[39m validate = BiomassValidation(\n\u001B[32m     56\u001B[39m     model=scenario[\u001B[33m\"\u001B[39m\u001B[33mmodel\u001B[39m\u001B[33m\"\u001B[39m],\n\u001B[32m     57\u001B[39m     scenario=scenario[\u001B[33m\"\u001B[39m\u001B[33mpathway\u001B[39m\u001B[33m\"\u001B[39m],\n\u001B[32m   (...)\u001B[39m\u001B[32m     61\u001B[39m     iam_data=scenario[\u001B[33m\"\u001B[39m\u001B[33miam data\u001B[39m\u001B[33m\"\u001B[39m],\n\u001B[32m     62\u001B[39m )\n",
      "\u001B[36mFile \u001B[39m\u001B[32m~/Github/premise/premise/biomass.py:122\u001B[39m, in \u001B[36mBiomass.create_biomass_markets\u001B[39m\u001B[34m(self)\u001B[39m\n\u001B[32m    118\u001B[39m \u001B[38;5;28;01mdef\u001B[39;00m\u001B[38;5;250m \u001B[39m\u001B[34mcreate_biomass_markets\u001B[39m(\u001B[38;5;28mself\u001B[39m) -> \u001B[38;5;28;01mNone\u001B[39;00m:\n\u001B[32m    120\u001B[39m     \u001B[38;5;28;01mfor\u001B[39;00m activity \u001B[38;5;129;01min\u001B[39;00m \u001B[38;5;28mself\u001B[39m.biomass_map[\u001B[33m\"\u001B[39m\u001B[33mbiomass - residual\u001B[39m\u001B[33m\"\u001B[39m]:\n\u001B[32m    121\u001B[39m         \u001B[38;5;66;03m# create region-specific \"Supply of forest residue\" datasets\u001B[39;00m\n\u001B[32m--> \u001B[39m\u001B[32m122\u001B[39m         forest_residues_ds = \u001B[38;5;28;43mself\u001B[39;49m\u001B[43m.\u001B[49m\u001B[43mfetch_proxies\u001B[49m\u001B[43m(\u001B[49m\n\u001B[32m    123\u001B[39m \u001B[43m            \u001B[49m\u001B[43mname\u001B[49m\u001B[43m=\u001B[49m\u001B[43mactivity\u001B[49m\u001B[43m,\u001B[49m\n\u001B[32m    124\u001B[39m \u001B[43m            \u001B[49m\u001B[43mref_prod\u001B[49m\u001B[43m=\u001B[49m\u001B[33;43m\"\u001B[39;49m\u001B[33;43m\"\u001B[39;49m\u001B[43m,\u001B[49m\n\u001B[32m    125\u001B[39m \u001B[43m            \u001B[49m\u001B[43mproduction_variable\u001B[49m\u001B[43m=\u001B[49m\u001B[33;43m\"\u001B[39;49m\u001B[33;43mbiomass - residual\u001B[39;49m\u001B[33;43m\"\u001B[39;49m\u001B[43m,\u001B[49m\n\u001B[32m    126\u001B[39m \u001B[43m        \u001B[49m\u001B[43m)\u001B[49m\n\u001B[32m    128\u001B[39m         \u001B[38;5;66;03m# add them to the database\u001B[39;00m\n\u001B[32m    129\u001B[39m         \u001B[38;5;28mself\u001B[39m.database.extend(forest_residues_ds.values())\n",
      "\u001B[36mFile \u001B[39m\u001B[32m~/Github/premise/premise/transformation.py:884\u001B[39m, in \u001B[36mBaseTransformation.fetch_proxies\u001B[39m\u001B[34m(self, name, ref_prod, production_variable, relink, regions, geo_mapping, delete_original_dataset, empty_original_activity, exact_name_match, exact_product_match, unlist, subset)\u001B[39m\n\u001B[32m      0\u001B[39m <Error retrieving source code with stack_data see ipython/ipython#13598>\n",
      "\u001B[36mFile \u001B[39m\u001B[32m~/Github/premise/premise/transformation.py:2073\u001B[39m, in \u001B[36mrelink_technosphere_exchanges\u001B[39m\u001B[34m(self, dataset, exclusive, biggest_first, contained)\u001B[39m\n\u001B[32m   2067\u001B[39m                 \u001B[38;5;28;01mif\u001B[39;00m key \u001B[38;5;129;01min\u001B[39;00m exc:\n\u001B[32m   2068\u001B[39m                     old_uncertainty[\n\u001B[32m   2069\u001B[39m                         (exc[\u001B[33m\"\u001B[39m\u001B[33mname\u001B[39m\u001B[33m\"\u001B[39m], exc.get(\u001B[33m\"\u001B[39m\u001B[33mproduct\u001B[39m\u001B[33m\"\u001B[39m), exc[\u001B[33m\"\u001B[39m\u001B[33munit\u001B[39m\u001B[33m\"\u001B[39m])\n\u001B[32m   2070\u001B[39m                     ][key] = exc[key]\n\u001B[32m   2072\u001B[39m new_exchanges = \u001B[38;5;28mself\u001B[39m.find_candidates(\n\u001B[32m-> \u001B[39m\u001B[32m2073\u001B[39m     dataset,\n\u001B[32m   2074\u001B[39m     exclusive=exclusive,\n\u001B[32m   2075\u001B[39m     biggest_first=biggest_first,\n\u001B[32m   2076\u001B[39m     contained=contained,\n\u001B[32m   2077\u001B[39m )\n\u001B[32m   2079\u001B[39m \u001B[38;5;66;03m# make unique list of exchanges from new_exchanges\u001B[39;00m\n\u001B[32m   2080\u001B[39m \u001B[38;5;66;03m# and sum the amounts of exchanges with the same name,\u001B[39;00m\n\u001B[32m   2081\u001B[39m \u001B[38;5;66;03m# product, location and unit\u001B[39;00m\n\u001B[32m   2083\u001B[39m new_exchanges = [\n\u001B[32m   2084\u001B[39m     {\n\u001B[32m   2085\u001B[39m         \u001B[33m\"\u001B[39m\u001B[33mname\u001B[39m\u001B[33m\"\u001B[39m: name,\n\u001B[32m   (...)\u001B[39m\u001B[32m   2113\u001B[39m     )\n\u001B[32m   2114\u001B[39m ]\n",
      "\u001B[36mFile \u001B[39m\u001B[32m~/Github/premise/premise/transformation.py:2010\u001B[39m, in \u001B[36mfind_candidates\u001B[39m\u001B[34m(self, dataset, exclusive, biggest_first, contained)\u001B[39m\n\u001B[32m   2007\u001B[39m         \u001B[38;5;28mself\u001B[39m.process_cached_exchange(exchange, dataset, new_exchanges)\n\u001B[32m   2008\u001B[39m     \u001B[38;5;28;01melse\u001B[39;00m:\n\u001B[32m   2009\u001B[39m         \u001B[38;5;28mself\u001B[39m.process_uncached_exchange(\n\u001B[32m-> \u001B[39m\u001B[32m2010\u001B[39m             exchange,\n\u001B[32m   2011\u001B[39m             dataset,\n\u001B[32m   2012\u001B[39m             new_exchanges,\n\u001B[32m   2013\u001B[39m             exclusive,\n\u001B[32m   2014\u001B[39m             biggest_first,\n\u001B[32m   2015\u001B[39m             contained,\n\u001B[32m   2016\u001B[39m         )\n\u001B[32m   2018\u001B[39m \u001B[38;5;28;01mreturn\u001B[39;00m new_exchanges\n",
      "\u001B[36mFile \u001B[39m\u001B[32m~/Github/premise/premise/transformation.py:1769\u001B[39m, in \u001B[36mprocess_uncached_exchange\u001B[39m\u001B[34m(self, exchange, dataset, new_exchanges, exclusive, biggest_first, contained)\u001B[39m\n\u001B[32m   1763\u001B[39m     \u001B[38;5;28mself\u001B[39m.handle_single_possible_dataset(\n\u001B[32m   1764\u001B[39m         exchange, possible_datasets, new_exchanges\n\u001B[32m   1765\u001B[39m     )\n\u001B[32m   1767\u001B[39m \u001B[38;5;28;01melse\u001B[39;00m:\n\u001B[32m   1768\u001B[39m     \u001B[38;5;28mself\u001B[39m.handle_multiple_possible_datasets(\n\u001B[32m-> \u001B[39m\u001B[32m1769\u001B[39m         exchange,\n\u001B[32m   1770\u001B[39m         dataset,\n\u001B[32m   1771\u001B[39m         possible_datasets,\n\u001B[32m   1772\u001B[39m         new_exchanges,\n\u001B[32m   1773\u001B[39m         exclusive,\n\u001B[32m   1774\u001B[39m         biggest_first,\n\u001B[32m   1775\u001B[39m         contained,\n\u001B[32m   1776\u001B[39m     )\n",
      "\u001B[36mFile \u001B[39m\u001B[32m~/Github/premise/premise/transformation.py:1847\u001B[39m, in \u001B[36mhandle_multiple_possible_datasets\u001B[39m\u001B[34m(self, exchange, dataset, possible_datasets, new_exchanges, exclusive, biggest_first, contained)\u001B[39m\n\u001B[32m   1842\u001B[39m     new_exchanges.append(new_exc)\n\u001B[32m   1843\u001B[39m \u001B[38;5;28;01melse\u001B[39;00m:\n\u001B[32m   1844\u001B[39m     \u001B[38;5;66;03m# If more complex GIS matching or allocation is required,\u001B[39;00m\n\u001B[32m   1845\u001B[39m     \u001B[38;5;66;03m# we delegate to another function\u001B[39;00m\n\u001B[32m   1846\u001B[39m     \u001B[38;5;28mself\u001B[39m.process_complex_matching_and_allocation(\n\u001B[32m-> \u001B[39m\u001B[32m1847\u001B[39m         exchange,\n\u001B[32m   1848\u001B[39m         dataset,\n\u001B[32m   1849\u001B[39m         possible_datasets,\n\u001B[32m   1850\u001B[39m         new_exchanges,\n\u001B[32m   1851\u001B[39m         exclusive,\n\u001B[32m   1852\u001B[39m         biggest_first,\n\u001B[32m   1853\u001B[39m         contained,\n\u001B[32m   1854\u001B[39m     )\n",
      "\u001B[36mFile \u001B[39m\u001B[32m~/Github/premise/premise/transformation.py:1879\u001B[39m, in \u001B[36mprocess_complex_matching_and_allocation\u001B[39m\u001B[34m(self, exchange, dataset, possible_datasets, new_exchanges, exclusive, biggest_first, contained)\u001B[39m\n\u001B[32m   1872\u001B[39m     \u001B[38;5;28mself\u001B[39m.handle_global_and_row_scenarios(\n\u001B[32m   1873\u001B[39m         exchange, dataset, possible_datasets, new_exchanges\n\u001B[32m   1874\u001B[39m     )\n\u001B[32m   1876\u001B[39m \u001B[38;5;28;01melse\u001B[39;00m:\n\u001B[32m   1877\u001B[39m     \u001B[38;5;66;03m# After the above checks, perform GIS matching if necessary\u001B[39;00m\n\u001B[32m   1878\u001B[39m     \u001B[38;5;28mself\u001B[39m.perform_gis_matching(\n\u001B[32m-> \u001B[39m\u001B[32m1879\u001B[39m         exchange,\n\u001B[32m   1880\u001B[39m         dataset,\n\u001B[32m   1881\u001B[39m         possible_datasets,\n\u001B[32m   1882\u001B[39m         new_exchanges,\n\u001B[32m   1883\u001B[39m         exclusive,\n\u001B[32m   1884\u001B[39m         biggest_first,\n\u001B[32m   1885\u001B[39m         contained,\n\u001B[32m   1886\u001B[39m     )\n\u001B[32m   1888\u001B[39m \u001B[38;5;66;03m# If there's still no match found, consider the default option\u001B[39;00m\n\u001B[32m   1889\u001B[39m \u001B[38;5;28mself\u001B[39m.handle_default_option(exchange, dataset, new_exchanges, possible_datasets)\n",
      "\u001B[36mFile \u001B[39m\u001B[32m~/Github/premise/premise/transformation.py:1953\u001B[39m, in \u001B[36mperform_gis_matching\u001B[39m\u001B[34m(self, exchange, dataset, possible_datasets, new_exchanges, exclusive, biggest_first, contained)\u001B[39m\n\u001B[32m   1948\u001B[39m \u001B[38;5;66;03m# if regions contained in posisble location\u001B[39;00m\n\u001B[32m   1949\u001B[39m \u001B[38;5;66;03m# we need to turn them into tuples (model, region)\u001B[39;00m\n\u001B[32m   1950\u001B[39m possible_locations = \u001B[38;5;28mtuple\u001B[39m([ds[\u001B[33m\"\u001B[39m\u001B[33mlocation\u001B[39m\u001B[33m\"\u001B[39m] \u001B[38;5;28;01mfor\u001B[39;00m ds \u001B[38;5;129;01min\u001B[39;00m possible_datasets])\n\u001B[32m   1952\u001B[39m gis_match = \u001B[38;5;28mself\u001B[39m.get_gis_match(\n\u001B[32m-> \u001B[39m\u001B[32m1953\u001B[39m     location,\n\u001B[32m   1954\u001B[39m     possible_locations,\n\u001B[32m   1955\u001B[39m     contained,\n\u001B[32m   1956\u001B[39m     exclusive,\n\u001B[32m   1957\u001B[39m     biggest_first,\n\u001B[32m   1958\u001B[39m )\n\u001B[32m   1960\u001B[39m kept = [\n\u001B[32m   1961\u001B[39m     ds \u001B[38;5;28;01mfor\u001B[39;00m loc \u001B[38;5;129;01min\u001B[39;00m gis_match \u001B[38;5;28;01mfor\u001B[39;00m ds \u001B[38;5;129;01min\u001B[39;00m possible_datasets \u001B[38;5;28;01mif\u001B[39;00m ds[\u001B[33m\"\u001B[39m\u001B[33mlocation\u001B[39m\u001B[33m\"\u001B[39m] == loc\n\u001B[32m   1962\u001B[39m ]\n\u001B[32m   1964\u001B[39m \u001B[38;5;28;01mif\u001B[39;00m kept:\n",
      "\u001B[36mFile \u001B[39m\u001B[32m~/Github/premise/premise/transformation.py:2199\u001B[39m, in \u001B[36mget_gis_match\u001B[39m\u001B[34m(self, location, possible_locations, contained, exclusive, biggest_first)\u001B[39m\n\u001B[32m   2195\u001B[39m \u001B[38;5;28;01mwith\u001B[39;00m resolved_row(possible_locations, \u001B[38;5;28mself\u001B[39m.geo.geo) \u001B[38;5;28;01mas\u001B[39;00m g:\n\u001B[32m   2196\u001B[39m     func = g.contained \u001B[38;5;28;01mif\u001B[39;00m contained \u001B[38;5;28;01melse\u001B[39;00m g.intersects\n\u001B[32m   2198\u001B[39m     gis_match = func(\n\u001B[32m-> \u001B[39m\u001B[32m2199\u001B[39m         location,\n\u001B[32m   2200\u001B[39m         include_self=\u001B[38;5;28;01mTrue\u001B[39;00m,\n\u001B[32m   2201\u001B[39m         exclusive=exclusive,\n\u001B[32m   2202\u001B[39m         biggest_first=biggest_first,\n\u001B[32m   2203\u001B[39m         only=possible_locations,\n\u001B[32m   2204\u001B[39m     )\n\u001B[32m   2206\u001B[39m \u001B[38;5;28;01mreturn\u001B[39;00m gis_match\n",
      "\u001B[36mFile \u001B[39m\u001B[32m~/micromamba/envs/premise/lib/python3.11/site-packages/constructive_geometries/geomatcher.py:186\u001B[39m, in \u001B[36mGeomatcher.intersects\u001B[39m\u001B[34m(self, key, include_self, exclusive, biggest_first, only)\u001B[39m\n\u001B[32m    183\u001B[39m \u001B[38;5;28;01mif\u001B[39;00m key == \u001B[33m\"\u001B[39m\u001B[33mRoE\u001B[39m\u001B[33m\"\u001B[39m \u001B[38;5;129;01mand\u001B[39;00m \u001B[33m\"\u001B[39m\u001B[33mRoE\u001B[39m\u001B[33m\"\u001B[39m \u001B[38;5;129;01mnot\u001B[39;00m \u001B[38;5;129;01min\u001B[39;00m \u001B[38;5;28mself\u001B[39m:\n\u001B[32m    184\u001B[39m     \u001B[38;5;28;01mreturn\u001B[39;00m [\u001B[33m\"\u001B[39m\u001B[33mRoE\u001B[39m\u001B[33m\"\u001B[39m] \u001B[38;5;28;01mif\u001B[39;00m \u001B[33m\"\u001B[39m\u001B[33mRoE\u001B[39m\u001B[33m\"\u001B[39m \u001B[38;5;129;01min\u001B[39;00m possibles \u001B[38;5;28;01melse\u001B[39;00m []\n\u001B[32m--> \u001B[39m\u001B[32m186\u001B[39m faces = \u001B[38;5;28;43mself\u001B[39;49m\u001B[43m[\u001B[49m\u001B[43mkey\u001B[49m\u001B[43m]\u001B[49m\n\u001B[32m    187\u001B[39m lst = [\n\u001B[32m    188\u001B[39m     (k, (\u001B[38;5;28mlen\u001B[39m(v.intersection(faces)), \u001B[38;5;28mlen\u001B[39m(v)))\n\u001B[32m    189\u001B[39m     \u001B[38;5;28;01mfor\u001B[39;00m k, v \u001B[38;5;129;01min\u001B[39;00m possibles.items()\n\u001B[32m    190\u001B[39m     \u001B[38;5;28;01mif\u001B[39;00m (faces.intersection(v))\n\u001B[32m    191\u001B[39m ]\n\u001B[32m    192\u001B[39m \u001B[38;5;28;01mreturn\u001B[39;00m \u001B[38;5;28mself\u001B[39m._finish_filter(lst, key, include_self, exclusive, biggest_first)\n",
      "\u001B[36mFile \u001B[39m\u001B[32m~/micromamba/envs/premise/lib/python3.11/site-packages/constructive_geometries/geomatcher.py:88\u001B[39m, in \u001B[36mGeomatcher.__getitem__\u001B[39m\u001B[34m(self, key)\u001B[39m\n\u001B[32m     86\u001B[39m \u001B[38;5;28;01mif\u001B[39;00m key == \u001B[33m\"\u001B[39m\u001B[33mRoE\u001B[39m\u001B[33m\"\u001B[39m \u001B[38;5;129;01mand\u001B[39;00m \u001B[33m\"\u001B[39m\u001B[33mRoE\u001B[39m\u001B[33m\"\u001B[39m \u001B[38;5;129;01mnot\u001B[39;00m \u001B[38;5;129;01min\u001B[39;00m \u001B[38;5;28mself\u001B[39m.topology:\n\u001B[32m     87\u001B[39m     \u001B[38;5;28;01mreturn\u001B[39;00m \u001B[38;5;28mset\u001B[39m()\n\u001B[32m---> \u001B[39m\u001B[32m88\u001B[39m \u001B[38;5;28;01mreturn\u001B[39;00m \u001B[38;5;28mself\u001B[39m.topology[\u001B[38;5;28;43mself\u001B[39;49m\u001B[43m.\u001B[49m\u001B[43m_actual_key\u001B[49m\u001B[43m(\u001B[49m\u001B[43mkey\u001B[49m\u001B[43m)\u001B[49m]\n",
      "\u001B[36mFile \u001B[39m\u001B[32m~/micromamba/envs/premise/lib/python3.11/site-packages/constructive_geometries/geomatcher.py:121\u001B[39m, in \u001B[36mGeomatcher._actual_key\u001B[39m\u001B[34m(self, key)\u001B[39m\n\u001B[32m    118\u001B[39m             \u001B[38;5;28mprint\u001B[39m(\u001B[33m\"\u001B[39m\u001B[33mGeomatcher: Used \u001B[39m\u001B[33m'\u001B[39m\u001B[38;5;132;01m{}\u001B[39;00m\u001B[33m'\u001B[39m\u001B[33m for \u001B[39m\u001B[33m'\u001B[39m\u001B[38;5;132;01m{}\u001B[39;00m\u001B[33m'\u001B[39m\u001B[33m\"\u001B[39m.format(new, key))\n\u001B[32m    119\u001B[39m         \u001B[38;5;28;01mreturn\u001B[39;00m new\n\u001B[32m--> \u001B[39m\u001B[32m121\u001B[39m \u001B[38;5;28;01mraise\u001B[39;00m \u001B[38;5;167;01mKeyError\u001B[39;00m(\u001B[33m\"\u001B[39m\u001B[33mCan\u001B[39m\u001B[33m'\u001B[39m\u001B[33mt find location: \u001B[39m\u001B[38;5;132;01m{}\u001B[39;00m\u001B[33m.\u001B[39m\u001B[33m\"\u001B[39m.format(key))\n",
      "\u001B[31mKeyError\u001B[39m: \"Can't find location: EU27.\""
     ]
    }
   ],
   "execution_count": 2
  },
  {
   "metadata": {
    "ExecuteTime": {
     "end_time": "2025-05-02T09:55:56.263522Z",
     "start_time": "2025-05-02T09:55:53.893833Z"
    }
   },
   "cell_type": "code",
   "source": [
    "from premise.utils import load_database\n",
    "scenario = load_database(ndb.scenarios[0])"
   ],
   "id": "4065f3ab3dc0e2cb",
   "outputs": [],
   "execution_count": 4
  },
  {
   "metadata": {
    "ExecuteTime": {
     "end_time": "2025-05-02T09:55:57.388053Z",
     "start_time": "2025-05-02T09:55:57.369688Z"
    }
   },
   "cell_type": "code",
   "source": [
    "for ds in scenario[\"database\"]:\n",
    "    if ds[\"name\"].startswith(\"carbon dioxide, captured, at cement production plant, using direct separation\"):\n",
    "        for e in ds[\"exchanges\"]:\n",
    "            print(e[\"name\"], e[\"type\"], e[\"location\"], e[\"amount\"])\n",
    "        print()"
   ],
   "id": "240c56e11c3e510d",
   "outputs": [
    {
     "name": "stdout",
     "output_type": "stream",
     "text": [
      "carbon dioxide, captured, at cement production plant, using direct separation production RER 1\n",
      "carbon dioxide, captured, at cement production plant, using direct separation technosphere EUR 1.0\n",
      "\n",
      "carbon dioxide, captured, at cement production plant, using direct separation production CAZ 1\n",
      "carbon dioxide compression, transport and storage technosphere RER 1\n",
      "market group for electricity, low voltage technosphere CA 0.08412025275767764\n",
      "market group for electricity, low voltage technosphere Canada without Quebec 0.05387257878354101\n",
      "\n",
      "carbon dioxide, captured, at cement production plant, using direct separation production CHA 1\n",
      "carbon dioxide compression, transport and storage technosphere RER 1\n",
      "market group for electricity, low voltage technosphere CN 0.03969329370920471\n",
      "market group for electricity, low voltage technosphere CN-SGCC 0.032772294488635494\n",
      "market group for electricity, low voltage technosphere RAS 0.06552724334337844\n",
      "\n",
      "carbon dioxide, captured, at cement production plant, using direct separation production EUR 1\n",
      "carbon dioxide compression, transport and storage technosphere RER 1\n",
      "market group for electricity, low voltage technosphere ENTSO-E 0.033329079905248686\n",
      "market group for electricity, low voltage technosphere Europe without Switzerland 0.03527148648631025\n",
      "market group for electricity, low voltage technosphere RER 0.035275394994843605\n",
      "market group for electricity, low voltage technosphere RME 0.008857745521009257\n",
      "market group for electricity, low voltage technosphere UCTE 0.025259124633806838\n",
      "\n",
      "carbon dioxide, captured, at cement production plant, using direct separation production IND 1\n",
      "carbon dioxide compression, transport and storage technosphere RER 1\n",
      "market group for electricity, low voltage technosphere IN 0.13799283154121864\n",
      "\n",
      "carbon dioxide, captured, at cement production plant, using direct separation production JPN 1\n",
      "carbon dioxide compression, transport and storage technosphere RER 1\n",
      "market group for electricity, low voltage technosphere GLO 0.13799283154121864\n",
      "\n",
      "carbon dioxide, captured, at cement production plant, using direct separation production LAM 1\n",
      "carbon dioxide compression, transport and storage technosphere RER 1\n",
      "market group for electricity, low voltage technosphere BR 0.04222494573100298\n",
      "market group for electricity, low voltage technosphere RLA 0.09576788581021563\n",
      "\n",
      "carbon dioxide, captured, at cement production plant, using direct separation production MEA 1\n",
      "carbon dioxide compression, transport and storage technosphere RER 1\n",
      "market group for electricity, low voltage technosphere GLO 0.13799283154121864\n",
      "\n",
      "carbon dioxide, captured, at cement production plant, using direct separation production NEU 1\n",
      "carbon dioxide compression, transport and storage technosphere RER 1\n",
      "market group for electricity, low voltage technosphere GLO 0.13799283154121864\n",
      "\n",
      "carbon dioxide, captured, at cement production plant, using direct separation production OAS 1\n",
      "carbon dioxide compression, transport and storage technosphere RER 1\n",
      "market group for electricity, low voltage technosphere GLO 0.13799283154121864\n",
      "\n",
      "carbon dioxide, captured, at cement production plant, using direct separation production REF 1\n",
      "carbon dioxide compression, transport and storage technosphere RER 1\n",
      "market group for electricity, low voltage technosphere GLO 0.13799283154121864\n",
      "\n",
      "carbon dioxide, captured, at cement production plant, using direct separation production SSA 1\n",
      "carbon dioxide compression, transport and storage technosphere RER 1\n",
      "market group for electricity, low voltage technosphere RAF 0.13799283154121864\n",
      "\n",
      "carbon dioxide, captured, at cement production plant, using direct separation production USA 1\n",
      "carbon dioxide compression, transport and storage technosphere RER 1\n",
      "market group for electricity, low voltage technosphere RNA 0.07317859218139339\n",
      "market group for electricity, low voltage technosphere US 0.06481423935982525\n",
      "\n",
      "carbon dioxide, captured, at cement production plant, using direct separation production World 1\n",
      "carbon dioxide compression, transport and storage technosphere RER 1\n",
      "market group for electricity, low voltage technosphere GLO 0.13799283154121864\n",
      "\n"
     ]
    }
   ],
   "execution_count": 5
  },
  {
   "metadata": {
    "ExecuteTime": {
     "end_time": "2025-05-02T10:23:20.020303Z",
     "start_time": "2025-05-02T10:18:06.706571Z"
    }
   },
   "cell_type": "code",
   "source": "ndb.write_db_to_brightway(\"test steel 6\")",
   "id": "3b73c52038cbae6e",
   "outputs": [
    {
     "name": "stdout",
     "output_type": "stream",
     "text": [
      "Write new database(s) to Brightway.\n",
      "Running all checks...\n",
      "Minor anomalies found: check the change report.\n",
      "Warning: No valid output stream.\n",
      "Title: Writing activities to SQLite3 database:\n",
      "  Started: 05/02/2025 12:19:32\n",
      "  Finished: 05/02/2025 12:19:56\n",
      "  Total time elapsed: 00:00:23\n",
      "  CPU %: 91.90\n",
      "  Memory %: 15.61\n",
      "Created database: test steel 6\n",
      "Generate scenario report.\n",
      "Report saved under /Users/romain/Github/premise/dev/export/scenario_report.\n",
      "Generate change report.\n",
      "Report saved under /Users/romain/Github/premise/dev.\n"
     ]
    }
   ],
   "execution_count": 3
  },
  {
   "metadata": {
    "ExecuteTime": {
     "end_time": "2025-04-09T07:44:19.571693Z",
     "start_time": "2025-04-09T07:34:20.260027Z"
    }
   },
   "cell_type": "code",
   "source": "ndb.write_db_to_brightway(\"witch test 3\")",
   "id": "7e1c1e730d374291",
   "outputs": [
    {
     "name": "stdout",
     "output_type": "stream",
     "text": [
      "Write new database(s) to Brightway.\n",
      "Running all checks...\n",
      "Minor anomalies found: check the change report.\n",
      "Warning: No valid output stream.\n",
      "Title: Writing activities to SQLite3 database:\n",
      "  Started: 04/09/2025 09:37:43\n",
      "  Finished: 04/09/2025 09:38:12\n",
      "  Total time elapsed: 00:00:29\n",
      "  CPU %: 89.40\n",
      "  Memory %: 16.14\n",
      "Created database: witch test 3\n",
      "Generate scenario report.\n",
      "Report saved under /Users/romain/GitHub/premise/dev/export/scenario_report.\n",
      "Generate change report.\n",
      "Report saved under /Users/romain/GitHub/premise/dev.\n"
     ]
    }
   ],
   "execution_count": 3
  },
  {
   "metadata": {
    "ExecuteTime": {
     "end_time": "2025-04-09T07:52:36.110376Z",
     "start_time": "2025-04-09T07:52:36.044502Z"
    }
   },
   "cell_type": "code",
   "source": "ndb.scenarios[0][\"iam data\"].petrol_efficiencies.sel(region=\"eu27\", year=2050)",
   "id": "6c50e2b2a5fe62d0",
   "outputs": [
    {
     "ename": "AttributeError",
     "evalue": "'IAMDataCollection' object has no attribute 'petrol_efficiencies'",
     "output_type": "error",
     "traceback": [
      "\u001B[0;31m---------------------------------------------------------------------------\u001B[0m",
      "\u001B[0;31mAttributeError\u001B[0m                            Traceback (most recent call last)",
      "Cell \u001B[0;32mIn[6], line 1\u001B[0m\n\u001B[0;32m----> 1\u001B[0m ndb\u001B[38;5;241m.\u001B[39mscenarios[\u001B[38;5;241m0\u001B[39m][\u001B[38;5;124m\"\u001B[39m\u001B[38;5;124miam data\u001B[39m\u001B[38;5;124m\"\u001B[39m]\u001B[38;5;241m.\u001B[39mpetrol_efficiencies\u001B[38;5;241m.\u001B[39msel(region\u001B[38;5;241m=\u001B[39m\u001B[38;5;124m\"\u001B[39m\u001B[38;5;124meu27\u001B[39m\u001B[38;5;124m\"\u001B[39m, year\u001B[38;5;241m=\u001B[39m\u001B[38;5;241m2050\u001B[39m)\n",
      "\u001B[0;31mAttributeError\u001B[0m: 'IAMDataCollection' object has no attribute 'petrol_efficiencies'"
     ]
    }
   ],
   "execution_count": 6
  },
  {
   "metadata": {},
   "cell_type": "code",
   "outputs": [],
   "execution_count": null,
   "source": [
    "from premise.utils import load_database\n",
    "\n",
    "for scenario in ndb.scenarios:\n",
    "    scenario = load_database(scenario)"
   ],
   "id": "1461747f13237266"
  },
  {
   "metadata": {},
   "cell_type": "code",
   "outputs": [],
   "execution_count": null,
   "source": [
    "for ds in ndb.scenarios[0][\"database\"]:\n",
    "    if ds[\"name\"] == \"heat, residential, by combustion of methanol using boiler, distributed by truck, produced with biomass\" and ds[\"location\"] == \"brazil\":\n",
    "        for e in ds[\"exchanges\"]:\n",
    "            print(e[\"name\"], e[\"amount\"])\n",
    "        print()\n",
    "        break"
   ],
   "id": "abb7edb84da2ed10"
  },
  {
   "metadata": {},
   "cell_type": "code",
   "outputs": [],
   "execution_count": null,
   "source": "ndb.scenarios[0][\"iam data\"].passenger_car_efficiencies.sel(region=\"india\")",
   "id": "489d4403f84d2e24"
  },
  {
   "metadata": {},
   "cell_type": "code",
   "outputs": [],
   "execution_count": null,
   "source": [
    "expected_co2 = 0.0\n",
    "\n",
    "energy = sum(\n",
    "    [\n",
    "        exc[\"amount\"]\n",
    "        for exc in ds[\"exchanges\"]\n",
    "        if exc[\"unit\"] == \"megajoule\" and exc[\"type\"] == \"technosphere\"\n",
    "    ]\n",
    ")\n",
    "# add input of coal\n",
    "coal = sum(\n",
    "    [\n",
    "        exc[\"amount\"] * 26.4\n",
    "        for exc in ds[\"exchanges\"]\n",
    "        if \"hard coal\" in exc[\"name\"]\n",
    "        and exc[\"type\"] == \"technosphere\"\n",
    "        and exc[\"unit\"] == \"kilogram\"\n",
    "    ]\n",
    ")\n",
    "\n",
    "expected_co2 += coal * 0.098\n",
    "print(expected_co2)\n",
    "\n",
    "# add input of coal briquettes\n",
    "briquettes = sum(\n",
    "    [\n",
    "        exc[\"amount\"]\n",
    "        for exc in ds[\"exchanges\"]\n",
    "        if \"briquettes\" in exc[\"name\"]\n",
    "        and exc[\"type\"] == \"technosphere\"\n",
    "        and exc[\"unit\"] == \"megajoule\"\n",
    "    ]\n",
    ")\n",
    "\n",
    "expected_co2 += briquettes * 0.098\n",
    "print(expected_co2)\n",
    "\n",
    "# add input of natural gas\n",
    "nat_gas = sum(\n",
    "    [\n",
    "        exc[\"amount\"] * (36 if exc[\"unit\"] == \"cubic meter\" else 47.5)\n",
    "        for exc in ds[\"exchanges\"]\n",
    "        if \"natural gas\" in exc[\"name\"]\n",
    "        and exc[\"type\"] == \"technosphere\"\n",
    "        and exc[\"unit\"] in [\"cubic meter\", \"kilogram\"]\n",
    "    ]\n",
    ")\n",
    "\n",
    "expected_co2 += nat_gas * 0.06\n",
    "print(expected_co2)\n",
    "\n",
    "# add input of liquefied natural gas\n",
    "\n",
    "lpg = sum(\n",
    "    [\n",
    "        exc[\"amount\"] * (36 if exc[\"unit\"] == \"cubic meter\" else 47.5)\n",
    "        for exc in ds[\"exchanges\"]\n",
    "        if \"liquefied petroleum gas\" in exc[\"name\"]\n",
    "        and exc[\"type\"] == \"technosphere\"\n",
    "        and exc[\"unit\"] in [\"cubic meter\", \"kilogram\"]\n",
    "    ]\n",
    ")\n",
    "\n",
    "expected_co2 += lpg * 0.0631\n",
    "print(expected_co2)\n",
    "\n",
    "# add input of diesel\n",
    "diesel = sum(\n",
    "    [\n",
    "        exc[\"amount\"] * 42.6\n",
    "        for exc in ds[\"exchanges\"]\n",
    "        if \"diesel\" in exc[\"name\"]\n",
    "        and exc[\"type\"] == \"technosphere\"\n",
    "        and exc[\"unit\"] == \"kilogram\"\n",
    "    ]\n",
    ")\n",
    "\n",
    "expected_co2 += diesel * 0.0732\n",
    "print(expected_co2)\n",
    "\n",
    "# add input of light fuel oil\n",
    "light_fue_oil = sum(\n",
    "    [\n",
    "        exc[\"amount\"] * 41.8\n",
    "        for exc in ds[\"exchanges\"]\n",
    "        if \"light fuel oil\" in exc[\"name\"]\n",
    "        and exc[\"type\"] == \"technosphere\"\n",
    "        and exc[\"unit\"] == \"kilogram\"\n",
    "    ]\n",
    ")\n",
    "\n",
    "expected_co2 += light_fue_oil * 0.0686\n",
    "print(expected_co2)\n",
    "\n",
    "# add input of heavy fuel oil\n",
    "heavy_fuel_oil = sum(\n",
    "    [\n",
    "        exc[\"amount\"] * 41.8\n",
    "        for exc in ds[\"exchanges\"]\n",
    "        if \"heavy fuel oil\" in exc[\"name\"]\n",
    "        and exc[\"type\"] == \"technosphere\"\n",
    "        and exc[\"unit\"] == \"kilogram\"\n",
    "    ]\n",
    ")\n",
    "\n",
    "expected_co2 += heavy_fuel_oil * 0.0739\n",
    "print(expected_co2)\n",
    "\n",
    "# add input of biomass\n",
    "biomass = sum(\n",
    "    [\n",
    "        exc[\"amount\"] * 18\n",
    "        for exc in ds[\"exchanges\"]\n",
    "        if any(x in exc[\"name\"] for x in [\"biomass\", \"wood\", \"timber\"])\n",
    "        and exc[\"type\"] == \"technosphere\"\n",
    "        and exc[\"unit\"] == \"kilogram\"\n",
    "    ]\n",
    ")\n",
    "\n",
    "expected_co2 += biomass * 0.112\n",
    "print(expected_co2)\n",
    "\n",
    "# add input of methane\n",
    "methane = sum(\n",
    "    [\n",
    "        exc[\"amount\"] * (36 if exc[\"unit\"] == \"cubic meter\" else 47.5)\n",
    "        for exc in ds[\"exchanges\"]\n",
    "        if \"methane\" in exc[\"name\"]\n",
    "        and exc[\"type\"] == \"technosphere\"\n",
    "        and exc[\"unit\"] in [\"kilogram\", \"cubic meter\"]\n",
    "    ]\n",
    ")\n",
    "\n",
    "expected_co2 += methane * 0.06\n",
    "print(expected_co2)\n",
    "\n",
    "# add input of biogas\n",
    "biogas = sum(\n",
    "    [\n",
    "        exc[\"amount\"] * 22.7\n",
    "        for exc in ds[\"exchanges\"]\n",
    "        if \"biogas\" in exc[\"name\"]\n",
    "        and exc[\"type\"] == \"technosphere\"\n",
    "        and exc[\"unit\"] == \"cubic meter\"\n",
    "    ]\n",
    ")\n",
    "\n",
    "expected_co2 += biogas * 0.058\n",
    "print(expected_co2)\n",
    "\n",
    "# add input of methanol\n",
    "methanol = sum(\n",
    "    [\n",
    "        exc[\"amount\"] * 20\n",
    "        for exc in ds[\"exchanges\"]\n",
    "        if \"methanol\" in exc[\"name\"]\n",
    "        and exc[\"type\"] == \"technosphere\"\n",
    "        and exc[\"unit\"] == \"kilogram\"\n",
    "    ]\n",
    ")\n",
    "\n",
    "expected_co2 += methanol * 0.069\n",
    "print(expected_co2)\n",
    "\n",
    "# add input of hydrogen\n",
    "hydrogen = sum(\n",
    "    [\n",
    "        exc[\"amount\"] * 120\n",
    "        for exc in ds[\"exchanges\"]\n",
    "        if \"hydrogen\" in exc[\"name\"]\n",
    "        and exc[\"type\"] == \"technosphere\"\n",
    "        and exc[\"unit\"] == \"kilogram\"\n",
    "    ]\n",
    ")\n",
    "\n",
    "# add input of electricity\n",
    "electricity = sum(\n",
    "    [\n",
    "        exc[\"amount\"] * 3.6\n",
    "        for exc in ds[\"exchanges\"]\n",
    "        if \"electricity\" in exc[\"name\"]\n",
    "        and exc[\"type\"] == \"technosphere\"\n",
    "        and exc[\"unit\"] == \"kilowatt hour\"\n",
    "    ]\n",
    ")\n",
    "\n",
    "energy_input = sum(\n",
    "    [\n",
    "        energy,\n",
    "        coal,\n",
    "        briquettes,\n",
    "        nat_gas,\n",
    "        lpg,\n",
    "        diesel,\n",
    "        light_fue_oil,\n",
    "        heavy_fuel_oil,\n",
    "        biomass,\n",
    "        methane,\n",
    "        biogas,\n",
    "        hydrogen,\n",
    "        methanol,\n",
    "        electricity,\n",
    "    ]\n",
    ")"
   ],
   "id": "a15ca81672e68398"
  },
  {
   "metadata": {},
   "cell_type": "code",
   "outputs": [],
   "execution_count": null,
   "source": [
    "[\n",
    "        exc\n",
    "        for exc in ds[\"exchanges\"]\n",
    "        if any(x in exc[\"name\"] for x in [\"biomass\", \"wood\", \"timber\"])\n",
    "        and exc[\"type\"] == \"technosphere\"\n",
    "        and exc[\"unit\"] == \"kilogram\"\n",
    "    ]"
   ],
   "id": "a0ade6753eb9070"
  },
  {
   "metadata": {},
   "cell_type": "code",
   "outputs": [],
   "execution_count": null,
   "source": "ndb.scenarios[0][\"iam data\"].biomass_mix.sel(region=\"canada\", year=2050)",
   "id": "18dfbf23be773950"
  },
  {
   "metadata": {},
   "cell_type": "code",
   "outputs": [],
   "execution_count": null,
   "source": [
    "bw2data.projects.set_current(\"ecoinvent-3.9.1-cutoff_bw25\")\n",
    "bw2data.databases"
   ],
   "id": "7e6880dae59c3326"
  },
  {
   "metadata": {},
   "cell_type": "code",
   "outputs": [],
   "execution_count": null,
   "source": "ndb.generate_scenario_report()",
   "id": "61a69a9d5e12bb2"
  },
  {
   "metadata": {},
   "cell_type": "code",
   "outputs": [],
   "execution_count": null,
   "source": "ndb.scenarios[0][\"iam data\"].daccs_energy_use",
   "id": "5bffc389b701951c"
  },
  {
   "metadata": {},
   "cell_type": "code",
   "outputs": [],
   "execution_count": null,
   "source": [
    "ndb.update([\n",
    "    #\"fuels\",\n",
    "    \"heat\",\n",
    "    \"final energy\"\n",
    "])"
   ],
   "id": "a5848185dd9a5f5a"
  },
  {
   "metadata": {},
   "cell_type": "code",
   "outputs": [],
   "execution_count": null,
   "source": "ndb.write_db_to_brightway(\"heat test 1\")",
   "id": "e42aa29a01751b1b"
  },
  {
   "metadata": {},
   "cell_type": "code",
   "outputs": [],
   "execution_count": null,
   "source": "ndb.write_superstructure_db_to_brightway(\"heat test 1\")",
   "id": "b91f9207d8694b6d"
  },
  {
   "metadata": {},
   "cell_type": "code",
   "outputs": [],
   "execution_count": null,
   "source": [
    "from premise.utils import load_database\n",
    "\n",
    "for scenario in ndb.scenarios:\n",
    "    scenario = load_database(scenario)\n",
    "\n",
    "\n",
    "for scenario in ndb.scenarios:\n",
    "    for ds in scenario[\"database\"]:\n",
    "        if ds[\"name\"] == \"biodiesel, burned in passenger train\" and ds[\"location\"] == \"LAM\":\n",
    "            for e in ds[\"exchanges\"]:\n",
    "                    print(e[\"name\"], e[\"amount\"])"
   ],
   "id": "c6b29840bc338523"
  },
  {
   "metadata": {},
   "cell_type": "code",
   "outputs": [],
   "execution_count": null,
   "source": "ndb.scenarios[0][\"iam data\"].buildings_heating_mix.sel(region=\"CAZ\")",
   "id": "8e97eb399810b26f"
  },
  {
   "metadata": {},
   "cell_type": "code",
   "outputs": [],
   "execution_count": null,
   "source": [
    "ndb.update(\n",
    "    [\n",
    "        #\"electricity\",\n",
    "        #\"dac\",\n",
    "        #\"fuels\",\n",
    "        \"heat\",\n",
    "        #\"final energy\"\n",
    "    ]\n",
    ")"
   ],
   "id": "7caed14aa1bfdf7e"
  },
  {
   "metadata": {},
   "cell_type": "code",
   "outputs": [],
   "execution_count": null,
   "source": "ndb.generate_scenario_report()",
   "id": "7f68b63effdb792c"
  },
  {
   "metadata": {},
   "cell_type": "code",
   "outputs": [],
   "execution_count": null,
   "source": "ndb.write_db_to_brightway(\"test final energy 12\")",
   "id": "bac05c4be4357545"
  },
  {
   "metadata": {},
   "cell_type": "code",
   "outputs": [],
   "execution_count": null,
   "source": [
    "import copy\n",
    "import json\n",
    "import ujson\n",
    "import pickle"
   ],
   "id": "398bedc922b6813a"
  },
  {
   "metadata": {},
   "cell_type": "code",
   "outputs": [],
   "execution_count": null,
   "source": [
    "%%time\n",
    "\n",
    "data = pickle.dumps(ndb.database, -1)\n",
    "db = pickle.loads(data)"
   ],
   "id": "965a63a9c9764bcd"
  },
  {
   "metadata": {},
   "cell_type": "code",
   "outputs": [],
   "execution_count": null,
   "source": [
    "%%time\n",
    "\n",
    "json_data = ujson.dumps(ndb.database)\n",
    "db = ujson.loads(json_data)"
   ],
   "id": "2928e877eb0e3b13"
  },
  {
   "metadata": {},
   "cell_type": "code",
   "outputs": [],
   "execution_count": null,
   "source": [
    "%%time\n",
    "\n",
    "json_data = json.dumps(ndb.database)\n",
    "db = json.loads(json_data)"
   ],
   "id": "57d137418599e504"
  },
  {
   "metadata": {},
   "cell_type": "code",
   "outputs": [],
   "execution_count": null,
   "source": [
    "%%time\n",
    "\n",
    "db = copy.deepcopy(ndb.database)"
   ],
   "id": "29720eb8b65e0ce2"
  },
  {
   "metadata": {},
   "cell_type": "code",
   "outputs": [],
   "execution_count": null,
   "source": "ndb.update()",
   "id": "d65606f2ec93765d"
  },
  {
   "metadata": {},
   "cell_type": "code",
   "outputs": [],
   "execution_count": null,
   "source": [
    "for ds in ndb.scenarios[0][\"database\"]:\n",
    "    if ds[\"name\"] == \"market for petrol, low-sulfur, 20-year period\" and ds[\"location\"] == \"WEU\":\n",
    "        for e in ds[\"exchanges\"]:\n",
    "            print(e[\"name\"], e[\"amount\"])"
   ],
   "id": "ad25e6b3fb509dc5"
  },
  {
   "metadata": {},
   "cell_type": "code",
   "outputs": [],
   "execution_count": null,
   "source": "ndb.write_db_to_brightway()",
   "id": "76a5c781cba810a8"
  },
  {
   "metadata": {},
   "cell_type": "code",
   "outputs": [],
   "execution_count": null,
   "source": [
    "import pandas as pd\n",
    "fp = \"/Users/romain/GitHub/carculator_utils/carculator_utils/data/emission_factors/car/EF_HBEFA42_exhaust.csv\"\n",
    "df = pd.read_csv(fp)"
   ],
   "id": "5e81193f9f06d4e3"
  },
  {
   "metadata": {},
   "cell_type": "code",
   "outputs": [],
   "execution_count": null,
   "source": "df.loc[df[\"euro_class\"]==6.2]",
   "id": "553a7f29a2cd5c02"
  },
  {
   "metadata": {},
   "cell_type": "code",
   "outputs": [],
   "execution_count": null,
   "source": [
    "import pandas as pd\n",
    "fp = \"/Users/romain/GitHub/premise/premise/data/iam_output_files/fleet_files/image_fleet_trucks.csv\"\n",
    "fp_out = \"/Users/romain/GitHub/premise/premise/data/iam_output_files/fleet_files/image_fleet_trucks_.csv\"\n",
    "df = pd.read_csv(fp, sep=\",\")"
   ],
   "id": "3e5a371098ff2725"
  },
  {
   "metadata": {},
   "cell_type": "code",
   "outputs": [],
   "execution_count": null,
   "source": "df",
   "id": "160c2f5081c5d2d4"
  },
  {
   "metadata": {},
   "cell_type": "code",
   "outputs": [],
   "execution_count": null,
   "source": "df.groupby([\"year\", \"region\", \"powertrain\", \"size\"]).sum().to_csv(fp_out)",
   "id": "3b9a341ceffaa3c4"
  },
  {
   "metadata": {},
   "cell_type": "code",
   "outputs": [],
   "execution_count": null,
   "source": [
    "from bw2io import ExcelImporter\n",
    "import bw2data\n",
    "\n",
    "bw2data.projects.set_current(\"new4\")\n",
    "fp = \"/Users/romain/GitHub/premise/premise/data/additional_inventories/lci-pass_cars.xlsx\"\n",
    "\n",
    "i = ExcelImporter(fp)"
   ],
   "id": "61a671b7d525d91a"
  },
  {
   "metadata": {},
   "cell_type": "code",
   "outputs": [],
   "execution_count": null,
   "source": "i.apply_strategies()",
   "id": "9beb7955bc3d957"
  },
  {
   "metadata": {},
   "cell_type": "code",
   "outputs": [],
   "execution_count": null,
   "source": "bw2data.databases",
   "id": "46f6606b36041071"
  },
  {
   "metadata": {},
   "cell_type": "code",
   "outputs": [],
   "execution_count": null,
   "source": [
    "i.match_database(fields=[\"name\", \"reference product\", \"location\"])\n",
    "i.match_database(\"ecoinvent 3.7 cutoff\", fields=[\"name\", \"reference product\", \"location\"])\n",
    "i.match_database(\"biosphere3\", fields=[\"name\", \"categories\",])"
   ],
   "id": "998441490f435ca1"
  },
  {
   "metadata": {},
   "cell_type": "code",
   "outputs": [],
   "execution_count": null,
   "source": "i.statistics()",
   "id": "9ffc46e57a7a8126"
  },
  {
   "metadata": {},
   "cell_type": "code",
   "outputs": [],
   "execution_count": null,
   "source": "list(i.unlinked)",
   "id": "93a4c28c0dde6f4a"
  },
  {
   "metadata": {},
   "cell_type": "code",
   "outputs": [],
   "execution_count": null,
   "source": "i.write_excel()",
   "id": "4ac81d28a09974a7"
  },
  {
   "metadata": {},
   "cell_type": "code",
   "outputs": [],
   "execution_count": null,
   "source": "ndb.write_db_to_brightway(\"test batt\")",
   "id": "671c305747a0bfd3"
  },
  {
   "metadata": {},
   "cell_type": "code",
   "outputs": [],
   "execution_count": null,
   "source": "ndb.update()",
   "id": "58806656997fc147"
  },
  {
   "metadata": {},
   "cell_type": "code",
   "outputs": [],
   "execution_count": null,
   "source": "ndb.write_db_to_brightway(\"test13\")",
   "id": "7db8904e6587b0e4"
  },
  {
   "metadata": {},
   "cell_type": "code",
   "outputs": [],
   "execution_count": null,
   "source": [
    "for ds in ndb.database:\n",
    "    if ds[\"reference product\"] == \"biogas\" and \"market for\" not in ds[\"name\"]:\n",
    "        print(ds[\"location\"])\n",
    "        for e in ds[\"exchanges\"]:\n",
    "            print(e[\"name\"], e[\"amount\"])\n",
    "        print()"
   ],
   "id": "13c6690f221af177"
  },
  {
   "metadata": {},
   "cell_type": "code",
   "outputs": [],
   "execution_count": null,
   "source": "ndb.write_db_to_brightway(\"test8\")",
   "id": "f2a00b863e889a2f"
  },
  {
   "metadata": {},
   "cell_type": "code",
   "outputs": [],
   "execution_count": null,
   "source": "bw2data.",
   "id": "e57bbd2b4f7273af"
  },
  {
   "metadata": {},
   "cell_type": "code",
   "outputs": [],
   "execution_count": null,
   "source": [
    "FU = [\n",
    "    {a: 1} for a in\n",
    "    bw2data.Database(\"ecoinvent_cutoff_3.9_image_SSP2-Base_2050\")\n",
    "    if a[\"name\"].startswith(\"electricity production\") and a[\"unit\"] == \"kilowatt hour\"\n",
    "]\n",
    "\n",
    "print(len(FU))\n",
    "\n",
    "list_meth = [\n",
    "    ('IPCC 2021', 'climate change', 'GWP 100a, incl. H'),\n",
    "    ('IPCC 2021', 'climate change', 'GWP 100a, incl. H and bio CO2')\n",
    "]\n",
    "import bw2calc\n",
    "bw2data.calculation_setups['multiLCA'] = {'inv': FU, 'ia': list_meth}\n",
    "myMultiLCA = bw2calc.MultiLCA('multiLCA')\n",
    "df_impact_exc = pd.DataFrame(columns = [\", \".join(i) for i in list_meth],\n",
    "     data = myMultiLCA.results,\n",
    "     index=[k[\"name\"] + \", \" + k[\"location\"] for i in FU for k in i]\n",
    ")"
   ],
   "id": "1dc344c2e8c8af47"
  },
  {
   "metadata": {},
   "cell_type": "code",
   "outputs": [],
   "execution_count": null,
   "source": "ndb.update_steel()",
   "id": "fddad7e3b3ce3df0"
  },
  {
   "metadata": {},
   "cell_type": "code",
   "outputs": [],
   "execution_count": null,
   "source": "ndb.update_biomass()",
   "id": "3d4787d6fd6eed0f"
  },
  {
   "metadata": {},
   "cell_type": "code",
   "outputs": [],
   "execution_count": null,
   "source": "ndb.update_electricity()",
   "id": "befda89aaafa2382"
  },
  {
   "metadata": {},
   "cell_type": "code",
   "outputs": [],
   "execution_count": null,
   "source": "ndb.write_db_to_simapro()",
   "id": "3042801535eb2edd"
  },
  {
   "metadata": {},
   "cell_type": "code",
   "outputs": [],
   "execution_count": null,
   "source": [
    "for ds in ndb.scenarios[0][\"database\"]:\n",
    "    if ds[\"name\"].startswith(\"market group for electricity, low\"):\n",
    "        print(ds[\"name\"], ds[\"reference product\"], ds[\"location\"])"
   ],
   "id": "df6a73e7cbb9ffa0"
  },
  {
   "metadata": {},
   "cell_type": "code",
   "outputs": [],
   "execution_count": null,
   "source": "ndb.scenarios[1][\"iam data\"].carbon_capture_rate",
   "id": "1f83c7e86330f01d"
  },
  {
   "metadata": {},
   "cell_type": "code",
   "outputs": [],
   "execution_count": null,
   "source": [
    "from collections import defaultdict\n",
    "res = defaultdict(float)\n",
    "for ds in ndb.scenarios[0][\"database\"]:\n",
    "    if ds[\"reference product\"]==\"biogas\":\n",
    "        print(ds[\"location\"], ds[\"name\"])\n",
    "        for e in ds[\"exchanges\"]:\n",
    "            print(e[\"name\"], e[\"amount\"], e.get(\"location\"))\n",
    "        print()\n",
    "\n"
   ],
   "id": "196733a35a2d69f3"
  },
  {
   "metadata": {},
   "cell_type": "code",
   "outputs": [],
   "execution_count": null,
   "source": [
    "from collections import defaultdict\n",
    "res = defaultdict(float)\n",
    "for ds in ndb.scenarios[1][\"database\"]:\n",
    "    if ds[\"name\"]==\"market group for heat, district or industrial, natural gas\":\n",
    "        print(ds[\"location\"], ds[\"name\"])\n",
    "        for e in ds[\"exchanges\"]:\n",
    "            print(e[\"name\"], e[\"amount\"], e.get(\"location\"), e[\"type\"])\n",
    "        print()\n"
   ],
   "id": "11481d3ada198833"
  },
  {
   "metadata": {},
   "cell_type": "code",
   "outputs": [],
   "execution_count": null,
   "source": [
    "from collections import defaultdict\n",
    "res = defaultdict(float)\n",
    "for ds in ndb.scenarios[0][\"database\"]:\n",
    "    if ds[\"name\"]==\"transport, freight, lorry, plugin diesel hybrid, 26t gross weight, 2020, EURO-VI, regional delivery\" and ds[\"location\"] == \"ME\":\n",
    "        print(ds[\"location\"], ds[\"name\"])\n",
    "        for e in ds[\"exchanges\"]:\n",
    "            print(e[\"name\"], e[\"amount\"], e.get(\"location\"), e[\"type\"])\n",
    "        print()\n"
   ],
   "id": "25589d4ace41a00a"
  },
  {
   "metadata": {},
   "cell_type": "code",
   "outputs": [],
   "execution_count": null,
   "source": [
    "from premise.geomap import Geomap\n",
    "geo = Geomap(\"remind\")\n",
    "geo.ecoinvent_to_iam_location(\"Europe, without Russia and Turkey\")"
   ],
   "id": "10bfdd08837e1191"
  },
  {
   "metadata": {},
   "cell_type": "code",
   "outputs": [],
   "execution_count": null,
   "source": "geo.iam_to_ecoinvent_location(\"EUR\")",
   "id": "3b0e4b8b0904090d"
  },
  {
   "metadata": {},
   "cell_type": "code",
   "outputs": [],
   "execution_count": null,
   "source": "geo.rev_additional_mappings",
   "id": "c45644d449e49f48"
  },
  {
   "metadata": {},
   "cell_type": "code",
   "outputs": [],
   "execution_count": null,
   "source": [
    "from collections import defaultdict\n",
    "res = defaultdict(float)\n",
    "for ds in ndb.scenarios[0][\"database\"]:\n",
    "    if ds[\"name\"]==\"pig iron production\" and ds[\"location\"] == \"CHN\":\n",
    "        print(ds[\"location\"], ds[\"name\"])\n",
    "        for e in ds[\"exchanges\"]:\n",
    "            print(e[\"name\"], e[\"amount\"])\n",
    "        print(ds[\"comment\"])\n",
    "        print()\n"
   ],
   "id": "8556e2982ba2b13b"
  },
  {
   "metadata": {},
   "cell_type": "code",
   "outputs": [],
   "execution_count": null,
   "source": [
    "import pandas as pd\n",
    "import matplotlib.pyplot as plt\n",
    "pd.DataFrame.from_dict(res, orient=\"index\").plot(kind=\"bar\", figsize=(20, 5))\n",
    "plt.ylabel(\"kg heavy fuel oil/kWh\")\n",
    "plt.savefig(\"electricity production, oil.png\")"
   ],
   "id": "8f8ce523f532db76"
  },
  {
   "metadata": {},
   "cell_type": "code",
   "outputs": [],
   "execution_count": null,
   "source": "ndb.scenarios[0][\"iam data\"].electricity_efficiencies.coords[\"variables\"].values",
   "id": "aa6f95a63a594df3"
  },
  {
   "metadata": {},
   "cell_type": "code",
   "outputs": [],
   "execution_count": null,
   "source": "ndb.scenarios[0][\"iam data\"].electricity_efficiencies.sel(variables=\"Biomass IGCC CCS\", year=2050)",
   "id": "8c8a1fec9589751f"
  },
  {
   "metadata": {},
   "cell_type": "code",
   "outputs": [],
   "execution_count": null,
   "source": "ndb.generate_change_report()",
   "id": "965434f4ed4c0c8b"
  },
  {
   "metadata": {},
   "cell_type": "code",
   "outputs": [],
   "execution_count": null,
   "source": "ndb.scenarios[0][\"iam data\"].gas_markets.sel(region=\"World\")",
   "id": "bd3545b05dd6a461"
  },
  {
   "metadata": {},
   "cell_type": "code",
   "outputs": [],
   "execution_count": null,
   "source": "ndb.scenarios[0].",
   "id": "57242751b841c527"
  },
  {
   "metadata": {},
   "cell_type": "code",
   "outputs": [],
   "execution_count": null,
   "source": [
    "for ds in ndb.scenarios[0][\"database\"]:\n",
    "    for e in ds[\"exchanges\"]:\n",
    "        if e[\"name\"] == \"market for platinum\" and e[\"product\"] == \"platinum\":\n",
    "            print(ds[\"name\"], ds[\"location\"], e[\"name\"], e[\"location\"])"
   ],
   "id": "3c11a56fae6edb1e"
  },
  {
   "metadata": {},
   "cell_type": "code",
   "outputs": [],
   "execution_count": null,
   "source": [
    "import pprint\n",
    "for ds in ndb.scenarios[0][\"database\"]:\n",
    "    if ds[\"name\"].lower() == \"lithium carbonate, precipitated\":\n",
    "        print(ds[\"name\"], ds[\"location\"])"
   ],
   "id": "fcd627206940b21d"
  },
  {
   "metadata": {},
   "cell_type": "code",
   "outputs": [],
   "execution_count": null,
   "source": [
    "from premise.activity_maps import InventorySet\n",
    "inv = InventorySet(ndb.database, \"3.9\")"
   ],
   "id": "d7306de6c3f7d666"
  },
  {
   "metadata": {},
   "cell_type": "code",
   "outputs": [],
   "execution_count": null,
   "source": "inv.generate_metals_map()",
   "id": "50350461511f76bd"
  },
  {
   "metadata": {},
   "cell_type": "code",
   "outputs": [],
   "execution_count": null,
   "source": "inv.generate_powerplant_map()",
   "id": "2ec8df24fcb542f1"
  },
  {
   "metadata": {},
   "cell_type": "code",
   "outputs": [],
   "execution_count": null,
   "source": "inv.generate_daccs_map()",
   "id": "116a0069bb4d87d0"
  },
  {
   "metadata": {},
   "cell_type": "code",
   "outputs": [],
   "execution_count": null,
   "source": "ndb.write_db_to_brightway(\"test_metals\")",
   "id": "5b76ad182f3baeba"
  },
  {
   "metadata": {},
   "cell_type": "code",
   "outputs": [],
   "execution_count": null,
   "source": [
    "products = [\n",
    "    'lightweighting, glider',\n",
    "    'auxilliary battery inputs, for road vehicle',\n",
    "    'battery cell, Li-ion, NMC622',\n",
    "    'auxilliary electronics inputs, for fuel cell electric vehicle',\n",
    "    'auxilliary material inputs, for fuel cell electric vehicle',\n",
    "    'fuel cell stack, for fuel cell electric vehicle',\n",
    "    'carbon fiber, weaved',\n",
    "    'tank liner, polyethylene, high density',\n",
    "    'transformer and rectifier unit, for electrolyser',\n",
    "    'fuel tank, for diesel road vehicle',\n",
    "    'fuel tank, for compressed hydrogen gas, 700bar',\n",
    "    'fuel tank, for compressed hydrogen gas, 700bar',\n",
    "    'fuel tank, for compressed hydrogen gas, 700bar',\n",
    "    'fuel tank, for compressed natural gas, 200 bar',\n",
    "    'charger, level 3, plugin, 200 kW, for electric vehicle',\n",
    "    'gearbox, for lorry',\n",
    "    'transmission, for lorry',\n",
    "    'suspension, for lorry',\n",
    "    'power electronics, for lorry',\n",
    "    'auxilliary material inputs, for electric lorry',\n",
    "    'retarder, for lorry',\n",
    "    'cabin, for lorry',\n",
    "    'frame, blanks and saddle, for lorry',\n",
    "    'tires and wheels, for lorry',\n",
    "    'auxilliary material inputs, for hydrid electric lorry',\n",
    "    'exhaust system, for lorry',\n",
    "    'internal combustion engine, for lorry',\n",
    "    'lead acid battery, for lorry',\n",
    "    'charger, level 3, with pantograph, 450 kW, for electric vehicle',\n",
    "    'overhead lines, for electric vehicle',\n",
    "    'battery cell, Li-ion, LTO',\n",
    "    'charging station, 3kW',\n",
    "    'battery cell,  Li-ion, LFP',\n",
    "    'battery cell, Li-ion, NCA',\n",
    "    'assembly operation, for lorry'\n",
    "]\n",
    "\n",
    "print(len(products))\n",
    "\n",
    "acts = [a for a in bw.Database(\"brian\") if a[\"reference product\"] in products]"
   ],
   "id": "b45ac5225053b343"
  },
  {
   "metadata": {},
   "cell_type": "code",
   "outputs": [],
   "execution_count": null,
   "source": "len(acts)",
   "id": "72550b1fed0d35f0"
  },
  {
   "metadata": {},
   "cell_type": "code",
   "outputs": [],
   "execution_count": null,
   "source": "[a[\"reference product\"] for a in acts]",
   "id": "9c3774c79a448faa"
  },
  {
   "metadata": {},
   "cell_type": "code",
   "outputs": [],
   "execution_count": null,
   "source": [
    "import bw2data\n",
    "bw2io.BW2Package.export_obj(obj=bw.Database(\"brian\"), filename=\"db_for_brian.bw2package\")"
   ],
   "id": "92643f7e6927245d"
  },
  {
   "metadata": {},
   "cell_type": "code",
   "outputs": [],
   "execution_count": null,
   "source": [
    "import bw2data\n",
    "bw2io.BW2Package.import_file(\"db_for_brian.bw2package\")"
   ],
   "id": "9c356f2368eb5b2f"
  },
  {
   "metadata": {},
   "cell_type": "code",
   "outputs": [],
   "execution_count": null,
   "source": "",
   "id": "de440f0db2b13ec4"
  },
  {
   "metadata": {},
   "cell_type": "code",
   "outputs": [],
   "execution_count": null,
   "source": [
    "fp = \"/Users/romain/Library/Application Support/Brightway3/ei39.f1469ad5eb0a071dc60323f6e0fce980/output/lci-brian.xlsx\"\n",
    "import bw2io\n",
    "\n",
    "i = bw2io.ExcelImporter(fp)\n",
    "i.apply_strategies()"
   ],
   "id": "a1c8fa6cb4f2dd8"
  },
  {
   "metadata": {},
   "cell_type": "code",
   "outputs": [],
   "execution_count": null,
   "source": [
    "ei_acts = list(set([(a[\"name\"], a[\"reference product\"]) for a in bw.Database(\"ecoinvent 3.9.1 cutoff\")]))\n",
    "print(len(ei_acts))"
   ],
   "id": "cd94ca83dbc3b727"
  },
  {
   "metadata": {},
   "cell_type": "code",
   "outputs": [],
   "execution_count": null,
   "source": [
    "for ds in i.data:\n",
    "    if (ds[\"name\"], ds[\"reference product\"]) in ei_acts:\n",
    "        i.data.remove(ds)"
   ],
   "id": "92206a853e60d19b"
  },
  {
   "metadata": {},
   "cell_type": "code",
   "outputs": [],
   "execution_count": null,
   "source": [
    "for ds in i.data:\n",
    "    if (ds[\"name\"], ds[\"reference product\"]) not in ei_acts:\n",
    "        print(ds[\"name\"])"
   ],
   "id": "6fe20db999c31460"
  },
  {
   "metadata": {},
   "cell_type": "code",
   "outputs": [],
   "execution_count": null,
   "source": "len(i.data)",
   "id": "4c208c1745d4e045"
  },
  {
   "metadata": {},
   "cell_type": "code",
   "outputs": [],
   "execution_count": null,
   "source": [
    "for ds in i.data:\n",
    "    print(ds[\"name\"])"
   ],
   "id": "d8a7689d7ea9f548"
  },
  {
   "metadata": {},
   "cell_type": "code",
   "outputs": [],
   "execution_count": null,
   "source": [
    "i.match_database(fields=[\"name\", \"unit\", \"location\"])\n",
    "i.match_database(\"ecoinvent 3.9.1 cutoff\", fields=[\"name\", \"reference product\", \"location\", \"unit\"])\n",
    "i.match_database(\"biosphere3\", fields=[\"name\", \"categories\", \"unit\"])"
   ],
   "id": "835d05ffcee22155"
  },
  {
   "metadata": {},
   "cell_type": "code",
   "outputs": [],
   "execution_count": null,
   "source": "i.statistics()",
   "id": "ce2d1a7299bd6782"
  },
  {
   "metadata": {},
   "cell_type": "code",
   "outputs": [],
   "execution_count": null,
   "source": "list(i.unlinked)[-1]",
   "id": "44505a17c9058074"
  },
  {
   "metadata": {},
   "cell_type": "code",
   "outputs": [],
   "execution_count": null,
   "source": "bw.get_activity(('brian', '360c5e612a154ebb8cee2650bcc1bc75_copy1'))",
   "id": "dcb64973be80c3c"
  },
  {
   "metadata": {},
   "cell_type": "code",
   "outputs": [],
   "execution_count": null,
   "source": [
    "for f in bw.Database(\"biosphere3\"):\n",
    "    if f[\"code\"] == \"e030108f-2125-4bcb-a73b-ad72130fcca3\":\n",
    "        print(f)"
   ],
   "id": "cf8f1b66b781babb"
  },
  {
   "metadata": {},
   "cell_type": "code",
   "outputs": [],
   "execution_count": null,
   "source": "bw.projects.set_current(\"ei39\")",
   "id": "32a8ddbc29d21b73"
  },
  {
   "metadata": {},
   "cell_type": "code",
   "outputs": [],
   "execution_count": null,
   "source": [
    "l = []\n",
    "\n",
    "for f in bw.Database(\"biosphere3\"):\n",
    "    l.append([f[\"name\"], f[\"categories\"][0], f[\"categories\"][1] if len(f[\"categories\"])>1 else \"unspecified\", f[\"unit\"], f[\"code\"]])"
   ],
   "id": "821a5e9586fd98ec"
  },
  {
   "metadata": {},
   "cell_type": "code",
   "outputs": [],
   "execution_count": null,
   "source": [
    "import csv\n",
    "\n",
    "with open(\"flows_biosphere_39.csv\", \"w\", newline=\"\", ) as f:\n",
    "    writer = csv.writer(f, delimiter=\";\")\n",
    "    writer.writerows(l)"
   ],
   "id": "6a2b812bfe7ed3ef"
  },
  {
   "metadata": {},
   "cell_type": "code",
   "outputs": [],
   "execution_count": null,
   "source": "ndb.scenarios[1][\"iam data\"].fuel_markets.sel(region=\"NEU\").variables.values",
   "id": "62f0ebb66127ad0"
  },
  {
   "metadata": {},
   "cell_type": "code",
   "outputs": [],
   "execution_count": null,
   "source": [
    "import numpy as np\n",
    "for ds in ndb.scenarios[1][\"database\"]:\n",
    "    if ds[\"name\"] == (\"carbon dioxide, captured from atmosphere, with a solvent-based direct air capture system, 1MtCO2, with waste heat, and grid electricity\",\n",
    "                            \"carbon dioxide, captured from atmosphere\"):\n",
    "            print(ds[\"name\"], ds[\"location\"])"
   ],
   "id": "8b670e0fa0fda81f"
  },
  {
   "metadata": {},
   "cell_type": "code",
   "outputs": [],
   "execution_count": null,
   "source": [
    "for ds in ndb.scenarios[1][\"database\"]:\n",
    "    if \"carbon dioxide, captured\" in ds[\"name\"]:\n",
    "        print(ds[\"name\"], ds[\"location\"])"
   ],
   "id": "48db9dd51197d500"
  },
  {
   "metadata": {},
   "cell_type": "code",
   "outputs": [],
   "execution_count": null,
   "source": "ndb.scenarios[0][\"iam data\"].fuel_markets.sel(region=\"WEU\", year=2050)",
   "id": "fbe44335831df1"
  },
  {
   "metadata": {},
   "cell_type": "code",
   "outputs": [],
   "execution_count": null,
   "source": "ndb.scenarios[0][\"iam data\"].fuel_markets.sel(region=\"WEU\")",
   "id": "f20df6c9c884d6bd"
  },
  {
   "metadata": {},
   "cell_type": "code",
   "outputs": [],
   "execution_count": null,
   "source": "ndb.update_electricity()",
   "id": "af8fd5290167c25c"
  },
  {
   "metadata": {},
   "cell_type": "code",
   "outputs": [],
   "execution_count": null,
   "source": "ndb.scenarios[0][\"iam data\"].fuel_markets",
   "id": "c73afb6cb07d765e"
  },
  {
   "metadata": {},
   "cell_type": "code",
   "outputs": [],
   "execution_count": null,
   "source": "ndb.generate_scenario_report()",
   "id": "92bdc92f238e12fa"
  },
  {
   "metadata": {},
   "cell_type": "code",
   "outputs": [],
   "execution_count": null,
   "source": "ndb.generate_change_report()",
   "id": "65caa34ff603bc11"
  },
  {
   "metadata": {},
   "cell_type": "code",
   "outputs": [],
   "execution_count": null,
   "source": "ndb.update_all()",
   "id": "ecdb14752a986bf5"
  },
  {
   "metadata": {},
   "cell_type": "code",
   "outputs": [],
   "execution_count": null,
   "source": "ndb.generate_scenario_report()",
   "id": "a32b6ceb2068aa88"
  },
  {
   "metadata": {},
   "cell_type": "code",
   "outputs": [],
   "execution_count": null,
   "source": "ndb.generate_change_report()",
   "id": "bd553b607c0eec02"
  },
  {
   "metadata": {},
   "cell_type": "code",
   "outputs": [],
   "execution_count": null,
   "source": "ndb.scenarios[0][\"iam data\"].gains_data_IAM",
   "id": "fe334ea259279f21"
  },
  {
   "metadata": {},
   "cell_type": "code",
   "outputs": [],
   "execution_count": null,
   "source": "",
   "id": "5a73163962ead122"
  },
  {
   "metadata": {},
   "cell_type": "code",
   "outputs": [],
   "execution_count": null,
   "source": "ndb.update_all()",
   "id": "d213dbe1eb7dc272"
  },
  {
   "metadata": {},
   "cell_type": "code",
   "outputs": [],
   "execution_count": null,
   "source": "ndb.write_db_to_brightway([\"test_dac\", \"test_dac2\"])",
   "id": "fb9125119e460f9"
  },
  {
   "metadata": {},
   "cell_type": "code",
   "outputs": [],
   "execution_count": null,
   "source": "from premise.geomap import Geomap",
   "id": "e3f9b9d44a305ad8"
  },
  {
   "metadata": {},
   "cell_type": "code",
   "outputs": [],
   "execution_count": null,
   "source": "Geomap()",
   "id": "d2d9db61092ecf24"
  },
  {
   "metadata": {},
   "cell_type": "code",
   "outputs": [],
   "execution_count": null,
   "source": "Geomap(model=\"remind\").geo.keys()",
   "id": "a7c84abee72f964b"
  },
  {
   "metadata": {},
   "cell_type": "code",
   "outputs": [],
   "execution_count": null,
   "source": "ndb.scenarios[0][\"iam data\"].carbon_capture_rate.sel(variables=\"steel\")",
   "id": "ee6489cf5bf6d7b4"
  },
  {
   "metadata": {},
   "cell_type": "code",
   "outputs": [],
   "execution_count": null,
   "source": [
    "for ds in ndb.scenarios[0][\"database\"]:\n",
    "    for e in ds[\"exchanges\"]:\n",
    "        if e[\"name\"].startswith(\"CO2 capture, at cement production plant\"):\n",
    "            print(e[\"name\"], e.get(\"location\"), e[\"amount\"])\n",
    "            print(ds[\"name\"])\n",
    "            print(\"--------------------\")"
   ],
   "id": "60e3a7ea3c1a023a"
  },
  {
   "metadata": {},
   "cell_type": "code",
   "outputs": [],
   "execution_count": null,
   "source": "",
   "id": "bbaf04d22ed3a879"
  }
 ],
 "metadata": {
  "kernelspec": {
   "display_name": "Python 3 (ipykernel)",
   "language": "python",
   "name": "python3"
  },
  "language_info": {
   "codemirror_mode": {
    "name": "ipython",
    "version": 3
   },
   "file_extension": ".py",
   "mimetype": "text/x-python",
   "name": "python",
   "nbconvert_exporter": "python",
   "pygments_lexer": "ipython3",
   "version": "3.11.11"
  }
 },
 "nbformat": 4,
 "nbformat_minor": 5
}
