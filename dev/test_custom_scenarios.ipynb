{
 "cells": [
  {
   "cell_type": "code",
   "execution_count": 1,
   "id": "80ac6f31-2713-42ee-8929-5525347b2a4b",
   "metadata": {},
   "outputs": [],
   "source": [
    "from premise import *\n",
    "from datapackage import Package"
   ]
  },
  {
   "cell_type": "code",
   "execution_count": 2,
   "id": "68f5574a-4334-4d99-b18e-076ae3b4de79",
   "metadata": {},
   "outputs": [],
   "source": [
    "import bw2io, bw2data, bw2calc\n",
    "bw2data.projects.set_current(\"ecoinvent\")"
   ]
  },
  {
   "cell_type": "code",
   "execution_count": 3,
   "id": "943e4ba8-edc7-48ac-8c91-0aeda924b2c2",
   "metadata": {},
   "outputs": [
    {
     "name": "stdout",
     "output_type": "stream",
     "text": [
      "premise v.(2, 1, 3)\n",
      "+------------------------------------------------------------------+\n",
      "| Warning                                                          |\n",
      "+------------------------------------------------------------------+\n",
      "| Because some of the scenarios can yield LCI databases            |\n",
      "| containing net negative emission technologies (NET),             |\n",
      "| it is advised to account for biogenic CO2 flows when calculating |\n",
      "| Global Warming potential indicators.                             |\n",
      "| `premise_gwp` provides characterization factors for such flows.  |\n",
      "| It also provides factors for hydrogen emissions to air.          |\n",
      "|                                                                  |\n",
      "| Within your bw2 project:                                         |\n",
      "| from premise_gwp import add_premise_gwp                          |\n",
      "| add_premise_gwp()                                                |\n",
      "+------------------------------------------------------------------+\n",
      "+--------------------------------+----------------------------------+\n",
      "| Utils functions                | Description                      |\n",
      "+--------------------------------+----------------------------------+\n",
      "| clear_cache()                  | Clears the cache folder. Useful  |\n",
      "|                                | when updating `premise`or        |\n",
      "|                                | encountering issues with         |\n",
      "|                                | inventories.                     |\n",
      "+--------------------------------+----------------------------------+\n",
      "| get_regions_definition(model)  | Retrieves the list of countries  |\n",
      "|                                | for each region of the model.    |\n",
      "+--------------------------------+----------------------------------+\n",
      "| ndb.NewDatabase(...)           | Generates a summary of the most  |\n",
      "| ndb.generate_scenario_report() | important scenarios' variables.  |\n",
      "+--------------------------------+----------------------------------+\n",
      "Keep uncertainty data?\n",
      "NewDatabase(..., keep_source_db_uncertainty=True), keep_imports_uncertainty=True)\n",
      "\n",
      "Hide these messages?\n",
      "NewDatabase(..., quiet=True)\n",
      "- Extracting source database\n",
      "- Extracting inventories\n",
      "- Fetching IAM data\n",
      "Done!\n"
     ]
    },
    {
     "name": "stderr",
     "output_type": "stream",
     "text": [
      "Processing scenarios for sector 'external':   0%| | 0/1 [00:00<?, ?it/"
     ]
    },
    {
     "name": "stdout",
     "output_type": "stream",
     "text": [
      "Extracted 1 worksheets in 0.21 seconds\n",
      "Could not find a biosphere flow for ('Ethane, 1,1,1-trichloro-, HCFC-140', 'air', 'unspecified', 'kilogram') in lci-hydrogen.xlsx. You need to fix this.\n",
      "Could not find a biosphere flow for ('Ethane, 1,2-dichloro-', 'air', 'unspecified', 'kilogram') in lci-hydrogen.xlsx. You need to fix this.\n",
      "Could not find a biosphere flow for ('Methane, trichlorofluoro-, CFC-11', 'air', 'unspecified', 'kilogram') in lci-hydrogen.xlsx. You need to fix this.\n"
     ]
    },
    {
     "name": "stderr",
     "output_type": "stream",
     "text": [
      "Processing scenarios for sector 'external': 100%|█| 1/1 [00:15<00:00, "
     ]
    },
    {
     "name": "stdout",
     "output_type": "stream",
     "text": [
      "Done!\n",
      "\n"
     ]
    },
    {
     "name": "stderr",
     "output_type": "stream",
     "text": [
      "\n"
     ]
    }
   ],
   "source": [
    "external_scenarios = [\n",
    "    #{\"scenario\": \"SPS\", \"data\": Package(\"/Users/romain/Github/metal-prospective-scenarios/datapackage.json\")},\n",
    "    #{\"scenario\": \"Business As Usual\", \"data\": Package(\"/Users/romain/Github/energy-perspective-2050-switzerland/datapackage.json\")},\n",
    "    #{\"scenario\": \"Business As Usual - remind\", \"data\": Package(\"/Users/romain/Github/ammonia-prospective-scenarios/datapackage.json\")},\n",
    "    {\"scenario\": \"Ambitious\", \"data\": Package(\"/Users/romain/Github/hydrogen-prospective-scenarios/datapackage.json\")},\n",
    "    #{\"scenario\": \"\", \"data\": Package(\"/Users/romain/Documents/marguerite/datapackage.json\")},\n",
    "]\n",
    "\n",
    "for external in external_scenarios:\n",
    "    \n",
    "    scenarios = [\n",
    "        {\"model\": \"remind\", \"pathway\":\"SSP2-PkBudg500\", \"year\": 2050, \"external scenarios\": [external]},\n",
    "        #{\"model\": \"image\", \"pathway\":\"SSP2-RCP26\", \"year\": 2035, \"external scenarios\": external_scenarios},\n",
    "    ]\n",
    "    \n",
    "    \n",
    "    ndb = NewDatabase(\n",
    "            scenarios = scenarios,        \n",
    "            source_db=\"ecoinvent-3.10-cutoff\",\n",
    "            source_version=\"3.10\",\n",
    "            key='tUePmX_S5B8ieZkkM7WUU2CnO8SmShwmAeWK9x2rTFo=',\n",
    "            biosphere_name=\"ecoinvent-3.10-biosphere\",\n",
    "    )\n",
    "    ndb.update(\"external\")\n"
   ]
  },
  {
   "cell_type": "code",
   "execution_count": 4,
   "id": "799788bc-d53e-4cef-bdda-ded8d40cdb03",
   "metadata": {
    "tags": []
   },
   "outputs": [
    {
     "name": "stdout",
     "output_type": "stream",
     "text": [
      "Write new database(s) to Brightway.\n",
      "Running all checks...\n",
      "Minor anomalies found: check the change report.\n",
      "Database test marc already exists: it will be overwritten.\n",
      "Vacuuming database \n"
     ]
    },
    {
     "name": "stderr",
     "output_type": "stream",
     "text": [
      "Writing activities to SQLite3 database:\n",
      "0% [##############################] 100% | ETA: 00:00:00\n",
      "Total time elapsed: 00:00:22\n"
     ]
    },
    {
     "name": "stdout",
     "output_type": "stream",
     "text": [
      "Title: Writing activities to SQLite3 database:\n",
      "  Started: 10/03/2024 14:05:30\n",
      "  Finished: 10/03/2024 14:05:53\n",
      "  Total time elapsed: 00:00:22\n",
      "  CPU %: 94.50\n",
      "  Memory %: 17.82\n",
      "Created database: test marc\n",
      "Generate scenario report.\n",
      "Report saved under /Users/romain/Github/premise/dev/export/scenario_report.\n",
      "Generate change report.\n",
      "Report saved under /Users/romain/Github/premise/dev.\n"
     ]
    }
   ],
   "source": [
    "ndb.write_db_to_brightway(\"test marc\")"
   ]
  },
  {
   "cell_type": "code",
   "execution_count": 4,
   "id": "91d9b891-1438-42ef-848a-440f97aff150",
   "metadata": {},
   "outputs": [],
   "source": [
    "from premise.utils import load_database\n",
    "ndb.scenarios[0] = load_database(ndb.scenarios[0])"
   ]
  },
  {
   "cell_type": "code",
   "execution_count": null,
   "id": "5779b911-0ff9-4e3b-940f-d7d1baeec710",
   "metadata": {},
   "outputs": [],
   "source": []
  },
  {
   "cell_type": "code",
   "execution_count": 6,
   "id": "8dc932d9-e5f5-48b1-b900-ee38557c3049",
   "metadata": {},
   "outputs": [
    {
     "name": "stdout",
     "output_type": "stream",
     "text": [
      "['comment', 'filename', 'location', 'production amount', 'reference product', 'source', 'type', 'unit', 'worksheet name', 'name', 'exchanges', 'database', 'code', 'regions', 'region mapping', 'production volume variable', 'production volume']\n",
      "{'LAM': 'CL'}\n",
      "Energy, solar, converted 3.8503 None\n",
      "Heat, waste 0.25027 None\n",
      "electricity production, photovoltaic, commercial 1 LAM\n",
      "photovoltaic flat-roof installation, 156 kWp, multi-Si, on roof 2.433772229872875e-10 CH\n",
      "photovoltaic flat-roof installation, 156 kWp, single-Si, on roof 1.2890969393392591e-10 CH\n",
      "photovoltaic open ground installation, 570 kWp, CIS, on open ground 6.664318406721691e-10 RER\n",
      "photovoltaic open ground installation, 570 kWp, CdTe, on open ground 8.080054441310238e-10 RER\n",
      "photovoltaic open ground installation, 570 kWp, micro-Si, on open ground 1.0531694891451379e-10 RER\n",
      "photovoltaic open ground installation, 570 kWp, multi-Si, on open ground 2.1339630960383448e-08 RER\n",
      "photovoltaic open ground installation, 570 kWp, single-Si, on open ground 1.129135812952328e-08 RER\n",
      "photovoltaic slanted-roof installation, 93 kWp, multi-Si, laminated, integrated, on roof 3.877718056324967e-11 CH\n",
      "photovoltaic slanted-roof installation, 93 kWp, multi-Si, panel, mounted, on roof 4.531078252850883e-10 CH\n",
      "photovoltaic slanted-roof installation, 93 kWp, single-Si, laminated, integrated, on roof 1.4423184735559989e-11 CH\n",
      "photovoltaic slanted-roof installation, 93 kWp, single-Si, panel, mounted, on roof 2.400125609183388e-10 CH\n",
      "tap water, water balance according to MoeK 2013, at user 0.00092565 BR\n",
      "tap water, water balance according to MoeK 2013, at user 0.00092565 CL\n",
      "tap water, water balance according to MoeK 2013, at user 0.00092565 CO\n",
      "tap water, water balance according to MoeK 2013, at user 0.00092565 MX\n",
      "treatment of wastewater, average, wastewater treatment -3.3323e-06 RoW\n"
     ]
    }
   ],
   "source": [
    "for ds in ndb.scenarios[0][\"database\"]:\n",
    "    if ds[\"name\"] == \"electricity production, photovoltaic, commercial\" and ds[\"location\"] == \"LAM\":\n",
    "        print(list(ds.keys()))\n",
    "        print(ds['region mapping'])\n",
    "        for e in ds[\"exchanges\"]:\n",
    "            print(e[\"name\"], e[\"amount\"], e.get(\"location\"))"
   ]
  },
  {
   "cell_type": "code",
   "execution_count": 6,
   "id": "b561179c-bccd-472a-8750-b9c615be22b8",
   "metadata": {},
   "outputs": [
    {
     "data": {
      "text/plain": [
       "'LAM'"
      ]
     },
     "execution_count": 6,
     "metadata": {},
     "output_type": "execute_result"
    }
   ],
   "source": [
    "geo.ecoinvent_to_iam_location(\"IAI Area, South America\")"
   ]
  },
  {
   "cell_type": "code",
   "execution_count": 8,
   "id": "8eb26f22-b3f2-485f-9dae-b94de7d70f42",
   "metadata": {
    "tags": []
   },
   "outputs": [
    {
     "name": "stdout",
     "output_type": "stream",
     "text": [
      "sealing tape production, aluminium/PE, 50 mm wide RER 1.0\n",
      "market for acrylic binder, with water, in 54% solution state RER 0.065\n",
      "market for aluminium, wrought alloy GLO 0.00567\n",
      "market group for heat, district or industrial, natural gas RER 0.11305\n",
      "market group for heat, district or industrial, other than natural gas RER 0.11305\n",
      "laminating service, foil, with acrylic binder RER 0.05\n",
      "market for packaging film, low density polyethylene GLO 0.00157\n",
      "sheet rolling, aluminium RER 0.00567\n",
      "ventilation components factory construction RER 2.28e-10\n",
      "market for waste paint CH -4.487772436889873e-05\n",
      "market for waste paint Europe without Switzerland -0.014955122275631099\n",
      "market group for waste polyethylene RER -7.5e-05\n",
      "market group for electricity, medium voltage EUR 0.00683\n"
     ]
    }
   ],
   "source": [
    "for ds in ndb.scenarios[1][\"database\"]:\n",
    "    if ds[\"name\"] == \"sealing tape production, aluminium/PE, 50 mm wide\" and ds[\"location\"] == \"RER\":\n",
    "        for e in ds[\"exchanges\"]:\n",
    "            print(e[\"name\"], e.get(\"location\"), e[\"amount\"])"
   ]
  },
  {
   "cell_type": "code",
   "execution_count": 1,
   "id": "20eefe8d-f3a4-4fa7-932a-ff5b2cc6805f",
   "metadata": {
    "tags": []
   },
   "outputs": [
    {
     "name": "stdout",
     "output_type": "stream",
     "text": [
      "/Users/romain/GitHub/unfold/unfold/__init__.py\n",
      "The data package contains the following scenarios:\n",
      "+-----+--------------------------------+-----------------------------------------------------------------------------------------------------+\n",
      "| No. |            Scenario            |                                             Description                                             |\n",
      "+-----+--------------------------------+-----------------------------------------------------------------------------------------------------+\n",
      "|  0  |   remind - SSP2-Base - 2020    |    Prospective db, based on REMIND, pathway SSP2-BASE, for the year 2020, and external scenario .   |\n",
      "|  1  | remind - SSP2-PkBudg500 - 2030 | Prospective db, based on REMIND, pathway SSP2-PKBUDG500, for the year 2030, and external scenario . |\n",
      "|  2  | remind - SSP2-PkBudg500 - 2050 | Prospective db, based on REMIND, pathway SSP2-PKBUDG500, for the year 2050, and external scenario . |\n",
      "+-----+--------------------------------+-----------------------------------------------------------------------------------------------------+\n",
      "\n",
      "To unfold all scenarios, `unfold()`.\n",
      "To unfold a specific scenario, `unfold(scenarios=[1,])`.\n"
     ]
    }
   ],
   "source": [
    "from unfold.unfold import Unfold, clear_cache\n",
    "#clear_cache()\n",
    "from unfold import __file__\n",
    "print(__file__)\n",
    "import bw2data\n",
    "bw2data.projects.set_current(\"ei39\")\n",
    "u = Unfold(\"/Users/romain/GitHub/premise/dev/export/datapackage/test13.zip\")"
   ]
  },
  {
   "cell_type": "code",
   "execution_count": 2,
   "id": "383a6b9b-8782-4c81-8043-efd5eea7d883",
   "metadata": {
    "tags": []
   },
   "outputs": [
    {
     "name": "stdout",
     "output_type": "stream",
     "text": [
      "The following databases are necessary to unfold the scenarios:\n",
      "+-----+------------+--------------+---------+\n",
      "| No. | Dependency | System model | Version |\n",
      "+-----+------------+--------------+---------+\n",
      "|  1  | ecoinvent  |   cut-off    |   3.9   |\n",
      "|  2  | biosphere3 |              |         |\n",
      "+-----+------------+--------------+---------+\n",
      "\n",
      "The following databases are available in your project:\n",
      "+-----+------------------------------------------------------------------------------------+\n",
      "| No. |                                      Database                                      |\n",
      "+-----+------------------------------------------------------------------------------------+\n",
      "|  1  |                                     biosphere3                                     |\n",
      "|  2  |                               ecoinvent 3.9.1 cutoff                               |\n",
      "|  3  |                              ecoinvent EN15804 3.9.1                               |\n",
      "|  4  |                             remind - SSP2-Base - 2005                              |\n",
      "|  5  |                             remind - SSP2-Base - 2010                              |\n",
      "|  6  |                             remind - SSP2-Base - 2015                              |\n",
      "|  7  |                                 stationary battery                                 |\n",
      "|  8  |                                       test1                                        |\n",
      "|  9  |                                       test2                                        |\n",
      "|  10 |                                     test_super                                     |\n",
      "|  11 |                                        test                                        |\n",
      "|  12 |                                   PV 2050 - eff                                    |\n",
      "|  13 |                              PV 2050 - eff - lifetime                              |\n",
      "|  14 |                                    PV + storage                                    |\n",
      "|  15 |                           ecoinvent 3.9.1 consequential                            |\n",
      "|  16 |                 ecoinvent_consequential_3.9_remind_SSP1-Base_2050                  |\n",
      "|  17 |                 ecoinvent_consequential_3.9_remind_SSP2-Base_2050                  |\n",
      "|  18 |                  ecoinvent_consequential_3.9_remind_SSP2-NPi_2020                  |\n",
      "|  19 |                                   test_vanadium                                    |\n",
      "|  20 |                            vanadium-redox-flow-battery                             |\n",
      "|  21 |                                   test_storage1                                    |\n",
      "|  22 |                                   test_storage2                                    |\n",
      "|  23 |                                     test_tiam                                      |\n",
      "|  24 |                              image - SSP2-Base - 2020                              |\n",
      "|  25 | image - SSP2-Base - 2020 - energy-perspective-2050-switzerland - Business As Usual |\n",
      "|  26 | image - SSP2-Base - 2050 - energy-perspective-2050-switzerland - Business As Usual |\n",
      "|  27 |    image - SSP2-RCP26 - 2050 - energy-perspective-2050-switzerland - ZERO Basis    |\n",
      "|  28 |                        energy-perspective-2050-switzerland                         |\n",
      "|  29 |                              cobalt-perspective-2050                               |\n",
      "|  30 |                           ammonia-prospective-scenarios                            |\n",
      "|  31 |                                      PV 2035                                       |\n",
      "|  32 |                                      PV 2050                                       |\n",
      "|  33 |                                        elec                                        |\n",
      "|  34 |                                    elec + steel                                    |\n",
      "|  35 |                               elec + steel + cement                                |\n",
      "|  36 |                                     bread 2030                                     |\n",
      "|  37 |                                     bread 2050                                     |\n",
      "|  38 |                                     BAU - 2035                                     |\n",
      "|  39 |                                     BAU - 2050                                     |\n",
      "|  40 |                                     CA - 2035                                      |\n",
      "|  41 |                                     CA - 2050                                      |\n",
      "|  42 |                              remind - SSP2-NDC - 2030                              |\n",
      "|  43 |                              remind - SSP2-NDC - 2080                              |\n",
      "|  44 |                                super_db_2023-10-10                                 |\n",
      "|  45 |                     ecoinvent_cutoff_3.9_image_SSP2-Base_2050                      |\n",
      "|  46 |                  ecoinvent_cutoff_3.9_remind_SSP2-PkBudg500_2050                   |\n",
      "|  47 |                     ecoinvent_cutoff_3.9_remind_SSP2-Base_2030                     |\n",
      "|  48 |                     ecoinvent_cutoff_3.9_remind_SSP2-Base_2050                     |\n",
      "|  49 |                  ecoinvent_cutoff_3.9_remind_SSP2-PkBudg500_2030                   |\n",
      "|  50 |                             remind - SSP2-Base - 2020                              |\n",
      "|  51 |                             remind - SSP2-Base - 2050                              |\n",
      "|  52 |                                      SP test                                       |\n",
      "|  53 |                               ei39-remind-SSP2-test                                |\n",
      "|  54 |                                  ei39-remind-SSP2                                  |\n",
      "|  55 |                                       test3                                        |\n",
      "|  56 |                                       test4                                        |\n",
      "|  57 |                                       test5                                        |\n",
      "|  58 |                                       test6                                        |\n",
      "|  59 |                                       test7                                        |\n",
      "|  60 |                                       test8                                        |\n",
      "|  61 |                                       test9                                        |\n",
      "|  62 |                                       test10                                       |\n",
      "|  63 |                                       test13                                       |\n",
      "|  64 |                                       test14                                       |\n",
      "|  65 |                                       test15                                       |\n",
      "|  66 |                                       test16                                       |\n",
      "|  67 |                                       test17                                       |\n",
      "|  68 |                                       test18                                       |\n",
      "+-----+------------------------------------------------------------------------------------+\n",
      "\n"
     ]
    },
    {
     "name": "stdin",
     "output_type": "stream",
     "text": [
      "Indicate the database number for dependency 1:  2\n",
      "Indicate the database number for dependency 2:  1\n"
     ]
    },
    {
     "name": "stdout",
     "output_type": "stream",
     "text": [
      "Extracting additional inventories...\n",
      "Writing scenario difference file...\n",
      "Generating superstructure database...\n",
      "Scenario difference file exported to /Users/romain/GitHub/premise/dev/SDF ecoinvent test18.csv\n",
      "\n",
      "Writing superstructure database...\n",
      "Database test18 already exists: it will be overwritten.\n",
      "Vacuuming database \n",
      "Vacuuming database \n"
     ]
    },
    {
     "ename": "OperationalError",
     "evalue": "cannot VACUUM from within a transaction",
     "output_type": "error",
     "traceback": [
      "\u001b[0;31m---------------------------------------------------------------------------\u001b[0m",
      "\u001b[0;31mOperationalError\u001b[0m                          Traceback (most recent call last)",
      "File \u001b[0;32m/opt/homebrew/Caskroom/miniforge/base/envs/premise_env/lib/python3.10/site-packages/peewee.py:3251\u001b[0m, in \u001b[0;36mDatabase.execute_sql\u001b[0;34m(self, sql, params, commit)\u001b[0m\n\u001b[1;32m   3250\u001b[0m     cursor \u001b[38;5;241m=\u001b[39m \u001b[38;5;28mself\u001b[39m\u001b[38;5;241m.\u001b[39mcursor()\n\u001b[0;32m-> 3251\u001b[0m     \u001b[43mcursor\u001b[49m\u001b[38;5;241;43m.\u001b[39;49m\u001b[43mexecute\u001b[49m\u001b[43m(\u001b[49m\u001b[43msql\u001b[49m\u001b[43m,\u001b[49m\u001b[43m \u001b[49m\u001b[43mparams\u001b[49m\u001b[43m \u001b[49m\u001b[38;5;129;43;01mor\u001b[39;49;00m\u001b[43m \u001b[49m\u001b[43m(\u001b[49m\u001b[43m)\u001b[49m\u001b[43m)\u001b[49m\n\u001b[1;32m   3252\u001b[0m \u001b[38;5;28;01mreturn\u001b[39;00m cursor\n",
      "\u001b[0;31mOperationalError\u001b[0m: cannot VACUUM from within a transaction",
      "\nDuring handling of the above exception, another exception occurred:\n",
      "\u001b[0;31mOperationalError\u001b[0m                          Traceback (most recent call last)",
      "Cell \u001b[0;32mIn[2], line 1\u001b[0m\n\u001b[0;32m----> 1\u001b[0m \u001b[43mu\u001b[49m\u001b[38;5;241;43m.\u001b[39;49m\u001b[43munfold\u001b[49m\u001b[43m(\u001b[49m\u001b[43msuperstructure\u001b[49m\u001b[38;5;241;43m=\u001b[39;49m\u001b[38;5;28;43;01mTrue\u001b[39;49;00m\u001b[43m,\u001b[49m\u001b[43m \u001b[49m\u001b[43mname\u001b[49m\u001b[38;5;241;43m=\u001b[39;49m\u001b[38;5;124;43m\"\u001b[39;49m\u001b[38;5;124;43mtest18\u001b[39;49m\u001b[38;5;124;43m\"\u001b[39;49m\u001b[43m)\u001b[49m\n",
      "File \u001b[0;32m~/GitHub/unfold/unfold/unfold.py:1208\u001b[0m, in \u001b[0;36mUnfold.unfold\u001b[0;34m(self, scenarios, dependencies, superstructure, export_dir, name)\u001b[0m\n\u001b[1;32m   1205\u001b[0m     \u001b[38;5;28mself\u001b[39m\u001b[38;5;241m.\u001b[39mformat_superstructure_dataframe()\n\u001b[1;32m   1206\u001b[0m     \u001b[38;5;28mself\u001b[39m\u001b[38;5;241m.\u001b[39mdatabase \u001b[38;5;241m=\u001b[39m \u001b[38;5;28mself\u001b[39m\u001b[38;5;241m.\u001b[39mgenerate_superstructure_database()\n\u001b[0;32m-> 1208\u001b[0m \u001b[38;5;28;43mself\u001b[39;49m\u001b[38;5;241;43m.\u001b[39;49m\u001b[43mwrite\u001b[49m\u001b[43m(\u001b[49m\u001b[43msuperstructure\u001b[49m\u001b[38;5;241;43m=\u001b[39;49m\u001b[43msuperstructure\u001b[49m\u001b[43m,\u001b[49m\u001b[43m \u001b[49m\u001b[43mexport_dir\u001b[49m\u001b[38;5;241;43m=\u001b[39;49m\u001b[43mexport_dir\u001b[49m\u001b[43m)\u001b[49m\n",
      "File \u001b[0;32m~/GitHub/unfold/unfold/unfold.py:1268\u001b[0m, in \u001b[0;36mUnfold.write\u001b[0;34m(self, superstructure, export_dir)\u001b[0m\n\u001b[1;32m   1264\u001b[0m check_duplicate_codes(\u001b[38;5;28mself\u001b[39m\u001b[38;5;241m.\u001b[39mdatabase)\n\u001b[1;32m   1265\u001b[0m correct_fields_format(\n\u001b[1;32m   1266\u001b[0m     \u001b[38;5;28mself\u001b[39m\u001b[38;5;241m.\u001b[39mdatabase, \u001b[38;5;28mself\u001b[39m\u001b[38;5;241m.\u001b[39mname \u001b[38;5;129;01mor\u001b[39;00m \u001b[38;5;28mself\u001b[39m\u001b[38;5;241m.\u001b[39mpackage\u001b[38;5;241m.\u001b[39mdescriptor[\u001b[38;5;124m\"\u001b[39m\u001b[38;5;124mname\u001b[39m\u001b[38;5;124m\"\u001b[39m]\n\u001b[1;32m   1267\u001b[0m )\n\u001b[0;32m-> 1268\u001b[0m \u001b[43mwrite_brightway_database\u001b[49m\u001b[43m(\u001b[49m\n\u001b[1;32m   1269\u001b[0m \u001b[43m    \u001b[49m\u001b[43mdata\u001b[49m\u001b[38;5;241;43m=\u001b[39;49m\u001b[38;5;28;43mself\u001b[39;49m\u001b[38;5;241;43m.\u001b[39;49m\u001b[43mdatabase\u001b[49m\u001b[43m,\u001b[49m\u001b[43m \u001b[49m\u001b[43mname\u001b[49m\u001b[38;5;241;43m=\u001b[39;49m\u001b[38;5;28;43mself\u001b[39;49m\u001b[38;5;241;43m.\u001b[39;49m\u001b[43mname\u001b[49m\u001b[43m \u001b[49m\u001b[38;5;129;43;01mor\u001b[39;49;00m\u001b[43m \u001b[49m\u001b[38;5;28;43mself\u001b[39;49m\u001b[38;5;241;43m.\u001b[39;49m\u001b[43mpackage\u001b[49m\u001b[38;5;241;43m.\u001b[39;49m\u001b[43mdescriptor\u001b[49m\u001b[43m[\u001b[49m\u001b[38;5;124;43m\"\u001b[39;49m\u001b[38;5;124;43mname\u001b[39;49m\u001b[38;5;124;43m\"\u001b[39;49m\u001b[43m]\u001b[49m\n\u001b[1;32m   1270\u001b[0m \u001b[43m\u001b[49m\u001b[43m)\u001b[49m\n",
      "File \u001b[0;32m~/GitHub/unfold/unfold/brightway2_export.py:8\u001b[0m, in \u001b[0;36mwrite_brightway_database\u001b[0;34m(data, name)\u001b[0m\n\u001b[1;32m      5\u001b[0m \u001b[38;5;28;01mdef\u001b[39;00m \u001b[38;5;21mwrite_brightway_database\u001b[39m(data, name):\n\u001b[1;32m      6\u001b[0m     \u001b[38;5;66;03m# Restore parameters to Brightway2 format\u001b[39;00m\n\u001b[1;32m      7\u001b[0m     \u001b[38;5;66;03m# which allows for uncertainty and comments\u001b[39;00m\n\u001b[0;32m----> 8\u001b[0m     \u001b[43mBW2UnfoldExporter\u001b[49m\u001b[43m(\u001b[49m\u001b[43mname\u001b[49m\u001b[43m,\u001b[49m\u001b[43m \u001b[49m\u001b[43mdata\u001b[49m\u001b[43m)\u001b[49m\u001b[38;5;241;43m.\u001b[39;49m\u001b[43mwrite_database\u001b[49m\u001b[43m(\u001b[49m\u001b[43m)\u001b[49m\n",
      "File \u001b[0;32m~/GitHub/unfold/unfold/brightway2_export.py:34\u001b[0m, in \u001b[0;36mBW2UnfoldExporter.write_database\u001b[0;34m(self)\u001b[0m\n\u001b[1;32m     30\u001b[0m \u001b[38;5;28;01mif\u001b[39;00m \u001b[38;5;28mself\u001b[39m\u001b[38;5;241m.\u001b[39mdb_name \u001b[38;5;129;01min\u001b[39;00m databases:\n\u001b[1;32m     31\u001b[0m     \u001b[38;5;28mprint\u001b[39m(\n\u001b[1;32m     32\u001b[0m         \u001b[38;5;124mf\u001b[39m\u001b[38;5;124m\"\u001b[39m\u001b[38;5;124mDatabase \u001b[39m\u001b[38;5;132;01m{\u001b[39;00m\u001b[38;5;28mself\u001b[39m\u001b[38;5;241m.\u001b[39mdb_name\u001b[38;5;132;01m}\u001b[39;00m\u001b[38;5;124m \u001b[39m\u001b[38;5;124m\"\u001b[39m \u001b[38;5;124mf\u001b[39m\u001b[38;5;124m\"\u001b[39m\u001b[38;5;124malready exists: it will be overwritten.\u001b[39m\u001b[38;5;124m\"\u001b[39m\n\u001b[1;32m     33\u001b[0m     )\n\u001b[0;32m---> 34\u001b[0m \u001b[38;5;28;43msuper\u001b[39;49m\u001b[43m(\u001b[49m\u001b[43m)\u001b[49m\u001b[38;5;241;43m.\u001b[39;49m\u001b[43mwrite_database\u001b[49m\u001b[43m(\u001b[49m\u001b[43m)\u001b[49m\n",
      "File \u001b[0;32m/opt/homebrew/Caskroom/miniforge/base/envs/premise_env/lib/python3.10/site-packages/bw2io/importers/base_lci.py:269\u001b[0m, in \u001b[0;36mLCIImporter.write_database\u001b[0;34m(self, data, delete_existing, backend, activate_parameters, **kwargs)\u001b[0m\n\u001b[1;32m    266\u001b[0m \u001b[38;5;28mself\u001b[39m\u001b[38;5;241m.\u001b[39mwrite_database_parameters(activate_parameters, delete_existing)\n\u001b[1;32m    268\u001b[0m existing\u001b[38;5;241m.\u001b[39mupdate(data)\n\u001b[0;32m--> 269\u001b[0m \u001b[43mdb\u001b[49m\u001b[38;5;241;43m.\u001b[39;49m\u001b[43mwrite\u001b[49m\u001b[43m(\u001b[49m\u001b[43mexisting\u001b[49m\u001b[43m)\u001b[49m\n\u001b[1;32m    271\u001b[0m \u001b[38;5;28;01mif\u001b[39;00m activate_parameters:\n\u001b[1;32m    272\u001b[0m     \u001b[38;5;28mself\u001b[39m\u001b[38;5;241m.\u001b[39m_write_activity_parameters(activity_parameters)\n",
      "File \u001b[0;32m/opt/homebrew/Caskroom/miniforge/base/envs/premise_env/lib/python3.10/site-packages/bw2data/project.py:358\u001b[0m, in \u001b[0;36mwritable_project\u001b[0;34m(wrapped, instance, args, kwargs)\u001b[0m\n\u001b[1;32m    356\u001b[0m \u001b[38;5;28;01mif\u001b[39;00m projects\u001b[38;5;241m.\u001b[39mread_only:\n\u001b[1;32m    357\u001b[0m     \u001b[38;5;28;01mraise\u001b[39;00m ReadOnlyProject(READ_ONLY_PROJECT)\n\u001b[0;32m--> 358\u001b[0m \u001b[38;5;28;01mreturn\u001b[39;00m \u001b[43mwrapped\u001b[49m\u001b[43m(\u001b[49m\u001b[38;5;241;43m*\u001b[39;49m\u001b[43margs\u001b[49m\u001b[43m,\u001b[49m\u001b[43m \u001b[49m\u001b[38;5;241;43m*\u001b[39;49m\u001b[38;5;241;43m*\u001b[39;49m\u001b[43mkwargs\u001b[49m\u001b[43m)\u001b[49m\n",
      "File \u001b[0;32m/opt/homebrew/Caskroom/miniforge/base/envs/premise_env/lib/python3.10/site-packages/bw2data/backends/peewee/database.py:260\u001b[0m, in \u001b[0;36mSQLiteBackend.write\u001b[0;34m(self, data, process)\u001b[0m\n\u001b[1;32m    258\u001b[0m \u001b[38;5;28;01mif\u001b[39;00m data:\n\u001b[1;32m    259\u001b[0m     \u001b[38;5;28;01mtry\u001b[39;00m:\n\u001b[0;32m--> 260\u001b[0m         \u001b[38;5;28;43mself\u001b[39;49m\u001b[38;5;241;43m.\u001b[39;49m\u001b[43m_efficient_write_many_data\u001b[49m\u001b[43m(\u001b[49m\u001b[43mdata\u001b[49m\u001b[43m)\u001b[49m\n\u001b[1;32m    261\u001b[0m     \u001b[38;5;28;01mexcept\u001b[39;00m:\n\u001b[1;32m    262\u001b[0m         \u001b[38;5;66;03m# Purge all data from database, then reraise\u001b[39;00m\n\u001b[1;32m    263\u001b[0m         \u001b[38;5;28mself\u001b[39m\u001b[38;5;241m.\u001b[39mdelete(warn\u001b[38;5;241m=\u001b[39m\u001b[38;5;28;01mFalse\u001b[39;00m)\n",
      "File \u001b[0;32m/opt/homebrew/Caskroom/miniforge/base/envs/premise_env/lib/python3.10/site-packages/bw2data/backends/peewee/database.py:193\u001b[0m, in \u001b[0;36mSQLiteBackend._efficient_write_many_data\u001b[0;34m(self, data, indices)\u001b[0m\n\u001b[1;32m    191\u001b[0m \u001b[38;5;28;01mtry\u001b[39;00m:\n\u001b[1;32m    192\u001b[0m     sqlite3_lci_db\u001b[38;5;241m.\u001b[39mdb\u001b[38;5;241m.\u001b[39mbegin()\n\u001b[0;32m--> 193\u001b[0m     \u001b[38;5;28;43mself\u001b[39;49m\u001b[38;5;241;43m.\u001b[39;49m\u001b[43mdelete\u001b[49m\u001b[43m(\u001b[49m\u001b[43mkeep_params\u001b[49m\u001b[38;5;241;43m=\u001b[39;49m\u001b[38;5;28;43;01mTrue\u001b[39;49;00m\u001b[43m,\u001b[49m\u001b[43m \u001b[49m\u001b[43mwarn\u001b[49m\u001b[38;5;241;43m=\u001b[39;49m\u001b[38;5;28;43;01mFalse\u001b[39;49;00m\u001b[43m)\u001b[49m\n\u001b[1;32m    194\u001b[0m     exchanges, activities \u001b[38;5;241m=\u001b[39m [], []\n\u001b[1;32m    196\u001b[0m     \u001b[38;5;28;01mif\u001b[39;00m \u001b[38;5;129;01mnot\u001b[39;00m \u001b[38;5;28mgetattr\u001b[39m(config, \u001b[38;5;124m\"\u001b[39m\u001b[38;5;124mis_test\u001b[39m\u001b[38;5;124m\"\u001b[39m, \u001b[38;5;28;01mNone\u001b[39;00m):\n",
      "File \u001b[0;32m/opt/homebrew/Caskroom/miniforge/base/envs/premise_env/lib/python3.10/site-packages/bw2data/project.py:358\u001b[0m, in \u001b[0;36mwritable_project\u001b[0;34m(wrapped, instance, args, kwargs)\u001b[0m\n\u001b[1;32m    356\u001b[0m \u001b[38;5;28;01mif\u001b[39;00m projects\u001b[38;5;241m.\u001b[39mread_only:\n\u001b[1;32m    357\u001b[0m     \u001b[38;5;28;01mraise\u001b[39;00m ReadOnlyProject(READ_ONLY_PROJECT)\n\u001b[0;32m--> 358\u001b[0m \u001b[38;5;28;01mreturn\u001b[39;00m \u001b[43mwrapped\u001b[49m\u001b[43m(\u001b[49m\u001b[38;5;241;43m*\u001b[39;49m\u001b[43margs\u001b[49m\u001b[43m,\u001b[49m\u001b[43m \u001b[49m\u001b[38;5;241;43m*\u001b[39;49m\u001b[38;5;241;43m*\u001b[39;49m\u001b[43mkwargs\u001b[49m\u001b[43m)\u001b[49m\n",
      "File \u001b[0;32m/opt/homebrew/Caskroom/miniforge/base/envs/premise_env/lib/python3.10/site-packages/bw2data/backends/peewee/database.py:349\u001b[0m, in \u001b[0;36mSQLiteBackend.delete\u001b[0;34m(self, keep_params, warn)\u001b[0m\n\u001b[1;32m    346\u001b[0m     DatabaseParameter\u001b[38;5;241m.\u001b[39mdelete()\u001b[38;5;241m.\u001b[39mwhere(DatabaseParameter\u001b[38;5;241m.\u001b[39mdatabase \u001b[38;5;241m==\u001b[39m \u001b[38;5;28mself\u001b[39m\u001b[38;5;241m.\u001b[39mname)\u001b[38;5;241m.\u001b[39mexecute()\n\u001b[1;32m    348\u001b[0m \u001b[38;5;28;01mif\u001b[39;00m vacuum_needed:\n\u001b[0;32m--> 349\u001b[0m     \u001b[43msqlite3_lci_db\u001b[49m\u001b[38;5;241;43m.\u001b[39;49m\u001b[43mvacuum\u001b[49m\u001b[43m(\u001b[49m\u001b[43m)\u001b[49m\n",
      "File \u001b[0;32m/opt/homebrew/Caskroom/miniforge/base/envs/premise_env/lib/python3.10/site-packages/bw2data/sqlite.py:57\u001b[0m, in \u001b[0;36mSubstitutableDatabase.vacuum\u001b[0;34m(self)\u001b[0m\n\u001b[1;32m     55\u001b[0m \u001b[38;5;28;01mdef\u001b[39;00m \u001b[38;5;21mvacuum\u001b[39m(\u001b[38;5;28mself\u001b[39m):\n\u001b[1;32m     56\u001b[0m     \u001b[38;5;28mprint\u001b[39m(\u001b[38;5;124m\"\u001b[39m\u001b[38;5;124mVacuuming database \u001b[39m\u001b[38;5;124m\"\u001b[39m)\n\u001b[0;32m---> 57\u001b[0m     \u001b[38;5;28;43mself\u001b[39;49m\u001b[38;5;241;43m.\u001b[39;49m\u001b[43mexecute_sql\u001b[49m\u001b[43m(\u001b[49m\u001b[38;5;124;43m'\u001b[39;49m\u001b[38;5;124;43mVACUUM;\u001b[39;49m\u001b[38;5;124;43m'\u001b[39;49m\u001b[43m)\u001b[49m\n",
      "File \u001b[0;32m/opt/homebrew/Caskroom/miniforge/base/envs/premise_env/lib/python3.10/site-packages/bw2data/sqlite.py:50\u001b[0m, in \u001b[0;36mSubstitutableDatabase.execute_sql\u001b[0;34m(self, *args, **kwargs)\u001b[0m\n\u001b[1;32m     49\u001b[0m \u001b[38;5;28;01mdef\u001b[39;00m \u001b[38;5;21mexecute_sql\u001b[39m(\u001b[38;5;28mself\u001b[39m, \u001b[38;5;241m*\u001b[39margs, \u001b[38;5;241m*\u001b[39m\u001b[38;5;241m*\u001b[39mkwargs):\n\u001b[0;32m---> 50\u001b[0m     \u001b[38;5;28;01mreturn\u001b[39;00m \u001b[38;5;28;43mself\u001b[39;49m\u001b[38;5;241;43m.\u001b[39;49m\u001b[43mdb\u001b[49m\u001b[38;5;241;43m.\u001b[39;49m\u001b[43mexecute_sql\u001b[49m\u001b[43m(\u001b[49m\u001b[38;5;241;43m*\u001b[39;49m\u001b[43margs\u001b[49m\u001b[43m,\u001b[49m\u001b[43m \u001b[49m\u001b[38;5;241;43m*\u001b[39;49m\u001b[38;5;241;43m*\u001b[39;49m\u001b[43mkwargs\u001b[49m\u001b[43m)\u001b[49m\n",
      "File \u001b[0;32m/opt/homebrew/Caskroom/miniforge/base/envs/premise_env/lib/python3.10/site-packages/peewee.py:3249\u001b[0m, in \u001b[0;36mDatabase.execute_sql\u001b[0;34m(self, sql, params, commit)\u001b[0m\n\u001b[1;32m   3247\u001b[0m     __deprecated__(\u001b[38;5;124m'\u001b[39m\u001b[38;5;124m\"\u001b[39m\u001b[38;5;124mcommit\u001b[39m\u001b[38;5;124m\"\u001b[39m\u001b[38;5;124m has been deprecated and is a no-op.\u001b[39m\u001b[38;5;124m'\u001b[39m)\n\u001b[1;32m   3248\u001b[0m logger\u001b[38;5;241m.\u001b[39mdebug((sql, params))\n\u001b[0;32m-> 3249\u001b[0m \u001b[38;5;28;01mwith\u001b[39;00m __exception_wrapper__:\n\u001b[1;32m   3250\u001b[0m     cursor \u001b[38;5;241m=\u001b[39m \u001b[38;5;28mself\u001b[39m\u001b[38;5;241m.\u001b[39mcursor()\n\u001b[1;32m   3251\u001b[0m     cursor\u001b[38;5;241m.\u001b[39mexecute(sql, params \u001b[38;5;129;01mor\u001b[39;00m ())\n",
      "File \u001b[0;32m/opt/homebrew/Caskroom/miniforge/base/envs/premise_env/lib/python3.10/site-packages/peewee.py:3019\u001b[0m, in \u001b[0;36mExceptionWrapper.__exit__\u001b[0;34m(self, exc_type, exc_value, traceback)\u001b[0m\n\u001b[1;32m   3017\u001b[0m new_type \u001b[38;5;241m=\u001b[39m \u001b[38;5;28mself\u001b[39m\u001b[38;5;241m.\u001b[39mexceptions[exc_type\u001b[38;5;241m.\u001b[39m\u001b[38;5;18m__name__\u001b[39m]\n\u001b[1;32m   3018\u001b[0m exc_args \u001b[38;5;241m=\u001b[39m exc_value\u001b[38;5;241m.\u001b[39margs\n\u001b[0;32m-> 3019\u001b[0m \u001b[43mreraise\u001b[49m\u001b[43m(\u001b[49m\u001b[43mnew_type\u001b[49m\u001b[43m,\u001b[49m\u001b[43m \u001b[49m\u001b[43mnew_type\u001b[49m\u001b[43m(\u001b[49m\u001b[43mexc_value\u001b[49m\u001b[43m,\u001b[49m\u001b[43m \u001b[49m\u001b[38;5;241;43m*\u001b[39;49m\u001b[43mexc_args\u001b[49m\u001b[43m)\u001b[49m\u001b[43m,\u001b[49m\u001b[43m \u001b[49m\u001b[43mtraceback\u001b[49m\u001b[43m)\u001b[49m\n",
      "File \u001b[0;32m/opt/homebrew/Caskroom/miniforge/base/envs/premise_env/lib/python3.10/site-packages/peewee.py:192\u001b[0m, in \u001b[0;36mreraise\u001b[0;34m(tp, value, tb)\u001b[0m\n\u001b[1;32m    190\u001b[0m \u001b[38;5;28;01mdef\u001b[39;00m \u001b[38;5;21mreraise\u001b[39m(tp, value, tb\u001b[38;5;241m=\u001b[39m\u001b[38;5;28;01mNone\u001b[39;00m):\n\u001b[1;32m    191\u001b[0m     \u001b[38;5;28;01mif\u001b[39;00m value\u001b[38;5;241m.\u001b[39m__traceback__ \u001b[38;5;129;01mis\u001b[39;00m \u001b[38;5;129;01mnot\u001b[39;00m tb:\n\u001b[0;32m--> 192\u001b[0m         \u001b[38;5;28;01mraise\u001b[39;00m value\u001b[38;5;241m.\u001b[39mwith_traceback(tb)\n\u001b[1;32m    193\u001b[0m     \u001b[38;5;28;01mraise\u001b[39;00m value\n",
      "File \u001b[0;32m/opt/homebrew/Caskroom/miniforge/base/envs/premise_env/lib/python3.10/site-packages/peewee.py:3251\u001b[0m, in \u001b[0;36mDatabase.execute_sql\u001b[0;34m(self, sql, params, commit)\u001b[0m\n\u001b[1;32m   3249\u001b[0m \u001b[38;5;28;01mwith\u001b[39;00m __exception_wrapper__:\n\u001b[1;32m   3250\u001b[0m     cursor \u001b[38;5;241m=\u001b[39m \u001b[38;5;28mself\u001b[39m\u001b[38;5;241m.\u001b[39mcursor()\n\u001b[0;32m-> 3251\u001b[0m     \u001b[43mcursor\u001b[49m\u001b[38;5;241;43m.\u001b[39;49m\u001b[43mexecute\u001b[49m\u001b[43m(\u001b[49m\u001b[43msql\u001b[49m\u001b[43m,\u001b[49m\u001b[43m \u001b[49m\u001b[43mparams\u001b[49m\u001b[43m \u001b[49m\u001b[38;5;129;43;01mor\u001b[39;49;00m\u001b[43m \u001b[49m\u001b[43m(\u001b[49m\u001b[43m)\u001b[49m\u001b[43m)\u001b[49m\n\u001b[1;32m   3252\u001b[0m \u001b[38;5;28;01mreturn\u001b[39;00m cursor\n",
      "\u001b[0;31mOperationalError\u001b[0m: cannot VACUUM from within a transaction"
     ]
    }
   ],
   "source": [
    "u.unfold(superstructure=True, name=\"test18\")"
   ]
  },
  {
   "cell_type": "code",
   "execution_count": 3,
   "id": "929ad8db-4123-47e4-aee3-0212533585b1",
   "metadata": {},
   "outputs": [
    {
     "ename": "NameError",
     "evalue": "name 'bw2io' is not defined",
     "output_type": "error",
     "traceback": [
      "\u001b[0;31m---------------------------------------------------------------------------\u001b[0m",
      "\u001b[0;31mNameError\u001b[0m                                 Traceback (most recent call last)",
      "Cell \u001b[0;32mIn[3], line 1\u001b[0m\n\u001b[0;32m----> 1\u001b[0m \u001b[43mbw2io\u001b[49m\n",
      "\u001b[0;31mNameError\u001b[0m: name 'bw2io' is not defined"
     ]
    }
   ],
   "source": [
    "import bw2io\n",
    "bw2io.create_default_biosphere3(overwrite=True)"
   ]
  },
  {
   "cell_type": "code",
   "execution_count": null,
   "id": "07ae347e-f6aa-4eab-be5d-3f1827c01759",
   "metadata": {},
   "outputs": [],
   "source": []
  },
  {
   "cell_type": "code",
   "execution_count": 16,
   "id": "90021696-37d1-481f-9cff-daa69efcdba5",
   "metadata": {
    "tags": []
   },
   "outputs": [
    {
     "name": "stdout",
     "output_type": "stream",
     "text": [
      "[[0.22982712]\n",
      " [0.20379977]\n",
      " [0.03638609]]\n"
     ]
    }
   ],
   "source": [
    "FU = [\n",
    "    {act: 1} for db in [\n",
    "        \"ecoinvent 3.9.1 cutoff\",\n",
    "        \"ecoinvent_cutoff_3.9_image_SSP2-Base_2050\",\n",
    "        \"ecoinvent_cutoff_3.9_remind_SSP2-PkBudg500_2050\"\n",
    "    ] for act in bw2data.Database(db) \n",
    "    if act[\"name\"]==\"transport, passenger car, electric\"\n",
    "    and act[\"location\"] == \"GLO\"\n",
    "]\n",
    "\n",
    "method = [('IPCC 2021', 'climate change: fossil', 'global warming potential (GWP100)')]\n",
    "\n",
    "bw2calc.multi_lca.calculation_setups[\"BEVs\"] = {\n",
    "    \"inv\": FU,\n",
    "    \"ia\": method\n",
    "}\n",
    "\n",
    "lca = bw2calc.MultiLCA(\"BEVs\")\n",
    "\n",
    "print(lca.results)"
   ]
  },
  {
   "cell_type": "code",
   "execution_count": 5,
   "id": "88b1cadf-63b0-4305-abd5-793a86b5619d",
   "metadata": {},
   "outputs": [
    {
     "name": "stdout",
     "output_type": "stream",
     "text": [
      "The data package contains the following scenarios:\n",
      "+-----+-------------------------------------------------------------------------------------+-----------------------------------------------------------------------------------------------------------------------------------------------------+\n",
      "| No. |                                       Scenario                                      |                                                                     Description                                                                     |\n",
      "+-----+-------------------------------------------------------------------------------------+-----------------------------------------------------------------------------------------------------------------------------------------------------+\n",
      "|  0  |     image - SSP2-Base - 2045 - ammonia-prospective-scenarios - Business As Usual    |     Prospective db, based on IMAGE, pathway SSP2-BASE, for the year 2045, and external scenario ammonia-prospective-scenarios Business As Usual.    |\n",
      "|  1  | image - SSP2-RCP26 - 2050 - ammonia-prospective-scenarios - Sustainable development | Prospective db, based on IMAGE, pathway SSP2-RCP26, for the year 2050, and external scenario ammonia-prospective-scenarios Sustainable development. |\n",
      "+-----+-------------------------------------------------------------------------------------+-----------------------------------------------------------------------------------------------------------------------------------------------------+\n",
      "\n",
      "To unfold all scenarios, `unfold()`.\n",
      "To unfold a specific scenario, `unfold(scenarios=[1,])`.\n"
     ]
    }
   ],
   "source": [
    "from unfold import Unfold\n",
    "import bw2data as bw\n",
    "bw.projects.set_current(\"ei39\")\n",
    "u = Unfold(\"export/datapackage/ammonia-prospective-scenarios.zip\")"
   ]
  },
  {
   "cell_type": "code",
   "execution_count": 7,
   "id": "049115a0-6e18-4a12-9d78-009075a2a44e",
   "metadata": {},
   "outputs": [
    {
     "name": "stdout",
     "output_type": "stream",
     "text": [
      "The following databases are necessary to unfold the scenarios:\n",
      "+-----+------------+--------------+---------+\n",
      "| No. | Dependency | System model | Version |\n",
      "+-----+------------+--------------+---------+\n",
      "|  1  | ecoinvent  |   cut-off    |   3.9   |\n",
      "|  2  | biosphere3 |              |         |\n",
      "+-----+------------+--------------+---------+\n",
      "\n",
      "The following databases are available in your project:\n",
      "+-----+------------------------------------------------------------------------------------+\n",
      "| No. |                                      Database                                      |\n",
      "+-----+------------------------------------------------------------------------------------+\n",
      "|  1  |                                     biosphere3                                     |\n",
      "|  2  |                               ecoinvent 3.9.1 cutoff                               |\n",
      "|  3  |                              ecoinvent EN15804 3.9.1                               |\n",
      "|  4  |                             remind - SSP2-Base - 2005                              |\n",
      "|  5  |                             remind - SSP2-Base - 2010                              |\n",
      "|  6  |                             remind - SSP2-Base - 2015                              |\n",
      "|  7  |                                 stationary battery                                 |\n",
      "|  8  |                                       test1                                        |\n",
      "|  9  |                                       test2                                        |\n",
      "|  10 |                                     test_super                                     |\n",
      "|  11 |                                        test                                        |\n",
      "|  12 |                                      PV 2035                                       |\n",
      "|  13 |                                      PV 2050                                       |\n",
      "|  14 |                                   PV 2050 - eff                                    |\n",
      "|  15 |                              PV 2050 - eff - lifetime                              |\n",
      "|  16 |                                    PV + storage                                    |\n",
      "|  17 |                           ecoinvent 3.9.1 consequential                            |\n",
      "|  18 |                 ecoinvent_consequential_3.9_remind_SSP1-Base_2050                  |\n",
      "|  19 |                 ecoinvent_consequential_3.9_remind_SSP2-Base_2050                  |\n",
      "|  20 |                  ecoinvent_consequential_3.9_remind_SSP2-NPi_2020                  |\n",
      "|  21 |                                   test_vanadium                                    |\n",
      "|  22 |                            vanadium-redox-flow-battery                             |\n",
      "|  23 |                                   test_storage1                                    |\n",
      "|  24 |                                   test_storage2                                    |\n",
      "|  25 |                                     test_tiam                                      |\n",
      "|  26 |                              image - SSP2-Base - 2020                              |\n",
      "|  27 |                              image - SSP2-Base - 2050                              |\n",
      "|  28 | image - SSP2-Base - 2020 - energy-perspective-2050-switzerland - Business As Usual |\n",
      "|  29 | image - SSP2-Base - 2050 - energy-perspective-2050-switzerland - Business As Usual |\n",
      "+-----+------------------------------------------------------------------------------------+\n",
      "\n"
     ]
    },
    {
     "name": "stdin",
     "output_type": "stream",
     "text": [
      "Indicate the database number for dependency 1:  2\n",
      "Indicate the database number for dependency 2:  1\n"
     ]
    },
    {
     "name": "stdout",
     "output_type": "stream",
     "text": [
      "Extracting additional inventories...\n",
      "Generating database for scenario image - SSP2-Base - 2020 - energy-perspective-2050-switzerland - Business As Usual...\n",
      "Generating database for scenario image - SSP2-Base - 2050 - energy-perspective-2050-switzerland - Business As Usual...\n",
      "Generating database for scenario image - SSP2-RCP26 - 2050 - energy-perspective-2050-switzerland - ZERO Basis...\n",
      "Writing database for scenario image - SSP2-Base - 2020 - energy-perspective-2050-switzerland - Business As Usual...\n",
      "Database image - SSP2-Base - 2020 - energy-perspective-2050-switzerland - Business As Usual already exists: it will be overwritten.\n"
     ]
    },
    {
     "name": "stderr",
     "output_type": "stream",
     "text": [
      "Writing activities to SQLite3 database:\n"
     ]
    },
    {
     "name": "stdout",
     "output_type": "stream",
     "text": [
      "Vacuuming database \n"
     ]
    },
    {
     "name": "stderr",
     "output_type": "stream",
     "text": [
      "0% [##############################] 100% | ETA: 00:00:00\n",
      "Total time elapsed: 00:00:34\n"
     ]
    },
    {
     "name": "stdout",
     "output_type": "stream",
     "text": [
      "Title: Writing activities to SQLite3 database:\n",
      "  Started: 10/06/2023 15:53:25\n",
      "  Finished: 10/06/2023 15:53:59\n",
      "  Total time elapsed: 00:00:34\n",
      "  CPU %: 91.80\n",
      "  Memory %: 21.79\n",
      "Created database: image - SSP2-Base - 2020 - energy-perspective-2050-switzerland - Business As Usual\n",
      "Writing database for scenario image - SSP2-Base - 2050 - energy-perspective-2050-switzerland - Business As Usual...\n",
      "Database image - SSP2-Base - 2050 - energy-perspective-2050-switzerland - Business As Usual already exists: it will be overwritten.\n"
     ]
    },
    {
     "name": "stderr",
     "output_type": "stream",
     "text": [
      "Writing activities to SQLite3 database:\n",
      "0% [##############################] 100% | ETA: 00:00:00\n",
      "Total time elapsed: 00:00:34\n"
     ]
    },
    {
     "name": "stdout",
     "output_type": "stream",
     "text": [
      "Title: Writing activities to SQLite3 database:\n",
      "  Started: 10/06/2023 15:56:19\n",
      "  Finished: 10/06/2023 15:56:53\n",
      "  Total time elapsed: 00:00:34\n",
      "  CPU %: 89.30\n",
      "  Memory %: 17.99\n",
      "Created database: image - SSP2-Base - 2050 - energy-perspective-2050-switzerland - Business As Usual\n",
      "Writing database for scenario image - SSP2-RCP26 - 2050 - energy-perspective-2050-switzerland - ZERO Basis...\n"
     ]
    },
    {
     "name": "stderr",
     "output_type": "stream",
     "text": [
      "Writing activities to SQLite3 database:\n",
      "0% [##############################] 100% | ETA: 00:00:00\n",
      "Total time elapsed: 00:00:29\n"
     ]
    },
    {
     "name": "stdout",
     "output_type": "stream",
     "text": [
      "Title: Writing activities to SQLite3 database:\n",
      "  Started: 10/06/2023 15:59:18\n",
      "  Finished: 10/06/2023 15:59:47\n",
      "  Total time elapsed: 00:00:29\n",
      "  CPU %: 93.90\n",
      "  Memory %: 21.80\n",
      "Created database: image - SSP2-RCP26 - 2050 - energy-perspective-2050-switzerland - ZERO Basis\n"
     ]
    }
   ],
   "source": [
    "u.unfold()"
   ]
  },
  {
   "cell_type": "code",
   "execution_count": 9,
   "id": "693cdde8-714b-402c-aabb-d5705b7ca316",
   "metadata": {},
   "outputs": [
    {
     "data": {
      "text/html": [
       "<div>\n",
       "<style scoped>\n",
       "    .dataframe tbody tr th:only-of-type {\n",
       "        vertical-align: middle;\n",
       "    }\n",
       "\n",
       "    .dataframe tbody tr th {\n",
       "        vertical-align: top;\n",
       "    }\n",
       "\n",
       "    .dataframe thead th {\n",
       "        text-align: right;\n",
       "    }\n",
       "</style>\n",
       "<table border=\"1\" class=\"dataframe\">\n",
       "  <thead>\n",
       "    <tr style=\"text-align: right;\">\n",
       "      <th></th>\n",
       "      <th>from activity name</th>\n",
       "      <th>from reference product</th>\n",
       "      <th>from location</th>\n",
       "      <th>from categories</th>\n",
       "      <th>from database</th>\n",
       "      <th>from key</th>\n",
       "      <th>from unit</th>\n",
       "      <th>to activity name</th>\n",
       "      <th>to reference product</th>\n",
       "      <th>to location</th>\n",
       "      <th>to categories</th>\n",
       "      <th>to unit</th>\n",
       "      <th>to database</th>\n",
       "      <th>to key</th>\n",
       "      <th>flow type</th>\n",
       "      <th>image - SSP2-Base - 2020</th>\n",
       "      <th>image - SSP2-Base - 2050</th>\n",
       "      <th>image - SSP2-RCP26 - 2050</th>\n",
       "    </tr>\n",
       "  </thead>\n",
       "  <tbody>\n",
       "    <tr>\n",
       "      <th>0</th>\n",
       "      <td>market for electricity, medium voltage, EP2050</td>\n",
       "      <td>electricity, medium voltage</td>\n",
       "      <td>CH</td>\n",
       "      <td>None</td>\n",
       "      <td>EP2050</td>\n",
       "      <td>(EP2050, ce56a01c14c04183bcec55a3611e9719)</td>\n",
       "      <td>kilowatt hour</td>\n",
       "      <td>board, hardwood, raw, kiln drying to u=20%</td>\n",
       "      <td>sawnwood, board, hardwood, raw, dried (u=20%)</td>\n",
       "      <td>CH</td>\n",
       "      <td>None</td>\n",
       "      <td>cubic meter</td>\n",
       "      <td>EP2050</td>\n",
       "      <td>(EP2050, be51eaa2eaa79dec828db2c880578d7d)</td>\n",
       "      <td>technosphere</td>\n",
       "      <td>20.0</td>\n",
       "      <td>20.0</td>\n",
       "      <td>20.0</td>\n",
       "    </tr>\n",
       "    <tr>\n",
       "      <th>1</th>\n",
       "      <td>market for electricity, medium voltage</td>\n",
       "      <td>electricity, medium voltage</td>\n",
       "      <td>CH</td>\n",
       "      <td>None</td>\n",
       "      <td>EP2050</td>\n",
       "      <td>(EP2050, e7b2b71e0566347d183999e89db7cb73)</td>\n",
       "      <td>kilowatt hour</td>\n",
       "      <td>board, hardwood, raw, kiln drying to u=20%</td>\n",
       "      <td>sawnwood, board, hardwood, raw, dried (u=20%)</td>\n",
       "      <td>CH</td>\n",
       "      <td>None</td>\n",
       "      <td>cubic meter</td>\n",
       "      <td>EP2050</td>\n",
       "      <td>(EP2050, be51eaa2eaa79dec828db2c880578d7d)</td>\n",
       "      <td>technosphere</td>\n",
       "      <td>0.0</td>\n",
       "      <td>0.0</td>\n",
       "      <td>0.0</td>\n",
       "    </tr>\n",
       "    <tr>\n",
       "      <th>2</th>\n",
       "      <td>market for electricity, low voltage</td>\n",
       "      <td>electricity, low voltage</td>\n",
       "      <td>CH</td>\n",
       "      <td>None</td>\n",
       "      <td>EP2050</td>\n",
       "      <td>(EP2050, 84e84322425544b25648d344b0f19ca8)</td>\n",
       "      <td>kilowatt hour</td>\n",
       "      <td>treatment of municipal solid waste, sanitary l...</td>\n",
       "      <td>municipal solid waste</td>\n",
       "      <td>CH</td>\n",
       "      <td>None</td>\n",
       "      <td>kilogram</td>\n",
       "      <td>EP2050</td>\n",
       "      <td>(EP2050, d016d0ef90aae9f87536349c005c15b8)</td>\n",
       "      <td>technosphere</td>\n",
       "      <td>0.0</td>\n",
       "      <td>0.0</td>\n",
       "      <td>0.0</td>\n",
       "    </tr>\n",
       "    <tr>\n",
       "      <th>3</th>\n",
       "      <td>market for electricity, low voltage, EP2050</td>\n",
       "      <td>electricity, low voltage</td>\n",
       "      <td>CH</td>\n",
       "      <td>None</td>\n",
       "      <td>EP2050</td>\n",
       "      <td>(EP2050, 02355aee560d46c1bed065f17b2f6c18)</td>\n",
       "      <td>kilowatt hour</td>\n",
       "      <td>treatment of municipal solid waste, sanitary l...</td>\n",
       "      <td>municipal solid waste</td>\n",
       "      <td>CH</td>\n",
       "      <td>None</td>\n",
       "      <td>kilogram</td>\n",
       "      <td>EP2050</td>\n",
       "      <td>(EP2050, d016d0ef90aae9f87536349c005c15b8)</td>\n",
       "      <td>technosphere</td>\n",
       "      <td>0.00864</td>\n",
       "      <td>0.00864</td>\n",
       "      <td>0.00864</td>\n",
       "    </tr>\n",
       "    <tr>\n",
       "      <th>4</th>\n",
       "      <td>market for electricity, low voltage</td>\n",
       "      <td>electricity, low voltage</td>\n",
       "      <td>CH</td>\n",
       "      <td>None</td>\n",
       "      <td>EP2050</td>\n",
       "      <td>(EP2050, 84e84322425544b25648d344b0f19ca8)</td>\n",
       "      <td>kilowatt hour</td>\n",
       "      <td>operation, housing system, cattle, loose</td>\n",
       "      <td>operation, housing system, cattle, loose, per ...</td>\n",
       "      <td>CH</td>\n",
       "      <td>None</td>\n",
       "      <td>unit</td>\n",
       "      <td>EP2050</td>\n",
       "      <td>(EP2050, d0ebe4d3aec3eec7b8052b8cfc7ab083)</td>\n",
       "      <td>technosphere</td>\n",
       "      <td>0.0</td>\n",
       "      <td>0.0</td>\n",
       "      <td>0.0</td>\n",
       "    </tr>\n",
       "    <tr>\n",
       "      <th>...</th>\n",
       "      <td>...</td>\n",
       "      <td>...</td>\n",
       "      <td>...</td>\n",
       "      <td>...</td>\n",
       "      <td>...</td>\n",
       "      <td>...</td>\n",
       "      <td>...</td>\n",
       "      <td>...</td>\n",
       "      <td>...</td>\n",
       "      <td>...</td>\n",
       "      <td>...</td>\n",
       "      <td>...</td>\n",
       "      <td>...</td>\n",
       "      <td>...</td>\n",
       "      <td>...</td>\n",
       "      <td>...</td>\n",
       "      <td>...</td>\n",
       "      <td>...</td>\n",
       "    </tr>\n",
       "    <tr>\n",
       "      <th>1533</th>\n",
       "      <td>market for electricity, medium voltage</td>\n",
       "      <td>electricity, medium voltage</td>\n",
       "      <td>CH</td>\n",
       "      <td>None</td>\n",
       "      <td>EP2050</td>\n",
       "      <td>(EP2050, e7b2b71e0566347d183999e89db7cb73)</td>\n",
       "      <td>kilowatt hour</td>\n",
       "      <td>planing, beam, hardwood, u=20%</td>\n",
       "      <td>sawnwood, beam, hardwood, dried (u=20%), planed</td>\n",
       "      <td>CH</td>\n",
       "      <td>None</td>\n",
       "      <td>cubic meter</td>\n",
       "      <td>EP2050</td>\n",
       "      <td>(EP2050, c99a403e7bba2348fd7c85cbd82821e4)</td>\n",
       "      <td>technosphere</td>\n",
       "      <td>0.0</td>\n",
       "      <td>0.0</td>\n",
       "      <td>0.0</td>\n",
       "    </tr>\n",
       "    <tr>\n",
       "      <th>1534</th>\n",
       "      <td>market for electricity, medium voltage, EP2050</td>\n",
       "      <td>electricity, medium voltage</td>\n",
       "      <td>CH</td>\n",
       "      <td>None</td>\n",
       "      <td>EP2050</td>\n",
       "      <td>(EP2050, ce56a01c14c04183bcec55a3611e9719)</td>\n",
       "      <td>kilowatt hour</td>\n",
       "      <td>lean concrete production, with cement CEM II/A</td>\n",
       "      <td>lean concrete</td>\n",
       "      <td>CH</td>\n",
       "      <td>None</td>\n",
       "      <td>cubic meter</td>\n",
       "      <td>EP2050</td>\n",
       "      <td>(EP2050, d479f417d5f4fd76fcc61a99ac4f042a)</td>\n",
       "      <td>technosphere</td>\n",
       "      <td>5.4</td>\n",
       "      <td>5.4</td>\n",
       "      <td>5.4</td>\n",
       "    </tr>\n",
       "    <tr>\n",
       "      <th>1535</th>\n",
       "      <td>market for electricity, medium voltage</td>\n",
       "      <td>electricity, medium voltage</td>\n",
       "      <td>CH</td>\n",
       "      <td>None</td>\n",
       "      <td>EP2050</td>\n",
       "      <td>(EP2050, e7b2b71e0566347d183999e89db7cb73)</td>\n",
       "      <td>kilowatt hour</td>\n",
       "      <td>lean concrete production, with cement CEM II/A</td>\n",
       "      <td>lean concrete</td>\n",
       "      <td>CH</td>\n",
       "      <td>None</td>\n",
       "      <td>cubic meter</td>\n",
       "      <td>EP2050</td>\n",
       "      <td>(EP2050, d479f417d5f4fd76fcc61a99ac4f042a)</td>\n",
       "      <td>technosphere</td>\n",
       "      <td>0.0</td>\n",
       "      <td>0.0</td>\n",
       "      <td>0.0</td>\n",
       "    </tr>\n",
       "    <tr>\n",
       "      <th>1536</th>\n",
       "      <td>market for electricity, medium voltage, EP2050</td>\n",
       "      <td>electricity, medium voltage</td>\n",
       "      <td>CH</td>\n",
       "      <td>None</td>\n",
       "      <td>EP2050</td>\n",
       "      <td>(EP2050, ce56a01c14c04183bcec55a3611e9719)</td>\n",
       "      <td>kilowatt hour</td>\n",
       "      <td>planing, board, softwood, u=10%</td>\n",
       "      <td>sawnwood, board, softwood, dried (u=10%), planed</td>\n",
       "      <td>CH</td>\n",
       "      <td>None</td>\n",
       "      <td>cubic meter</td>\n",
       "      <td>EP2050</td>\n",
       "      <td>(EP2050, a8322971739ae2739d6a2de00771a4d2)</td>\n",
       "      <td>technosphere</td>\n",
       "      <td>18.603361</td>\n",
       "      <td>18.603361</td>\n",
       "      <td>18.603361</td>\n",
       "    </tr>\n",
       "    <tr>\n",
       "      <th>1537</th>\n",
       "      <td>market for electricity, medium voltage</td>\n",
       "      <td>electricity, medium voltage</td>\n",
       "      <td>CH</td>\n",
       "      <td>None</td>\n",
       "      <td>EP2050</td>\n",
       "      <td>(EP2050, e7b2b71e0566347d183999e89db7cb73)</td>\n",
       "      <td>kilowatt hour</td>\n",
       "      <td>planing, board, softwood, u=10%</td>\n",
       "      <td>sawnwood, board, softwood, dried (u=10%), planed</td>\n",
       "      <td>CH</td>\n",
       "      <td>None</td>\n",
       "      <td>cubic meter</td>\n",
       "      <td>EP2050</td>\n",
       "      <td>(EP2050, a8322971739ae2739d6a2de00771a4d2)</td>\n",
       "      <td>technosphere</td>\n",
       "      <td>0.0</td>\n",
       "      <td>0.0</td>\n",
       "      <td>0.0</td>\n",
       "    </tr>\n",
       "  </tbody>\n",
       "</table>\n",
       "<p>1538 rows × 18 columns</p>\n",
       "</div>"
      ],
      "text/plain": [
       "                                  from activity name  \\\n",
       "0     market for electricity, medium voltage, EP2050   \n",
       "1             market for electricity, medium voltage   \n",
       "2                market for electricity, low voltage   \n",
       "3        market for electricity, low voltage, EP2050   \n",
       "4                market for electricity, low voltage   \n",
       "...                                              ...   \n",
       "1533          market for electricity, medium voltage   \n",
       "1534  market for electricity, medium voltage, EP2050   \n",
       "1535          market for electricity, medium voltage   \n",
       "1536  market for electricity, medium voltage, EP2050   \n",
       "1537          market for electricity, medium voltage   \n",
       "\n",
       "           from reference product from location from categories from database  \\\n",
       "0     electricity, medium voltage            CH            None        EP2050   \n",
       "1     electricity, medium voltage            CH            None        EP2050   \n",
       "2        electricity, low voltage            CH            None        EP2050   \n",
       "3        electricity, low voltage            CH            None        EP2050   \n",
       "4        electricity, low voltage            CH            None        EP2050   \n",
       "...                           ...           ...             ...           ...   \n",
       "1533  electricity, medium voltage            CH            None        EP2050   \n",
       "1534  electricity, medium voltage            CH            None        EP2050   \n",
       "1535  electricity, medium voltage            CH            None        EP2050   \n",
       "1536  electricity, medium voltage            CH            None        EP2050   \n",
       "1537  electricity, medium voltage            CH            None        EP2050   \n",
       "\n",
       "                                        from key      from unit  \\\n",
       "0     (EP2050, ce56a01c14c04183bcec55a3611e9719)  kilowatt hour   \n",
       "1     (EP2050, e7b2b71e0566347d183999e89db7cb73)  kilowatt hour   \n",
       "2     (EP2050, 84e84322425544b25648d344b0f19ca8)  kilowatt hour   \n",
       "3     (EP2050, 02355aee560d46c1bed065f17b2f6c18)  kilowatt hour   \n",
       "4     (EP2050, 84e84322425544b25648d344b0f19ca8)  kilowatt hour   \n",
       "...                                          ...            ...   \n",
       "1533  (EP2050, e7b2b71e0566347d183999e89db7cb73)  kilowatt hour   \n",
       "1534  (EP2050, ce56a01c14c04183bcec55a3611e9719)  kilowatt hour   \n",
       "1535  (EP2050, e7b2b71e0566347d183999e89db7cb73)  kilowatt hour   \n",
       "1536  (EP2050, ce56a01c14c04183bcec55a3611e9719)  kilowatt hour   \n",
       "1537  (EP2050, e7b2b71e0566347d183999e89db7cb73)  kilowatt hour   \n",
       "\n",
       "                                       to activity name  \\\n",
       "0            board, hardwood, raw, kiln drying to u=20%   \n",
       "1            board, hardwood, raw, kiln drying to u=20%   \n",
       "2     treatment of municipal solid waste, sanitary l...   \n",
       "3     treatment of municipal solid waste, sanitary l...   \n",
       "4              operation, housing system, cattle, loose   \n",
       "...                                                 ...   \n",
       "1533                     planing, beam, hardwood, u=20%   \n",
       "1534     lean concrete production, with cement CEM II/A   \n",
       "1535     lean concrete production, with cement CEM II/A   \n",
       "1536                    planing, board, softwood, u=10%   \n",
       "1537                    planing, board, softwood, u=10%   \n",
       "\n",
       "                                   to reference product to location  \\\n",
       "0         sawnwood, board, hardwood, raw, dried (u=20%)          CH   \n",
       "1         sawnwood, board, hardwood, raw, dried (u=20%)          CH   \n",
       "2                                 municipal solid waste          CH   \n",
       "3                                 municipal solid waste          CH   \n",
       "4     operation, housing system, cattle, loose, per ...          CH   \n",
       "...                                                 ...         ...   \n",
       "1533    sawnwood, beam, hardwood, dried (u=20%), planed          CH   \n",
       "1534                                      lean concrete          CH   \n",
       "1535                                      lean concrete          CH   \n",
       "1536   sawnwood, board, softwood, dried (u=10%), planed          CH   \n",
       "1537   sawnwood, board, softwood, dried (u=10%), planed          CH   \n",
       "\n",
       "     to categories      to unit to database  \\\n",
       "0             None  cubic meter      EP2050   \n",
       "1             None  cubic meter      EP2050   \n",
       "2             None     kilogram      EP2050   \n",
       "3             None     kilogram      EP2050   \n",
       "4             None         unit      EP2050   \n",
       "...            ...          ...         ...   \n",
       "1533          None  cubic meter      EP2050   \n",
       "1534          None  cubic meter      EP2050   \n",
       "1535          None  cubic meter      EP2050   \n",
       "1536          None  cubic meter      EP2050   \n",
       "1537          None  cubic meter      EP2050   \n",
       "\n",
       "                                          to key     flow type  \\\n",
       "0     (EP2050, be51eaa2eaa79dec828db2c880578d7d)  technosphere   \n",
       "1     (EP2050, be51eaa2eaa79dec828db2c880578d7d)  technosphere   \n",
       "2     (EP2050, d016d0ef90aae9f87536349c005c15b8)  technosphere   \n",
       "3     (EP2050, d016d0ef90aae9f87536349c005c15b8)  technosphere   \n",
       "4     (EP2050, d0ebe4d3aec3eec7b8052b8cfc7ab083)  technosphere   \n",
       "...                                          ...           ...   \n",
       "1533  (EP2050, c99a403e7bba2348fd7c85cbd82821e4)  technosphere   \n",
       "1534  (EP2050, d479f417d5f4fd76fcc61a99ac4f042a)  technosphere   \n",
       "1535  (EP2050, d479f417d5f4fd76fcc61a99ac4f042a)  technosphere   \n",
       "1536  (EP2050, a8322971739ae2739d6a2de00771a4d2)  technosphere   \n",
       "1537  (EP2050, a8322971739ae2739d6a2de00771a4d2)  technosphere   \n",
       "\n",
       "     image - SSP2-Base - 2020 image - SSP2-Base - 2050  \\\n",
       "0                        20.0                     20.0   \n",
       "1                         0.0                      0.0   \n",
       "2                         0.0                      0.0   \n",
       "3                     0.00864                  0.00864   \n",
       "4                         0.0                      0.0   \n",
       "...                       ...                      ...   \n",
       "1533                      0.0                      0.0   \n",
       "1534                      5.4                      5.4   \n",
       "1535                      0.0                      0.0   \n",
       "1536                18.603361                18.603361   \n",
       "1537                      0.0                      0.0   \n",
       "\n",
       "     image - SSP2-RCP26 - 2050  \n",
       "0                         20.0  \n",
       "1                          0.0  \n",
       "2                          0.0  \n",
       "3                      0.00864  \n",
       "4                          0.0  \n",
       "...                        ...  \n",
       "1533                       0.0  \n",
       "1534                       5.4  \n",
       "1535                       0.0  \n",
       "1536                 18.603361  \n",
       "1537                       0.0  \n",
       "\n",
       "[1538 rows x 18 columns]"
      ]
     },
     "execution_count": 9,
     "metadata": {},
     "output_type": "execute_result"
    }
   ],
   "source": [
    "u.scenario_df"
   ]
  },
  {
   "cell_type": "code",
   "execution_count": 5,
   "id": "52d22b82-282f-400a-84a8-a01163d93c1a",
   "metadata": {},
   "outputs": [
    {
     "name": "stdout",
     "output_type": "stream",
     "text": [
      "hydrogen production, gaseous, 30 bar, from PEM electrolysis, from grid electricity, domestic, EP2050 CH\n",
      "hydrogen production, gaseous, 30 bar, from PEM electrolysis, from grid electricity, imported, EP2050 RER\n",
      "diesel production, synthetic, Fischer Tropsch process, hydrogen from electrolysis, energy allocation, EP2050 CH\n",
      "syngas, RWGS, Production, for Fischer Tropsch process, hydrogen from electrolysis, EP2050 CH\n",
      "carbon monoxide, from RWGS, for Fischer Tropsch process, hydrogen from electrolysis, EP2050 CH\n",
      "carbon dioxide, captured from atmosphere, with a solvent-based direct air capture system, 1MtCO2, EP2050 CH\n",
      "diesel production, synthetic, from Fischer Tropsch process, hydrogen from electrolysis, energy allocation, at fuelling station, EP2050 CH\n",
      "methanol distillation, hydrogen from electrolysis, CO2 from DAC, EP2050 CH\n",
      "methanol synthesis, hydrogen from electrolysis, CO2 from DAC, EP2050 CH\n",
      "gasoline production, from methanol, hydrogen from electrolysis, CO2 from DAC, energy allocation, EP2050 CH\n",
      "gasoline production, synthetic, from methanol, hydrogen from electrolysis, CO2 from DAC, energy allocation, at fuelling station, EP2050 CH\n",
      "methane, synthetic, gaseous, 5 bar, from electrochemical methanation, at fuelling station, EP2050 CH\n",
      "methane, from electrochemical methanation, with carbon from atmospheric CO2 capture, EP2050 CH\n",
      "market for compressed gas, high pressure, EP2050 CH\n",
      "market for compressed gas, low pressure, EP2050 CH\n",
      "market for diesel, EP2050 CH\n",
      "market for petrol, EP2050 CH\n",
      "market for electricity, from neighboring countries, high voltage, EP2050 CH\n",
      "market for electricity, high voltage, EP2050 CH\n",
      "market for electricity, medium voltage, EP2050 CH\n",
      "market for electricity, low voltage, EP2050 CH\n"
     ]
    }
   ],
   "source": [
    "for ds in ndb.scenarios[0][\"database\"]:\n",
    "    if \"EP2050\" in ds[\"name\"]:\n",
    "        print(ds[\"name\"], ds[\"location\"])"
   ]
  },
  {
   "cell_type": "code",
   "execution_count": 1,
   "id": "eb193dc9-707a-473c-bee1-eaf4baac4965",
   "metadata": {},
   "outputs": [],
   "source": [
    "from premise import *"
   ]
  },
  {
   "cell_type": "code",
   "execution_count": 4,
   "id": "c7f22d48-9a55-45e5-81c4-f9abf21f1601",
   "metadata": {},
   "outputs": [
    {
     "data": {
      "text/plain": [
       "(1, 3, 9)"
      ]
     },
     "execution_count": 4,
     "metadata": {},
     "output_type": "execute_result"
    }
   ],
   "source": [
    "from premise import __version__\n",
    "__version__"
   ]
  },
  {
   "cell_type": "code",
   "execution_count": 6,
   "id": "331da075-2b54-4dd5-9433-51884b87e506",
   "metadata": {},
   "outputs": [
    {
     "name": "stdout",
     "output_type": "stream",
     "text": [
      "The data package contains the following scenarios:\n",
      "+-----+--------------------------+-----------------------------------------------------------------------+\n",
      "| No. |         Scenario         |                              Description                              |\n",
      "+-----+--------------------------+-----------------------------------------------------------------------+\n",
      "|  0  | image - SSP2-Base - 2030 | Prospective db, based on IMAGE, pathway SSP2-BASE, for the year 2030. |\n",
      "|  1  | image - SSP2-Base - 2050 | Prospective db, based on IMAGE, pathway SSP2-BASE, for the year 2050. |\n",
      "+-----+--------------------------+-----------------------------------------------------------------------+\n",
      "\n",
      "To unfold all scenarios, `unfold()`.\n",
      "To unfold a specific scenario, `unfold(scenarios=[1,])`.\n"
     ]
    }
   ],
   "source": [
    "from unfold import Unfold\n",
    "u = Unfold(\"export/datapackage/test.zip\")"
   ]
  },
  {
   "cell_type": "code",
   "execution_count": 7,
   "id": "2d21b4de-6b09-45fe-8780-2a7c8cb40cdc",
   "metadata": {},
   "outputs": [
    {
     "name": "stdout",
     "output_type": "stream",
     "text": [
      "The following databases are necessary to unfold the scenarios:\n",
      "+-----+------------+--------------+---------+\n",
      "| No. | Dependency | System model | Version |\n",
      "+-----+------------+--------------+---------+\n",
      "|  1  | ecoinvent  |   cut-off    |   3.8   |\n",
      "|  2  | biosphere3 |              |         |\n",
      "+-----+------------+--------------+---------+\n",
      "\n",
      "The following databases are available in your project:\n",
      "+-----+----------------------------------------------------+\n",
      "| No. |                      Database                      |\n",
      "+-----+----------------------------------------------------+\n",
      "|  1  |                     biosphere3                     |\n",
      "|  2  |                ecoinvent 3.8 cutoff                |\n",
      "|  3  |                   carculator_lci                   |\n",
      "|  4  |                carculator_lci_truck                |\n",
      "|  5  |            carculator import20.11.2021             |\n",
      "|  6  |                 nuclear fuel chain                 |\n",
      "|  7  |                nuclear electricity                 |\n",
      "|  8  |              nuclear electricity SMR               |\n",
      "|  9  |                    wave_energy                     |\n",
      "|  10 |                      RTE_2020                      |\n",
      "|  11 |                      RTE_2030                      |\n",
      "|  12 |                      RTE_2040                      |\n",
      "|  13 |                      RTE_2050                      |\n",
      "|  14 |                    HDfuels_2035                    |\n",
      "|  15 |                HDfuels_2035_EU_only                |\n",
      "|  16 |                      carina_1                      |\n",
      "|  17 |              premise_remind_ssp2_base              |\n",
      "|  18 |                      amelie_1                      |\n",
      "|  19 |                      amelie_2                      |\n",
      "|  20 |                       841_db                       |\n",
      "|  21 |           ecoinvent_remind_SSP2-NPi_2005           |\n",
      "|  22 |           ecoinvent_remind_SSP2-NPi_2010           |\n",
      "|  23 |           ecoinvent_remind_SSP2-NPi_2020           |\n",
      "|  24 |           ecoinvent_remind_SSP2-NPi_2030           |\n",
      "|  25 |           ecoinvent_remind_SSP2-NPi_2040           |\n",
      "|  26 |           ecoinvent_remind_SSP2-NPi_2050           |\n",
      "|  27 |       ecoinvent_remind_SSP2-PkBudg1150_2030        |\n",
      "|  28 |       ecoinvent_remind_SSP2-PkBudg1150_2040        |\n",
      "|  29 |       ecoinvent_remind_SSP2-PkBudg1150_2050        |\n",
      "|  30 |        ecoinvent_remind_SSP2-PkBudg500_2030        |\n",
      "|  31 |        ecoinvent_remind_SSP2-PkBudg500_2040        |\n",
      "|  32 |        ecoinvent_remind_SSP2-PkBudg500_2050        |\n",
      "|  33 |                  Mobility example                  |\n",
      "|  34 |                      forwast                       |\n",
      "|  35 |                    Car db_ei_36                    |\n",
      "|  36 |                      metals1                       |\n",
      "|  37 |                 carculator_lci_car                 |\n",
      "|  38 |                     metals_ref                     |\n",
      "|  39 |                 direct air capture                 |\n",
      "|  40 |              image - SSP2-Base - 2030              |\n",
      "|  41 |             image - SSP2-RCP19 - 2030              |\n",
      "|  42 |                      test_dac                      |\n",
      "|  43 |                     test_dac2                      |\n",
      "|  44 |                 reference_database                 |\n",
      "|  45 |                        db A                        |\n",
      "|  46 |                        db B                        |\n",
      "|  47 |                        test                        |\n",
      "|  48 |            ecoinvent 3.8 consequential             |\n",
      "|  49 |   ecoinvent_consequential_image_SSP2-RCP26_2050    |\n",
      "|  50 |   ecoinvent_consequential_remind_SSP2-Base_2050    |\n",
      "|  51 |   ecoinvent_attributional_remind_SSP2-Base_2005    |\n",
      "|  52 | ecoinvent_attributional_remind_SSP2-PkBudg500_2100 |\n",
      "|  53 |   ecoinvent_attributional_image_SSP2-RCP26_2050    |\n",
      "|  54 |   ecoinvent_attributional_remind_SSP1-Base_2005    |\n",
      "|  55 |   ecoinvent_attributional_remind_SSP5-Base_2050    |\n",
      "|  56 |     ecoinvent_cutoff_3.8_image_SSP2-Base_2040      |\n",
      "|  57 |     ecoinvent_cutoff_3.8_image_SSP2-Base_2025      |\n",
      "|  58 |     ecoinvent_cutoff_3.8_image_SSP2-Base_2035      |\n",
      "|  59 |     ecoinvent_cutoff_3.8_image_SSP2-RCP26_2045     |\n",
      "|  60 |     ecoinvent_cutoff_3.8_image_SSP2-Base_2030      |\n",
      "|  61 |     ecoinvent_cutoff_3.8_image_SSP2-Base_2050      |\n",
      "|  62 |                super_db_2023-04-06                 |\n",
      "|  63 |           remind - SSP2-PkBudg500 - 2095           |\n",
      "|  64 |           remind - SSP2-PkBudg500 - 2100           |\n",
      "+-----+----------------------------------------------------+\n",
      "\n"
     ]
    },
    {
     "name": "stdin",
     "output_type": "stream",
     "text": [
      "Indicate the database number for dependency 1:  2\n",
      "Indicate the database number for dependency 2:  1\n"
     ]
    },
    {
     "name": "stdout",
     "output_type": "stream",
     "text": [
      "Getting activity data\n"
     ]
    },
    {
     "name": "stderr",
     "output_type": "stream",
     "text": [
      "100%|██████████████████████████████████| 19565/19565 [00:00<00:00, 24145.91it/s]\n"
     ]
    },
    {
     "name": "stdout",
     "output_type": "stream",
     "text": [
      "Adding exchange data to activities\n"
     ]
    },
    {
     "name": "stderr",
     "output_type": "stream",
     "text": [
      "100%|████████████████████████████████| 629959/629959 [00:57<00:00, 10946.84it/s]\n"
     ]
    },
    {
     "name": "stdout",
     "output_type": "stream",
     "text": [
      "Filling out exchange data\n"
     ]
    },
    {
     "name": "stderr",
     "output_type": "stream",
     "text": [
      "100%|███████████████████████████████████| 19565/19565 [00:03<00:00, 5379.50it/s]\n"
     ]
    },
    {
     "name": "stdout",
     "output_type": "stream",
     "text": [
      "Getting activity data\n"
     ]
    },
    {
     "name": "stderr",
     "output_type": "stream",
     "text": [
      "100%|███████████████████████████████████| 4451/4451 [00:00<00:00, 259740.48it/s]\n"
     ]
    },
    {
     "name": "stdout",
     "output_type": "stream",
     "text": [
      "Adding exchange data to activities\n"
     ]
    },
    {
     "name": "stderr",
     "output_type": "stream",
     "text": [
      "0it [00:00, ?it/s]\n"
     ]
    },
    {
     "name": "stdout",
     "output_type": "stream",
     "text": [
      "Filling out exchange data\n"
     ]
    },
    {
     "name": "stderr",
     "output_type": "stream",
     "text": [
      "100%|██████████████████████████████████| 4451/4451 [00:00<00:00, 4936236.67it/s]\n"
     ]
    },
    {
     "name": "stdout",
     "output_type": "stream",
     "text": [
      "Extracting additional inventories...\n",
      "Generating database for scenario image - SSP2-Base - 2030...\n",
      "Generating database for scenario image - SSP2-Base - 2050...\n",
      "Writing database for scenario image - SSP2-Base - 2030...\n",
      "Database image - SSP2-Base - 2030 already exists: it will be overwritten.\n",
      "Vacuuming database \n"
     ]
    },
    {
     "name": "stderr",
     "output_type": "stream",
     "text": [
      "Writing activities to SQLite3 database:\n",
      "0% [##############################] 100% | ETA: 00:00:00\n",
      "Total time elapsed: 00:00:58\n"
     ]
    },
    {
     "name": "stdout",
     "output_type": "stream",
     "text": [
      "Title: Writing activities to SQLite3 database:\n",
      "  Started: 04/07/2023 22:18:35\n",
      "  Finished: 04/07/2023 22:19:34\n",
      "  Total time elapsed: 00:00:58\n",
      "  CPU %: 83.20\n",
      "  Memory %: 35.54\n",
      "Created database: image - SSP2-Base - 2030\n",
      "Writing database for scenario image - SSP2-Base - 2050...\n"
     ]
    },
    {
     "name": "stderr",
     "output_type": "stream",
     "text": [
      "Writing activities to SQLite3 database:\n",
      "0% [##############################] 100% | ETA: 00:00:00\n",
      "Total time elapsed: 00:01:16\n"
     ]
    },
    {
     "name": "stdout",
     "output_type": "stream",
     "text": [
      "Title: Writing activities to SQLite3 database:\n",
      "  Started: 04/07/2023 22:22:55\n",
      "  Finished: 04/07/2023 22:24:11\n",
      "  Total time elapsed: 00:01:16\n",
      "  CPU %: 77.60\n",
      "  Memory %: 28.68\n",
      "Created database: image - SSP2-Base - 2050\n"
     ]
    }
   ],
   "source": [
    "u.unfold()"
   ]
  },
  {
   "cell_type": "code",
   "execution_count": 9,
   "id": "43402278-3fd9-40ad-bb8b-faa2479ed92b",
   "metadata": {},
   "outputs": [
    {
     "data": {
      "text/plain": [
       "'/Users/romain/GitHub/unfold/unfold/__init__.py'"
      ]
     },
     "execution_count": 9,
     "metadata": {},
     "output_type": "execute_result"
    }
   ],
   "source": [
    "import unfold\n",
    "unfold.__file__"
   ]
  },
  {
   "cell_type": "code",
   "execution_count": 9,
   "id": "94f8e607-03f3-4ac3-952d-b15a59e0b5f0",
   "metadata": {},
   "outputs": [
    {
     "name": "stdout",
     "output_type": "stream",
     "text": [
      "('Sulfur hexafluoride', None, None, ('air',))\n",
      "('Sulfur hexafluoride', None, None, ('air', 'lower stratosphere + upper troposphere'))\n",
      "('Sulfur hexafluoride', None, None, ('air', 'urban air close to ground'))\n",
      "('Sulfur hexafluoride', None, None, ('air', 'low population density, long-term'))\n",
      "('Sulfur hexafluoride', None, None, ('air', 'non-urban air or from high stacks'))\n"
     ]
    }
   ],
   "source": [
    "for i in u.dependency_mapping:\n",
    "    if i[0] == \"Sulfur hexafluoride\":\n",
    "        print(i)"
   ]
  },
  {
   "cell_type": "code",
   "execution_count": 12,
   "id": "7ab0ccdb-478b-42a5-949d-764f17cd9106",
   "metadata": {},
   "outputs": [
    {
     "name": "stdout",
     "output_type": "stream",
     "text": [
      "market for electricity, low voltage, EP2050 {'name': 'Sulfur hexafluoride', 'product': None, 'unit': 'kilogram', 'location': None, 'categories': ('air', 'unspecified'), 'type': 'biosphere', 'amount': 3.0729701952723535e-09, 'input': None}\n",
      "market for electricity, high voltage, EP2050 {'name': 'Dinitrogen monoxide', 'product': None, 'unit': 'kilogram', 'location': None, 'categories': ('air', 'unspecified'), 'type': 'biosphere', 'amount': 5e-06, 'input': None}\n",
      "market for electricity, high voltage, EP2050 {'name': 'Ozone', 'product': None, 'unit': 'kilogram', 'location': None, 'categories': ('air', 'unspecified'), 'type': 'biosphere', 'amount': 4.16e-06, 'input': None}\n",
      "market for electricity, medium voltage, EP2050 {'name': 'Sulfur hexafluoride', 'product': None, 'unit': 'kilogram', 'location': None, 'categories': ('air', 'unspecified'), 'type': 'biosphere', 'amount': 5.7754010695187156e-08, 'input': None}\n",
      "market for electricity, from neighboring countries, high voltage, EP2050 {'name': 'Dinitrogen monoxide', 'product': None, 'unit': 'kilogram', 'location': None, 'categories': ('air', 'unspecified'), 'type': 'biosphere', 'amount': 5e-06, 'input': None}\n",
      "market for electricity, from neighboring countries, high voltage, EP2050 {'name': 'Ozone', 'product': None, 'unit': 'kilogram', 'location': None, 'categories': ('air', 'unspecified'), 'type': 'biosphere', 'amount': 4.16e-06, 'input': None}\n"
     ]
    }
   ],
   "source": [
    "for ds in u.databases_to_export[\"image - SSP2-Base - 2030\"]:\n",
    "    for e in ds[\"exchanges\"]:\n",
    "        if e.get(\"categories\") == ('air', 'unspecified'):\n",
    "            print(ds[\"name\"], e)"
   ]
  },
  {
   "cell_type": "code",
   "execution_count": 7,
   "id": "6ba265ad-940b-4f11-8025-7b5428d61507",
   "metadata": {},
   "outputs": [],
   "source": [
    "d = {\"a\": \"c\", \"b\": \"d\"}"
   ]
  },
  {
   "cell_type": "code",
   "execution_count": 10,
   "id": "5f43c98d-9d9e-4801-bcba-2e68f7e2ff9b",
   "metadata": {},
   "outputs": [
    {
     "data": {
      "text/plain": [
       "{'c': 0, 'd': 1}"
      ]
     },
     "execution_count": 10,
     "metadata": {},
     "output_type": "execute_result"
    }
   ],
   "source": [
    "{v: k for k, v in enumerate(d.values())}"
   ]
  },
  {
   "cell_type": "code",
   "execution_count": 4,
   "id": "757fe761-3a0a-4dc9-b7ff-ec39879f12de",
   "metadata": {},
   "outputs": [
    {
     "data": {
      "text/plain": [
       "[(0, 'a'), (1, 'b')]"
      ]
     },
     "execution_count": 4,
     "metadata": {},
     "output_type": "execute_result"
    }
   ],
   "source": [
    "list(enumerate(d))"
   ]
  },
  {
   "cell_type": "code",
   "execution_count": 6,
   "id": "e905081f-adb6-404f-8c6f-37f845fcd3dd",
   "metadata": {},
   "outputs": [
    {
     "data": {
      "text/plain": [
       "[(0, 'a'), (1, 'b')]"
      ]
     },
     "execution_count": 6,
     "metadata": {},
     "output_type": "execute_result"
    }
   ],
   "source": [
    "list(enumerate(d.keys()))"
   ]
  },
  {
   "cell_type": "code",
   "execution_count": 2,
   "id": "58642a48-253d-490a-a87f-d1af50e7fb81",
   "metadata": {},
   "outputs": [
    {
     "name": "stdout",
     "output_type": "stream",
     "text": [
      "premise requires the name of your biosphere database.\n",
      "Please enter the name of your biosphere database as it appears in your project.\n",
      "Databases dictionary with 67 objects, including:\n",
      "\t2020\n",
      "\t2050\n",
      "\t2050 10\n",
      "\t2050 11\n",
      "\t2050 12\n",
      "\t2050 13\n",
      "\t2050 14\n",
      "\t2050 15\n",
      "\t2050 16\n",
      "\t2050 17\n",
      "Use `list(this object)` to get the complete list.\n"
     ]
    },
    {
     "name": "stdin",
     "output_type": "stream",
     "text": [
      "Name of the biosphere database:  ecoinvent-3.10-biosphere\n"
     ]
    },
    {
     "name": "stdout",
     "output_type": "stream",
     "text": [
      "premise v.(2, 1, 1)\n",
      "+------------------------------------------------------------------+\n",
      "| Warning                                                          |\n",
      "+------------------------------------------------------------------+\n",
      "| Because some of the scenarios can yield LCI databases            |\n",
      "| containing net negative emission technologies (NET),             |\n",
      "| it is advised to account for biogenic CO2 flows when calculating |\n",
      "| Global Warming potential indicators.                             |\n",
      "| `premise_gwp` provides characterization factors for such flows.  |\n",
      "| It also provides factors for hydrogen emissions to air.          |\n",
      "|                                                                  |\n",
      "| Within your bw2 project:                                         |\n",
      "| from premise_gwp import add_premise_gwp                          |\n",
      "| add_premise_gwp()                                                |\n",
      "+------------------------------------------------------------------+\n",
      "+--------------------------------+----------------------------------+\n",
      "| Utils functions                | Description                      |\n",
      "+--------------------------------+----------------------------------+\n",
      "| clear_cache()                  | Clears the cache folder. Useful  |\n",
      "|                                | when updating `premise`or        |\n",
      "|                                | encountering issues with         |\n",
      "|                                | inventories.                     |\n",
      "+--------------------------------+----------------------------------+\n",
      "| get_regions_definition(model)  | Retrieves the list of countries  |\n",
      "|                                | for each region of the model.    |\n",
      "+--------------------------------+----------------------------------+\n",
      "| ndb.NewDatabase(...)           | Generates a summary of the most  |\n",
      "| ndb.generate_scenario_report() | important scenarios' variables.  |\n",
      "+--------------------------------+----------------------------------+\n",
      "Keep uncertainty data?\n",
      "NewDatabase(..., keep_source_db_uncertainty=True), keep_imports_uncertainty=True)\n",
      "\n",
      "Hide these messages?\n",
      "NewDatabase(..., quiet=True)\n",
      "- Extracting source database\n",
      "- Extracting inventories\n",
      "- Fetching IAM data\n",
      "Done!\n"
     ]
    },
    {
     "name": "stderr",
     "output_type": "stream",
     "text": [
      "Processing scenarios:   0%|                     | 0/2 [00:00<?, ?it/s]"
     ]
    },
    {
     "name": "stdout",
     "output_type": "stream",
     "text": [
      "Warning: No activities found for CON_LOSSHF -- revise mapping.\n",
      "Warning: No activities found for PP_ENGGAS -- revise mapping.\n",
      "Warning: No activities found for PP_MOD_CCSBIOG -- revise mapping.\n",
      "Warning: No activities found for PP_MOD_CCSHC1 -- revise mapping.\n",
      "Warning: No activities found for TRA_OT_AIRGSL -- revise mapping.\n",
      "Extracted 1 worksheets in 0.00 seconds\n",
      "The following datasets will be duplicated:\n",
      "+----------------------------------------------------+----------------------------------------------------+\n",
      "|                        Name                        |                 Reference product                  |\n",
      "+----------------------------------------------------+----------------------------------------------------+\n",
      "| electricity production, hydro, reservoir, alpine r |             electricity, high voltage              |\n",
      "| electricity production, nuclear, boiling water rea |             electricity, high voltage              |\n",
      "| treatment of municipal solid waste, municipal inci | electricity, for reuse in municipal waste incinera |\n",
      "| electricity production, natural gas, combined cycl |             electricity, high voltage              |\n",
      "|        electricity production, photovoltaic        |              electricity, low voltage              |\n",
      "| heat and power co-generation, wood chips, 6667 kW  |             electricity, high voltage              |\n",
      "+----------------------------------------------------+----------------------------------------------------+\n"
     ]
    },
    {
     "name": "stderr",
     "output_type": "stream",
     "text": [
      "Processing scenarios:  50%|██████▌      | 1/2 [01:24<01:24, 84.69s/it]"
     ]
    },
    {
     "name": "stdout",
     "output_type": "stream",
     "text": [
      "Warning: No activities found for CON_LOSSHF -- revise mapping.\n",
      "Warning: No activities found for PP_ENGGAS -- revise mapping.\n",
      "Warning: No activities found for PP_MOD_CCSBIOG -- revise mapping.\n",
      "Warning: No activities found for PP_MOD_CCSHC1 -- revise mapping.\n",
      "Warning: No activities found for TRA_OT_AIRGSL -- revise mapping.\n",
      "Extracted 1 worksheets in 0.00 seconds\n",
      "The following datasets will be duplicated:\n",
      "+----------------------------------------------------+----------------------------------------------------+\n",
      "|                        Name                        |                 Reference product                  |\n",
      "+----------------------------------------------------+----------------------------------------------------+\n",
      "| electricity production, hydro, reservoir, alpine r |             electricity, high voltage              |\n",
      "| electricity production, nuclear, boiling water rea |             electricity, high voltage              |\n",
      "| treatment of municipal solid waste, municipal inci | electricity, for reuse in municipal waste incinera |\n",
      "| electricity production, natural gas, combined cycl |             electricity, high voltage              |\n",
      "|        electricity production, photovoltaic        |              electricity, low voltage              |\n",
      "| heat and power co-generation, wood chips, 6667 kW  |             electricity, high voltage              |\n",
      "+----------------------------------------------------+----------------------------------------------------+\n",
      "No suppliers found for market for hydrogen, liquid, EP2050 in CH. No market created. This may cause linking issue.\n"
     ]
    },
    {
     "name": "stderr",
     "output_type": "stream",
     "text": [
      "Processing scenarios: 100%|█████████████| 2/2 [02:50<00:00, 85.05s/it]"
     ]
    },
    {
     "name": "stdout",
     "output_type": "stream",
     "text": [
      "Done!\n",
      "\n"
     ]
    },
    {
     "name": "stderr",
     "output_type": "stream",
     "text": [
      "\n"
     ]
    }
   ],
   "source": [
    "import bw2data\n",
    "from premise import *\n",
    "from datapackage import Package\n",
    "\n",
    "bw2data.projects.set_current(\"ei310\")\n",
    "fp = r\"https://raw.githubusercontent.com/premise-community-scenarios/energy-perspective-2050-switzerland/main/datapackage.json\"\n",
    "ep2050 = Package(fp)\n",
    "\n",
    "scenarios = [\n",
    "{\"model\":\"image\", \"pathway\":\"SSP2-Base\", \"year\":2050, \"external scenarios\": [{\"scenario\": \"Business As Usual\", \"data\": ep2050}]},\n",
    "{\"model\":\"image\", \"pathway\":\"SSP2-RCP26\", \"year\":2030, \"external scenarios\": [{\"scenario\": \"ZERO Basis\", \"data\": ep2050}]},\n",
    "]\n",
    "ndb = NewDatabase(\n",
    "scenarios = scenarios,\n",
    "source_db=\"ecoinvent-3.10-cutoff\",\n",
    "source_version=\"3.10\",\n",
    "key='tUePmX_S5B8ieZkkM7WUU2CnO8SmShwmAeWK9x2rTFo=',\n",
    "#use_multiprocessing=True\n",
    ")\n",
    "\n",
    "ndb.update()\n",
    "\n"
   ]
  },
  {
   "cell_type": "code",
   "execution_count": 3,
   "id": "cb834b94-3ed9-4427-927a-b12778f16cf9",
   "metadata": {},
   "outputs": [
    {
     "name": "stdout",
     "output_type": "stream",
     "text": [
      "Write new database(s) to Brightway.\n",
      "Running all checks...\n",
      "Minor anomalies found: check the change report.\n"
     ]
    },
    {
     "name": "stderr",
     "output_type": "stream",
     "text": [
      "Writing activities to SQLite3 database:\n",
      "0% [##############################] 100% | ETA: 00:00:00\n",
      "Total time elapsed: 00:00:29\n"
     ]
    },
    {
     "name": "stdout",
     "output_type": "stream",
     "text": [
      "Title: Writing activities to SQLite3 database:\n",
      "  Started: 08/27/2024 10:36:00\n",
      "  Finished: 08/27/2024 10:36:29\n",
      "  Total time elapsed: 00:00:29\n",
      "  CPU %: 93.50\n",
      "  Memory %: 21.48\n",
      "Created database: ei_cutoff_3.10_image_SSP2-Base_2050_Business As Usual 2024-08-27\n",
      "Running all checks...\n",
      "Minor anomalies found: check the change report.\n"
     ]
    },
    {
     "name": "stderr",
     "output_type": "stream",
     "text": [
      "Writing activities to SQLite3 database:\n",
      "0% [##############################] 100% | ETA: 00:00:00\n",
      "Total time elapsed: 00:00:28\n"
     ]
    },
    {
     "name": "stdout",
     "output_type": "stream",
     "text": [
      "Title: Writing activities to SQLite3 database:\n",
      "  Started: 08/27/2024 10:44:03\n",
      "  Finished: 08/27/2024 10:44:31\n",
      "  Total time elapsed: 00:00:28\n",
      "  CPU %: 94.00\n",
      "  Memory %: 23.06\n",
      "Created database: ei_cutoff_3.10_image_SSP2-RCP26_2030_ZERO Basis 2024-08-27\n",
      "Generate scenario report.\n",
      "Report saved under /Users/romain/Github/premise/dev/export/scenario_report.\n",
      "Generate change report.\n",
      "Report saved under /Users/romain/Github/premise/dev.\n"
     ]
    }
   ],
   "source": [
    "ndb.write_db_to_brightway()"
   ]
  },
  {
   "cell_type": "code",
   "execution_count": null,
   "id": "ca649354-1413-4a6e-b0b0-8f6a35429568",
   "metadata": {},
   "outputs": [],
   "source": []
  }
 ],
 "metadata": {
  "kernelspec": {
   "display_name": "Python 3 (ipykernel)",
   "language": "python",
   "name": "python3"
  },
  "language_info": {
   "codemirror_mode": {
    "name": "ipython",
    "version": 3
   },
   "file_extension": ".py",
   "mimetype": "text/x-python",
   "name": "python",
   "nbconvert_exporter": "python",
   "pygments_lexer": "ipython3",
   "version": "3.11.12"
  }
 },
 "nbformat": 4,
 "nbformat_minor": 5
}
